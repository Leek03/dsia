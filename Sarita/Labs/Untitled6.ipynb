{
 "cells": [
  {
   "cell_type": "code",
   "execution_count": 3,
   "metadata": {},
   "outputs": [
    {
     "name": "stdout",
     "output_type": "stream",
     "text": [
      "People in Space:  3\n",
      "Alexey Ovchinin  in  ISS\n",
      "Nick Hague  in  ISS\n",
      "Christina Koch  in  ISS\n",
      "Latitude:  -51.0042\n",
      "Longitude:  46.7661\n"
     ]
    },
    {
     "ename": "TurtleGraphicsError",
     "evalue": "Bad arguments for register_shape.\nUse  help(register_shape)",
     "output_type": "error",
     "traceback": [
      "\u001b[1;31m---------------------------------------------------------------------------\u001b[0m",
      "\u001b[1;31mTurtleGraphicsError\u001b[0m                       Traceback (most recent call last)",
      "\u001b[1;32m<ipython-input-3-a8b0ea10b43e>\u001b[0m in \u001b[0;36m<module>\u001b[1;34m\u001b[0m\n\u001b[0;32m     30\u001b[0m \u001b[0mscreen\u001b[0m\u001b[1;33m.\u001b[0m\u001b[0msetup\u001b[0m\u001b[1;33m(\u001b[0m\u001b[1;36m720\u001b[0m\u001b[1;33m,\u001b[0m \u001b[1;36m360\u001b[0m\u001b[1;33m)\u001b[0m\u001b[1;33m\u001b[0m\u001b[1;33m\u001b[0m\u001b[0m\n\u001b[0;32m     31\u001b[0m \u001b[0mscreen\u001b[0m\u001b[1;33m.\u001b[0m\u001b[0msetworldcoordinates\u001b[0m\u001b[1;33m(\u001b[0m\u001b[1;33m-\u001b[0m\u001b[1;36m180\u001b[0m\u001b[1;33m,\u001b[0m \u001b[1;33m-\u001b[0m\u001b[1;36m90\u001b[0m\u001b[1;33m,\u001b[0m \u001b[1;36m180\u001b[0m\u001b[1;33m,\u001b[0m \u001b[1;36m90\u001b[0m\u001b[1;33m)\u001b[0m\u001b[1;33m\u001b[0m\u001b[1;33m\u001b[0m\u001b[0m\n\u001b[1;32m---> 32\u001b[1;33m \u001b[0mscreen\u001b[0m\u001b[1;33m.\u001b[0m\u001b[0mregister_shape\u001b[0m\u001b[1;33m(\u001b[0m\u001b[1;34m'iss.png'\u001b[0m\u001b[1;33m)\u001b[0m\u001b[1;33m\u001b[0m\u001b[1;33m\u001b[0m\u001b[0m\n\u001b[0m\u001b[0;32m     33\u001b[0m \u001b[1;33m\u001b[0m\u001b[0m\n\u001b[0;32m     34\u001b[0m \u001b[1;31m# image source:\u001b[0m\u001b[1;33m\u001b[0m\u001b[1;33m\u001b[0m\u001b[1;33m\u001b[0m\u001b[0m\n",
      "\u001b[1;32m~\\Anaconda3\\lib\\turtle.py\u001b[0m in \u001b[0;36mregister_shape\u001b[1;34m(self, name, shape)\u001b[0m\n\u001b[0;32m   1133\u001b[0m                 \u001b[0mshape\u001b[0m \u001b[1;33m=\u001b[0m \u001b[0mShape\u001b[0m\u001b[1;33m(\u001b[0m\u001b[1;34m\"image\"\u001b[0m\u001b[1;33m,\u001b[0m \u001b[0mself\u001b[0m\u001b[1;33m.\u001b[0m\u001b[0m_image\u001b[0m\u001b[1;33m(\u001b[0m\u001b[0mname\u001b[0m\u001b[1;33m)\u001b[0m\u001b[1;33m)\u001b[0m\u001b[1;33m\u001b[0m\u001b[1;33m\u001b[0m\u001b[0m\n\u001b[0;32m   1134\u001b[0m             \u001b[1;32melse\u001b[0m\u001b[1;33m:\u001b[0m\u001b[1;33m\u001b[0m\u001b[1;33m\u001b[0m\u001b[0m\n\u001b[1;32m-> 1135\u001b[1;33m                 raise TurtleGraphicsError(\"Bad arguments for register_shape.\\n\"\n\u001b[0m\u001b[0;32m   1136\u001b[0m                                           + \"Use  help(register_shape)\" )\n\u001b[0;32m   1137\u001b[0m         \u001b[1;32melif\u001b[0m \u001b[0misinstance\u001b[0m\u001b[1;33m(\u001b[0m\u001b[0mshape\u001b[0m\u001b[1;33m,\u001b[0m \u001b[0mtuple\u001b[0m\u001b[1;33m)\u001b[0m\u001b[1;33m:\u001b[0m\u001b[1;33m\u001b[0m\u001b[1;33m\u001b[0m\u001b[0m\n",
      "\u001b[1;31mTurtleGraphicsError\u001b[0m: Bad arguments for register_shape.\nUse  help(register_shape)"
     ]
    }
   ],
   "source": [
    "import json\n",
    "import urllib.request\n",
    "import turtle\n",
    "import time\n",
    "\n",
    "# http://open-notify.org/Open-Notify-API/\n",
    "url = 'http://api.open-notify.org/astros.json'\n",
    "response = urllib.request.urlopen(url)\n",
    "result = json.loads(response.read())\n",
    "\n",
    "print('People in Space: ', result['number'])\n",
    "\n",
    "people = result['people']\n",
    "\n",
    "for p in people:\n",
    "  print(p['name'], ' in ', p['craft'])\n",
    "\n",
    "\n",
    "url = 'http://api.open-notify.org/iss-now.json'\n",
    "response = urllib.request.urlopen(url)\n",
    "result = json.loads(response.read())\n",
    "\n",
    "location = result['iss_position']\n",
    "lat = location['latitude']\n",
    "lon = location['longitude']\n",
    "print('Latitude: ', lat)\n",
    "print('Longitude: ', lon)\n",
    "\n",
    "screen = turtle.Screen()\n",
    "screen.setup(720, 360)\n",
    "screen.setworldcoordinates(-180, -90, 180, 90)\n",
    "screen.register_shape('iss.png')\n",
    "\n",
    "# image source: \n",
    "# map.jpg: http://visibleearth.nasa.gov/view.php?id=57752 Credit: NASA\n",
    "screen.bgpic('map.jpg')\n",
    "\n",
    "iss = turtle.Turtle()\n",
    "iss.shape('iss.png')\n",
    "iss.setheading(90)\n",
    "iss.penup()\n",
    "\n",
    "iss.goto(lon, lat)\n",
    "\n",
    "# When Does ISS next pass over me?\n",
    "#london\n",
    "#lat = 51.5072\n",
    "#lon = 0.1275\n",
    "\n",
    "# Tokyo\n",
    "#lat = 35.689487\n",
    "#lon = 139.691706\n",
    "\n",
    "# Space Center, Houston\n",
    "lat = 29.5502\n",
    "lon = -95.097\n",
    "\n",
    "location = turtle.Turtle()\n",
    "location.penup()\n",
    "location.color('yellow')\n",
    "location.goto(lon,lat)\n",
    "location.dot(5)\n",
    "location.hideturtle()\n",
    "\n",
    "url = 'http://api.open-notify.org/iss-pass.json?lat=' + str(lat) + '&lon=' + str(lon)\n",
    "response = urllib.request.urlopen(url)\n",
    "result = json.loads(response.read())\n",
    "\n",
    "#print result\n",
    "over = result['response'][1]['risetime']\n",
    "location.write(time.ctime(over))"
   ]
  },
  {
   "cell_type": "code",
   "execution_count": null,
   "metadata": {},
   "outputs": [],
   "source": []
  }
 ],
 "metadata": {
  "kernelspec": {
   "display_name": "Python 3",
   "language": "python",
   "name": "python3"
  },
  "language_info": {
   "codemirror_mode": {
    "name": "ipython",
    "version": 3
   },
   "file_extension": ".py",
   "mimetype": "text/x-python",
   "name": "python",
   "nbconvert_exporter": "python",
   "pygments_lexer": "ipython3",
   "version": "3.7.3"
  }
 },
 "nbformat": 4,
 "nbformat_minor": 2
}
