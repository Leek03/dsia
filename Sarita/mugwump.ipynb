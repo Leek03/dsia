{
 "cells": [
  {
   "cell_type": "code",
   "execution_count": 7,
   "metadata": {},
   "outputs": [
    {
     "name": "stdout",
     "output_type": "stream",
     "text": [
      "[[0. 0. 0. 0. 0.]\n",
      " [0. 0. 0. 0. 0.]\n",
      " [0. 0. 0. 0. 0.]\n",
      " [0. 0. 0. 0. 0.]\n",
      " [0. 0. 0. 0. 0.]]\n"
     ]
    }
   ],
   "source": [
    "import numpy as np\n",
    "A=np.zeros([5, 5])\n",
    "print(A)"
   ]
  },
  {
   "cell_type": "code",
   "execution_count": 8,
   "metadata": {},
   "outputs": [],
   "source": [
    "result_x=np.random.randint(0,4)\n",
    "result_y=np.random.randint(0,4)"
   ]
  },
  {
   "cell_type": "code",
   "execution_count": 9,
   "metadata": {},
   "outputs": [],
   "source": [
    "def success(x,y):\n",
    "    if x==result_x:\n",
    "        y==result_y\n",
    "        return 1\n",
    "\n"
   ]
  },
  {
   "cell_type": "code",
   "execution_count": 10,
   "metadata": {},
   "outputs": [],
   "source": [
    "def out_of_range(x,y):\n",
    "    if x<0 or x>4 or y<0 or y>4:\n",
    "        return 1"
   ]
  },
  {
   "cell_type": "code",
   "execution_count": 11,
   "metadata": {},
   "outputs": [],
   "source": [
    "def distance(x,y):\n",
    "    distance = sqrt((result_x-x)^2 + (result_y-y)^2)\n",
    "    return distance"
   ]
  },
  {
   "cell_type": "code",
   "execution_count": 12,
   "metadata": {},
   "outputs": [
    {
     "name": "stdout",
     "output_type": "stream",
     "text": [
      "one integer between 0 to 41\n",
      "one integer between 0 to 41\n",
      "one integer between 0 to 42\n",
      "one integer between 0 to 42\n",
      "one integer between 0 to 43\n",
      "one integer between 0 to 43\n",
      "sucessful\n"
     ]
    }
   ],
   "source": [
    "for i in range(5):\n",
    "    x_in = int(input(\"one integer between 0 to 4\"))\n",
    "    y_in = int(input(\"one integer between 0 to 4\"))\n",
    "    if success(x_in,y_in):\n",
    "        print('sucessful')\n",
    "        break\n",
    "        \n",
    "    \n",
    "\n"
   ]
  },
  {
   "cell_type": "code",
   "execution_count": 27,
   "metadata": {},
   "outputs": [
    {
     "ename": "SyntaxError",
     "evalue": "invalid syntax (<ipython-input-27-3fc35eff900f>, line 1)",
     "output_type": "error",
     "traceback": [
      "\u001b[1;36m  File \u001b[1;32m\"<ipython-input-27-3fc35eff900f>\"\u001b[1;36m, line \u001b[1;32m1\u001b[0m\n\u001b[1;33m    elif(out_of_range(x_in,y_in)):\u001b[0m\n\u001b[1;37m       ^\u001b[0m\n\u001b[1;31mSyntaxError\u001b[0m\u001b[1;31m:\u001b[0m invalid syntax\n"
     ]
    }
   ],
   "source": [
    "elif(out_of_range(x_in,y_in)):\n",
    "    print('error')\n",
    "        "
   ]
  },
  {
   "cell_type": "code",
   "execution_count": 22,
   "metadata": {},
   "outputs": [
    {
     "ename": "SyntaxError",
     "evalue": "invalid syntax (<ipython-input-22-214730d35b4b>, line 1)",
     "output_type": "error",
     "traceback": [
      "\u001b[1;36m  File \u001b[1;32m\"<ipython-input-22-214730d35b4b>\"\u001b[1;36m, line \u001b[1;32m1\u001b[0m\n\u001b[1;33m    elif Mugwump_home[x_in][y_in] ==\"X\":\u001b[0m\n\u001b[1;37m       ^\u001b[0m\n\u001b[1;31mSyntaxError\u001b[0m\u001b[1;31m:\u001b[0m invalid syntax\n"
     ]
    }
   ],
   "source": [
    "elif    Mugwump_home[x_in][y_in] ==\"X\":\n",
    "        print(\"Be carefull!you input repetitive numbers\")\n",
    "else:\n",
    "        Mugwump_home[x_in][y_in]=\"X\"\n",
    "        print(\"keep trying,your distance to goal is: \" , distance(x_in,y_in))\n",
    "        print(Mugwump_home)  \n",
    "print(\"Game Over!!you tried \" + str(i+1) + \" times! The Goal was:  \" +   str(Mugwump_x) +\"  \" + str(Mugwump_y)) "
   ]
  },
  {
   "cell_type": "code",
   "execution_count": null,
   "metadata": {},
   "outputs": [
    {
     "name": "stdout",
     "output_type": "stream",
     "text": [
      "input one integer between 0 to 4:-1\n",
      "input one integer between 0 to 4:6\n",
      "Ooopss!! your number is out of borders,try again\n",
      "input one integer between 0 to 4:1\n",
      "input one integer between 0 to 4:3\n",
      "keep trying,your distance to goal is:  1.0\n",
      "[[0, 0, 0, 0, 0], [0, 0, 0, 'X', 0], [0, 0, 0, 0, 0], [0, 0, 0, 0, 0], [0, 0, 0, 0, 0]]\n",
      "input one integer between 0 to 4:2\n",
      "input one integer between 0 to 4:2\n",
      "keep trying,your distance to goal is:  1.0\n",
      "[[0, 0, 0, 0, 0], [0, 0, 0, 'X', 0], [0, 0, 'X', 0, 0], [0, 0, 0, 0, 0], [0, 0, 0, 0, 0]]\n",
      "input one integer between 0 to 4:2\n",
      "input one integer between 0 to 4:2\n",
      "Be carefull!you input repetitive numbers\n"
     ]
    }
   ],
   "source": [
    "import random\n",
    "import math\n",
    "import numpy as np\n",
    "\n",
    "Mugwump_x = random.randint(0,4)\n",
    "Mugwump_y = random.randint(0,4)\n",
    "Mugwump_home =[[0,0,0,0,0],\n",
    "              [0,0,0,0,0],\n",
    "              [0,0,0,0,0],\n",
    "              [0,0,0,0,0],\n",
    "              [0,0,0,0,0]]\n",
    "\n",
    "def win(x,y):\n",
    "    if x == Mugwump_x and y== Mugwump_y:\n",
    "        return 1\n",
    "    \n",
    "def out_of_range(x,y): \n",
    "    if x<0 or x>4 or y<0 or y>4:\n",
    "        return 1\n",
    "    \n",
    "def distance(x,y):\n",
    "    dist = np.sqrt((Mugwump_x-x)**2+(Mugwump_y-y)**2)\n",
    "    return dist\n",
    "\n",
    "for i in range(5):\n",
    "    x_in = int(input(\"input one integer between 0 to 4:\"))\n",
    "    y_in = int(input(\"input one integer between 0 to 4:\"))\n",
    "    if win(x_in,y_in):\n",
    "        print(\"well done,you win!!!\")\n",
    "        break\n",
    "    elif out_of_range(x_in,y_in):\n",
    "        print(\"Ooopss!! your number is out of borders,try again\")\n",
    "    elif Mugwump_home[x_in][y_in] ==\"X\":\n",
    "        print(\"Be carefull!you input repetitive numbers\")\n",
    "    else:\n",
    "        Mugwump_home[x_in][y_in]=\"X\"\n",
    "        print(\"keep trying,your distance to goal is: \" , distance(x_in,y_in))\n",
    "        print(Mugwump_home)  \n",
    "print(\"Game Over!!you tried \" + str(i+1) + \" times! The Goal was:  \" +   str(Mugwump_x) +\"  \" + str(Mugwump_y))       "
   ]
  },
  {
   "cell_type": "code",
   "execution_count": null,
   "metadata": {},
   "outputs": [],
   "source": []
  }
 ],
 "metadata": {
  "kernelspec": {
   "display_name": "Python 3",
   "language": "python",
   "name": "python3"
  },
  "language_info": {
   "codemirror_mode": {
    "name": "ipython",
    "version": 3
   },
   "file_extension": ".py",
   "mimetype": "text/x-python",
   "name": "python",
   "nbconvert_exporter": "python",
   "pygments_lexer": "ipython3",
   "version": "3.7.3"
  }
 },
 "nbformat": 4,
 "nbformat_minor": 2
}
