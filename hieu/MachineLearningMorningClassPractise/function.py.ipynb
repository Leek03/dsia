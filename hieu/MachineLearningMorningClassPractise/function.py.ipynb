{
 "cells": [
  {
   "cell_type": "code",
   "execution_count": null,
   "metadata": {},
   "outputs": [],
   "source": [
    "import numpy as np\n",
    "import pandas as pd\n",
    "import seaborn as sns\n",
    "#import plotly\n",
    "#%matplotlib inline\n",
    "#import plotly.plotly as py\n",
    "import matplotlib.pyplot as plt\n",
    "from matplotlib import style\n",
    "\n",
    "from sklearn.model_selection import train_test_split\n",
    "\n",
    "def plotFeatures(col_list,title):\n",
    "    plt.figure(figsize=(10, 14))\n",
    "    i = 0\n",
    "    print(len(col_list))\n",
    "    for col in col_list:\n",
    "        i+=1\n",
    "        plt.subplot(8,2,i)\n",
    "        plt.plot(df[col],df[\"cnt\"],marker='.',linestyle='none')\n",
    "        plt.title(title % (col))   \n",
    "        plt.tight_layout()"
   ]
  }
 ],
 "metadata": {
  "kernelspec": {
   "display_name": "Python 3",
   "language": "python",
   "name": "python3"
  },
  "language_info": {
   "codemirror_mode": {
    "name": "ipython",
    "version": 3
   },
   "file_extension": ".py",
   "mimetype": "text/x-python",
   "name": "python",
   "nbconvert_exporter": "python",
   "pygments_lexer": "ipython3",
   "version": "3.7.3"
  }
 },
 "nbformat": 4,
 "nbformat_minor": 2
}
