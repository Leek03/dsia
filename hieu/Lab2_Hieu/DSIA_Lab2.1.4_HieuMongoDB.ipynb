{
 "cells": [
  {
   "cell_type": "markdown",
   "metadata": {
    "colab_type": "text",
    "id": "s8RoBuCkB_bW"
   },
   "source": [
    "![alt text](https://i.imgur.com/1WaY7aA.png)"
   ]
  },
  {
   "cell_type": "markdown",
   "metadata": {
    "colab_type": "text",
    "id": "cW5QEs4PB_bY"
   },
   "source": [
    "# Lab 2.1.4 \n",
    "# *Python with MongoDB*"
   ]
  },
  {
   "cell_type": "markdown",
   "metadata": {
    "colab_type": "text",
    "id": "VjUpP-kFB_bb"
   },
   "source": [
    "## Introduction to PyMongo"
   ]
  },
  {
   "cell_type": "code",
   "execution_count": 1,
   "metadata": {},
   "outputs": [],
   "source": [
    "# !pip install --ignore-installed pymongo"
   ]
  },
  {
   "cell_type": "code",
   "execution_count": 34,
   "metadata": {
    "colab": {},
    "colab_type": "code",
    "id": "56Yk9yQtB_bd"
   },
   "outputs": [
    {
     "name": "stdout",
     "output_type": "stream",
     "text": [
      "Mongo version 3.8.0\n"
     ]
    }
   ],
   "source": [
    "from IPython.core.display import display, HTML\n",
    "import pymongo\n",
    "from pymongo import MongoClient\n",
    "print ('Mongo version ' + pymongo.__version__)"
   ]
  },
  {
   "cell_type": "markdown",
   "metadata": {
    "colab_type": "text",
    "id": "RYmFPZ0rB_bk"
   },
   "source": [
    "Start the mongod server (if it isn't lready running) by executing  \n",
    "`mongod`  \n",
    "at the command prompt. "
   ]
  },
  {
   "cell_type": "code",
   "execution_count": 35,
   "metadata": {
    "colab": {},
    "colab_type": "code",
    "id": "NiYV2_VIB_bm"
   },
   "outputs": [],
   "source": [
    "client = MongoClient('localhost', 27017)"
   ]
  },
  {
   "cell_type": "markdown",
   "metadata": {},
   "source": [
    "What would this do?"
   ]
  },
  {
   "cell_type": "code",
   "execution_count": 38,
   "metadata": {
    "colab": {},
    "colab_type": "code",
    "id": "bT3ZRAlUB_bs"
   },
   "outputs": [],
   "source": [
    "db = client.test\n",
    "hieu = db.people\n",
    "hieu.drop()\n",
    "#Drops collection\"people\" from database \"test\"\n",
    "#meaning to delete the test form collections"
   ]
  },
  {
   "cell_type": "markdown",
   "metadata": {},
   "source": [
    "What would this do?"
   ]
  },
  {
   "cell_type": "code",
   "execution_count": 5,
   "metadata": {
    "colab": {},
    "colab_type": "code",
    "id": "q2XzfF-GB_b4",
    "scrolled": true
   },
   "outputs": [
    {
     "data": {
      "text/plain": [
       "Collection(Database(MongoClient(host=['localhost:27017'], document_class=dict, tz_aware=False, connect=True), 'test'), 'drop')"
      ]
     },
     "execution_count": 5,
     "metadata": {},
     "output_type": "execute_result"
    }
   ],
   "source": [
    "client.test.drop\n",
    "#delect = drops the database test"
   ]
  },
  {
   "cell_type": "code",
   "execution_count": 6,
   "metadata": {},
   "outputs": [
    {
     "data": {
      "text/plain": [
       "Collection(Database(MongoClient(host=['localhost:27017'], document_class=dict, tz_aware=False, connect=True), 'mydatabase'), 'drop')"
      ]
     },
     "execution_count": 6,
     "metadata": {},
     "output_type": "execute_result"
    }
   ],
   "source": [
    "# Drop database \"mydatabase\" before creating it below: \n",
    "client.mydatabase.drop"
   ]
  },
  {
   "cell_type": "markdown",
   "metadata": {
    "colab_type": "text",
    "id": "QThQjc41B_bx"
   },
   "source": [
    "Create a new database:"
   ]
  },
  {
   "cell_type": "code",
   "execution_count": 7,
   "metadata": {
    "colab": {},
    "colab_type": "code",
    "id": "ZXEhlduTB_bz"
   },
   "outputs": [],
   "source": [
    "mydb = client[\"mydatabase\"]"
   ]
  },
  {
   "cell_type": "markdown",
   "metadata": {
    "colab_type": "text",
    "id": "pGnGorm6B_b3"
   },
   "source": [
    "Confirm that the database exists ... \n",
    "\n",
    "- list all databases in your system:"
   ]
  },
  {
   "cell_type": "code",
   "execution_count": 8,
   "metadata": {},
   "outputs": [
    {
     "name": "stdout",
     "output_type": "stream",
     "text": [
      "['admin', 'config', 'local', 'mydatabase']\n"
     ]
    }
   ],
   "source": [
    "print(client.list_database_names())"
   ]
  },
  {
   "cell_type": "markdown",
   "metadata": {
    "colab_type": "text",
    "id": "D5FP0EKIB_b7"
   },
   "source": [
    "- check for the database by name:"
   ]
  },
  {
   "cell_type": "code",
   "execution_count": 39,
   "metadata": {
    "colab": {},
    "colab_type": "code",
    "id": "6b7stC2jB_b8"
   },
   "outputs": [
    {
     "name": "stdout",
     "output_type": "stream",
     "text": [
      "The database does exist.\n"
     ]
    }
   ],
   "source": [
    "dblist = client.list_database_names()\n",
    "if \"mydatabase\" in dblist:\n",
    "    print(\"The database does exist.\")"
   ]
  },
  {
   "cell_type": "markdown",
   "metadata": {
    "colab_type": "text",
    "id": "h9QhJxWIB_b_"
   },
   "source": [
    "The new database was not found because mongodb is lazy: the db won't get created until data has been written to it!"
   ]
  },
  {
   "cell_type": "markdown",
   "metadata": {
    "colab_type": "text",
    "id": "HvVFPpgRB_cA"
   },
   "source": [
    "Create a collection called \"customers\" (with object name `mycol`):"
   ]
  },
  {
   "cell_type": "code",
   "execution_count": 10,
   "metadata": {
    "colab": {},
    "colab_type": "code",
    "id": "cR-l1YrYB_cB"
   },
   "outputs": [],
   "source": [
    "mycol = mydb[\"customers\"]"
   ]
  },
  {
   "cell_type": "markdown",
   "metadata": {
    "colab_type": "text",
    "id": "TRIbsM6VB_cE"
   },
   "source": [
    "Create a document (i.e. a dictionary) with two name:value items \n",
    "(\"name\" = \"John\", and \"address\" = \"Highway 37\") and insert \n",
    "it into the \"customers\" collection: "
   ]
  },
  {
   "cell_type": "code",
   "execution_count": 11,
   "metadata": {
    "colab": {},
    "colab_type": "code",
    "id": "KI1lYOBvB_cF"
   },
   "outputs": [],
   "source": [
    "my_d = {\"name\":\"John\", \"address\":\"Highway 37\"}\n",
    "insert_c = mycol.insert_one(my_d)"
   ]
  },
  {
   "cell_type": "markdown",
   "metadata": {
    "colab_type": "text",
    "id": "_EEiTjd_B_cH"
   },
   "source": [
    "Now test for the existence of the database:"
   ]
  },
  {
   "cell_type": "code",
   "execution_count": 12,
   "metadata": {
    "colab": {},
    "colab_type": "code",
    "id": "JsPz--uIB_cI"
   },
   "outputs": [
    {
     "name": "stdout",
     "output_type": "stream",
     "text": [
      "['admin', 'config', 'local', 'mydatabase']\n"
     ]
    }
   ],
   "source": [
    "print(client.list_database_names())"
   ]
  },
  {
   "cell_type": "markdown",
   "metadata": {
    "colab_type": "text",
    "id": "WvgAowAdB_cK"
   },
   "source": [
    "List all collections in the database:"
   ]
  },
  {
   "cell_type": "code",
   "execution_count": 13,
   "metadata": {
    "colab": {},
    "colab_type": "code",
    "id": "JMl-YlPNB_cK"
   },
   "outputs": [
    {
     "name": "stdout",
     "output_type": "stream",
     "text": [
      "['customers']\n"
     ]
    }
   ],
   "source": [
    "print(mydb.list_collection_names())"
   ]
  },
  {
   "cell_type": "markdown",
   "metadata": {
    "colab_type": "text",
    "id": "ZBpH0Q9dB_cM"
   },
   "source": [
    "Insert another record in the \"customers\" collection \n",
    "(\"name\" = \"Peter\", \"address\" = \"Lowstreet 27\") \n",
    "and return the value of the _id field:"
   ]
  },
  {
   "cell_type": "code",
   "execution_count": 14,
   "metadata": {
    "colab": {},
    "colab_type": "code",
    "id": "LzSwoIlIB_cN"
   },
   "outputs": [
    {
     "name": "stdout",
     "output_type": "stream",
     "text": [
      "5d2d5fef8fe67b849af7a3bd\n"
     ]
    }
   ],
   "source": [
    "add_id = {\"name\":\"Peter\", \"address\":\"Lowstreet 27\"}\n",
    "insert_c = mycol.insert_one(add_id)\n",
    "print(insert_c.inserted_id)"
   ]
  },
  {
   "cell_type": "markdown",
   "metadata": {
    "colab_type": "text",
    "id": "g81P900vB_cP"
   },
   "source": [
    "Given the list of dicts below, insert multiple documents into \n",
    "the collection using the insert_many() method:"
   ]
  },
  {
   "cell_type": "code",
   "execution_count": 15,
   "metadata": {
    "colab": {},
    "colab_type": "code",
    "id": "E7fwTxbcB_cP"
   },
   "outputs": [],
   "source": [
    "mylist = [\n",
    "  { \"name\": \"Amy\", \"address\": \"Apple st 652\"},\n",
    "  { \"name\": \"Hannah\", \"address\": \"Mountain 21\"},\n",
    "  { \"name\": \"Michael\", \"address\": \"Valley 345\"},\n",
    "  { \"name\": \"Sandy\", \"address\": \"Ocean blvd 2\"},\n",
    "  { \"name\": \"Betty\", \"address\": \"Green Grass 1\"},\n",
    "  { \"name\": \"Richard\", \"address\": \"Sky st 331\"},\n",
    "  { \"name\": \"Susan\", \"address\": \"One way 98\"},\n",
    "  { \"name\": \"Vicky\", \"address\": \"Yellow Garden 2\"},\n",
    "  { \"name\": \"Ben\", \"address\": \"Park Lane 38\"},\n",
    "  { \"name\": \"William\", \"address\": \"Central st 954\"},\n",
    "  { \"name\": \"Chuck\", \"address\": \"Main Road 989\"},\n",
    "  { \"name\": \"Viola\", \"address\": \"Sideway 1633\"}\n",
    "]"
   ]
  },
  {
   "cell_type": "code",
   "execution_count": 16,
   "metadata": {
    "colab": {},
    "colab_type": "code",
    "id": "g6xDpO86B_cR"
   },
   "outputs": [],
   "source": [
    "insert_c = mycol.insert_many(mylist)"
   ]
  },
  {
   "cell_type": "markdown",
   "metadata": {
    "colab_type": "text",
    "id": "ZmuKgJ5SB_cU"
   },
   "source": [
    "Print a list of the _id values of the inserted documents:"
   ]
  },
  {
   "cell_type": "code",
   "execution_count": 17,
   "metadata": {
    "colab": {},
    "colab_type": "code",
    "id": "zLS5mhlIB_cV"
   },
   "outputs": [
    {
     "name": "stdout",
     "output_type": "stream",
     "text": [
      "[ObjectId('5d2d5fef8fe67b849af7a3be'), ObjectId('5d2d5fef8fe67b849af7a3bf'), ObjectId('5d2d5fef8fe67b849af7a3c0'), ObjectId('5d2d5fef8fe67b849af7a3c1'), ObjectId('5d2d5fef8fe67b849af7a3c2'), ObjectId('5d2d5fef8fe67b849af7a3c3'), ObjectId('5d2d5fef8fe67b849af7a3c4'), ObjectId('5d2d5fef8fe67b849af7a3c5'), ObjectId('5d2d5fef8fe67b849af7a3c6'), ObjectId('5d2d5fef8fe67b849af7a3c7'), ObjectId('5d2d5fef8fe67b849af7a3c8'), ObjectId('5d2d5fef8fe67b849af7a3c9')]\n"
     ]
    }
   ],
   "source": [
    "print(insert_c.inserted_ids)"
   ]
  },
  {
   "cell_type": "markdown",
   "metadata": {
    "colab_type": "text",
    "id": "kC0U_tYqB_cX"
   },
   "source": [
    "Execute the next cell to insert a list of dicts with specified `_id`s:"
   ]
  },
  {
   "cell_type": "code",
   "execution_count": 18,
   "metadata": {
    "colab": {},
    "colab_type": "code",
    "id": "RnAv0sMdB_cX"
   },
   "outputs": [],
   "source": [
    "# mylist = [\n",
    "#   { \"_id\": 1, \"name\": \"John\", \"address\": \"Highway 37\"},\n",
    "#   { \"_id\": 2, \"name\": \"Peter\", \"address\": \"Lowstreet 27\"},\n",
    "#   { \"_id\": 3, \"name\": \"Amy\", \"address\": \"Apple st 652\"},\n",
    "#   { \"_id\": 4, \"name\": \"Hannah\", \"address\": \"Mountain 21\"},\n",
    "#   { \"_id\": 5, \"name\": \"Michael\", \"address\": \"Valley 345\"},\n",
    "#   { \"_id\": 6, \"name\": \"Sandy\", \"address\": \"Ocean blvd 2\"},\n",
    "#   { \"_id\": 7, \"name\": \"Betty\", \"address\": \"Green Grass 1\"},\n",
    "#   { \"_id\": 8, \"name\": \"Richard\", \"address\": \"Sky st 331\"},\n",
    "#   { \"_id\": 9, \"name\": \"Susan\", \"address\": \"One way 98\"},\n",
    "#   { \"_id\": 10, \"name\": \"Vicky\", \"address\": \"Yellow Garden 2\"},\n",
    "#   { \"_id\": 11, \"name\": \"Ben\", \"address\": \"Park Lane 38\"},\n",
    "#   { \"_id\": 12, \"name\": \"William\", \"address\": \"Central st 954\"},\n",
    "#   { \"_id\": 13, \"name\": \"Chuck\", \"address\": \"Main Road 989\"},\n",
    "#   { \"_id\": 14, \"name\": \"Viola\", \"address\": \"Sideway 1633\"}\n",
    "# ]\n",
    "# insert_c = mycol.insert_many(mylist)\n",
    "# print(insert_c.inserted_ids)"
   ]
  },
  {
   "cell_type": "markdown",
   "metadata": {
    "colab_type": "text",
    "id": "vVPR7vhNB_cZ"
   },
   "source": [
    "Now try inserting a new dict with an existing `_id`:"
   ]
  },
  {
   "cell_type": "code",
   "execution_count": 20,
   "metadata": {
    "colab": {},
    "colab_type": "code",
    "id": "Gklp0IIIB_ca"
   },
   "outputs": [],
   "source": [
    "#insert_c = mycol.insert_one({ \"_id\": 14, \"name\": \"Manuel\", \"address\": \"Barcelona\"})"
   ]
  },
  {
   "cell_type": "markdown",
   "metadata": {
    "colab_type": "text",
    "id": "3CKpbRGDB_cb"
   },
   "source": [
    "So, if we want to manage `_id`s in code, we need to be careful!"
   ]
  },
  {
   "cell_type": "markdown",
   "metadata": {
    "colab_type": "text",
    "id": "eAyExvFAB_cc"
   },
   "source": [
    "This returns the first document in the collection:"
   ]
  },
  {
   "cell_type": "code",
   "execution_count": 22,
   "metadata": {
    "colab": {},
    "colab_type": "code",
    "id": "YzXmhIr4B_cc"
   },
   "outputs": [
    {
     "name": "stdout",
     "output_type": "stream",
     "text": [
      "{'_id': ObjectId('5d2c21e12b12724a47b6a655'), 'name': 'John', 'address': 'Highway 37'}\n"
     ]
    }
   ],
   "source": [
    "insert_c = mycol.find_one()\n",
    "print(insert_c)"
   ]
  },
  {
   "cell_type": "markdown",
   "metadata": {
    "colab_type": "text",
    "id": "GWSokljaB_ce"
   },
   "source": [
    "Do the same for the document containing \"name\" = \"Hannah\":"
   ]
  },
  {
   "cell_type": "markdown",
   "metadata": {
    "colab_type": "text",
    "id": "DFCVFHu7B_ch"
   },
   "source": [
    "This returns (and prints) all documents in the collection:"
   ]
  },
  {
   "cell_type": "code",
   "execution_count": 25,
   "metadata": {
    "colab": {},
    "colab_type": "code",
    "id": "UXVB_CSMB_ch"
   },
   "outputs": [
    {
     "name": "stdout",
     "output_type": "stream",
     "text": [
      "{'_id': ObjectId('5d2c21e12b12724a47b6a655'), 'name': 'John', 'address': 'Highway 37'}\n",
      "{'_id': ObjectId('5d2c22bb2b12724a47b6a656'), 'name': 'Peter', 'address': 'Lowstreet 27'}\n",
      "{'_id': ObjectId('5d2c22e02b12724a47b6a657'), 'name': 'Peter', 'address': 'Lowstreet 27'}\n",
      "{'_id': ObjectId('5d2c23112b12724a47b6a658'), 'name': 'Peter', 'address': 'Lowstreet 27'}\n",
      "{'_id': ObjectId('5d2c23432b12724a47b6a659'), 'name': 'Peter', 'address': 'Lowstreet 27'}\n",
      "{'_id': ObjectId('5d2c23eb2b12724a47b6a65a'), 'name': 'Peter', 'address': 'Lowstreet 27'}\n",
      "{'_id': ObjectId('5d2c24392b12724a47b6a65b'), 'name': 'Amy', 'address': 'Apple st 652'}\n",
      "{'_id': ObjectId('5d2c24392b12724a47b6a65c'), 'name': 'Hannah', 'address': 'Mountain 21'}\n",
      "{'_id': ObjectId('5d2c24392b12724a47b6a65d'), 'name': 'Michael', 'address': 'Valley 345'}\n",
      "{'_id': ObjectId('5d2c24392b12724a47b6a65e'), 'name': 'Sandy', 'address': 'Ocean blvd 2'}\n",
      "{'_id': ObjectId('5d2c24392b12724a47b6a65f'), 'name': 'Betty', 'address': 'Green Grass 1'}\n",
      "{'_id': ObjectId('5d2c24392b12724a47b6a660'), 'name': 'Richard', 'address': 'Sky st 331'}\n",
      "{'_id': ObjectId('5d2c24392b12724a47b6a661'), 'name': 'Susan', 'address': 'One way 98'}\n",
      "{'_id': ObjectId('5d2c24392b12724a47b6a662'), 'name': 'Vicky', 'address': 'Yellow Garden 2'}\n",
      "{'_id': ObjectId('5d2c24392b12724a47b6a663'), 'name': 'Ben', 'address': 'Park Lane 38'}\n",
      "{'_id': ObjectId('5d2c24392b12724a47b6a664'), 'name': 'William', 'address': 'Central st 954'}\n",
      "{'_id': ObjectId('5d2c24392b12724a47b6a665'), 'name': 'Chuck', 'address': 'Main Road 989'}\n",
      "{'_id': ObjectId('5d2c24392b12724a47b6a666'), 'name': 'Viola', 'address': 'Sideway 1633'}\n",
      "{'_id': 1, 'name': 'John', 'address': 'Highway 37'}\n",
      "{'_id': 2, 'name': 'Peter', 'address': 'Lowstreet 27'}\n",
      "{'_id': 3, 'name': 'Amy', 'address': 'Apple st 652'}\n",
      "{'_id': 4, 'name': 'Hannah', 'address': 'Mountain 21'}\n",
      "{'_id': 5, 'name': 'Michael', 'address': 'Valley 345'}\n",
      "{'_id': 6, 'name': 'Sandy', 'address': 'Ocean blvd 2'}\n",
      "{'_id': 7, 'name': 'Betty', 'address': 'Green Grass 1'}\n",
      "{'_id': 8, 'name': 'Richard', 'address': 'Sky st 331'}\n",
      "{'_id': 9, 'name': 'Susan', 'address': 'One way 98'}\n",
      "{'_id': 10, 'name': 'Vicky', 'address': 'Yellow Garden 2'}\n",
      "{'_id': 11, 'name': 'Ben', 'address': 'Park Lane 38'}\n",
      "{'_id': 12, 'name': 'William', 'address': 'Central st 954'}\n",
      "{'_id': 13, 'name': 'Chuck', 'address': 'Main Road 989'}\n",
      "{'_id': 14, 'name': 'Viola', 'address': 'Sideway 1633'}\n",
      "{'_id': ObjectId('5d2c252d3caf19c3b3b1bc6c'), 'name': 'John', 'address': 'Highway 37'}\n",
      "{'_id': ObjectId('5d2c252d3caf19c3b3b1bc6d'), 'name': 'Peter', 'address': 'Lowstreet 27'}\n",
      "{'_id': ObjectId('5d2c252d3caf19c3b3b1bc6e'), 'name': 'Amy', 'address': 'Apple st 652'}\n",
      "{'_id': ObjectId('5d2c252d3caf19c3b3b1bc6f'), 'name': 'Hannah', 'address': 'Mountain 21'}\n",
      "{'_id': ObjectId('5d2c252d3caf19c3b3b1bc70'), 'name': 'Michael', 'address': 'Valley 345'}\n",
      "{'_id': ObjectId('5d2c252d3caf19c3b3b1bc71'), 'name': 'Sandy', 'address': 'Ocean blvd 2'}\n",
      "{'_id': ObjectId('5d2c252d3caf19c3b3b1bc72'), 'name': 'Betty', 'address': 'Green Grass 1'}\n",
      "{'_id': ObjectId('5d2c252d3caf19c3b3b1bc73'), 'name': 'Richard', 'address': 'Sky st 331'}\n",
      "{'_id': ObjectId('5d2c252d3caf19c3b3b1bc74'), 'name': 'Susan', 'address': 'One way 98'}\n",
      "{'_id': ObjectId('5d2c252d3caf19c3b3b1bc75'), 'name': 'Vicky', 'address': 'Yellow Garden 2'}\n",
      "{'_id': ObjectId('5d2c252d3caf19c3b3b1bc76'), 'name': 'Ben', 'address': 'Park Lane 38'}\n",
      "{'_id': ObjectId('5d2c252d3caf19c3b3b1bc77'), 'name': 'William', 'address': 'Central st 954'}\n",
      "{'_id': ObjectId('5d2c252d3caf19c3b3b1bc78'), 'name': 'Chuck', 'address': 'Main Road 989'}\n",
      "{'_id': ObjectId('5d2c252d3caf19c3b3b1bc79'), 'name': 'Viola', 'address': 'Sideway 1633'}\n",
      "{'_id': ObjectId('5d2d5b1f96d8959e30e2faf7'), 'name': 'John', 'address': 'Highway 37'}\n",
      "{'_id': ObjectId('5d2d5b2096d8959e30e2faf8'), 'name': 'Peter', 'address': 'Lowstreet 27'}\n",
      "{'_id': ObjectId('5d2d5b2096d8959e30e2faf9'), 'name': 'Amy', 'address': 'Apple st 652'}\n",
      "{'_id': ObjectId('5d2d5b2096d8959e30e2fafa'), 'name': 'Hannah', 'address': 'Mountain 21'}\n",
      "{'_id': ObjectId('5d2d5b2096d8959e30e2fafb'), 'name': 'Michael', 'address': 'Valley 345'}\n",
      "{'_id': ObjectId('5d2d5b2096d8959e30e2fafc'), 'name': 'Sandy', 'address': 'Ocean blvd 2'}\n",
      "{'_id': ObjectId('5d2d5b2096d8959e30e2fafd'), 'name': 'Betty', 'address': 'Green Grass 1'}\n",
      "{'_id': ObjectId('5d2d5b2096d8959e30e2fafe'), 'name': 'Richard', 'address': 'Sky st 331'}\n",
      "{'_id': ObjectId('5d2d5b2096d8959e30e2faff'), 'name': 'Susan', 'address': 'One way 98'}\n",
      "{'_id': ObjectId('5d2d5b2096d8959e30e2fb00'), 'name': 'Vicky', 'address': 'Yellow Garden 2'}\n",
      "{'_id': ObjectId('5d2d5b2096d8959e30e2fb01'), 'name': 'Ben', 'address': 'Park Lane 38'}\n",
      "{'_id': ObjectId('5d2d5b2096d8959e30e2fb02'), 'name': 'William', 'address': 'Central st 954'}\n",
      "{'_id': ObjectId('5d2d5b2096d8959e30e2fb03'), 'name': 'Chuck', 'address': 'Main Road 989'}\n",
      "{'_id': ObjectId('5d2d5b2096d8959e30e2fb04'), 'name': 'Viola', 'address': 'Sideway 1633'}\n",
      "{'_id': ObjectId('5d2d5ddd96d8959e30e2fb06'), 'name': 'John', 'address': 'Highway 37'}\n",
      "{'_id': ObjectId('5d2d5dea96d8959e30e2fb07'), 'name': 'Peter', 'address': 'Lowstreet 27'}\n",
      "{'_id': ObjectId('5d2d5df196d8959e30e2fb08'), 'name': 'Amy', 'address': 'Apple st 652'}\n",
      "{'_id': ObjectId('5d2d5df196d8959e30e2fb09'), 'name': 'Hannah', 'address': 'Mountain 21'}\n",
      "{'_id': ObjectId('5d2d5df196d8959e30e2fb0a'), 'name': 'Michael', 'address': 'Valley 345'}\n",
      "{'_id': ObjectId('5d2d5df196d8959e30e2fb0b'), 'name': 'Sandy', 'address': 'Ocean blvd 2'}\n",
      "{'_id': ObjectId('5d2d5df196d8959e30e2fb0c'), 'name': 'Betty', 'address': 'Green Grass 1'}\n",
      "{'_id': ObjectId('5d2d5df196d8959e30e2fb0d'), 'name': 'Richard', 'address': 'Sky st 331'}\n",
      "{'_id': ObjectId('5d2d5df196d8959e30e2fb0e'), 'name': 'Susan', 'address': 'One way 98'}\n",
      "{'_id': ObjectId('5d2d5df196d8959e30e2fb0f'), 'name': 'Vicky', 'address': 'Yellow Garden 2'}\n",
      "{'_id': ObjectId('5d2d5df196d8959e30e2fb10'), 'name': 'Ben', 'address': 'Park Lane 38'}\n",
      "{'_id': ObjectId('5d2d5df196d8959e30e2fb11'), 'name': 'William', 'address': 'Central st 954'}\n",
      "{'_id': ObjectId('5d2d5df196d8959e30e2fb12'), 'name': 'Chuck', 'address': 'Main Road 989'}\n",
      "{'_id': ObjectId('5d2d5df196d8959e30e2fb13'), 'name': 'Viola', 'address': 'Sideway 1633'}\n",
      "{'_id': ObjectId('5d2d5fc741ac986ba88caa1b'), 'name': 'John', 'address': 'Highway 37'}\n",
      "{'_id': ObjectId('5d2d5fc741ac986ba88caa1c'), 'name': 'Peter', 'address': 'Lowstreet 27'}\n",
      "{'_id': ObjectId('5d2d5fc741ac986ba88caa1d'), 'name': 'Amy', 'address': 'Apple st 652'}\n",
      "{'_id': ObjectId('5d2d5fc741ac986ba88caa1e'), 'name': 'Hannah', 'address': 'Mountain 21'}\n",
      "{'_id': ObjectId('5d2d5fc741ac986ba88caa1f'), 'name': 'Michael', 'address': 'Valley 345'}\n",
      "{'_id': ObjectId('5d2d5fc741ac986ba88caa20'), 'name': 'Sandy', 'address': 'Ocean blvd 2'}\n",
      "{'_id': ObjectId('5d2d5fc741ac986ba88caa21'), 'name': 'Betty', 'address': 'Green Grass 1'}\n",
      "{'_id': ObjectId('5d2d5fc741ac986ba88caa22'), 'name': 'Richard', 'address': 'Sky st 331'}\n",
      "{'_id': ObjectId('5d2d5fc741ac986ba88caa23'), 'name': 'Susan', 'address': 'One way 98'}\n",
      "{'_id': ObjectId('5d2d5fc741ac986ba88caa24'), 'name': 'Vicky', 'address': 'Yellow Garden 2'}\n",
      "{'_id': ObjectId('5d2d5fc741ac986ba88caa25'), 'name': 'Ben', 'address': 'Park Lane 38'}\n",
      "{'_id': ObjectId('5d2d5fc741ac986ba88caa26'), 'name': 'William', 'address': 'Central st 954'}\n",
      "{'_id': ObjectId('5d2d5fc741ac986ba88caa27'), 'name': 'Chuck', 'address': 'Main Road 989'}\n",
      "{'_id': ObjectId('5d2d5fc741ac986ba88caa28'), 'name': 'Viola', 'address': 'Sideway 1633'}\n",
      "{'_id': ObjectId('5d2d5fcf47b88b428f1c3506'), 'name': 'John', 'address': 'Highway 37'}\n",
      "{'_id': ObjectId('5d2d5fcf47b88b428f1c3507'), 'name': 'Peter', 'address': 'Lowstreet 27'}\n",
      "{'_id': ObjectId('5d2d5fcf47b88b428f1c3508'), 'name': 'Amy', 'address': 'Apple st 652'}\n",
      "{'_id': ObjectId('5d2d5fcf47b88b428f1c3509'), 'name': 'Hannah', 'address': 'Mountain 21'}\n",
      "{'_id': ObjectId('5d2d5fcf47b88b428f1c350a'), 'name': 'Michael', 'address': 'Valley 345'}\n",
      "{'_id': ObjectId('5d2d5fcf47b88b428f1c350b'), 'name': 'Sandy', 'address': 'Ocean blvd 2'}\n",
      "{'_id': ObjectId('5d2d5fcf47b88b428f1c350c'), 'name': 'Betty', 'address': 'Green Grass 1'}\n",
      "{'_id': ObjectId('5d2d5fcf47b88b428f1c350d'), 'name': 'Richard', 'address': 'Sky st 331'}\n",
      "{'_id': ObjectId('5d2d5fcf47b88b428f1c350e'), 'name': 'Susan', 'address': 'One way 98'}\n",
      "{'_id': ObjectId('5d2d5fcf47b88b428f1c350f'), 'name': 'Vicky', 'address': 'Yellow Garden 2'}\n",
      "{'_id': ObjectId('5d2d5fcf47b88b428f1c3510'), 'name': 'Ben', 'address': 'Park Lane 38'}\n",
      "{'_id': ObjectId('5d2d5fcf47b88b428f1c3511'), 'name': 'William', 'address': 'Central st 954'}\n",
      "{'_id': ObjectId('5d2d5fcf47b88b428f1c3512'), 'name': 'Chuck', 'address': 'Main Road 989'}\n",
      "{'_id': ObjectId('5d2d5fcf47b88b428f1c3513'), 'name': 'Viola', 'address': 'Sideway 1633'}\n",
      "{'_id': ObjectId('5d2d5fef8fe67b849af7a3bc'), 'name': 'John', 'address': 'Highway 37'}\n",
      "{'_id': ObjectId('5d2d5fef8fe67b849af7a3bd'), 'name': 'Peter', 'address': 'Lowstreet 27'}\n",
      "{'_id': ObjectId('5d2d5fef8fe67b849af7a3be'), 'name': 'Amy', 'address': 'Apple st 652'}\n",
      "{'_id': ObjectId('5d2d5fef8fe67b849af7a3bf'), 'name': 'Hannah', 'address': 'Mountain 21'}\n",
      "{'_id': ObjectId('5d2d5fef8fe67b849af7a3c0'), 'name': 'Michael', 'address': 'Valley 345'}\n",
      "{'_id': ObjectId('5d2d5fef8fe67b849af7a3c1'), 'name': 'Sandy', 'address': 'Ocean blvd 2'}\n",
      "{'_id': ObjectId('5d2d5fef8fe67b849af7a3c2'), 'name': 'Betty', 'address': 'Green Grass 1'}\n",
      "{'_id': ObjectId('5d2d5fef8fe67b849af7a3c3'), 'name': 'Richard', 'address': 'Sky st 331'}\n",
      "{'_id': ObjectId('5d2d5fef8fe67b849af7a3c4'), 'name': 'Susan', 'address': 'One way 98'}\n",
      "{'_id': ObjectId('5d2d5fef8fe67b849af7a3c5'), 'name': 'Vicky', 'address': 'Yellow Garden 2'}\n",
      "{'_id': ObjectId('5d2d5fef8fe67b849af7a3c6'), 'name': 'Ben', 'address': 'Park Lane 38'}\n",
      "{'_id': ObjectId('5d2d5fef8fe67b849af7a3c7'), 'name': 'William', 'address': 'Central st 954'}\n",
      "{'_id': ObjectId('5d2d5fef8fe67b849af7a3c8'), 'name': 'Chuck', 'address': 'Main Road 989'}\n",
      "{'_id': ObjectId('5d2d5fef8fe67b849af7a3c9'), 'name': 'Viola', 'address': 'Sideway 1633'}\n"
     ]
    }
   ],
   "source": [
    "for insert_c in mycol.find():\n",
    "  print(insert_c)"
   ]
  },
  {
   "cell_type": "markdown",
   "metadata": {
    "colab_type": "text",
    "id": "6dQsHIF6B_cj"
   },
   "source": [
    "This returns only the name and address fields:"
   ]
  },
  {
   "cell_type": "code",
   "execution_count": 26,
   "metadata": {
    "colab": {},
    "colab_type": "code",
    "id": "OKY_Buz0B_ck"
   },
   "outputs": [
    {
     "name": "stdout",
     "output_type": "stream",
     "text": [
      "{'name': 'John', 'address': 'Highway 37'}\n",
      "{'name': 'Peter', 'address': 'Lowstreet 27'}\n",
      "{'name': 'Peter', 'address': 'Lowstreet 27'}\n",
      "{'name': 'Peter', 'address': 'Lowstreet 27'}\n",
      "{'name': 'Peter', 'address': 'Lowstreet 27'}\n",
      "{'name': 'Peter', 'address': 'Lowstreet 27'}\n",
      "{'name': 'Amy', 'address': 'Apple st 652'}\n",
      "{'name': 'Hannah', 'address': 'Mountain 21'}\n",
      "{'name': 'Michael', 'address': 'Valley 345'}\n",
      "{'name': 'Sandy', 'address': 'Ocean blvd 2'}\n",
      "{'name': 'Betty', 'address': 'Green Grass 1'}\n",
      "{'name': 'Richard', 'address': 'Sky st 331'}\n",
      "{'name': 'Susan', 'address': 'One way 98'}\n",
      "{'name': 'Vicky', 'address': 'Yellow Garden 2'}\n",
      "{'name': 'Ben', 'address': 'Park Lane 38'}\n",
      "{'name': 'William', 'address': 'Central st 954'}\n",
      "{'name': 'Chuck', 'address': 'Main Road 989'}\n",
      "{'name': 'Viola', 'address': 'Sideway 1633'}\n",
      "{'name': 'John', 'address': 'Highway 37'}\n",
      "{'name': 'Peter', 'address': 'Lowstreet 27'}\n",
      "{'name': 'Amy', 'address': 'Apple st 652'}\n",
      "{'name': 'Hannah', 'address': 'Mountain 21'}\n",
      "{'name': 'Michael', 'address': 'Valley 345'}\n",
      "{'name': 'Sandy', 'address': 'Ocean blvd 2'}\n",
      "{'name': 'Betty', 'address': 'Green Grass 1'}\n",
      "{'name': 'Richard', 'address': 'Sky st 331'}\n",
      "{'name': 'Susan', 'address': 'One way 98'}\n",
      "{'name': 'Vicky', 'address': 'Yellow Garden 2'}\n",
      "{'name': 'Ben', 'address': 'Park Lane 38'}\n",
      "{'name': 'William', 'address': 'Central st 954'}\n",
      "{'name': 'Chuck', 'address': 'Main Road 989'}\n",
      "{'name': 'Viola', 'address': 'Sideway 1633'}\n",
      "{'name': 'John', 'address': 'Highway 37'}\n",
      "{'name': 'Peter', 'address': 'Lowstreet 27'}\n",
      "{'name': 'Amy', 'address': 'Apple st 652'}\n",
      "{'name': 'Hannah', 'address': 'Mountain 21'}\n",
      "{'name': 'Michael', 'address': 'Valley 345'}\n",
      "{'name': 'Sandy', 'address': 'Ocean blvd 2'}\n",
      "{'name': 'Betty', 'address': 'Green Grass 1'}\n",
      "{'name': 'Richard', 'address': 'Sky st 331'}\n",
      "{'name': 'Susan', 'address': 'One way 98'}\n",
      "{'name': 'Vicky', 'address': 'Yellow Garden 2'}\n",
      "{'name': 'Ben', 'address': 'Park Lane 38'}\n",
      "{'name': 'William', 'address': 'Central st 954'}\n",
      "{'name': 'Chuck', 'address': 'Main Road 989'}\n",
      "{'name': 'Viola', 'address': 'Sideway 1633'}\n",
      "{'name': 'John', 'address': 'Highway 37'}\n",
      "{'name': 'Peter', 'address': 'Lowstreet 27'}\n",
      "{'name': 'Amy', 'address': 'Apple st 652'}\n",
      "{'name': 'Hannah', 'address': 'Mountain 21'}\n",
      "{'name': 'Michael', 'address': 'Valley 345'}\n",
      "{'name': 'Sandy', 'address': 'Ocean blvd 2'}\n",
      "{'name': 'Betty', 'address': 'Green Grass 1'}\n",
      "{'name': 'Richard', 'address': 'Sky st 331'}\n",
      "{'name': 'Susan', 'address': 'One way 98'}\n",
      "{'name': 'Vicky', 'address': 'Yellow Garden 2'}\n",
      "{'name': 'Ben', 'address': 'Park Lane 38'}\n",
      "{'name': 'William', 'address': 'Central st 954'}\n",
      "{'name': 'Chuck', 'address': 'Main Road 989'}\n",
      "{'name': 'Viola', 'address': 'Sideway 1633'}\n",
      "{'name': 'John', 'address': 'Highway 37'}\n",
      "{'name': 'Peter', 'address': 'Lowstreet 27'}\n",
      "{'name': 'Amy', 'address': 'Apple st 652'}\n",
      "{'name': 'Hannah', 'address': 'Mountain 21'}\n",
      "{'name': 'Michael', 'address': 'Valley 345'}\n",
      "{'name': 'Sandy', 'address': 'Ocean blvd 2'}\n",
      "{'name': 'Betty', 'address': 'Green Grass 1'}\n",
      "{'name': 'Richard', 'address': 'Sky st 331'}\n",
      "{'name': 'Susan', 'address': 'One way 98'}\n",
      "{'name': 'Vicky', 'address': 'Yellow Garden 2'}\n",
      "{'name': 'Ben', 'address': 'Park Lane 38'}\n",
      "{'name': 'William', 'address': 'Central st 954'}\n",
      "{'name': 'Chuck', 'address': 'Main Road 989'}\n",
      "{'name': 'Viola', 'address': 'Sideway 1633'}\n",
      "{'name': 'John', 'address': 'Highway 37'}\n",
      "{'name': 'Peter', 'address': 'Lowstreet 27'}\n",
      "{'name': 'Amy', 'address': 'Apple st 652'}\n",
      "{'name': 'Hannah', 'address': 'Mountain 21'}\n",
      "{'name': 'Michael', 'address': 'Valley 345'}\n",
      "{'name': 'Sandy', 'address': 'Ocean blvd 2'}\n",
      "{'name': 'Betty', 'address': 'Green Grass 1'}\n",
      "{'name': 'Richard', 'address': 'Sky st 331'}\n",
      "{'name': 'Susan', 'address': 'One way 98'}\n",
      "{'name': 'Vicky', 'address': 'Yellow Garden 2'}\n",
      "{'name': 'Ben', 'address': 'Park Lane 38'}\n",
      "{'name': 'William', 'address': 'Central st 954'}\n",
      "{'name': 'Chuck', 'address': 'Main Road 989'}\n",
      "{'name': 'Viola', 'address': 'Sideway 1633'}\n",
      "{'name': 'John', 'address': 'Highway 37'}\n",
      "{'name': 'Peter', 'address': 'Lowstreet 27'}\n",
      "{'name': 'Amy', 'address': 'Apple st 652'}\n",
      "{'name': 'Hannah', 'address': 'Mountain 21'}\n",
      "{'name': 'Michael', 'address': 'Valley 345'}\n",
      "{'name': 'Sandy', 'address': 'Ocean blvd 2'}\n",
      "{'name': 'Betty', 'address': 'Green Grass 1'}\n",
      "{'name': 'Richard', 'address': 'Sky st 331'}\n",
      "{'name': 'Susan', 'address': 'One way 98'}\n",
      "{'name': 'Vicky', 'address': 'Yellow Garden 2'}\n",
      "{'name': 'Ben', 'address': 'Park Lane 38'}\n",
      "{'name': 'William', 'address': 'Central st 954'}\n",
      "{'name': 'Chuck', 'address': 'Main Road 989'}\n",
      "{'name': 'Viola', 'address': 'Sideway 1633'}\n",
      "{'name': 'John', 'address': 'Highway 37'}\n",
      "{'name': 'Peter', 'address': 'Lowstreet 27'}\n",
      "{'name': 'Amy', 'address': 'Apple st 652'}\n",
      "{'name': 'Hannah', 'address': 'Mountain 21'}\n",
      "{'name': 'Michael', 'address': 'Valley 345'}\n",
      "{'name': 'Sandy', 'address': 'Ocean blvd 2'}\n",
      "{'name': 'Betty', 'address': 'Green Grass 1'}\n",
      "{'name': 'Richard', 'address': 'Sky st 331'}\n",
      "{'name': 'Susan', 'address': 'One way 98'}\n",
      "{'name': 'Vicky', 'address': 'Yellow Garden 2'}\n",
      "{'name': 'Ben', 'address': 'Park Lane 38'}\n",
      "{'name': 'William', 'address': 'Central st 954'}\n",
      "{'name': 'Chuck', 'address': 'Main Road 989'}\n",
      "{'name': 'Viola', 'address': 'Sideway 1633'}\n"
     ]
    }
   ],
   "source": [
    "for insert_c in mycol.find({},{ \"_id\": 0, \"name\": 1, \"address\": 1 }):\n",
    "  print(insert_c)"
   ]
  },
  {
   "cell_type": "markdown",
   "metadata": {
    "colab_type": "text",
    "id": "9jAQ7LAdB_cm"
   },
   "source": [
    "Print only the `_id` and name fields:"
   ]
  },
  {
   "cell_type": "code",
   "execution_count": 29,
   "metadata": {
    "colab": {},
    "colab_type": "code",
    "id": "FP14yQUQB_cn"
   },
   "outputs": [
    {
     "name": "stdout",
     "output_type": "stream",
     "text": [
      "{'_id': ObjectId('5d2c21e12b12724a47b6a655'), 'name': 'John'}\n",
      "{'_id': ObjectId('5d2c22bb2b12724a47b6a656'), 'name': 'Peter'}\n",
      "{'_id': ObjectId('5d2c22e02b12724a47b6a657'), 'name': 'Peter'}\n",
      "{'_id': ObjectId('5d2c23112b12724a47b6a658'), 'name': 'Peter'}\n",
      "{'_id': ObjectId('5d2c23432b12724a47b6a659'), 'name': 'Peter'}\n",
      "{'_id': ObjectId('5d2c23eb2b12724a47b6a65a'), 'name': 'Peter'}\n",
      "{'_id': ObjectId('5d2c24392b12724a47b6a65b'), 'name': 'Amy'}\n",
      "{'_id': ObjectId('5d2c24392b12724a47b6a65c'), 'name': 'Hannah'}\n",
      "{'_id': ObjectId('5d2c24392b12724a47b6a65d'), 'name': 'Michael'}\n",
      "{'_id': ObjectId('5d2c24392b12724a47b6a65e'), 'name': 'Sandy'}\n",
      "{'_id': ObjectId('5d2c24392b12724a47b6a65f'), 'name': 'Betty'}\n",
      "{'_id': ObjectId('5d2c24392b12724a47b6a660'), 'name': 'Richard'}\n",
      "{'_id': ObjectId('5d2c24392b12724a47b6a661'), 'name': 'Susan'}\n",
      "{'_id': ObjectId('5d2c24392b12724a47b6a662'), 'name': 'Vicky'}\n",
      "{'_id': ObjectId('5d2c24392b12724a47b6a663'), 'name': 'Ben'}\n",
      "{'_id': ObjectId('5d2c24392b12724a47b6a664'), 'name': 'William'}\n",
      "{'_id': ObjectId('5d2c24392b12724a47b6a665'), 'name': 'Chuck'}\n",
      "{'_id': ObjectId('5d2c24392b12724a47b6a666'), 'name': 'Viola'}\n",
      "{'_id': 1, 'name': 'John'}\n",
      "{'_id': 2, 'name': 'Peter'}\n",
      "{'_id': 3, 'name': 'Amy'}\n",
      "{'_id': 4, 'name': 'Hannah'}\n",
      "{'_id': 5, 'name': 'Michael'}\n",
      "{'_id': 6, 'name': 'Sandy'}\n",
      "{'_id': 7, 'name': 'Betty'}\n",
      "{'_id': 8, 'name': 'Richard'}\n",
      "{'_id': 9, 'name': 'Susan'}\n",
      "{'_id': 10, 'name': 'Vicky'}\n",
      "{'_id': 11, 'name': 'Ben'}\n",
      "{'_id': 12, 'name': 'William'}\n",
      "{'_id': 13, 'name': 'Chuck'}\n",
      "{'_id': 14, 'name': 'Viola'}\n",
      "{'_id': ObjectId('5d2c252d3caf19c3b3b1bc6c'), 'name': 'John'}\n",
      "{'_id': ObjectId('5d2c252d3caf19c3b3b1bc6d'), 'name': 'Peter'}\n",
      "{'_id': ObjectId('5d2c252d3caf19c3b3b1bc6e'), 'name': 'Amy'}\n",
      "{'_id': ObjectId('5d2c252d3caf19c3b3b1bc6f'), 'name': 'Hannah'}\n",
      "{'_id': ObjectId('5d2c252d3caf19c3b3b1bc70'), 'name': 'Michael'}\n",
      "{'_id': ObjectId('5d2c252d3caf19c3b3b1bc71'), 'name': 'Sandy'}\n",
      "{'_id': ObjectId('5d2c252d3caf19c3b3b1bc72'), 'name': 'Betty'}\n",
      "{'_id': ObjectId('5d2c252d3caf19c3b3b1bc73'), 'name': 'Richard'}\n",
      "{'_id': ObjectId('5d2c252d3caf19c3b3b1bc74'), 'name': 'Susan'}\n",
      "{'_id': ObjectId('5d2c252d3caf19c3b3b1bc75'), 'name': 'Vicky'}\n",
      "{'_id': ObjectId('5d2c252d3caf19c3b3b1bc76'), 'name': 'Ben'}\n",
      "{'_id': ObjectId('5d2c252d3caf19c3b3b1bc77'), 'name': 'William'}\n",
      "{'_id': ObjectId('5d2c252d3caf19c3b3b1bc78'), 'name': 'Chuck'}\n",
      "{'_id': ObjectId('5d2c252d3caf19c3b3b1bc79'), 'name': 'Viola'}\n",
      "{'_id': ObjectId('5d2d5b1f96d8959e30e2faf7'), 'name': 'John'}\n",
      "{'_id': ObjectId('5d2d5b2096d8959e30e2faf8'), 'name': 'Peter'}\n",
      "{'_id': ObjectId('5d2d5b2096d8959e30e2faf9'), 'name': 'Amy'}\n",
      "{'_id': ObjectId('5d2d5b2096d8959e30e2fafa'), 'name': 'Hannah'}\n",
      "{'_id': ObjectId('5d2d5b2096d8959e30e2fafb'), 'name': 'Michael'}\n",
      "{'_id': ObjectId('5d2d5b2096d8959e30e2fafc'), 'name': 'Sandy'}\n",
      "{'_id': ObjectId('5d2d5b2096d8959e30e2fafd'), 'name': 'Betty'}\n",
      "{'_id': ObjectId('5d2d5b2096d8959e30e2fafe'), 'name': 'Richard'}\n",
      "{'_id': ObjectId('5d2d5b2096d8959e30e2faff'), 'name': 'Susan'}\n",
      "{'_id': ObjectId('5d2d5b2096d8959e30e2fb00'), 'name': 'Vicky'}\n",
      "{'_id': ObjectId('5d2d5b2096d8959e30e2fb01'), 'name': 'Ben'}\n",
      "{'_id': ObjectId('5d2d5b2096d8959e30e2fb02'), 'name': 'William'}\n",
      "{'_id': ObjectId('5d2d5b2096d8959e30e2fb03'), 'name': 'Chuck'}\n",
      "{'_id': ObjectId('5d2d5b2096d8959e30e2fb04'), 'name': 'Viola'}\n",
      "{'_id': ObjectId('5d2d5ddd96d8959e30e2fb06'), 'name': 'John'}\n",
      "{'_id': ObjectId('5d2d5dea96d8959e30e2fb07'), 'name': 'Peter'}\n",
      "{'_id': ObjectId('5d2d5df196d8959e30e2fb08'), 'name': 'Amy'}\n",
      "{'_id': ObjectId('5d2d5df196d8959e30e2fb09'), 'name': 'Hannah'}\n",
      "{'_id': ObjectId('5d2d5df196d8959e30e2fb0a'), 'name': 'Michael'}\n",
      "{'_id': ObjectId('5d2d5df196d8959e30e2fb0b'), 'name': 'Sandy'}\n",
      "{'_id': ObjectId('5d2d5df196d8959e30e2fb0c'), 'name': 'Betty'}\n",
      "{'_id': ObjectId('5d2d5df196d8959e30e2fb0d'), 'name': 'Richard'}\n",
      "{'_id': ObjectId('5d2d5df196d8959e30e2fb0e'), 'name': 'Susan'}\n",
      "{'_id': ObjectId('5d2d5df196d8959e30e2fb0f'), 'name': 'Vicky'}\n",
      "{'_id': ObjectId('5d2d5df196d8959e30e2fb10'), 'name': 'Ben'}\n",
      "{'_id': ObjectId('5d2d5df196d8959e30e2fb11'), 'name': 'William'}\n",
      "{'_id': ObjectId('5d2d5df196d8959e30e2fb12'), 'name': 'Chuck'}\n",
      "{'_id': ObjectId('5d2d5df196d8959e30e2fb13'), 'name': 'Viola'}\n",
      "{'_id': ObjectId('5d2d5fc741ac986ba88caa1b'), 'name': 'John'}\n",
      "{'_id': ObjectId('5d2d5fc741ac986ba88caa1c'), 'name': 'Peter'}\n",
      "{'_id': ObjectId('5d2d5fc741ac986ba88caa1d'), 'name': 'Amy'}\n",
      "{'_id': ObjectId('5d2d5fc741ac986ba88caa1e'), 'name': 'Hannah'}\n",
      "{'_id': ObjectId('5d2d5fc741ac986ba88caa1f'), 'name': 'Michael'}\n",
      "{'_id': ObjectId('5d2d5fc741ac986ba88caa20'), 'name': 'Sandy'}\n",
      "{'_id': ObjectId('5d2d5fc741ac986ba88caa21'), 'name': 'Betty'}\n",
      "{'_id': ObjectId('5d2d5fc741ac986ba88caa22'), 'name': 'Richard'}\n",
      "{'_id': ObjectId('5d2d5fc741ac986ba88caa23'), 'name': 'Susan'}\n",
      "{'_id': ObjectId('5d2d5fc741ac986ba88caa24'), 'name': 'Vicky'}\n",
      "{'_id': ObjectId('5d2d5fc741ac986ba88caa25'), 'name': 'Ben'}\n",
      "{'_id': ObjectId('5d2d5fc741ac986ba88caa26'), 'name': 'William'}\n",
      "{'_id': ObjectId('5d2d5fc741ac986ba88caa27'), 'name': 'Chuck'}\n",
      "{'_id': ObjectId('5d2d5fc741ac986ba88caa28'), 'name': 'Viola'}\n",
      "{'_id': ObjectId('5d2d5fcf47b88b428f1c3506'), 'name': 'John'}\n",
      "{'_id': ObjectId('5d2d5fcf47b88b428f1c3507'), 'name': 'Peter'}\n",
      "{'_id': ObjectId('5d2d5fcf47b88b428f1c3508'), 'name': 'Amy'}\n",
      "{'_id': ObjectId('5d2d5fcf47b88b428f1c3509'), 'name': 'Hannah'}\n",
      "{'_id': ObjectId('5d2d5fcf47b88b428f1c350a'), 'name': 'Michael'}\n",
      "{'_id': ObjectId('5d2d5fcf47b88b428f1c350b'), 'name': 'Sandy'}\n",
      "{'_id': ObjectId('5d2d5fcf47b88b428f1c350c'), 'name': 'Betty'}\n",
      "{'_id': ObjectId('5d2d5fcf47b88b428f1c350d'), 'name': 'Richard'}\n",
      "{'_id': ObjectId('5d2d5fcf47b88b428f1c350e'), 'name': 'Susan'}\n",
      "{'_id': ObjectId('5d2d5fcf47b88b428f1c350f'), 'name': 'Vicky'}\n",
      "{'_id': ObjectId('5d2d5fcf47b88b428f1c3510'), 'name': 'Ben'}\n",
      "{'_id': ObjectId('5d2d5fcf47b88b428f1c3511'), 'name': 'William'}\n",
      "{'_id': ObjectId('5d2d5fcf47b88b428f1c3512'), 'name': 'Chuck'}\n",
      "{'_id': ObjectId('5d2d5fcf47b88b428f1c3513'), 'name': 'Viola'}\n",
      "{'_id': ObjectId('5d2d5fef8fe67b849af7a3bc'), 'name': 'John'}\n",
      "{'_id': ObjectId('5d2d5fef8fe67b849af7a3bd'), 'name': 'Peter'}\n",
      "{'_id': ObjectId('5d2d5fef8fe67b849af7a3be'), 'name': 'Amy'}\n",
      "{'_id': ObjectId('5d2d5fef8fe67b849af7a3bf'), 'name': 'Hannah'}\n",
      "{'_id': ObjectId('5d2d5fef8fe67b849af7a3c0'), 'name': 'Michael'}\n",
      "{'_id': ObjectId('5d2d5fef8fe67b849af7a3c1'), 'name': 'Sandy'}\n",
      "{'_id': ObjectId('5d2d5fef8fe67b849af7a3c2'), 'name': 'Betty'}\n",
      "{'_id': ObjectId('5d2d5fef8fe67b849af7a3c3'), 'name': 'Richard'}\n",
      "{'_id': ObjectId('5d2d5fef8fe67b849af7a3c4'), 'name': 'Susan'}\n",
      "{'_id': ObjectId('5d2d5fef8fe67b849af7a3c5'), 'name': 'Vicky'}\n",
      "{'_id': ObjectId('5d2d5fef8fe67b849af7a3c6'), 'name': 'Ben'}\n",
      "{'_id': ObjectId('5d2d5fef8fe67b849af7a3c7'), 'name': 'William'}\n",
      "{'_id': ObjectId('5d2d5fef8fe67b849af7a3c8'), 'name': 'Chuck'}\n",
      "{'_id': ObjectId('5d2d5fef8fe67b849af7a3c9'), 'name': 'Viola'}\n"
     ]
    }
   ],
   "source": [
    "# for insert_c in mycol.fin({},{})\n",
    "\n",
    "for insert_c in mycol.find({},{ \"_id\": 1, \"name\": 1 }):\n",
    "  print(insert_c)"
   ]
  },
  {
   "cell_type": "markdown",
   "metadata": {
    "colab_type": "text",
    "id": "esHLntbmB_cp"
   },
   "source": [
    "So, we must explicitly use `\"_id\": 0` to exclude it, but for other fields we simply omit them from the dict argument."
   ]
  },
  {
   "cell_type": "markdown",
   "metadata": {
    "colab_type": "text",
    "id": "hSOdFGEpB_cq"
   },
   "source": [
    "To include field conditionals in a query, we use `$` operators. This finds addresses starting with \"S\" or greater:"
   ]
  },
  {
   "cell_type": "code",
   "execution_count": 30,
   "metadata": {
    "colab": {},
    "colab_type": "code",
    "id": "KaHOWDwkB_cq"
   },
   "outputs": [
    {
     "name": "stdout",
     "output_type": "stream",
     "text": [
      "{'_id': ObjectId('5d2c24392b12724a47b6a65d'), 'name': 'Michael', 'address': 'Valley 345'}\n",
      "{'_id': ObjectId('5d2c24392b12724a47b6a660'), 'name': 'Richard', 'address': 'Sky st 331'}\n",
      "{'_id': ObjectId('5d2c24392b12724a47b6a662'), 'name': 'Vicky', 'address': 'Yellow Garden 2'}\n",
      "{'_id': ObjectId('5d2c24392b12724a47b6a666'), 'name': 'Viola', 'address': 'Sideway 1633'}\n",
      "{'_id': 5, 'name': 'Michael', 'address': 'Valley 345'}\n",
      "{'_id': 8, 'name': 'Richard', 'address': 'Sky st 331'}\n",
      "{'_id': 10, 'name': 'Vicky', 'address': 'Yellow Garden 2'}\n",
      "{'_id': 14, 'name': 'Viola', 'address': 'Sideway 1633'}\n",
      "{'_id': ObjectId('5d2c252d3caf19c3b3b1bc70'), 'name': 'Michael', 'address': 'Valley 345'}\n",
      "{'_id': ObjectId('5d2c252d3caf19c3b3b1bc73'), 'name': 'Richard', 'address': 'Sky st 331'}\n",
      "{'_id': ObjectId('5d2c252d3caf19c3b3b1bc75'), 'name': 'Vicky', 'address': 'Yellow Garden 2'}\n",
      "{'_id': ObjectId('5d2c252d3caf19c3b3b1bc79'), 'name': 'Viola', 'address': 'Sideway 1633'}\n",
      "{'_id': ObjectId('5d2d5b2096d8959e30e2fafb'), 'name': 'Michael', 'address': 'Valley 345'}\n",
      "{'_id': ObjectId('5d2d5b2096d8959e30e2fafe'), 'name': 'Richard', 'address': 'Sky st 331'}\n",
      "{'_id': ObjectId('5d2d5b2096d8959e30e2fb00'), 'name': 'Vicky', 'address': 'Yellow Garden 2'}\n",
      "{'_id': ObjectId('5d2d5b2096d8959e30e2fb04'), 'name': 'Viola', 'address': 'Sideway 1633'}\n",
      "{'_id': ObjectId('5d2d5df196d8959e30e2fb0a'), 'name': 'Michael', 'address': 'Valley 345'}\n",
      "{'_id': ObjectId('5d2d5df196d8959e30e2fb0d'), 'name': 'Richard', 'address': 'Sky st 331'}\n",
      "{'_id': ObjectId('5d2d5df196d8959e30e2fb0f'), 'name': 'Vicky', 'address': 'Yellow Garden 2'}\n",
      "{'_id': ObjectId('5d2d5df196d8959e30e2fb13'), 'name': 'Viola', 'address': 'Sideway 1633'}\n",
      "{'_id': ObjectId('5d2d5fc741ac986ba88caa1f'), 'name': 'Michael', 'address': 'Valley 345'}\n",
      "{'_id': ObjectId('5d2d5fc741ac986ba88caa22'), 'name': 'Richard', 'address': 'Sky st 331'}\n",
      "{'_id': ObjectId('5d2d5fc741ac986ba88caa24'), 'name': 'Vicky', 'address': 'Yellow Garden 2'}\n",
      "{'_id': ObjectId('5d2d5fc741ac986ba88caa28'), 'name': 'Viola', 'address': 'Sideway 1633'}\n",
      "{'_id': ObjectId('5d2d5fcf47b88b428f1c350a'), 'name': 'Michael', 'address': 'Valley 345'}\n",
      "{'_id': ObjectId('5d2d5fcf47b88b428f1c350d'), 'name': 'Richard', 'address': 'Sky st 331'}\n",
      "{'_id': ObjectId('5d2d5fcf47b88b428f1c350f'), 'name': 'Vicky', 'address': 'Yellow Garden 2'}\n",
      "{'_id': ObjectId('5d2d5fcf47b88b428f1c3513'), 'name': 'Viola', 'address': 'Sideway 1633'}\n",
      "{'_id': ObjectId('5d2d5fef8fe67b849af7a3c0'), 'name': 'Michael', 'address': 'Valley 345'}\n",
      "{'_id': ObjectId('5d2d5fef8fe67b849af7a3c3'), 'name': 'Richard', 'address': 'Sky st 331'}\n",
      "{'_id': ObjectId('5d2d5fef8fe67b849af7a3c5'), 'name': 'Vicky', 'address': 'Yellow Garden 2'}\n",
      "{'_id': ObjectId('5d2d5fef8fe67b849af7a3c9'), 'name': 'Viola', 'address': 'Sideway 1633'}\n"
     ]
    }
   ],
   "source": [
    "# To include field conditionals in a query, we use $ operators. This finds addresses starting with \"S\" or greater:\n",
    "myquery = { \"address\": { \"$gt\": \"S\" } }\n",
    "mydoc = mycol.find(myquery)\n",
    "for insert_c in mydoc:\n",
    "  print(insert_c)"
   ]
  },
  {
   "cell_type": "markdown",
   "metadata": {
    "colab_type": "text",
    "id": "i3fUXWpiB_cs"
   },
   "source": [
    "Here are some more comparison operators:\n",
    "\n",
    "            $gt, $gte, $eq, $in, $nin, $exists, $and, $or, $not\n",
    "            \n",
    "Experiment with these until you understand how to use them."
   ]
  },
  {
   "cell_type": "code",
   "execution_count": 55,
   "metadata": {
    "colab": {},
    "colab_type": "code",
    "id": "ensDpd9VB_ct"
   },
   "outputs": [
    {
     "name": "stdout",
     "output_type": "stream",
     "text": [
      "{'_id': ObjectId('5d2c24392b12724a47b6a660'), 'name': 'Richard', 'address': 'Sky st 331'}\n",
      "{'_id': ObjectId('5d2c24392b12724a47b6a666'), 'name': 'Viola', 'address': 'Sideway 1633'}\n",
      "{'_id': 8, 'name': 'Richard', 'address': 'Sky st 331'}\n",
      "{'_id': 14, 'name': 'Viola', 'address': 'Sideway 1633'}\n",
      "{'_id': ObjectId('5d2c252d3caf19c3b3b1bc73'), 'name': 'Richard', 'address': 'Sky st 331'}\n",
      "{'_id': ObjectId('5d2c252d3caf19c3b3b1bc79'), 'name': 'Viola', 'address': 'Sideway 1633'}\n",
      "{'_id': ObjectId('5d2d5b2096d8959e30e2fafe'), 'name': 'Richard', 'address': 'Sky st 331'}\n",
      "{'_id': ObjectId('5d2d5b2096d8959e30e2fb04'), 'name': 'Viola', 'address': 'Sideway 1633'}\n",
      "{'_id': ObjectId('5d2d5df196d8959e30e2fb0d'), 'name': 'Richard', 'address': 'Sky st 331'}\n",
      "{'_id': ObjectId('5d2d5df196d8959e30e2fb13'), 'name': 'Viola', 'address': 'Sideway 1633'}\n",
      "{'_id': ObjectId('5d2d5fc741ac986ba88caa22'), 'name': 'Richard', 'address': 'Sky st 331'}\n",
      "{'_id': ObjectId('5d2d5fc741ac986ba88caa28'), 'name': 'Viola', 'address': 'Sideway 1633'}\n",
      "{'_id': ObjectId('5d2d5fcf47b88b428f1c350d'), 'name': 'Richard', 'address': 'Sky st 331'}\n",
      "{'_id': ObjectId('5d2d5fcf47b88b428f1c3513'), 'name': 'Viola', 'address': 'Sideway 1633'}\n",
      "{'_id': ObjectId('5d2d5fef8fe67b849af7a3c3'), 'name': 'Richard', 'address': 'Sky st 331'}\n",
      "{'_id': ObjectId('5d2d5fef8fe67b849af7a3c9'), 'name': 'Viola', 'address': 'Sideway 1633'}\n"
     ]
    }
   ],
   "source": [
    "myquery = { \"address\": { \"$regex\": \"^S\" } }\n",
    "mydoc = mycol.find(myquery)\n",
    "for insert_c in mydoc:\n",
    "  print(insert_c)"
   ]
  },
  {
   "cell_type": "markdown",
   "metadata": {
    "colab_type": "text",
    "id": "IxvWRoS3B_cu"
   },
   "source": [
    "Now find all docs with an address that begins with \"S\":  \n",
    "(HINT: The value for \"address\" in the argument should be the regex-based dict { \"$regex\": \"^S\" }.)"
   ]
  },
  {
   "cell_type": "code",
   "execution_count": 56,
   "metadata": {
    "colab": {},
    "colab_type": "code",
    "id": "i5zMYTsdB_cu"
   },
   "outputs": [
    {
     "name": "stdout",
     "output_type": "stream",
     "text": [
      "{'_id': ObjectId('5d2c24392b12724a47b6a660'), 'name': 'Richard', 'address': 'Sky st 331'}\n",
      "{'_id': ObjectId('5d2c24392b12724a47b6a666'), 'name': 'Viola', 'address': 'Sideway 1633'}\n",
      "{'_id': 8, 'name': 'Richard', 'address': 'Sky st 331'}\n",
      "{'_id': 14, 'name': 'Viola', 'address': 'Sideway 1633'}\n",
      "{'_id': ObjectId('5d2c252d3caf19c3b3b1bc73'), 'name': 'Richard', 'address': 'Sky st 331'}\n",
      "{'_id': ObjectId('5d2c252d3caf19c3b3b1bc79'), 'name': 'Viola', 'address': 'Sideway 1633'}\n",
      "{'_id': ObjectId('5d2d5b2096d8959e30e2fafe'), 'name': 'Richard', 'address': 'Sky st 331'}\n",
      "{'_id': ObjectId('5d2d5b2096d8959e30e2fb04'), 'name': 'Viola', 'address': 'Sideway 1633'}\n",
      "{'_id': ObjectId('5d2d5df196d8959e30e2fb0d'), 'name': 'Richard', 'address': 'Sky st 331'}\n",
      "{'_id': ObjectId('5d2d5df196d8959e30e2fb13'), 'name': 'Viola', 'address': 'Sideway 1633'}\n",
      "{'_id': ObjectId('5d2d5fc741ac986ba88caa22'), 'name': 'Richard', 'address': 'Sky st 331'}\n",
      "{'_id': ObjectId('5d2d5fc741ac986ba88caa28'), 'name': 'Viola', 'address': 'Sideway 1633'}\n",
      "{'_id': ObjectId('5d2d5fcf47b88b428f1c350d'), 'name': 'Richard', 'address': 'Sky st 331'}\n",
      "{'_id': ObjectId('5d2d5fcf47b88b428f1c3513'), 'name': 'Viola', 'address': 'Sideway 1633'}\n",
      "{'_id': ObjectId('5d2d5fef8fe67b849af7a3c3'), 'name': 'Richard', 'address': 'Sky st 331'}\n",
      "{'_id': ObjectId('5d2d5fef8fe67b849af7a3c9'), 'name': 'Viola', 'address': 'Sideway 1633'}\n"
     ]
    }
   ],
   "source": [
    "myquery = { \"address\": { \"$regex\": \"^S\" } }\n",
    "mydoc = mycol.find(myquery)\n",
    "for insert_c in mydoc:\n",
    "  print(insert_c)"
   ]
  },
  {
   "cell_type": "markdown",
   "metadata": {
    "colab_type": "text",
    "id": "B1W9jlEnB_cw"
   },
   "source": [
    "Sorting can be applied by invoking the Sort() method after the Find() method. Sort the collection by the name field:"
   ]
  },
  {
   "cell_type": "code",
   "execution_count": 58,
   "metadata": {
    "colab": {},
    "colab_type": "code",
    "id": "fzxxFYrtB_cw"
   },
   "outputs": [
    {
     "name": "stdout",
     "output_type": "stream",
     "text": [
      "{'_id': ObjectId('5d2c24392b12724a47b6a65b'), 'name': 'Amy', 'address': 'Apple st 652'}\n",
      "{'_id': 3, 'name': 'Amy', 'address': 'Apple st 652'}\n",
      "{'_id': ObjectId('5d2c252d3caf19c3b3b1bc6e'), 'name': 'Amy', 'address': 'Apple st 652'}\n",
      "{'_id': ObjectId('5d2d5b2096d8959e30e2faf9'), 'name': 'Amy', 'address': 'Apple st 652'}\n",
      "{'_id': ObjectId('5d2d5df196d8959e30e2fb08'), 'name': 'Amy', 'address': 'Apple st 652'}\n",
      "{'_id': ObjectId('5d2d5fc741ac986ba88caa1d'), 'name': 'Amy', 'address': 'Apple st 652'}\n",
      "{'_id': ObjectId('5d2d5fcf47b88b428f1c3508'), 'name': 'Amy', 'address': 'Apple st 652'}\n",
      "{'_id': ObjectId('5d2d5fef8fe67b849af7a3be'), 'name': 'Amy', 'address': 'Apple st 652'}\n",
      "{'_id': ObjectId('5d2c24392b12724a47b6a663'), 'name': 'Ben', 'address': 'Park Lane 38'}\n",
      "{'_id': 11, 'name': 'Ben', 'address': 'Park Lane 38'}\n",
      "{'_id': ObjectId('5d2c252d3caf19c3b3b1bc76'), 'name': 'Ben', 'address': 'Park Lane 38'}\n",
      "{'_id': ObjectId('5d2d5b2096d8959e30e2fb01'), 'name': 'Ben', 'address': 'Park Lane 38'}\n",
      "{'_id': ObjectId('5d2d5df196d8959e30e2fb10'), 'name': 'Ben', 'address': 'Park Lane 38'}\n",
      "{'_id': ObjectId('5d2d5fc741ac986ba88caa25'), 'name': 'Ben', 'address': 'Park Lane 38'}\n",
      "{'_id': ObjectId('5d2d5fcf47b88b428f1c3510'), 'name': 'Ben', 'address': 'Park Lane 38'}\n",
      "{'_id': ObjectId('5d2d5fef8fe67b849af7a3c6'), 'name': 'Ben', 'address': 'Park Lane 38'}\n",
      "{'_id': ObjectId('5d2c24392b12724a47b6a65f'), 'name': 'Betty', 'address': 'Green Grass 1'}\n",
      "{'_id': 7, 'name': 'Betty', 'address': 'Green Grass 1'}\n",
      "{'_id': ObjectId('5d2c252d3caf19c3b3b1bc72'), 'name': 'Betty', 'address': 'Green Grass 1'}\n",
      "{'_id': ObjectId('5d2d5b2096d8959e30e2fafd'), 'name': 'Betty', 'address': 'Green Grass 1'}\n",
      "{'_id': ObjectId('5d2d5df196d8959e30e2fb0c'), 'name': 'Betty', 'address': 'Green Grass 1'}\n",
      "{'_id': ObjectId('5d2d5fc741ac986ba88caa21'), 'name': 'Betty', 'address': 'Green Grass 1'}\n",
      "{'_id': ObjectId('5d2d5fcf47b88b428f1c350c'), 'name': 'Betty', 'address': 'Green Grass 1'}\n",
      "{'_id': ObjectId('5d2d5fef8fe67b849af7a3c2'), 'name': 'Betty', 'address': 'Green Grass 1'}\n",
      "{'_id': ObjectId('5d2c24392b12724a47b6a665'), 'name': 'Chuck', 'address': 'Main Road 989'}\n",
      "{'_id': 13, 'name': 'Chuck', 'address': 'Main Road 989'}\n",
      "{'_id': ObjectId('5d2c252d3caf19c3b3b1bc78'), 'name': 'Chuck', 'address': 'Main Road 989'}\n",
      "{'_id': ObjectId('5d2d5b2096d8959e30e2fb03'), 'name': 'Chuck', 'address': 'Main Road 989'}\n",
      "{'_id': ObjectId('5d2d5df196d8959e30e2fb12'), 'name': 'Chuck', 'address': 'Main Road 989'}\n",
      "{'_id': ObjectId('5d2d5fc741ac986ba88caa27'), 'name': 'Chuck', 'address': 'Main Road 989'}\n",
      "{'_id': ObjectId('5d2d5fcf47b88b428f1c3512'), 'name': 'Chuck', 'address': 'Main Road 989'}\n",
      "{'_id': ObjectId('5d2d5fef8fe67b849af7a3c8'), 'name': 'Chuck', 'address': 'Main Road 989'}\n",
      "{'_id': ObjectId('5d2c24392b12724a47b6a65c'), 'name': 'Hannah', 'address': 'Mountain 21'}\n",
      "{'_id': 4, 'name': 'Hannah', 'address': 'Mountain 21'}\n",
      "{'_id': ObjectId('5d2c252d3caf19c3b3b1bc6f'), 'name': 'Hannah', 'address': 'Mountain 21'}\n",
      "{'_id': ObjectId('5d2d5b2096d8959e30e2fafa'), 'name': 'Hannah', 'address': 'Mountain 21'}\n",
      "{'_id': ObjectId('5d2d5df196d8959e30e2fb09'), 'name': 'Hannah', 'address': 'Mountain 21'}\n",
      "{'_id': ObjectId('5d2d5fc741ac986ba88caa1e'), 'name': 'Hannah', 'address': 'Mountain 21'}\n",
      "{'_id': ObjectId('5d2d5fcf47b88b428f1c3509'), 'name': 'Hannah', 'address': 'Mountain 21'}\n",
      "{'_id': ObjectId('5d2d5fef8fe67b849af7a3bf'), 'name': 'Hannah', 'address': 'Mountain 21'}\n",
      "{'_id': ObjectId('5d2c21e12b12724a47b6a655'), 'name': 'John', 'address': 'Highway 37'}\n",
      "{'_id': 1, 'name': 'John', 'address': 'Highway 37'}\n",
      "{'_id': ObjectId('5d2c252d3caf19c3b3b1bc6c'), 'name': 'John', 'address': 'Highway 37'}\n",
      "{'_id': ObjectId('5d2d5b1f96d8959e30e2faf7'), 'name': 'John', 'address': 'Highway 37'}\n",
      "{'_id': ObjectId('5d2d5ddd96d8959e30e2fb06'), 'name': 'John', 'address': 'Highway 37'}\n",
      "{'_id': ObjectId('5d2d5fc741ac986ba88caa1b'), 'name': 'John', 'address': 'Highway 37'}\n",
      "{'_id': ObjectId('5d2d5fcf47b88b428f1c3506'), 'name': 'John', 'address': 'Highway 37'}\n",
      "{'_id': ObjectId('5d2d5fef8fe67b849af7a3bc'), 'name': 'John', 'address': 'Highway 37'}\n",
      "{'_id': ObjectId('5d2c24392b12724a47b6a65d'), 'name': 'Michael', 'address': 'Valley 345'}\n",
      "{'_id': 5, 'name': 'Michael', 'address': 'Valley 345'}\n",
      "{'_id': ObjectId('5d2c252d3caf19c3b3b1bc70'), 'name': 'Michael', 'address': 'Valley 345'}\n",
      "{'_id': ObjectId('5d2d5b2096d8959e30e2fafb'), 'name': 'Michael', 'address': 'Valley 345'}\n",
      "{'_id': ObjectId('5d2d5df196d8959e30e2fb0a'), 'name': 'Michael', 'address': 'Valley 345'}\n",
      "{'_id': ObjectId('5d2d5fc741ac986ba88caa1f'), 'name': 'Michael', 'address': 'Valley 345'}\n",
      "{'_id': ObjectId('5d2d5fcf47b88b428f1c350a'), 'name': 'Michael', 'address': 'Valley 345'}\n",
      "{'_id': ObjectId('5d2d5fef8fe67b849af7a3c0'), 'name': 'Michael', 'address': 'Valley 345'}\n",
      "{'_id': ObjectId('5d2c22bb2b12724a47b6a656'), 'name': 'Peter', 'address': 'Lowstreet 27'}\n",
      "{'_id': ObjectId('5d2c22e02b12724a47b6a657'), 'name': 'Peter', 'address': 'Lowstreet 27'}\n",
      "{'_id': ObjectId('5d2c23112b12724a47b6a658'), 'name': 'Peter', 'address': 'Lowstreet 27'}\n",
      "{'_id': ObjectId('5d2c23432b12724a47b6a659'), 'name': 'Peter', 'address': 'Lowstreet 27'}\n",
      "{'_id': ObjectId('5d2c23eb2b12724a47b6a65a'), 'name': 'Peter', 'address': 'Lowstreet 27'}\n",
      "{'_id': 2, 'name': 'Peter', 'address': 'Lowstreet 27'}\n",
      "{'_id': ObjectId('5d2c252d3caf19c3b3b1bc6d'), 'name': 'Peter', 'address': 'Lowstreet 27'}\n",
      "{'_id': ObjectId('5d2d5b2096d8959e30e2faf8'), 'name': 'Peter', 'address': 'Lowstreet 27'}\n",
      "{'_id': ObjectId('5d2d5dea96d8959e30e2fb07'), 'name': 'Peter', 'address': 'Lowstreet 27'}\n",
      "{'_id': ObjectId('5d2d5fc741ac986ba88caa1c'), 'name': 'Peter', 'address': 'Lowstreet 27'}\n",
      "{'_id': ObjectId('5d2d5fcf47b88b428f1c3507'), 'name': 'Peter', 'address': 'Lowstreet 27'}\n",
      "{'_id': ObjectId('5d2d5fef8fe67b849af7a3bd'), 'name': 'Peter', 'address': 'Lowstreet 27'}\n",
      "{'_id': ObjectId('5d2c24392b12724a47b6a660'), 'name': 'Richard', 'address': 'Sky st 331'}\n",
      "{'_id': 8, 'name': 'Richard', 'address': 'Sky st 331'}\n",
      "{'_id': ObjectId('5d2c252d3caf19c3b3b1bc73'), 'name': 'Richard', 'address': 'Sky st 331'}\n",
      "{'_id': ObjectId('5d2d5b2096d8959e30e2fafe'), 'name': 'Richard', 'address': 'Sky st 331'}\n",
      "{'_id': ObjectId('5d2d5df196d8959e30e2fb0d'), 'name': 'Richard', 'address': 'Sky st 331'}\n",
      "{'_id': ObjectId('5d2d5fc741ac986ba88caa22'), 'name': 'Richard', 'address': 'Sky st 331'}\n",
      "{'_id': ObjectId('5d2d5fcf47b88b428f1c350d'), 'name': 'Richard', 'address': 'Sky st 331'}\n",
      "{'_id': ObjectId('5d2d5fef8fe67b849af7a3c3'), 'name': 'Richard', 'address': 'Sky st 331'}\n",
      "{'_id': ObjectId('5d2c24392b12724a47b6a65e'), 'name': 'Sandy', 'address': 'Ocean blvd 2'}\n",
      "{'_id': 6, 'name': 'Sandy', 'address': 'Ocean blvd 2'}\n",
      "{'_id': ObjectId('5d2c252d3caf19c3b3b1bc71'), 'name': 'Sandy', 'address': 'Ocean blvd 2'}\n",
      "{'_id': ObjectId('5d2d5b2096d8959e30e2fafc'), 'name': 'Sandy', 'address': 'Ocean blvd 2'}\n",
      "{'_id': ObjectId('5d2d5df196d8959e30e2fb0b'), 'name': 'Sandy', 'address': 'Ocean blvd 2'}\n",
      "{'_id': ObjectId('5d2d5fc741ac986ba88caa20'), 'name': 'Sandy', 'address': 'Ocean blvd 2'}\n",
      "{'_id': ObjectId('5d2d5fcf47b88b428f1c350b'), 'name': 'Sandy', 'address': 'Ocean blvd 2'}\n",
      "{'_id': ObjectId('5d2d5fef8fe67b849af7a3c1'), 'name': 'Sandy', 'address': 'Ocean blvd 2'}\n",
      "{'_id': ObjectId('5d2c24392b12724a47b6a661'), 'name': 'Susan', 'address': 'One way 98'}\n",
      "{'_id': 9, 'name': 'Susan', 'address': 'One way 98'}\n",
      "{'_id': ObjectId('5d2c252d3caf19c3b3b1bc74'), 'name': 'Susan', 'address': 'One way 98'}\n",
      "{'_id': ObjectId('5d2d5b2096d8959e30e2faff'), 'name': 'Susan', 'address': 'One way 98'}\n",
      "{'_id': ObjectId('5d2d5df196d8959e30e2fb0e'), 'name': 'Susan', 'address': 'One way 98'}\n",
      "{'_id': ObjectId('5d2d5fc741ac986ba88caa23'), 'name': 'Susan', 'address': 'One way 98'}\n",
      "{'_id': ObjectId('5d2d5fcf47b88b428f1c350e'), 'name': 'Susan', 'address': 'One way 98'}\n",
      "{'_id': ObjectId('5d2d5fef8fe67b849af7a3c4'), 'name': 'Susan', 'address': 'One way 98'}\n",
      "{'_id': ObjectId('5d2c24392b12724a47b6a662'), 'name': 'Vicky', 'address': 'Yellow Garden 2'}\n",
      "{'_id': 10, 'name': 'Vicky', 'address': 'Yellow Garden 2'}\n",
      "{'_id': ObjectId('5d2c252d3caf19c3b3b1bc75'), 'name': 'Vicky', 'address': 'Yellow Garden 2'}\n",
      "{'_id': ObjectId('5d2d5b2096d8959e30e2fb00'), 'name': 'Vicky', 'address': 'Yellow Garden 2'}\n",
      "{'_id': ObjectId('5d2d5df196d8959e30e2fb0f'), 'name': 'Vicky', 'address': 'Yellow Garden 2'}\n",
      "{'_id': ObjectId('5d2d5fc741ac986ba88caa24'), 'name': 'Vicky', 'address': 'Yellow Garden 2'}\n",
      "{'_id': ObjectId('5d2d5fcf47b88b428f1c350f'), 'name': 'Vicky', 'address': 'Yellow Garden 2'}\n",
      "{'_id': ObjectId('5d2d5fef8fe67b849af7a3c5'), 'name': 'Vicky', 'address': 'Yellow Garden 2'}\n",
      "{'_id': ObjectId('5d2c24392b12724a47b6a666'), 'name': 'Viola', 'address': 'Sideway 1633'}\n",
      "{'_id': 14, 'name': 'Viola', 'address': 'Sideway 1633'}\n",
      "{'_id': ObjectId('5d2c252d3caf19c3b3b1bc79'), 'name': 'Viola', 'address': 'Sideway 1633'}\n",
      "{'_id': ObjectId('5d2d5b2096d8959e30e2fb04'), 'name': 'Viola', 'address': 'Sideway 1633'}\n",
      "{'_id': ObjectId('5d2d5df196d8959e30e2fb13'), 'name': 'Viola', 'address': 'Sideway 1633'}\n",
      "{'_id': ObjectId('5d2d5fc741ac986ba88caa28'), 'name': 'Viola', 'address': 'Sideway 1633'}\n",
      "{'_id': ObjectId('5d2d5fcf47b88b428f1c3513'), 'name': 'Viola', 'address': 'Sideway 1633'}\n",
      "{'_id': ObjectId('5d2d5fef8fe67b849af7a3c9'), 'name': 'Viola', 'address': 'Sideway 1633'}\n",
      "{'_id': ObjectId('5d2c24392b12724a47b6a664'), 'name': 'William', 'address': 'Central st 954'}\n",
      "{'_id': 12, 'name': 'William', 'address': 'Central st 954'}\n",
      "{'_id': ObjectId('5d2c252d3caf19c3b3b1bc77'), 'name': 'William', 'address': 'Central st 954'}\n",
      "{'_id': ObjectId('5d2d5b2096d8959e30e2fb02'), 'name': 'William', 'address': 'Central st 954'}\n",
      "{'_id': ObjectId('5d2d5df196d8959e30e2fb11'), 'name': 'William', 'address': 'Central st 954'}\n",
      "{'_id': ObjectId('5d2d5fc741ac986ba88caa26'), 'name': 'William', 'address': 'Central st 954'}\n",
      "{'_id': ObjectId('5d2d5fcf47b88b428f1c3511'), 'name': 'William', 'address': 'Central st 954'}\n",
      "{'_id': ObjectId('5d2d5fef8fe67b849af7a3c7'), 'name': 'William', 'address': 'Central st 954'}\n"
     ]
    }
   ],
   "source": [
    "mydoc = mycol.find().sort('name') #revise all this\n",
    "for insert_c in mydoc:\n",
    "  print(insert_c)"
   ]
  },
  {
   "cell_type": "markdown",
   "metadata": {
    "colab_type": "text",
    "id": "esbldZv0B_cx"
   },
   "source": [
    "Now sort in reverse order (HINT: The Sort() method takes an optional second parameter.)"
   ]
  },
  {
   "cell_type": "markdown",
   "metadata": {
    "colab_type": "text",
    "id": "s0oVQyDGB_cy"
   },
   "source": [
    "A single record can be deleted by specifying some criterion:"
   ]
  },
  {
   "cell_type": "code",
   "execution_count": 59,
   "metadata": {
    "colab": {},
    "colab_type": "code",
    "id": "8yxmQAs6B_cy"
   },
   "outputs": [
    {
     "data": {
      "text/plain": [
       "<pymongo.results.DeleteResult at 0x113b374c8>"
      ]
     },
     "execution_count": 59,
     "metadata": {},
     "output_type": "execute_result"
    }
   ],
   "source": [
    "mycol.delete_one({ \"address\": \"Mountain 21\" })"
   ]
  },
  {
   "cell_type": "markdown",
   "metadata": {
    "colab_type": "text",
    "id": "QqH7lF-uB_c0"
   },
   "source": [
    "Now delete all docs with the 2-digit `Id` values:"
   ]
  },
  {
   "cell_type": "code",
   "execution_count": 60,
   "metadata": {
    "colab": {},
    "colab_type": "code",
    "id": "0pyYX1YUB_c0"
   },
   "outputs": [
    {
     "data": {
      "text/plain": [
       "<pymongo.results.DeleteResult at 0x11380b188>"
      ]
     },
     "execution_count": 60,
     "metadata": {},
     "output_type": "execute_result"
    }
   ],
   "source": [
    "mycol.delete_many({\"_id\": len('_id') == 2})"
   ]
  },
  {
   "cell_type": "markdown",
   "metadata": {
    "colab_type": "text",
    "id": "CsjxNZY6B_c1"
   },
   "source": [
    "This would delete all docs:\n",
    "`x = mycol.delete_many({})`\n",
    "\n",
    "This would remove the collection:\n",
    "`mycol.drop()`"
   ]
  },
  {
   "cell_type": "markdown",
   "metadata": {
    "colab_type": "text",
    "id": "2Dnc3vItB_c2"
   },
   "source": [
    "Change the first instance of \"address\" == \"Valley 345\" to \"Canyon 123\" using update_one().  \n",
    "(HINT: The 1st paramater of update_one() is the criterion (query); the 2nd is dict specifying the field to change and its new value.) "
   ]
  },
  {
   "cell_type": "code",
   "execution_count": null,
   "metadata": {
    "colab": {},
    "colab_type": "code",
    "id": "lhd3SoGjB_c2"
   },
   "outputs": [],
   "source": []
  },
  {
   "cell_type": "markdown",
   "metadata": {
    "colab_type": "text",
    "id": "56frrtHFB_c3"
   },
   "source": [
    "The limit() method can be applied after the find() method to limit the number of docs returned. Show the first 5 docs:"
   ]
  },
  {
   "cell_type": "code",
   "execution_count": null,
   "metadata": {
    "colab": {},
    "colab_type": "code",
    "id": "iKI5zKUbB_c4"
   },
   "outputs": [],
   "source": []
  },
  {
   "cell_type": "markdown",
   "metadata": {
    "colab_type": "text",
    "id": "eT0nESi-B_c5"
   },
   "source": [
    "## PyMongo for Data Science"
   ]
  },
  {
   "cell_type": "markdown",
   "metadata": {
    "colab_type": "text",
    "id": "S_MH0UFpB_c5"
   },
   "source": [
    "MongoDB has many more features of interest to developers, but the main focus of a data scientist will be wrangling and munging the data. It may or may not be desirable to do all the data munging in Pandas; for a large, distributed database, it may be imperative to perform aggregation in MongoDB. "
   ]
  },
  {
   "cell_type": "code",
   "execution_count": 31,
   "metadata": {
    "colab": {},
    "colab_type": "code",
    "id": "TM1rIsJuB_c5"
   },
   "outputs": [],
   "source": [
    "# Ref:  https://rsandstroem.github.io/MongoDBDemo.html\n",
    "\n",
    "import os\n",
    "import pandas as pd\n",
    "import numpy as np"
   ]
  },
  {
   "cell_type": "markdown",
   "metadata": {
    "colab_type": "text",
    "id": "L6kZkdjRB_c7"
   },
   "source": [
    "This code creates a database named \"test\" and populates it from a JSON file using the mongoimport program (executed in the operating systems itself, rather than in Python):"
   ]
  },
  {
   "cell_type": "code",
   "execution_count": 32,
   "metadata": {
    "colab": {},
    "colab_type": "code",
    "id": "Ts0egvaQB_c7"
   },
   "outputs": [],
   "source": [
    "db = client.test\n",
    "# Drop the collection in case it was previously created:\n",
    "# collection = db.people\n",
    "# collection.drop()"
   ]
  },
  {
   "cell_type": "code",
   "execution_count": 33,
   "metadata": {
    "colab": {},
    "colab_type": "code",
    "id": "vCGHi95WB_c8"
   },
   "outputs": [
    {
     "ename": "FileNotFoundError",
     "evalue": "[Errno 2] No such file or directory: 'dat'",
     "output_type": "error",
     "traceback": [
      "\u001b[0;31m---------------------------------------------------------------------------\u001b[0m",
      "\u001b[0;31mFileNotFoundError\u001b[0m                         Traceback (most recent call last)",
      "\u001b[0;32m<ipython-input-33-02cf9bd177c6>\u001b[0m in \u001b[0;36m<module>\u001b[0;34m\u001b[0m\n\u001b[0;32m----> 1\u001b[0;31m \u001b[0mos\u001b[0m\u001b[0;34m.\u001b[0m\u001b[0mchdir\u001b[0m\u001b[0;34m(\u001b[0m\u001b[0;34m\"dat\"\u001b[0m\u001b[0;34m)\u001b[0m\u001b[0;34m\u001b[0m\u001b[0;34m\u001b[0m\u001b[0m\n\u001b[0m",
      "\u001b[0;31mFileNotFoundError\u001b[0m: [Errno 2] No such file or directory: 'dat'"
     ]
    }
   ],
   "source": [
    "os.chdir(\"dat\")"
   ]
  },
  {
   "cell_type": "code",
   "execution_count": null,
   "metadata": {
    "colab": {},
    "colab_type": "code",
    "id": "xiJSDImFB_c8"
   },
   "outputs": [],
   "source": [
    "pwd()"
   ]
  },
  {
   "cell_type": "code",
   "execution_count": null,
   "metadata": {
    "colab": {},
    "colab_type": "code",
    "id": "uHLGg7K7B_c9"
   },
   "outputs": [],
   "source": [
    "# if this does not return 0, execute mongoimport from a commmand window instead:\n",
    "os.system('mongoimport -d test -c people dummyData.json')"
   ]
  },
  {
   "cell_type": "code",
   "execution_count": null,
   "metadata": {
    "colab": {},
    "colab_type": "code",
    "id": "3HZQUaT6B_c9"
   },
   "outputs": [],
   "source": [
    "os.chdir(\"..\")"
   ]
  },
  {
   "cell_type": "code",
   "execution_count": null,
   "metadata": {
    "colab": {},
    "colab_type": "code",
    "id": "7230pPFUB_c-"
   },
   "outputs": [],
   "source": [
    "pwd()"
   ]
  },
  {
   "cell_type": "code",
   "execution_count": null,
   "metadata": {
    "colab": {},
    "colab_type": "code",
    "id": "fXByi5IfB_c_"
   },
   "outputs": [],
   "source": [
    "db = client.test\n",
    "collection = db.people\n",
    "cursor = collection.find().sort('Age',pymongo.ASCENDING).limit(3)\n",
    "for doc in cursor:\n",
    "    print (doc)"
   ]
  },
  {
   "cell_type": "markdown",
   "metadata": {
    "colab_type": "text",
    "id": "vPnfkW2tB_dA"
   },
   "source": [
    "Here is a small demonstration of the MongoDB aggregation framework. We want to create a table of the number of persons in each country and their average age. To do it we group by country. We extract the results from MongoDB aggregation into a pandas dataframe, and use the country as index."
   ]
  },
  {
   "cell_type": "code",
   "execution_count": null,
   "metadata": {
    "colab": {},
    "colab_type": "code",
    "id": "s2q_B0m5B_dA"
   },
   "outputs": [],
   "source": [
    "pipeline = [\n",
    "        {\"$group\": {\"_id\":\"$Country\",\n",
    "             \"AvgAge\":{\"$avg\":\"$Age\"},\n",
    "             \"Count\":{\"$sum\":1},\n",
    "        }},\n",
    "        {\"$sort\":{\"Count\":-1,\"AvgAge\":1}}\n",
    "]\n",
    "aggResult = collection.aggregate(pipeline) # returns a cursor\n",
    "\n",
    "df1 = pd.DataFrame(list(aggResult)) # use list to turn the cursor to an array of documents\n",
    "df1 = df1.set_index(\"_id\")\n",
    "df1.head()"
   ]
  },
  {
   "cell_type": "markdown",
   "metadata": {
    "colab_type": "text",
    "id": "H9vaINaBB_dB"
   },
   "source": [
    "For simple cases one can either use a cursor through find(\"search term\") or use the \"$match\" operator in the aggregation framework, like this:"
   ]
  },
  {
   "cell_type": "code",
   "execution_count": null,
   "metadata": {
    "colab": {},
    "colab_type": "code",
    "id": "3oymmJpUB_dB"
   },
   "outputs": [],
   "source": [
    "pipeline = [\n",
    "        {\"$match\": {\"Country\":\"China\"}},\n",
    "]\n",
    "aggResult = collection.aggregate(pipeline)\n",
    "df2 = pd.DataFrame(list(aggResult))\n",
    "df2.head()"
   ]
  },
  {
   "cell_type": "markdown",
   "metadata": {
    "colab_type": "text",
    "id": "terLdzDaB_dC"
   },
   "source": [
    "Now we can apply all the power of Python libraries to analyse and visualise the data. Here, we will use the folium package to plot markers for the locations of the people we just found in China (click on a marker to see their data):"
   ]
  },
  {
   "cell_type": "code",
   "execution_count": null,
   "metadata": {
    "colab": {},
    "colab_type": "code",
    "id": "v2lsaYlAB_dC"
   },
   "outputs": [],
   "source": [
    "# Un-comment and execute to install folium pkg (1st time only):\n",
    "# import sys\n",
    "# !{sys.executable} -m pip install folium"
   ]
  },
  {
   "cell_type": "code",
   "execution_count": null,
   "metadata": {
    "colab": {},
    "colab_type": "code",
    "id": "SuRbCt48B_dD"
   },
   "outputs": [],
   "source": [
    "import folium\n",
    "print ('Folium version ' + folium.__version__)\n",
    "\n",
    "world_map = folium.Map(location = [35, 100], zoom_start = 4)\n",
    "for i in range(len(df2)):\n",
    "    location = [float(loc) for loc in df2.Location[i].split(',')]\n",
    "    folium.Marker(location = location, popup = df2.Name[i] + ', age:' + str(df2.Age[i])).add_to(world_map)\n",
    "    \n",
    "world_map"
   ]
  },
  {
   "cell_type": "markdown",
   "metadata": {
    "colab_type": "text",
    "id": "Sr0Uxfq8B_dD"
   },
   "source": [
    "## HOMEWORK:\n"
   ]
  },
  {
   "cell_type": "markdown",
   "metadata": {
    "colab_type": "text",
    "id": "82_s5XvcB_dD"
   },
   "source": [
    "1. Read up on how to perform aggregation in mongoDB. Insert a duplicate record into the collection:\n",
    "        mydict = { \"name\": \"John\", \"address\": \"Highway 37\" }\n",
    "   Now write a command to find docs with a duplicate \"name\" field (using aggregation) and remove them.  \n",
    "   Print the collection."
   ]
  },
  {
   "cell_type": "code",
   "execution_count": null,
   "metadata": {
    "colab": {},
    "colab_type": "code",
    "id": "hnSSNTBuB_dD"
   },
   "outputs": [],
   "source": []
  },
  {
   "cell_type": "markdown",
   "metadata": {
    "colab_type": "text",
    "id": "1Ndwie7xB_dE"
   },
   "source": [
    "2. Read up on how to apply indexes in mongoDB. Create an index on the \"name\" and \"address\" fields in this collection.\n",
    "   Print the indexes for the collection."
   ]
  },
  {
   "cell_type": "code",
   "execution_count": null,
   "metadata": {
    "colab": {},
    "colab_type": "code",
    "id": "bFyHLpKyB_dE"
   },
   "outputs": [],
   "source": []
  },
  {
   "cell_type": "markdown",
   "metadata": {
    "colab_type": "text",
    "id": "Hj8GdoOXC-Lu"
   },
   "source": [
    "\n",
    "\n",
    "> \n",
    ">\n",
    ">\n",
    "\n",
    "\n"
   ]
  },
  {
   "cell_type": "markdown",
   "metadata": {
    "colab_type": "text",
    "id": "MlasiTKgDGdA"
   },
   "source": [
    "**© 2019 Data Science Institute of Australia**"
   ]
  }
 ],
 "metadata": {
  "colab": {
   "collapsed_sections": [
    "eT0nESi-B_c5"
   ],
   "name": "DSIA Lab 2.1.4.ipynb",
   "provenance": [
    {
     "file_id": "17D0zRG20oX_57CwR4eNwdLhO4Qhlk4Dx",
     "timestamp": 1553134552284
    }
   ],
   "version": "0.3.2"
  },
  "kernelspec": {
   "display_name": "Python 3",
   "language": "python",
   "name": "python3"
  },
  "language_info": {
   "codemirror_mode": {
    "name": "ipython",
    "version": 3
   },
   "file_extension": ".py",
   "mimetype": "text/x-python",
   "name": "python",
   "nbconvert_exporter": "python",
   "pygments_lexer": "ipython3",
   "version": "3.7.3"
  }
 },
 "nbformat": 4,
 "nbformat_minor": 2
}
