{
 "cells": [
  {
   "cell_type": "markdown",
   "metadata": {
    "colab_type": "text",
    "id": "XfnQYVMtJhQD"
   },
   "source": [
    "![alt text](https://i.imgur.com/1WaY7aA.png)\n",
    "\n",
    "\n",
    "---\n",
    "\n",
    "\n",
    "\n",
    "---\n",
    "\n"
   ]
  },
  {
   "cell_type": "markdown",
   "metadata": {
    "colab_type": "text",
    "id": "5dCt8XbjJhQG"
   },
   "source": [
    "# Lab 2.2.2 \n",
    "# *Mining Social Media with Twitter*"
   ]
  },
  {
   "cell_type": "markdown",
   "metadata": {
    "colab_type": "text",
    "id": "b5VfS9hhJhQI"
   },
   "source": [
    "## The Twitter API and Tweepy Package"
   ]
  },
  {
   "cell_type": "markdown",
   "metadata": {
    "colab_type": "text",
    "id": "lF2z-w5uJhQK"
   },
   "source": [
    "The Twitter API provides access to tweets and comments, and allows an application to post tweets to the user's timeline. \n",
    "\n",
    "Twitter requires developers to create and authenticate an app before they can use the API. As of recent policy changes, however, new developers must be approved before they can create an app. There is no indication of the waiting period for approval."
   ]
  },
  {
   "cell_type": "markdown",
   "metadata": {
    "colab_type": "text",
    "id": "M0wxJ8HNJhQM"
   },
   "source": [
    "### 1. Apply for Developer Access\n",
    "\n",
    "Go to https://blog.twitter.com/developer/en_us/topics/tools/2018/new-developer-requirements-to-protect-our-platform.html\n",
    "and read the advice.\n",
    "![image.png](attachment:image.png)"
   ]
  },
  {
   "cell_type": "markdown",
   "metadata": {
    "colab_type": "text",
    "id": "tICSKwL1JhQN"
   },
   "source": [
    "Apply at https://developer.twitter.com/en/apply-for-access.html\n",
    "![image.png](attachment:image.png)"
   ]
  },
  {
   "cell_type": "markdown",
   "metadata": {
    "colab_type": "text",
    "id": "M4-znQaaJhQP"
   },
   "source": [
    "Then go to https://developer.twitter.com/en/review every day until you see whatever comes after this: \n",
    "![image.png](attachment:image.png)"
   ]
  },
  {
   "cell_type": "markdown",
   "metadata": {
    "colab_type": "text",
    "id": "NMeZ70IZJhQR"
   },
   "source": [
    "### 2. Create Your Twitter App\n",
    "![image.png](attachment:image.png)"
   ]
  },
  {
   "cell_type": "markdown",
   "metadata": {
    "colab_type": "text",
    "id": "HpWMHz9NJhQS"
   },
   "source": [
    "### 3. Load Python Libraries"
   ]
  },
  {
   "cell_type": "code",
   "execution_count": 4,
   "metadata": {
    "colab": {},
    "colab_type": "code",
    "id": "16hb8EpNJhQU"
   },
   "outputs": [],
   "source": [
    "import tweepy\n",
    "import json\n",
    "import pprint"
   ]
  },
  {
   "cell_type": "markdown",
   "metadata": {
    "colab_type": "text",
    "id": "p7W0se6_JhQX"
   },
   "source": [
    "### 4. Authenticate from your Python script"
   ]
  },
  {
   "cell_type": "markdown",
   "metadata": {
    "colab_type": "text",
    "id": "mJfe55dVJhQY"
   },
   "source": [
    "You could assign your authentication details explicitly, as follows:"
   ]
  },
  {
   "cell_type": "code",
   "execution_count": 5,
   "metadata": {
    "colab": {},
    "colab_type": "code",
    "id": "aygW7a3eJhQZ"
   },
   "outputs": [],
   "source": [
    "my_consumer_key = '4xPV0tmdlrb5ZQsOVqXpgmCNV'      # your consumer key (string) goes in here\n",
    "my_consumer_secret = 'rABwgPQZJAxRRTLhbIvXg8IcrWJGDRg0MC5LLnrLy8Nph98Q0z'   # your consumer secret key (string) goes in here\n",
    "my_access_token = '977026214081708032-IUrnQhQenKoNJTvQIlaIyvrK30vgHLF'      # your access token (string goes in here\n",
    "access_token_secret = 'OWOAjae42eJAHHeVkGaCUF43ebEAmSIu4nA53RNYipb6U'  # your access token secret (string) goes in here"
   ]
  },
  {
   "cell_type": "markdown",
   "metadata": {
    "colab_type": "text",
    "id": "7LXwmSzOJhQe"
   },
   "source": [
    "A better way would be to store these details externally, so they are not displayed in the notebook:\n",
    "\n",
    "- create a file called \"auth_twitter.json\" in your \"notebooks\" directory, and save your credentials there in JSON format:\n",
    "\n",
    "`{   \"my_consumer_key\": \"your consumer key (string) goes in here\",` <br>\n",
    "&nbsp;&nbsp;&nbsp;&nbsp;&nbsp;&nbsp;&nbsp;&nbsp;` \"my_consumer_secret\": \"your consumer secret key (string) goes in here\",` <br>\n",
    "&nbsp;&nbsp;&nbsp;&nbsp;&nbsp;&nbsp;&nbsp;&nbsp;`\"your access token (string goes in here\",` <br>\n",
    "&nbsp;&nbsp;&nbsp;&nbsp;&nbsp;&nbsp;&nbsp;&nbsp;`\"my_access_token_secret\": \"your access token secret (string) goes in here\"` <br>\n",
    "`}`\n",
    "\n",
    "(Nb. Parsers are very fussy. Make sure each key:value pair has a comma after it except the last one!)  \n",
    "\n",
    "Use the following code to load the credentials:  "
   ]
  },
  {
   "cell_type": "code",
   "execution_count": 10,
   "metadata": {},
   "outputs": [],
   "source": [
    "import json\n",
    "\n",
    "auth_twitter_json = {\n",
    "    my_consumer_key:'4xPV0tmdlrb5ZQsOVqXpgmCNV',\n",
    "    my_consumer_secret:'rABwgPQZJAxRRTLhbIvXg8IcrWJGDRg0MC5LLnrLy8Nph98Q0z',\n",
    "    my_access_token:'977026214081708032-IUrnQhQenKoNJTvQIlaIyvrK30vgHLF',\n",
    "    access_token_secret:'OWOAjae42eJAHHeVkGaCUF43ebEAmSIu4nA53RNYipb6U'\n",
    "}\n",
    "\n",
    "with open('auth_twitter.json', 'w') as outfile:  \n",
    "    json.dump(auth_twitter_json, outfile)"
   ]
  },
  {
   "cell_type": "code",
   "execution_count": 11,
   "metadata": {
    "colab": {},
    "colab_type": "code",
    "id": "kh2srKpzJhQh"
   },
   "outputs": [
    {
     "data": {
      "text/plain": [
       "'/Users/hieu/Desktop/hill_DS/DSIA-SYD-FT-Projects-201907/hieu/Lab2_Hieu'"
      ]
     },
     "execution_count": 11,
     "metadata": {},
     "output_type": "execute_result"
    }
   ],
   "source": [
    "pwd()  # make sure your working directory is where the file is"
   ]
  },
  {
   "cell_type": "code",
   "execution_count": 12,
   "metadata": {
    "colab": {},
    "colab_type": "code",
    "id": "uR8Vchz7JhQm"
   },
   "outputs": [],
   "source": [
    "path_auth = 'auth_twitter.json'\n",
    "auth = json.loads(open(path_auth).read())\n",
    "pp = pprint.PrettyPrinter(indent=4)\n",
    "# For debugging only:\n",
    "#pp.pprint(auth)\n",
    "\n",
    "my_consumer_key = auth['4xPV0tmdlrb5ZQsOVqXpgmCNV']\n",
    "my_consumer_secret = auth['rABwgPQZJAxRRTLhbIvXg8IcrWJGDRg0MC5LLnrLy8Nph98Q0z']\n",
    "my_access_token = auth['977026214081708032-IUrnQhQenKoNJTvQIlaIyvrK30vgHLF']\n",
    "my_access_token_secret = auth['OWOAjae42eJAHHeVkGaCUF43ebEAmSIu4nA53RNYipb6U']"
   ]
  },
  {
   "cell_type": "markdown",
   "metadata": {
    "colab_type": "text",
    "id": "GPRmYZigJhQp"
   },
   "source": [
    "Security considerations: \n",
    "- this method only keeps your credentials invisible as long as nobody accesses this notebook while it's running on your computer \n",
    "- if you wanted another user to have access to the executable notebook without divulging your credentials you should set up an OAuth 2.0 workflow to let them obtain and apply their own API tokens when using your app\n",
    "- if you just want to share your analyses, you could use a separate script (which you don't share) to fetch the data and save it locally, then use a second notebook (with no API access) to load and analyse the locally stored data"
   ]
  },
  {
   "cell_type": "markdown",
   "metadata": {
    "colab_type": "text",
    "id": "Ln30k0pZJhQp"
   },
   "source": [
    "### 5. Exploring the API"
   ]
  },
  {
   "cell_type": "markdown",
   "metadata": {
    "colab_type": "text",
    "id": "6fsc0U1nJhQq"
   },
   "source": [
    "Here is how to connect to Twitter using the Tweepy library:"
   ]
  },
  {
   "cell_type": "code",
   "execution_count": 13,
   "metadata": {
    "colab": {},
    "colab_type": "code",
    "id": "-y_4GBx1JhQr"
   },
   "outputs": [],
   "source": [
    "auth = tweepy.OAuthHandler(my_consumer_key, my_consumer_secret)\n",
    "auth.set_access_token(my_access_token, my_access_token_secret)\n",
    "api = tweepy.API(auth)"
   ]
  },
  {
   "cell_type": "markdown",
   "metadata": {
    "colab_type": "text",
    "id": "wSKzR9LdJhQu"
   },
   "source": [
    "In the next cell, put the cursor after the '.' and hit the [tab] key to see the available members and methods in the response object:"
   ]
  },
  {
   "cell_type": "code",
   "execution_count": null,
   "metadata": {
    "colab": {},
    "colab_type": "code",
    "id": "BfnAOR2bJhQv"
   },
   "outputs": [],
   "source": [
    "api.cache"
   ]
  },
  {
   "cell_type": "markdown",
   "metadata": {
    "colab_type": "text",
    "id": "DcJ-cc6zJhQz"
   },
   "source": [
    "Consult the Tweept and Twitter API documentation. Print a few of the response members below:"
   ]
  },
  {
   "cell_type": "code",
   "execution_count": 14,
   "metadata": {
    "colab": {},
    "colab_type": "code",
    "id": "W_IKqMAQJhQ1"
   },
   "outputs": [
    {
     "name": "stdout",
     "output_type": "stream",
     "text": [
      "/1.1\n",
      "<function bind_api.<locals>._call at 0x1070eb158>\n"
     ]
    }
   ],
   "source": [
    "print(api.api_root)\n",
    "print(api.friends)"
   ]
  },
  {
   "cell_type": "markdown",
   "metadata": {
    "colab_type": "text",
    "id": "dLkdLKjLJhQ3"
   },
   "source": [
    "This will fetch recent tweets from accounts you follow:"
   ]
  },
  {
   "cell_type": "code",
   "execution_count": 15,
   "metadata": {
    "colab": {},
    "colab_type": "code",
    "id": "l9y8t3X7JhQ4"
   },
   "outputs": [
    {
     "name": "stdout",
     "output_type": "stream",
     "text": [
      "This construction #robot can lay bricks 6 times faster than you or I #AI #ArtificialInteligence #IIoT #Robotics… https://t.co/WbKFUYzJTg\n",
      "Asset Performance: The art of doing more with less https://t.co/qPskuCLk5x\n",
      "New AI tool lets you doctor photos, and it&amp;#8217;s showing surprising potential https://t.co/o3DXrAKm1I\n",
      "Five Predictions: The Impacts Of #AI And #Automation On The #FutureOfWork (via @Forbes)  https://t.co/juPDbUzDPW https://t.co/z6ZX8UTBNF\n",
      "Z-Wave Alliance Promotes Enhanced Certification for Next Generation Z-Wave Devices https://t.co/xrL4idi33G\n",
      "Titanium fire caused capsule explosion - SpaceX https://t.co/ui6j9aPPpC\n",
      "The 10 fastest-growing #cities are all in #India &gt;&gt;&gt; @wef via @MikeQuindazzi &gt;&gt;&gt; A shift in urban power #Megatrends… https://t.co/qZodtuh83L\n",
      "Will my IoT Initiative Work in a Heavy Industry Environment? https://t.co/JwjsJ5fx1C\n",
      "Implementing IoT – overcoming barriers to commercial adoption: https://t.co/oZaIOjfUQ2 #IoT https://t.co/ZZbbY2lQ8j\n",
      "#IoT security suffers from a lack of awareness https://t.co/5yPIyi9TFg https://t.co/pH3J6j7uc8\n",
      "4 Non-Tech Steps to #DigitalTransformation Success in Banking https://t.co/ElKldrG2L8 https://t.co/z8dhLNllEk\n",
      "This creepy crawling robot has a skeleton made from tree branches https://t.co/n5JzSeW8q8\n",
      "3 Ways IIoT Can Help You Avoid Unplanned Downtime https://t.co/XFmuKIdsqx\n",
      "These clothes were designed by artificial intelligence https://t.co/LAW6ifDlgV #technology https://t.co/rQA9Xy8Cox\n",
      "The University of British Columbia Improves Campus Parking and Waste Management With LoRa® Technology https://t.co/BT5vS38tw9\n",
      "Trust Is the Lifeblood of Consumer IoT https://t.co/46m9YceqvU\n",
      "IoT Applications in Construction https://t.co/RQytVAypJo\n",
      "Embrace Smart Data to Achieve Your Marketing Goals https://t.co/W1Ilz6zvy0 #contentmarketing\n",
      "Get a Google Home Mini and Chromecast together for $60 https://t.co/vGM5ERVjVo\n",
      "How #Blockchain Will Improve Your Big Data #BigData #Analytics #Provenance https://t.co/yebODFUKCx https://t.co/xaRh74dhJu\n"
     ]
    }
   ],
   "source": [
    "# Recent tweets from accounts you follow:\n",
    "tweets = api.home_timeline()\n",
    "for tweet in tweets:\n",
    "    print(tweet.text)"
   ]
  },
  {
   "cell_type": "markdown",
   "metadata": {
    "colab_type": "text",
    "id": "k2NpPlOIJhQ6"
   },
   "source": [
    "The request to see your own recent tweets is similar, but uses the `user_timeline` endpoint. Try this below:"
   ]
  },
  {
   "cell_type": "code",
   "execution_count": 16,
   "metadata": {
    "colab": {},
    "colab_type": "code",
    "id": "QMlhdx5NJhQ6"
   },
   "outputs": [
    {
     "name": "stdout",
     "output_type": "stream",
     "text": [
      "First video of my software testing journey - 4.27mins - idea from @ckarena, Test-ed. https://t.co/DcIZ1SFSom\n",
      "thanks to @cakarena, it was a privilege to sit &amp; listen to @jamesmarcusbach for 2 hours 40 minutes in person. Liste… https://t.co/r5qy5wOu8e\n"
     ]
    }
   ],
   "source": [
    "tweets = api.user_timeline()\n",
    "for tweet in tweets:\n",
    "    print(tweet.text)"
   ]
  },
  {
   "cell_type": "markdown",
   "metadata": {
    "colab_type": "text",
    "id": "qY7oM-lJJhQ8"
   },
   "source": [
    "Now, instead of printing the text of each tweet, print the `created_at` and `id_str` methods:"
   ]
  },
  {
   "cell_type": "code",
   "execution_count": 17,
   "metadata": {
    "colab": {},
    "colab_type": "code",
    "id": "aUOlNdG8JhQ9"
   },
   "outputs": [
    {
     "name": "stdout",
     "output_type": "stream",
     "text": [
      "2019-07-16 09:32:14 1151061973397884929\n",
      "2019-07-16 09:28:39 1151061068766208001\n",
      "2019-07-16 09:20:12 1151058944799977472\n",
      "2019-07-16 09:18:18 1151058463893741569\n",
      "2019-07-16 09:13:50 1151057342332571649\n",
      "2019-07-16 09:07:36 1151055771725160448\n",
      "2019-07-16 09:01:27 1151054225625010177\n",
      "2019-07-16 09:00:17 1151053932237611009\n",
      "2019-07-16 09:00:16 1151053927372283904\n",
      "2019-07-16 08:45:53 1151050306228240384\n",
      "2019-07-16 08:33:32 1151047201734516736\n",
      "2019-07-16 08:27:27 1151045667076358144\n",
      "2019-07-16 08:21:06 1151044069608579072\n",
      "2019-07-16 08:17:11 1151043084777603072\n",
      "2019-07-16 08:15:47 1151042731298496515\n",
      "2019-07-16 08:08:30 1151040898677039104\n",
      "2019-07-16 08:00:15 1151038824434339841\n",
      "2019-07-16 07:54:44 1151037434882338817\n",
      "2019-07-16 07:34:49 1151032423431454721\n",
      "2019-07-16 07:31:11 1151031508267933696\n"
     ]
    }
   ],
   "source": [
    "tweets = api.home_timeline()\n",
    "for tweet in tweets:\n",
    "    print(tweet.created_at, tweet.id_str)"
   ]
  },
  {
   "cell_type": "markdown",
   "metadata": {
    "colab_type": "text",
    "id": "3PibchrmJhQ-"
   },
   "source": [
    "You can create a tweet as follows:"
   ]
  },
  {
   "cell_type": "code",
   "execution_count": 18,
   "metadata": {
    "colab": {},
    "colab_type": "code",
    "id": "IwzTjf1gJhQ_"
   },
   "outputs": [],
   "source": [
    "# create a tweet:\n",
    "tweet = api.update_status('Test: Made with Tweepy')"
   ]
  },
  {
   "cell_type": "markdown",
   "metadata": {
    "colab_type": "text",
    "id": "TtlXvbjoJhRB"
   },
   "source": [
    "(Nb. Don't abuse this feature! If you try to generate a zillion tweets in a loop, Twitter will ban youur account.)"
   ]
  },
  {
   "cell_type": "markdown",
   "metadata": {
    "colab_type": "text",
    "id": "awUIiruTJhRB"
   },
   "source": [
    "Tweets can be deleted by reference to their `id_str` attribute:"
   ]
  },
  {
   "cell_type": "code",
   "execution_count": 19,
   "metadata": {
    "colab": {},
    "colab_type": "code",
    "id": "tKPSCOEBJhRC"
   },
   "outputs": [],
   "source": [
    "# delete a tweet:\n",
    "status = api.destroy_status(tweet.id_str)"
   ]
  },
  {
   "cell_type": "markdown",
   "metadata": {
    "colab_type": "text",
    "id": "hEt9NWJBJhRE"
   },
   "source": [
    "You can follow a Tweeter:"
   ]
  },
  {
   "cell_type": "code",
   "execution_count": 20,
   "metadata": {
    "colab": {},
    "colab_type": "code",
    "id": "CDWxR8wOJhRF"
   },
   "outputs": [
    {
     "data": {
      "text/plain": [
       "User(_api=<tweepy.api.API object at 0x106aebcc0>, _json={'id': 10228272, 'id_str': '10228272', 'name': 'YouTube', 'screen_name': 'YouTube', 'location': 'San Bruno, CA', 'description': 'Pivoting to video.', 'url': 'https://t.co/F3fLcf5sH7', 'entities': {'url': {'urls': [{'url': 'https://t.co/F3fLcf5sH7', 'expanded_url': 'http://youtube.com', 'display_url': 'youtube.com', 'indices': [0, 23]}]}, 'description': {'urls': []}}, 'protected': False, 'followers_count': 71662179, 'friends_count': 1041, 'listed_count': 81951, 'created_at': 'Tue Nov 13 21:43:46 +0000 2007', 'favourites_count': 2516, 'utc_offset': None, 'time_zone': None, 'geo_enabled': False, 'verified': True, 'statuses_count': 23554, 'lang': None, 'status': {'created_at': 'Mon Jul 15 18:39:34 +0000 2019', 'id': 1150837326597148672, 'id_str': '1150837326597148672', 'text': 'Can you really fix anything with ramen noodles and super glue? @thekingofrandom finds out! → https://t.co/6t40i28LeR https://t.co/wd5m0pkB1k', 'truncated': False, 'entities': {'hashtags': [], 'symbols': [], 'user_mentions': [{'screen_name': 'thekingofrandom', 'name': 'The King of Random', 'id': 38799816, 'id_str': '38799816', 'indices': [63, 79]}], 'urls': [{'url': 'https://t.co/6t40i28LeR', 'expanded_url': 'https://goo.gle/2Y39NeW', 'display_url': 'goo.gle/2Y39NeW', 'indices': [93, 116]}], 'media': [{'id': 1150837270603132928, 'id_str': '1150837270603132928', 'indices': [117, 140], 'media_url': 'http://pbs.twimg.com/tweet_video_thumb/D_iYZnSUcAAm4Uk.jpg', 'media_url_https': 'https://pbs.twimg.com/tweet_video_thumb/D_iYZnSUcAAm4Uk.jpg', 'url': 'https://t.co/wd5m0pkB1k', 'display_url': 'pic.twitter.com/wd5m0pkB1k', 'expanded_url': 'https://twitter.com/YouTube/status/1150837326597148672/photo/1', 'type': 'photo', 'sizes': {'medium': {'w': 574, 'h': 304, 'resize': 'fit'}, 'thumb': {'w': 150, 'h': 150, 'resize': 'crop'}, 'large': {'w': 574, 'h': 304, 'resize': 'fit'}, 'small': {'w': 574, 'h': 304, 'resize': 'fit'}}}]}, 'extended_entities': {'media': [{'id': 1150837270603132928, 'id_str': '1150837270603132928', 'indices': [117, 140], 'media_url': 'http://pbs.twimg.com/tweet_video_thumb/D_iYZnSUcAAm4Uk.jpg', 'media_url_https': 'https://pbs.twimg.com/tweet_video_thumb/D_iYZnSUcAAm4Uk.jpg', 'url': 'https://t.co/wd5m0pkB1k', 'display_url': 'pic.twitter.com/wd5m0pkB1k', 'expanded_url': 'https://twitter.com/YouTube/status/1150837326597148672/photo/1', 'type': 'animated_gif', 'sizes': {'medium': {'w': 574, 'h': 304, 'resize': 'fit'}, 'thumb': {'w': 150, 'h': 150, 'resize': 'crop'}, 'large': {'w': 574, 'h': 304, 'resize': 'fit'}, 'small': {'w': 574, 'h': 304, 'resize': 'fit'}}, 'video_info': {'aspect_ratio': [287, 152], 'variants': [{'bitrate': 0, 'content_type': 'video/mp4', 'url': 'https://video.twimg.com/tweet_video/D_iYZnSUcAAm4Uk.mp4'}]}}]}, 'source': '<a href=\"http://twitter.com\" rel=\"nofollow\">Twitter Web Client</a>', 'in_reply_to_status_id': None, 'in_reply_to_status_id_str': None, 'in_reply_to_user_id': None, 'in_reply_to_user_id_str': None, 'in_reply_to_screen_name': None, 'geo': None, 'coordinates': None, 'place': None, 'contributors': None, 'is_quote_status': False, 'retweet_count': 71, 'favorite_count': 688, 'favorited': False, 'retweeted': False, 'possibly_sensitive': False, 'lang': 'en'}, 'contributors_enabled': False, 'is_translator': False, 'is_translation_enabled': True, 'profile_background_color': 'AF0000', 'profile_background_image_url': 'http://abs.twimg.com/images/themes/theme14/bg.gif', 'profile_background_image_url_https': 'https://abs.twimg.com/images/themes/theme14/bg.gif', 'profile_background_tile': True, 'profile_image_url': 'http://pbs.twimg.com/profile_images/1148327441527689217/1QpS06D6_normal.png', 'profile_image_url_https': 'https://pbs.twimg.com/profile_images/1148327441527689217/1QpS06D6_normal.png', 'profile_banner_url': 'https://pbs.twimg.com/profile_banners/10228272/1562959185', 'profile_link_color': 'C9191D', 'profile_sidebar_border_color': '000000', 'profile_sidebar_fill_color': 'EFEFEF', 'profile_text_color': '333333', 'profile_use_background_image': True, 'has_extended_profile': False, 'default_profile': False, 'default_profile_image': False, 'following': False, 'follow_request_sent': False, 'notifications': False, 'muting': False, 'translator_type': 'regular'}, id=10228272, id_str='10228272', name='YouTube', screen_name='YouTube', location='San Bruno, CA', description='Pivoting to video.', url='https://t.co/F3fLcf5sH7', entities={'url': {'urls': [{'url': 'https://t.co/F3fLcf5sH7', 'expanded_url': 'http://youtube.com', 'display_url': 'youtube.com', 'indices': [0, 23]}]}, 'description': {'urls': []}}, protected=False, followers_count=71662179, friends_count=1041, listed_count=81951, created_at=datetime.datetime(2007, 11, 13, 21, 43, 46), favourites_count=2516, utc_offset=None, time_zone=None, geo_enabled=False, verified=True, statuses_count=23554, lang=None, status=Status(_api=<tweepy.api.API object at 0x106aebcc0>, _json={'created_at': 'Mon Jul 15 18:39:34 +0000 2019', 'id': 1150837326597148672, 'id_str': '1150837326597148672', 'text': 'Can you really fix anything with ramen noodles and super glue? @thekingofrandom finds out! → https://t.co/6t40i28LeR https://t.co/wd5m0pkB1k', 'truncated': False, 'entities': {'hashtags': [], 'symbols': [], 'user_mentions': [{'screen_name': 'thekingofrandom', 'name': 'The King of Random', 'id': 38799816, 'id_str': '38799816', 'indices': [63, 79]}], 'urls': [{'url': 'https://t.co/6t40i28LeR', 'expanded_url': 'https://goo.gle/2Y39NeW', 'display_url': 'goo.gle/2Y39NeW', 'indices': [93, 116]}], 'media': [{'id': 1150837270603132928, 'id_str': '1150837270603132928', 'indices': [117, 140], 'media_url': 'http://pbs.twimg.com/tweet_video_thumb/D_iYZnSUcAAm4Uk.jpg', 'media_url_https': 'https://pbs.twimg.com/tweet_video_thumb/D_iYZnSUcAAm4Uk.jpg', 'url': 'https://t.co/wd5m0pkB1k', 'display_url': 'pic.twitter.com/wd5m0pkB1k', 'expanded_url': 'https://twitter.com/YouTube/status/1150837326597148672/photo/1', 'type': 'photo', 'sizes': {'medium': {'w': 574, 'h': 304, 'resize': 'fit'}, 'thumb': {'w': 150, 'h': 150, 'resize': 'crop'}, 'large': {'w': 574, 'h': 304, 'resize': 'fit'}, 'small': {'w': 574, 'h': 304, 'resize': 'fit'}}}]}, 'extended_entities': {'media': [{'id': 1150837270603132928, 'id_str': '1150837270603132928', 'indices': [117, 140], 'media_url': 'http://pbs.twimg.com/tweet_video_thumb/D_iYZnSUcAAm4Uk.jpg', 'media_url_https': 'https://pbs.twimg.com/tweet_video_thumb/D_iYZnSUcAAm4Uk.jpg', 'url': 'https://t.co/wd5m0pkB1k', 'display_url': 'pic.twitter.com/wd5m0pkB1k', 'expanded_url': 'https://twitter.com/YouTube/status/1150837326597148672/photo/1', 'type': 'animated_gif', 'sizes': {'medium': {'w': 574, 'h': 304, 'resize': 'fit'}, 'thumb': {'w': 150, 'h': 150, 'resize': 'crop'}, 'large': {'w': 574, 'h': 304, 'resize': 'fit'}, 'small': {'w': 574, 'h': 304, 'resize': 'fit'}}, 'video_info': {'aspect_ratio': [287, 152], 'variants': [{'bitrate': 0, 'content_type': 'video/mp4', 'url': 'https://video.twimg.com/tweet_video/D_iYZnSUcAAm4Uk.mp4'}]}}]}, 'source': '<a href=\"http://twitter.com\" rel=\"nofollow\">Twitter Web Client</a>', 'in_reply_to_status_id': None, 'in_reply_to_status_id_str': None, 'in_reply_to_user_id': None, 'in_reply_to_user_id_str': None, 'in_reply_to_screen_name': None, 'geo': None, 'coordinates': None, 'place': None, 'contributors': None, 'is_quote_status': False, 'retweet_count': 71, 'favorite_count': 688, 'favorited': False, 'retweeted': False, 'possibly_sensitive': False, 'lang': 'en'}, created_at=datetime.datetime(2019, 7, 15, 18, 39, 34), id=1150837326597148672, id_str='1150837326597148672', text='Can you really fix anything with ramen noodles and super glue? @thekingofrandom finds out! → https://t.co/6t40i28LeR https://t.co/wd5m0pkB1k', truncated=False, entities={'hashtags': [], 'symbols': [], 'user_mentions': [{'screen_name': 'thekingofrandom', 'name': 'The King of Random', 'id': 38799816, 'id_str': '38799816', 'indices': [63, 79]}], 'urls': [{'url': 'https://t.co/6t40i28LeR', 'expanded_url': 'https://goo.gle/2Y39NeW', 'display_url': 'goo.gle/2Y39NeW', 'indices': [93, 116]}], 'media': [{'id': 1150837270603132928, 'id_str': '1150837270603132928', 'indices': [117, 140], 'media_url': 'http://pbs.twimg.com/tweet_video_thumb/D_iYZnSUcAAm4Uk.jpg', 'media_url_https': 'https://pbs.twimg.com/tweet_video_thumb/D_iYZnSUcAAm4Uk.jpg', 'url': 'https://t.co/wd5m0pkB1k', 'display_url': 'pic.twitter.com/wd5m0pkB1k', 'expanded_url': 'https://twitter.com/YouTube/status/1150837326597148672/photo/1', 'type': 'photo', 'sizes': {'medium': {'w': 574, 'h': 304, 'resize': 'fit'}, 'thumb': {'w': 150, 'h': 150, 'resize': 'crop'}, 'large': {'w': 574, 'h': 304, 'resize': 'fit'}, 'small': {'w': 574, 'h': 304, 'resize': 'fit'}}}]}, extended_entities={'media': [{'id': 1150837270603132928, 'id_str': '1150837270603132928', 'indices': [117, 140], 'media_url': 'http://pbs.twimg.com/tweet_video_thumb/D_iYZnSUcAAm4Uk.jpg', 'media_url_https': 'https://pbs.twimg.com/tweet_video_thumb/D_iYZnSUcAAm4Uk.jpg', 'url': 'https://t.co/wd5m0pkB1k', 'display_url': 'pic.twitter.com/wd5m0pkB1k', 'expanded_url': 'https://twitter.com/YouTube/status/1150837326597148672/photo/1', 'type': 'animated_gif', 'sizes': {'medium': {'w': 574, 'h': 304, 'resize': 'fit'}, 'thumb': {'w': 150, 'h': 150, 'resize': 'crop'}, 'large': {'w': 574, 'h': 304, 'resize': 'fit'}, 'small': {'w': 574, 'h': 304, 'resize': 'fit'}}, 'video_info': {'aspect_ratio': [287, 152], 'variants': [{'bitrate': 0, 'content_type': 'video/mp4', 'url': 'https://video.twimg.com/tweet_video/D_iYZnSUcAAm4Uk.mp4'}]}}]}, source='Twitter Web Client', source_url='http://twitter.com', in_reply_to_status_id=None, in_reply_to_status_id_str=None, in_reply_to_user_id=None, in_reply_to_user_id_str=None, in_reply_to_screen_name=None, geo=None, coordinates=None, place=None, contributors=None, is_quote_status=False, retweet_count=71, favorite_count=688, favorited=False, retweeted=False, possibly_sensitive=False, lang='en'), contributors_enabled=False, is_translator=False, is_translation_enabled=True, profile_background_color='AF0000', profile_background_image_url='http://abs.twimg.com/images/themes/theme14/bg.gif', profile_background_image_url_https='https://abs.twimg.com/images/themes/theme14/bg.gif', profile_background_tile=True, profile_image_url='http://pbs.twimg.com/profile_images/1148327441527689217/1QpS06D6_normal.png', profile_image_url_https='https://pbs.twimg.com/profile_images/1148327441527689217/1QpS06D6_normal.png', profile_banner_url='https://pbs.twimg.com/profile_banners/10228272/1562959185', profile_link_color='C9191D', profile_sidebar_border_color='000000', profile_sidebar_fill_color='EFEFEF', profile_text_color='333333', profile_use_background_image=True, has_extended_profile=False, default_profile=False, default_profile_image=False, following=False, follow_request_sent=False, notifications=False, muting=False, translator_type='regular')"
      ]
     },
     "execution_count": 20,
     "metadata": {},
     "output_type": "execute_result"
    }
   ],
   "source": [
    "# follow:\n",
    "api.create_friendship('@YouTube')"
   ]
  },
  {
   "cell_type": "markdown",
   "metadata": {
    "colab_type": "text",
    "id": "Nbp2vRONJhRH"
   },
   "source": [
    "or unfollow:"
   ]
  },
  {
   "cell_type": "code",
   "execution_count": 21,
   "metadata": {
    "colab": {},
    "colab_type": "code",
    "id": "wCsNNVT9JhRH"
   },
   "outputs": [
    {
     "data": {
      "text/plain": [
       "User(_api=<tweepy.api.API object at 0x106aebcc0>, _json={'id': 10228272, 'id_str': '10228272', 'name': 'YouTube', 'screen_name': 'YouTube', 'location': 'San Bruno, CA', 'description': 'Pivoting to video.', 'url': 'https://t.co/F3fLcf5sH7', 'entities': {'url': {'urls': [{'url': 'https://t.co/F3fLcf5sH7', 'expanded_url': 'http://youtube.com', 'display_url': 'youtube.com', 'indices': [0, 23]}]}, 'description': {'urls': []}}, 'protected': False, 'followers_count': 71662174, 'friends_count': 1041, 'listed_count': 81951, 'created_at': 'Tue Nov 13 21:43:46 +0000 2007', 'favourites_count': 2516, 'utc_offset': None, 'time_zone': None, 'geo_enabled': False, 'verified': True, 'statuses_count': 23554, 'lang': None, 'status': {'created_at': 'Mon Jul 15 18:39:34 +0000 2019', 'id': 1150837326597148672, 'id_str': '1150837326597148672', 'text': 'Can you really fix anything with ramen noodles and super glue? @thekingofrandom finds out! → https://t.co/6t40i28LeR https://t.co/wd5m0pkB1k', 'truncated': False, 'entities': {'hashtags': [], 'symbols': [], 'user_mentions': [{'screen_name': 'thekingofrandom', 'name': 'The King of Random', 'id': 38799816, 'id_str': '38799816', 'indices': [63, 79]}], 'urls': [{'url': 'https://t.co/6t40i28LeR', 'expanded_url': 'https://goo.gle/2Y39NeW', 'display_url': 'goo.gle/2Y39NeW', 'indices': [93, 116]}], 'media': [{'id': 1150837270603132928, 'id_str': '1150837270603132928', 'indices': [117, 140], 'media_url': 'http://pbs.twimg.com/tweet_video_thumb/D_iYZnSUcAAm4Uk.jpg', 'media_url_https': 'https://pbs.twimg.com/tweet_video_thumb/D_iYZnSUcAAm4Uk.jpg', 'url': 'https://t.co/wd5m0pkB1k', 'display_url': 'pic.twitter.com/wd5m0pkB1k', 'expanded_url': 'https://twitter.com/YouTube/status/1150837326597148672/photo/1', 'type': 'photo', 'sizes': {'medium': {'w': 574, 'h': 304, 'resize': 'fit'}, 'thumb': {'w': 150, 'h': 150, 'resize': 'crop'}, 'large': {'w': 574, 'h': 304, 'resize': 'fit'}, 'small': {'w': 574, 'h': 304, 'resize': 'fit'}}}]}, 'extended_entities': {'media': [{'id': 1150837270603132928, 'id_str': '1150837270603132928', 'indices': [117, 140], 'media_url': 'http://pbs.twimg.com/tweet_video_thumb/D_iYZnSUcAAm4Uk.jpg', 'media_url_https': 'https://pbs.twimg.com/tweet_video_thumb/D_iYZnSUcAAm4Uk.jpg', 'url': 'https://t.co/wd5m0pkB1k', 'display_url': 'pic.twitter.com/wd5m0pkB1k', 'expanded_url': 'https://twitter.com/YouTube/status/1150837326597148672/photo/1', 'type': 'animated_gif', 'sizes': {'medium': {'w': 574, 'h': 304, 'resize': 'fit'}, 'thumb': {'w': 150, 'h': 150, 'resize': 'crop'}, 'large': {'w': 574, 'h': 304, 'resize': 'fit'}, 'small': {'w': 574, 'h': 304, 'resize': 'fit'}}, 'video_info': {'aspect_ratio': [287, 152], 'variants': [{'bitrate': 0, 'content_type': 'video/mp4', 'url': 'https://video.twimg.com/tweet_video/D_iYZnSUcAAm4Uk.mp4'}]}}]}, 'source': '<a href=\"http://twitter.com\" rel=\"nofollow\">Twitter Web Client</a>', 'in_reply_to_status_id': None, 'in_reply_to_status_id_str': None, 'in_reply_to_user_id': None, 'in_reply_to_user_id_str': None, 'in_reply_to_screen_name': None, 'geo': None, 'coordinates': None, 'place': None, 'contributors': None, 'is_quote_status': False, 'retweet_count': 71, 'favorite_count': 688, 'favorited': False, 'retweeted': False, 'possibly_sensitive': False, 'lang': 'en'}, 'contributors_enabled': False, 'is_translator': False, 'is_translation_enabled': True, 'profile_background_color': 'AF0000', 'profile_background_image_url': 'http://abs.twimg.com/images/themes/theme14/bg.gif', 'profile_background_image_url_https': 'https://abs.twimg.com/images/themes/theme14/bg.gif', 'profile_background_tile': True, 'profile_image_url': 'http://pbs.twimg.com/profile_images/1148327441527689217/1QpS06D6_normal.png', 'profile_image_url_https': 'https://pbs.twimg.com/profile_images/1148327441527689217/1QpS06D6_normal.png', 'profile_banner_url': 'https://pbs.twimg.com/profile_banners/10228272/1562959185', 'profile_link_color': 'C9191D', 'profile_sidebar_border_color': '000000', 'profile_sidebar_fill_color': 'EFEFEF', 'profile_text_color': '333333', 'profile_use_background_image': True, 'has_extended_profile': False, 'default_profile': False, 'default_profile_image': False, 'following': True, 'follow_request_sent': False, 'notifications': False, 'muting': False, 'translator_type': 'regular'}, id=10228272, id_str='10228272', name='YouTube', screen_name='YouTube', location='San Bruno, CA', description='Pivoting to video.', url='https://t.co/F3fLcf5sH7', entities={'url': {'urls': [{'url': 'https://t.co/F3fLcf5sH7', 'expanded_url': 'http://youtube.com', 'display_url': 'youtube.com', 'indices': [0, 23]}]}, 'description': {'urls': []}}, protected=False, followers_count=71662174, friends_count=1041, listed_count=81951, created_at=datetime.datetime(2007, 11, 13, 21, 43, 46), favourites_count=2516, utc_offset=None, time_zone=None, geo_enabled=False, verified=True, statuses_count=23554, lang=None, status=Status(_api=<tweepy.api.API object at 0x106aebcc0>, _json={'created_at': 'Mon Jul 15 18:39:34 +0000 2019', 'id': 1150837326597148672, 'id_str': '1150837326597148672', 'text': 'Can you really fix anything with ramen noodles and super glue? @thekingofrandom finds out! → https://t.co/6t40i28LeR https://t.co/wd5m0pkB1k', 'truncated': False, 'entities': {'hashtags': [], 'symbols': [], 'user_mentions': [{'screen_name': 'thekingofrandom', 'name': 'The King of Random', 'id': 38799816, 'id_str': '38799816', 'indices': [63, 79]}], 'urls': [{'url': 'https://t.co/6t40i28LeR', 'expanded_url': 'https://goo.gle/2Y39NeW', 'display_url': 'goo.gle/2Y39NeW', 'indices': [93, 116]}], 'media': [{'id': 1150837270603132928, 'id_str': '1150837270603132928', 'indices': [117, 140], 'media_url': 'http://pbs.twimg.com/tweet_video_thumb/D_iYZnSUcAAm4Uk.jpg', 'media_url_https': 'https://pbs.twimg.com/tweet_video_thumb/D_iYZnSUcAAm4Uk.jpg', 'url': 'https://t.co/wd5m0pkB1k', 'display_url': 'pic.twitter.com/wd5m0pkB1k', 'expanded_url': 'https://twitter.com/YouTube/status/1150837326597148672/photo/1', 'type': 'photo', 'sizes': {'medium': {'w': 574, 'h': 304, 'resize': 'fit'}, 'thumb': {'w': 150, 'h': 150, 'resize': 'crop'}, 'large': {'w': 574, 'h': 304, 'resize': 'fit'}, 'small': {'w': 574, 'h': 304, 'resize': 'fit'}}}]}, 'extended_entities': {'media': [{'id': 1150837270603132928, 'id_str': '1150837270603132928', 'indices': [117, 140], 'media_url': 'http://pbs.twimg.com/tweet_video_thumb/D_iYZnSUcAAm4Uk.jpg', 'media_url_https': 'https://pbs.twimg.com/tweet_video_thumb/D_iYZnSUcAAm4Uk.jpg', 'url': 'https://t.co/wd5m0pkB1k', 'display_url': 'pic.twitter.com/wd5m0pkB1k', 'expanded_url': 'https://twitter.com/YouTube/status/1150837326597148672/photo/1', 'type': 'animated_gif', 'sizes': {'medium': {'w': 574, 'h': 304, 'resize': 'fit'}, 'thumb': {'w': 150, 'h': 150, 'resize': 'crop'}, 'large': {'w': 574, 'h': 304, 'resize': 'fit'}, 'small': {'w': 574, 'h': 304, 'resize': 'fit'}}, 'video_info': {'aspect_ratio': [287, 152], 'variants': [{'bitrate': 0, 'content_type': 'video/mp4', 'url': 'https://video.twimg.com/tweet_video/D_iYZnSUcAAm4Uk.mp4'}]}}]}, 'source': '<a href=\"http://twitter.com\" rel=\"nofollow\">Twitter Web Client</a>', 'in_reply_to_status_id': None, 'in_reply_to_status_id_str': None, 'in_reply_to_user_id': None, 'in_reply_to_user_id_str': None, 'in_reply_to_screen_name': None, 'geo': None, 'coordinates': None, 'place': None, 'contributors': None, 'is_quote_status': False, 'retweet_count': 71, 'favorite_count': 688, 'favorited': False, 'retweeted': False, 'possibly_sensitive': False, 'lang': 'en'}, created_at=datetime.datetime(2019, 7, 15, 18, 39, 34), id=1150837326597148672, id_str='1150837326597148672', text='Can you really fix anything with ramen noodles and super glue? @thekingofrandom finds out! → https://t.co/6t40i28LeR https://t.co/wd5m0pkB1k', truncated=False, entities={'hashtags': [], 'symbols': [], 'user_mentions': [{'screen_name': 'thekingofrandom', 'name': 'The King of Random', 'id': 38799816, 'id_str': '38799816', 'indices': [63, 79]}], 'urls': [{'url': 'https://t.co/6t40i28LeR', 'expanded_url': 'https://goo.gle/2Y39NeW', 'display_url': 'goo.gle/2Y39NeW', 'indices': [93, 116]}], 'media': [{'id': 1150837270603132928, 'id_str': '1150837270603132928', 'indices': [117, 140], 'media_url': 'http://pbs.twimg.com/tweet_video_thumb/D_iYZnSUcAAm4Uk.jpg', 'media_url_https': 'https://pbs.twimg.com/tweet_video_thumb/D_iYZnSUcAAm4Uk.jpg', 'url': 'https://t.co/wd5m0pkB1k', 'display_url': 'pic.twitter.com/wd5m0pkB1k', 'expanded_url': 'https://twitter.com/YouTube/status/1150837326597148672/photo/1', 'type': 'photo', 'sizes': {'medium': {'w': 574, 'h': 304, 'resize': 'fit'}, 'thumb': {'w': 150, 'h': 150, 'resize': 'crop'}, 'large': {'w': 574, 'h': 304, 'resize': 'fit'}, 'small': {'w': 574, 'h': 304, 'resize': 'fit'}}}]}, extended_entities={'media': [{'id': 1150837270603132928, 'id_str': '1150837270603132928', 'indices': [117, 140], 'media_url': 'http://pbs.twimg.com/tweet_video_thumb/D_iYZnSUcAAm4Uk.jpg', 'media_url_https': 'https://pbs.twimg.com/tweet_video_thumb/D_iYZnSUcAAm4Uk.jpg', 'url': 'https://t.co/wd5m0pkB1k', 'display_url': 'pic.twitter.com/wd5m0pkB1k', 'expanded_url': 'https://twitter.com/YouTube/status/1150837326597148672/photo/1', 'type': 'animated_gif', 'sizes': {'medium': {'w': 574, 'h': 304, 'resize': 'fit'}, 'thumb': {'w': 150, 'h': 150, 'resize': 'crop'}, 'large': {'w': 574, 'h': 304, 'resize': 'fit'}, 'small': {'w': 574, 'h': 304, 'resize': 'fit'}}, 'video_info': {'aspect_ratio': [287, 152], 'variants': [{'bitrate': 0, 'content_type': 'video/mp4', 'url': 'https://video.twimg.com/tweet_video/D_iYZnSUcAAm4Uk.mp4'}]}}]}, source='Twitter Web Client', source_url='http://twitter.com', in_reply_to_status_id=None, in_reply_to_status_id_str=None, in_reply_to_user_id=None, in_reply_to_user_id_str=None, in_reply_to_screen_name=None, geo=None, coordinates=None, place=None, contributors=None, is_quote_status=False, retweet_count=71, favorite_count=688, favorited=False, retweeted=False, possibly_sensitive=False, lang='en'), contributors_enabled=False, is_translator=False, is_translation_enabled=True, profile_background_color='AF0000', profile_background_image_url='http://abs.twimg.com/images/themes/theme14/bg.gif', profile_background_image_url_https='https://abs.twimg.com/images/themes/theme14/bg.gif', profile_background_tile=True, profile_image_url='http://pbs.twimg.com/profile_images/1148327441527689217/1QpS06D6_normal.png', profile_image_url_https='https://pbs.twimg.com/profile_images/1148327441527689217/1QpS06D6_normal.png', profile_banner_url='https://pbs.twimg.com/profile_banners/10228272/1562959185', profile_link_color='C9191D', profile_sidebar_border_color='000000', profile_sidebar_fill_color='EFEFEF', profile_text_color='333333', profile_use_background_image=True, has_extended_profile=False, default_profile=False, default_profile_image=False, following=True, follow_request_sent=False, notifications=False, muting=False, translator_type='regular')"
      ]
     },
     "execution_count": 21,
     "metadata": {},
     "output_type": "execute_result"
    }
   ],
   "source": [
    "# unfollow:\n",
    "api.destroy_friendship('@YouTube')"
   ]
  },
  {
   "cell_type": "code",
   "execution_count": null,
   "metadata": {
    "colab": {},
    "colab_type": "code",
    "id": "ND4BmdkvJhRJ"
   },
   "outputs": [],
   "source": [
    "#Revise: DSIA Lab2.2.2 so much more\n",
    "\n",
    "#_____________\n",
    "tweet_list = []\n",
    "for tweet in tweets:\n",
    "    tweet_list.append(tweet._json)\n",
    "##############\n",
    "import pandas as pd\n",
    "import matplotlib.pyplot as plt\n",
    "##########\n",
    "df = pd.DataFrame(tweet_list)\n",
    "############\n",
    "df.dtypes"
   ]
  },
  {
   "cell_type": "code",
   "execution_count": null,
   "metadata": {},
   "outputs": [],
   "source": [
    "y = df['id'].resample('D').sum()\n",
    "y.plot(figsize=(15, 6));"
   ]
  },
  {
   "cell_type": "markdown",
   "metadata": {
    "colab_type": "text",
    "id": "YGIWBU4FJn0V"
   },
   "source": [
    ">\n",
    ">"
   ]
  },
  {
   "cell_type": "markdown",
   "metadata": {
    "colab_type": "text",
    "id": "l_IsftzjJp6w"
   },
   "source": [
    ">\n",
    ">"
   ]
  },
  {
   "cell_type": "markdown",
   "metadata": {
    "colab_type": "text",
    "id": "59l7EOATJrJO"
   },
   "source": [
    "\n",
    "\n",
    "---\n",
    "\n",
    "\n",
    "\n",
    "---\n",
    "\n",
    ">  > > > > > > > > © 2019 Data Science Institute of Australia\n",
    "\n",
    "\n",
    "\n",
    "---\n",
    "\n",
    "\n",
    "\n",
    "---\n",
    "\n"
   ]
  }
 ],
 "metadata": {
  "colab": {
   "collapsed_sections": [],
   "name": "DSIA Lab 2.2.2.ipynb",
   "provenance": [],
   "version": "0.3.2"
  },
  "kernelspec": {
   "display_name": "Python 3",
   "language": "python",
   "name": "python3"
  },
  "language_info": {
   "codemirror_mode": {
    "name": "ipython",
    "version": 3
   },
   "file_extension": ".py",
   "mimetype": "text/x-python",
   "name": "python",
   "nbconvert_exporter": "python",
   "pygments_lexer": "ipython3",
   "version": "3.7.3"
  }
 },
 "nbformat": 4,
 "nbformat_minor": 2
}
