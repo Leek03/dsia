{
 "cells": [
  {
   "cell_type": "code",
   "execution_count": 1,
   "metadata": {},
   "outputs": [
    {
     "name": "stdout",
     "output_type": "stream",
     "text": [
      "10\n"
     ]
    }
   ],
   "source": [
    "import numpy as np\n",
    "\n",
    "a = 10 # a is scalar value it has on integer, float, string. In other program might need to define.\n",
    "print(a)"
   ]
  },
  {
   "cell_type": "code",
   "execution_count": 2,
   "metadata": {},
   "outputs": [
    {
     "name": "stdout",
     "output_type": "stream",
     "text": [
      "[2, 3, 10, 12, 14]\n"
     ]
    }
   ],
   "source": [
    "vector2 = [2,3,10,12,14]\n",
    "print(vector2)\n"
   ]
  },
  {
   "cell_type": "code",
   "execution_count": 3,
   "metadata": {
    "scrolled": true
   },
   "outputs": [
    {
     "name": "stdout",
     "output_type": "stream",
     "text": [
      "['2' 'hello' '10' '12' '14']\n"
     ]
    }
   ],
   "source": [
    "vector = np.asarray([2, 'hello', 10, 12, 14])\n",
    "print(vector)"
   ]
  },
  {
   "cell_type": "code",
   "execution_count": 4,
   "metadata": {
    "scrolled": true
   },
   "outputs": [
    {
     "name": "stdout",
     "output_type": "stream",
     "text": [
      "<class 'numpy.ndarray'>\n"
     ]
    }
   ],
   "source": [
    "print(type(vector))"
   ]
  },
  {
   "cell_type": "code",
   "execution_count": 5,
   "metadata": {},
   "outputs": [
    {
     "name": "stdout",
     "output_type": "stream",
     "text": [
      "[[3.95252517e-323 0.00000000e+000]\n",
      " [5.45352918e-312 3.56726866e-057]\n",
      " [5.85107551e+170 5.75297879e-066]\n",
      " [2.70048567e-056 1.41491344e-076]]\n",
      "[[0. 0. 0.]\n",
      " [0. 0. 0.]\n",
      " [0. 0. 0.]\n",
      " [0. 0. 0.]]\n",
      "[1 2 3]\n",
      "[4 5 6]\n",
      "[5 7 9]\n",
      "[ 4 10 18]\n",
      "[[10. 10. 10.]\n",
      " [10. 10. 10.]\n",
      " [10. 10. 10.]]\n"
     ]
    }
   ],
   "source": [
    "array_= np.empty([4,2])\n",
    "print(array_)\n",
    "#need to initialise it to be zero. \n",
    "array_1 = np.zeros([4,3])\n",
    "print(array_1)\n",
    "\n",
    "a = np.array([1,2,3])\n",
    "print(a)\n",
    "b = np.array([4,5,6])\n",
    "print(b)\n",
    "\n",
    "c = a + b\n",
    "print(c)\n",
    "d = a * b\n",
    "print(d)\n",
    "\n",
    "mat = np.ones([3,3])*10 #5 row 3 columns \n",
    "print(mat)"
   ]
  },
  {
   "cell_type": "code",
   "execution_count": 6,
   "metadata": {
    "scrolled": true
   },
   "outputs": [
    {
     "name": "stdout",
     "output_type": "stream",
     "text": [
      "6.0\n",
      "[[ 6. 10. 10.]\n",
      " [10. 10. 10.]\n",
      " [10. 10. 10.]]\n"
     ]
    }
   ],
   "source": [
    "mat[0,0] = 6\n",
    "print(mat[0,0])\n",
    "print(mat)"
   ]
  },
  {
   "cell_type": "code",
   "execution_count": 7,
   "metadata": {
    "scrolled": true
   },
   "outputs": [
    {
     "name": "stdout",
     "output_type": "stream",
     "text": [
      "[[  1  -2   3  40]\n",
      " [  4   5   7   5]\n",
      " [-10   8  10  23]\n",
      " [  4   5   7   5]]\n"
     ]
    }
   ],
   "source": [
    "mat2 = np.array(([1,-2,3,40],[4,5,7,5],[-10,8,10,23],[4,5,7,5]))\n",
    "print(mat2)"
   ]
  },
  {
   "cell_type": "code",
   "execution_count": 8,
   "metadata": {},
   "outputs": [
    {
     "name": "stdout",
     "output_type": "stream",
     "text": [
      "[[ 1 -2  3 40]]\n",
      "-2\n",
      "[-2  3]\n",
      "[5]\n",
      "[[ 5  7]\n",
      " [ 8 10]]\n",
      "5\n",
      "4\n",
      "10\n",
      "7\n",
      "7\n",
      "5\n",
      "8\n"
     ]
    }
   ],
   "source": [
    "print(mat2[:1])\n",
    "print(mat2[0,1])\n",
    "print(mat2[0,1:3])\n",
    "print(mat2[3,3:4])\n",
    "\n",
    "print(mat2[1:3,1:3])\n",
    "middle = mat2[1:3,1:3]\n",
    "print(mat2[1,-1])\n",
    "\n",
    "print(mat2[-1,0])\n",
    "#10\n",
    "print(mat2[2,-2])\n",
    "#7 in 2nd row\n",
    "print(mat2[1,-2])\n",
    "print(mat2[1,2])\n",
    "print(mat2[1,1])\n",
    "8\n",
    "print(mat2[2,1])"
   ]
  },
  {
   "cell_type": "code",
   "execution_count": 9,
   "metadata": {},
   "outputs": [
    {
     "name": "stdout",
     "output_type": "stream",
     "text": [
      "fail\n"
     ]
    }
   ],
   "source": [
    "grade = 49\n",
    "if grade < 100 and grade > 50:\n",
    "    print('pass')\n",
    "else:\n",
    "    print('fail')"
   ]
  },
  {
   "cell_type": "code",
   "execution_count": 10,
   "metadata": {
    "scrolled": true
   },
   "outputs": [
    {
     "name": "stdout",
     "output_type": "stream",
     "text": [
      "False\n"
     ]
    }
   ],
   "source": [
    "bool = (grade > 90 and grade <=100)\n",
    "print(bool)"
   ]
  },
  {
   "cell_type": "code",
   "execution_count": 11,
   "metadata": {},
   "outputs": [
    {
     "name": "stdout",
     "output_type": "stream",
     "text": [
      "([1, 3, 4], [5, 33, 1], [3, 5, 6])\n"
     ]
    }
   ],
   "source": [
    "cube = ([1,3,4],[5,33,1],[3,5,6])\n",
    "print(cube)"
   ]
  },
  {
   "cell_type": "code",
   "execution_count": 12,
   "metadata": {},
   "outputs": [
    {
     "name": "stdout",
     "output_type": "stream",
     "text": [
      "[[[0.00000000e+000 5.02034658e+175 7.66959779e-042]\n",
      "  [1.19023451e-047 8.67782069e-067 3.70244687e-033]\n",
      "  [5.01163106e+217 5.49419094e-143 7.67614547e+218]\n",
      "  [1.06396443e+224 5.77286025e+199 4.31443967e-096]]\n",
      "\n",
      " [[9.08366793e+223 1.48582160e-076 9.60611514e-071]\n",
      "  [8.78011206e-071 2.19409753e-056 2.24729309e+174]\n",
      "  [1.56605686e-076 6.00024308e-067 6.37172339e-062]\n",
      "  [3.06060581e-057 1.28625693e+248 4.24948967e-086]]\n",
      "\n",
      " [[4.05171132e-317 2.08600674e-308 6.94753268e-310]\n",
      "  [9.58487353e-322 0.00000000e+000 0.00000000e+000]\n",
      "  [2.12199579e-314 5.02034658e+175 2.19183416e-076]\n",
      "  [3.53740546e-057 3.40325781e+175 1.74490428e-076]]\n",
      "\n",
      " [[1.47763641e+248 1.16096346e-028 7.69165785e+218]\n",
      "  [1.35617292e+248 1.15942117e+165 1.42697347e-071]\n",
      "  [9.04730477e-067 1.33532013e+165 4.30439842e-096]\n",
      "  [6.32299154e+233 6.48224638e+170 5.22411352e+257]]]\n"
     ]
    }
   ],
   "source": [
    "three_dim = np.empty([4,4,3])\n",
    "print(three_dim)"
   ]
  },
  {
   "cell_type": "code",
   "execution_count": 13,
   "metadata": {},
   "outputs": [
    {
     "name": "stdout",
     "output_type": "stream",
     "text": [
      "338350\n"
     ]
    }
   ],
   "source": [
    "summation = 0\n",
    "i=1\n",
    "for i in range(101):\n",
    "    summation = summation + i**2\n",
    "print(summation)"
   ]
  },
  {
   "cell_type": "code",
   "execution_count": 14,
   "metadata": {},
   "outputs": [
    {
     "name": "stdout",
     "output_type": "stream",
     "text": [
      "328350\n"
     ]
    }
   ],
   "source": [
    "i= 1 \n",
    "summation1= 0 \n",
    "while i < 100:\n",
    "    summation1 += i**2\n",
    "    i +=1\n",
    "print(summation1)"
   ]
  },
  {
   "cell_type": "code",
   "execution_count": 15,
   "metadata": {},
   "outputs": [
    {
     "name": "stdout",
     "output_type": "stream",
     "text": [
      "[4. 0. 0. 0. 0.]\n",
      "[4. 4. 0. 0. 0.]\n",
      "[4. 4. 9. 0. 0.]\n",
      "[  4.   4.   9. 400.   0.]\n",
      "[  4.   4.   9. 400.  25.]\n",
      "[[7.74860419e-304 7.74860419e-304 7.74860419e-304]\n",
      " [7.74681717e-304 7.74860419e-304 7.74860419e-304]]\n"
     ]
    }
   ],
   "source": [
    "#5 value  power of \n",
    "array_a = np.array([2,2,3,20,5])\n",
    "power = np.empty([5]) # number of colums\n",
    "\n",
    "i = 0 \n",
    "while (i < 5):\n",
    "    power[i] = array_a[i]**2\n",
    "    i += 1\n",
    "    print(power)\n",
    "    \n",
    "power2 = np.empty([2,3])\n",
    "\n",
    "print(power2)\n"
   ]
  },
  {
   "cell_type": "code",
   "execution_count": 16,
   "metadata": {},
   "outputs": [
    {
     "name": "stdout",
     "output_type": "stream",
     "text": [
      "[[ 1.  4.]\n",
      " [ 9. 16.]\n",
      " [25. 36.]]\n"
     ]
    }
   ],
   "source": [
    "#3 by 2   **2 \n",
    "power2_mat = np.empty([3,2])\n",
    "mat_a = np.array([[1,2],[3,4],[5,6]])\n",
    "\n",
    "for i in range(3):\n",
    "    for j in range(2):\n",
    "        power2_mat[i,j] = mat_a[i,j]**2\n",
    "print(power2_mat)\n"
   ]
  },
  {
   "cell_type": "code",
   "execution_count": 17,
   "metadata": {
    "scrolled": true
   },
   "outputs": [
    {
     "name": "stdout",
     "output_type": "stream",
     "text": [
      "49500005.50199725\n"
     ]
    }
   ],
   "source": [
    "summation_i =0\n",
    "i=1\n",
    "while i<10:\n",
    "    summation_i += i\n",
    "    i += 0.000001\n",
    "print(summation_i)"
   ]
  },
  {
   "cell_type": "code",
   "execution_count": 18,
   "metadata": {},
   "outputs": [
    {
     "name": "stdout",
     "output_type": "stream",
     "text": [
      "45\n"
     ]
    }
   ],
   "source": [
    "summation_1 =0 # while loop \n",
    "i=0\n",
    "while i < 10:\n",
    "    summation_1 += i\n",
    "    i+= 1\n",
    "print(summation_1)"
   ]
  },
  {
   "cell_type": "code",
   "execution_count": 23,
   "metadata": {},
   "outputs": [
    {
     "name": "stdout",
     "output_type": "stream",
     "text": [
      "[[0.5 1.  1.5]\n",
      " [2.  1.5 2. ]\n",
      " [3.5 2.5 3. ]]\n"
     ]
    }
   ],
   "source": [
    "# #3 by 2   **2 \n",
    "# import numpy as np\n",
    "# power2_mat = np.empty([3,2])\n",
    "# mat_a = np.array([[1,2],[3,4],[5,6]])\n",
    "# # print(power2_mat)\n",
    "# # print(mata)\n",
    "\n",
    "# for i in range(3):\n",
    "#     for j in range(2):\n",
    "#         power2_mat[i,j] = mat_a[i,j]**2\n",
    "# print(power2_mat)\n",
    "\n",
    "#3 by 2   **2 \n",
    "import numpy as np\n",
    "power2_mat = np.empty([3,3])\n",
    "mat_a = np.array([[1,2,3],[4,3,4],[7,5,6]])\n",
    "# print(power2_mat)\n",
    "# print(mata)\n",
    "\n",
    "for i in range(3):\n",
    "    for j in range(3):\n",
    "        power2_mat[i,j] = mat_a[i,j]**1/2\n",
    "print(power2_mat)"
   ]
  },
  {
   "cell_type": "code",
   "execution_count": null,
   "metadata": {},
   "outputs": [],
   "source": []
  }
 ],
 "metadata": {
  "kernelspec": {
   "display_name": "Python 3",
   "language": "python",
   "name": "python3"
  },
  "language_info": {
   "codemirror_mode": {
    "name": "ipython",
    "version": 3
   },
   "file_extension": ".py",
   "mimetype": "text/x-python",
   "name": "python",
   "nbconvert_exporter": "python",
   "pygments_lexer": "ipython3",
   "version": "3.7.1"
  }
 },
 "nbformat": 4,
 "nbformat_minor": 2
}
