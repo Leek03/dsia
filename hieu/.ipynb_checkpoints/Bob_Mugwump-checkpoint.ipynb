{
 "cells": [
  {
   "cell_type": "code",
   "execution_count": 2,
   "metadata": {},
   "outputs": [
    {
     "ename": "NameError",
     "evalue": "name 'np' is not defined",
     "output_type": "error",
     "traceback": [
      "\u001b[0;31m---------------------------------------------------------------------------\u001b[0m",
      "\u001b[0;31mNameError\u001b[0m                                 Traceback (most recent call last)",
      "\u001b[0;32m<ipython-input-2-d9cf95589ce4>\u001b[0m in \u001b[0;36m<module>\u001b[0;34m\u001b[0m\n\u001b[1;32m      3\u001b[0m \u001b[0;34m\u001b[0m\u001b[0m\n\u001b[1;32m      4\u001b[0m \u001b[0;31m# To setup the initial 5*5 matrix with letter O and print it\u001b[0m\u001b[0;34m\u001b[0m\u001b[0;34m\u001b[0m\u001b[0;34m\u001b[0m\u001b[0m\n\u001b[0;32m----> 5\u001b[0;31m test_initial = np.array[['O','O','O','O','O'],['O','O','O','O','O'],['O','O','O','O','O'],\n\u001b[0m\u001b[1;32m      6\u001b[0m                 ['O','O','O','O','O'],['O','O','O','O','O']]\n\u001b[1;32m      7\u001b[0m \u001b[0;34m\u001b[0m\u001b[0m\n",
      "\u001b[0;31mNameError\u001b[0m: name 'np' is not defined"
     ]
    }
   ],
   "source": [
    "import random\n",
    "import math\n",
    "\n",
    "# To setup the initial 5*5 matrix with letter O and print it\n",
    "test_initial = np.array([['O','O','O','O','O'],['O','O','O','O','O'],['O','O','O','O','O'],\n",
    "                ['O','O','O','O','O'],['O','O','O','O','O']])\n",
    "\n",
    "print(test_initial)\n",
    "# for i in test_initial:\n",
    "#     print(i)\n",
    "# print('\\n')   \n",
    "    \n",
    "# # Generate two random values from 0 to 4 and stored in x and y\n",
    "# x = random.randint(0,5)\n",
    "# y = random.randint(0,5)\n",
    "\n",
    "\n",
    "\n",
    "# # for loop to give five times try in total\n",
    "# for num in range(5):\n",
    "#     x_1,y_1 = eval(input('Please input int (x,y) from 0 to 4: \\n'))\n",
    "    \n",
    "# # Check if input number is run out of boundary   \n",
    "#     if x_1 >4 or x_1 <0:\n",
    "#          if y_1 >4 or y_1<0:\n",
    "#             print('Please enter correct number \\n')\n",
    "#             break\n",
    "\n",
    "# # Check if the input number equals to the random x,y\n",
    "#     elif x_1 == x and y_1 == y: \n",
    "#         print('Congrats \\n')\n",
    "#         test_initial[x_1][y_1] = 'A'\n",
    "#         for num in test_initial:\n",
    "#             print(num)\n",
    "#         print('\\n')\n",
    "#         break\n",
    "\n",
    "# # Check if the input is equal to the previous value\n",
    "#     elif test_initial[x_1][y_1] == 'X':\n",
    "#         print('Please try different num \\n')\n",
    "#         continue\n",
    "        \n",
    "# # Change the value to 'X' and calculate the distance to the result\n",
    "#     else: \n",
    "#         test_initial[x_1][y_1] = 'X'\n",
    "#         for j in test_initial:\n",
    "#              print(j)\n",
    "#         print('\\n')\n",
    "#         dis = math.sqrt((x_1-x)**2 + (y_1-y)**2)\n",
    "#         print('Distance to the right position is: \\n',dis)\n",
    "#         print('Better luck next time \\n')"
   ]
  }
 ],
 "metadata": {
  "kernelspec": {
   "display_name": "Python 3",
   "language": "python",
   "name": "python3"
  },
  "language_info": {
   "codemirror_mode": {
    "name": "ipython",
    "version": 3
   },
   "file_extension": ".py",
   "mimetype": "text/x-python",
   "name": "python",
   "nbconvert_exporter": "python",
   "pygments_lexer": "ipython3",
   "version": "3.7.1"
  }
 },
 "nbformat": 4,
 "nbformat_minor": 2
}
