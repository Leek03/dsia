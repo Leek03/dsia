{
 "cells": [
  {
   "cell_type": "markdown",
   "metadata": {
    "colab_type": "text",
    "id": "ZvGuEYgDsohG"
   },
   "source": [
    "![dsia](https://static1.squarespace.com/static/5c4631190dbda3abea29db4c/t/5c465b0dc74c5024875652f7/1549343891985/?format=1500w)"
   ]
  },
  {
   "cell_type": "code",
   "execution_count": 3,
   "metadata": {
    "colab": {},
    "colab_type": "code",
    "id": "k1hOvGzedsoO"
   },
   "outputs": [],
   "source": [
    "import numpy as np\n",
    "import pandas as pd\n",
    "import matplotlib.pyplot as plt\n",
    "from scipy import stats\n",
    "# get matplot to show charts inline\n",
    "%matplotlib inline"
   ]
  },
  {
   "cell_type": "markdown",
   "metadata": {
    "colab_type": "text",
    "id": "idwTm8QinAE9"
   },
   "source": [
    "chrome://settings/content/cookies\n",
    "\n",
    "NOTE: Make sure third party cookies are not blocked."
   ]
  },
  {
   "cell_type": "code",
   "execution_count": 4,
   "metadata": {
    "colab": {
     "base_uri": "https://localhost:8080/",
     "height": 74,
     "resources": {
      "http://localhost:8080/nbextensions/google.colab/files.js": {
       "data": "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",
       "headers": [
        [
         "content-type",
         "application/javascript"
        ]
       ],
       "ok": true,
       "status": 200,
       "status_text": ""
      }
     }
    },
    "colab_type": "code",
    "executionInfo": {
     "elapsed": 103600,
     "status": "ok",
     "timestamp": 1552715317958,
     "user": {
      "displayName": "Ibrahim Faisal",
      "photoUrl": "",
      "userId": "02685917636347920688"
     },
     "user_tz": -660
    },
    "id": "cPmJnMzgdsoR",
    "outputId": "57a7d957-5154-45b1-b771-a447154bd577",
    "scrolled": true
   },
   "outputs": [],
   "source": [
    "df = pd.read_csv(\"Employee-attrition.csv\")"
   ]
  },
  {
   "cell_type": "code",
   "execution_count": 5,
   "metadata": {
    "colab": {
     "base_uri": "https://localhost:8080/",
     "height": 217
    },
    "colab_type": "code",
    "id": "0g0YHDJ1dsoT",
    "outputId": "135cae12-3ad0-485b-9db4-b02db8d9c7a0"
   },
   "outputs": [
    {
     "data": {
      "text/html": [
       "<div>\n",
       "<style scoped>\n",
       "    .dataframe tbody tr th:only-of-type {\n",
       "        vertical-align: middle;\n",
       "    }\n",
       "\n",
       "    .dataframe tbody tr th {\n",
       "        vertical-align: top;\n",
       "    }\n",
       "\n",
       "    .dataframe thead th {\n",
       "        text-align: right;\n",
       "    }\n",
       "</style>\n",
       "<table border=\"1\" class=\"dataframe\">\n",
       "  <thead>\n",
       "    <tr style=\"text-align: right;\">\n",
       "      <th></th>\n",
       "      <th>EmployeeID</th>\n",
       "      <th>recorddate_key</th>\n",
       "      <th>birthdate_key</th>\n",
       "      <th>orighiredate_key</th>\n",
       "      <th>terminationdate_key</th>\n",
       "      <th>age</th>\n",
       "      <th>length_of_service</th>\n",
       "      <th>city_name</th>\n",
       "      <th>department_name</th>\n",
       "      <th>job_title</th>\n",
       "      <th>store_name</th>\n",
       "      <th>gender_short</th>\n",
       "      <th>gender_full</th>\n",
       "      <th>termreason_desc</th>\n",
       "      <th>termtype_desc</th>\n",
       "      <th>STATUS_YEAR</th>\n",
       "      <th>STATUS</th>\n",
       "      <th>BUSINESS_UNIT</th>\n",
       "    </tr>\n",
       "  </thead>\n",
       "  <tbody>\n",
       "    <tr>\n",
       "      <th>0</th>\n",
       "      <td>1318</td>\n",
       "      <td>12/31/2006 0:00</td>\n",
       "      <td>1/3/1954</td>\n",
       "      <td>8/28/1989</td>\n",
       "      <td>1/1/1900</td>\n",
       "      <td>52</td>\n",
       "      <td>17</td>\n",
       "      <td>Vancouver</td>\n",
       "      <td>Executive</td>\n",
       "      <td>CEO</td>\n",
       "      <td>35</td>\n",
       "      <td>M</td>\n",
       "      <td>Male</td>\n",
       "      <td>Not Applicable</td>\n",
       "      <td>Not Applicable</td>\n",
       "      <td>2006</td>\n",
       "      <td>ACTIVE</td>\n",
       "      <td>HEADOFFICE</td>\n",
       "    </tr>\n",
       "    <tr>\n",
       "      <th>1</th>\n",
       "      <td>1318</td>\n",
       "      <td>12/31/2007 0:00</td>\n",
       "      <td>1/3/1954</td>\n",
       "      <td>8/28/1989</td>\n",
       "      <td>1/1/1900</td>\n",
       "      <td>53</td>\n",
       "      <td>18</td>\n",
       "      <td>Vancouver</td>\n",
       "      <td>Executive</td>\n",
       "      <td>CEO</td>\n",
       "      <td>35</td>\n",
       "      <td>M</td>\n",
       "      <td>Male</td>\n",
       "      <td>Not Applicable</td>\n",
       "      <td>Not Applicable</td>\n",
       "      <td>2007</td>\n",
       "      <td>ACTIVE</td>\n",
       "      <td>HEADOFFICE</td>\n",
       "    </tr>\n",
       "    <tr>\n",
       "      <th>2</th>\n",
       "      <td>1318</td>\n",
       "      <td>12/31/2008 0:00</td>\n",
       "      <td>1/3/1954</td>\n",
       "      <td>8/28/1989</td>\n",
       "      <td>1/1/1900</td>\n",
       "      <td>54</td>\n",
       "      <td>19</td>\n",
       "      <td>Vancouver</td>\n",
       "      <td>Executive</td>\n",
       "      <td>CEO</td>\n",
       "      <td>35</td>\n",
       "      <td>M</td>\n",
       "      <td>Male</td>\n",
       "      <td>Not Applicable</td>\n",
       "      <td>Not Applicable</td>\n",
       "      <td>2008</td>\n",
       "      <td>ACTIVE</td>\n",
       "      <td>HEADOFFICE</td>\n",
       "    </tr>\n",
       "    <tr>\n",
       "      <th>3</th>\n",
       "      <td>1318</td>\n",
       "      <td>12/31/2009 0:00</td>\n",
       "      <td>1/3/1954</td>\n",
       "      <td>8/28/1989</td>\n",
       "      <td>1/1/1900</td>\n",
       "      <td>55</td>\n",
       "      <td>20</td>\n",
       "      <td>Vancouver</td>\n",
       "      <td>Executive</td>\n",
       "      <td>CEO</td>\n",
       "      <td>35</td>\n",
       "      <td>M</td>\n",
       "      <td>Male</td>\n",
       "      <td>Not Applicable</td>\n",
       "      <td>Not Applicable</td>\n",
       "      <td>2009</td>\n",
       "      <td>ACTIVE</td>\n",
       "      <td>HEADOFFICE</td>\n",
       "    </tr>\n",
       "    <tr>\n",
       "      <th>4</th>\n",
       "      <td>1318</td>\n",
       "      <td>12/31/2010 0:00</td>\n",
       "      <td>1/3/1954</td>\n",
       "      <td>8/28/1989</td>\n",
       "      <td>1/1/1900</td>\n",
       "      <td>56</td>\n",
       "      <td>21</td>\n",
       "      <td>Vancouver</td>\n",
       "      <td>Executive</td>\n",
       "      <td>CEO</td>\n",
       "      <td>35</td>\n",
       "      <td>M</td>\n",
       "      <td>Male</td>\n",
       "      <td>Not Applicable</td>\n",
       "      <td>Not Applicable</td>\n",
       "      <td>2010</td>\n",
       "      <td>ACTIVE</td>\n",
       "      <td>HEADOFFICE</td>\n",
       "    </tr>\n",
       "  </tbody>\n",
       "</table>\n",
       "</div>"
      ],
      "text/plain": [
       "   EmployeeID   recorddate_key birthdate_key orighiredate_key  \\\n",
       "0        1318  12/31/2006 0:00      1/3/1954        8/28/1989   \n",
       "1        1318  12/31/2007 0:00      1/3/1954        8/28/1989   \n",
       "2        1318  12/31/2008 0:00      1/3/1954        8/28/1989   \n",
       "3        1318  12/31/2009 0:00      1/3/1954        8/28/1989   \n",
       "4        1318  12/31/2010 0:00      1/3/1954        8/28/1989   \n",
       "\n",
       "  terminationdate_key  age  length_of_service  city_name department_name  \\\n",
       "0            1/1/1900   52                 17  Vancouver       Executive   \n",
       "1            1/1/1900   53                 18  Vancouver       Executive   \n",
       "2            1/1/1900   54                 19  Vancouver       Executive   \n",
       "3            1/1/1900   55                 20  Vancouver       Executive   \n",
       "4            1/1/1900   56                 21  Vancouver       Executive   \n",
       "\n",
       "  job_title  store_name gender_short gender_full termreason_desc  \\\n",
       "0       CEO          35            M        Male  Not Applicable   \n",
       "1       CEO          35            M        Male  Not Applicable   \n",
       "2       CEO          35            M        Male  Not Applicable   \n",
       "3       CEO          35            M        Male  Not Applicable   \n",
       "4       CEO          35            M        Male  Not Applicable   \n",
       "\n",
       "    termtype_desc  STATUS_YEAR  STATUS BUSINESS_UNIT  \n",
       "0  Not Applicable         2006  ACTIVE    HEADOFFICE  \n",
       "1  Not Applicable         2007  ACTIVE    HEADOFFICE  \n",
       "2  Not Applicable         2008  ACTIVE    HEADOFFICE  \n",
       "3  Not Applicable         2009  ACTIVE    HEADOFFICE  \n",
       "4  Not Applicable         2010  ACTIVE    HEADOFFICE  "
      ]
     },
     "execution_count": 5,
     "metadata": {},
     "output_type": "execute_result"
    }
   ],
   "source": [
    "df.head()"
   ]
  },
  {
   "cell_type": "code",
   "execution_count": 4,
   "metadata": {
    "colab": {
     "base_uri": "https://localhost:8080/",
     "height": 267
    },
    "colab_type": "code",
    "id": "NGFbwlODdsoX",
    "outputId": "d231d474-93bf-4624-86d4-dc15c58921fd"
   },
   "outputs": [
    {
     "data": {
      "text/html": [
       "<div>\n",
       "<style scoped>\n",
       "    .dataframe tbody tr th:only-of-type {\n",
       "        vertical-align: middle;\n",
       "    }\n",
       "\n",
       "    .dataframe tbody tr th {\n",
       "        vertical-align: top;\n",
       "    }\n",
       "\n",
       "    .dataframe thead th {\n",
       "        text-align: right;\n",
       "    }\n",
       "</style>\n",
       "<table border=\"1\" class=\"dataframe\">\n",
       "  <thead>\n",
       "    <tr style=\"text-align: right;\">\n",
       "      <th></th>\n",
       "      <th>EmployeeID</th>\n",
       "      <th>recorddate_key</th>\n",
       "      <th>birthdate_key</th>\n",
       "      <th>orighiredate_key</th>\n",
       "      <th>terminationdate_key</th>\n",
       "      <th>age</th>\n",
       "      <th>length_of_service</th>\n",
       "      <th>city_name</th>\n",
       "      <th>department_name</th>\n",
       "      <th>job_title</th>\n",
       "      <th>store_name</th>\n",
       "      <th>gender_short</th>\n",
       "      <th>gender_full</th>\n",
       "      <th>termreason_desc</th>\n",
       "      <th>termtype_desc</th>\n",
       "      <th>STATUS_YEAR</th>\n",
       "      <th>STATUS</th>\n",
       "      <th>BUSINESS_UNIT</th>\n",
       "    </tr>\n",
       "  </thead>\n",
       "  <tbody>\n",
       "    <tr>\n",
       "      <th>49648</th>\n",
       "      <td>8258</td>\n",
       "      <td>12/1/2015 0:00</td>\n",
       "      <td>5/28/1994</td>\n",
       "      <td>8/19/2013</td>\n",
       "      <td>12/30/2015</td>\n",
       "      <td>21</td>\n",
       "      <td>2</td>\n",
       "      <td>Valemount</td>\n",
       "      <td>Dairy</td>\n",
       "      <td>Dairy Person</td>\n",
       "      <td>34</td>\n",
       "      <td>M</td>\n",
       "      <td>Male</td>\n",
       "      <td>Layoff</td>\n",
       "      <td>Involuntary</td>\n",
       "      <td>2015</td>\n",
       "      <td>TERMINATED</td>\n",
       "      <td>STORES</td>\n",
       "    </tr>\n",
       "    <tr>\n",
       "      <th>49649</th>\n",
       "      <td>8264</td>\n",
       "      <td>8/1/2013 0:00</td>\n",
       "      <td>6/13/1994</td>\n",
       "      <td>8/27/2013</td>\n",
       "      <td>8/30/2013</td>\n",
       "      <td>19</td>\n",
       "      <td>0</td>\n",
       "      <td>Vancouver</td>\n",
       "      <td>Customer Service</td>\n",
       "      <td>Cashier</td>\n",
       "      <td>44</td>\n",
       "      <td>F</td>\n",
       "      <td>Female</td>\n",
       "      <td>Resignaton</td>\n",
       "      <td>Voluntary</td>\n",
       "      <td>2013</td>\n",
       "      <td>TERMINATED</td>\n",
       "      <td>STORES</td>\n",
       "    </tr>\n",
       "    <tr>\n",
       "      <th>49650</th>\n",
       "      <td>8279</td>\n",
       "      <td>12/1/2015 0:00</td>\n",
       "      <td>7/18/1994</td>\n",
       "      <td>9/15/2013</td>\n",
       "      <td>12/30/2015</td>\n",
       "      <td>21</td>\n",
       "      <td>2</td>\n",
       "      <td>White Rock</td>\n",
       "      <td>Customer Service</td>\n",
       "      <td>Cashier</td>\n",
       "      <td>39</td>\n",
       "      <td>F</td>\n",
       "      <td>Female</td>\n",
       "      <td>Layoff</td>\n",
       "      <td>Involuntary</td>\n",
       "      <td>2015</td>\n",
       "      <td>TERMINATED</td>\n",
       "      <td>STORES</td>\n",
       "    </tr>\n",
       "    <tr>\n",
       "      <th>49651</th>\n",
       "      <td>8296</td>\n",
       "      <td>12/1/2013 0:00</td>\n",
       "      <td>9/2/1994</td>\n",
       "      <td>10/9/2013</td>\n",
       "      <td>12/31/2013</td>\n",
       "      <td>19</td>\n",
       "      <td>0</td>\n",
       "      <td>Kelowna</td>\n",
       "      <td>Customer Service</td>\n",
       "      <td>Cashier</td>\n",
       "      <td>16</td>\n",
       "      <td>F</td>\n",
       "      <td>Female</td>\n",
       "      <td>Resignaton</td>\n",
       "      <td>Voluntary</td>\n",
       "      <td>2013</td>\n",
       "      <td>TERMINATED</td>\n",
       "      <td>STORES</td>\n",
       "    </tr>\n",
       "    <tr>\n",
       "      <th>49652</th>\n",
       "      <td>8321</td>\n",
       "      <td>12/1/2014 0:00</td>\n",
       "      <td>11/28/1994</td>\n",
       "      <td>11/24/2013</td>\n",
       "      <td>12/30/2014</td>\n",
       "      <td>20</td>\n",
       "      <td>1</td>\n",
       "      <td>Grand Forks</td>\n",
       "      <td>Customer Service</td>\n",
       "      <td>Cashier</td>\n",
       "      <td>13</td>\n",
       "      <td>F</td>\n",
       "      <td>Female</td>\n",
       "      <td>Layoff</td>\n",
       "      <td>Involuntary</td>\n",
       "      <td>2014</td>\n",
       "      <td>TERMINATED</td>\n",
       "      <td>STORES</td>\n",
       "    </tr>\n",
       "  </tbody>\n",
       "</table>\n",
       "</div>"
      ],
      "text/plain": [
       "       EmployeeID  recorddate_key birthdate_key orighiredate_key  \\\n",
       "49648        8258  12/1/2015 0:00     5/28/1994        8/19/2013   \n",
       "49649        8264   8/1/2013 0:00     6/13/1994        8/27/2013   \n",
       "49650        8279  12/1/2015 0:00     7/18/1994        9/15/2013   \n",
       "49651        8296  12/1/2013 0:00      9/2/1994        10/9/2013   \n",
       "49652        8321  12/1/2014 0:00    11/28/1994       11/24/2013   \n",
       "\n",
       "      terminationdate_key  age  length_of_service    city_name  \\\n",
       "49648          12/30/2015   21                  2    Valemount   \n",
       "49649           8/30/2013   19                  0    Vancouver   \n",
       "49650          12/30/2015   21                  2   White Rock   \n",
       "49651          12/31/2013   19                  0      Kelowna   \n",
       "49652          12/30/2014   20                  1  Grand Forks   \n",
       "\n",
       "        department_name     job_title  store_name gender_short gender_full  \\\n",
       "49648             Dairy  Dairy Person          34            M        Male   \n",
       "49649  Customer Service       Cashier          44            F      Female   \n",
       "49650  Customer Service       Cashier          39            F      Female   \n",
       "49651  Customer Service       Cashier          16            F      Female   \n",
       "49652  Customer Service       Cashier          13            F      Female   \n",
       "\n",
       "      termreason_desc termtype_desc  STATUS_YEAR      STATUS BUSINESS_UNIT  \n",
       "49648          Layoff   Involuntary         2015  TERMINATED        STORES  \n",
       "49649      Resignaton     Voluntary         2013  TERMINATED        STORES  \n",
       "49650          Layoff   Involuntary         2015  TERMINATED        STORES  \n",
       "49651      Resignaton     Voluntary         2013  TERMINATED        STORES  \n",
       "49652          Layoff   Involuntary         2014  TERMINATED        STORES  "
      ]
     },
     "execution_count": 4,
     "metadata": {},
     "output_type": "execute_result"
    }
   ],
   "source": [
    "df.tail()"
   ]
  },
  {
   "cell_type": "markdown",
   "metadata": {
    "colab_type": "text",
    "id": "xF6HM872n4r_"
   },
   "source": [
    "# Accessing the main DataFrame components"
   ]
  },
  {
   "cell_type": "code",
   "execution_count": 6,
   "metadata": {
    "colab": {},
    "colab_type": "code",
    "id": "Mdr1r8Vjn8MW"
   },
   "outputs": [],
   "source": [
    "columns = df.columns\n",
    "index = df.index\n",
    "data = df.values"
   ]
  },
  {
   "cell_type": "code",
   "execution_count": 7,
   "metadata": {
    "colab": {
     "base_uri": "https://localhost:8080/",
     "height": 122
    },
    "colab_type": "code",
    "id": "ZswvXsbSoC_Z",
    "outputId": "6a6b6066-d50b-4c3e-ca09-bae0246fb433"
   },
   "outputs": [
    {
     "data": {
      "text/plain": [
       "Index(['EmployeeID', 'recorddate_key', 'birthdate_key', 'orighiredate_key',\n",
       "       'terminationdate_key', 'age', 'length_of_service', 'city_name',\n",
       "       'department_name', 'job_title', 'store_name', 'gender_short',\n",
       "       'gender_full', 'termreason_desc', 'termtype_desc', 'STATUS_YEAR',\n",
       "       'STATUS', 'BUSINESS_UNIT'],\n",
       "      dtype='object')"
      ]
     },
     "execution_count": 7,
     "metadata": {},
     "output_type": "execute_result"
    }
   ],
   "source": [
    "columns"
   ]
  },
  {
   "cell_type": "code",
   "execution_count": 7,
   "metadata": {
    "colab": {
     "base_uri": "https://localhost:8080/",
     "height": 34
    },
    "colab_type": "code",
    "id": "GLo6QO7BoEmP",
    "outputId": "ddf0f9db-401a-47e7-e377-0f3ade524cc6"
   },
   "outputs": [
    {
     "data": {
      "text/plain": [
       "RangeIndex(start=0, stop=49653, step=1)"
      ]
     },
     "execution_count": 7,
     "metadata": {},
     "output_type": "execute_result"
    }
   ],
   "source": [
    "index"
   ]
  },
  {
   "cell_type": "code",
   "execution_count": 8,
   "metadata": {
    "colab": {
     "base_uri": "https://localhost:8080/",
     "height": 244
    },
    "colab_type": "code",
    "id": "DOiXYBceoGPn",
    "outputId": "ce9555f7-b6c5-4f88-89e7-79cb6930138a"
   },
   "outputs": [
    {
     "data": {
      "text/plain": [
       "array([[1318, '12/31/2006 0:00', '1/3/1954', ..., 2006, 'ACTIVE',\n",
       "        'HEADOFFICE'],\n",
       "       [1318, '12/31/2007 0:00', '1/3/1954', ..., 2007, 'ACTIVE',\n",
       "        'HEADOFFICE'],\n",
       "       [1318, '12/31/2008 0:00', '1/3/1954', ..., 2008, 'ACTIVE',\n",
       "        'HEADOFFICE'],\n",
       "       ...,\n",
       "       [8279, '12/1/2015 0:00', '7/18/1994', ..., 2015, 'TERMINATED',\n",
       "        'STORES'],\n",
       "       [8296, '12/1/2013 0:00', '9/2/1994', ..., 2013, 'TERMINATED',\n",
       "        'STORES'],\n",
       "       [8321, '12/1/2014 0:00', '11/28/1994', ..., 2014, 'TERMINATED',\n",
       "        'STORES']], dtype=object)"
      ]
     },
     "execution_count": 8,
     "metadata": {},
     "output_type": "execute_result"
    }
   ],
   "source": [
    "data"
   ]
  },
  {
   "cell_type": "markdown",
   "metadata": {
    "colab_type": "text",
    "id": "3fec-2AUoPmk"
   },
   "source": [
    "# 1. Understanding Data Types"
   ]
  },
  {
   "cell_type": "markdown",
   "metadata": {
    "colab_type": "text",
    "id": "TxadHP_NtXbK"
   },
   "source": [
    "#### 1.A Find Shape of Data Frame"
   ]
  },
  {
   "cell_type": "code",
   "execution_count": 8,
   "metadata": {
    "colab": {},
    "colab_type": "code",
    "id": "ZLGMP4NRpqE5"
   },
   "outputs": [
    {
     "data": {
      "text/plain": [
       "(49653, 18)"
      ]
     },
     "execution_count": 8,
     "metadata": {},
     "output_type": "execute_result"
    }
   ],
   "source": [
    "# A:\n",
    "df.shape"
   ]
  },
  {
   "cell_type": "markdown",
   "metadata": {
    "colab_type": "text",
    "id": "oJX-CGXvuvR7"
   },
   "source": [
    "#### 1.B Find Data Tyeps of Data Frame"
   ]
  },
  {
   "cell_type": "code",
   "execution_count": 26,
   "metadata": {
    "colab": {},
    "colab_type": "code",
    "id": "9-jcxa4JoUaF"
   },
   "outputs": [
    {
     "data": {
      "text/plain": [
       "EmployeeID              int64\n",
       "recorddate_key         object\n",
       "birthdate_key          object\n",
       "orighiredate_key       object\n",
       "terminationdate_key    object\n",
       "age                     int64\n",
       "length_of_service       int64\n",
       "city_name              object\n",
       "department_name        object\n",
       "job_title              object\n",
       "store_name              int64\n",
       "gender_short           object\n",
       "gender_full            object\n",
       "termreason_desc        object\n",
       "termtype_desc          object\n",
       "STATUS_YEAR             int64\n",
       "STATUS                 object\n",
       "BUSINESS_UNIT          object\n",
       "dtype: object"
      ]
     },
     "execution_count": 26,
     "metadata": {},
     "output_type": "execute_result"
    }
   ],
   "source": [
    "# A:\n",
    "#df_df = pd.DataFrame([df])\n",
    "df.dtypes"
   ]
  },
  {
   "cell_type": "markdown",
   "metadata": {
    "colab_type": "text",
    "id": "F84ZM4giu3uX"
   },
   "source": [
    "#### 1.C Find Number of Data Types in a Data Frame\n",
    "\n",
    "\n",
    "\n",
    "```\n",
    "Expected Output:\n",
    "int64      5\n",
    "object    13\n",
    "dtype: int64\n",
    "```\n",
    "\n"
   ]
  },
  {
   "cell_type": "code",
   "execution_count": 9,
   "metadata": {},
   "outputs": [
    {
     "data": {
      "text/plain": [
       "<bound method NDFrame.get_dtype_counts of        EmployeeID   recorddate_key birthdate_key orighiredate_key  \\\n",
       "0            1318  12/31/2006 0:00      1/3/1954        8/28/1989   \n",
       "1            1318  12/31/2007 0:00      1/3/1954        8/28/1989   \n",
       "2            1318  12/31/2008 0:00      1/3/1954        8/28/1989   \n",
       "3            1318  12/31/2009 0:00      1/3/1954        8/28/1989   \n",
       "4            1318  12/31/2010 0:00      1/3/1954        8/28/1989   \n",
       "5            1318  12/31/2011 0:00      1/3/1954        8/28/1989   \n",
       "6            1318  12/31/2012 0:00      1/3/1954        8/28/1989   \n",
       "7            1318  12/31/2013 0:00      1/3/1954        8/28/1989   \n",
       "8            1318  12/31/2014 0:00      1/3/1954        8/28/1989   \n",
       "9            1318  12/31/2015 0:00      1/3/1954        8/28/1989   \n",
       "10           1319  12/31/2006 0:00      1/3/1957        8/28/1989   \n",
       "11           1319  12/31/2007 0:00      1/3/1957        8/28/1989   \n",
       "12           1319  12/31/2008 0:00      1/3/1957        8/28/1989   \n",
       "13           1319  12/31/2009 0:00      1/3/1957        8/28/1989   \n",
       "14           1319  12/31/2010 0:00      1/3/1957        8/28/1989   \n",
       "15           1319  12/31/2011 0:00      1/3/1957        8/28/1989   \n",
       "16           1319  12/31/2012 0:00      1/3/1957        8/28/1989   \n",
       "17           1319  12/31/2013 0:00      1/3/1957        8/28/1989   \n",
       "18           1319  12/31/2014 0:00      1/3/1957        8/28/1989   \n",
       "19           1319  12/31/2015 0:00      1/3/1957        8/28/1989   \n",
       "20           1320  12/31/2006 0:00      1/2/1955        8/28/1989   \n",
       "21           1320  12/31/2007 0:00      1/2/1955        8/28/1989   \n",
       "22           1320  12/31/2008 0:00      1/2/1955        8/28/1989   \n",
       "23           1320  12/31/2009 0:00      1/2/1955        8/28/1989   \n",
       "24           1320  12/31/2010 0:00      1/2/1955        8/28/1989   \n",
       "25           1320  12/31/2011 0:00      1/2/1955        8/28/1989   \n",
       "26           1320  12/31/2012 0:00      1/2/1955        8/28/1989   \n",
       "27           1320  12/31/2013 0:00      1/2/1955        8/28/1989   \n",
       "28           1320  12/31/2014 0:00      1/2/1955        8/28/1989   \n",
       "29           1320  12/31/2015 0:00      1/2/1955        8/28/1989   \n",
       "...           ...              ...           ...              ...   \n",
       "49623        8168    9/1/2014 0:00     8/13/1993        3/20/2013   \n",
       "49624        8169    9/1/2014 0:00     8/15/1993        3/21/2013   \n",
       "49625        8170    9/1/2014 0:00     8/24/1993        3/25/2013   \n",
       "49626        8171    9/1/2014 0:00     8/26/1993        3/26/2013   \n",
       "49627        8172    9/1/2014 0:00     8/25/1993        3/26/2013   \n",
       "49628        8173    9/1/2014 0:00     8/31/1993        3/29/2013   \n",
       "49629        8174    9/1/2014 0:00      9/1/1993        3/30/2013   \n",
       "49630        8175   10/1/2014 0:00      9/5/1993         4/1/2013   \n",
       "49631        8176   10/1/2014 0:00      9/7/1993         4/2/2013   \n",
       "49632        8177   10/1/2014 0:00      9/8/1993         4/2/2013   \n",
       "49633        8178   10/1/2014 0:00     9/10/1993         4/3/2013   \n",
       "49634        8179   12/1/2015 0:00     9/11/1993         4/4/2013   \n",
       "49635        8180   10/1/2014 0:00     9/16/1993         4/6/2013   \n",
       "49636        8181    7/1/2013 0:00     9/26/1993        4/12/2013   \n",
       "49637        8182   10/1/2014 0:00     9/27/1993        4/12/2013   \n",
       "49638        8183   10/1/2014 0:00     10/2/1993        4/15/2013   \n",
       "49639        8184   10/1/2014 0:00     10/5/1993        4/16/2013   \n",
       "49640        8185   10/1/2014 0:00     10/9/1993        4/19/2013   \n",
       "49641        8186   10/1/2014 0:00    10/14/1993        4/21/2013   \n",
       "49642        8187   10/1/2014 0:00    10/17/1993        4/23/2013   \n",
       "49643        8188   10/1/2014 0:00    10/22/1993        4/25/2013   \n",
       "49644        8214   12/1/2014 0:00      1/6/1994         6/5/2013   \n",
       "49645        8223   10/1/2013 0:00     2/11/1994        6/24/2013   \n",
       "49646        8226    9/1/2013 0:00     2/16/1994        6/26/2013   \n",
       "49647        8231   12/1/2015 0:00      3/1/1994         7/3/2013   \n",
       "49648        8258   12/1/2015 0:00     5/28/1994        8/19/2013   \n",
       "49649        8264    8/1/2013 0:00     6/13/1994        8/27/2013   \n",
       "49650        8279   12/1/2015 0:00     7/18/1994        9/15/2013   \n",
       "49651        8296   12/1/2013 0:00      9/2/1994        10/9/2013   \n",
       "49652        8321   12/1/2014 0:00    11/28/1994       11/24/2013   \n",
       "\n",
       "      terminationdate_key  age  length_of_service      city_name  \\\n",
       "0                1/1/1900   52                 17      Vancouver   \n",
       "1                1/1/1900   53                 18      Vancouver   \n",
       "2                1/1/1900   54                 19      Vancouver   \n",
       "3                1/1/1900   55                 20      Vancouver   \n",
       "4                1/1/1900   56                 21      Vancouver   \n",
       "5                1/1/1900   57                 22      Vancouver   \n",
       "6                1/1/1900   58                 23      Vancouver   \n",
       "7                1/1/1900   59                 24      Vancouver   \n",
       "8                1/1/1900   60                 25      Vancouver   \n",
       "9                1/1/1900   61                 26      Vancouver   \n",
       "10               1/1/1900   49                 17      Vancouver   \n",
       "11               1/1/1900   50                 18      Vancouver   \n",
       "12               1/1/1900   51                 19      Vancouver   \n",
       "13               1/1/1900   52                 20      Vancouver   \n",
       "14               1/1/1900   53                 21      Vancouver   \n",
       "15               1/1/1900   54                 22      Vancouver   \n",
       "16               1/1/1900   55                 23      Vancouver   \n",
       "17               1/1/1900   56                 24      Vancouver   \n",
       "18               1/1/1900   57                 25      Vancouver   \n",
       "19               1/1/1900   58                 26      Vancouver   \n",
       "20               1/1/1900   51                 17      Vancouver   \n",
       "21               1/1/1900   52                 18      Vancouver   \n",
       "22               1/1/1900   53                 19      Vancouver   \n",
       "23               1/1/1900   54                 20      Vancouver   \n",
       "24               1/1/1900   55                 21      Vancouver   \n",
       "25               1/1/1900   56                 22      Vancouver   \n",
       "26               1/1/1900   57                 23      Vancouver   \n",
       "27               1/1/1900   58                 24      Vancouver   \n",
       "28               1/1/1900   59                 25      Vancouver   \n",
       "29               1/1/1900   60                 26      Vancouver   \n",
       "...                   ...  ...                ...            ...   \n",
       "49623           9/20/2014   21                  1       Victoria   \n",
       "49624           9/21/2014   21                  1      Vancouver   \n",
       "49625           9/25/2014   21                  1   Fort St John   \n",
       "49626           9/26/2014   21                  1         Surrey   \n",
       "49627           9/26/2014   21                  1  Prince George   \n",
       "49628           9/29/2014   21                  1        Langley   \n",
       "49629           9/30/2014   21                  1        Nanaimo   \n",
       "49630           10/1/2014   21                  1      Vancouver   \n",
       "49631           10/2/2014   21                  1        Kelowna   \n",
       "49632           10/2/2014   21                  1       Victoria   \n",
       "49633           10/3/2014   21                  1      Vancouver   \n",
       "49634          12/30/2015   22                  2      Princeton   \n",
       "49635           10/6/2014   21                  1        Langley   \n",
       "49636            7/2/2013   19                  0  Prince George   \n",
       "49637          10/12/2014   21                  1   Fort St John   \n",
       "49638          10/15/2014   21                  1  Williams Lake   \n",
       "49639          10/16/2014   21                  1     Chilliwack   \n",
       "49640          10/19/2014   21                  1       Kamloops   \n",
       "49641          10/21/2014   21                  1       Richmond   \n",
       "49642          10/23/2014   21                  1      Cranbrook   \n",
       "49643          10/25/2014   21                  1       Victoria   \n",
       "49644          12/30/2014   20                  1          Haney   \n",
       "49645          10/17/2013   19                  0          Trail   \n",
       "49646           9/14/2013   19                  0       Victoria   \n",
       "49647          12/30/2015   21                  2      Princeton   \n",
       "49648          12/30/2015   21                  2      Valemount   \n",
       "49649           8/30/2013   19                  0      Vancouver   \n",
       "49650          12/30/2015   21                  2     White Rock   \n",
       "49651          12/31/2013   19                  0        Kelowna   \n",
       "49652          12/30/2014   20                  1    Grand Forks   \n",
       "\n",
       "        department_name      job_title  store_name gender_short gender_full  \\\n",
       "0             Executive            CEO          35            M        Male   \n",
       "1             Executive            CEO          35            M        Male   \n",
       "2             Executive            CEO          35            M        Male   \n",
       "3             Executive            CEO          35            M        Male   \n",
       "4             Executive            CEO          35            M        Male   \n",
       "5             Executive            CEO          35            M        Male   \n",
       "6             Executive            CEO          35            M        Male   \n",
       "7             Executive            CEO          35            M        Male   \n",
       "8             Executive            CEO          35            M        Male   \n",
       "9             Executive            CEO          35            M        Male   \n",
       "10            Executive      VP Stores          35            F      Female   \n",
       "11            Executive      VP Stores          35            F      Female   \n",
       "12            Executive      VP Stores          35            F      Female   \n",
       "13            Executive      VP Stores          35            F      Female   \n",
       "14            Executive      VP Stores          35            F      Female   \n",
       "15            Executive      VP Stores          35            F      Female   \n",
       "16            Executive      VP Stores          35            F      Female   \n",
       "17            Executive      VP Stores          35            F      Female   \n",
       "18            Executive      VP Stores          35            F      Female   \n",
       "19            Executive      VP Stores          35            F      Female   \n",
       "20            Executive  Legal Counsel          35            F      Female   \n",
       "21            Executive  Legal Counsel          35            F      Female   \n",
       "22            Executive  Legal Counsel          35            F      Female   \n",
       "23            Executive  Legal Counsel          35            F      Female   \n",
       "24            Executive  Legal Counsel          35            F      Female   \n",
       "25            Executive  Legal Counsel          35            F      Female   \n",
       "26            Executive  Legal Counsel          35            F      Female   \n",
       "27            Executive  Legal Counsel          35            F      Female   \n",
       "28            Executive  Legal Counsel          35            F      Female   \n",
       "29            Executive  Legal Counsel          35            F      Female   \n",
       "...                 ...            ...         ...          ...         ...   \n",
       "49623  Customer Service        Cashier          46            M        Male   \n",
       "49624  Customer Service        Cashier          44            F      Female   \n",
       "49625  Customer Service        Cashier          12            F      Female   \n",
       "49626  Customer Service        Cashier          31            M        Male   \n",
       "49627  Customer Service        Cashier          26            F      Female   \n",
       "49628  Customer Service        Cashier          17            F      Female   \n",
       "49629  Customer Service        Cashier          18            M        Male   \n",
       "49630  Customer Service        Cashier          44            M        Male   \n",
       "49631  Customer Service        Cashier          16            M        Male   \n",
       "49632  Customer Service        Cashier          46            M        Male   \n",
       "49633  Customer Service        Cashier          44            F      Female   \n",
       "49634  Customer Service        Cashier          27            M        Male   \n",
       "49635  Customer Service        Cashier          17            M        Male   \n",
       "49636  Customer Service        Cashier          26            M        Male   \n",
       "49637  Customer Service        Cashier          12            M        Male   \n",
       "49638  Customer Service        Cashier          40            F      Female   \n",
       "49639  Customer Service        Cashier           6            F      Female   \n",
       "49640  Customer Service        Cashier          15            M        Male   \n",
       "49641  Customer Service        Cashier          29            M        Male   \n",
       "49642  Customer Service        Cashier           8            F      Female   \n",
       "49643  Customer Service        Cashier          46            F      Female   \n",
       "49644           Produce  Produce Clerk          14            F      Female   \n",
       "49645  Customer Service        Cashier          33            M        Male   \n",
       "49646  Customer Service        Cashier          46            F      Female   \n",
       "49647  Customer Service        Cashier          27            M        Male   \n",
       "49648             Dairy   Dairy Person          34            M        Male   \n",
       "49649  Customer Service        Cashier          44            F      Female   \n",
       "49650  Customer Service        Cashier          39            F      Female   \n",
       "49651  Customer Service        Cashier          16            F      Female   \n",
       "49652  Customer Service        Cashier          13            F      Female   \n",
       "\n",
       "      termreason_desc   termtype_desc  STATUS_YEAR      STATUS BUSINESS_UNIT  \n",
       "0      Not Applicable  Not Applicable         2006      ACTIVE    HEADOFFICE  \n",
       "1      Not Applicable  Not Applicable         2007      ACTIVE    HEADOFFICE  \n",
       "2      Not Applicable  Not Applicable         2008      ACTIVE    HEADOFFICE  \n",
       "3      Not Applicable  Not Applicable         2009      ACTIVE    HEADOFFICE  \n",
       "4      Not Applicable  Not Applicable         2010      ACTIVE    HEADOFFICE  \n",
       "5      Not Applicable  Not Applicable         2011      ACTIVE    HEADOFFICE  \n",
       "6      Not Applicable  Not Applicable         2012      ACTIVE    HEADOFFICE  \n",
       "7      Not Applicable  Not Applicable         2013      ACTIVE    HEADOFFICE  \n",
       "8      Not Applicable  Not Applicable         2014      ACTIVE    HEADOFFICE  \n",
       "9      Not Applicable  Not Applicable         2015      ACTIVE    HEADOFFICE  \n",
       "10     Not Applicable  Not Applicable         2006      ACTIVE    HEADOFFICE  \n",
       "11     Not Applicable  Not Applicable         2007      ACTIVE    HEADOFFICE  \n",
       "12     Not Applicable  Not Applicable         2008      ACTIVE    HEADOFFICE  \n",
       "13     Not Applicable  Not Applicable         2009      ACTIVE    HEADOFFICE  \n",
       "14     Not Applicable  Not Applicable         2010      ACTIVE    HEADOFFICE  \n",
       "15     Not Applicable  Not Applicable         2011      ACTIVE    HEADOFFICE  \n",
       "16     Not Applicable  Not Applicable         2012      ACTIVE    HEADOFFICE  \n",
       "17     Not Applicable  Not Applicable         2013      ACTIVE    HEADOFFICE  \n",
       "18     Not Applicable  Not Applicable         2014      ACTIVE    HEADOFFICE  \n",
       "19     Not Applicable  Not Applicable         2015      ACTIVE    HEADOFFICE  \n",
       "20     Not Applicable  Not Applicable         2006      ACTIVE    HEADOFFICE  \n",
       "21     Not Applicable  Not Applicable         2007      ACTIVE    HEADOFFICE  \n",
       "22     Not Applicable  Not Applicable         2008      ACTIVE    HEADOFFICE  \n",
       "23     Not Applicable  Not Applicable         2009      ACTIVE    HEADOFFICE  \n",
       "24     Not Applicable  Not Applicable         2010      ACTIVE    HEADOFFICE  \n",
       "25     Not Applicable  Not Applicable         2011      ACTIVE    HEADOFFICE  \n",
       "26     Not Applicable  Not Applicable         2012      ACTIVE    HEADOFFICE  \n",
       "27     Not Applicable  Not Applicable         2013      ACTIVE    HEADOFFICE  \n",
       "28     Not Applicable  Not Applicable         2014      ACTIVE    HEADOFFICE  \n",
       "29     Not Applicable  Not Applicable         2015      ACTIVE    HEADOFFICE  \n",
       "...               ...             ...          ...         ...           ...  \n",
       "49623      Resignaton       Voluntary         2014  TERMINATED        STORES  \n",
       "49624      Resignaton       Voluntary         2014  TERMINATED        STORES  \n",
       "49625      Resignaton       Voluntary         2014  TERMINATED        STORES  \n",
       "49626      Resignaton       Voluntary         2014  TERMINATED        STORES  \n",
       "49627      Resignaton       Voluntary         2014  TERMINATED        STORES  \n",
       "49628      Resignaton       Voluntary         2014  TERMINATED        STORES  \n",
       "49629      Resignaton       Voluntary         2014  TERMINATED        STORES  \n",
       "49630      Resignaton       Voluntary         2014  TERMINATED        STORES  \n",
       "49631      Resignaton       Voluntary         2014  TERMINATED        STORES  \n",
       "49632      Resignaton       Voluntary         2014  TERMINATED        STORES  \n",
       "49633      Resignaton       Voluntary         2014  TERMINATED        STORES  \n",
       "49634          Layoff     Involuntary         2015  TERMINATED        STORES  \n",
       "49635      Resignaton       Voluntary         2014  TERMINATED        STORES  \n",
       "49636      Resignaton       Voluntary         2013  TERMINATED        STORES  \n",
       "49637      Resignaton       Voluntary         2014  TERMINATED        STORES  \n",
       "49638      Resignaton       Voluntary         2014  TERMINATED        STORES  \n",
       "49639      Resignaton       Voluntary         2014  TERMINATED        STORES  \n",
       "49640      Resignaton       Voluntary         2014  TERMINATED        STORES  \n",
       "49641      Resignaton       Voluntary         2014  TERMINATED        STORES  \n",
       "49642      Resignaton       Voluntary         2014  TERMINATED        STORES  \n",
       "49643      Resignaton       Voluntary         2014  TERMINATED        STORES  \n",
       "49644          Layoff     Involuntary         2014  TERMINATED        STORES  \n",
       "49645      Resignaton       Voluntary         2013  TERMINATED        STORES  \n",
       "49646      Resignaton       Voluntary         2013  TERMINATED        STORES  \n",
       "49647          Layoff     Involuntary         2015  TERMINATED        STORES  \n",
       "49648          Layoff     Involuntary         2015  TERMINATED        STORES  \n",
       "49649      Resignaton       Voluntary         2013  TERMINATED        STORES  \n",
       "49650          Layoff     Involuntary         2015  TERMINATED        STORES  \n",
       "49651      Resignaton       Voluntary         2013  TERMINATED        STORES  \n",
       "49652          Layoff     Involuntary         2014  TERMINATED        STORES  \n",
       "\n",
       "[49653 rows x 18 columns]>"
      ]
     },
     "execution_count": 9,
     "metadata": {},
     "output_type": "execute_result"
    }
   ],
   "source": [
    "df.get_dtype_counts"
   ]
  },
  {
   "cell_type": "markdown",
   "metadata": {
    "colab_type": "text",
    "id": "1yyNZ1HIvGVp"
   },
   "source": [
    "#### 1.D Use Info\n",
    "\n",
    "Use info and explore difference."
   ]
  },
  {
   "cell_type": "code",
   "execution_count": 17,
   "metadata": {
    "colab": {},
    "colab_type": "code",
    "id": "br45XLTVoXsv"
   },
   "outputs": [
    {
     "data": {
      "text/plain": [
       "<bound method DataFrame.info of        EmployeeID   recorddate_key birthdate_key orighiredate_key  \\\n",
       "0            1318  12/31/2006 0:00      1/3/1954        8/28/1989   \n",
       "1            1318  12/31/2007 0:00      1/3/1954        8/28/1989   \n",
       "2            1318  12/31/2008 0:00      1/3/1954        8/28/1989   \n",
       "3            1318  12/31/2009 0:00      1/3/1954        8/28/1989   \n",
       "4            1318  12/31/2010 0:00      1/3/1954        8/28/1989   \n",
       "5            1318  12/31/2011 0:00      1/3/1954        8/28/1989   \n",
       "6            1318  12/31/2012 0:00      1/3/1954        8/28/1989   \n",
       "7            1318  12/31/2013 0:00      1/3/1954        8/28/1989   \n",
       "8            1318  12/31/2014 0:00      1/3/1954        8/28/1989   \n",
       "9            1318  12/31/2015 0:00      1/3/1954        8/28/1989   \n",
       "10           1319  12/31/2006 0:00      1/3/1957        8/28/1989   \n",
       "11           1319  12/31/2007 0:00      1/3/1957        8/28/1989   \n",
       "12           1319  12/31/2008 0:00      1/3/1957        8/28/1989   \n",
       "13           1319  12/31/2009 0:00      1/3/1957        8/28/1989   \n",
       "14           1319  12/31/2010 0:00      1/3/1957        8/28/1989   \n",
       "15           1319  12/31/2011 0:00      1/3/1957        8/28/1989   \n",
       "16           1319  12/31/2012 0:00      1/3/1957        8/28/1989   \n",
       "17           1319  12/31/2013 0:00      1/3/1957        8/28/1989   \n",
       "18           1319  12/31/2014 0:00      1/3/1957        8/28/1989   \n",
       "19           1319  12/31/2015 0:00      1/3/1957        8/28/1989   \n",
       "20           1320  12/31/2006 0:00      1/2/1955        8/28/1989   \n",
       "21           1320  12/31/2007 0:00      1/2/1955        8/28/1989   \n",
       "22           1320  12/31/2008 0:00      1/2/1955        8/28/1989   \n",
       "23           1320  12/31/2009 0:00      1/2/1955        8/28/1989   \n",
       "24           1320  12/31/2010 0:00      1/2/1955        8/28/1989   \n",
       "25           1320  12/31/2011 0:00      1/2/1955        8/28/1989   \n",
       "26           1320  12/31/2012 0:00      1/2/1955        8/28/1989   \n",
       "27           1320  12/31/2013 0:00      1/2/1955        8/28/1989   \n",
       "28           1320  12/31/2014 0:00      1/2/1955        8/28/1989   \n",
       "29           1320  12/31/2015 0:00      1/2/1955        8/28/1989   \n",
       "...           ...              ...           ...              ...   \n",
       "49623        8168    9/1/2014 0:00     8/13/1993        3/20/2013   \n",
       "49624        8169    9/1/2014 0:00     8/15/1993        3/21/2013   \n",
       "49625        8170    9/1/2014 0:00     8/24/1993        3/25/2013   \n",
       "49626        8171    9/1/2014 0:00     8/26/1993        3/26/2013   \n",
       "49627        8172    9/1/2014 0:00     8/25/1993        3/26/2013   \n",
       "49628        8173    9/1/2014 0:00     8/31/1993        3/29/2013   \n",
       "49629        8174    9/1/2014 0:00      9/1/1993        3/30/2013   \n",
       "49630        8175   10/1/2014 0:00      9/5/1993         4/1/2013   \n",
       "49631        8176   10/1/2014 0:00      9/7/1993         4/2/2013   \n",
       "49632        8177   10/1/2014 0:00      9/8/1993         4/2/2013   \n",
       "49633        8178   10/1/2014 0:00     9/10/1993         4/3/2013   \n",
       "49634        8179   12/1/2015 0:00     9/11/1993         4/4/2013   \n",
       "49635        8180   10/1/2014 0:00     9/16/1993         4/6/2013   \n",
       "49636        8181    7/1/2013 0:00     9/26/1993        4/12/2013   \n",
       "49637        8182   10/1/2014 0:00     9/27/1993        4/12/2013   \n",
       "49638        8183   10/1/2014 0:00     10/2/1993        4/15/2013   \n",
       "49639        8184   10/1/2014 0:00     10/5/1993        4/16/2013   \n",
       "49640        8185   10/1/2014 0:00     10/9/1993        4/19/2013   \n",
       "49641        8186   10/1/2014 0:00    10/14/1993        4/21/2013   \n",
       "49642        8187   10/1/2014 0:00    10/17/1993        4/23/2013   \n",
       "49643        8188   10/1/2014 0:00    10/22/1993        4/25/2013   \n",
       "49644        8214   12/1/2014 0:00      1/6/1994         6/5/2013   \n",
       "49645        8223   10/1/2013 0:00     2/11/1994        6/24/2013   \n",
       "49646        8226    9/1/2013 0:00     2/16/1994        6/26/2013   \n",
       "49647        8231   12/1/2015 0:00      3/1/1994         7/3/2013   \n",
       "49648        8258   12/1/2015 0:00     5/28/1994        8/19/2013   \n",
       "49649        8264    8/1/2013 0:00     6/13/1994        8/27/2013   \n",
       "49650        8279   12/1/2015 0:00     7/18/1994        9/15/2013   \n",
       "49651        8296   12/1/2013 0:00      9/2/1994        10/9/2013   \n",
       "49652        8321   12/1/2014 0:00    11/28/1994       11/24/2013   \n",
       "\n",
       "      terminationdate_key  age  length_of_service      city_name  \\\n",
       "0                1/1/1900   52                 17      Vancouver   \n",
       "1                1/1/1900   53                 18      Vancouver   \n",
       "2                1/1/1900   54                 19      Vancouver   \n",
       "3                1/1/1900   55                 20      Vancouver   \n",
       "4                1/1/1900   56                 21      Vancouver   \n",
       "5                1/1/1900   57                 22      Vancouver   \n",
       "6                1/1/1900   58                 23      Vancouver   \n",
       "7                1/1/1900   59                 24      Vancouver   \n",
       "8                1/1/1900   60                 25      Vancouver   \n",
       "9                1/1/1900   61                 26      Vancouver   \n",
       "10               1/1/1900   49                 17      Vancouver   \n",
       "11               1/1/1900   50                 18      Vancouver   \n",
       "12               1/1/1900   51                 19      Vancouver   \n",
       "13               1/1/1900   52                 20      Vancouver   \n",
       "14               1/1/1900   53                 21      Vancouver   \n",
       "15               1/1/1900   54                 22      Vancouver   \n",
       "16               1/1/1900   55                 23      Vancouver   \n",
       "17               1/1/1900   56                 24      Vancouver   \n",
       "18               1/1/1900   57                 25      Vancouver   \n",
       "19               1/1/1900   58                 26      Vancouver   \n",
       "20               1/1/1900   51                 17      Vancouver   \n",
       "21               1/1/1900   52                 18      Vancouver   \n",
       "22               1/1/1900   53                 19      Vancouver   \n",
       "23               1/1/1900   54                 20      Vancouver   \n",
       "24               1/1/1900   55                 21      Vancouver   \n",
       "25               1/1/1900   56                 22      Vancouver   \n",
       "26               1/1/1900   57                 23      Vancouver   \n",
       "27               1/1/1900   58                 24      Vancouver   \n",
       "28               1/1/1900   59                 25      Vancouver   \n",
       "29               1/1/1900   60                 26      Vancouver   \n",
       "...                   ...  ...                ...            ...   \n",
       "49623           9/20/2014   21                  1       Victoria   \n",
       "49624           9/21/2014   21                  1      Vancouver   \n",
       "49625           9/25/2014   21                  1   Fort St John   \n",
       "49626           9/26/2014   21                  1         Surrey   \n",
       "49627           9/26/2014   21                  1  Prince George   \n",
       "49628           9/29/2014   21                  1        Langley   \n",
       "49629           9/30/2014   21                  1        Nanaimo   \n",
       "49630           10/1/2014   21                  1      Vancouver   \n",
       "49631           10/2/2014   21                  1        Kelowna   \n",
       "49632           10/2/2014   21                  1       Victoria   \n",
       "49633           10/3/2014   21                  1      Vancouver   \n",
       "49634          12/30/2015   22                  2      Princeton   \n",
       "49635           10/6/2014   21                  1        Langley   \n",
       "49636            7/2/2013   19                  0  Prince George   \n",
       "49637          10/12/2014   21                  1   Fort St John   \n",
       "49638          10/15/2014   21                  1  Williams Lake   \n",
       "49639          10/16/2014   21                  1     Chilliwack   \n",
       "49640          10/19/2014   21                  1       Kamloops   \n",
       "49641          10/21/2014   21                  1       Richmond   \n",
       "49642          10/23/2014   21                  1      Cranbrook   \n",
       "49643          10/25/2014   21                  1       Victoria   \n",
       "49644          12/30/2014   20                  1          Haney   \n",
       "49645          10/17/2013   19                  0          Trail   \n",
       "49646           9/14/2013   19                  0       Victoria   \n",
       "49647          12/30/2015   21                  2      Princeton   \n",
       "49648          12/30/2015   21                  2      Valemount   \n",
       "49649           8/30/2013   19                  0      Vancouver   \n",
       "49650          12/30/2015   21                  2     White Rock   \n",
       "49651          12/31/2013   19                  0        Kelowna   \n",
       "49652          12/30/2014   20                  1    Grand Forks   \n",
       "\n",
       "        department_name      job_title  store_name gender_short gender_full  \\\n",
       "0             Executive            CEO          35            M        Male   \n",
       "1             Executive            CEO          35            M        Male   \n",
       "2             Executive            CEO          35            M        Male   \n",
       "3             Executive            CEO          35            M        Male   \n",
       "4             Executive            CEO          35            M        Male   \n",
       "5             Executive            CEO          35            M        Male   \n",
       "6             Executive            CEO          35            M        Male   \n",
       "7             Executive            CEO          35            M        Male   \n",
       "8             Executive            CEO          35            M        Male   \n",
       "9             Executive            CEO          35            M        Male   \n",
       "10            Executive      VP Stores          35            F      Female   \n",
       "11            Executive      VP Stores          35            F      Female   \n",
       "12            Executive      VP Stores          35            F      Female   \n",
       "13            Executive      VP Stores          35            F      Female   \n",
       "14            Executive      VP Stores          35            F      Female   \n",
       "15            Executive      VP Stores          35            F      Female   \n",
       "16            Executive      VP Stores          35            F      Female   \n",
       "17            Executive      VP Stores          35            F      Female   \n",
       "18            Executive      VP Stores          35            F      Female   \n",
       "19            Executive      VP Stores          35            F      Female   \n",
       "20            Executive  Legal Counsel          35            F      Female   \n",
       "21            Executive  Legal Counsel          35            F      Female   \n",
       "22            Executive  Legal Counsel          35            F      Female   \n",
       "23            Executive  Legal Counsel          35            F      Female   \n",
       "24            Executive  Legal Counsel          35            F      Female   \n",
       "25            Executive  Legal Counsel          35            F      Female   \n",
       "26            Executive  Legal Counsel          35            F      Female   \n",
       "27            Executive  Legal Counsel          35            F      Female   \n",
       "28            Executive  Legal Counsel          35            F      Female   \n",
       "29            Executive  Legal Counsel          35            F      Female   \n",
       "...                 ...            ...         ...          ...         ...   \n",
       "49623  Customer Service        Cashier          46            M        Male   \n",
       "49624  Customer Service        Cashier          44            F      Female   \n",
       "49625  Customer Service        Cashier          12            F      Female   \n",
       "49626  Customer Service        Cashier          31            M        Male   \n",
       "49627  Customer Service        Cashier          26            F      Female   \n",
       "49628  Customer Service        Cashier          17            F      Female   \n",
       "49629  Customer Service        Cashier          18            M        Male   \n",
       "49630  Customer Service        Cashier          44            M        Male   \n",
       "49631  Customer Service        Cashier          16            M        Male   \n",
       "49632  Customer Service        Cashier          46            M        Male   \n",
       "49633  Customer Service        Cashier          44            F      Female   \n",
       "49634  Customer Service        Cashier          27            M        Male   \n",
       "49635  Customer Service        Cashier          17            M        Male   \n",
       "49636  Customer Service        Cashier          26            M        Male   \n",
       "49637  Customer Service        Cashier          12            M        Male   \n",
       "49638  Customer Service        Cashier          40            F      Female   \n",
       "49639  Customer Service        Cashier           6            F      Female   \n",
       "49640  Customer Service        Cashier          15            M        Male   \n",
       "49641  Customer Service        Cashier          29            M        Male   \n",
       "49642  Customer Service        Cashier           8            F      Female   \n",
       "49643  Customer Service        Cashier          46            F      Female   \n",
       "49644           Produce  Produce Clerk          14            F      Female   \n",
       "49645  Customer Service        Cashier          33            M        Male   \n",
       "49646  Customer Service        Cashier          46            F      Female   \n",
       "49647  Customer Service        Cashier          27            M        Male   \n",
       "49648             Dairy   Dairy Person          34            M        Male   \n",
       "49649  Customer Service        Cashier          44            F      Female   \n",
       "49650  Customer Service        Cashier          39            F      Female   \n",
       "49651  Customer Service        Cashier          16            F      Female   \n",
       "49652  Customer Service        Cashier          13            F      Female   \n",
       "\n",
       "      termreason_desc   termtype_desc  STATUS_YEAR      STATUS BUSINESS_UNIT  \n",
       "0      Not Applicable  Not Applicable         2006      ACTIVE    HEADOFFICE  \n",
       "1      Not Applicable  Not Applicable         2007      ACTIVE    HEADOFFICE  \n",
       "2      Not Applicable  Not Applicable         2008      ACTIVE    HEADOFFICE  \n",
       "3      Not Applicable  Not Applicable         2009      ACTIVE    HEADOFFICE  \n",
       "4      Not Applicable  Not Applicable         2010      ACTIVE    HEADOFFICE  \n",
       "5      Not Applicable  Not Applicable         2011      ACTIVE    HEADOFFICE  \n",
       "6      Not Applicable  Not Applicable         2012      ACTIVE    HEADOFFICE  \n",
       "7      Not Applicable  Not Applicable         2013      ACTIVE    HEADOFFICE  \n",
       "8      Not Applicable  Not Applicable         2014      ACTIVE    HEADOFFICE  \n",
       "9      Not Applicable  Not Applicable         2015      ACTIVE    HEADOFFICE  \n",
       "10     Not Applicable  Not Applicable         2006      ACTIVE    HEADOFFICE  \n",
       "11     Not Applicable  Not Applicable         2007      ACTIVE    HEADOFFICE  \n",
       "12     Not Applicable  Not Applicable         2008      ACTIVE    HEADOFFICE  \n",
       "13     Not Applicable  Not Applicable         2009      ACTIVE    HEADOFFICE  \n",
       "14     Not Applicable  Not Applicable         2010      ACTIVE    HEADOFFICE  \n",
       "15     Not Applicable  Not Applicable         2011      ACTIVE    HEADOFFICE  \n",
       "16     Not Applicable  Not Applicable         2012      ACTIVE    HEADOFFICE  \n",
       "17     Not Applicable  Not Applicable         2013      ACTIVE    HEADOFFICE  \n",
       "18     Not Applicable  Not Applicable         2014      ACTIVE    HEADOFFICE  \n",
       "19     Not Applicable  Not Applicable         2015      ACTIVE    HEADOFFICE  \n",
       "20     Not Applicable  Not Applicable         2006      ACTIVE    HEADOFFICE  \n",
       "21     Not Applicable  Not Applicable         2007      ACTIVE    HEADOFFICE  \n",
       "22     Not Applicable  Not Applicable         2008      ACTIVE    HEADOFFICE  \n",
       "23     Not Applicable  Not Applicable         2009      ACTIVE    HEADOFFICE  \n",
       "24     Not Applicable  Not Applicable         2010      ACTIVE    HEADOFFICE  \n",
       "25     Not Applicable  Not Applicable         2011      ACTIVE    HEADOFFICE  \n",
       "26     Not Applicable  Not Applicable         2012      ACTIVE    HEADOFFICE  \n",
       "27     Not Applicable  Not Applicable         2013      ACTIVE    HEADOFFICE  \n",
       "28     Not Applicable  Not Applicable         2014      ACTIVE    HEADOFFICE  \n",
       "29     Not Applicable  Not Applicable         2015      ACTIVE    HEADOFFICE  \n",
       "...               ...             ...          ...         ...           ...  \n",
       "49623      Resignaton       Voluntary         2014  TERMINATED        STORES  \n",
       "49624      Resignaton       Voluntary         2014  TERMINATED        STORES  \n",
       "49625      Resignaton       Voluntary         2014  TERMINATED        STORES  \n",
       "49626      Resignaton       Voluntary         2014  TERMINATED        STORES  \n",
       "49627      Resignaton       Voluntary         2014  TERMINATED        STORES  \n",
       "49628      Resignaton       Voluntary         2014  TERMINATED        STORES  \n",
       "49629      Resignaton       Voluntary         2014  TERMINATED        STORES  \n",
       "49630      Resignaton       Voluntary         2014  TERMINATED        STORES  \n",
       "49631      Resignaton       Voluntary         2014  TERMINATED        STORES  \n",
       "49632      Resignaton       Voluntary         2014  TERMINATED        STORES  \n",
       "49633      Resignaton       Voluntary         2014  TERMINATED        STORES  \n",
       "49634          Layoff     Involuntary         2015  TERMINATED        STORES  \n",
       "49635      Resignaton       Voluntary         2014  TERMINATED        STORES  \n",
       "49636      Resignaton       Voluntary         2013  TERMINATED        STORES  \n",
       "49637      Resignaton       Voluntary         2014  TERMINATED        STORES  \n",
       "49638      Resignaton       Voluntary         2014  TERMINATED        STORES  \n",
       "49639      Resignaton       Voluntary         2014  TERMINATED        STORES  \n",
       "49640      Resignaton       Voluntary         2014  TERMINATED        STORES  \n",
       "49641      Resignaton       Voluntary         2014  TERMINATED        STORES  \n",
       "49642      Resignaton       Voluntary         2014  TERMINATED        STORES  \n",
       "49643      Resignaton       Voluntary         2014  TERMINATED        STORES  \n",
       "49644          Layoff     Involuntary         2014  TERMINATED        STORES  \n",
       "49645      Resignaton       Voluntary         2013  TERMINATED        STORES  \n",
       "49646      Resignaton       Voluntary         2013  TERMINATED        STORES  \n",
       "49647          Layoff     Involuntary         2015  TERMINATED        STORES  \n",
       "49648          Layoff     Involuntary         2015  TERMINATED        STORES  \n",
       "49649      Resignaton       Voluntary         2013  TERMINATED        STORES  \n",
       "49650          Layoff     Involuntary         2015  TERMINATED        STORES  \n",
       "49651      Resignaton       Voluntary         2013  TERMINATED        STORES  \n",
       "49652          Layoff     Involuntary         2014  TERMINATED        STORES  \n",
       "\n",
       "[49653 rows x 18 columns]>"
      ]
     },
     "execution_count": 17,
     "metadata": {},
     "output_type": "execute_result"
    }
   ],
   "source": [
    "# A:\n",
    "df.info"
   ]
  },
  {
   "cell_type": "markdown",
   "metadata": {
    "colab_type": "text",
    "id": "aFVlzHmwolwU"
   },
   "source": [
    "# 2. Selecting Column in Data Frame"
   ]
  },
  {
   "cell_type": "markdown",
   "metadata": {
    "colab_type": "text",
    "id": "MHa557TsvdoP"
   },
   "source": [
    "#### 2.A Check Values of Job_Title column"
   ]
  },
  {
   "cell_type": "code",
   "execution_count": 10,
   "metadata": {
    "colab": {},
    "colab_type": "code",
    "id": "qAv8nIvnopMN"
   },
   "outputs": [
    {
     "data": {
      "text/plain": [
       "0                  CEO\n",
       "1                  CEO\n",
       "2                  CEO\n",
       "3                  CEO\n",
       "4                  CEO\n",
       "5                  CEO\n",
       "6                  CEO\n",
       "7                  CEO\n",
       "8                  CEO\n",
       "9                  CEO\n",
       "10           VP Stores\n",
       "11           VP Stores\n",
       "12           VP Stores\n",
       "13           VP Stores\n",
       "14           VP Stores\n",
       "15           VP Stores\n",
       "16           VP Stores\n",
       "17           VP Stores\n",
       "18           VP Stores\n",
       "19           VP Stores\n",
       "20       Legal Counsel\n",
       "21       Legal Counsel\n",
       "22       Legal Counsel\n",
       "23       Legal Counsel\n",
       "24       Legal Counsel\n",
       "25       Legal Counsel\n",
       "26       Legal Counsel\n",
       "27       Legal Counsel\n",
       "28       Legal Counsel\n",
       "29       Legal Counsel\n",
       "             ...      \n",
       "49623          Cashier\n",
       "49624          Cashier\n",
       "49625          Cashier\n",
       "49626          Cashier\n",
       "49627          Cashier\n",
       "49628          Cashier\n",
       "49629          Cashier\n",
       "49630          Cashier\n",
       "49631          Cashier\n",
       "49632          Cashier\n",
       "49633          Cashier\n",
       "49634          Cashier\n",
       "49635          Cashier\n",
       "49636          Cashier\n",
       "49637          Cashier\n",
       "49638          Cashier\n",
       "49639          Cashier\n",
       "49640          Cashier\n",
       "49641          Cashier\n",
       "49642          Cashier\n",
       "49643          Cashier\n",
       "49644    Produce Clerk\n",
       "49645          Cashier\n",
       "49646          Cashier\n",
       "49647          Cashier\n",
       "49648     Dairy Person\n",
       "49649          Cashier\n",
       "49650          Cashier\n",
       "49651          Cashier\n",
       "49652          Cashier\n",
       "Name: job_title, Length: 49653, dtype: object"
      ]
     },
     "execution_count": 10,
     "metadata": {},
     "output_type": "execute_result"
    }
   ],
   "source": [
    "# A:\n",
    "df['job_title']\n"
   ]
  },
  {
   "cell_type": "markdown",
   "metadata": {
    "colab_type": "text",
    "id": "ZGrf6tiRvn8F"
   },
   "source": [
    "#### 2.B Find How Many Rows Are in Each Job Title\n",
    "\n",
    "\n",
    "\n",
    "```\n",
    "# Expected Output\n",
    "Meat Cutter                        9984\n",
    "Dairy Person                       8590\n",
    "Produce Clerk                      8237\n",
    ".\n",
    ".\n",
    ".\n",
    "```\n",
    "\n"
   ]
  },
  {
   "cell_type": "code",
   "execution_count": 12,
   "metadata": {
    "colab": {},
    "colab_type": "code",
    "id": "J1oPyGUxpYv4"
   },
   "outputs": [
    {
     "data": {
      "text/plain": [
       "Meat Cutter                        9984\n",
       "Dairy Person                       8590\n",
       "Produce Clerk                      8237\n",
       "Baker                              8096\n",
       "Cashier                            6816\n",
       "Shelf Stocker                      5622\n",
       "Customer Service Manager            306\n",
       "Processed Foods Manager             289\n",
       "Meats Manager                       285\n",
       "Bakery Manager                      285\n",
       "Produce Manager                     278\n",
       "Store Manager                       271\n",
       "Recruiter                            62\n",
       "HRIS Analyst                         55\n",
       "Accounting Clerk                     50\n",
       "Benefits Admin                       35\n",
       "Labor Relations Analyst              30\n",
       "Accounts Receiveable Clerk           30\n",
       "Trainer                              26\n",
       "Accounts Payable Clerk               25\n",
       "Auditor                              20\n",
       "Compensation Analyst                 20\n",
       "Investment Analyst                   20\n",
       "Systems Analyst                      20\n",
       "Corporate Lawyer                     17\n",
       "Director, Recruitment                10\n",
       "Exec Assistant, VP Stores            10\n",
       "VP Finance                           10\n",
       "Exec Assistant, Finance              10\n",
       "Exec Assistant, Human Resources      10\n",
       "VP Human Resources                   10\n",
       "Legal Counsel                        10\n",
       "CHief Information Officer            10\n",
       "CEO                                  10\n",
       "Exec Assistant, Legal Counsel        10\n",
       "VP Stores                            10\n",
       "Director, Employee Records            9\n",
       "Director, Accounting                  9\n",
       "Director, HR Technology               9\n",
       "Director, Accounts Receivable         9\n",
       "Dairy Manager                         9\n",
       "Director, Accounts Payable            9\n",
       "Director, Investments                 4\n",
       "Director, Labor Relations             4\n",
       "Director, Training                    4\n",
       "Director, Audit                       4\n",
       "Director, Compensation                4\n",
       "Name: job_title, dtype: int64"
      ]
     },
     "execution_count": 12,
     "metadata": {},
     "output_type": "execute_result"
    }
   ],
   "source": [
    "# A:\n",
    "df['job_title'].value_counts()"
   ]
  },
  {
   "cell_type": "markdown",
   "metadata": {
    "colab_type": "text",
    "id": "iGAFnYElwAnu"
   },
   "source": [
    "#### 2.C [BONUS] Write A Function to Row Count\n",
    "\n",
    "\n",
    "\n",
    "```\n",
    "def row_count(column_name):\n",
    "    number_of_rows = 0\n",
    "    return number_of_rows\n",
    "```\n",
    "\n"
   ]
  },
  {
   "cell_type": "markdown",
   "metadata": {
    "colab_type": "text",
    "id": "unrVvLl1wjxg"
   },
   "source": [
    "#### 2.D Describe 'Age'\n",
    "\n",
    "Find count,  mean,  std, min, max of column 'age'"
   ]
  },
  {
   "cell_type": "code",
   "execution_count": 21,
   "metadata": {
    "colab": {},
    "colab_type": "code",
    "id": "DGk18B54p1Lm"
   },
   "outputs": [
    {
     "data": {
      "text/plain": [
       "count    49653.000000\n",
       "mean        42.077035\n",
       "std         12.427257\n",
       "min         19.000000\n",
       "25%         31.000000\n",
       "50%         42.000000\n",
       "75%         53.000000\n",
       "max         65.000000\n",
       "Name: age, dtype: float64"
      ]
     },
     "execution_count": 21,
     "metadata": {},
     "output_type": "execute_result"
    }
   ],
   "source": [
    "# A:\n",
    "df['age'].describe()"
   ]
  },
  {
   "cell_type": "markdown",
   "metadata": {
    "colab_type": "text",
    "id": "WStkVqlZw6ZP"
   },
   "source": [
    "##### 2.E [BONUS] Describe 'All Numeric Columns of Data Frame\n",
    "\n",
    "Find count, mean, std, min, max of of all columns of dataframe"
   ]
  },
  {
   "cell_type": "code",
   "execution_count": 13,
   "metadata": {
    "colab": {},
    "colab_type": "code",
    "id": "zatP7XTYdsoZ"
   },
   "outputs": [
    {
     "data": {
      "text/html": [
       "<div>\n",
       "<style scoped>\n",
       "    .dataframe tbody tr th:only-of-type {\n",
       "        vertical-align: middle;\n",
       "    }\n",
       "\n",
       "    .dataframe tbody tr th {\n",
       "        vertical-align: top;\n",
       "    }\n",
       "\n",
       "    .dataframe thead th {\n",
       "        text-align: right;\n",
       "    }\n",
       "</style>\n",
       "<table border=\"1\" class=\"dataframe\">\n",
       "  <thead>\n",
       "    <tr style=\"text-align: right;\">\n",
       "      <th></th>\n",
       "      <th>EmployeeID</th>\n",
       "      <th>age</th>\n",
       "      <th>length_of_service</th>\n",
       "      <th>store_name</th>\n",
       "      <th>STATUS_YEAR</th>\n",
       "    </tr>\n",
       "  </thead>\n",
       "  <tbody>\n",
       "    <tr>\n",
       "      <th>count</th>\n",
       "      <td>49653.000000</td>\n",
       "      <td>49653.000000</td>\n",
       "      <td>49653.000000</td>\n",
       "      <td>49653.000000</td>\n",
       "      <td>49653.000000</td>\n",
       "    </tr>\n",
       "    <tr>\n",
       "      <th>mean</th>\n",
       "      <td>4859.495740</td>\n",
       "      <td>42.077035</td>\n",
       "      <td>10.434596</td>\n",
       "      <td>27.297605</td>\n",
       "      <td>2010.612612</td>\n",
       "    </tr>\n",
       "    <tr>\n",
       "      <th>std</th>\n",
       "      <td>1826.571142</td>\n",
       "      <td>12.427257</td>\n",
       "      <td>6.325286</td>\n",
       "      <td>13.514134</td>\n",
       "      <td>2.845577</td>\n",
       "    </tr>\n",
       "    <tr>\n",
       "      <th>min</th>\n",
       "      <td>1318.000000</td>\n",
       "      <td>19.000000</td>\n",
       "      <td>0.000000</td>\n",
       "      <td>1.000000</td>\n",
       "      <td>2006.000000</td>\n",
       "    </tr>\n",
       "    <tr>\n",
       "      <th>25%</th>\n",
       "      <td>3360.000000</td>\n",
       "      <td>31.000000</td>\n",
       "      <td>5.000000</td>\n",
       "      <td>16.000000</td>\n",
       "      <td>2008.000000</td>\n",
       "    </tr>\n",
       "    <tr>\n",
       "      <th>50%</th>\n",
       "      <td>5031.000000</td>\n",
       "      <td>42.000000</td>\n",
       "      <td>10.000000</td>\n",
       "      <td>28.000000</td>\n",
       "      <td>2011.000000</td>\n",
       "    </tr>\n",
       "    <tr>\n",
       "      <th>75%</th>\n",
       "      <td>6335.000000</td>\n",
       "      <td>53.000000</td>\n",
       "      <td>15.000000</td>\n",
       "      <td>42.000000</td>\n",
       "      <td>2013.000000</td>\n",
       "    </tr>\n",
       "    <tr>\n",
       "      <th>max</th>\n",
       "      <td>8336.000000</td>\n",
       "      <td>65.000000</td>\n",
       "      <td>26.000000</td>\n",
       "      <td>46.000000</td>\n",
       "      <td>2015.000000</td>\n",
       "    </tr>\n",
       "  </tbody>\n",
       "</table>\n",
       "</div>"
      ],
      "text/plain": [
       "         EmployeeID           age  length_of_service    store_name  \\\n",
       "count  49653.000000  49653.000000       49653.000000  49653.000000   \n",
       "mean    4859.495740     42.077035          10.434596     27.297605   \n",
       "std     1826.571142     12.427257           6.325286     13.514134   \n",
       "min     1318.000000     19.000000           0.000000      1.000000   \n",
       "25%     3360.000000     31.000000           5.000000     16.000000   \n",
       "50%     5031.000000     42.000000          10.000000     28.000000   \n",
       "75%     6335.000000     53.000000          15.000000     42.000000   \n",
       "max     8336.000000     65.000000          26.000000     46.000000   \n",
       "\n",
       "        STATUS_YEAR  \n",
       "count  49653.000000  \n",
       "mean    2010.612612  \n",
       "std        2.845577  \n",
       "min     2006.000000  \n",
       "25%     2008.000000  \n",
       "50%     2011.000000  \n",
       "75%     2013.000000  \n",
       "max     2015.000000  "
      ]
     },
     "execution_count": 13,
     "metadata": {},
     "output_type": "execute_result"
    }
   ],
   "source": [
    "# A:\n",
    "#df.describe(include='all')\n",
    "df.describe()"
   ]
  },
  {
   "cell_type": "markdown",
   "metadata": {
    "colab_type": "text",
    "id": "5QjPfOf5sE_T"
   },
   "source": [
    "# 3. Making The Index Meaningful"
   ]
  },
  {
   "cell_type": "code",
   "execution_count": 14,
   "metadata": {
    "colab": {},
    "colab_type": "code",
    "id": "-cFrJykvdsob"
   },
   "outputs": [
    {
     "data": {
      "text/plain": [
       "RangeIndex(start=0, stop=49653, step=1)"
      ]
     },
     "execution_count": 14,
     "metadata": {},
     "output_type": "execute_result"
    }
   ],
   "source": [
    "# A:\n",
    "df.index"
   ]
  },
  {
   "cell_type": "markdown",
   "metadata": {
    "colab_type": "text",
    "id": "gvP4e-sMxUa_"
   },
   "source": [
    "#### 3.A Find A Specifc Row Using Index"
   ]
  },
  {
   "cell_type": "code",
   "execution_count": 20,
   "metadata": {
    "colab": {},
    "colab_type": "code",
    "id": "vpaI3UKndsof"
   },
   "outputs": [
    {
     "data": {
      "text/plain": [
       "('df.loc[\"1320\"]', EmployeeID                        2769\n",
       " recorddate_key         12/31/2015 0:00\n",
       " birthdate_key               12/29/1956\n",
       " orighiredate_key            11/16/1993\n",
       " terminationdate_key           1/1/1900\n",
       " age                                 59\n",
       " length_of_service                   22\n",
       " city_name                      Kelowna\n",
       " department_name                  Meats\n",
       " job_title                  Meat Cutter\n",
       " store_name                          16\n",
       " gender_short                         F\n",
       " gender_full                     Female\n",
       " termreason_desc         Not Applicable\n",
       " termtype_desc           Not Applicable\n",
       " STATUS_YEAR                       2015\n",
       " STATUS                          ACTIVE\n",
       " BUSINESS_UNIT                   STORES\n",
       " Name: 8190, dtype: object)"
      ]
     },
     "execution_count": 20,
     "metadata": {},
     "output_type": "execute_result"
    }
   ],
   "source": [
    "# A:\n",
    "'df.loc[\"1320\"]', df.loc[8190]"
   ]
  },
  {
   "cell_type": "markdown",
   "metadata": {
    "colab_type": "text",
    "id": "PYE7wF1xxtUr"
   },
   "source": [
    "#### 3.B Sort Data Frame using Index"
   ]
  },
  {
   "cell_type": "code",
   "execution_count": null,
   "metadata": {
    "colab": {},
    "colab_type": "code",
    "id": "qjhgMeUmdsoj"
   },
   "outputs": [],
   "source": [
    "# A:\n",
    "df.sort_index()"
   ]
  },
  {
   "cell_type": "markdown",
   "metadata": {
    "colab_type": "text",
    "id": "9ElW7kYEyJpc"
   },
   "source": [
    "#### 3.C [BONUS] Sort Data Frame using Age"
   ]
  },
  {
   "cell_type": "code",
   "execution_count": 21,
   "metadata": {
    "colab": {},
    "colab_type": "code",
    "id": "dhI0huT13sQc"
   },
   "outputs": [
    {
     "data": {
      "text/plain": [
       "0        52\n",
       "1        53\n",
       "2        54\n",
       "3        55\n",
       "4        56\n",
       "5        57\n",
       "6        58\n",
       "7        59\n",
       "8        60\n",
       "9        61\n",
       "10       49\n",
       "11       50\n",
       "12       51\n",
       "13       52\n",
       "14       53\n",
       "15       54\n",
       "16       55\n",
       "17       56\n",
       "18       57\n",
       "19       58\n",
       "20       51\n",
       "21       52\n",
       "22       53\n",
       "23       54\n",
       "24       55\n",
       "25       56\n",
       "26       57\n",
       "27       58\n",
       "28       59\n",
       "29       60\n",
       "         ..\n",
       "49623    21\n",
       "49624    21\n",
       "49625    21\n",
       "49626    21\n",
       "49627    21\n",
       "49628    21\n",
       "49629    21\n",
       "49630    21\n",
       "49631    21\n",
       "49632    21\n",
       "49633    21\n",
       "49634    22\n",
       "49635    21\n",
       "49636    19\n",
       "49637    21\n",
       "49638    21\n",
       "49639    21\n",
       "49640    21\n",
       "49641    21\n",
       "49642    21\n",
       "49643    21\n",
       "49644    20\n",
       "49645    19\n",
       "49646    19\n",
       "49647    21\n",
       "49648    21\n",
       "49649    19\n",
       "49650    21\n",
       "49651    19\n",
       "49652    20\n",
       "Name: age, Length: 49653, dtype: int64"
      ]
     },
     "execution_count": 21,
     "metadata": {},
     "output_type": "execute_result"
    }
   ],
   "source": [
    "# A:\n",
    "df['age'].sort_index()\n",
    "\n",
    "df.sort_values(['age'], ascending=[0])"
   ]
  },
  {
   "cell_type": "markdown",
   "metadata": {
    "colab_type": "text",
    "id": "VvveQ2cAySpi"
   },
   "source": [
    "#### 3.D [BONUS] Using Sample Select Any Row "
   ]
  },
  {
   "cell_type": "code",
   "execution_count": 22,
   "metadata": {
    "colab": {},
    "colab_type": "code",
    "id": "4nVrO5Pwdsom"
   },
   "outputs": [
    {
     "data": {
      "text/html": [
       "<div>\n",
       "<style scoped>\n",
       "    .dataframe tbody tr th:only-of-type {\n",
       "        vertical-align: middle;\n",
       "    }\n",
       "\n",
       "    .dataframe tbody tr th {\n",
       "        vertical-align: top;\n",
       "    }\n",
       "\n",
       "    .dataframe thead th {\n",
       "        text-align: right;\n",
       "    }\n",
       "</style>\n",
       "<table border=\"1\" class=\"dataframe\">\n",
       "  <thead>\n",
       "    <tr style=\"text-align: right;\">\n",
       "      <th></th>\n",
       "      <th>EmployeeID</th>\n",
       "      <th>recorddate_key</th>\n",
       "      <th>birthdate_key</th>\n",
       "      <th>orighiredate_key</th>\n",
       "      <th>terminationdate_key</th>\n",
       "      <th>age</th>\n",
       "      <th>length_of_service</th>\n",
       "      <th>city_name</th>\n",
       "      <th>department_name</th>\n",
       "      <th>job_title</th>\n",
       "      <th>store_name</th>\n",
       "      <th>gender_short</th>\n",
       "      <th>gender_full</th>\n",
       "      <th>termreason_desc</th>\n",
       "      <th>termtype_desc</th>\n",
       "      <th>STATUS_YEAR</th>\n",
       "      <th>STATUS</th>\n",
       "      <th>BUSINESS_UNIT</th>\n",
       "    </tr>\n",
       "  </thead>\n",
       "  <tbody>\n",
       "    <tr>\n",
       "      <th>36142</th>\n",
       "      <td>6337</td>\n",
       "      <td>12/31/2012 0:00</td>\n",
       "      <td>7/21/1979</td>\n",
       "      <td>10/15/2005</td>\n",
       "      <td>1/1/1900</td>\n",
       "      <td>33</td>\n",
       "      <td>7</td>\n",
       "      <td>Victoria</td>\n",
       "      <td>Bakery</td>\n",
       "      <td>Baker</td>\n",
       "      <td>46</td>\n",
       "      <td>M</td>\n",
       "      <td>Male</td>\n",
       "      <td>Not Applicable</td>\n",
       "      <td>Not Applicable</td>\n",
       "      <td>2012</td>\n",
       "      <td>ACTIVE</td>\n",
       "      <td>STORES</td>\n",
       "    </tr>\n",
       "  </tbody>\n",
       "</table>\n",
       "</div>"
      ],
      "text/plain": [
       "       EmployeeID   recorddate_key birthdate_key orighiredate_key  \\\n",
       "36142        6337  12/31/2012 0:00     7/21/1979       10/15/2005   \n",
       "\n",
       "      terminationdate_key  age  length_of_service city_name department_name  \\\n",
       "36142            1/1/1900   33                  7  Victoria          Bakery   \n",
       "\n",
       "      job_title  store_name gender_short gender_full termreason_desc  \\\n",
       "36142     Baker          46            M        Male  Not Applicable   \n",
       "\n",
       "        termtype_desc  STATUS_YEAR  STATUS BUSINESS_UNIT  \n",
       "36142  Not Applicable         2012  ACTIVE        STORES  "
      ]
     },
     "execution_count": 22,
     "metadata": {},
     "output_type": "execute_result"
    }
   ],
   "source": [
    "# A:\n",
    "df.sample()"
   ]
  },
  {
   "cell_type": "markdown",
   "metadata": {
    "colab_type": "text",
    "id": "5XeLtowlsaYk"
   },
   "source": [
    "# 4. Query Data Frame\n",
    "\n",
    "#### 4.A Find Rows Where Job_Title is CEO"
   ]
  },
  {
   "cell_type": "code",
   "execution_count": 24,
   "metadata": {
    "colab": {},
    "colab_type": "code",
    "id": "11b0ZSKcsi3Q"
   },
   "outputs": [
    {
     "data": {
      "text/plain": [
       "0        True\n",
       "1        True\n",
       "2        True\n",
       "3        True\n",
       "4        True\n",
       "5        True\n",
       "6        True\n",
       "7        True\n",
       "8        True\n",
       "9        True\n",
       "10       True\n",
       "11       True\n",
       "12       True\n",
       "13       True\n",
       "14       True\n",
       "15       True\n",
       "16       True\n",
       "17       True\n",
       "18       True\n",
       "19       True\n",
       "20       True\n",
       "21       True\n",
       "22       True\n",
       "23       True\n",
       "24       True\n",
       "25       True\n",
       "26       True\n",
       "27       True\n",
       "28       True\n",
       "29       True\n",
       "         ... \n",
       "49623    True\n",
       "49624    True\n",
       "49625    True\n",
       "49626    True\n",
       "49627    True\n",
       "49628    True\n",
       "49629    True\n",
       "49630    True\n",
       "49631    True\n",
       "49632    True\n",
       "49633    True\n",
       "49634    True\n",
       "49635    True\n",
       "49636    True\n",
       "49637    True\n",
       "49638    True\n",
       "49639    True\n",
       "49640    True\n",
       "49641    True\n",
       "49642    True\n",
       "49643    True\n",
       "49644    True\n",
       "49645    True\n",
       "49646    True\n",
       "49647    True\n",
       "49648    True\n",
       "49649    True\n",
       "49650    True\n",
       "49651    True\n",
       "49652    True\n",
       "Name: job_title, Length: 49653, dtype: bool"
      ]
     },
     "execution_count": 24,
     "metadata": {},
     "output_type": "execute_result"
    }
   ],
   "source": [
    "# A:\n",
    "df['job_title'] == 'CEO'"
   ]
  },
  {
   "cell_type": "markdown",
   "metadata": {
    "colab_type": "text",
    "id": "qhN9k6KOylrt"
   },
   "source": [
    "#### 4.B Group By Age"
   ]
  },
  {
   "cell_type": "code",
   "execution_count": null,
   "metadata": {
    "colab": {},
    "colab_type": "code",
    "id": "Ia56-Vi9dsoo"
   },
   "outputs": [],
   "source": [
    "# A:\n",
    "df.loc[df['job_title'] == 'CEO']\n",
    "\n",
    "age_dist = df.groupby(['age']).size()\n",
    "age_dist\n"
   ]
  },
  {
   "cell_type": "markdown",
   "metadata": {
    "colab_type": "text",
    "id": "L5yQi1wHyuAh"
   },
   "source": [
    "# 5. Visualization\n",
    "\n",
    "#### 5.A Plot Histogram of Age "
   ]
  },
  {
   "cell_type": "code",
   "execution_count": 30,
   "metadata": {
    "colab": {},
    "colab_type": "code",
    "id": "YcUyfH1tdsor"
   },
   "outputs": [
    {
     "data": {
      "image/png": "[encoded data removed]",
      "text/plain": [
       "<Figure size 432x288 with 1 Axes>"
      ]
     },
     "metadata": {
      "needs_background": "light"
     },
     "output_type": "display_data"
    }
   ],
   "source": [
    "# A:\n",
    "import seaborn as sns\n",
    "import matplotlib.pyplot as plt\n",
    "plt.hist(df['age']);\n",
    "\n",
    "#plt.hist(df.age, num_bins, facecolor='blue', alpha=0.5)"
   ]
  },
  {
   "cell_type": "markdown",
   "metadata": {
    "colab_type": "text",
    "id": "f5ev6X-Uy-CP"
   },
   "source": [
    "#### 5.B BoxPlot of Age"
   ]
  },
  {
   "cell_type": "code",
   "execution_count": null,
   "metadata": {
    "colab": {},
    "colab_type": "code",
    "id": "ukRrrJFmdsow"
   },
   "outputs": [],
   "source": [
    "# A:\n",
    "plt.boxplot(df.age)\n",
    "plt.yscale('linear')\n",
    "plt.grid(b=True, which='major', color='b', linestyle='-')\n",
    "plt.grid(b=True, which='minor', color='r', linestyle='--')\n",
    "plt.show()"
   ]
  },
  {
   "cell_type": "markdown",
   "metadata": {
    "colab_type": "text",
    "id": "VdvlCmOczGs1"
   },
   "source": [
    "#### 5.C Scatterplot of age and length_of_service"
   ]
  },
  {
   "cell_type": "code",
   "execution_count": null,
   "metadata": {
    "colab": {},
    "colab_type": "code",
    "id": "OZBpp-O5dsoz"
   },
   "outputs": [],
   "source": [
    "# A:\n",
    "plt.scatter(df.age, df.length_of_service)\n",
    "plt.show()"
   ]
  },
  {
   "cell_type": "markdown",
   "metadata": {
    "colab_type": "text",
    "id": "dUnd6QD5zXVa"
   },
   "source": [
    "#### 5.D Plot Histogram of store_name"
   ]
  },
  {
   "cell_type": "code",
   "execution_count": null,
   "metadata": {
    "colab": {},
    "colab_type": "code",
    "id": "RxbuXYSwdso1"
   },
   "outputs": [],
   "source": [
    "# A:\n",
    "num_bins = 50\n",
    "n, bins, patches = plt.hist(df.store_name, num_bins, facecolor='blue', alpha=0.5)"
   ]
  },
  {
   "cell_type": "markdown",
   "metadata": {
    "colab_type": "text",
    "id": "O-Mn86xZzjC9"
   },
   "source": [
    "#### 5.E Print Statistical Summary of Age"
   ]
  },
  {
   "cell_type": "code",
   "execution_count": null,
   "metadata": {
    "colab": {},
    "colab_type": "code",
    "id": "gMeCpCUzdso4"
   },
   "outputs": [],
   "source": [
    "# A:\n",
    "\n",
    "print('statistical summary of observations =',stats.describe(df.age))"
   ]
  }
 ],
 "metadata": {
  "colab": {
   "collapsed_sections": [],
   "name": "Pandas01 Lab.ipynb",
   "provenance": [
    {
     "file_id": "https://github.com/ikfaisal/dsia/blob/master/Pandas01_Lab_Solution.ipynb",
     "timestamp": 1552628309393
    }
   ],
   "version": "0.3.2"
  },
  "kernelspec": {
   "display_name": "Python 3",
   "language": "python",
   "name": "python3"
  },
  "language_info": {
   "codemirror_mode": {
    "name": "ipython",
    "version": 3
   },
   "file_extension": ".py",
   "mimetype": "text/x-python",
   "name": "python",
   "nbconvert_exporter": "python",
   "pygments_lexer": "ipython3",
   "version": "3.7.1"
  }
 },
 "nbformat": 4,
 "nbformat_minor": 1
}
