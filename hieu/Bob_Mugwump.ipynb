{
 "cells": [
  {
   "cell_type": "code",
   "execution_count": 11,
   "metadata": {},
   "outputs": [
    {
     "name": "stdout",
     "output_type": "stream",
     "text": [
      "['O', 'O', 'O', 'O', 'O']\n",
      "['O', 'O', 'O', 'O', 'O']\n",
      "['O', 'O', 'O', 'O', 'O']\n",
      "['O', 'O', 'O', 'O', 'O']\n",
      "['O', 'O', 'O', 'O', 'O']\n",
      "\n",
      "\n",
      "Please input int (x,y) from 0 to 4: \n",
      "22222,222\n"
     ]
    }
   ],
   "source": [
    "import numpy as np\n",
    "import random\n",
    "import math\n",
    "\n",
    "# To setup the initial 5*5 matrix with letter O and print it\n",
    "test_initial = [['O','O','O','O','O'],['O','O','O','O','O'],['O','O','O','O','O'],\n",
    "                ['O','O','O','O','O'],['O','O','O','O','O']]\n",
    "\n",
    "for i in test_initial:\n",
    "    print(i)\n",
    "print('\\n') \n",
    "    \n",
    "# # Generate two random values from 0 to 4 and stored in x and y\n",
    "x = random.randint(0,5)\n",
    "y = random.randint(0,5)\n",
    "\n",
    "x_1,y_1 = eval(input('Please input int (x,y) from 0 to 4: \\n'))\n",
    "\n",
    "# for loop to give five times try in total\n",
    "# for num in range(5):\n",
    "#     x_1,y_1 = eval(input('Please input int (x,y) from 0 to 4: \\n'))\n",
    "    \n",
    "# # Check if input number is run out of boundary   \n",
    "#     if x_1 >4 or x_1 <0:\n",
    "#          if y_1 >4 or y_1<0:\n",
    "#             print('Please enter correct number \\n')\n",
    "#             break\n",
    "\n",
    "# # Check if the input number equals to the random x,y\n",
    "#     elif x_1 == x and y_1 == y: \n",
    "#         print('Congrats \\n')\n",
    "#         test_initial[x_1][y_1] = 'A'\n",
    "#         for num in test_initial:\n",
    "#             print(num)\n",
    "#         print('\\n')\n",
    "#         break\n",
    "\n",
    "# # Check if the input is equal to the previous value\n",
    "#     elif test_initial[x_1][y_1] == 'X':\n",
    "#         print('Please try different num \\n')\n",
    "#         continue\n",
    "        \n",
    "# # Change the value to 'X' and calculate the distance to the result\n",
    "#     else: \n",
    "#         test_initial[x_1][y_1] = 'X'\n",
    "#         for j in test_initial:\n",
    "#              print(j)\n",
    "#         print('\\n')\n",
    "#         dis = math.sqrt((x_1-x)**2 + (y_1-y)**2)\n",
    "#         print('Distance to the right position is: \\n',dis)\n",
    "#         print('Better luck next time \\n')"
   ]
  },
  {
   "cell_type": "markdown",
   "metadata": {},
   "source": []
  }
 ],
 "metadata": {
  "kernelspec": {
   "display_name": "Python 3",
   "language": "python",
   "name": "python3"
  },
  "language_info": {
   "codemirror_mode": {
    "name": "ipython",
    "version": 3
   },
   "file_extension": ".py",
   "mimetype": "text/x-python",
   "name": "python",
   "nbconvert_exporter": "python",
   "pygments_lexer": "ipython3",
   "version": "3.7.1"
  }
 },
 "nbformat": 4,
 "nbformat_minor": 2
}
