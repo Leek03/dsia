{
 "cells": [
  {
   "attachments": {},
   "cell_type": "markdown",
   "metadata": {},
   "source": [
    "# Least Squares Regression Model - Ice Cream\n",
    " \n",
    "## Using Linear Regression to find the Line of Best Fit \n",
    "Linear approach to modelling the relationship between a dependent variable and one or more independent variables. We will define a linear relationship between these two variables as follows:  \n",
    "\n",
    "\\\\[ Y = mX + b \\\\]  \n",
    "![mxplusc](y_mx_c.jpg)\n",
    "\n",
    "**m** is the slope of the line.\n",
    "\n",
    "**b** is the y intercept. \n",
    "\n",
    "m =  N Σ(xy) − Σx ΣyN/Σ(x2) − (Σx)2 \n",
    "\n",
    "Using the example of hours of sunshine and ice cream sales. \n",
    "\n",
    "![icecreamcalculation.png](icecreamcalculation.png)\n",
    "![mcalculation.png](mcalculation.png)\n",
    "b =  Σy − m Σx/N\n",
    "![bcalcalculation.png](bcalcalculation.png)"
   ]
  },
  {
   "cell_type": "code",
   "execution_count": 1,
   "metadata": {},
   "outputs": [],
   "source": [
    "# Making imports\n",
    "import pandas as pd\n",
    "import numpy as np\n",
    "import matplotlib.pyplot as plt\n",
    "plt.rcParams['figure.figsize'] = (20.0, 15.0)"
   ]
  },
  {
   "cell_type": "code",
   "execution_count": 2,
   "metadata": {
    "scrolled": true
   },
   "outputs": [
    {
     "data": {
      "image/png": "[encoded data removed]",
      "text/plain": [
       "<Figure size 432x288 with 1 Axes>"
      ]
     },
     "metadata": {
      "needs_background": "light"
     },
     "output_type": "display_data"
    }
   ],
   "source": [
    "# Preprocessing Input data\n",
    "data = pd.read_csv('ice_creamdata.csv')\n",
    "X = data.iloc[:, 0]\n",
    "Y = data.iloc[:, 1]\n",
    "_ = plt.xlabel('Hours of Sunshine')\n",
    "_ = plt.ylabel('Ice Creams Sold')\n",
    "_ = plt.title('Ice Creams Sales')\n",
    "plt.scatter(X, Y)\n",
    "plt.show()"
   ]
  },
  {
   "cell_type": "code",
   "execution_count": 3,
   "metadata": {},
   "outputs": [
    {
     "name": "stdout",
     "output_type": "stream",
     "text": [
      "the slope is m = 1.518292682926829 and the intercept b is 0.30487804878048763\n"
     ]
    }
   ],
   "source": [
    "# Building the model\n",
    "X_mean = np.mean(X)\n",
    "Y_mean = np.mean(Y)\n",
    "\n",
    "num = 0\n",
    "den = 0\n",
    "for i in range(len(X)):\n",
    "    num += (X[i] - X_mean)*(Y[i] - Y_mean)\n",
    "    den += (X[i] - X_mean)**2\n",
    "m = num / den\n",
    "b = Y_mean - m*X_mean\n",
    "\n",
    "print (f\"the slope is m = {m} and the intercept b is {b}\")"
   ]
  },
  {
   "cell_type": "code",
   "execution_count": 4,
   "metadata": {},
   "outputs": [
    {
     "data": {
      "image/png": "[encoded data removed]",
      "text/plain": [
       "<Figure size 432x288 with 1 Axes>"
      ]
     },
     "metadata": {
      "needs_background": "light"
     },
     "output_type": "display_data"
    }
   ],
   "source": [
    "# Making predictions\n",
    "Y_pred = m*X + b\n",
    "\n",
    "plt.scatter(X, Y) # actual\n",
    "plt.plot([min(X), max(X)], [min(Y_pred), max(Y_pred)], color='red') # predicted\n",
    "plt.show()"
   ]
  },
  {
   "cell_type": "markdown",
   "metadata": {},
   "source": [
    "![animation](animation-gif2.gif)  "
   ]
  },
  {
   "cell_type": "code",
   "execution_count": null,
   "metadata": {},
   "outputs": [],
   "source": []
  }
 ],
 "metadata": {
  "kernelspec": {
   "display_name": "Python 3",
   "language": "python",
   "name": "python3"
  },
  "language_info": {
   "codemirror_mode": {
    "name": "ipython",
    "version": 3
   },
   "file_extension": ".py",
   "mimetype": "text/x-python",
   "name": "python",
   "nbconvert_exporter": "python",
   "pygments_lexer": "ipython3",
   "version": "3.7.1"
  }
 },
 "nbformat": 4,
 "nbformat_minor": 2
}
