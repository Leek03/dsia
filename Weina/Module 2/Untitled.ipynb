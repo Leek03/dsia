{
 "cells": [
  {
   "cell_type": "code",
   "execution_count": 50,
   "metadata": {},
   "outputs": [],
   "source": [
    "# import lib\n",
    "\n",
    "import numpy as np\n",
    "import matplotlib.pyplot as plt"
   ]
  },
  {
   "cell_type": "code",
   "execution_count": 56,
   "metadata": {},
   "outputs": [
    {
     "name": "stdout",
     "output_type": "stream",
     "text": [
      "0.11866644217484183\n",
      "1.0341232243622571\n"
     ]
    }
   ],
   "source": [
    "# generate 10 random samples\n",
    "samples = np.random.randn(11)\n",
    "# calculate the mean and std\n",
    "mean_value = np.mean(samples[:10])\n",
    "std_value = np.std(samples[:10])\n",
    "# generate then new sample and check whether they are outlier or not\n",
    "\n",
    "print(mean_value)\n",
    "print(std_value)"
   ]
  },
  {
   "cell_type": "code",
   "execution_count": 58,
   "metadata": {},
   "outputs": [
    {
     "data": {
      "image/png": "[encoded data removed]",
      "text/plain": [
       "<Figure size 432x288 with 1 Axes>"
      ]
     },
     "metadata": {
      "needs_background": "light"
     },
     "output_type": "display_data"
    },
    {
     "name": "stdout",
     "output_type": "stream",
     "text": [
      "[-0.90186916 -1.81316181  1.51966878 -1.24854656  0.05914367 -1.35194745\n",
      " -2.37253902 -0.36367023 -0.07533281 -0.08096783]\n",
      "[-1.72246941  1.40594713 -0.24294849 -0.68052129  0.61808245 -0.65420584\n",
      "  0.03108905  0.6762984   2.00909927 -2.1963057   0.41570672]\n",
      "2.0682464487245142\n",
      "I found you, outlier!\n",
      "1\n"
     ]
    }
   ],
   "source": [
    "# set a counter as zeor\n",
    "counter = 0\n",
    "# plt.hold()\n",
    "for i in range(10):\n",
    "    #sample = np.random.randn(1)\n",
    "    samples[9] = np.random.randn(1)\n",
    "    \n",
    "    if abs(samples[9]-mean_value)>=2*(std_value):\n",
    "        # plt.hold(True)\n",
    "        plt.boxplot(samples)\n",
    "        plt.show()\n",
    "        \n",
    "        # plt.plot(samples)\n",
    "        # plt.show()\n",
    "        # plt.hold(False)\n",
    "        print(sample)\n",
    "        print(samples)\n",
    "        print (2*(std_value))\n",
    "        counter +=1\n",
    "        print(\"I found you, outlier!\")\n",
    "print(counter)\n"
   ]
  },
  {
   "cell_type": "code",
   "execution_count": null,
   "metadata": {},
   "outputs": [],
   "source": []
  },
  {
   "cell_type": "code",
   "execution_count": null,
   "metadata": {},
   "outputs": [],
   "source": []
  }
 ],
 "metadata": {
  "kernelspec": {
   "display_name": "Python 3",
   "language": "python",
   "name": "python3"
  },
  "language_info": {
   "codemirror_mode": {
    "name": "ipython",
    "version": 3
   },
   "file_extension": ".py",
   "mimetype": "text/x-python",
   "name": "python",
   "nbconvert_exporter": "python",
   "pygments_lexer": "ipython3",
   "version": "3.7.3"
  }
 },
 "nbformat": 4,
 "nbformat_minor": 2
}
