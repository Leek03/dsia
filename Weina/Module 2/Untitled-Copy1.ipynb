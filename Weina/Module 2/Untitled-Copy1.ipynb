{
 "cells": [
  {
   "cell_type": "code",
   "execution_count": 50,
   "metadata": {},
   "outputs": [],
   "source": [
    "# import lib to test violin plot\n",
    "\n",
    "import numpy as np\n",
    "import matplotlib.pyplot as plt"
   ]
  },
  {
   "cell_type": "code",
   "execution_count": 56,
   "metadata": {},
   "outputs": [
    {
     "name": "stdout",
     "output_type": "stream",
     "text": [
      "0.11866644217484183\n",
      "1.0341232243622571\n"
     ]
    }
   ],
   "source": [
    "# generate 10 random samples\n",
    "samples = np.random.randn(11)\n",
    "# calculate the mean and std\n",
    "mean_value = np.mean(samples[:10])\n",
    "std_value = np.std(samples[:10])\n",
    "# generate then new sample and check whether they are outlier or not\n",
    "\n",
    "print(mean_value)\n",
    "print(std_value)"
   ]
  },
  {
   "cell_type": "code",
   "execution_count": 57,
   "metadata": {},
   "outputs": [
    {
     "name": "stdout",
     "output_type": "stream",
     "text": [
      "0\n"
     ]
    }
   ],
   "source": [
    "# set a counter as zeor\n",
    "counter = 0\n",
    "# plt.hold()\n",
    "for i in range(10):\n",
    "    #sample = np.random.randn(1)\n",
    "    sample[9] = np.random.randn(1)\n",
    "    \n",
    "    if abs(samples[9]-mean_value)>=2*(std_value):\n",
    "        # plt.hold(True)\n",
    "        plt.boxplot(sample)\n",
    "        plt.show()\n",
    "        \n",
    "        # plt.plot(samples)\n",
    "        # plt.show()\n",
    "        # plt.hold(False)\n",
    "        print(sample)\n",
    "        print(samples)\n",
    "        print (2*(std_value))\n",
    "        counter +=1\n",
    "        print(\"I found you, outlier!\")\n",
    "print(counter)\n",
    "\n",
    "sns.violinplot(samples)"
   ]
  },
  {
   "cell_type": "code",
   "execution_count": null,
   "metadata": {},
   "outputs": [],
   "source": []
  },
  {
   "cell_type": "code",
   "execution_count": null,
   "metadata": {},
   "outputs": [],
   "source": []
  }
 ],
 "metadata": {
  "kernelspec": {
   "display_name": "Python 3",
   "language": "python",
   "name": "python3"
  },
  "language_info": {
   "codemirror_mode": {
    "name": "ipython",
    "version": 3
   },
   "file_extension": ".py",
   "mimetype": "text/x-python",
   "name": "python",
   "nbconvert_exporter": "python",
   "pygments_lexer": "ipython3",
   "version": "3.7.3"
  }
 },
 "nbformat": 4,
 "nbformat_minor": 2
}
