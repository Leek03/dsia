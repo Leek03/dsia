{
 "cells": [
  {
   "cell_type": "markdown",
   "metadata": {
    "colab_type": "text",
    "id": "emj1GNgIT3CB"
   },
   "source": [
    "![dsia](https://static1.squarespace.com/static/5c4631190dbda3abea29db4c/t/5c465b0dc74c5024875652f7/1549343891985/?format=1500w)"
   ]
  },
  {
   "cell_type": "markdown",
   "metadata": {
    "colab_type": "text",
    "id": "FvN6xzeyT3CC"
   },
   "source": [
    "1. Compute the scaler product of two vectors\n",
    "\n",
    "> In mathematics, the dot product or scalar product is an algebraic operation that takes two equal-length sequences of numbers (usually coordinate vectors) and returns a single number. \n",
    "\n",
    "> we can calculate it this way:\n",
    "\n",
    "        a · b = ax × bx + ay × by\n",
    "        \n",
    "Hint: [Dot Product](https://www.mathsisfun.com/algebra/vectors-dot-product.html)"
   ]
  },
  {
   "cell_type": "code",
   "execution_count": 5,
   "metadata": {
    "ExecuteTime": {
     "end_time": "2019-06-27T03:58:34.200170Z",
     "start_time": "2019-06-27T03:58:34.196182Z"
    },
    "colab": {},
    "colab_type": "code",
    "id": "JkwM7G3IT3CD"
   },
   "outputs": [],
   "source": [
    "import numpy as np"
   ]
  },
  {
   "cell_type": "code",
   "execution_count": 6,
   "metadata": {
    "ExecuteTime": {
     "end_time": "2019-06-27T04:56:56.317427Z",
     "start_time": "2019-06-27T04:56:56.313425Z"
    },
    "colab": {},
    "colab_type": "code",
    "id": "rsOPN02pT3CG"
   },
   "outputs": [],
   "source": [
    "a = [-12, 16]\n",
    "b = [12, 9]"
   ]
  },
  {
   "cell_type": "markdown",
   "metadata": {},
   "source": [
    "a*b = (-12*12 + 16*9)"
   ]
  },
  {
   "cell_type": "code",
   "execution_count": 9,
   "metadata": {
    "scrolled": true
   },
   "outputs": [
    {
     "data": {
      "text/plain": [
       "0"
      ]
     },
     "execution_count": 9,
     "metadata": {},
     "output_type": "execute_result"
    }
   ],
   "source": [
    "np.dot(a,b)"
   ]
  },
  {
   "cell_type": "markdown",
   "metadata": {
    "ExecuteTime": {
     "end_time": "2019-06-27T03:59:49.939731Z",
     "start_time": "2019-06-27T03:59:49.934711Z"
    },
    "colab_type": "text",
    "id": "cIamVopdT3CI"
   },
   "source": [
    "2. Compute the cross product of two vectors\n",
    "\n",
    "> When a and b start at the origin point (0,0,0), the Cross Product will end at:\n",
    "\n",
    "        cx = aybz − azby\n",
    "        cy = azbx − axbz\n",
    "        cz = axby − aybx\n",
    "        \n",
    "Hint: [Cross Product](https://www.mathsisfun.com/algebra/vectors-cross-product.html)"
   ]
  },
  {
   "cell_type": "code",
   "execution_count": 10,
   "metadata": {
    "ExecuteTime": {
     "end_time": "2019-06-27T04:56:59.994576Z",
     "start_time": "2019-06-27T04:56:59.987594Z"
    },
    "colab": {},
    "colab_type": "code",
    "id": "L9FjAAzNT3CJ"
   },
   "outputs": [],
   "source": [
    "import numpy as np\n",
    "x = np.array([[1,2,3], [4,5,6]])\n",
    "y = np.array([[4,5,6], [1,2,3]])"
   ]
  },
  {
   "cell_type": "markdown",
   "metadata": {},
   "source": [
    "a1 = [1,2,3], a2 = [4,5,6]\n",
    "b1 = [4,5,6], b2 = [1,2,3]\n",
    "\n",
    "cx1 = [2x6 - 3x5] = -3\n",
    "cy1 = [3x4 - 1x6] = 6\n",
    "cz1 = [1x5 - 2x4] = -3\n",
    "\n",
    "cx2 = [5x3 - 6x2] = 3\n",
    "cy2 = [6x1 - 4x3] = -6\n",
    "cz2 = [4x2 - 5x1] = 3\n",
    "\n",
    "a1 . b1 = (-3,6,-3)\n",
    "a2 . b2 = (3,-6,3)\n",
    "\n",
    "a . b = ([-3,6,-3],[3,-6,3])"
   ]
  },
  {
   "cell_type": "code",
   "execution_count": 12,
   "metadata": {},
   "outputs": [
    {
     "data": {
      "text/plain": [
       "array(-300)"
      ]
     },
     "execution_count": 12,
     "metadata": {},
     "output_type": "execute_result"
    }
   ],
   "source": [
    "# Below is from numpy embeded formula for Cross_Product\n",
    "np.cross(a,b)"
   ]
  },
  {
   "cell_type": "code",
   "execution_count": 13,
   "metadata": {},
   "outputs": [
    {
     "name": "stdout",
     "output_type": "stream",
     "text": [
      "4\n"
     ]
    }
   ],
   "source": [
    "number_of_students = [1,2,3,4]\n",
    "\n",
    "print(len(number_of_students))"
   ]
  },
  {
   "cell_type": "code",
   "execution_count": 14,
   "metadata": {},
   "outputs": [
    {
     "data": {
      "text/plain": [
       "array([[1, 2, 3],\n",
       "       [4, 5, 6]])"
      ]
     },
     "execution_count": 14,
     "metadata": {},
     "output_type": "execute_result"
    }
   ],
   "source": [
    "x"
   ]
  },
  {
   "cell_type": "code",
   "execution_count": 15,
   "metadata": {},
   "outputs": [
    {
     "data": {
      "text/plain": [
       "array([[4, 5, 6],\n",
       "       [1, 2, 3]])"
      ]
     },
     "execution_count": 15,
     "metadata": {},
     "output_type": "execute_result"
    }
   ],
   "source": [
    "y"
   ]
  },
  {
   "cell_type": "code",
   "execution_count": 16,
   "metadata": {},
   "outputs": [
    {
     "name": "stdout",
     "output_type": "stream",
     "text": [
      "[[-3  6 -3]\n",
      " [ 3 -6  3]]\n"
     ]
    }
   ],
   "source": [
    "print(np.cross(x,y))"
   ]
  },
  {
   "cell_type": "markdown",
   "metadata": {
    "colab_type": "text",
    "id": "2M2dKNL-T3CL"
   },
   "source": [
    "3. Compute the Hademard product (entry-wise multiplication) of two vectors.\n",
    "\n",
    "> In mathematics, the Hadamard product (also known as the Schur product[1] or the entrywise product[2]:ch. 5) is a binary operation that takes two matrices of the same dimensions and produces another matrix of the same dimension as the operands where each element i, j is the product of elements i, j of the original two matrices. It should not be confused with the more common matrix product. It is attributed to, and named after, either French mathematician Jacques Hadamard or German mathematician Issai Schur. [Wiki](https://en.wikipedia.org/wiki/Hadamard_product_(matrices))\n",
    "\n",
    "![](https://wikimedia.org/api/rest_v1/media/math/render/svg/4eb9bb54b2820fb3583901ec05bc4b474b6d90bc)"
   ]
  },
  {
   "cell_type": "code",
   "execution_count": 17,
   "metadata": {
    "ExecuteTime": {
     "end_time": "2019-06-27T04:57:06.480263Z",
     "start_time": "2019-06-27T04:57:06.474279Z"
    },
    "colab": {},
    "colab_type": "code",
    "id": "WnDQY9MyT3CM"
   },
   "outputs": [],
   "source": [
    "a = np.array([[1,2],[3,4]])\n",
    "b = np.array([[5,6],[7,8]])"
   ]
  },
  {
   "cell_type": "markdown",
   "metadata": {},
   "source": [
    "a = [ 1 2\n",
    "      3 4]\n",
    "b = [ 5 6\n",
    "      7 8]\n",
    "\n",
    "a . b = [1x5 2x6\n",
    "         3x7 4x8]\n",
    "a . b = [5 12\n",
    "        21 32]\n"
   ]
  },
  {
   "cell_type": "markdown",
   "metadata": {
    "colab_type": "text",
    "id": "b1ZR2J8HT3CO"
   },
   "source": [
    "4. Compute the sum of two matrices.\n",
    "\n",
    "![](https://wikimedia.org/api/rest_v1/media/math/render/svg/0fb7845af355c550d44020e52699069c044126a9)"
   ]
  },
  {
   "cell_type": "code",
   "execution_count": 18,
   "metadata": {
    "ExecuteTime": {
     "end_time": "2019-06-27T04:57:13.225605Z",
     "start_time": "2019-06-27T04:57:13.214634Z"
    },
    "colab": {},
    "colab_type": "code",
    "id": "ulBVhGDET3CP"
   },
   "outputs": [
    {
     "name": "stdout",
     "output_type": "stream",
     "text": [
      "[[17 15  4]\n",
      " [10 12  9]\n",
      " [11 13 18]]\n"
     ]
    }
   ],
   "source": [
    "# Program to add two matrices using nested loop\n",
    "\n",
    "X = [[12,7,3],\n",
    "    [4 ,5,6],\n",
    "    [7 ,8,9]]\n",
    "\n",
    "Y = [[5,8,1],\n",
    "    [6,7,3],\n",
    "    [4,5,9]]\n",
    "\n",
    "\n",
    "print(np.add(X,Y))"
   ]
  },
  {
   "cell_type": "code",
   "execution_count": 21,
   "metadata": {},
   "outputs": [
    {
     "name": "stdout",
     "output_type": "stream",
     "text": [
      "[[12.4  8.   4.4]\n",
      " [ 8.  10.  12. ]\n",
      " [14.  16.  18. ]]\n"
     ]
    }
   ],
   "source": [
    "x1 = [[12.2,7.5,3.7],\n",
    "    [4 ,5,6],\n",
    "    [7 ,8,9]]\n",
    "\n",
    "x2 = [[.2,.5,.7],\n",
    "    [4 ,5,6],\n",
    "    [7 ,8,9]]\n",
    "\n",
    "print(np.add(x1,x2))"
   ]
  },
  {
   "cell_type": "markdown",
   "metadata": {
    "ExecuteTime": {
     "end_time": "2019-06-27T04:04:23.509007Z",
     "start_time": "2019-06-27T04:04:23.503018Z"
    },
    "colab_type": "text",
    "id": "CZFVdvEhT3CS"
   },
   "source": [
    "5. Compute the product of two matrices.\n",
    "\n",
    "![](https://upload.wikimedia.org/wikipedia/commons/e/eb/Matrix_multiplication_diagram_2.svg)"
   ]
  },
  {
   "cell_type": "code",
   "execution_count": 0,
   "metadata": {
    "ExecuteTime": {
     "end_time": "2019-06-27T04:57:19.425749Z",
     "start_time": "2019-06-27T04:57:19.412783Z"
    },
    "colab": {},
    "colab_type": "code",
    "id": "2cwCXjx_T3CT"
   },
   "outputs": [],
   "source": [
    "# Program to multiply two matrices using nested loops\n",
    "\n",
    "# 3x3 matrix\n",
    "X = [[12,7,3],\n",
    "    [4 ,5,6],\n",
    "    [7 ,8,9]]\n",
    "\n",
    "# 3x4 matrix\n",
    "Y = [[5,8,1,2],\n",
    "    [6,7,3,0],\n",
    "    [4,5,9,1]]\n",
    "\n",
    "# result is 3x4\n",
    "result = [[0,0,0,0],\n",
    "         [0,0,0,0],\n",
    "         [0,0,0,0]]\n",
    "\n",
    "A . B = [(a1,1xb1,2 + a1,2xb1,2) + (a1,1xb2,2 + a1,2xb2,2)],\n",
    "        [(a3,1xb1,3 + a3,2xb1,3) + (a3,1xb2,3 + a3,2xb2,3)]\n",
    "    \n",
    "A . B = [[(12x8 + 7x8) + (12x7 +7x7)],\n",
    "        [(7x1 + 8x1) + (7x3 + 8x3)]]\n",
    "A . B = [285,60]\n"
   ]
  },
  {
   "cell_type": "markdown",
   "metadata": {
    "colab_type": "text",
    "id": "zxe0vdBVT3CV"
   },
   "source": [
    "6. Compute the determinant of an n x n matrix.\n",
    "\n",
    "![](https://integratedmlai.com/wp-content/uploads/2018/12/Matrix_Det_2x2.png)\n",
    "\n",
    "Hint: [Find the Determinant of a Matrix with Pure Python without Numpy or Scipy](https://integratedmlai.com/find-the-determinant-of-a-matrix-with-pure-python-without-numpy-or-scipy/)\n",
    "\n",
    "Hint: Use \n",
    "> np.linalg.det"
   ]
  },
  {
   "cell_type": "code",
   "execution_count": 0,
   "metadata": {
    "ExecuteTime": {
     "end_time": "2019-06-27T04:58:00.140277Z",
     "start_time": "2019-06-27T04:58:00.135291Z"
    },
    "colab": {},
    "colab_type": "code",
    "id": "7SpAPh-5T3CW"
   },
   "outputs": [],
   "source": [
    "matrix = [[-2,2,-3],[-1,1,3],[2,0,-1]]\n",
    "\n",
    "matrix = [-2 2 -3\n",
    "          -1 1 3\n",
    "           2 0 -1]\n",
    "\n",
    "|matrix| = [(-2)x(1x(-1) - (0x3)) - 2x(((-1)x(-1) -(2x3))) + (-3)x((-1)x0 - (2x1))]\n",
    "\n",
    "|matrix| = [8 - (-10) + 6]\n",
    "\n",
    "|matrix| = 24\n"
   ]
  },
  {
   "cell_type": "markdown",
   "metadata": {
    "colab_type": "text",
    "id": "vUC6L5r1T3Ca"
   },
   "source": [
    "7. Compute the inverse of an n x n matrix.\n",
    "\n",
    "For a 3×3 matrix\n",
    "\n",
    "![](http://mathworld.wolfram.com/images/equations/MatrixInverse/NumberedEquation3.gif)\n",
    "\n",
    "the matrix inverse is\n",
    "\n",
    "![](http://mathworld.wolfram.com/images/equations/MatrixInverse/NumberedEquation4.gif)\n",
    "\n",
    "Hint: Use \n",
    "> from numpy.linalg import inv"
   ]
  },
  {
   "cell_type": "code",
   "execution_count": 0,
   "metadata": {
    "ExecuteTime": {
     "end_time": "2019-06-27T04:58:33.615832Z",
     "start_time": "2019-06-27T04:58:33.609848Z"
    },
    "colab": {},
    "colab_type": "code",
    "id": "qGxUYlMWT3Cb"
   },
   "outputs": [],
   "source": [
    "a = np.array([[1., 2.], [3., 4.]])\n",
    "\n"
   ]
  }
 ],
 "metadata": {
  "colab": {
   "collapsed_sections": [],
   "name": "Lab 1.1.1 Vector & Matrix Operations .ipynb",
   "provenance": [],
   "version": "0.3.2"
  },
  "kernelspec": {
   "display_name": "Python 3",
   "language": "python",
   "name": "python3"
  },
  "language_info": {
   "codemirror_mode": {
    "name": "ipython",
    "version": 3
   },
   "file_extension": ".py",
   "mimetype": "text/x-python",
   "name": "python",
   "nbconvert_exporter": "python",
   "pygments_lexer": "ipython3",
   "version": "3.7.3"
  }
 },
 "nbformat": 4,
 "nbformat_minor": 1
}
