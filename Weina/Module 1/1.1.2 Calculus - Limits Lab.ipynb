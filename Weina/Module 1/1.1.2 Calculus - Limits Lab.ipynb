{
 "cells": [
  {
   "cell_type": "markdown",
   "metadata": {
    "colab_type": "text",
    "id": "Xv41Pk1Qqxag"
   },
   "source": [
    "![dsia](https://static1.squarespace.com/static/5c4631190dbda3abea29db4c/t/5c465b0dc74c5024875652f7/1549343891985/?format=1500w)\n",
    "\n",
    "# Calculus - Limits"
   ]
  },
  {
   "cell_type": "code",
   "execution_count": 13,
   "metadata": {
    "colab": {},
    "colab_type": "code",
    "id": "1MZb95OFqxah"
   },
   "outputs": [],
   "source": [
    "import numpy as np\n",
    "import matplotlib.pyplot as plt\n",
    "\n",
    "# get matplot to show charts inline\n",
    "%matplotlib inline"
   ]
  },
  {
   "cell_type": "code",
   "execution_count": 14,
   "metadata": {
    "colab": {},
    "colab_type": "code",
    "id": "oUpp-5Prqxaj"
   },
   "outputs": [],
   "source": [
    "# define a function, say f(x) = 1/x\n",
    "def f(x):\n",
    "    return 1/x"
   ]
  },
  {
   "cell_type": "code",
   "execution_count": 15,
   "metadata": {
    "colab": {
     "base_uri": "https://localhost:8080/",
     "height": 34
    },
    "colab_type": "code",
    "executionInfo": {
     "elapsed": 646,
     "status": "ok",
     "timestamp": 1560213080942,
     "user": {
      "displayName": "Ibrahim Faisal",
      "photoUrl": "https://lh3.googleusercontent.com/-67DMczu7rgM/AAAAAAAAAAI/AAAAAAAAAAc/6f5FCnBgxFs/s64/photo.jpg",
      "userId": "02685917636347920688"
     },
     "user_tz": -600
    },
    "id": "XpejBQNAqxal",
    "outputId": "1ab6b68c-55db-45b7-b84b-4878ce4db3fb"
   },
   "outputs": [
    {
     "name": "stdout",
     "output_type": "stream",
     "text": [
      "f(4) =  0.25\n"
     ]
    }
   ],
   "source": [
    "# calculate value of f(x) for some values\n",
    "print('f(4) = ',f(4))"
   ]
  },
  {
   "cell_type": "code",
   "execution_count": 16,
   "metadata": {
    "colab": {
     "base_uri": "https://localhost:8080/",
     "height": 238
    },
    "colab_type": "code",
    "executionInfo": {
     "elapsed": 668,
     "status": "error",
     "timestamp": 1560213084641,
     "user": {
      "displayName": "Ibrahim Faisal",
      "photoUrl": "https://lh3.googleusercontent.com/-67DMczu7rgM/AAAAAAAAAAI/AAAAAAAAAAc/6f5FCnBgxFs/s64/photo.jpg",
      "userId": "02685917636347920688"
     },
     "user_tz": -600
    },
    "id": "SeneRcVZqxao",
    "outputId": "c9eab883-6d1f-4ecd-958d-e7868fd1d9d4"
   },
   "outputs": [
    {
     "ename": "SyntaxError",
     "evalue": "invalid syntax (<ipython-input-16-1d3e0971947f>, line 5)",
     "output_type": "error",
     "traceback": [
      "\u001b[0;36m  File \u001b[0;32m\"<ipython-input-16-1d3e0971947f>\"\u001b[0;36m, line \u001b[0;32m5\u001b[0m\n\u001b[0;31m    return x=(-x)\u001b[0m\n\u001b[0m            ^\u001b[0m\n\u001b[0;31mSyntaxError\u001b[0m\u001b[0;31m:\u001b[0m invalid syntax\n"
     ]
    }
   ],
   "source": [
    "# calculate value of f(x) for 0\n",
    "#print('f(0) = ', f(0))\n",
    "\n",
    "def f(x):\n",
    "    return x=(-x)"
   ]
  },
  {
   "cell_type": "markdown",
   "metadata": {
    "colab_type": "text",
    "id": "pSaqa-YL9VQu"
   },
   "source": [
    "Plot y versus x as lines and/or markers.\n",
    "\n",
    "> matplotlib.pyplot.plot\n",
    "\n",
    "[matplotlib.pyplot.plot](https://matplotlib.org/3.1.0/api/_as_gen/matplotlib.pyplot.plot.html)"
   ]
  },
  {
   "cell_type": "code",
   "execution_count": 20,
   "metadata": {
    "colab": {},
    "colab_type": "code",
    "id": "FrmupAlRqxar"
   },
   "outputs": [
    {
     "data": {
      "image/png": "[encoded data removed]",
      "text/plain": [
       "<Figure size 432x288 with 1 Axes>"
      ]
     },
     "metadata": {
      "needs_background": "light"
     },
     "output_type": "display_data"
    },
    {
     "data": {
      "image/png": "[encoded data removed]",
      "text/plain": [
       "<Figure size 432x288 with 1 Axes>"
      ]
     },
     "metadata": {
      "needs_background": "light"
     },
     "output_type": "display_data"
    }
   ],
   "source": [
    "# plot f(x) from a small number to a large number\n",
    "x = np.arange(0.1,100,1)\n",
    "y = f(x)\n",
    "\n",
    "plt.plot(x, y)        # plot x and y using default line style and color\n",
    "plt.xlabel('x')       # plot x label\n",
    "plt.ylabel('f(x)')    # plot y by define y label on given x\n",
    "plt.grid()            # shape of plot\n",
    "plt.show()\n",
    "\n",
    "plt.yscale('log')   # what's hint for and how to use? wz"
   ]
  },
  {
   "cell_type": "markdown",
   "metadata": {
    "colab_type": "text",
    "id": "A2jH7KGE9y2V"
   },
   "source": [
    "Plot f(x) from a small number to a large number with logarithmic scale.\n",
    "\n",
    "> Hint: plt.yscale('log')"
   ]
  },
  {
   "cell_type": "code",
   "execution_count": 21,
   "metadata": {
    "colab": {},
    "colab_type": "code",
    "id": "8P9JUh5Hqxat"
   },
   "outputs": [
    {
     "data": {
      "image/png": "[encoded data removed]",
      "text/plain": [
       "<Figure size 432x288 with 1 Axes>"
      ]
     },
     "metadata": {
      "needs_background": "light"
     },
     "output_type": "display_data"
    }
   ],
   "source": [
    "# plot f(x) from a small number to a large number with logarithmic scale\n",
    "x = np.arange(0.1,100,1)\n",
    "y = f(x)\n",
    "\n",
    "plt.plot(x, y)        # plot x and y using default line style and color\n",
    "plt.xlabel('x')       # plot x label\n",
    "plt.ylabel('f(x)')    # plot y by define y label on given x\n",
    "plt.yscale('log')     # Using yscale to show a logarithmic scale\n",
    "plt.grid()            # shape of plot\n",
    "plt.show()"
   ]
  }
 ],
 "metadata": {
  "colab": {
   "collapsed_sections": [],
   "name": "1.1.2 Calculus - Limits Lab.ipynb",
   "provenance": [
    {
     "file_id": "https://github.com/ikfaisal/dsia/blob/master/Calculus_Limits.ipynb",
     "timestamp": 1552460589389
    }
   ],
   "version": "0.3.2"
  },
  "kernelspec": {
   "display_name": "Python 3",
   "language": "python",
   "name": "python3"
  },
  "language_info": {
   "codemirror_mode": {
    "name": "ipython",
    "version": 3
   },
   "file_extension": ".py",
   "mimetype": "text/x-python",
   "name": "python",
   "nbconvert_exporter": "python",
   "pygments_lexer": "ipython3",
   "version": "3.7.3"
  }
 },
 "nbformat": 4,
 "nbformat_minor": 1
}
