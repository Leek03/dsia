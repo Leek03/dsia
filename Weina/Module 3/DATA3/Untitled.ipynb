{
 "cells": [
  {
   "cell_type": "code",
   "execution_count": null,
   "metadata": {},
   "outputs": [],
   "source": [
    "import pandas as pd\n",
    "datafile = \"PlantGrowth.csv\"\n",
    "data = pd.read_csv(datafile)\n",
    " \n",
    "#Create a boxplot\n",
    "data.boxplot('weight', by='group', figsize=(12, 8))\n",
    " \n",
    "ctrl = data['weight'][data.group == 'ctrl']\n",
    " \n",
    "grps = pd.unique(data.group.values)\n",
    "d_data = {grp:data['weight'][data.group == grp] for grp in grps}\n",
    " \n",
    "k = len(pd.unique(data.group))  # number of conditions\n",
    "N = len(data.values)  # conditions times participants\n",
    "n = data.groupby('group').size()[0] #Participants in each condition"
   ]
  },
  {
   "cell_type": "code",
   "execution_count": null,
   "metadata": {},
   "outputs": [],
   "source": []
  }
 ],
 "metadata": {
  "kernelspec": {
   "display_name": "Python 3",
   "language": "python",
   "name": "python3"
  }
 },
 "nbformat": 4,
 "nbformat_minor": 2
}
