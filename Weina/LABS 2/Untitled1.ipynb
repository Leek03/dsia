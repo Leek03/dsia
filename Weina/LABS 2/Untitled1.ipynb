{
 "cells": [
  {
   "cell_type": "code",
   "execution_count": 3,
   "metadata": {},
   "outputs": [
    {
     "ename": "SyntaxError",
     "evalue": "invalid syntax (<ipython-input-3-6cba69abf3cd>, line 4)",
     "output_type": "error",
     "traceback": [
      "\u001b[0;36m  File \u001b[0;32m\"<ipython-input-3-6cba69abf3cd>\"\u001b[0;36m, line \u001b[0;32m4\u001b[0m\n\u001b[0;31m    url = https://data.gov.au/data/api/3/action/datastore_search_sql?sql=SELECT * from \"e2d51de7-6917-44bb-9d81-8083cd415c34\" WHERE title LIKE 'jones'\u001b[0m\n\u001b[0m               ^\u001b[0m\n\u001b[0;31mSyntaxError\u001b[0m\u001b[0;31m:\u001b[0m invalid syntax\n"
     ]
    }
   ],
   "source": [
    "# TESTING API.NSW.GOV.AU DATA-SEARCH\n",
    "\n",
    "import urllib\n",
    "url = https://data.gov.au/data/api/3/action/datastore_search_sql?sql=SELECT * from \"e2d51de7-6917-44bb-9d81-8083cd415c34\" WHERE title LIKE 'jones'  \n",
    "fileobj = urllib.urlopen(url)\n",
    "fileobj.read()"
   ]
  },
  {
   "cell_type": "code",
   "execution_count": null,
   "metadata": {},
   "outputs": [],
   "source": []
  }
 ],
 "metadata": {
  "kernelspec": {
   "display_name": "Python 3",
   "language": "python",
   "name": "python3"
  },
  "language_info": {
   "codemirror_mode": {
    "name": "ipython",
    "version": 3
   },
   "file_extension": ".py",
   "mimetype": "text/x-python",
   "name": "python",
   "nbconvert_exporter": "python",
   "pygments_lexer": "ipython3",
   "version": "3.7.3"
  }
 },
 "nbformat": 4,
 "nbformat_minor": 2
}
