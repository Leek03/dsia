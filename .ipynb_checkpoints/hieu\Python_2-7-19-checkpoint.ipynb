{
 "cells": [
  {
   "cell_type": "code",
   "execution_count": 1,
   "metadata": {},
   "outputs": [
    {
     "name": "stdout",
     "output_type": "stream",
     "text": [
      "10\n"
     ]
    }
   ],
   "source": [
    "import numpy as np\n",
    "\n",
    "a = 10 # a is scalar value it has on integer, float, string. In other program might need to define.\n",
    "print(a)"
   ]
  },
  {
   "cell_type": "code",
   "execution_count": 2,
   "metadata": {},
   "outputs": [
    {
     "name": "stdout",
     "output_type": "stream",
     "text": [
      "[10, 12, 14]\n"
     ]
    }
   ],
   "source": [
    "vector0 = [10,12,14]\n",
    "print(vector0)"
   ]
  },
  {
   "cell_type": "code",
   "execution_count": 3,
   "metadata": {},
   "outputs": [
    {
     "name": "stdout",
     "output_type": "stream",
     "text": [
      "[2, 3, 10, 12, 14]\n"
     ]
    }
   ],
   "source": [
    "vector2 = [2,3,10,12,14]\n",
    "print(vector2)\n"
   ]
  },
  {
   "cell_type": "code",
   "execution_count": 4,
   "metadata": {},
   "outputs": [],
   "source": [
    "#vector2.type()"
   ]
  },
  {
   "cell_type": "code",
   "execution_count": 5,
   "metadata": {
    "scrolled": true
   },
   "outputs": [
    {
     "name": "stdout",
     "output_type": "stream",
     "text": [
      "['2' 'hello' '10' '12' '14']\n"
     ]
    }
   ],
   "source": [
    "vector = np.asarray([2, 'hello', 10, 12, 14])\n",
    "print(vector)"
   ]
  },
  {
   "cell_type": "code",
   "execution_count": 6,
   "metadata": {
    "scrolled": true
   },
   "outputs": [
    {
     "name": "stdout",
     "output_type": "stream",
     "text": [
      "<class 'numpy.ndarray'>\n"
     ]
    }
   ],
   "source": [
    "print(type(vector))"
   ]
  },
  {
   "cell_type": "code",
   "execution_count": 7,
   "metadata": {},
   "outputs": [
    {
     "name": "stdout",
     "output_type": "stream",
     "text": [
      "[[0.00000000e+000 0.00000000e+000]\n",
      " [1.75871011e-310 3.50977866e+064]\n",
      " [0.00000000e+000 4.34584738e-311]\n",
      " [            nan             nan]]\n",
      "[[0. 0. 0.]\n",
      " [0. 0. 0.]\n",
      " [0. 0. 0.]\n",
      " [0. 0. 0.]]\n",
      "[1 2 3]\n",
      "[4 5 6]\n",
      "[5 7 9]\n",
      "[ 4 10 18]\n",
      "[[10. 10. 10.]\n",
      " [10. 10. 10.]\n",
      " [10. 10. 10.]]\n"
     ]
    }
   ],
   "source": [
    "array_= np.empty([4,2])\n",
    "print(array_)\n",
    "#need to initialise it to be zero. \n",
    "array_1 = np.zeros([4,3])\n",
    "print(array_1)\n",
    "\n",
    "a = np.array([1,2,3])\n",
    "print(a)\n",
    "b = np.array([4,5,6])\n",
    "print(b)\n",
    "\n",
    "c = a + b\n",
    "print(c)\n",
    "d = a * b\n",
    "print(d)\n",
    "\n",
    "mat = np.ones([3,3])*10 #5 row 3 columns \n",
    "print(mat)"
   ]
  },
  {
   "cell_type": "code",
   "execution_count": 8,
   "metadata": {
    "scrolled": true
   },
   "outputs": [
    {
     "name": "stdout",
     "output_type": "stream",
     "text": [
      "6.0\n",
      "[[ 6. 10. 10.]\n",
      " [10. 10. 10.]\n",
      " [10. 10. 10.]]\n"
     ]
    }
   ],
   "source": [
    "mat[0,0] = 6\n",
    "print(mat[0,0])\n",
    "print(mat)"
   ]
  },
  {
   "cell_type": "code",
   "execution_count": 9,
   "metadata": {
    "scrolled": true
   },
   "outputs": [
    {
     "name": "stdout",
     "output_type": "stream",
     "text": [
      "[[  1  -2   3  40]\n",
      " [  4   5   7   5]\n",
      " [-10   8  10  23]\n",
      " [  4   5   7   5]]\n"
     ]
    }
   ],
   "source": [
    "mat2 = np.array(([1,-2,3,40],[4,5,7,5],[-10,8,10,23],[4,5,7,5]))\n",
    "print(mat2)"
   ]
  },
  {
   "cell_type": "code",
   "execution_count": 10,
   "metadata": {},
   "outputs": [
    {
     "name": "stdout",
     "output_type": "stream",
     "text": [
      "[[ 1 -2  3 40]]\n",
      "-2\n",
      "[-2  3]\n",
      "[5]\n",
      "[[ 5  7]\n",
      " [ 8 10]]\n",
      "5\n",
      "4\n",
      "10\n",
      "7\n",
      "7\n",
      "5\n"
     ]
    }
   ],
   "source": [
    "print(mat2[:1])\n",
    "print(mat2[0,1])\n",
    "print(mat2[0,1:3])\n",
    "print(mat2[3,3:4])\n",
    "\n",
    "print(mat2[1:3,1:3])\n",
    "middle = mat2[1:3,1:3]\n",
    "print(mat2[1,-1])\n",
    "\n",
    "print(mat2[-1,0])\n",
    "#10\n",
    "print(mat2[2,-2])\n",
    "#7 in 2nd row\n",
    "print(mat2[1,-2])\n",
    "print(mat2[1,2])\n",
    "print(mat2[1,1])"
   ]
  },
  {
   "cell_type": "code",
   "execution_count": 11,
   "metadata": {},
   "outputs": [
    {
     "name": "stdout",
     "output_type": "stream",
     "text": [
      "fail\n"
     ]
    }
   ],
   "source": [
    "grade = 49\n",
    "if grade < 100 and grade > 50:\n",
    "    print('pass')\n",
    "else:\n",
    "    print('fail')"
   ]
  },
  {
   "cell_type": "code",
   "execution_count": 12,
   "metadata": {
    "scrolled": true
   },
   "outputs": [
    {
     "name": "stdout",
     "output_type": "stream",
     "text": [
      "False\n"
     ]
    }
   ],
   "source": [
    "bool = (grade > 90 and grade <=100)\n",
    "print(bool)"
   ]
  },
  {
   "cell_type": "code",
   "execution_count": 13,
   "metadata": {},
   "outputs": [
    {
     "name": "stdout",
     "output_type": "stream",
     "text": [
      "([1, 3, 4], [5, 33, 1], [3, 5, 6])\n"
     ]
    }
   ],
   "source": [
    "cube = ([1,3,4],[5,33,1],[3,5,6])\n",
    "print(cube)"
   ]
  },
  {
   "cell_type": "code",
   "execution_count": 14,
   "metadata": {},
   "outputs": [
    {
     "name": "stdout",
     "output_type": "stream",
     "text": [
      "[[[1.28822975e-231 2.32035687e+077 1.38338381e-322]\n",
      "  [0.00000000e+000 0.00000000e+000 0.00000000e+000]\n",
      "  [0.00000000e+000 0.00000000e+000 0.00000000e+000]\n",
      "  [0.00000000e+000 0.00000000e+000 0.00000000e+000]]\n",
      "\n",
      " [[0.00000000e+000 0.00000000e+000 0.00000000e+000]\n",
      "  [4.31443967e-096 1.28822975e-231 1.28822975e-231]\n",
      "  [2.72578410e-056 8.23761289e-067 9.58113553e+169]\n",
      "  [2.24729348e+174 1.56605686e-076 6.00024308e-067]]\n",
      "\n",
      " [[1.48374923e-071 3.12225762e-033 1.28625693e+248]\n",
      "  [4.24948967e-086 4.05171132e-317 2.08600674e-308]\n",
      "  [6.94098393e-310 2.81617418e-322 0.00000000e+000]\n",
      "  [0.00000000e+000 0.00000000e+000 2.46567317e+179]]\n",
      "\n",
      " [[4.51424611e-090 2.19258100e-056 2.36652329e+179]\n",
      "  [7.11290681e-038 6.48224660e+170 4.93432906e+257]\n",
      "  [5.73116149e-322 0.00000000e+000 1.28822975e-231]\n",
      "  [1.28822975e-231 2.96439388e-323 2.24729348e+174]]]\n"
     ]
    }
   ],
   "source": [
    "three_dim = np.empty([4,4,3])\n",
    "print(three_dim)"
   ]
  },
  {
   "cell_type": "code",
   "execution_count": 15,
   "metadata": {},
   "outputs": [
    {
     "name": "stdout",
     "output_type": "stream",
     "text": [
      "338350\n"
     ]
    }
   ],
   "source": [
    "summation = 0\n",
    "i=1\n",
    "for i in range(101):\n",
    "    summation = summation + i**2\n",
    "print(summation)"
   ]
  },
  {
   "cell_type": "code",
   "execution_count": 16,
   "metadata": {},
   "outputs": [
    {
     "name": "stdout",
     "output_type": "stream",
     "text": [
      "328350\n"
     ]
    }
   ],
   "source": [
    "i= 1 \n",
    "summation1= 0 \n",
    "while i < 100:\n",
    "    summation1 += i**2\n",
    "    i +=1\n",
    "print(summation1)"
   ]
  },
  {
   "cell_type": "code",
   "execution_count": 17,
   "metadata": {},
   "outputs": [
    {
     "name": "stdout",
     "output_type": "stream",
     "text": [
      "[4.00000000e+000 2.58987508e+184 2.02085657e-076 1.47738068e-075\n",
      " 1.39444023e-047]\n",
      "[4.00000000e+00 4.00000000e+00 2.02085657e-76 1.47738068e-75\n",
      " 1.39444023e-47]\n",
      "[4.00000000e+00 4.00000000e+00 9.00000000e+00 1.47738068e-75\n",
      " 1.39444023e-47]\n",
      "[4.00000000e+00 4.00000000e+00 9.00000000e+00 4.00000000e+02\n",
      " 1.39444023e-47]\n",
      "[  4.   4.   9. 400.  25.]\n",
      "[[3.25060610e-319 7.29112202e-304 7.74860419e-304]\n",
      " [7.74860419e-304 7.74860419e-304 7.74860416e-304]]\n"
     ]
    }
   ],
   "source": [
    "#5 value  power of \n",
    "array_a = np.array([2,2,3,20,5])\n",
    "power = np.empty([5]) # number of colums\n",
    "\n",
    "i = 0 \n",
    "while (i < 5):\n",
    "    power[i] = array_a[i]**2\n",
    "    i += 1\n",
    "    print(power)\n",
    "    \n",
    "power2 = np.empty([2,3])\n",
    "\n",
    "print(power2)\n"
   ]
  },
  {
   "cell_type": "code",
   "execution_count": 25,
   "metadata": {},
   "outputs": [
    {
     "name": "stdout",
     "output_type": "stream",
     "text": [
      "[[ 1.  4.]\n",
      " [ 9. 16.]\n",
      " [25. 36.]]\n"
     ]
    }
   ],
   "source": [
    "#3 by 2   **2 \n",
    "power2_mat = np.empty([3,2])\n",
    "mat_a = np.array([[1,2],[3,4],[5,6]])\n",
    "\n",
    "for i in range(3):\n",
    "    for j in range(2):\n",
    "        power2_mat[i,j] = mat_a[i,j]**2\n",
    "print(power2_mat)\n"
   ]
  },
  {
   "cell_type": "code",
   "execution_count": 34,
   "metadata": {
    "scrolled": true
   },
   "outputs": [
    {
     "name": "stdout",
     "output_type": "stream",
     "text": [
      "49500005.50199725\n"
     ]
    }
   ],
   "source": [
    "summation_i =0\n",
    "i=1\n",
    "while i<10:\n",
    "    summation_i += i\n",
    "    i += 0.000001\n",
    "print(summation_i)"
   ]
  },
  {
   "cell_type": "code",
   "execution_count": 41,
   "metadata": {},
   "outputs": [
    {
     "name": "stdout",
     "output_type": "stream",
     "text": [
      "45\n"
     ]
    }
   ],
   "source": [
    "summation_1 =0 # while loop \n",
    "i=0\n",
    "while i < 10:\n",
    "    summation_1 += i\n",
    "    i+= 1\n",
    "print(summation_1)"
   ]
  },
  {
   "cell_type": "code",
   "execution_count": null,
   "metadata": {},
   "outputs": [],
   "source": []
  }
 ],
 "metadata": {
  "kernelspec": {
   "display_name": "Python 3",
   "language": "python",
   "name": "python3"
  },
  "language_info": {
   "codemirror_mode": {
    "name": "ipython",
    "version": 3
   },
   "file_extension": ".py",
   "mimetype": "text/x-python",
   "name": "python",
   "nbconvert_exporter": "python",
   "pygments_lexer": "ipython3",
   "version": "3.7.1"
  }
 },
 "nbformat": 4,
 "nbformat_minor": 2
}
