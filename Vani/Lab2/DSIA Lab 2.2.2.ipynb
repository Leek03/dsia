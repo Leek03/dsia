{
 "cells": [
  {
   "cell_type": "markdown",
   "metadata": {
    "colab_type": "text",
    "id": "XfnQYVMtJhQD"
   },
   "source": [
    "![alt text](https://i.imgur.com/1WaY7aA.png)\n",
    "\n",
    "\n",
    "---\n",
    "\n",
    "\n",
    "\n",
    "---\n",
    "\n"
   ]
  },
  {
   "cell_type": "markdown",
   "metadata": {
    "colab_type": "text",
    "id": "5dCt8XbjJhQG"
   },
   "source": [
    "# Lab 2.2.2 \n",
    "# *Mining Social Media with Twitter*"
   ]
  },
  {
   "cell_type": "markdown",
   "metadata": {
    "colab_type": "text",
    "id": "b5VfS9hhJhQI"
   },
   "source": [
    "## The Twitter API and Tweepy Package"
   ]
  },
  {
   "cell_type": "markdown",
   "metadata": {
    "colab_type": "text",
    "id": "lF2z-w5uJhQK"
   },
   "source": [
    "The Twitter API provides access to tweets and comments, and allows an application to post tweets to the user's timeline. \n",
    "\n",
    "Twitter requires developers to create and authenticate an app before they can use the API. As of recent policy changes, however, new developers must be approved before they can create an app. There is no indication of the waiting period for approval."
   ]
  },
  {
   "cell_type": "markdown",
   "metadata": {
    "colab_type": "text",
    "id": "M0wxJ8HNJhQM"
   },
   "source": [
    "### 1. Apply for Developer Access\n",
    "\n",
    "Go to https://blog.twitter.com/developer/en_us/topics/tools/2018/new-developer-requirements-to-protect-our-platform.html\n",
    "and read the advice.\n",
    "![image.png](attachment:image.png)"
   ]
  },
  {
   "cell_type": "markdown",
   "metadata": {
    "colab_type": "text",
    "id": "tICSKwL1JhQN"
   },
   "source": [
    "Apply at https://developer.twitter.com/en/apply-for-access.html\n",
    "![image.png](attachment:image.png)"
   ]
  },
  {
   "cell_type": "markdown",
   "metadata": {
    "colab_type": "text",
    "id": "M4-znQaaJhQP"
   },
   "source": [
    "Then go to https://developer.twitter.com/en/review every day until you see whatever comes after this: \n",
    "![image.png](attachment:image.png)"
   ]
  },
  {
   "cell_type": "markdown",
   "metadata": {
    "colab_type": "text",
    "id": "NMeZ70IZJhQR"
   },
   "source": [
    "### 2. Create Your Twitter App\n",
    "![image.png](attachment:image.png)"
   ]
  },
  {
   "cell_type": "markdown",
   "metadata": {
    "colab_type": "text",
    "id": "HpWMHz9NJhQS"
   },
   "source": [
    "### 3. Load Python Libraries"
   ]
  },
  {
   "cell_type": "code",
   "execution_count": 1,
   "metadata": {
    "colab": {},
    "colab_type": "code",
    "id": "16hb8EpNJhQU"
   },
   "outputs": [],
   "source": [
    "import tweepy\n",
    "import json\n",
    "import pprint"
   ]
  },
  {
   "cell_type": "markdown",
   "metadata": {},
   "source": [
    "import json\n",
    "\n",
    "auth_twitter = {}  \n",
    "auth_twitter['credentials'] = []  \n",
    "auth_twitter['credentials'].append({  \n",
    "    'my_consumer_key': 'vUyDfvj8nAC8XLMqGSYqI0vgz',\n",
    "    'my_consumer_secret': 'saQK8IFgzS4cwOl21cR2MLunDOy97z7f6g3oh357AxQYXTCBth',\n",
    "    'my_access_token':\"1149106446342037504-N4sOlMAcJt06gyDILWnWacojvwBTba\",\n",
    "    'access_token_secret':\"3uhAqCegtuDLgskerIbMBwzXhxkASadNkjMtuIBfkslTc\"\n",
    "})\n",
    "with open('auth_twitter.txt', 'w') as outfile:  \n",
    "    json.dump(auth_twitter, outfile)"
   ]
  },
  {
   "cell_type": "markdown",
   "metadata": {
    "colab_type": "text",
    "id": "p7W0se6_JhQX"
   },
   "source": [
    "### 4. Authenticate from your Python script"
   ]
  },
  {
   "cell_type": "markdown",
   "metadata": {
    "colab_type": "text",
    "id": "mJfe55dVJhQY"
   },
   "source": [
    "You could assign your authentication details explicitly, as follows:"
   ]
  },
  {
   "cell_type": "code",
   "execution_count": null,
   "metadata": {
    "colab": {},
    "colab_type": "code",
    "id": "aygW7a3eJhQZ"
   },
   "outputs": [],
   "source": [
    "my_consumer_key = ''      # your consumer key (string) goes in here\n",
    "my_consumer_secret = ''   # your consumer secret key (string) goes in here\n",
    "my_access_token = ''      # your access token (string goes in here\n",
    "access_token_secret = ''  # your access token secret (string) goes in here"
   ]
  },
  {
   "cell_type": "markdown",
   "metadata": {
    "colab_type": "text",
    "id": "7LXwmSzOJhQe"
   },
   "source": [
    "A better way would be to store these details externally, so they are not displayed in the notebook:\n",
    "\n",
    "- create a file called \"auth_twitter.json\" in your \"notebooks\" directory, and save your credentials there in JSON format:\n",
    "\n",
    "`{   \"my_consumer_key\": \"your consumer key (string) goes in here\",` <br>\n",
    "&nbsp;&nbsp;&nbsp;&nbsp;&nbsp;&nbsp;&nbsp;&nbsp;` \"my_consumer_secret\": \"your consumer secret key (string) goes in here\",` <br>\n",
    "&nbsp;&nbsp;&nbsp;&nbsp;&nbsp;&nbsp;&nbsp;&nbsp;`\"your access token (string goes in here\",` <br>\n",
    "&nbsp;&nbsp;&nbsp;&nbsp;&nbsp;&nbsp;&nbsp;&nbsp;`\"my_access_token_secret\": \"your access token secret (string) goes in here\"` <br>\n",
    "`}`\n",
    "\n",
    "(Nb. Parsers are very fussy. Make sure each key:value pair has a comma after it except the last one!)  \n",
    "\n",
    "Use the following code to load the credentials:  "
   ]
  },
  {
   "cell_type": "code",
   "execution_count": 6,
   "metadata": {
    "colab": {},
    "colab_type": "code",
    "id": "kh2srKpzJhQh"
   },
   "outputs": [
    {
     "data": {
      "text/plain": [
       "'/Users/Vani/Documents/BlackCat/DSIA-SYD-FT-Projects-201907/Vani/LABS 2'"
      ]
     },
     "execution_count": 6,
     "metadata": {},
     "output_type": "execute_result"
    }
   ],
   "source": [
    "pwd()  # make sure your working directory is where the file is"
   ]
  },
  {
   "cell_type": "code",
   "execution_count": 4,
   "metadata": {
    "colab": {},
    "colab_type": "code",
    "id": "uR8Vchz7JhQm"
   },
   "outputs": [],
   "source": [
    "#path_auth = 'auth_twitter.json'\n",
    "with open('auth_twitter.txt') as json_file:  \n",
    "    auth_twitter = json.load(json_file)\n",
    "\n",
    "# For debugging only:\n",
    "#pp.pprint(auth)\n",
    "for p in auth_twitter['credentials']:\n",
    "    my_consumer_key = p['my_consumer_key']\n",
    "    my_consumer_secret = p['my_consumer_secret']\n",
    "    my_access_token = p['my_access_token']\n",
    "    my_access_token_secret = p['access_token_secret']"
   ]
  },
  {
   "cell_type": "markdown",
   "metadata": {
    "colab_type": "text",
    "id": "GPRmYZigJhQp"
   },
   "source": [
    "Security considerations: \n",
    "- this method only keeps your credentials invisible as long as nobody accesses this notebook while it's running on your computer \n",
    "- if you wanted another user to have access to the executable notebook without divulging your credentials you should set up an OAuth 2.0 workflow to let them obtain and apply their own API tokens when using your app\n",
    "- if you just want to share your analyses, you could use a separate script (which you don't share) to fetch the data and save it locally, then use a second notebook (with no API access) to load and analyse the locally stored data"
   ]
  },
  {
   "cell_type": "markdown",
   "metadata": {
    "colab_type": "text",
    "id": "Ln30k0pZJhQp"
   },
   "source": [
    "### 5. Exploring the API"
   ]
  },
  {
   "cell_type": "markdown",
   "metadata": {
    "colab_type": "text",
    "id": "6fsc0U1nJhQq"
   },
   "source": [
    "Here is how to connect to Twitter using the Tweepy library:"
   ]
  },
  {
   "cell_type": "code",
   "execution_count": 5,
   "metadata": {
    "colab": {},
    "colab_type": "code",
    "id": "-y_4GBx1JhQr"
   },
   "outputs": [],
   "source": [
    "auth = tweepy.OAuthHandler(my_consumer_key, my_consumer_secret)\n",
    "auth.set_access_token(my_access_token, my_access_token_secret)\n",
    "api = tweepy.API(auth)"
   ]
  },
  {
   "cell_type": "code",
   "execution_count": 6,
   "metadata": {},
   "outputs": [
    {
     "data": {
      "text/plain": [
       "<tweepy.auth.OAuthHandler at 0x10bbb75c0>"
      ]
     },
     "execution_count": 6,
     "metadata": {},
     "output_type": "execute_result"
    }
   ],
   "source": [
    "auth"
   ]
  },
  {
   "cell_type": "markdown",
   "metadata": {
    "colab_type": "text",
    "id": "wSKzR9LdJhQu"
   },
   "source": [
    "In the next cell, put the cursor after the '.' and hit the [tab] key to see the available members and methods in the response object:"
   ]
  },
  {
   "cell_type": "code",
   "execution_count": 7,
   "metadata": {
    "colab": {},
    "colab_type": "code",
    "id": "BfnAOR2bJhQv"
   },
   "outputs": [
    {
     "data": {
      "text/plain": [
       "{'id': 1149103445351096320,\n",
       " 'id_str': '1149103445351096320',\n",
       " 'name': 'Sarita Charde',\n",
       " 'screen_name': 'ChardeSarita',\n",
       " 'location': '',\n",
       " 'description': 'Analyst',\n",
       " 'url': None,\n",
       " 'entities': {'description': {'urls': []}},\n",
       " 'protected': False,\n",
       " 'followers_count': 1,\n",
       " 'friends_count': 3,\n",
       " 'listed_count': 0,\n",
       " 'created_at': 'Wed Jul 10 23:49:45 +0000 2019',\n",
       " 'favourites_count': 0,\n",
       " 'utc_offset': None,\n",
       " 'time_zone': None,\n",
       " 'geo_enabled': False,\n",
       " 'verified': False,\n",
       " 'statuses_count': 4,\n",
       " 'lang': None,\n",
       " 'status': {'created_at': 'Wed Jul 17 05:51:01 +0000 2019',\n",
       "  'id': 1151368690337583104,\n",
       "  'id_str': '1151368690337583104',\n",
       "  'text': 'Test: Data Science is the state-of-the Art',\n",
       "  'truncated': False,\n",
       "  'entities': {'hashtags': [], 'symbols': [], 'user_mentions': [], 'urls': []},\n",
       "  'source': '<a href=\"https://www.linkedin.com/in/sarita-charde-/\" rel=\"nofollow\">CHARDE</a>',\n",
       "  'in_reply_to_status_id': None,\n",
       "  'in_reply_to_status_id_str': None,\n",
       "  'in_reply_to_user_id': None,\n",
       "  'in_reply_to_user_id_str': None,\n",
       "  'in_reply_to_screen_name': None,\n",
       "  'geo': None,\n",
       "  'coordinates': None,\n",
       "  'place': None,\n",
       "  'contributors': None,\n",
       "  'is_quote_status': False,\n",
       "  'retweet_count': 0,\n",
       "  'favorite_count': 0,\n",
       "  'favorited': False,\n",
       "  'retweeted': False,\n",
       "  'lang': 'en'},\n",
       " 'contributors_enabled': False,\n",
       " 'is_translator': False,\n",
       " 'is_translation_enabled': False,\n",
       " 'profile_background_color': 'F5F8FA',\n",
       " 'profile_background_image_url': None,\n",
       " 'profile_background_image_url_https': None,\n",
       " 'profile_background_tile': False,\n",
       " 'profile_image_url': 'http://abs.twimg.com/sticky/default_profile_images/default_profile_normal.png',\n",
       " 'profile_image_url_https': 'https://abs.twimg.com/sticky/default_profile_images/default_profile_normal.png',\n",
       " 'profile_link_color': '1DA1F2',\n",
       " 'profile_sidebar_border_color': 'C0DEED',\n",
       " 'profile_sidebar_fill_color': 'DDEEF6',\n",
       " 'profile_text_color': '333333',\n",
       " 'profile_use_background_image': True,\n",
       " 'has_extended_profile': False,\n",
       " 'default_profile': True,\n",
       " 'default_profile_image': True,\n",
       " 'following': True,\n",
       " 'live_following': False,\n",
       " 'follow_request_sent': False,\n",
       " 'notifications': False,\n",
       " 'muting': False,\n",
       " 'blocking': False,\n",
       " 'blocked_by': False,\n",
       " 'translator_type': 'none'}"
      ]
     },
     "execution_count": 7,
     "metadata": {},
     "output_type": "execute_result"
    }
   ],
   "source": [
    "api.followers()[0]._json"
   ]
  },
  {
   "cell_type": "markdown",
   "metadata": {
    "colab_type": "text",
    "id": "DcJ-cc6zJhQz"
   },
   "source": [
    "Consult the Tweept and Twitter API documentation. Print a few of the response members below:"
   ]
  },
  {
   "cell_type": "markdown",
   "metadata": {
    "colab_type": "text",
    "id": "dLkdLKjLJhQ3"
   },
   "source": [
    "This will fetch recent tweets from accounts you follow:"
   ]
  },
  {
   "cell_type": "code",
   "execution_count": 54,
   "metadata": {
    "colab": {},
    "colab_type": "code",
    "id": "l9y8t3X7JhQ4"
   },
   "outputs": [
    {
     "name": "stdout",
     "output_type": "stream",
     "text": [
      "Xi Jinping, general secretary of the CPC Central Committee, highlighted the significance of ecology, rural vitaliza… https://t.co/UTWeXsuoG2\n",
      "Tweeted new message\n",
      "Test: Made with Tweepy\n",
      "I started my DataScience course in Sydney at DSIA\n",
      "China's civil aviation market delivered 320 million trips in the first half of 2019, up 8.5% YOY. The turnover of t… https://t.co/3I0mZqARzm\n",
      "The #US will send a high-level delegation to discuss arms control issues with #Russia in Geneva later this week, as… https://t.co/Pkn4l90fsE\n",
      "You make me feel safe and comfortable https://t.co/6DzMGUVSyq\n",
      "A full-habitat protection network for black snub-nosed monkeys was set up by local forestry bureau and natural rese… https://t.co/fMg5WvQ1gw\n",
      "Be professional… and cool: A pineapple seller in Nanning, S China's Guangxi, attracts customers with his pineapple-… https://t.co/pixOWAg2lU\n",
      "RT @Kunshan_China: Bingdi lotuses blossom at Tinglin Park in #Kunshan. Bingdi lotuses are lotuses that carry a pair of flowers on each flow…\n",
      "Standing against time and flood! The Ezhou Guanyin Pavilion, which has history about 700 years, is known as the “Fi… https://t.co/4RTPcAYKdO\n",
      "Great grandma #panda! Xinxing the panda was born in Baoxing County, Sichuan Province, 37 years ago, which is equal… https://t.co/9bDujXaFGn\n",
      "Nowhere to hide! The Xiongan New Area in N China’s Hebei is using #drones to prevent and crack down on officials us… https://t.co/yJENkyXWke\n",
      "US Treasury has \"very serious concerns\" about the potential national security risks that Facebook's #Libra cryptocu… https://t.co/Q0bQlO1ogS\n",
      "#BREAKING: M5.7 #earthquake rocked south of a popular tourist island of Bali, Indonesia on Tuesday. The epicenter w… https://t.co/ZfYQrGkiTn\n",
      "China has called on the #US to stop its wrong moves on the #Iran nuclear issue and to respect the legitimate rights… https://t.co/Grd5s2sf5K\n",
      "China's new recoverable, reusable satellite for commercial use that is under development is set to be launched in 2… https://t.co/jPwpl27ON0\n",
      "In pics: Performances seen at Colombia International Air Show (F-AIR 2019) in Rio Negro, #Colombia , July 14 https://t.co/AqQyn446wm\n",
      "#HeartwarmingMoment: a good Samaritan carries handicapped girl to cross the street while denouncing the driver who… https://t.co/KRgAmEwNYF\n",
      "More than 1 in 10 children, almost 20 million worldwide, failed to receive \"potentially lifesaving\" vaccines in 201… https://t.co/qGnQEfgBme\n"
     ]
    }
   ],
   "source": [
    "# Recent tweets from accounts you follow:\n",
    "tweets = api.home_timeline()\n",
    "for tweet in tweets:\n",
    "    print(tweet.text)"
   ]
  },
  {
   "cell_type": "markdown",
   "metadata": {
    "colab_type": "text",
    "id": "k2NpPlOIJhQ6"
   },
   "source": [
    "The request to see your own recent tweets is similar, but uses the `user_timeline` endpoint. Try this below:"
   ]
  },
  {
   "cell_type": "code",
   "execution_count": 55,
   "metadata": {
    "colab": {},
    "colab_type": "code",
    "id": "QMlhdx5NJhQ6"
   },
   "outputs": [
    {
     "name": "stdout",
     "output_type": "stream",
     "text": [
      "Tweeted new message\n",
      "Test: Made with Tweepy\n",
      "I started my DataScience course in Sydney at DSIA\n"
     ]
    }
   ],
   "source": [
    "tweets = api.user_timeline()\n",
    "for tweet in tweets:\n",
    "    print(tweet.text)"
   ]
  },
  {
   "cell_type": "markdown",
   "metadata": {
    "colab_type": "text",
    "id": "qY7oM-lJJhQ8"
   },
   "source": [
    "Now, instead of printing the text of each tweet, print the `created_at` and `id_str` methods:"
   ]
  },
  {
   "cell_type": "code",
   "execution_count": 32,
   "metadata": {
    "colab": {},
    "colab_type": "code",
    "id": "aUOlNdG8JhQ9"
   },
   "outputs": [
    {
     "name": "stdout",
     "output_type": "stream",
     "text": [
      "2019-07-16 06:07:17\n",
      "I started my DataScience course in Sydney at DSIA\n"
     ]
    }
   ],
   "source": [
    "tweets = api.user_timeline()\n",
    "for tweet in tweets:\n",
    "    print(tweet.created_at)\n",
    "\n",
    "    print(tweet.text)"
   ]
  },
  {
   "cell_type": "markdown",
   "metadata": {
    "colab_type": "text",
    "id": "3PibchrmJhQ-"
   },
   "source": [
    "You can create a tweet as follows:"
   ]
  },
  {
   "cell_type": "code",
   "execution_count": 33,
   "metadata": {
    "colab": {},
    "colab_type": "code",
    "id": "IwzTjf1gJhQ_"
   },
   "outputs": [],
   "source": [
    "# create a tweet:\n",
    "tweet = api.update_status('Test: Made with Tweepy')"
   ]
  },
  {
   "cell_type": "code",
   "execution_count": 50,
   "metadata": {},
   "outputs": [],
   "source": [
    "from twython import Twython"
   ]
  },
  {
   "cell_type": "markdown",
   "metadata": {
    "colab_type": "text",
    "id": "TtlXvbjoJhRB"
   },
   "source": [
    "(Nb. Don't abuse this feature! If you try to generate a zillion tweets in a loop, Twitter will ban youur account.)"
   ]
  },
  {
   "cell_type": "markdown",
   "metadata": {
    "colab_type": "text",
    "id": "awUIiruTJhRB"
   },
   "source": [
    "Tweets can be deleted by reference to their `id_str` attribute:"
   ]
  },
  {
   "cell_type": "code",
   "execution_count": 62,
   "metadata": {
    "colab": {},
    "colab_type": "code",
    "id": "tKPSCOEBJhRC"
   },
   "outputs": [],
   "source": [
    "# delete a tweet:\n",
    "status = api.destroy_status(1151012415489761280)"
   ]
  },
  {
   "cell_type": "code",
   "execution_count": 64,
   "metadata": {},
   "outputs": [
    {
     "name": "stdout",
     "output_type": "stream",
     "text": [
      "Tweeted new message\n"
     ]
    }
   ],
   "source": [
    "tweet = api.get_status(1151013240672903176)\n",
    "print(tweet.text)"
   ]
  },
  {
   "cell_type": "markdown",
   "metadata": {
    "colab_type": "text",
    "id": "hEt9NWJBJhRE"
   },
   "source": [
    "You can follow a Tweeter:"
   ]
  },
  {
   "cell_type": "code",
   "execution_count": 65,
   "metadata": {
    "colab": {},
    "colab_type": "code",
    "id": "CDWxR8wOJhRF"
   },
   "outputs": [
    {
     "data": {
      "text/plain": [
       "User(_api=<tweepy.api.API object at 0x107a463c8>, _json={'id': 10228272, 'id_str': '10228272', 'name': 'YouTube', 'screen_name': 'YouTube', 'location': 'San Bruno, CA', 'description': 'Pivoting to video.', 'url': 'https://t.co/F3fLcf5sH7', 'entities': {'url': {'urls': [{'url': 'https://t.co/F3fLcf5sH7', 'expanded_url': 'http://youtube.com', 'display_url': 'youtube.com', 'indices': [0, 23]}]}, 'description': {'urls': []}}, 'protected': False, 'followers_count': 71661038, 'friends_count': 1041, 'listed_count': 81953, 'created_at': 'Tue Nov 13 21:43:46 +0000 2007', 'favourites_count': 2516, 'utc_offset': None, 'time_zone': None, 'geo_enabled': False, 'verified': True, 'statuses_count': 23554, 'lang': None, 'status': {'created_at': 'Mon Jul 15 18:39:34 +0000 2019', 'id': 1150837326597148672, 'id_str': '1150837326597148672', 'text': 'Can you really fix anything with ramen noodles and super glue? @thekingofrandom finds out! → https://t.co/6t40i28LeR https://t.co/wd5m0pkB1k', 'truncated': False, 'entities': {'hashtags': [], 'symbols': [], 'user_mentions': [{'screen_name': 'thekingofrandom', 'name': 'The King of Random', 'id': 38799816, 'id_str': '38799816', 'indices': [63, 79]}], 'urls': [{'url': 'https://t.co/6t40i28LeR', 'expanded_url': 'https://goo.gle/2Y39NeW', 'display_url': 'goo.gle/2Y39NeW', 'indices': [93, 116]}], 'media': [{'id': 1150837270603132928, 'id_str': '1150837270603132928', 'indices': [117, 140], 'media_url': 'http://pbs.twimg.com/tweet_video_thumb/D_iYZnSUcAAm4Uk.jpg', 'media_url_https': 'https://pbs.twimg.com/tweet_video_thumb/D_iYZnSUcAAm4Uk.jpg', 'url': 'https://t.co/wd5m0pkB1k', 'display_url': 'pic.twitter.com/wd5m0pkB1k', 'expanded_url': 'https://twitter.com/YouTube/status/1150837326597148672/photo/1', 'type': 'photo', 'sizes': {'medium': {'w': 574, 'h': 304, 'resize': 'fit'}, 'thumb': {'w': 150, 'h': 150, 'resize': 'crop'}, 'large': {'w': 574, 'h': 304, 'resize': 'fit'}, 'small': {'w': 574, 'h': 304, 'resize': 'fit'}}}]}, 'extended_entities': {'media': [{'id': 1150837270603132928, 'id_str': '1150837270603132928', 'indices': [117, 140], 'media_url': 'http://pbs.twimg.com/tweet_video_thumb/D_iYZnSUcAAm4Uk.jpg', 'media_url_https': 'https://pbs.twimg.com/tweet_video_thumb/D_iYZnSUcAAm4Uk.jpg', 'url': 'https://t.co/wd5m0pkB1k', 'display_url': 'pic.twitter.com/wd5m0pkB1k', 'expanded_url': 'https://twitter.com/YouTube/status/1150837326597148672/photo/1', 'type': 'animated_gif', 'sizes': {'medium': {'w': 574, 'h': 304, 'resize': 'fit'}, 'thumb': {'w': 150, 'h': 150, 'resize': 'crop'}, 'large': {'w': 574, 'h': 304, 'resize': 'fit'}, 'small': {'w': 574, 'h': 304, 'resize': 'fit'}}, 'video_info': {'aspect_ratio': [287, 152], 'variants': [{'bitrate': 0, 'content_type': 'video/mp4', 'url': 'https://video.twimg.com/tweet_video/D_iYZnSUcAAm4Uk.mp4'}]}}]}, 'source': '<a href=\"http://twitter.com\" rel=\"nofollow\">Twitter Web Client</a>', 'in_reply_to_status_id': None, 'in_reply_to_status_id_str': None, 'in_reply_to_user_id': None, 'in_reply_to_user_id_str': None, 'in_reply_to_screen_name': None, 'geo': None, 'coordinates': None, 'place': None, 'contributors': None, 'is_quote_status': False, 'retweet_count': 67, 'favorite_count': 637, 'favorited': False, 'retweeted': False, 'possibly_sensitive': False, 'lang': 'en'}, 'contributors_enabled': False, 'is_translator': False, 'is_translation_enabled': True, 'profile_background_color': 'AF0000', 'profile_background_image_url': 'http://abs.twimg.com/images/themes/theme14/bg.gif', 'profile_background_image_url_https': 'https://abs.twimg.com/images/themes/theme14/bg.gif', 'profile_background_tile': True, 'profile_image_url': 'http://pbs.twimg.com/profile_images/1148327441527689217/1QpS06D6_normal.png', 'profile_image_url_https': 'https://pbs.twimg.com/profile_images/1148327441527689217/1QpS06D6_normal.png', 'profile_banner_url': 'https://pbs.twimg.com/profile_banners/10228272/1562959185', 'profile_link_color': 'C9191D', 'profile_sidebar_border_color': '000000', 'profile_sidebar_fill_color': 'EFEFEF', 'profile_text_color': '333333', 'profile_use_background_image': True, 'has_extended_profile': False, 'default_profile': False, 'default_profile_image': False, 'following': True, 'follow_request_sent': False, 'notifications': False, 'muting': False, 'translator_type': 'regular'}, id=10228272, id_str='10228272', name='YouTube', screen_name='YouTube', location='San Bruno, CA', description='Pivoting to video.', url='https://t.co/F3fLcf5sH7', entities={'url': {'urls': [{'url': 'https://t.co/F3fLcf5sH7', 'expanded_url': 'http://youtube.com', 'display_url': 'youtube.com', 'indices': [0, 23]}]}, 'description': {'urls': []}}, protected=False, followers_count=71661038, friends_count=1041, listed_count=81953, created_at=datetime.datetime(2007, 11, 13, 21, 43, 46), favourites_count=2516, utc_offset=None, time_zone=None, geo_enabled=False, verified=True, statuses_count=23554, lang=None, status=Status(_api=<tweepy.api.API object at 0x107a463c8>, _json={'created_at': 'Mon Jul 15 18:39:34 +0000 2019', 'id': 1150837326597148672, 'id_str': '1150837326597148672', 'text': 'Can you really fix anything with ramen noodles and super glue? @thekingofrandom finds out! → https://t.co/6t40i28LeR https://t.co/wd5m0pkB1k', 'truncated': False, 'entities': {'hashtags': [], 'symbols': [], 'user_mentions': [{'screen_name': 'thekingofrandom', 'name': 'The King of Random', 'id': 38799816, 'id_str': '38799816', 'indices': [63, 79]}], 'urls': [{'url': 'https://t.co/6t40i28LeR', 'expanded_url': 'https://goo.gle/2Y39NeW', 'display_url': 'goo.gle/2Y39NeW', 'indices': [93, 116]}], 'media': [{'id': 1150837270603132928, 'id_str': '1150837270603132928', 'indices': [117, 140], 'media_url': 'http://pbs.twimg.com/tweet_video_thumb/D_iYZnSUcAAm4Uk.jpg', 'media_url_https': 'https://pbs.twimg.com/tweet_video_thumb/D_iYZnSUcAAm4Uk.jpg', 'url': 'https://t.co/wd5m0pkB1k', 'display_url': 'pic.twitter.com/wd5m0pkB1k', 'expanded_url': 'https://twitter.com/YouTube/status/1150837326597148672/photo/1', 'type': 'photo', 'sizes': {'medium': {'w': 574, 'h': 304, 'resize': 'fit'}, 'thumb': {'w': 150, 'h': 150, 'resize': 'crop'}, 'large': {'w': 574, 'h': 304, 'resize': 'fit'}, 'small': {'w': 574, 'h': 304, 'resize': 'fit'}}}]}, 'extended_entities': {'media': [{'id': 1150837270603132928, 'id_str': '1150837270603132928', 'indices': [117, 140], 'media_url': 'http://pbs.twimg.com/tweet_video_thumb/D_iYZnSUcAAm4Uk.jpg', 'media_url_https': 'https://pbs.twimg.com/tweet_video_thumb/D_iYZnSUcAAm4Uk.jpg', 'url': 'https://t.co/wd5m0pkB1k', 'display_url': 'pic.twitter.com/wd5m0pkB1k', 'expanded_url': 'https://twitter.com/YouTube/status/1150837326597148672/photo/1', 'type': 'animated_gif', 'sizes': {'medium': {'w': 574, 'h': 304, 'resize': 'fit'}, 'thumb': {'w': 150, 'h': 150, 'resize': 'crop'}, 'large': {'w': 574, 'h': 304, 'resize': 'fit'}, 'small': {'w': 574, 'h': 304, 'resize': 'fit'}}, 'video_info': {'aspect_ratio': [287, 152], 'variants': [{'bitrate': 0, 'content_type': 'video/mp4', 'url': 'https://video.twimg.com/tweet_video/D_iYZnSUcAAm4Uk.mp4'}]}}]}, 'source': '<a href=\"http://twitter.com\" rel=\"nofollow\">Twitter Web Client</a>', 'in_reply_to_status_id': None, 'in_reply_to_status_id_str': None, 'in_reply_to_user_id': None, 'in_reply_to_user_id_str': None, 'in_reply_to_screen_name': None, 'geo': None, 'coordinates': None, 'place': None, 'contributors': None, 'is_quote_status': False, 'retweet_count': 67, 'favorite_count': 637, 'favorited': False, 'retweeted': False, 'possibly_sensitive': False, 'lang': 'en'}, created_at=datetime.datetime(2019, 7, 15, 18, 39, 34), id=1150837326597148672, id_str='1150837326597148672', text='Can you really fix anything with ramen noodles and super glue? @thekingofrandom finds out! → https://t.co/6t40i28LeR https://t.co/wd5m0pkB1k', truncated=False, entities={'hashtags': [], 'symbols': [], 'user_mentions': [{'screen_name': 'thekingofrandom', 'name': 'The King of Random', 'id': 38799816, 'id_str': '38799816', 'indices': [63, 79]}], 'urls': [{'url': 'https://t.co/6t40i28LeR', 'expanded_url': 'https://goo.gle/2Y39NeW', 'display_url': 'goo.gle/2Y39NeW', 'indices': [93, 116]}], 'media': [{'id': 1150837270603132928, 'id_str': '1150837270603132928', 'indices': [117, 140], 'media_url': 'http://pbs.twimg.com/tweet_video_thumb/D_iYZnSUcAAm4Uk.jpg', 'media_url_https': 'https://pbs.twimg.com/tweet_video_thumb/D_iYZnSUcAAm4Uk.jpg', 'url': 'https://t.co/wd5m0pkB1k', 'display_url': 'pic.twitter.com/wd5m0pkB1k', 'expanded_url': 'https://twitter.com/YouTube/status/1150837326597148672/photo/1', 'type': 'photo', 'sizes': {'medium': {'w': 574, 'h': 304, 'resize': 'fit'}, 'thumb': {'w': 150, 'h': 150, 'resize': 'crop'}, 'large': {'w': 574, 'h': 304, 'resize': 'fit'}, 'small': {'w': 574, 'h': 304, 'resize': 'fit'}}}]}, extended_entities={'media': [{'id': 1150837270603132928, 'id_str': '1150837270603132928', 'indices': [117, 140], 'media_url': 'http://pbs.twimg.com/tweet_video_thumb/D_iYZnSUcAAm4Uk.jpg', 'media_url_https': 'https://pbs.twimg.com/tweet_video_thumb/D_iYZnSUcAAm4Uk.jpg', 'url': 'https://t.co/wd5m0pkB1k', 'display_url': 'pic.twitter.com/wd5m0pkB1k', 'expanded_url': 'https://twitter.com/YouTube/status/1150837326597148672/photo/1', 'type': 'animated_gif', 'sizes': {'medium': {'w': 574, 'h': 304, 'resize': 'fit'}, 'thumb': {'w': 150, 'h': 150, 'resize': 'crop'}, 'large': {'w': 574, 'h': 304, 'resize': 'fit'}, 'small': {'w': 574, 'h': 304, 'resize': 'fit'}}, 'video_info': {'aspect_ratio': [287, 152], 'variants': [{'bitrate': 0, 'content_type': 'video/mp4', 'url': 'https://video.twimg.com/tweet_video/D_iYZnSUcAAm4Uk.mp4'}]}}]}, source='Twitter Web Client', source_url='http://twitter.com', in_reply_to_status_id=None, in_reply_to_status_id_str=None, in_reply_to_user_id=None, in_reply_to_user_id_str=None, in_reply_to_screen_name=None, geo=None, coordinates=None, place=None, contributors=None, is_quote_status=False, retweet_count=67, favorite_count=637, favorited=False, retweeted=False, possibly_sensitive=False, lang='en'), contributors_enabled=False, is_translator=False, is_translation_enabled=True, profile_background_color='AF0000', profile_background_image_url='http://abs.twimg.com/images/themes/theme14/bg.gif', profile_background_image_url_https='https://abs.twimg.com/images/themes/theme14/bg.gif', profile_background_tile=True, profile_image_url='http://pbs.twimg.com/profile_images/1148327441527689217/1QpS06D6_normal.png', profile_image_url_https='https://pbs.twimg.com/profile_images/1148327441527689217/1QpS06D6_normal.png', profile_banner_url='https://pbs.twimg.com/profile_banners/10228272/1562959185', profile_link_color='C9191D', profile_sidebar_border_color='000000', profile_sidebar_fill_color='EFEFEF', profile_text_color='333333', profile_use_background_image=True, has_extended_profile=False, default_profile=False, default_profile_image=False, following=True, follow_request_sent=False, notifications=False, muting=False, translator_type='regular')"
      ]
     },
     "execution_count": 65,
     "metadata": {},
     "output_type": "execute_result"
    }
   ],
   "source": [
    "# follow:\n",
    "api.create_friendship('@YouTube')"
   ]
  },
  {
   "cell_type": "markdown",
   "metadata": {
    "colab_type": "text",
    "id": "Nbp2vRONJhRH"
   },
   "source": [
    "or unfollow:"
   ]
  },
  {
   "cell_type": "code",
   "execution_count": 66,
   "metadata": {
    "colab": {},
    "colab_type": "code",
    "id": "wCsNNVT9JhRH"
   },
   "outputs": [
    {
     "data": {
      "text/plain": [
       "User(_api=<tweepy.api.API object at 0x107a463c8>, _json={'id': 10228272, 'id_str': '10228272', 'name': 'YouTube', 'screen_name': 'YouTube', 'location': 'San Bruno, CA', 'description': 'Pivoting to video.', 'url': 'https://t.co/F3fLcf5sH7', 'entities': {'url': {'urls': [{'url': 'https://t.co/F3fLcf5sH7', 'expanded_url': 'http://youtube.com', 'display_url': 'youtube.com', 'indices': [0, 23]}]}, 'description': {'urls': []}}, 'protected': False, 'followers_count': 71661038, 'friends_count': 1041, 'listed_count': 81953, 'created_at': 'Tue Nov 13 21:43:46 +0000 2007', 'favourites_count': 2516, 'utc_offset': None, 'time_zone': None, 'geo_enabled': False, 'verified': True, 'statuses_count': 23554, 'lang': None, 'status': {'created_at': 'Mon Jul 15 18:39:34 +0000 2019', 'id': 1150837326597148672, 'id_str': '1150837326597148672', 'text': 'Can you really fix anything with ramen noodles and super glue? @thekingofrandom finds out! → https://t.co/6t40i28LeR https://t.co/wd5m0pkB1k', 'truncated': False, 'entities': {'hashtags': [], 'symbols': [], 'user_mentions': [{'screen_name': 'thekingofrandom', 'name': 'The King of Random', 'id': 38799816, 'id_str': '38799816', 'indices': [63, 79]}], 'urls': [{'url': 'https://t.co/6t40i28LeR', 'expanded_url': 'https://goo.gle/2Y39NeW', 'display_url': 'goo.gle/2Y39NeW', 'indices': [93, 116]}], 'media': [{'id': 1150837270603132928, 'id_str': '1150837270603132928', 'indices': [117, 140], 'media_url': 'http://pbs.twimg.com/tweet_video_thumb/D_iYZnSUcAAm4Uk.jpg', 'media_url_https': 'https://pbs.twimg.com/tweet_video_thumb/D_iYZnSUcAAm4Uk.jpg', 'url': 'https://t.co/wd5m0pkB1k', 'display_url': 'pic.twitter.com/wd5m0pkB1k', 'expanded_url': 'https://twitter.com/YouTube/status/1150837326597148672/photo/1', 'type': 'photo', 'sizes': {'medium': {'w': 574, 'h': 304, 'resize': 'fit'}, 'thumb': {'w': 150, 'h': 150, 'resize': 'crop'}, 'large': {'w': 574, 'h': 304, 'resize': 'fit'}, 'small': {'w': 574, 'h': 304, 'resize': 'fit'}}}]}, 'extended_entities': {'media': [{'id': 1150837270603132928, 'id_str': '1150837270603132928', 'indices': [117, 140], 'media_url': 'http://pbs.twimg.com/tweet_video_thumb/D_iYZnSUcAAm4Uk.jpg', 'media_url_https': 'https://pbs.twimg.com/tweet_video_thumb/D_iYZnSUcAAm4Uk.jpg', 'url': 'https://t.co/wd5m0pkB1k', 'display_url': 'pic.twitter.com/wd5m0pkB1k', 'expanded_url': 'https://twitter.com/YouTube/status/1150837326597148672/photo/1', 'type': 'animated_gif', 'sizes': {'medium': {'w': 574, 'h': 304, 'resize': 'fit'}, 'thumb': {'w': 150, 'h': 150, 'resize': 'crop'}, 'large': {'w': 574, 'h': 304, 'resize': 'fit'}, 'small': {'w': 574, 'h': 304, 'resize': 'fit'}}, 'video_info': {'aspect_ratio': [287, 152], 'variants': [{'bitrate': 0, 'content_type': 'video/mp4', 'url': 'https://video.twimg.com/tweet_video/D_iYZnSUcAAm4Uk.mp4'}]}}]}, 'source': '<a href=\"http://twitter.com\" rel=\"nofollow\">Twitter Web Client</a>', 'in_reply_to_status_id': None, 'in_reply_to_status_id_str': None, 'in_reply_to_user_id': None, 'in_reply_to_user_id_str': None, 'in_reply_to_screen_name': None, 'geo': None, 'coordinates': None, 'place': None, 'contributors': None, 'is_quote_status': False, 'retweet_count': 67, 'favorite_count': 637, 'favorited': False, 'retweeted': False, 'possibly_sensitive': False, 'lang': 'en'}, 'contributors_enabled': False, 'is_translator': False, 'is_translation_enabled': True, 'profile_background_color': 'AF0000', 'profile_background_image_url': 'http://abs.twimg.com/images/themes/theme14/bg.gif', 'profile_background_image_url_https': 'https://abs.twimg.com/images/themes/theme14/bg.gif', 'profile_background_tile': True, 'profile_image_url': 'http://pbs.twimg.com/profile_images/1148327441527689217/1QpS06D6_normal.png', 'profile_image_url_https': 'https://pbs.twimg.com/profile_images/1148327441527689217/1QpS06D6_normal.png', 'profile_banner_url': 'https://pbs.twimg.com/profile_banners/10228272/1562959185', 'profile_link_color': 'C9191D', 'profile_sidebar_border_color': '000000', 'profile_sidebar_fill_color': 'EFEFEF', 'profile_text_color': '333333', 'profile_use_background_image': True, 'has_extended_profile': False, 'default_profile': False, 'default_profile_image': False, 'following': False, 'follow_request_sent': False, 'notifications': False, 'muting': False, 'translator_type': 'regular'}, id=10228272, id_str='10228272', name='YouTube', screen_name='YouTube', location='San Bruno, CA', description='Pivoting to video.', url='https://t.co/F3fLcf5sH7', entities={'url': {'urls': [{'url': 'https://t.co/F3fLcf5sH7', 'expanded_url': 'http://youtube.com', 'display_url': 'youtube.com', 'indices': [0, 23]}]}, 'description': {'urls': []}}, protected=False, followers_count=71661038, friends_count=1041, listed_count=81953, created_at=datetime.datetime(2007, 11, 13, 21, 43, 46), favourites_count=2516, utc_offset=None, time_zone=None, geo_enabled=False, verified=True, statuses_count=23554, lang=None, status=Status(_api=<tweepy.api.API object at 0x107a463c8>, _json={'created_at': 'Mon Jul 15 18:39:34 +0000 2019', 'id': 1150837326597148672, 'id_str': '1150837326597148672', 'text': 'Can you really fix anything with ramen noodles and super glue? @thekingofrandom finds out! → https://t.co/6t40i28LeR https://t.co/wd5m0pkB1k', 'truncated': False, 'entities': {'hashtags': [], 'symbols': [], 'user_mentions': [{'screen_name': 'thekingofrandom', 'name': 'The King of Random', 'id': 38799816, 'id_str': '38799816', 'indices': [63, 79]}], 'urls': [{'url': 'https://t.co/6t40i28LeR', 'expanded_url': 'https://goo.gle/2Y39NeW', 'display_url': 'goo.gle/2Y39NeW', 'indices': [93, 116]}], 'media': [{'id': 1150837270603132928, 'id_str': '1150837270603132928', 'indices': [117, 140], 'media_url': 'http://pbs.twimg.com/tweet_video_thumb/D_iYZnSUcAAm4Uk.jpg', 'media_url_https': 'https://pbs.twimg.com/tweet_video_thumb/D_iYZnSUcAAm4Uk.jpg', 'url': 'https://t.co/wd5m0pkB1k', 'display_url': 'pic.twitter.com/wd5m0pkB1k', 'expanded_url': 'https://twitter.com/YouTube/status/1150837326597148672/photo/1', 'type': 'photo', 'sizes': {'medium': {'w': 574, 'h': 304, 'resize': 'fit'}, 'thumb': {'w': 150, 'h': 150, 'resize': 'crop'}, 'large': {'w': 574, 'h': 304, 'resize': 'fit'}, 'small': {'w': 574, 'h': 304, 'resize': 'fit'}}}]}, 'extended_entities': {'media': [{'id': 1150837270603132928, 'id_str': '1150837270603132928', 'indices': [117, 140], 'media_url': 'http://pbs.twimg.com/tweet_video_thumb/D_iYZnSUcAAm4Uk.jpg', 'media_url_https': 'https://pbs.twimg.com/tweet_video_thumb/D_iYZnSUcAAm4Uk.jpg', 'url': 'https://t.co/wd5m0pkB1k', 'display_url': 'pic.twitter.com/wd5m0pkB1k', 'expanded_url': 'https://twitter.com/YouTube/status/1150837326597148672/photo/1', 'type': 'animated_gif', 'sizes': {'medium': {'w': 574, 'h': 304, 'resize': 'fit'}, 'thumb': {'w': 150, 'h': 150, 'resize': 'crop'}, 'large': {'w': 574, 'h': 304, 'resize': 'fit'}, 'small': {'w': 574, 'h': 304, 'resize': 'fit'}}, 'video_info': {'aspect_ratio': [287, 152], 'variants': [{'bitrate': 0, 'content_type': 'video/mp4', 'url': 'https://video.twimg.com/tweet_video/D_iYZnSUcAAm4Uk.mp4'}]}}]}, 'source': '<a href=\"http://twitter.com\" rel=\"nofollow\">Twitter Web Client</a>', 'in_reply_to_status_id': None, 'in_reply_to_status_id_str': None, 'in_reply_to_user_id': None, 'in_reply_to_user_id_str': None, 'in_reply_to_screen_name': None, 'geo': None, 'coordinates': None, 'place': None, 'contributors': None, 'is_quote_status': False, 'retweet_count': 67, 'favorite_count': 637, 'favorited': False, 'retweeted': False, 'possibly_sensitive': False, 'lang': 'en'}, created_at=datetime.datetime(2019, 7, 15, 18, 39, 34), id=1150837326597148672, id_str='1150837326597148672', text='Can you really fix anything with ramen noodles and super glue? @thekingofrandom finds out! → https://t.co/6t40i28LeR https://t.co/wd5m0pkB1k', truncated=False, entities={'hashtags': [], 'symbols': [], 'user_mentions': [{'screen_name': 'thekingofrandom', 'name': 'The King of Random', 'id': 38799816, 'id_str': '38799816', 'indices': [63, 79]}], 'urls': [{'url': 'https://t.co/6t40i28LeR', 'expanded_url': 'https://goo.gle/2Y39NeW', 'display_url': 'goo.gle/2Y39NeW', 'indices': [93, 116]}], 'media': [{'id': 1150837270603132928, 'id_str': '1150837270603132928', 'indices': [117, 140], 'media_url': 'http://pbs.twimg.com/tweet_video_thumb/D_iYZnSUcAAm4Uk.jpg', 'media_url_https': 'https://pbs.twimg.com/tweet_video_thumb/D_iYZnSUcAAm4Uk.jpg', 'url': 'https://t.co/wd5m0pkB1k', 'display_url': 'pic.twitter.com/wd5m0pkB1k', 'expanded_url': 'https://twitter.com/YouTube/status/1150837326597148672/photo/1', 'type': 'photo', 'sizes': {'medium': {'w': 574, 'h': 304, 'resize': 'fit'}, 'thumb': {'w': 150, 'h': 150, 'resize': 'crop'}, 'large': {'w': 574, 'h': 304, 'resize': 'fit'}, 'small': {'w': 574, 'h': 304, 'resize': 'fit'}}}]}, extended_entities={'media': [{'id': 1150837270603132928, 'id_str': '1150837270603132928', 'indices': [117, 140], 'media_url': 'http://pbs.twimg.com/tweet_video_thumb/D_iYZnSUcAAm4Uk.jpg', 'media_url_https': 'https://pbs.twimg.com/tweet_video_thumb/D_iYZnSUcAAm4Uk.jpg', 'url': 'https://t.co/wd5m0pkB1k', 'display_url': 'pic.twitter.com/wd5m0pkB1k', 'expanded_url': 'https://twitter.com/YouTube/status/1150837326597148672/photo/1', 'type': 'animated_gif', 'sizes': {'medium': {'w': 574, 'h': 304, 'resize': 'fit'}, 'thumb': {'w': 150, 'h': 150, 'resize': 'crop'}, 'large': {'w': 574, 'h': 304, 'resize': 'fit'}, 'small': {'w': 574, 'h': 304, 'resize': 'fit'}}, 'video_info': {'aspect_ratio': [287, 152], 'variants': [{'bitrate': 0, 'content_type': 'video/mp4', 'url': 'https://video.twimg.com/tweet_video/D_iYZnSUcAAm4Uk.mp4'}]}}]}, source='Twitter Web Client', source_url='http://twitter.com', in_reply_to_status_id=None, in_reply_to_status_id_str=None, in_reply_to_user_id=None, in_reply_to_user_id_str=None, in_reply_to_screen_name=None, geo=None, coordinates=None, place=None, contributors=None, is_quote_status=False, retweet_count=67, favorite_count=637, favorited=False, retweeted=False, possibly_sensitive=False, lang='en'), contributors_enabled=False, is_translator=False, is_translation_enabled=True, profile_background_color='AF0000', profile_background_image_url='http://abs.twimg.com/images/themes/theme14/bg.gif', profile_background_image_url_https='https://abs.twimg.com/images/themes/theme14/bg.gif', profile_background_tile=True, profile_image_url='http://pbs.twimg.com/profile_images/1148327441527689217/1QpS06D6_normal.png', profile_image_url_https='https://pbs.twimg.com/profile_images/1148327441527689217/1QpS06D6_normal.png', profile_banner_url='https://pbs.twimg.com/profile_banners/10228272/1562959185', profile_link_color='C9191D', profile_sidebar_border_color='000000', profile_sidebar_fill_color='EFEFEF', profile_text_color='333333', profile_use_background_image=True, has_extended_profile=False, default_profile=False, default_profile_image=False, following=False, follow_request_sent=False, notifications=False, muting=False, translator_type='regular')"
      ]
     },
     "execution_count": 66,
     "metadata": {},
     "output_type": "execute_result"
    }
   ],
   "source": [
    "# unfollow:\n",
    "api.destroy_friendship('@YouTube')"
   ]
  },
  {
   "cell_type": "code",
   "execution_count": 67,
   "metadata": {
    "colab": {},
    "colab_type": "code",
    "id": "ND4BmdkvJhRJ"
   },
   "outputs": [],
   "source": [
    "tweet_list = []\n",
    "for tweet in tweets:\n",
    "    tweet_list.append(tweet._json)"
   ]
  },
  {
   "cell_type": "code",
   "execution_count": 68,
   "metadata": {},
   "outputs": [],
   "source": [
    "import pandas as pd\n",
    "import matplotlib.pyplot as plt"
   ]
  },
  {
   "cell_type": "code",
   "execution_count": 69,
   "metadata": {},
   "outputs": [],
   "source": [
    "df = pd.DataFrame(tweet_list)"
   ]
  },
  {
   "cell_type": "code",
   "execution_count": 70,
   "metadata": {},
   "outputs": [],
   "source": [
    "df['created_at'] = pd.to_datetime(df['created_at'])\n",
    "df.set_index('created_at', inplace=True)"
   ]
  },
  {
   "cell_type": "code",
   "execution_count": 71,
   "metadata": {},
   "outputs": [
    {
     "data": {
      "text/plain": [
       "contributors                 object\n",
       "coordinates                  object\n",
       "entities                     object\n",
       "favorite_count                int64\n",
       "favorited                      bool\n",
       "geo                          object\n",
       "id                            int64\n",
       "id_str                       object\n",
       "in_reply_to_screen_name      object\n",
       "in_reply_to_status_id        object\n",
       "in_reply_to_status_id_str    object\n",
       "in_reply_to_user_id          object\n",
       "in_reply_to_user_id_str      object\n",
       "is_quote_status                bool\n",
       "lang                         object\n",
       "place                        object\n",
       "retweet_count                 int64\n",
       "retweeted                      bool\n",
       "source                       object\n",
       "text                         object\n",
       "truncated                      bool\n",
       "user                         object\n",
       "dtype: object"
      ]
     },
     "execution_count": 71,
     "metadata": {},
     "output_type": "execute_result"
    }
   ],
   "source": [
    "df.dtypes"
   ]
  },
  {
   "cell_type": "code",
   "execution_count": 72,
   "metadata": {},
   "outputs": [
    {
     "data": {
      "text/html": [
       "<div>\n",
       "<style scoped>\n",
       "    .dataframe tbody tr th:only-of-type {\n",
       "        vertical-align: middle;\n",
       "    }\n",
       "\n",
       "    .dataframe tbody tr th {\n",
       "        vertical-align: top;\n",
       "    }\n",
       "\n",
       "    .dataframe thead th {\n",
       "        text-align: right;\n",
       "    }\n",
       "</style>\n",
       "<table border=\"1\" class=\"dataframe\">\n",
       "  <thead>\n",
       "    <tr style=\"text-align: right;\">\n",
       "      <th></th>\n",
       "      <th>contributors</th>\n",
       "      <th>coordinates</th>\n",
       "      <th>entities</th>\n",
       "      <th>favorite_count</th>\n",
       "      <th>favorited</th>\n",
       "      <th>geo</th>\n",
       "      <th>id</th>\n",
       "      <th>id_str</th>\n",
       "      <th>in_reply_to_screen_name</th>\n",
       "      <th>in_reply_to_status_id</th>\n",
       "      <th>...</th>\n",
       "      <th>in_reply_to_user_id_str</th>\n",
       "      <th>is_quote_status</th>\n",
       "      <th>lang</th>\n",
       "      <th>place</th>\n",
       "      <th>retweet_count</th>\n",
       "      <th>retweeted</th>\n",
       "      <th>source</th>\n",
       "      <th>text</th>\n",
       "      <th>truncated</th>\n",
       "      <th>user</th>\n",
       "    </tr>\n",
       "    <tr>\n",
       "      <th>created_at</th>\n",
       "      <th></th>\n",
       "      <th></th>\n",
       "      <th></th>\n",
       "      <th></th>\n",
       "      <th></th>\n",
       "      <th></th>\n",
       "      <th></th>\n",
       "      <th></th>\n",
       "      <th></th>\n",
       "      <th></th>\n",
       "      <th></th>\n",
       "      <th></th>\n",
       "      <th></th>\n",
       "      <th></th>\n",
       "      <th></th>\n",
       "      <th></th>\n",
       "      <th></th>\n",
       "      <th></th>\n",
       "      <th></th>\n",
       "      <th></th>\n",
       "      <th></th>\n",
       "    </tr>\n",
       "  </thead>\n",
       "  <tbody>\n",
       "    <tr>\n",
       "      <th>2019-07-16 06:18:36</th>\n",
       "      <td>None</td>\n",
       "      <td>None</td>\n",
       "      <td>{'hashtags': [], 'symbols': [], 'user_mentions...</td>\n",
       "      <td>0</td>\n",
       "      <td>False</td>\n",
       "      <td>None</td>\n",
       "      <td>1151013240672903176</td>\n",
       "      <td>1151013240672903176</td>\n",
       "      <td>None</td>\n",
       "      <td>None</td>\n",
       "      <td>...</td>\n",
       "      <td>None</td>\n",
       "      <td>False</td>\n",
       "      <td>en</td>\n",
       "      <td>None</td>\n",
       "      <td>0</td>\n",
       "      <td>False</td>\n",
       "      <td>&lt;a href=\"https://www.linkedin.com/in/vani-kami...</td>\n",
       "      <td>Tweeted new message</td>\n",
       "      <td>False</td>\n",
       "      <td>{'id': 1149106446342037504, 'id_str': '1149106...</td>\n",
       "    </tr>\n",
       "    <tr>\n",
       "      <th>2019-07-16 06:15:19</th>\n",
       "      <td>None</td>\n",
       "      <td>None</td>\n",
       "      <td>{'hashtags': [], 'symbols': [], 'user_mentions...</td>\n",
       "      <td>0</td>\n",
       "      <td>False</td>\n",
       "      <td>None</td>\n",
       "      <td>1151012415489761280</td>\n",
       "      <td>1151012415489761280</td>\n",
       "      <td>None</td>\n",
       "      <td>None</td>\n",
       "      <td>...</td>\n",
       "      <td>None</td>\n",
       "      <td>False</td>\n",
       "      <td>en</td>\n",
       "      <td>None</td>\n",
       "      <td>0</td>\n",
       "      <td>False</td>\n",
       "      <td>&lt;a href=\"https://www.linkedin.com/in/vani-kami...</td>\n",
       "      <td>Test: Made with Tweepy</td>\n",
       "      <td>False</td>\n",
       "      <td>{'id': 1149106446342037504, 'id_str': '1149106...</td>\n",
       "    </tr>\n",
       "    <tr>\n",
       "      <th>2019-07-16 06:07:17</th>\n",
       "      <td>None</td>\n",
       "      <td>None</td>\n",
       "      <td>{'hashtags': [], 'symbols': [], 'user_mentions...</td>\n",
       "      <td>0</td>\n",
       "      <td>False</td>\n",
       "      <td>None</td>\n",
       "      <td>1151010395164856320</td>\n",
       "      <td>1151010395164856320</td>\n",
       "      <td>None</td>\n",
       "      <td>None</td>\n",
       "      <td>...</td>\n",
       "      <td>None</td>\n",
       "      <td>False</td>\n",
       "      <td>en</td>\n",
       "      <td>None</td>\n",
       "      <td>0</td>\n",
       "      <td>False</td>\n",
       "      <td>&lt;a href=\"https://mobile.twitter.com\" rel=\"nofo...</td>\n",
       "      <td>I started my DataScience course in Sydney at DSIA</td>\n",
       "      <td>False</td>\n",
       "      <td>{'id': 1149106446342037504, 'id_str': '1149106...</td>\n",
       "    </tr>\n",
       "  </tbody>\n",
       "</table>\n",
       "<p>3 rows × 22 columns</p>\n",
       "</div>"
      ],
      "text/plain": [
       "                    contributors coordinates  \\\n",
       "created_at                                     \n",
       "2019-07-16 06:18:36         None        None   \n",
       "2019-07-16 06:15:19         None        None   \n",
       "2019-07-16 06:07:17         None        None   \n",
       "\n",
       "                                                              entities  \\\n",
       "created_at                                                               \n",
       "2019-07-16 06:18:36  {'hashtags': [], 'symbols': [], 'user_mentions...   \n",
       "2019-07-16 06:15:19  {'hashtags': [], 'symbols': [], 'user_mentions...   \n",
       "2019-07-16 06:07:17  {'hashtags': [], 'symbols': [], 'user_mentions...   \n",
       "\n",
       "                     favorite_count  favorited   geo                   id  \\\n",
       "created_at                                                                  \n",
       "2019-07-16 06:18:36               0      False  None  1151013240672903176   \n",
       "2019-07-16 06:15:19               0      False  None  1151012415489761280   \n",
       "2019-07-16 06:07:17               0      False  None  1151010395164856320   \n",
       "\n",
       "                                  id_str in_reply_to_screen_name  \\\n",
       "created_at                                                         \n",
       "2019-07-16 06:18:36  1151013240672903176                    None   \n",
       "2019-07-16 06:15:19  1151012415489761280                    None   \n",
       "2019-07-16 06:07:17  1151010395164856320                    None   \n",
       "\n",
       "                    in_reply_to_status_id  \\\n",
       "created_at                                  \n",
       "2019-07-16 06:18:36                  None   \n",
       "2019-07-16 06:15:19                  None   \n",
       "2019-07-16 06:07:17                  None   \n",
       "\n",
       "                                           ...                          \\\n",
       "created_at                                 ...                           \n",
       "2019-07-16 06:18:36                        ...                           \n",
       "2019-07-16 06:15:19                        ...                           \n",
       "2019-07-16 06:07:17                        ...                           \n",
       "\n",
       "                    in_reply_to_user_id_str is_quote_status lang  place  \\\n",
       "created_at                                                                \n",
       "2019-07-16 06:18:36                    None           False   en   None   \n",
       "2019-07-16 06:15:19                    None           False   en   None   \n",
       "2019-07-16 06:07:17                    None           False   en   None   \n",
       "\n",
       "                    retweet_count retweeted  \\\n",
       "created_at                                    \n",
       "2019-07-16 06:18:36             0     False   \n",
       "2019-07-16 06:15:19             0     False   \n",
       "2019-07-16 06:07:17             0     False   \n",
       "\n",
       "                                                                source  \\\n",
       "created_at                                                               \n",
       "2019-07-16 06:18:36  <a href=\"https://www.linkedin.com/in/vani-kami...   \n",
       "2019-07-16 06:15:19  <a href=\"https://www.linkedin.com/in/vani-kami...   \n",
       "2019-07-16 06:07:17  <a href=\"https://mobile.twitter.com\" rel=\"nofo...   \n",
       "\n",
       "                                                                  text  \\\n",
       "created_at                                                               \n",
       "2019-07-16 06:18:36                                Tweeted new message   \n",
       "2019-07-16 06:15:19                             Test: Made with Tweepy   \n",
       "2019-07-16 06:07:17  I started my DataScience course in Sydney at DSIA   \n",
       "\n",
       "                    truncated  \\\n",
       "created_at                      \n",
       "2019-07-16 06:18:36     False   \n",
       "2019-07-16 06:15:19     False   \n",
       "2019-07-16 06:07:17     False   \n",
       "\n",
       "                                                                  user  \n",
       "created_at                                                              \n",
       "2019-07-16 06:18:36  {'id': 1149106446342037504, 'id_str': '1149106...  \n",
       "2019-07-16 06:15:19  {'id': 1149106446342037504, 'id_str': '1149106...  \n",
       "2019-07-16 06:07:17  {'id': 1149106446342037504, 'id_str': '1149106...  \n",
       "\n",
       "[3 rows x 22 columns]"
      ]
     },
     "execution_count": 72,
     "metadata": {},
     "output_type": "execute_result"
    }
   ],
   "source": [
    "df.head()"
   ]
  },
  {
   "cell_type": "code",
   "execution_count": 73,
   "metadata": {},
   "outputs": [
    {
     "data": {
      "text/plain": [
       "<matplotlib.axes._subplots.AxesSubplot at 0x1112e2278>"
      ]
     },
     "execution_count": 73,
     "metadata": {},
     "output_type": "execute_result"
    },
    {
     "data": {
      "image/png": "[encoded data removed]",
      "text/plain": [
       "<Figure size 1080x432 with 1 Axes>"
      ]
     },
     "metadata": {
      "needs_background": "light"
     },
     "output_type": "display_data"
    }
   ],
   "source": [
    "y = df['id'].resample('D').sum()\n",
    "y.plot(figsize=(15, 6))"
   ]
  },
  {
   "cell_type": "code",
   "execution_count": 74,
   "metadata": {},
   "outputs": [],
   "source": [
    "from wordcloud import WordCloud, STOPWORDS"
   ]
  },
  {
   "cell_type": "code",
   "execution_count": 75,
   "metadata": {},
   "outputs": [],
   "source": [
    "def check_tweets(twitter_handle):\n",
    "    json_str = []\n",
    "    for status in tweepy.Cursor(api.user_timeline,id=twitter_handle).items(200):\n",
    "        json_str.append(status._json)\n",
    "    \n",
    "    df = pd.DataFrame(json_str)\n",
    "    df['created_at'] = pd.to_datetime(df['created_at'])\n",
    "    df.set_index('created_at', inplace=True)\n",
    "    \n",
    "    y = df['id'].resample('D').count()\n",
    "    y.plot(figsize=(15, 6))\n",
    "    plt.show()"
   ]
  },
  {
   "cell_type": "code",
   "execution_count": 77,
   "metadata": {},
   "outputs": [],
   "source": [
    "def check_tweets_wordcloud(twitter_handle, withall=True):\n",
    "    json_str = []\n",
    "    for status in tweepy.Cursor(api.user_timeline,id=twitter_handle).items(200):\n",
    "        json_str.append(status._json)\n",
    "    \n",
    "    df = pd.DataFrame(json_str)\n",
    "    \n",
    "    if withall: \n",
    "        text = df.text.values\n",
    "    else:\n",
    "        text = ','.join([x for x in df.text.values])\n",
    "        blob = TextBlob(text)\n",
    "        text = blob.noun_phrases\n",
    "    \n",
    "    wordcloud = WordCloud(\n",
    "        width = 3000\n",
    "        , height = 2000\n",
    "        , background_color = 'black'\n",
    "        , stopwords = STOPWORDS\n",
    "    ).generate(str(text))\n",
    "    \n",
    "    fig = plt.figure(figsize = (40, 30), facecolor = 'k', edgecolor = 'k')\n",
    "    plt.imshow(wordcloud, interpolation = 'bilinear')\n",
    "    plt.axis('off')\n",
    "    plt.show()"
   ]
  },
  {
   "cell_type": "code",
   "execution_count": 78,
   "metadata": {},
   "outputs": [
    {
     "data": {
      "image/png": "[encoded data removed]",
      "text/plain": [
       "<Figure size 1080x432 with 1 Axes>"
      ]
     },
     "metadata": {
      "needs_background": "light"
     },
     "output_type": "display_data"
    }
   ],
   "source": [
    "check_tweets('realDonaldTrump')"
   ]
  },
  {
   "cell_type": "code",
   "execution_count": 79,
   "metadata": {},
   "outputs": [
    {
     "ename": "NameError",
     "evalue": "name 'TextBlob' is not defined",
     "output_type": "error",
     "traceback": [
      "\u001b[0;31m---------------------------------------------------------------------------\u001b[0m",
      "\u001b[0;31mNameError\u001b[0m                                 Traceback (most recent call last)",
      "\u001b[0;32m<ipython-input-79-74ef9b1c9041>\u001b[0m in \u001b[0;36m<module>\u001b[0;34m()\u001b[0m\n\u001b[0;32m----> 1\u001b[0;31m \u001b[0mcheck_tweets_wordcloud\u001b[0m\u001b[0;34m(\u001b[0m\u001b[0;34m'realDonaldTrump'\u001b[0m\u001b[0;34m,\u001b[0m \u001b[0mwithall\u001b[0m\u001b[0;34m=\u001b[0m\u001b[0;32mFalse\u001b[0m\u001b[0;34m)\u001b[0m\u001b[0;34m\u001b[0m\u001b[0;34m\u001b[0m\u001b[0m\n\u001b[0m",
      "\u001b[0;32m<ipython-input-77-4cdfd83163fc>\u001b[0m in \u001b[0;36mcheck_tweets_wordcloud\u001b[0;34m(twitter_handle, withall)\u001b[0m\n\u001b[1;32m     10\u001b[0m     \u001b[0;32melse\u001b[0m\u001b[0;34m:\u001b[0m\u001b[0;34m\u001b[0m\u001b[0;34m\u001b[0m\u001b[0m\n\u001b[1;32m     11\u001b[0m         \u001b[0mtext\u001b[0m \u001b[0;34m=\u001b[0m \u001b[0;34m','\u001b[0m\u001b[0;34m.\u001b[0m\u001b[0mjoin\u001b[0m\u001b[0;34m(\u001b[0m\u001b[0;34m[\u001b[0m\u001b[0mx\u001b[0m \u001b[0;32mfor\u001b[0m \u001b[0mx\u001b[0m \u001b[0;32min\u001b[0m \u001b[0mdf\u001b[0m\u001b[0;34m.\u001b[0m\u001b[0mtext\u001b[0m\u001b[0;34m.\u001b[0m\u001b[0mvalues\u001b[0m\u001b[0;34m]\u001b[0m\u001b[0;34m)\u001b[0m\u001b[0;34m\u001b[0m\u001b[0;34m\u001b[0m\u001b[0m\n\u001b[0;32m---> 12\u001b[0;31m         \u001b[0mblob\u001b[0m \u001b[0;34m=\u001b[0m \u001b[0mTextBlob\u001b[0m\u001b[0;34m(\u001b[0m\u001b[0mtext\u001b[0m\u001b[0;34m)\u001b[0m\u001b[0;34m\u001b[0m\u001b[0;34m\u001b[0m\u001b[0m\n\u001b[0m\u001b[1;32m     13\u001b[0m         \u001b[0mtext\u001b[0m \u001b[0;34m=\u001b[0m \u001b[0mblob\u001b[0m\u001b[0;34m.\u001b[0m\u001b[0mnoun_phrases\u001b[0m\u001b[0;34m\u001b[0m\u001b[0;34m\u001b[0m\u001b[0m\n\u001b[1;32m     14\u001b[0m \u001b[0;34m\u001b[0m\u001b[0m\n",
      "\u001b[0;31mNameError\u001b[0m: name 'TextBlob' is not defined"
     ]
    }
   ],
   "source": [
    "check_tweets_wordcloud('realDonaldTrump', withall=False)"
   ]
  },
  {
   "cell_type": "code",
   "execution_count": null,
   "metadata": {},
   "outputs": [],
   "source": []
  },
  {
   "cell_type": "code",
   "execution_count": null,
   "metadata": {},
   "outputs": [],
   "source": []
  },
  {
   "cell_type": "code",
   "execution_count": null,
   "metadata": {},
   "outputs": [],
   "source": []
  },
  {
   "cell_type": "code",
   "execution_count": null,
   "metadata": {},
   "outputs": [],
   "source": []
  },
  {
   "cell_type": "code",
   "execution_count": null,
   "metadata": {},
   "outputs": [],
   "source": []
  },
  {
   "cell_type": "code",
   "execution_count": null,
   "metadata": {},
   "outputs": [],
   "source": []
  },
  {
   "cell_type": "code",
   "execution_count": null,
   "metadata": {},
   "outputs": [],
   "source": []
  },
  {
   "cell_type": "markdown",
   "metadata": {
    "colab_type": "text",
    "id": "YGIWBU4FJn0V"
   },
   "source": [
    ">\n",
    ">"
   ]
  },
  {
   "cell_type": "markdown",
   "metadata": {
    "colab_type": "text",
    "id": "l_IsftzjJp6w"
   },
   "source": [
    ">\n",
    ">"
   ]
  },
  {
   "cell_type": "markdown",
   "metadata": {
    "colab_type": "text",
    "id": "59l7EOATJrJO"
   },
   "source": [
    "\n",
    "\n",
    "---\n",
    "\n",
    "\n",
    "\n",
    "---\n",
    "\n",
    ">  > > > > > > > > © 2019 Data Science Institute of Australia\n",
    "\n",
    "\n",
    "\n",
    "---\n",
    "\n",
    "\n",
    "\n",
    "---\n",
    "\n"
   ]
  }
 ],
 "metadata": {
  "colab": {
   "collapsed_sections": [],
   "name": "DSIA Lab 2.2.2.ipynb",
   "provenance": [],
   "version": "0.3.2"
  },
  "kernelspec": {
   "display_name": "Python 3",
   "language": "python",
   "name": "python3"
  },
  "language_info": {
   "codemirror_mode": {
    "name": "ipython",
    "version": 3
   },
   "file_extension": ".py",
   "mimetype": "text/x-python",
   "name": "python",
   "nbconvert_exporter": "python",
   "pygments_lexer": "ipython3",
   "version": "3.7.2"
  }
 },
 "nbformat": 4,
 "nbformat_minor": 2
}
