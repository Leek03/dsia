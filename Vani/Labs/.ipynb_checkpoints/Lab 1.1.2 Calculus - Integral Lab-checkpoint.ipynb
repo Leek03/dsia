{
 "cells": [
  {
   "cell_type": "markdown",
   "metadata": {
    "colab_type": "text",
    "id": "YPFbgplmKcYp"
   },
   "source": [
    "![dsia](https://static1.squarespace.com/static/5c4631190dbda3abea29db4c/t/5c465b0dc74c5024875652f7/1549343891985/?format=1500w)\n",
    "\n",
    "# Calculus - Integral"
   ]
  },
  {
   "cell_type": "code",
<<<<<<< HEAD
<<<<<<< HEAD
   "execution_count": 1,
=======
   "execution_count": 0,
>>>>>>> 5e35b3d6a5413086905fc354a62eb1ac0963ea22
=======
   "execution_count": 0,
=======
<<<<<<< HEAD
   "execution_count": 1,
=======
   "execution_count": 0,
>>>>>>> 5e35b3d6a5413086905fc354a62eb1ac0963ea22
>>>>>>> 48cac5465a8f29650e00b69a478f857b6ad938a9
>>>>>>> 83ee671d6934a1fec629004f868fedf9e8944724
   "metadata": {
    "colab": {},
    "colab_type": "code",
    "id": "NxkLjNxUKcYr"
   },
   "outputs": [],
   "source": [
    "import numpy as np\n",
    "import matplotlib.pyplot as plt\n",
    "# get matplot to show charts inline\n",
    "%matplotlib inline"
   ]
  },
  {
   "cell_type": "code",
<<<<<<< HEAD
<<<<<<< HEAD
=======
   "execution_count": 0,
=======
<<<<<<< HEAD
>>>>>>> 83ee671d6934a1fec629004f868fedf9e8944724
   "execution_count": 2,
=======
   "execution_count": 0,
>>>>>>> 5e35b3d6a5413086905fc354a62eb1ac0963ea22
<<<<<<< HEAD
=======
>>>>>>> 48cac5465a8f29650e00b69a478f857b6ad938a9
>>>>>>> 83ee671d6934a1fec629004f868fedf9e8944724
   "metadata": {
    "colab": {},
    "colab_type": "code",
    "id": "49k4u8lCKcYy"
   },
   "outputs": [],
   "source": [
    "# define a function such as f(x) = x**2\n",
    "def f(x):\n",
<<<<<<< HEAD
<<<<<<< HEAD
    "    return(x)"
=======
=======
=======
<<<<<<< HEAD
    "    return(x)"
=======
>>>>>>> 48cac5465a8f29650e00b69a478f857b6ad938a9
>>>>>>> 83ee671d6934a1fec629004f868fedf9e8944724
    "  '''\n",
    "  Return x**2\n",
    "  '''\n",
    "  return 0"
<<<<<<< HEAD
>>>>>>> 5e35b3d6a5413086905fc354a62eb1ac0963ea22
=======
<<<<<<< HEAD
=======
>>>>>>> 5e35b3d6a5413086905fc354a62eb1ac0963ea22
>>>>>>> 48cac5465a8f29650e00b69a478f857b6ad938a9
>>>>>>> 83ee671d6934a1fec629004f868fedf9e8944724
   ]
  },
  {
   "cell_type": "code",
<<<<<<< HEAD
<<<<<<< HEAD
=======
   "execution_count": 0,
=======
<<<<<<< HEAD
>>>>>>> 83ee671d6934a1fec629004f868fedf9e8944724
   "execution_count": 3,
=======
   "execution_count": 0,
>>>>>>> 5e35b3d6a5413086905fc354a62eb1ac0963ea22
<<<<<<< HEAD
=======
>>>>>>> 48cac5465a8f29650e00b69a478f857b6ad938a9
>>>>>>> 83ee671d6934a1fec629004f868fedf9e8944724
   "metadata": {
    "colab": {},
    "colab_type": "code",
    "id": "lrcZ0mY6KcZD"
   },
<<<<<<< HEAD
<<<<<<< HEAD
=======
   "outputs": [],
=======
<<<<<<< HEAD
>>>>>>> 83ee671d6934a1fec629004f868fedf9e8944724
   "outputs": [
    {
     "data": {
      "image/png": "iVBORw0KGgoAAAANSUhEUgAAAZQAAAEKCAYAAAA1qaOTAAAABHNCSVQICAgIfAhkiAAAAAlwSFlzAAALEgAACxIB0t1+/AAAADl0RVh0U29mdHdhcmUAbWF0cGxvdGxpYiB2ZXJzaW9uIDIuMi4zLCBodHRwOi8vbWF0cGxvdGxpYi5vcmcvIxREBQAAIABJREFUeJzt3Xd4VHXa//H3Te+9l9CLVMUIInZREbFg2UX3UdaG+uhvqwqKBXt33V0LYnftS0AQUQFlXdcOrCQEAoQihNBrKCHt/v0x43NlsxMIMDNnknxe18WVM+d8Z+bOmcN8cs6ZuY+5OyIiIkeqStAFiIhIxaBAERGRqFCgiIhIVChQREQkKhQoIiISFQoUERGJCgWKiIhEhQJFRESiQoEiIiJRUS3oAuKpWbNm3rFjx6DLEBEpV+bPn7/F3ZsfbFylCpSOHTsyb968oMsQESlXzOynsozTIS8REYkKBYqIiESFAkVERKJCgSIiIlGhQBERkagINFDM7BUz22Rmi4rNa2Jms81sefhn41LuOzo8ZrmZjY5f1SIiEknQeyivAcNKzBsHfObu3YDPwrf/g5k1Ae4BBgEDgXtKCx4REYmPQAPF3f8JbCsx+wLg9fD068CFEe56NjDb3be5+3ZgNv8dTCIild7SDTk89kkG8bjce9B7KJG0dPf1AOGfLSKMaQusLXY7Kzzvv5jZGDObZ2bzNm/eHPViRUQSUV5BEU/PWcaIv37Juz+sZf3O3Jg/Z3n9prxFmBcxft19EjAJIDk5OfYRLSISsIVrd3Db5FSWbszhgqPbcPeIXjStVzPmz5uIgbLRzFq7+3ozaw1sijAmCzi12O12wD/iUJuISMLal1fIU7OX8vK/VtGifi1eHp3MGUe1jNvzJ2KgTAdGA4+Ef06LMOZT4KFiJ+LPAm6PT3kiIonn6xVbGJeSxppte7l8UBLjzulJg1rV41pDoIFiZu8Q2tNoZmZZhD659QjwvpldA6wBLg2PTQZucPdr3X2bmd0P/BB+qPvcveTJfRGRCm9Xbj4Pz8zgne/X0KFpHd657ngGd2kaSC0WjzP/iSI5OdnVbVhEKoo5izcy/oM0Nufs59qTOvP7od2pXaNq1J/HzOa7e/LBxiXiIS8RETmArbv3c++Hi5m+MJuereoz6Ypk+rdvFHRZChQRkfLC3Zm+MJsJ09PZvb+AP5zZnRtO6UKNaonxDRAFiohIObB+5z7unLqIzzI2cXT7Rjx2ST+6t6wfdFn/QYEiIpLAioqcd35Yw8MzMygscu4a0Ytfn9CRqlUifR0vWAoUEZEEtWrLHsalpPLdqm2c0KUpj1zUj6SmdYIuq1QKFBGRBFNQWMQrX63iyVnLqFGtCo9e3JdfJLfHLPH2SopToIiIJJAl63cxNiWV1KydnNmrJQ9c2IeWDWoFXVaZKFBERBLA/oJCnp27gufmZtKwdnWeufwYzu3bOuH3SopToIiIBGzBmu2MnZzK8k27ueiYttw1oheN69YIuqxDpkAREQnI3rwCnvh0Ga9+vYrWDWrx6lXHcVqPSFfsKB8UKCIiAfgqcwvjpqSydts+rji+A7cN60H9ODdzjDYFiohIHO3cl89DHy3hvXlr6dSsLu+NOZ5BnYNp5hhtChQRkTj5NH0Dd32wiK178rjx1C789oxu1Koe/WaOQVGgiIjE2Oac/Uz4MJ2PUtdzVOsGvDz6OPq2axh0WVGnQBERiRF3Z+q/13HfjMXs3V/ILWd15/pTulC9amI0c4y2hAwUM+sBvFdsVmfgbnd/utiYUwldzXFVeNYUd78vbkWKiBzAuh37GD81jX8s3cyApFAzx64tEquZY7QlZKC4+1LgaAAzqwqsA6ZGGPqlu4+IZ20iIgdSVOS89d1PPPJxBg5MOK8XVwxOzGaO0ZaQgVLCGcAKd/8p6EJERA5kxebd3J6Sxvert3FSt2Y8NLIv7ZskbjPHaCsPgTIKeKeUZYPNbCGQDdzi7unxK0tEJKSgsIhJX67k6TnLqVWtCo9f0o9Ljm1XrtqmRENCB4qZ1QDOB26PsHgB0MHdd5vZcOADoFuExxgDjAFISkqKYbUiUhmlZ+9kbEoqi9btYljvVtx3YW9a1C8fzRyjLaEDBTgHWODuG0sucPddxaZnmtlzZtbM3beUGDcJmASQnJzssS5YRCqH3PxC/vr5ciZ+sZLGdWrw/K8GcE7f1kGXFahED5TLKOVwl5m1Aja6u5vZQKAKsDWexYlI5TRv9TbGpqSyYvMeLjm2HXeeexSN6pS/Zo7RlrCBYmZ1gDOB64vNuwHA3ScClwA3mlkBsA8Y5e7aAxGRmNmzv4DHP13K69+spk3D2rxx9UBO7t486LISRsIGirvvBZqWmDex2PQzwDPxrktEKqd/LtvM7VPSyN65j9GDO3Lr2T2oWzNh30IDobUhInIAO/bm8cBHS5g8P4vOzevy9+sHk9yxSdBlJSQFiohIKT5OW89d09LZvjePm0/rys2nd61QzRyjTYEiIlLCppxc7pmWzseLNtC7TQNev/o4erepeM0co02BIiIS5u5Mnp/F/TMWk1tQxNhhPbnupE5Uq6DNHKNNgSIiAqzdtpc7pqbx5fItHNexMY9c3I8uzesFXVa5okARkUqtqMh545vVPPbpUgy4/4Le/GpQB6pUgmaO0aZAEZFKK3NTDmNT0pj/03ZO6d6chy7qS9tGtYMuq9xSoIhIpZNfWMQLX6zgL59lUqdmVZ76RX9GHtO20jVzjDYFiohUKovW7eTWyaksWb+Lc/u1ZsJ5vWlev2bQZVUIChQRqRRy8wv582fLmfTPlTSpW4MXrjiWs3u3CrqsCkWBIiIV3vertjEuJZWVW/bwi+R2jB/ei4Z1qgddVoWjQBGRCisnN5/HPlnK3779ifZNavPWtYMY0rVZ0GVVWAoUEamQ5i7dxPgpaazflcvVQzpxy9ndqVNDb3mxpLUrIhXK9j153D9jMVP+vY5uLeqRcuMJDEhqHHRZlYICRUQqBHfno7T13DMtnZ378vnN6V256fSu1KymZo7xokARkXJv465c7vxgEbMXb6Rfu4a8ee0gjmrdIOiyKp2EDRQzWw3kAIVAgbsnl1huwJ+B4cBe4NfuviDedYpIcNyd9+et5YGPlpBXUMQdw3ty9RA1cwxKwgZK2GnuvqWUZecA3cL/BgHPh3+KSCWwZutexk1J5esVWxnUqQmPXtyPjs3qBl1WpZbogXIgFwBvhK8j/62ZNTKz1u6+PujCRCR2Couc175ezROfLqVqFePBkX247LgkNXNMAIkcKA7MMjMHXnD3SSWWtwXWFrudFZ6nQBGpoJZtzOG2yan8uHYHp/dswYMj+9C6oZo5JopEDpQh7p5tZi2A2WaW4e7/LLY80p8jXnKGmY0BxgAkJSXFplIRiam8giImfrGCv36+nHo1q/HnUUdzfv82auaYYBI2UNw9O/xzk5lNBQYCxQMlC2hf7HY7IDvC40wCJgEkJyf/V+CISGJbuHYHY1NSydiQw/n923DPeb1oWk/NHBNRQgaKmdUFqrh7Tnj6LOC+EsOmAzeb2buETsbv1PkTkYpjX14hT89ZxotfrqRF/Vq8dGUyQ3u1DLosOYCEDBSgJTA1vDtbDXjb3T8xsxsA3H0iMJPQR4YzCX1s+KqAahWRKPtmxVZun5LK6q17uWxge24ffhQNaqmZY6JLyEBx95VA/wjzJxabduCmeNYlIrG1KzefRz7O4O3v1pDUpA5vXzuIE9TMsdxIyEARkcrn84yN3DFlEZtycrn2xE788awe1K6htinliQJFRAK1dfd+7puxmGk/ZtO9ZT2e/58TOEbNHMslBYqIBMLd+TB1PROmp5OTm89vz+jGTad1pUY1tU0prxQoIhJ3G3bmcucHacxZson+7Rry6CWD6NlKzRzLOwWKiMSNu/PuD2t56KMl5BcVMX74UVx9Yieqqm1KhaBAEZG4+GnrHsalpPHNyq0c37kJj1ykZo4VjQJFRGKqsMh59atVPDFrKdWrVOHhi/ryy+T2auZYASlQRCRmlm7I4baUVBau3cHQo1rwwIV9adWwVtBlSYwoUEQk6vIKinjuH5k8OzeT+rWq85fLjuG8fq3VzLGCU6CISFT9uHYHYyensnRjDhcc3YZ7zutNk7o1gi5L4kCBIiJRsS+vkCdnLeWVr1bRon4tXh6dzBlHqZljZaJAEZEj9vWKLYxLSWPNtr38alAS487pSX01c6x0FCgicth25ebz8MwlvPP9Wjo2rcO7Y47n+M5Ngy5LAqJAEZHDMmfxRsZ/kMbmnP1cf3Jnfje0u5o5VnIKFBE5JFt372fCh4v5cGE2PVvV58Urk+nXrlHQZUkCUKCISJm4O9MXZjNhejq79xfwhzO7c8MpXdTMUf5PwgWKmbUH3gBaAUXAJHf/c4kxpwLTgFXhWVPcveQlgkUkSrJ37OPODxbxecYmjklqxGMX96Nby/pBlyUJJuECBSgA/ujuC8ysPjDfzGa7++IS47509xEB1CdSaRQVOW9/v4ZHPs6gsMi5e0QvRp/QUc0cJaKECxR3Xw+sD0/nmNkSoC1QMlBEJIZWbdnDuJRUvlu1jSFdm/LwyH4kNa0TdFmSwBIuUIozs47AMcB3ERYPNrOFQDZwi7unl/IYY4AxAElJSbEpVKQCKSgs4uV/reKp2cuoUa0Kj13cj0uT26ltihxUwgaKmdUDUoDfufuuEosXAB3cfbeZDQc+ALpFehx3nwRMAkhOTvYYlixS7i3O3sXYlFTS1u3krF4tuf/CPrRsoGaOUjYJGShmVp1QmLzl7lNKLi8eMO4+08yeM7Nm7r4lnnWKVBT7Cwp55vNMnv/HChrVqc6zlw9geN9W2iuRQ5JwgWKhLfhlYIm7P1XKmFbARnd3MxsIVAG2xrFMkQpj/k/bGZuSSuam3Vw0oC13nduLxmrmKIch4QIFGAJcAaSZ2Y/heXcASQDuPhG4BLjRzAqAfcAod9fhLJFDsDevgMc/XcprX6+mdYNavHrVcZzWo0XQZUk5lnCB4u7/Ag64n+3uzwDPxKcikYrnX8u3MG5KKlnb93Hl4A7cNqwn9Wom3NuBlDPagkQqkZ1783lw5mLen5dF52Z1ef/6wQzs1CTosqSCUKCIVBKfLNrAXdMWsW1PHjee2oXfntGNWtXVzFGiR4EiUsFtztnPhOnpfJS2nl6tG/Dqr4+jT9uGQZclFZACRaSCcnemLFjHfTMWsy+vkFvP7sGYkztTvaqaOUpsKFBEKqCs7XsZP3URXyzbzLEdGvPoxf3o2qJe0GVJBadAEalAioqcN7/7iUc/zsCBe8/vzRXHd6CKmjlKHChQRCqIFZt3My4llR9Wb+ekbs14aGRf2jdRM0eJHwWKSDmXX1jEi1+u5Ok5y6ldvSpPXNqfiwe0VdsUiTsFikg5lp69k9smp5KevYvhfVsx4fzetKivZo4SDAWKSDmUm1/IXz9fzsQvVtK4Tg0m/s8AhvVpHXRZUskpUETKmXmrt3FbSiorN+/h0mPbcee5vWhYp3rQZYkoUETKi937C3j8kwze+PYn2jSszRtXD+Tk7s2DLkvk/yhQRMqBL5Zt5o4paWTv3MfowR259ewe1FUzR0kwZdoizawFobbybQi1i18EzHP3ohjWJlLp7dibx/0zlpCyIIsuzevy9+sHk9xRzRwlMR0wUMzsNGAc0AT4N7AJqAVcCHQxs8nAkxEu0SsiR2hm2nrunraI7Xvzufm0rtx8elc1c5SEdrA9lOHAde6+puQCM6sGjADOJHS53qgys2HAn4GqwEvu/kiJ5TWBN4BjCV2t8ZfuvjradYjE26Zdudw9LZ1P0jfQu00DXr96IL3bqJmjJL4DBoq733qAZQXAB1GvCDCzqsCzhMIqC/jBzKa7++Jiw64Btrt7VzMbBTwK/DIW9YjEg7vz9/lZPDBjMbkFRYwd1pPrTupENTVzlHKiTFuqmf3NzBoWu93RzD6LXVkMBDLdfaW75wHvAheUGHMB8Hp4ejJwhumrwVJOrd22lytf+Z7bJqfSo1V9Pv7tSdx4aheFiZQrZf2YyL+A78zsD0Bb4FbgjzGrKvQca4vdzgIGlTbG3QvMbCfQFNgSw7pEoqqwyHnjm9U8/ulSDLj/gt78apCaOUr5VKZAcfcXzCwdmEvoDfsYd98Qw7oi/W/ywxiDmY0BxgAkJSUdeWUiUZK5KYexKWnM/2k7p3RvzoMj+9CusZo5SvlV1o8NXwHcBVwJ9ANmmtlV7r4wRnVlAe2L3W4HZJcyJiv8AYGGwLaSD+Tuk4BJAMnJyf8VOCLxll9YxAtfrOAvn2VSp2ZVnvpFf0Yeo2aOUv6V9ZDXxcCJ7r4JeMfMpgKvAcfEqK4fgG5m1glYB4wCLi8xZjowGvgGuAT43N0VGJLQFq3bya2TU1myfhfn9mvNhPN607x+zaDLEomKsh7yurDE7e/NrOQ5jagJnxO5GfiU0MeGX3H3dDO7j9AXKqcDLwN/M7NMQnsmo2JVj8iRys0v5Ok5y3nxy5U0qVuDF644lrN7twq6LJGoOtgXG+8EnnP3SIeS8szsdKCOu8+IdmHuPhOYWWLe3cWmc4FLo/28ItH2/aptjEtJZeWWPfwyuT13DD9KzRylQjrYHkoa8KGZ5QILgM2EvinfDTgamAM8FNMKRcqpnNx8HvtkKX/79ifaN6nNm9cM4sRuzYIuSyRmDhYol7j7EDO7jVDbldbALuBNYIy774t1gSLl0dylmxg/JY31u3K5ekgnbjm7O3VqqJmjVGwH28KPNbMOwK+A00osq02oUaSIhG3fk8f9MxYz5d/r6NaiHik3nsCApMZBlyUSFwcLlInAJ0BnYF6x+UboOx+dY1SXSLni7nyUtp57pqWzc18+vzm9Kzed3pWa1dTMUSqPg/Xy+gvwFzN73t1vjFNNIuXKxl253PXBImYt3kjftg1589pBHNW6QdBlicRdWT82rDARKcHdeX/eWh74aAl5BUXcfk5PrjlRzRyl8tJZQpHDsGbrXsZNSeXrFVsZ1KkJj17cj47N6gZdlkigFCgih6CwyHnt69U88elSqlYxHhzZh8uOS1IzRxEUKCJltmxjDrdNTuXHtTs4vWcLHhzZh9YNawddlkjCUKCIHEReQRETv1jBXz9fTr2a1fjzqKM5v38bNXMUKUGBInIAC9fuYGxKKhkbcji/fxvuOa8XTeupmaNIJAoUkQj25RXypznLeOnLlbSoX4uXrkxmaK+WQZclktAUKCIlfLNiK7dPSWX11r1cNjCJ24f3pEEtNXMUORgFikjYrtx8Hvk4g7e/W0OHpnV4+7pBnNBFzRxFykqBIgJ8nrGRO6YsYlNOLted1Ik/nNmD2jXUNkXkUChQpFLbuns/981YzLQfs+nRsj4TrziWo9s3CroskXIpoQLFzB4HzgPygBXAVe6+I8K41UAOUAgUuHtyPOuU8s/dmb4wm3s/XExObj6/H9qdG0/tQo1qapsicrgSKlCA2cDt4UsAPwrcDowtZexp7r4lfqVJRbF+5z7unLqIzzI20b99Ix67uB89WtUPuiyRci+hAsXdZxW7+S1wSVC1SMVTVOS8+8NaHp65hPyiIu489yiuGtKJqmqbIhIVCRUoJVwNvFfKMgdmmZkDL7j7pPiVJeXR6i17GDcllW9XbmNw56Y8cnFfOjRVM0eRaIp7oJjZHKBVhEXj3X1aeMx4oAB4q5SHGeLu2WbWAphtZhnu/s9Snm8MMAYgKSnpiOuX8qWgsIhXvlrFk7OWUaNqFR65qC+/PK692qaIxEDcA8Xdhx5ouZmNBkYAZ7i7l/IY2eGfm8xsKjAQiBgo4b2XSQDJyckRH08qpowNuxg7OZWFWTsZelRLHriwD60a1gq6LJEKK6EOeZnZMEIn4U9x972ljKkLVHH3nPD0WcB9cSxTEtz+gkKenbuC5+Zm0rB2df562TGM6NdaeyUiMZZQgQI8A9QkdBgL4Ft3v8HM2gAvuftwoCUwNby8GvC2u38SVMGSWP69ZjtjU1JZtnE3I49py10jetGkbo2gyxKpFBIqUNy9aynzs4Hh4emVQP941iWJb29eAU/OWsarX62iZYNavPLrZE7vqWaOIvGUUIEicji+ytzCuCmprN22j18NSmLcOT2pr2aOInGnQJFya+e+fB6euYR3f1hLx6Z1eHfM8RzfuWnQZYlUWgoUKZdmpW/gzg8WsWX3fq4/pTO/H9qdWtXVzFEkSAoUKVe27N7PhOnpzEhdT89W9XlpdDL92qmZo0giUKBIueDufPDjOu79cDF79xfyxzO7c8OpXaheVc0cRRKFAkUSXvaOfYyfmsbcpZs5JinUzLFbSzVzFEk0ChRJWEVFzlvfr+HRjzMoLHLuHtGL0Sd0VDNHkQSlQJGEtHLzbsZNSeP7Vds4sWszHr6oL+2b1Am6LBE5AAWKJJSCwiJe+tcq/jR7GTWrVeGxS/px6bHt1DZFpBxQoEjCWJy9i9tSFrJo3S7O7t2S+y/oQ4sGauYoUl4oUCRw+wsKeebzTJ7/xwoa1anOs5cPYHjfVtorESlnFCgSqPk/hZo5Zm7azUUD2nLXub1orGaOIuWSAkUCsWd/AU/MWsprX6+mTcPavHbVcZzao0XQZYnIEVCgSNx9uXwzt09JI2v7PkYP7sCtw3pSr6Y2RZHyTv+LJW527s3nwZmLeX9eFp2b1+XvNwzmuI5Ngi5LRKJEgSJx8cmiDdw1bRHb9uTxv6d24TdndFMzR5EKJuEaIZnZBDNbZ2Y/hv8NL2XcMDNbamaZZjYu3nVK2WzO2c9Nby3ghjfn07xeTabdNITbhvVUmIhUQIm6h/Ind3+itIVmVhV4FjgTyAJ+MLPp7r44XgXKgbk7Uxas474Zi9mXX8itZ/dgzMmd1cxRpAJL1EA5mIFAZvhywJjZu8AFgAIlAazbsY87pqTxxbLNJHdozCMX96Nri3pBlyUiMZaogXKzmV0JzAP+6O7bSyxvC6wtdjsLGBTpgcxsDDAGICkpKQalys+Kipw3v/uJRz/OwIF7z+/NFcd3oIqaOYpUCoEEipnNAVpFWDQeeB64H/DwzyeBq0s+RIT7eqTncvdJwCSA5OTkiGPkyK3YvJtxKan8sHo7J3dvzkMj+9CusZo5ilQmgQSKuw8tyzgzexGYEWFRFtC+2O12QHYUSpNDlF9YxItfruTpOcupXb0qT17an4sGtFXbFJFKKOEOeZlZa3dfH745ElgUYdgPQDcz6wSsA0YBl8epRAlbtG4nY1NSSc/exfC+rbj3/D40r18z6LJEJCAJFyjAY2Z2NKFDWKuB6wHMrA3wkrsPd/cCM7sZ+BSoCrzi7ulBFVzZ5OYX8tfPlzPxi5U0qVuDif8zgGF9WgddlogELOECxd2vKGV+NjC82O2ZwMx41SUh81Zv47aUVFZu3sOlx7bjznN70bBO9aDLEpEEkHCBIolp9/4CHv8kgze+/Ym2jWrzt2sGclK35kGXJSIJRIEiB/XFss3cMSWN7J37+PUJHbnlrB7UVTNHESlB7wpSqh1787h/xhJSFmTRtUU9Jt9wAsd2aBx0WSKSoBQoEtHHaeu5a1o6O/bm8f9O78rNp3elZjX13xKR0ilQ5D9s2pXL3dPS+SR9A33bNuSNqwfSq02DoMsSkXJAgSJAqJnj3+dn8cCMxeQWFDF2WE+uO6kT1dTMUUTKSIEirN22lzumpvHl8i0M7NiERy7uS+fmauYoIodGgVKJFRY5b3yzmsc/XYoB91/Yh18NTFIzRxE5LAqUSipzUw63TU5lwZodnNqjOQ+O7EvbRrWDLktEyjEFSiWTX1jEC1+s4C+fZVKnZlX+9Mv+XHi0mjmKyJFToFQiaVk7uXXyQjI25HBuv9bce35vmtVTM0cRiQ4FSiWQm1/I03OW8+KXK2latwYvXHEsZ/eOdDkaEZHDp0Cp4L5buZVxU9JYtWUPo45rz+3Dj6JhbTVzFJHoU6BUUDm5+Tz6SQZvfruG9k1q89a1gxjStVnQZYlIBaZAqYDmZmxi/NQ01u/K5ZoTO/HHs7pTp4ZeahGJLb3LVCDb9uRx/4zFTP33Orq1qEfKjScwIEnNHEUkPhIqUMzsPaBH+GYjYIe7Hx1h3GogBygECtw9OW5FJiB3Z0bqeiZMT2fnvnx+c0Y3bjqti5o5ikhcJVSguPsvf542syeBnQcYfpq7b4l9VYlt465cxk9dxJwlG+nXriFvXTeInq3UzFFE4i+hAuVnFvqW3S+A04OuJVG5O+/9sJYHZy4hr6CI8cOP4qohHdXMUUQCk5CBApwEbHT35aUsd2CWmTnwgrtPKu2BzGwMMAYgKSkp6oUGYc3WvYybksrXK7YyqFMTHr24Hx2b1Q26LBGp5OIeKGY2B4j0rbrx7j4tPH0Z8M4BHmaIu2ebWQtgtplluPs/Iw0Mh80kgOTkZD+C0gNXWOS8+tUqnpi1lGpVqvDQyL6MOq69mjmKSEKIe6C4+9ADLTezasBFwLEHeIzs8M9NZjYVGAhEDJSKYumGHMampPLj2h2c0bMFD4zsQ+uGauYoIokjEQ95DQUy3D0r0kIzqwtUcfec8PRZwH3xLDCe8gqKeO4fmTw7N5P6tarz51FHc37/NmrmKCIJJxEDZRQlDneZWRvgJXcfDrQEpobfUKsBb7v7J3GvMg4Wrt3BbZNTWboxhwuObsPdI3rRVM0cRSRBJVyguPuvI8zLBoaHp1cC/eNcVlztyyvkqdlLeflfq2hRvxYvXZnM0F4tgy5LROSAEi5QKrtvVmxl3JRUftq6l8sHJTHunJ40qKVmjiKS+BQoCWJXbj4Pz8zgne/X0KFpHd657ngGd2kadFkiImWmQEkAcxZvZPwHaWzO2c+Ykzvz+6HdqV1DbVNEpHxRoARo6+793PvhYqYvzKZnq/pMuiKZ/u0bBV2WiMhhUaAEwN2ZvjCbCdPT2b2/gN8P7c6Np3ahRjW1TRGR8kuBEmfrd+7jzqmL+CxjE0e3b8Rjl/Sje8v6QZclInLEFChxUlTkvPPDGh6emUFhkXPXiF78+oSOVFXbFBGpIBQocbBqyx7GpaTy3aptDOnalIdH9iOpaZ2gyxIJ8930AAAJkUlEQVQRiSoFSgwVFBbxylereHLWMmpUq8KjF/flF8nt1TZFRCokBUqMLFm/i7EpqaRm7eTMXi154MI+tGxQK+iyRERiRoESZfsLCnl27gqem5tJw9rVeebyYzi3b2vtlYhIhadAiaIFa7YzdnIqyzft5qJj2nLXiF40rlsj6LJEROJCgRIFe/MKeOLTZbz69SpaN6jFq1cdx2k9WgRdlohIXClQjtBXmVsYNyWVtdv2ccXxHbhtWA/qq5mjiFRCCpTDtHNfPg99tIT35q2lU7O6vDfmeAZ1VjNHEam8Aun1YWaXmlm6mRWZWXKJZbebWaaZLTWzs0u5fycz+87MlpvZe2YW1xMVs9I3cOZTXzB5QRY3nNKFj397ksJERCq9oJpHLSJ03fj/uA68mfUidMXG3sAw4Dkzi9R291HgT+7eDdgOXBPbckM25+znprcXMOZv82laryYf/O8Qxp3Tk1rV1RlYRCSQQ17uvgSI9FHaC4B33X0/sMrMMoGBwDc/D7DQnU4HLg/Peh2YADwfw3r54Md13PvhYvbuL+SWs7pz/SldqF5VzRxFRH6WaOdQ2gLfFrudFZ5XXFNgh7sXHGBM1OQXFjHmjXnMXbqZAUmhZo5dW6iZo4hISTELFDObA7SKsGi8u08r7W4R5vlhjClexxhgDEBSUlJpw0pVvWoVOjevx8ndm3PlYDVzFBEpTcwCxd2HHsbdsoD2xW63A7JLjNkCNDKzauG9lEhjitcxCZgEkJycXGrwHMhdI3odzt1ERCqVRDsJMB0YZWY1zawT0A34vvgAd3dgLnBJeNZooLQ9HhERiZOgPjY80syygMHAR2b2KYC7pwPvA4uBT4Cb3L0wfJ+ZZtYm/BBjgT+ET9o3BV6O9+8gIiL/yUJ/8FcOycnJPm/evKDLEBEpV8xsvrsnH2xcoh3yEhGRckqBIiIiUaFAERGRqFCgiIhIVChQREQkKirVp7zMbDPw02HevRmhL1UmGtV1aFTXoVFdh6ai1tXB3ZsfbFClCpQjYWbzyvKxuXhTXYdGdR0a1XVoKntdOuQlIiJRoUAREZGoUKCU3aSgCyiF6jo0quvQqK5DU6nr0jkUERGJCu2hiIhIVChQijGzS80s3cyKzCy5xLLbzSzTzJaa2dml3L+TmX1nZsvN7D0zqxGDGt8zsx/D/1ab2Y+ljFttZmnhcTHviGlmE8xsXbHahpcyblh4HWaa2bg41PW4mWWYWaqZTTWzRqWMi8v6OtjvH750w3vh5d+ZWcdY1VLsOdub2VwzWxLe/n8bYcypZraz2Ot7d6zrCj/vAV8XC/lLeH2lmtmAONTUo9h6+NHMdpnZ70qMicv6MrNXzGyTmS0qNq+Jmc0Ovw/NNrPGpdx3dHjMcjMbHZWC3F3/wv+Ao4AewD+A5GLzewELgZpAJ2AFUDXC/d8HRoWnJwI3xrjeJ4G7S1m2GmgWx3U3AbjlIGOqhtddZ6BGeJ32inFdZwHVwtOPAo8Gtb7K8vsD/wtMDE+PAt6Lw2vXGhgQnq4PLItQ16nAjHhtT2V9XYDhwMeEruR6PPBdnOurCmwg9D2NuK8v4GRgALCo2LzHgHHh6XGRtnmgCbAy/LNxeLrxkdajPZRi3H2Juy+NsOgC4F133+/uq4BMYGDxAWZmwOnA5PCs14ELY1Vr+Pl+AbwTq+eIgYFApruvdPc84F1C6zZm3H2Wh67sCfAtoSt8BqUsv/8FhLYdCG1LZ4Rf65hx9/XuviA8nQMsAdrG8jmj6ALgDQ/5ltDVXFvH8fnPAFa4++F+YfqIuPs/gW0lZhffhkp7HzobmO3u29x9OzAbGHak9ShQyqYtsLbY7Sz++z9cU2BHsTevSGOi6SRgo7svL2W5A7PMbL6ZjYlhHcXdHD7s8Eopu9llWY+xdDWhv2Yjicf6Ksvv/39jwtvSTkLbVlyED7EdA3wXYfFgM1toZh+bWe84lXSw1yXobWoUpf9RF8T6Amjp7ush9McC0CLCmJist5hdUz5RmdkcoFWERePdvbRLCUf6C7Hkx+PKMqZMyljjZRx472SIu2ebWQtgtpllhP+aOWwHqgt4Hrif0O98P6HDcVeXfIgI9z3ijxmWZX2Z2XigAHirlIeJ+vqKVGqEeTHbjg6VmdUDUoDfufuuEosXEDqsszt8fuwDQpfojrWDvS5Brq8awPnA7REWB7W+yiom663SBYq7Dz2Mu2UB7YvdbgdklxizhdDudrXwX5aRxkSlRjOrBlwEHHuAx8gO/9xkZlMJHW45ojfIsq47M3sRmBFhUVnWY9TrCp9wHAGc4eEDyBEeI+rrK4Ky/P4/j8kKv84N+e9DGlFnZtUJhclb7j6l5PLiAePuM83sOTNr5u4x7VtVhtclJttUGZ0DLHD3jSUXBLW+wjaaWWt3Xx8+/LcpwpgsQud5ftaO0LnjI6JDXmUzHRgV/gROJ0J/aXxffED4jWoucEl41migtD2eIzUUyHD3rEgLzayumdX/eZrQielFkcZGS4nj1iNLeb4fgG4W+jRcDUKHC6bHuK5hwFjgfHffW8qYeK2vsvz+0wltOxDalj4vLQSjJXyO5mVgibs/VcqYVj+fyzGzgYTeO7bGuK6yvC7TgSvDn/Y6Htj58+GeOCj1KEEQ66uY4ttQae9DnwJnmVnj8OHps8LzjkysP4VQnv4ReiPMAvYDG4FPiy0bT+gTOkuBc4rNnwm0CU93JhQ0mcDfgZoxqvM14IYS89oAM4vVsTD8L53QoZ9Yr7u/AWlAaniDbl2yrvDt4YQ+RbQiTnVlEjpW/GP438SSdcVzfUX6/YH7CAUeQK3wtpMZ3pY6x2EdnUjocEdqsfU0HLjh5+0MuDm8bhYS+nDDCXGoK+LrUqIuA54Nr880in06M8a11SEUEA2LzYv7+iIUaOuB/PB71zWEzrl9BiwP/2wSHpsMvFTsvleHt7NM4Kpo1KNvyouISFTokJeIiESFAkVERKJCgSIiIlGhQBERkahQoIiISFQoUEREJCoUKCIiEhUKFJGAmNlx4WaatcLfCk83sz5B1yVyuPTFRpEAmdkDhL4dXxvIcveHAy5J5LApUEQCFO7p9QOQS6g9R2HAJYkcNh3yEglWE6AeoSsl1gq4FpEjoj0UkQCZ2XRCV27sRKih5s0BlyRy2Crd9VBEEoWZXQkUuPvbZlYV+NrMTnf3z4OuTeRwaA9FRESiQudQREQkKhQoIiISFQoUERGJCgWKiIhEhQJFRESiQoEiIiJRoUAREZGoUKCIiEhU/H/WTje+UDmC0QAAAABJRU5ErkJggg==\n",
      "text/plain": [
       "<Figure size 432x288 with 1 Axes>"
      ]
     },
     "metadata": {
      "needs_background": "light"
     },
     "output_type": "display_data"
    }
   ],
=======
   "outputs": [],
>>>>>>> 5e35b3d6a5413086905fc354a62eb1ac0963ea22
<<<<<<< HEAD
=======
>>>>>>> 48cac5465a8f29650e00b69a478f857b6ad938a9
>>>>>>> 83ee671d6934a1fec629004f868fedf9e8944724
   "source": [
    "# plot f(x)\n",
    "x = np.arange(-10, 11, 1)\n",
    "y = f(x)\n",
    "\n",
    "plt.plot(x, y)\n",
    "plt.xlabel('x')\n",
    "plt.ylabel('f(x)')\n",
    "\n",
    "plt.show();"
   ]
  },
  {
   "cell_type": "code",
<<<<<<< HEAD
<<<<<<< HEAD
=======
   "execution_count": 0,
=======
<<<<<<< HEAD
>>>>>>> 83ee671d6934a1fec629004f868fedf9e8944724
   "execution_count": 4,
=======
   "execution_count": 0,
>>>>>>> 5e35b3d6a5413086905fc354a62eb1ac0963ea22
<<<<<<< HEAD
=======
>>>>>>> 48cac5465a8f29650e00b69a478f857b6ad938a9
>>>>>>> 83ee671d6934a1fec629004f868fedf9e8944724
   "metadata": {
    "colab": {},
    "colab_type": "code",
    "id": "VBkIo2EpKcY3"
   },
<<<<<<< HEAD
<<<<<<< HEAD
=======
   "outputs": [],
=======
<<<<<<< HEAD
>>>>>>> 83ee671d6934a1fec629004f868fedf9e8944724
   "outputs": [
    {
     "name": "stdout",
     "output_type": "stream",
     "text": [
      "f(2) =  2\n",
      "f(5) =  5\n",
      "f(-3) =  -3\n"
     ]
    }
   ],
=======
   "outputs": [],
>>>>>>> 5e35b3d6a5413086905fc354a62eb1ac0963ea22
<<<<<<< HEAD
=======
>>>>>>> 48cac5465a8f29650e00b69a478f857b6ad938a9
>>>>>>> 83ee671d6934a1fec629004f868fedf9e8944724
   "source": [
    "# test the function you defined above by simply print its value for some numbers\n",
    "print('f(2) = ', f(2))\n",
    "print('f(5) = ', f(5))\n",
    "print('f(-3) = ', f(-3))"
   ]
  },
  {
   "cell_type": "code",
<<<<<<< HEAD
<<<<<<< HEAD
   "execution_count": 6,
=======
   "execution_count": 0,
>>>>>>> 5e35b3d6a5413086905fc354a62eb1ac0963ea22
=======
   "execution_count": 0,
=======
<<<<<<< HEAD
   "execution_count": 6,
=======
   "execution_count": 0,
>>>>>>> 5e35b3d6a5413086905fc354a62eb1ac0963ea22
>>>>>>> 48cac5465a8f29650e00b69a478f857b6ad938a9
>>>>>>> 83ee671d6934a1fec629004f868fedf9e8944724
   "metadata": {
    "colab": {},
    "colab_type": "code",
    "id": "4sX3AWgcKcZM"
   },
   "outputs": [],
   "source": [
    "# define integral of f(x)\n",
    "# integral of a function is the area under the curve of this function\n",
    "# it can be approximated by plotting lots of retangles and add their areas\n",
    "# the more reactangles you draw, the better is the approximation\n",
    "# but why do it by hand where python can do a much better job?!\n",
    "def integral(startX, endX, numberOfRectangles):\n",
<<<<<<< HEAD
<<<<<<< HEAD
=======
    "    width = (float(endX) - float(startX)/ numberOfRectangles\n",
=======
<<<<<<< HEAD
>>>>>>> 83ee671d6934a1fec629004f868fedf9e8944724
    "    width = (float(endX) - float(startX)/ numberOfRectangles)\n",
=======
    "    width = (float(endX) - float(startX)/ numberOfRectangles\n",
>>>>>>> 5e35b3d6a5413086905fc354a62eb1ac0963ea22
<<<<<<< HEAD
=======
>>>>>>> 48cac5465a8f29650e00b69a478f857b6ad938a9
>>>>>>> 83ee671d6934a1fec629004f868fedf9e8944724
    "    totalArea = 0\n",
    "    for i in range(numberOfRectangles):\n",
    "        height = f(startX + i*width)\n",
    "        area = width * height\n",
    "        totalArea += area\n",
    "    return totalArea"
   ]
  },
  {
   "cell_type": "code",
<<<<<<< HEAD
<<<<<<< HEAD
=======
   "execution_count": 0,
=======
<<<<<<< HEAD
>>>>>>> 83ee671d6934a1fec629004f868fedf9e8944724
   "execution_count": 7,
=======
   "execution_count": 0,
>>>>>>> 5e35b3d6a5413086905fc354a62eb1ac0963ea22
<<<<<<< HEAD
=======
>>>>>>> 48cac5465a8f29650e00b69a478f857b6ad938a9
>>>>>>> 83ee671d6934a1fec629004f868fedf9e8944724
   "metadata": {
    "colab": {},
    "colab_type": "code",
    "id": "oS70agDbKcZR"
   },
<<<<<<< HEAD
<<<<<<< HEAD
=======
   "outputs": [],
=======
<<<<<<< HEAD
>>>>>>> 83ee671d6934a1fec629004f868fedf9e8944724
   "outputs": [
    {
     "name": "stdout",
     "output_type": "stream",
     "text": [
      "integral(2.0,4.0,10) =  725.7999999999998\n",
      "integral(2.0,4.0,1000) =  7992005.998000001\n",
      "-----\n",
      "integral(-1.0,2.0,10) =  177.45000000000002\n",
      "integral(-1.0,2.0,1000) =  1997997.4995000002\n"
     ]
    }
   ],
=======
   "outputs": [],
>>>>>>> 5e35b3d6a5413086905fc354a62eb1ac0963ea22
<<<<<<< HEAD
=======
>>>>>>> 48cac5465a8f29650e00b69a478f857b6ad938a9
>>>>>>> 83ee671d6934a1fec629004f868fedf9e8944724
   "source": [
    "# calculate integral of f(x) for some startX, endX and a number of rectangles\n",
    "print('integral(2.0,4.0,10) = ',integral(2.0,4.0,10))\n",
    "print('integral(2.0,4.0,1000) = ',integral(2.0,4.0,1000))\n",
    "print('-----')\n",
    "print('integral(-1.0,2.0,10) = ',integral(-1.0,2.0,10))\n",
    "print('integral(-1.0,2.0,1000) = ',integral(-1.0,2.0,1000))"
   ]
<<<<<<< HEAD
<<<<<<< HEAD
=======
=======
<<<<<<< HEAD
>>>>>>> 83ee671d6934a1fec629004f868fedf9e8944724
  },
  {
   "cell_type": "code",
   "execution_count": null,
   "metadata": {},
   "outputs": [],
   "source": []
=======
>>>>>>> 5e35b3d6a5413086905fc354a62eb1ac0963ea22
<<<<<<< HEAD
=======
>>>>>>> 48cac5465a8f29650e00b69a478f857b6ad938a9
>>>>>>> 83ee671d6934a1fec629004f868fedf9e8944724
  }
 ],
 "metadata": {
  "colab": {
   "name": "Calculus - Integral Lab.ipynb",
   "provenance": [
    {
     "file_id": "https://github.com/ikfaisal/dsia/blob/master/Calculus_Integral.ipynb",
     "timestamp": 1552459796323
    }
   ],
   "version": "0.3.2"
  },
  "kernelspec": {
   "display_name": "Python 3",
   "language": "python",
   "name": "python3"
  },
  "language_info": {
   "codemirror_mode": {
    "name": "ipython",
    "version": 3
   },
   "file_extension": ".py",
   "mimetype": "text/x-python",
   "name": "python",
   "nbconvert_exporter": "python",
   "pygments_lexer": "ipython3",
<<<<<<< HEAD
<<<<<<< HEAD
=======
   "version": "3.7.3"
=======
<<<<<<< HEAD
>>>>>>> 83ee671d6934a1fec629004f868fedf9e8944724
   "version": "3.7.0"
=======
   "version": "3.7.3"
>>>>>>> 5e35b3d6a5413086905fc354a62eb1ac0963ea22
<<<<<<< HEAD
=======
>>>>>>> 48cac5465a8f29650e00b69a478f857b6ad938a9
>>>>>>> 83ee671d6934a1fec629004f868fedf9e8944724
  }
 },
 "nbformat": 4,
 "nbformat_minor": 1
}
