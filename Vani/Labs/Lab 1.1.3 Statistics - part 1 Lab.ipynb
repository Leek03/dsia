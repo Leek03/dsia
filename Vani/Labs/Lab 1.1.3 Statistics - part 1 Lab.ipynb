{
 "cells": [
  {
   "cell_type": "markdown",
   "metadata": {
    "colab_type": "text",
    "id": "j2JAe1SsMJZC"
   },
   "source": [
    "![dsia](https://static1.squarespace.com/static/5c4631190dbda3abea29db4c/t/5c465b0dc74c5024875652f7/1549343891985/?format=1500w)\n",
    "\n",
    "# Statistics - Part 1"
   ]
  },
  {
   "cell_type": "code",
   "execution_count": 1,
   "metadata": {
    "colab": {},
    "colab_type": "code",
    "id": "u8uEWYakMJZF"
   },
   "outputs": [],
   "source": [
    "import numpy as np\n",
    "import matplotlib.pyplot as plt\n",
    "# get matplot to show charts inline\n",
    "%matplotlib inline"
   ]
  },
  {
   "cell_type": "code",
   "execution_count": 2,
   "metadata": {
    "colab": {
     "base_uri": "https://localhost:8080/",
     "height": 254
    },
    "colab_type": "code",
    "executionInfo": {
     "elapsed": 878,
     "status": "ok",
     "timestamp": 1560212669479,
     "user": {
      "displayName": "Ibrahim Faisal",
      "photoUrl": "https://lh3.googleusercontent.com/-67DMczu7rgM/AAAAAAAAAAI/AAAAAAAAAAc/6f5FCnBgxFs/s64/photo.jpg",
      "userId": "02685917636347920688"
     },
     "user_tz": -600
    },
    "id": "usCrXBOlMJZO",
    "outputId": "34b15d49-8494-4972-b8c5-64ab2fcbfbe0"
   },
   "outputs": [
    {
     "data": {
      "image/png": "iVBORw0KGgoAAAANSUhEUgAAAXMAAADuCAYAAADLNee7AAAABHNCSVQICAgIfAhkiAAAAAlwSFlzAAALEgAACxIB0t1+/AAAADl0RVh0U29mdHdhcmUAbWF0cGxvdGxpYiB2ZXJzaW9uIDIuMi4zLCBodHRwOi8vbWF0cGxvdGxpYi5vcmcvIxREBQAAIABJREFUeJzt3Xd4XNW18OHfmj4jaSSruVuyjSzLILCwwYHQQy+GUEJCiilJLrmBhJZAyr3xJQ2SfOkhJCEJDqEHkggILWBKMMWAjWUjy73LVVadkabt749zZMu2JEu2Rkdlvc9zHksz+8xZkqWlPfvsvbYYY1BKKTW4uZwOQCml1OHTZK6UUkOAJnOllBoCNJkrpdQQoMlcKaWGAE3mSik1BGgyV0qpIUCTuVJKDQGazJVSagjQZK6UUkOAJnOllBoCNJkr1UsikhSRxSLygYi8LyInHuLrXC8in+vr+Hp47Q9E5OHDfI1iEVl6iOdddTjXVgfyOB2AUoNQ1BgzHUBEzgF+CJza2xcxxtzb14H1hIiUYXXkThGRDGNMSz+HUAxcBTzUz9cd0rRnrtThCQO7AUTkNBF5uv0JEfm1iFxtf3yXiHwoIktE5Cf2Y3NF5Db741dE5G4ReUdEVojIyfbjbhH5sYgstM/9L/vx0SLymv0OYamInGy3vd/+vEpEbu4i5quAB4AXgNkd4u0qhmIRed1+F9LpOxH7+ekdPn9DRI4WkVPtGBeLyCIRyQLuAk62H7tZRI60r7nY/hpLDvU/YzjTnrlSvRcUkcVAABgNnNFdYxHJBT4OTDXGGBHJ6aKpxxhzvIicD3wHOBO4DmgwxhwnIn7gDRF5AbgUeN4Y830RcQMhYDow1hhzlH3drq5zJXAWUArcAHQcbukshu3AWcaYVjvRPgzM3O817wOuBm4SkSmA3xizRESeAr5sjHlDRDKBVuAO4DZjzIV2nL8CfmGMeVBEfIC7u++n6pz2zJXqvagxZroxZipwLvAXEZFu2jdiJbH7RORSINJFuyftf9/DGooAOBv4nP3H420gDygBFgLXiMhcoNwY0wSsASaJyK9E5Fz7uvsQkeOAHcaY9cBLwLEiMuIgMXiBP4hIFfA4MK2T2B8HLhQRL3AtcL/9+BvAT0XkK0COMSbRyblvAt8UkduBImNMtJM26iA0mSt1GIwxbwL5QAGQYN/fqYDdJgEcDzwBXAI818XLtdn/Jtn7rlmAG+0/HtONMRONMS8YY14DTgE2Aw+IyOeMMbuBY4BXgC9j9Zb39ylgqoisA1ZjDRNddpAYbga22a89E/B18n2IAC8CFwOfwB4PN8bcBXweCAJvicjUTs59CGu4Jwo8LyLdvtNRndNkrtRhsJOTG9gFrAemiYhfRLKBj9ltMoFsY8y/gJuwhkN66nngS3aPFxGZIiIZIlIEbDfG/AH4I1YPOx9wGWOeAP4HOHa/WF3AFcDRxphiY0wxVvL91EFiyAZqjTEp4LN0PQxyH/BLYKExps6+5mRjTJUx5m7gXWAq0ARkdYhrErDGGPNLoBI4uiffGLUvHTNXA0bxHc9kAyOxftE97ce3374/+dHapS6snm8Sa8hiF7CjbHl1W1evl0btY+Zg9ZznGGOSwEYReQxYAqwEFtltsoB/ikjAbt/VjcnO3Ic13PG+PZSzA6t3fxrwNRGJA83A54CxwJ/tpA3wjf1e6xRgszFmc4fHXsP6AzS6mxjuAZ4QkSuA+UCns1+MMe+JSCPw5w4P3yQip2P9v30IPAukgISIfIA1HBMAPmN/LVuBO7uJRXVBdA9Q1R+K73imAOtt+lRgFFbSHtnh40LsYYn9/e6lHy2Y0LS9q7ncjVgJbrv97w6gFlgOLAOWly2vbu27r0R1RUTGYA3xTLV78aofac9c9aniO57xYiXsY7DeLrf/O+pQX7MhHhvXzdNh+5jcxfPJ6qlla4ClWMl9GVbPubpsebX2ZPqIvfjp+8AtmsidoT1zdVjs5H0C1qyLs4wx0+3pZX3mh89+d8v0toYxffmaWD34V7CGDeaXLa9e3sevr1S/0p656rXiO54pwUreZxtjTrcXggDQ/Qy9Q+NCkn3+otbskyvsg+qpZbXYiR14sWx59fo0XFOptNFkrnqk+I5nTgQ+bYw5T0Qmtj+ejuTtkNFYKyOvAqieWvYu1tzpv5Utr17jZGBK9YQmc9Wl4juemQB8zqRSV4vLNRmGVPI+mJn2cXf11LKFwF+BR8qWV293NiylOqfJXO2j+I5nQsBlJpW6Fquuhohr2C9HOM4+/l/11LIXgN8BT5ctr9YbfWrA0GSuACi+45kjjTG3gvmEiCtDE3inPMD59rGyemrZL4D7y5ZX93fVQaUOoMl8mCu+45mZJhG7E7f3XGtRyrAZRjlcJcCvge9WTy37A/CrsuXVmxyOSQ1jmsyHqaLbnzrNJBPfc3l8HxVPn84kHG5GAF8HbqmeWvY48OOy5dWLDnKOUn1Ok/kwU3T7UxeQTHxXPL4KTeJ9yoNV4+ST1VPLHgW+pbNgVH/SZD5MFH3tnx/FpH4vHt80NImnkwCfBC6tnlr2W+C7ZcurdzkckxoGBt1dLtm7/+IysfYxvKVDYaG+usYh7W04EE245W+jx3/14adxuf8jHl9ndahVeviArwKrq6eWfaN6alnQ6YDU0Dbokjl7NwY4Emu3lPYdUQYVe3eYtCm+4xnP+Bv/+l1xe9e6g+ELhtH88IEmG/gBsKJ6apkjmzer4WEwJvM9jDHbgS8CN4ilq/0SH7W3wcL+/H4Ruayr9h2JSEBE/izWnoqL7HKeiMjVIvJPEXlORGpE5DsdzvlMhz0Nf9eeuEWkWUTuFJG3gROkk30h+8L4G/56USoWXefOGPFtcXv8ffW66rCMA+ZVTy17rnpq2YT+uGD5vPKLyueVf7I/rqWcN+jHzI0xa+xhlkKsQvud7Zf4CNa+h/+yi0B9DPgSXe+v2LH62Jft65TbGxG8YO9xCNbuMUdhbQO2UESewar1fCXwUWNMXETuAT4N/AXIAJYaY/5XrH0h/8jB94XssfFffWQMmAfdmSNOO9zXUmlzDrC0emrZ14HfpaNyY7ginDHy8pElgXGBB4Ds8nnlFcA3quZU6SKnIWxQ98w7aB9D6Gq/xGeBM+yEfR7wmr3PYFftOzoJaydzjDHLsXaTaU/mLxpjdtmv9aTd9mPADKzkvtj+fJLdPom1dRj0fF/IHhlz7W8+L17/SncwfNrhvI7qF1nAb4F/V08tm3iwxr0RrggHXQHX/3pyPC9hDfGANXXyqfJ55Rl9eS01sAz6nrm95VQSa3OC9v0Sn++k3StYvaIr2bsbeaftRaS446fdXH7/XpWx288zxuy/ywtAq70jDcaYhIgcj5XsP4m1S3qv9z4suPjrWb6RRzzuKyw+p7fnKsedAVRVTy37Jtaio8PqpYcrwgJ8tuDCgis8mZ7c/Z4+H3i5fF75BVVzqnYeznXUwDSoe+YiUgDcC/zaWIXZO90v0W7+CHANcLLdjoO0b/ca1jAJ9vDKBKDGfu4sEckVkSDWVl5vYO14frmIFNrn5Nr7Ne4f++HsCwnAqKt+eHqguGKVN3esJvLBKwP4BfBi9dSywsN8rTNGnDLiC4Fxga56+8cD/ymfV94vY/aqfw3GZB5sn5oI/Bt4Afg/+7n7sPYZfN+eWvg79r77eAFrD8R/G2NiPWjf7h7ALSJVwKPA1caY9n0n/4M1BLMYeMIY864x5kPg21hj60uwdizvbH/FLOBpu82r9GJfyFDJLNeYa371M//YaS+6g+HDTQBqYPgYsKh6atlJh3JyuCI8JTQldFvW9KxjD9K0FFhQPq/8qEO5jhq4dKehQyQiVwMzjTE39Od1Cy/9dpFv1BFPecIF5f15XSfd/ez3Nh7dVj/e6Tj6SQI4r2x59b97ekK4IpzrzfP+ZNSVo650+VyhHp62G7ioak7VG4cUpRpwBmPPfNgquPj2c/0TyhcPp0Q+DL2LNbTXI+GKsE+8ckPBRQUX9CKRg1VT5oXyeeUn9zpCNSBpMj9Expj7+6tXHiqZ5Sq45BvfCpbM+oc7kHnYUxjVwBRNpSLA5WXLq2MHbcyeG55X5J+Xf5U3x3sow20h4OnyeeXHHcK5aoDRZD7AhUpmBbKOvfD+0JQT73R5/LoAaIhKGWPejkS+Xra8enMvTjsh+/js/w5NCpUexqXDwHPl88r13d4gp8l8AAuVzMoNz7r8X8GJx35WXLpbxFC2pLX14cca6u/paftwRbgoUBz4evas7OP74PK5wIvl88qnHLSlGrA0QQxQmeUfm5B90qdfCYybdrrTsaj0WheLVf2+btc185uaejQbIVwRznKH3V/LPyf/DHFLX60VGQm8VD6vvLiPXk/1M03mA1Dm0WdNyz7hE6/6R07Wt75D3O5kou6V5uYL5zc19XSc3I3whcKLCi9xB91ZfRzOOOD58nnlel9mENJkPsBklJ1yXPj4S5/x5o4rdjoWlV6xVCr+ZkvkU3dv37ahF6ddlHd23tW+At/YNIU1BXisfF55Wqt6qr6nyXwACZV+9ITsEz7xiC9/QrHTsaj0MsawMBr93q1bNr/Q03PCFeFjso7O+krG1Ix0v2M7C/h/ab6G6mOazAeI0JQTjs0+4Yp5vsKJkw7eWg12H7a1/evB+t3f62n7cEV4tH+0/xs5p+R8tJ9q03+1fF755/vjQqpvaDIfAEIls8qzZ13+oH9Uyf4VG9UQtCUeX/NkQ/0n5jc19agkbbgiHHQFXTfnX5B/tsvj6s89/+7RRUWDhyZzh4VKZk0LH3/pg/6xU6c6HYtKv8Zksun1luYLHtq9u6Un7cMVYRcwx66EOCLN4e3PCzxRPq98XD9fVx0CTeYOCpXMmpI146IHAuOP0lkrw0DCmOQ7kcgX5m7durwXp5054tQRnw+MDRSnK66DKAD+Uj6vXHPFAKf/QQ4JlcyaFJpy4m+DxRUHq3Knhoj3o5Hf3Lh506M9bR+uCJdmTM24pQeVENPtdOA2h2NQB6HJ3AGhklljfSMn35Ux7bRTnI5F9Y8VbW1v3L979y09bR+uCOd587135J6Re4oMjN24v1c+r3yG00Gormky72ehklmZ7owRt4eP+/i54vYM+p2e1MFtT8S3PNfUOHt+U1OyJ+3DFWGf+OSGggsLznf5XMF0x9dDXuDB8nnlvanMqPqRJvN+FCqZ5cbl+WL2CZ+4zOUP9fXqPTUARVKp6BstLZf8dufOup60tyshXnkYlRDTqRT4udNBqM5pMu9fs8PHXfJ5T/bIMU4HotIvaUzq7UjLrd+srV3Yi9NOzJ6V/aXQxNBALXr1hfJ55Wc7HYQ6kCbzfhIqmTUjVHrSrYFx08qcjmUo+FZtLSetWsnstWv2PFafTHLdxg2cu2Y1123cQEOy81GNLfE4n9+4gQvXruHCtWvYHLfKonxtyxYuWbuWn+3Ysaftb3fu5KWmpkOKcUlr9KHHGxru7Wn7cEW4OFgc7KtKiOn06/J55VqOeYDRZN4PQiWzxnsLJ30zY9qps5yOZaj4eHY2vx+3705y9+3axUdCGTw3aTIfCWVwX92uTs/9Ru0Wrs3N4+mJk3i0qJhct4ea1lYA/jFxIu9FIzQlk+xIJKhqjfKxrN6PiK2NxT74Q13ddb2ohBj2hD1fyzsn73RxyUCvi1IC3O50EGpfmszTLFQyKwuX56bwjItOEZdbb3j2kZmhENnufX98X25u5pLsbAAuyc7mpabmA85b1dZGEjgxIwOADJeLoMuFR4Q2kyJlDHFjcInwq507uCG/oNex1SUSO19pbupNJUQPLr5YcFFBOiohpss3yueVa+mJAUSTeRqFSmYJcHVWxfmnuUPZ+U7HM9TtSiYosCcIFXg81CUTB7RZF4uR5XLxlc2buHTdWn68fTtJY5js9zPa6+Wy9es4NyuLDbEYBpgWCPQqhrZUKvZWJPKpH23fvqkXp12cd3beHF+BbzDdSwkAv3Y6CLWXJvP0Ot5bOPGsQNHR050ORFmSGN6LRvlaQSGPFRWzKR7jHw0NAHyjcCR/L57INbl5/GrnDm7Mz+feXTu5ectmHq+vP+hrW5UQI3feumXzv3saT7giPD3rmKwbM6dmHnXoX5VjziufV36p00EoiybzNAmVzMrF5bk2POPiWSK65Vt/yHN72JGweuM7EglyOxnVGuXxUub3M97nwyPCxzKz+LCtdZ82LzU1cWQgSCRlWNXWxs/GjKWysYFoqvu6WMvaWp9+qL7+hz2NN1wRHu0f4//miJNHnNDTcwagn5TPK/c6HYTSZJ4W9vDKZ7OOvWCmOxQeaHOFh6zTMzP39LL/0dDAGZmZB7Q5KhCgMZWizk76b0UiTPbtnZgRN4a/1u/m2txcWlMpBGvxpbGf68rmeGzVg7t396YSYsgVct2af37+meKR/qyE2NcmAtc6HYTSZJ4ux3sLJ50ZmFCuwytpctuWzXxq/XrWxWKcvnoVT9TX84W8PBZEWjh3zWoWRFr4fF4eAEtbo/zP1loA3CJ8raCQazdu5OK1awHD5Tl7d0l7ePduLg5nE3S5KPX7MRguXruWimCQsLvzSSaNyWTjq80tF/6joSHak9g7VEK8zIFKiOnwbZ2q6Dwx3fQ2VO9ZwyvuH+Sde+Ol7mC491Mh1AHufvZ7G49uqx9/8Jb9L25M4pXm5k99ZfOmv/X0nHBF+JwRp434QXh62OkCWn3ppqo5Vb9wOojhTHvmfah9eCVj2mlHaiIfHt6PRn7Vy0Q+NWNqxi1Zx2RVpDMuB3xD67Y4S5N53zpWvMFZwUkzh9ovqurEirbW1+bt3v21nrYPV4Tz7UqIJw+QSoh9aSRwo9NBDGe6iKWPhEpm+YFPZ00/t9jl9Wc4FUeicQc7n/kpyebdiLjInH4O4ZkXs3v+n4isegdxe/DkjCL//JtwBfa9QRjftYkdlXfvfa36reSc9BnCx13M7lf+THTNe/gKJ5J/4a0ANC99mVRrE+GZF/fr1zgQbE/EN7/Q1HRJLyoh+sUnNxZcNKAqIfa128rnlf+iak5V68Gbqr6mybzvnOTOGDHGP7bM2ZrPLjcjTr8O/6gjSLVFqJ13E4HiCgLF08k5dQ7icrP7lT/T8NbjjDjtmn1O9eaNY8w1vwLApJJsumcOoSknkGproW1zNWOu/TU7nvoxsR3r8OSMpmXpvym84k4nvkpHRVKpyBstLZf8ZufO3T1pb1dC/GTB+QWf8mZ7h/LwWz5wFfAnpwMZjnSYpQ+ESmZlApdnVVwwRdweR6eZeTJz8Y86AgCXP4Q3bzzJpl0EJx6LuKzZGP4xpSSadnb7Oq3rP8CbMxpPdiEgmGQCYwwmEUNcbhrfeZKsGbORYVahIGlM6q1Iy83frK19txennZT9kezrg8XB4bBhtw61OESTed84x5M7rsBbWHyM04F0lGjYRmzbGvxjSvd5vHnJiwQnzez23Jbq1wiVWRshufwhQqUnUnv/V/Bkj0T8GcRqVxAq+UjaYh+oPmiNPvC3hoY/9LR9uCI8MTgx+LXs47OPS2dcA8j08nnlvd5BS0SSIrJYRJaJyAcicouIdJufRKRYRK46hGt9y77OEvuaXRbAE5GZIvLL3l6jw/nf3O/zBb1p3xvDq1uVBqGSWfnA+VkV5x01kFZ6pmJRdvz9B+R+7Au4/HsnGTQseBRcbjKmndbluSYZJ7rqHUacOmfPY9mzLid71uUA7Hr2l+Sc/BmaPnie1rWL8BYWk3PiJ9P2tQwUa2Nti++rq/tiLyohZnuyPbcPkkqIfekrwGu9PCdqjJkOICKFwENANvCdbs4pxhrWeainFxGRE4ALgWONMW0ikg90+W7aGPMu0Jt3Yfv7JvCDDq93Ym/a98aAST6D2MW+UUfkenNGlx68af8wyQQ7/v4DMqadRqh0789Oc9VLRFa/Q/5Ft9HdZIromvfwjZyMO+PA9SyxbasB8IwYS8vSlym45A7iO9YTr9vc91/IAFKXSOx8ubn5gkOohHiRO+A+cCnq0HZJ+bzyQ14XYIzZDnwRuEEsxSLyuoi8bx/tP9R3ASfbveubu2nX0WhgpzGmzb7WTmPMFgAROU5EFtjvDN4RkSwROU1EnrafzxCRP4nIQhFZJCIX249fLSJPishzIrJSRH5kP34XELTje9B+rNn+d7SIvGY/t1RETt6/vX29Z+x4lorIld1937RnfhhCJbMmACdnTD15stOxtDPGsOvZX+DNG0/4+I/veTy65j0a3/4bI6+6C5e3+0qALR++SkZZ5++U61//K7nn3ACpBBh75bq4MIm2PvsaBhq7EuKVP9m+fUsvTrs4/5z8Ob78QVUJsa+4geuBbx3qCxhj1tjDLIXAduAsY0yriJQADwMzgTuA24wxFwKISKiLdh29APyviKwA/g08aox5VUR8wKPAlcaYhSISBvZf0fst4GVjzLUikgO8IyLtRdWmAxVAG1AjIr8yxtwhIje0v+PYz1XA88aY74uIGwgZY17v2F5ELgO2GGMusD/P7u57pj3zw3OhOzNPPCPGTnM6kHZtmz+kZdl8WjcsYcufb2TLn28kunohdS/eSyoWZduj32bLn29k1/NW9dJE0y62Pb73nWwq3krrusX79OjbRVa8iW9UCZ6sPFyBTPxjprLlj18GAV/h0CxtnTLGvBONfOfWLZtf7uk54YrwjKyKrK9klGYcmc7YBrjPls8rP9y59O3ne4E/iEgV8DjQ1e/bQdsZY5qBGVg9/x3AoyJyNdb+prXGmIV2u0ZjzP41lM8G7hCRxcArWGWAJ9jPvWSMaTDGtAIfAkUH+doWAteIyFyg3BjT2XZWVcCZInK3iJxsjGno7gW1Z36IQiWzCoCZGUeePlFcrgEzHhoYdyRFtz99wONjJ3d+/82TlcfIK/5vz+cub4DxX32407ahKScQmrK3wN+IM65jBNcdZsQD27K21qcerq+/+4s9bB+uCI/xj/XfPuKjg7oSYl8YD5yKlfR6TUQmAUmsXvl3gG3AMVgd0K7msd/ck3bGmKQd1yt24p8DvI9VT63bsIDLjDE1+8U6C6tH3i7JQXKrMeY1ETkFuAB4QER+bIz5y35tVojIDOB84Ici8oIxpsu5wNozP3Sn4PaKf9QRzs4rV2mzKR5b8dDu3Z/sxQ3PDHeG+9aC8wvOEo9oWVj4zKGcJCIFwL3Ar41VPCobq9ecAj6LNYwD0AR03Jmpq3YdX7vUHoJpNx1YDywHxojIcXa7LBHZPyE/D9zYvnpXRHqy0jsucuDPgogUAduNMX8A/ggcu397ERkDRIwxfwV+0qFNpzSZH4JQyawgcFbGtFMLxOPTehRDUGMy2fB6S8sFvaqEKFxdcGHBZe4Md87BzxgWLu1FrfP2G3/LsMayXwDa3zLeA8wRkbeAKUCL/fgSIGHfILy5m3YdZQLzRORDEVmCNRQz1xgTA64EfiUiHwAvYg2jdPRdrKGcJSKy1P78YH5vt39wv8dPAxaLyCLgMuAXnbQvxxqXX4w1Xv+97i6kVRMPQahk1inANXnn33yeO5g10ul4hrr+rpoYNyYxv7n5yq9u3vRkT88JV4TPyz099/tDsIDW4Tq/ak7Vs04HMRxoz7yXQiWz3MCFgaLpIU3kQ9N7kcjPe5nIp2WUZdyUeXSm1q8/0BVOBzBcaDLvvalAQXDSjAEzg0X1nZq21lf/Ur/7jp62D1eEC7wF3jtyz8g9pX0sVe1jdvm8cs0z/UC/yb13nnj8rZ6ckQNmkZDqG1vj8U1PNzb2thLiVwovLDzP5XV1P3l/+MrDmn+t0kyTeS/YS/ePDB5xfJ64PDpbYQhpSaUiCyItF9+3a1d9T9rblRA/VXB+wZWebE9+msMb7M5yOoDhQJN57xwFGP/oKTrEMoQkjUm9E2n56rdqa9/vxWmn5JyYM1wqIR6uM50OYDjQZN47p4rX3+zJGTnF6UBU31kcjc57vKHhjz1tH64ITwpOCt4WnhnuvvSkandS+bzyobohx4ChK0B7yB5iKQ5OPj6kQyxDx5pY2/t/3F33X71YGJTjyfF8Pe/svNPSUQlx0x830bS4CU/YQ8n3rU5/dH2ULfO2YOIG3DDmc2MITdp3eUN0fZQtf9lCKpoCFxReVEj2LKuUx8Z7N9K6qZWs6VmMunwUANv/uZ3A+ADhY8N9/SV0xg+chDV3W6WJ9sx7zhpiGVM6nOttDCm7EokdLzU1XzC/qSnek/bhirBH3HJ9OishjjhpBMW3Fu/z2NbHtlJ4SSFHfPcIRn58JFsf3XrAeS6/i3FfGEfJD0oovrWY2odqSbYkad1orWgv+V4JkRURkpEk8fo40TXR/krk7XTcPM20Z95z1hBLdqEOsQwBralU25uRlk/8dMf2AzNj1z6ed07eZ3156auEmFGaQWzHvlV2RcTqcQPJaBLviAPfGPpH+fd87B3hxRP2kGhKgBtM3GBSBpMw4ILtT26n8NLCdH0JXRnutWrSTnvmPbBniGXSzAIdYhn8UsaYhdHI/3xty5ZXenpOuCI8M+vYrBsypmT0+83vUVeNYuujW1l+y3K2PrKVkZd3v1YtsiaCSRh8hT4CYwJ4c72s/s5qso/LJrbN+kMRLOr3Iexj+qCKouqG9sx7phww3vwJxU4Hog7fstbWfzxcX/+TXlRCHOsf51wlxLqX6xj1qVFkH5dNwzsNbP7TZiZ+fWKnbeP1cTb9fhPjPj8OcVm5c/SnR+95fv3P1jPm6jFsr9xO68ZWMo/MJPe03P74MrKAEmBFf1xsONKeec+cCDR6woUTDtpSDWgbY7Gahxvqr+plJcTbCs4rOFPczlRCrH+jnvBMa3w7fFyY6JrOa38lo0nW/2w9Iy8dSeiIA+u/Nb7fSHBikFRbirbNbUz48gTqF9STakulNf4OdPFQGmkyP4hQySw/MEn8GVFXMDz6oCeoAashmWx4taX5gr/X13dVD3sfdiXEawouLLjUyUqI3hwvLcutAoAt1S34Rh64ZWUqkWLDLzeQc2IO2ccfuCGNSRh2vbiL/PPyScVSe7d9MNZz/USTeRrpMMvBjQMIjC0bq7U3Bq+4MYm3Iy1Xf3+bvYlpz5yXe0budf7R/n57R7Zs1CzfAAAgAElEQVTxtxtpWd5CojnB8puXU3hJIWOuGUPtg7WQAvEKY68ZC0B0bZS6+XWMvXYsje800rKihWRzkvr/WItYx35+7J6x8V0v7SLnozm4/C4C4wNgYOW3V5J1dBbujH7bW6Xbetzq8GgyP7hiQLwFxTrEMoi9F4n89KubN/+jp+3DFeEjM6Zl3JR5VOYx6Yxrf+O/1Hml3yP+74gDHgtODDJ2opXYc07MIefErt885J+zt+KAiHR5nTTTnnka6TDLwR0NNHuyRx5sTz81QC1vbZ3/l/rd3+xp+3BFuMBX6Lsj9/Tck/TdWJ/KL59X3q+T24cTTebdsGuXT8XtaXZn5Ix1Oh7Ve1vj8Y3/aGzoTSXEgMvvuqnggoJztRJiWminKE00mXdvNODxj5laIC63zi8fZFpSyZYFkZbZ8+rqGnvS3q6EeFX+Bfmf0EqIaaPDlWmiybx7EwDx5o7TWSyDTNKY1NuRyI3fqq1d3IvTTs35aM4XgxOCBw5Qq76iPfM00WTevaOAVndWnvbSBpnF0eif/tbQcH9P24crwpODk4O3hWeEj0tjWEp75mmjybx7k4EmdzCsyXwQWd3W9u4fd9f9dy8rId6ef3b+aeIS/Z1IL+2Zp4n+4HYhVDLLCxQAra5AVoHT8aie2ZVIbH+5ufmiXlRC9IpbvlRwUcGFLr8rI93xKRyZEzkc6DzzruUDqRxf0v2E6/am1W0j61amxskKV7FvlWty5hbP6CzRTtyAYldCvKKnlRDtG56X5p2T9xlfnk/vi/QPx1bSDnWazLvgIzbKRyJv5oi457jMHWOPYwewdM/z8RSJHbFA48Z4dnR1qjC+0oxzraTYt8ozKaPWrYm+v6WMMe9EIt/62pYtr/XitJnhGeEvO1EJcRhLSx14pcm8S8fImiLBFB3td3VaUs7rwjMm0Jo7JtDKLLYBVXuei6Ukvj3mb9wYz4muThYmVprxrhWuYt9q96TM7Z7R+sOcBktbW598pKH+p//Vw/bhivC4wPjA7Tkn5nwkrYGp/enPf5poMu9CtkRCwMITR3nHgbdXN218LuMdF2jNGxfYyglsBZbsea4tKfHtcbtHnxyZWMl4V41M9K92T8rc6RmpY7aHYGMstvzeul2f6cUNz0x3hvu2/PPyHauEOIxpMk8TTeZdGw20FoRcfTrG53cb73h3NG98IMqJbAU+2PNcW1Ji22KBpg2JnOjq5KjECjPetdI10b/aMzFrl7vwwJqmioZksv6Vlubz5zc19a4S4kUFH3eH3AeWF1Tp5i+fV+6pmlOVcDqQoUaTeddGAdEMH/3WW/a7jW9CMJo3gSgnUQss2vNca1LatsWCTRsSOdFVyVHJlYx3rZRi/2rP5Kw6d/6wTPRxYxJvRVo+94Nt29b24rTzc8/IvdY/qv8qIaoDZAG7nQ5iqNFk3onZpV4XkAts8rvlwOLRDgi4jb8oGPEXEeFktgDv73kumpS2rbFQ44b4iNbVqZGplYx3rZBJ/tXuiVn1nrx+3x+sv7wbifz4ps2bn+pp+3BF+KjMIzP7vRKiOkAITeZ9TpN55wJY5fuN182ASObdCbqNf2KwpWBisIVT2QS8t+e5SMLVujUebNoQH9G6KjUqudJMcK9wT/Svdk0KN3pGDNpCUtWtrS89UL/729f2sH24Ilzo8ru+mn1i9nSthOi4HhU9U72jybxzPsAA+AZBMu9OyJMKTPK0BCYFWziNTcC7e55rSbhat8ZDjevjI9pWpUYnVzLevdI1MbDaPSmryZ0zYBP91nh8/VONjR+f39TUo/3OwhXhAPDlVFsqsfkPm38dGBfIC04KFvlH+Ys8uZ4id0DHzvtZzOkAhiJN5p3bk8C9rsGdzLuT4UkFJnuaA5ODzZzBRuCdPc81J1zR2lioaX0it3V1anRqBePdK2VScLVnUlaLO+x3KubmZLLljUjL7D/X7WrqxWmzgGlAA5DZuqm1rnVT6y7ssSrfSF926IhQkX+0v8ib6y1yh9x5aQhd7aXJPA00mXduT8/cO0DGzPtbpicVLPE0B0to5kw2AG/vea4p4Y5sjYWa1yVyW1elRqdWMMG90jUpuMY9MRxxZ6Xt+5UwJvV2NPLlb9fWLjl46328A9wJTAGmYy0pN/bRGNsWa4xtiy3BnkPqzfVmhEpCRf4x/iJvnrfIneEeqSMzfUqTeRpoMu/csOiZH6osTzKU5WkKldDEWawH3trzXFPcHdkSz2han8htW5kanVrJBM9K16TAas/E7FZX5mHN6V4cjf7hiYaGv9zQy/MaFzVGsVZ1VQFPhCvCGVjV+47A2sqsGPuPN9AUr4s3Nrzd8CHwIYA7yx3ImJIxwT/WX+TL9xW5M92jtSDXoauaU6XJPA00mXduTwL3uNBFJb2Q5U2GSr2NoVIaOZt1wJt7nmuIu1u2xDOb1ydy21alxpg9PXrPxHCbK9Tl9zlpjG91W9s7f9pdd2NPFwZ1p3FRYwtQbR9P2WPqE7CqZB6DleTFPpqTTcmGxvcaV/AeKwBcIZcvY0rG+MC4QJE331vkCXvGikv6bVfkQa5HBdBU72ky75wPEAHcmsz7TLY3mZHtbcgoowFYC7wBgDHQkPA0b4lntKyP57WtTI1OraDIvzo5Jm9tcKprnS+jbltzU48rIfZW46LGVmCFfTwbrgj7gHHARKzkXor1uyJAJBVJNTQtblrdtLhpNYB4xZ0xJWNcYEKgyFfgK/Jke8bJMB2e64EeLe5SvSfGHHZHZ8iZXeqdCfy3x8XGJ68M/a/T8QxnxhgSKdnodTMfeA14jbkNK/szhnBF2AOMwRqOOQbrZqofO7lj3VjdO3TgxhU6IjQ6OCFY5BvpK/LkeCa4PLqfqG1V1ZyqEqeDGIq0Z945HyCJFCaRMgmPS/T75BARwetmPPA5+4C52bXA67Qnd1jK3Ia09UoaFzUmgA328Vq4IuzCWiFcBByNtSNVCCu5t5GkIVIT2RypiWwGFiBIcGKwMFhsJXfvCG+Ryzdsa6f3qDyx6j1NUp3bM3UhkSLmcen3aYAZDXzCPgDqmJvdMbkvYm5D2hamNC5qTAFb7ONNuy56AVbP/UisBF9oN49jaIiuiW6Lroluw57/GRi/d667d4S3yBVwDZe57prM00STVOdi2LMb4kliAQ/DsvbJIJILXGwfAE3MzV7A3uT+DnMb0jaDonFRowG228c7dnLPxeq5l2El9wlYP1MpoKF1Y+uu1o0d5rqP8mWHjggV+0fZ0yGD7k5LLw8BtU4HMFRpMu/c3mSeMm0dOupqcMgCzrEPgFbmZr+NldhfBd5kbkMkXRe3k/su+3gfeDBcEc7GSu7tc93bC32lgMbY1lhjbGvsA+wymt48b+aeue653iJ3hrtwiMx11555mmgy79yeZB5L6gKHISAAnGof/wPEmZv9Hnt77v9hbkNDOgNoXNTYgLUoaQnwt3BFOBMroZewb3IHaIzvijc17GpYBiwD8IQ9wdCU0L5z3QdndteeeZpoMu/cngQe12Q+FHmBj9jH14EUc7OXsDe5v8bchh3pDKBxUWMz1qKkD4F/hivCQayVqUdgJfdJ7J3r3pRoTDQ2vttYw7vUwKCe677J6QCGKk3mnWtr/0B75sOCCyuBTge+AsDc7Gr2JvdXmduwOZ0B2KtU2+e6/8ue6z4ea677dKzhGTdWcm85YK67TzwZUzLGBsbvmes+foDuolTtdABDlc4z78TsUm8h8ENg411n+i+ZVuDW+tdqLfv23Ff158Xtue5j2TvXvQx7Ci0Qpau57kXBYl+hr8iT4xk/AOa6N1TNqerTnbvUXtoz79yeX4ponKiTgagBY6J9zAFgbvYW9s51fxX4sB/muq+3j1fDFWE3nc91B2uue32Hue5vIEhwUnDknrnuOd4JDsx1/7CfrzesaDLvXAx7Csv2ltRu692tUvsYA1xpHwA7mZv9H/b23henea57EthsHwvs6ZCFWMn9KKwEP9JuHsdQH10d3RpdHd2KXQIzMCGQH5wULPKPtGbMuPyucLritS1L8+sPa5rMO9eGNZtFNjWaXU4HowaFfOAS+wBo3G+u+8J+mOu+zT7a57rnsXeu+zHsO9e9vnVD687WDa07sbem8o/25wQnB/fWde/7ue6azNNIx8y7MLvU+yPAlOW7AnefFfiK0/GoQS+KVSu4Pbm/ydyGfh3CC1eEc7CSeylWch/N3rruDUAze0sB7zPX3ZfnK3aFXAWHORvy7Ko5VS8ezguormky78LsUu9XgckeF7sfvyL4bbfWr1Z9K461h1/Hue6N/RlAuCKcxYFz3dsTQiPQhNWLB8CT7QmGpoSKAmOs6ZDuTPeoXs51H1U1p2pbH4Wv9qPJvAuzS72XAucBmx/4ePCG7IDoVmIqnZJYC4pexUrurzO3YWd/BmDPdW/ftOMYrPru7ZqxEvye+wCukMuXUZoxITA2UOQt8BZ5sjxjupnrvrpqTtUR6Ypd6Zh5d2qx73zubjV1msxVmrmxdj2qAG4CTCdz3bekMwB7rnuNfTwTrgj72Xeuewn7z3Vf1LSqaVHTKgCX3+UJlYT21nUPe8Z1mOv+RjpjV5rMu7ML+y3mrojZVZyD1mBW/Umw6qZPA64HYG72GvZN7mvSGUDjosY2YJV9vBiuCHux5rpPxJotU4a1mlaAaKotVd+8tHld89LmdQDiEVegKFCRMytnna/Q93Q6Y1U6zNKl2aXefOBuYOP1M73HnV/iPd/pmJTazyY61nWf29Cv87jtue6j2Xeue4D2uu5QjzVd8luNixq1wFaaac+8a7vtf2VdvenXsUulemgc8Cn7gLnZO4D957qnujz7MNlz3TfZxxv2ph37z3XfhlUaWKWZ9sy7MbvU+0PAne0nMe/jwTtcg7NKnRq+GrDGqtuT+7vMbei3DZXtue5ue/WqSjPtmXdvE1DW0MbOXRFTW5AhY5wOSKleyAbOtw+ACHOzO851fyudc93thUyayPuJJvPuLQVmAKyrN+sLMtBkrgazEHCGfQDEmJvdPtf9VeAN5jY0ORWcOjyazLu3DnsRxYc7kuuPG+s+wdlwlOpTPuBE+7gDSDI3ezF7e+6vM7dBy1kMErqqsXubsRZJuF/fkFyv9xfUEOfGeid6M/B3rJkyapDQZN6Nypp4AmuzgPD2FtO6u1XvyqthZb7TAaie02R+cIuxNghmQ0NqvcOxKNWfXnI6ANVzmswPbi32uHn1Dk3mangwxqSAV5yOQ/WcJvOD24iVzF2vb0isS+nAuRoe3mduQ53TQaie02R+EJU18RiwGghvajQtW5uN9s7VkCcijzsdg+odTeY9swgIA7xfm1zqcCxKpZWx3n0+4nQcqnc0mffMEuw9QStrEh8mUyZt9S6UcpqxdkHa4HQcqnc0mfdMLbAFyNrabKKbGk1aS48q5SSXyMNOx6B6T5N5D1TWxA3Wnf0cgIVbklWOBqRUmhhjkoCOlw9Cmsx77gPs79dTNfHliZTRAkJqyDEwn7kNuk/nIKTJvIcqa+LbgfVA9u5WYuvrzUqnY1Kqr7lEHnI6BnVoNJn3znzsoZa3NiV0VosaUowxMeBJp+NQh0aTee9UYS0gkqdWJFa0JkzE6YCU6isGKpnb0OB0HOrQaDLvhcqaeB1W4a2cSJzEu1uS7zgdk1J9xSXyY6djUIdOk3nvvYy9gOiBD+IL9UaoGgraEuZt5jZo52QQ02Tee4uBZiBY22wiy7anFjsdkFKHy+vme07HoA6PJvNesmu1VAIFAI8sjb+pxbfUYBZLmtUukWecjkMdHk3mh+ZNrI1qvct2pOrW7jbLnQ5IqUPlFn7A3AbtkAxymswPQWVNvBl4ERgF8I/l8QXORqTUoYknzQ63S/7qdBzq8GkyP3TzsYpvuV5dn9y0tTm10emAlOotEX7G3IaY03Gow6fJ/BBV1sR3Yg23jAR4blXiP85GpFTvJFOmxeOSe5yOQ/UNTeaH5wXAD8iT1YkVW5p0Wzk1eMSS3KWLhIYOTeaHZwOwDHtmy58XxZ/VmS1qMIjETW3QKz9yOg7VdzSZHwa7NO7jQBBwvb05uW3Z9tT7Doel1EFF4uYWHSsfWjSZH6bKmvg64FVgDMBvFsZejiVNm6NBKdWN+lbzXv6PmnRbuCFGk3nf+AeQBPxbmkzk1XXJV50OSKnOpIxJAdc5HYfqe5rM+0BlTbweeAJ73vnv3ou9Xd9qdjkblVIHqouaR3LuavzA6ThU39Nk3ndeAXYC4ViS1JPV8ecdjkepfbQlTEvIKzc4HYdKD03mfcSu2fJXIA/gH8sTK9fXp3Q3IjVgNLaZ74W+37jb6ThUemgy71tLgKXYC4l+/lbb020J0+psSOmXTBkqftfMhQ9Ze3W8tCbBsb9rZvq9zZz0pxZW1aUOOGddfYrg9xuZfq/V7vqnowC0JQzn/rWFo+5p5p6FeydbfPGpKItqk/3zBQ1BOyOpJQUZrrudjkOljybzPmRPVXwYCACe1btN41MrEs86HFba/eLtGGX5e3+UvvRMKw9eGmTx9ZlcVe7le691Prln8ggXi6/PZPH1mdx7YRCA51cnmDHazZIvZfD796xk/sHWJCkDFaPd6f9ihqBo3LRuaDCXajGtoU2TeR+rrIlvwprdMg7gLx/El6yuS1U7G1X6bGpM8czKBJ8/1rfnMRFobLPyRkOrYUyW9Pj1vC6IJiDRoTP/P/PbuPN0f5/FPNws25H65rG/a17tdBwqvTSZp8e/gHVAPsCP3mh7OhI3zY5GlCY3PdfKj84M4OqQr++7KMD5D0UZ99MmHlgS546TOk/Ea+tTVPyumVPvb+H19daGTWdN9rC1OcWs+1r4+kf9VNbEmTHazZgs/VE9FKvrUq/c+Wrbz52OQ6Wf/oakQWVNPA78AWtlqK+22UTuXxx/cqgt9X96RZzCDGHGmH2HP372Vox/XRVk0y1ZXDPdyy3PH3jbYHSmsOGmTBb9VyY/PTvAVU9GaWwzeFzCQ5eFWPRfmVwxzcPP34px64k+bnm+lcsfi1BZE++vL2/Qq281dUu3Jy+3h//UEKfJPE0qa+KbscbPxwI8tyqx9u1NySFVWfGNDUkqaxIU/7yJT/4tystrE1zwUIQPtiWZNc4DwJVHeVmw8cAbl36PkBeyfvxmjHEzeYSLFbv2vVF6z8IYc47x8ubGJD43PHp5sMvxd7WvZMqklm5Pzrn4kYiudxgmNJmn18tYe4aOAfjxgtj82qbUBmdD6js/PDPApluyWHdTFo9cHuSMiR7++ckgDa2wYpeVwF9cnaCs4MAfsx0tKZIpq8O4ZneKlXUpJo3Y22531PD0ygSfO8ZLJG5wiTUW36rbZ/fI8p2p+0/6U8vTTseh+o8m8zSqrImngD8BrUA4kcL86I22J4bq+DmAxyX84aIAlz0W5Zh7m3lgSZwfnxUAoLImzv/Ot4ZcXluf5Oh7Wzjm3mYufyzCvRcEyA3uHXi/89U2vn2yHxHhnCM8vLslSflvW/hChxutqnMbG1LLX1mX/C+n41D9S4bYMO6ANLvUOxX4BrARSJw43j361hN813jd4nU4NDXEbGtO7Xz8w/iMG/7VOmTeAaqe0Z55P6isiS/Hqt0yAZAFG5O1f10S/9tQuyGqnNXYZiIPL41/WhP58KTJvP88DbyOldD5+/LEiudWDf0FRap/tCVM/JGl8dtueq71BadjUc7QZN5P7PHzecBy7Bui974bX/juluSbjgamBr1kypi/L0/87OkViXudjkU5R5N5P7KLcd0D7MLeau67r7a9MJRXiKr0e3FN4rGHquLf0vnkw5sm835WWRNvAn4GGCDbAN96ufXJbc2pTc5GpgajtzYl/nPPwvi1lTVxnbQ5zGkyd0BlTXw78FMgDIQicRLfeaXt4bqo2e5waGoQWbw1ufSnb8YuqayJR5yORTlPk7lDKmvia4DfYJXL9W5pMpHbX2y9f0dLaovDoalB4M2NiaXffbXtgseWxXWFpwI0mTuqsib+PvAAMB7wbWsx0a+92PaXobRKVPW9+WsTH/zwP7FPPlEd158TtYcmc+e9BPwZq4aLvy5q2m57ofWvGxtSWrJUHeC5VfF3f/ZW7FOVNfFlTseiBhZdATpAzC71fhT4ArANiAY9uO86M3DFxBGuUodDUwOAMYbKmsSCPy6KX11ZE9ftCNUBNJkPILNLvTOBL2NtDN3ideH6wcf8l5Tmu8sdDk05KGWM+duHiVf/uiR+TWVNfJ3T8aiBSZP5ADO71FsO3AzsBppcgtx5uv+Co0e6ZzgcmnJAImWSD1fF//34h4nP27tYKdUpTeYDkF2Y61agGWgAuH6m97hzJnvOdbtE73MME01tpvlX78SeemtT8tbKmnit0/GogU2T+QA1u9Q7GbgNSGINu3BasXvc9TN9nwh5JcvR4FTara9PbfnB621P1jabOytr4jucjkcNfJrMB7DZpd6xwA1YS/83A2Z8WDK+fYr/itFZriJno1Pp8vr6xLKfvRWbl0jxu8qaeKPT8ajBQZP5ADe71JsBzAE+glUPPe514frmyf6zZoxxf8TZ6FRfiidN/C8fxN/8Z03il8A/dYm+6g1N5oPA7FKvCzgH+CTWkEsTwKfLvUddWuaZrZtcDH67o6b+xwva/r10e+quypr4e07HowYfTeaDyOxSbxnWsIsLaz46M0a7Cm443ndpXsg1ytHg1CGr2pZc/f/ejFXWRc1PKmviWs5BHRJN5oPM7FJvPtZc9GKsYZeU14Xry8f7TjilyH2axyUeRwNUPRaJm5YHPogvfGZl4nFgXmVNvMXpmNTgpcl8EJpd6vVjDbmcgVUbvRHgqEJX7g3H+2aP0ZujA96y7ckVP1kQe3dX1DwIPGdvXqLUIdNkPkjNLvUKMA24FhiBNdslKcB1x3qPPfcIz9k+t/idjFEdqLHN1P/lg9i7L6xOvgXcV1kTX+90TGpo0GQ+yM0u9QaBi4FzsXrodQDFOZJ100f8508a4ZrqZHzKkkyZ1IKNyUW/fif2YTTB48Dz9s5TSvUJTeZDxOxS7yTgOqzqi5uBOMAV0zxTLyr1npkTkDwn4xvO1tWn1vzu3VjVsh2pRcD92htX6aDJfAiZXer1AWcBlwJtwHYAjwv57NHeY86c5Dk1yy85TsY4nGxuTK17YEm8asHGZC3wMPB6ZU086XRcamjSZD4E2StHPwdMBeqxinbhc+O6Zrr32NOKPadk+LQkQLpsa05teqgqvmj+umQd8BbwWGVNvM7puNTQpsl8iLJvkB4JfAKYgJXQGwBCXjzXVvhmnjzBfVLQKxkOhjmk7Iykah9flnjv2VWJXUAV8GRlTXyt03Gp4UGT+RBnrx49GrgSGI01lbEJIOzHe12Fb9asce7jtXjXodsZSdX+c3li0T9rEjuBauBvwOrKmrj+cql+o8l8mJhd6nUDFVhJvQDYAbQAeF24Lp7qmXJasWfGuLBMdomIg6EOCvGkidXsSi395/LEirc3J9uA1cDjQI0mceUETebDzOxSrxeYiTX8koNVM70OMAClea6cS8s8xx4zyl0R8kqmc5EOTDsjqdo3Nybff3RZfGtjGx5gPVYSX6ZJXDlJk/kwZSf1o7Bmv5QBKazZL21g9dYvmeqZcmqxZ+b4sEwezp31eNLElu9MVVXWJD58e3OyvZLhQuAVrJ64rt5UjtNkrphd6h0FnACcCYTYr7c+eYSEPzbJM+WoQveUcWGZOBzqv0TjpmVtfWrlotrkqn+tTDQ0xXBj3W94Dni3siZe73CISu1Dk7naw56nfhRwNlCK1Vuvwx5bB8j04TlzkmfijNHuKZNzXSWZPsl2Jtq+ZYxhZ8RsqdmVWrlgY3LlGxuSzQbav7aFwHxghfbC1UClyVx1anapdzRwHFaPfaT9cAvWFMc9Ce24Ma7CkyZ4ppTmuyYXhGSM1y2+/o/20LTETGNts9lUtS258t9rEms3Nho/ELCfXge8AbynvXA1GGgyV92y56vnAyVYux0dCQiQwOq1t7a3dQly7GhXQXmhe8zkXNfYUZkyekRACp3ePMMYQ2Mbu7a3pLZubDS1q+pSW9/bkqytbTaCVaRMsMofLALeA1ZW1sQbnIxZqd7SZK56ZXapNwBMBqYDs4D2GS8JrEJfLdhj7WBlyan5rhHTClyFRTmuwhEBCWf5JTPDS2bIK5lBL5l9MQbfljCt0QTNLTHT3BwzTY1tNO+Kpuprdqa2vl+b3Lq7FQNkAe2LpARrg4+3gGXAOt2mTQ1mmszVIbMXJI3CKu51BNasmLFYyVzsf1vso8sKgblB8Y8PS+bITMnMC7oyfW72Se6mwx+HdtG4ie2ImObaJtO8sTHVHInTnogF8GP9kQl1iCWCNRe8BtiEVYysTqcTqqFCk7nqU/bGGYVY4+zjsJJ8EVZyTbE3MbvYO7wRs4+e3Fx0Az778HTxmnVYiXsFVtKuBRo0cauhTJO56hf2vPYMrKTefoSBPPvIxepRd2Q4sFcew5oiuJO9pQma7aMJaNEZJ2o40mSulFJDgMvpAAYDEUmKyGIRWSYiH4jILSLS7fdORIpF5KrDuFb7ccdhxL3gUM9VSg0u2jPvARFpNsZk2h8XAg8BbxhjvtPNOacBtxljLjzUaw10IuIxxugMEKUGAE3mPbB/ghWRSVirAvOxbu49wN4pbzcYYxaIyFtYszvWAvOAv3fW7mDX6vD4Ovt1LgK8wBXGmOUiUoD1xyXPjulcYIYxZmf7a9l/WOZijTMfhTWX+jPGGCMiM4CfYo1h7wSuNsbUishk4DdYFRYjwBfs692PdYOxAngfqAR+YYdpgFOMMU09+84qpfqMMUaPgxxAcyeP7caasRECAvZjJcC79senAU93aN9pu05eNwks7nBcaT++DrjR/vi/gfvsj38NfMP++FyshJrfMW47lgas2SUu4E3gJKw/CguAArvdlcCf7Pv8yn0AAAIQSURBVI9fAkrsj2cBL9sf3w88Dbjtz58CPmp/nAl4nP7/0kOP4XgM+YJJadReRtAL/FpEpmMl4ildtO9pu6gxZnoXzz1p//se1j6fYCXljwMYY54Tkd1dnPuOMWYTgIgsBoqxtpQ7CnjRroroBmpFJBM4EXi8Q7XEjjNNHjfGtO9l+QbwUxF5EHiy/RpKqf6lyfwQ2MMsSaySsd/BWkl4DFavt7WL027uYbvutNn/Jtn7f9fT2rRtHT5uP1+AZcaYEzo2FJEwUN/NH5U9hbeMMXeJyDPA+cBbInKmMWZ5D2NSSvURnc3SS/YY9b3Ar40xBquyXq0xJgV8Fqt3C9ac545bsXXV7nD9B2ujCUTkbKxaIz1VAxSIyAn2+V4ROdIY0wisFZEr7MdFRI7p7AVEZLIxpsoYczfwLtYm0kqpfqbJvGeC7VMTgX8DLwD/Zz93DzDHvuE5hb291iVAwp7KeHM37bq6Vvtx10Fi+z/gbBF5HzgPa7Vjj25AGmNiwOXA3SLyAdYY/Yn2058GrrMfXwZc3MXL3CQiS+12UeDZnlxbKdW3dDbLICcifiBpjEnYPezfdjM8opQaonTMfPCbADxmL2KKAV9wOB6llAO0Z66UUkOAjpkrpdQQoMlcKaWGAE3mSik1BGgyV0qpIUCTuVJKDQGazJVSagjQZK6UUkOAJnOllBoCNJkrpdQQ8P8BdIJ+TcxOZQwAAAAASUVORK5CYII=\n",
      "text/plain": [
       "<Figure size 432x288 with 1 Axes>"
      ]
     },
     "metadata": {},
     "output_type": "display_data"
    }
   ],
   "source": [
    "# plot frequency of some observations using pie chart\n",
    "labels = 'Developers', 'Data Engineers', 'Data Scientists', 'Business Analysts'\n",
    "frequency = [15, 32, 12, 7]\n",
    "fig1, ax1 = plt.subplots()\n",
    "explode = (0, 0, 0.2, 0)  # only \"explode\" the 3rd slice (i.e. 'Data Scientist')\n",
    "ax1.pie(frequency, explode=explode, labels=labels, autopct='%1.1f%%',\n",
    "        shadow=True, startangle=90)\n",
    "ax1.axis('equal')  # Equal aspect ratio ensures that pie is drawn as a circle.\n",
    "plt.show()"
   ]
  },
  {
   "cell_type": "code",
   "execution_count": 3,
   "metadata": {
    "colab": {
     "base_uri": "https://localhost:8080/",
     "height": 2665
    },
    "colab_type": "code",
    "executionInfo": {
     "elapsed": 699,
     "status": "ok",
     "timestamp": 1560212672712,
     "user": {
      "displayName": "Ibrahim Faisal",
      "photoUrl": "https://lh3.googleusercontent.com/-67DMczu7rgM/AAAAAAAAAAI/AAAAAAAAAAc/6f5FCnBgxFs/s64/photo.jpg",
      "userId": "02685917636347920688"
     },
     "user_tz": -600
    },
    "id": "WGLEzcPz47Y-",
    "outputId": "292dd044-8ee9-4768-f692-b78893586267"
   },
   "outputs": [
    {
     "name": "stdout",
     "output_type": "stream",
     "text": [
      "Help on function bar in module matplotlib.pyplot:\n",
      "\n",
      "bar(*args, **kwargs)\n",
      "    Make a bar plot.\n",
      "    \n",
      "    Call signatures::\n",
      "    \n",
      "       bar(x, height, *, align='center', **kwargs)\n",
      "       bar(x, height, width, *, align='center', **kwargs)\n",
      "       bar(x, height, width, bottom, *, align='center', **kwargs)\n",
      "    \n",
      "    The bars are positioned at *x* with the given *align* ment. Their\n",
      "    dimensions are given by *width* and *height*. The vertical baseline\n",
      "    is *bottom* (default 0).\n",
      "    \n",
      "    Each of *x*, *height*, *width*, and *bottom* may either be a scalar\n",
      "    applying to all bars, or it may be a sequence of length N providing a\n",
      "    separate value for each bar.\n",
      "    \n",
      "    \n",
      "    Parameters\n",
      "    ----------\n",
      "    x : sequence of scalars\n",
      "        The x coordinates of the bars. See also *align* for the\n",
      "        alignment of the bars to the coordinates.\n",
      "    \n",
      "    height : scalar or sequence of scalars\n",
      "        The height(s) of the bars.\n",
      "    \n",
      "    width : scalar or array-like, optional\n",
      "        The width(s) of the bars (default: 0.8).\n",
      "    \n",
      "    bottom : scalar or array-like, optional\n",
      "        The y coordinate(s) of the bars bases (default: 0).\n",
      "    \n",
      "    align : {'center', 'edge'}, optional, default: 'center'\n",
      "        Alignment of the bars to the *x* coordinates:\n",
      "    \n",
      "        - 'center': Center the base on the *x* positions.\n",
      "        - 'edge': Align the left edges of the bars with the *x* positions.\n",
      "    \n",
      "        To align the bars on the right edge pass a negative *width* and\n",
      "        ``align='edge'``.\n",
      "    \n",
      "    Returns\n",
      "    -------\n",
      "    container : `.BarContainer`\n",
      "        Container with all the bars and optionally errorbars.\n",
      "    \n",
      "    Other Parameters\n",
      "    ----------------\n",
      "    color : scalar or array-like, optional\n",
      "        The colors of the bar faces.\n",
      "    \n",
      "    edgecolor : scalar or array-like, optional\n",
      "        The colors of the bar edges.\n",
      "    \n",
      "    linewidth : scalar or array-like, optional\n",
      "        Width of the bar edge(s). If 0, don't draw edges.\n",
      "    \n",
      "    tick_label : string or array-like, optional\n",
      "        The tick labels of the bars.\n",
      "        Default: None (Use default numeric labels.)\n",
      "    \n",
      "    xerr, yerr : scalar or array-like of shape(N,) or shape(2,N), optional\n",
      "        If not *None*, add horizontal / vertical errorbars to the bar tips.\n",
      "        The values are +/- sizes relative to the data:\n",
      "    \n",
      "        - scalar: symmetric +/- values for all bars\n",
      "        - shape(N,): symmetric +/- values for each bar\n",
      "        - shape(2,N): Separate - and + values for each bar. First row\n",
      "            contains the lower errors, the second row contains the\n",
      "            upper errors.\n",
      "        - *None*: No errorbar. (Default)\n",
      "    \n",
      "        See :doc:`/gallery/statistics/errorbar_features`\n",
      "        for an example on the usage of ``xerr`` and ``yerr``.\n",
      "    \n",
      "    ecolor : scalar or array-like, optional, default: 'black'\n",
      "        The line color of the errorbars.\n",
      "    \n",
      "    capsize : scalar, optional\n",
      "       The length of the error bar caps in points.\n",
      "       Default: None, which will take the value from\n",
      "       :rc:`errorbar.capsize`.\n",
      "    \n",
      "    error_kw : dict, optional\n",
      "        Dictionary of kwargs to be passed to the `~.Axes.errorbar`\n",
      "        method. Values of *ecolor* or *capsize* defined here take\n",
      "        precedence over the independent kwargs.\n",
      "    \n",
      "    log : bool, optional, default: False\n",
      "        If *True*, set the y-axis to be log scale.\n",
      "    \n",
      "    orientation : {'vertical',  'horizontal'}, optional\n",
      "        *This is for internal use only.* Please use `barh` for\n",
      "        horizontal bar plots. Default: 'vertical'.\n",
      "    \n",
      "    See also\n",
      "    --------\n",
      "    barh: Plot a horizontal bar plot.\n",
      "    \n",
      "    Notes\n",
      "    -----\n",
      "    The optional arguments *color*, *edgecolor*, *linewidth*,\n",
      "    *xerr*, and *yerr* can be either scalars or sequences of\n",
      "    length equal to the number of bars.  This enables you to use\n",
      "    bar as the basis for stacked bar charts, or candlestick plots.\n",
      "    Detail: *xerr* and *yerr* are passed directly to\n",
      "    :meth:`errorbar`, so they can also have shape 2xN for\n",
      "    independent specification of lower and upper errors.\n",
      "    \n",
      "    Other optional kwargs:\n",
      "    \n",
      "      agg_filter: a filter function, which takes a (m, n, 3) float array and a dpi value, and returns a (m, n, 3) array \n",
      "      alpha: float or None \n",
      "      animated: bool \n",
      "      antialiased or aa: bool or None \n",
      "      capstyle: ['butt' | 'round' | 'projecting'] \n",
      "      clip_box: a `.Bbox` instance \n",
      "      clip_on: bool \n",
      "      clip_path: [(`~matplotlib.path.Path`, `.Transform`) | `.Patch` | None] \n",
      "      color: matplotlib color spec\n",
      "      contains: a callable function \n",
      "      edgecolor or ec: mpl color spec, None, 'none', or 'auto' \n",
      "      facecolor or fc: mpl color spec, or None for default, or 'none' for no color \n",
      "      figure: a `.Figure` instance \n",
      "      fill: bool \n",
      "      gid: an id string \n",
      "      hatch: ['/' | '\\\\' | '|' | '-' | '+' | 'x' | 'o' | 'O' | '.' | '*'] \n",
      "      joinstyle: ['miter' | 'round' | 'bevel'] \n",
      "      label: object \n",
      "      linestyle or ls: ['solid' | 'dashed', 'dashdot', 'dotted' | (offset, on-off-dash-seq) | ``'-'`` | ``'--'`` | ``'-.'`` | ``':'`` | ``'None'`` | ``' '`` | ``''``]\n",
      "      linewidth or lw: float or None for default \n",
      "      path_effects: `.AbstractPathEffect` \n",
      "      picker: [None | bool | float | callable] \n",
      "      rasterized: bool or None \n",
      "      sketch_params: (scale: float, length: float, randomness: float) \n",
      "      snap: bool or None \n",
      "      transform: `.Transform` \n",
      "      url: a url string \n",
      "      visible: bool \n",
      "      zorder: float \n",
      "    \n",
      "    .. note::\n",
      "        In addition to the above described arguments, this function can take a\n",
      "        **data** keyword argument. If such a **data** argument is given, the\n",
      "        following arguments are replaced by **data[<arg>]**:\n",
      "    \n",
      "        * All arguments with the following names: 'bottom', 'color', 'ecolor', 'edgecolor', 'height', 'left', 'linewidth', 'tick_label', 'width', 'x', 'xerr', 'y', 'yerr'.\n",
      "        * All positional arguments.\n",
      "\n"
     ]
    }
   ],
   "source": [
    "help(plt.bar)"
   ]
  },
  {
   "cell_type": "code",
<<<<<<< HEAD
   "execution_count": 5,
=======
<<<<<<< HEAD
   "execution_count": 4,
=======
   "execution_count": 6,
>>>>>>> 48cac5465a8f29650e00b69a478f857b6ad938a9
>>>>>>> 83ee671d6934a1fec629004f868fedf9e8944724
   "metadata": {
    "colab": {
     "base_uri": "https://localhost:8080/",
     "height": 281
    },
    "colab_type": "code",
    "executionInfo": {
     "elapsed": 726,
     "status": "ok",
     "timestamp": 1560212678507,
     "user": {
      "displayName": "Ibrahim Faisal",
      "photoUrl": "https://lh3.googleusercontent.com/-67DMczu7rgM/AAAAAAAAAAI/AAAAAAAAAAc/6f5FCnBgxFs/s64/photo.jpg",
      "userId": "02685917636347920688"
     },
     "user_tz": -600
    },
    "id": "uDNaazfhMJZb",
    "outputId": "938f855f-1279-4a03-b5b8-2b64e9310ebc"
   },
   "outputs": [
    {
     "data": {
<<<<<<< HEAD
      "image/png": "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\n",
=======
<<<<<<< HEAD
      "image/png": "iVBORw0KGgoAAAANSUhEUgAAAYwAAAEICAYAAABMGMOEAAAABHNCSVQICAgIfAhkiAAAAAlwSFlz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\nAAAAAElFTkSuQmCC\n",
=======
      "image/png": "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\n",
>>>>>>> 48cac5465a8f29650e00b69a478f857b6ad938a9
>>>>>>> 83ee671d6934a1fec629004f868fedf9e8944724
      "text/plain": [
       "<Figure size 432x288 with 1 Axes>"
      ]
     },
     "metadata": {
<<<<<<< HEAD
      "needs_background": "light"
=======
<<<<<<< HEAD
      "tags": []
=======
      "needs_background": "light"
>>>>>>> 48cac5465a8f29650e00b69a478f857b6ad938a9
>>>>>>> 83ee671d6934a1fec629004f868fedf9e8944724
     },
     "output_type": "display_data"
    }
   ],
   "source": [
    "# plot frequency of some observations using bar chart\n",
    "objects = ('Python', 'C++', 'Java', 'Perl', 'Scala', 'Lisp')\n",
    "y_pos = np.arange(len(objects))\n",
    "performance = [10,8,6,4,2,1]\n",
    " \n",
    "# Create a bar plot\n",
<<<<<<< HEAD
    "plt.bar(y_pos, performance, align='center', alpha=0.5)\n",
=======
<<<<<<< HEAD
=======
    "plt.bar(y_pos, performance, align='center', alpha=0.5,color='g')\n",
>>>>>>> 48cac5465a8f29650e00b69a478f857b6ad938a9
>>>>>>> 83ee671d6934a1fec629004f868fedf9e8944724
    "plt.xticks(y_pos, objects)\n",
    "plt.ylabel('Usage')\n",
    "plt.title('Programming language usage')\n",
    " \n",
    "plt.show()"
   ]
<<<<<<< HEAD
=======
<<<<<<< HEAD
=======
>>>>>>> 83ee671d6934a1fec629004f868fedf9e8944724
  },
  {
   "cell_type": "code",
   "execution_count": null,
   "metadata": {},
   "outputs": [],
   "source": []
<<<<<<< HEAD
=======
>>>>>>> 48cac5465a8f29650e00b69a478f857b6ad938a9
>>>>>>> 83ee671d6934a1fec629004f868fedf9e8944724
  }
 ],
 "metadata": {
  "colab": {
   "collapsed_sections": [],
   "name": "Statistics - part 1 Lab.ipynb",
   "provenance": [
    {
     "file_id": "https://github.com/ikfaisal/dsia/blob/master/Statistics_part_1.ipynb",
     "timestamp": 1552460911337
    }
   ],
   "version": "0.3.2"
  },
  "kernelspec": {
   "display_name": "Python 3",
   "language": "python",
   "name": "python3"
  },
  "language_info": {
   "codemirror_mode": {
    "name": "ipython",
    "version": 3
   },
   "file_extension": ".py",
   "mimetype": "text/x-python",
   "name": "python",
   "nbconvert_exporter": "python",
   "pygments_lexer": "ipython3",
   "version": "3.7.0"
  }
 },
 "nbformat": 4,
 "nbformat_minor": 1
}
