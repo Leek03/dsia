{
 "cells": [
  {
   "cell_type": "markdown",
   "metadata": {},
   "source": [
    "# Finding Correlation Between Many Variables"
   ]
  },
  {
   "cell_type": "code",
   "execution_count": 1,
   "metadata": {},
   "outputs": [],
   "source": [
    "import pandas as pd\n",
    "import matplotlib.pyplot as plt\n",
    "import numpy as np\n",
    "import seaborn as sns"
   ]
  },
  {
   "cell_type": "code",
   "execution_count": 3,
   "metadata": {},
   "outputs": [
    {
     "data": {
      "text/html": [
       "<div>\n",
       "<style scoped>\n",
       "    .dataframe tbody tr th:only-of-type {\n",
       "        vertical-align: middle;\n",
       "    }\n",
       "\n",
       "    .dataframe tbody tr th {\n",
       "        vertical-align: top;\n",
       "    }\n",
       "\n",
       "    .dataframe thead th {\n",
       "        text-align: right;\n",
       "    }\n",
       "</style>\n",
       "<table border=\"1\" class=\"dataframe\">\n",
       "  <thead>\n",
       "    <tr style=\"text-align: right;\">\n",
       "      <th></th>\n",
       "      <th>AQI</th>\n",
       "      <th>Precipitation</th>\n",
       "      <th>GDP</th>\n",
       "      <th>Temperature</th>\n",
       "      <th>Longititute</th>\n",
       "      <th>Latitude</th>\n",
       "      <th>Altitude</th>\n",
       "      <th>PopulationDensity</th>\n",
       "      <th>Coastal</th>\n",
       "      <th>GreenCoverageRate</th>\n",
       "      <th>Incineration(10,000ton)</th>\n",
       "    </tr>\n",
       "    <tr>\n",
       "      <th>City</th>\n",
       "      <th></th>\n",
       "      <th></th>\n",
       "      <th></th>\n",
       "      <th></th>\n",
       "      <th></th>\n",
       "      <th></th>\n",
       "      <th></th>\n",
       "      <th></th>\n",
       "      <th></th>\n",
       "      <th></th>\n",
       "      <th></th>\n",
       "    </tr>\n",
       "  </thead>\n",
       "  <tbody>\n",
       "    <tr>\n",
       "      <th>Ngawa Prefecture</th>\n",
       "      <td>23</td>\n",
       "      <td>665.1</td>\n",
       "      <td>271.13</td>\n",
       "      <td>8.200000</td>\n",
       "      <td>102.22465</td>\n",
       "      <td>31.89941</td>\n",
       "      <td>2617.0</td>\n",
       "      <td>11</td>\n",
       "      <td>0</td>\n",
       "      <td>36.00</td>\n",
       "      <td>23.0</td>\n",
       "    </tr>\n",
       "    <tr>\n",
       "      <th>Aksu City</th>\n",
       "      <td>137</td>\n",
       "      <td>80.4</td>\n",
       "      <td>610.00</td>\n",
       "      <td>12.276712</td>\n",
       "      <td>80.26338</td>\n",
       "      <td>41.16754</td>\n",
       "      <td>1108.0</td>\n",
       "      <td>6547</td>\n",
       "      <td>0</td>\n",
       "      <td>33.94</td>\n",
       "      <td>23.0</td>\n",
       "    </tr>\n",
       "    <tr>\n",
       "      <th>Alxa League</th>\n",
       "      <td>85</td>\n",
       "      <td>150.0</td>\n",
       "      <td>322.58</td>\n",
       "      <td>24.200000</td>\n",
       "      <td>105.72895</td>\n",
       "      <td>38.85192</td>\n",
       "      <td>1673.0</td>\n",
       "      <td>1</td>\n",
       "      <td>0</td>\n",
       "      <td>36.00</td>\n",
       "      <td>23.0</td>\n",
       "    </tr>\n",
       "  </tbody>\n",
       "</table>\n",
       "</div>"
      ],
      "text/plain": [
       "                  AQI  Precipitation     GDP  Temperature  Longititute  \\\n",
       "City                                                                     \n",
       "Ngawa Prefecture   23          665.1  271.13     8.200000    102.22465   \n",
       "Aksu City         137           80.4  610.00    12.276712     80.26338   \n",
       "Alxa League        85          150.0  322.58    24.200000    105.72895   \n",
       "\n",
       "                  Latitude  Altitude  PopulationDensity  Coastal  \\\n",
       "City                                                               \n",
       "Ngawa Prefecture  31.89941    2617.0                 11        0   \n",
       "Aksu City         41.16754    1108.0               6547        0   \n",
       "Alxa League       38.85192    1673.0                  1        0   \n",
       "\n",
       "                  GreenCoverageRate  Incineration(10,000ton)  \n",
       "City                                                          \n",
       "Ngawa Prefecture              36.00                     23.0  \n",
       "Aksu City                     33.94                     23.0  \n",
       "Alxa League                   36.00                     23.0  "
      ]
     },
     "execution_count": 3,
     "metadata": {},
     "output_type": "execute_result"
    }
   ],
   "source": [
    "df = pd.read_csv('CompletedDataset.csv', index_col = 0)\n",
    "df.head(3)"
   ]
  },
  {
   "cell_type": "code",
   "execution_count": 36,
   "metadata": {},
   "outputs": [
    {
     "data": {
      "text/html": [
       "<div>\n",
       "<style scoped>\n",
       "    .dataframe tbody tr th:only-of-type {\n",
       "        vertical-align: middle;\n",
       "    }\n",
       "\n",
       "    .dataframe tbody tr th {\n",
       "        vertical-align: top;\n",
       "    }\n",
       "\n",
       "    .dataframe thead th {\n",
       "        text-align: right;\n",
       "    }\n",
       "</style>\n",
       "<table border=\"1\" class=\"dataframe\">\n",
       "  <thead>\n",
       "    <tr style=\"text-align: right;\">\n",
       "      <th></th>\n",
       "      <th>AQI</th>\n",
       "      <th>Precipitation</th>\n",
       "      <th>GDP</th>\n",
       "      <th>Temperature</th>\n",
       "      <th>Longititute</th>\n",
       "      <th>Latitude</th>\n",
       "      <th>Altitude</th>\n",
       "      <th>PopulationDensity</th>\n",
       "      <th>Coastal</th>\n",
       "      <th>GreenCoverageRate</th>\n",
       "      <th>Incineration</th>\n",
       "    </tr>\n",
       "  </thead>\n",
       "  <tbody>\n",
       "    <tr>\n",
       "      <th>count</th>\n",
       "      <td>323.000000</td>\n",
       "      <td>323.000000</td>\n",
       "      <td>323.000000</td>\n",
       "      <td>323.000000</td>\n",
       "      <td>323.000000</td>\n",
       "      <td>323.000000</td>\n",
       "      <td>323.000000</td>\n",
       "      <td>323.000000</td>\n",
       "      <td>323.000000</td>\n",
       "      <td>323.000000</td>\n",
       "      <td>323.000000</td>\n",
       "    </tr>\n",
       "    <tr>\n",
       "      <th>mean</th>\n",
       "      <td>75.334365</td>\n",
       "      <td>1081.208978</td>\n",
       "      <td>2394.094241</td>\n",
       "      <td>15.989429</td>\n",
       "      <td>113.985779</td>\n",
       "      <td>31.843767</td>\n",
       "      <td>382.250464</td>\n",
       "      <td>2596.560372</td>\n",
       "      <td>0.247678</td>\n",
       "      <td>38.383096</td>\n",
       "      <td>52.418390</td>\n",
       "    </tr>\n",
       "    <tr>\n",
       "      <th>std</th>\n",
       "      <td>42.995735</td>\n",
       "      <td>584.634075</td>\n",
       "      <td>3263.974279</td>\n",
       "      <td>5.029369</td>\n",
       "      <td>7.711894</td>\n",
       "      <td>6.099390</td>\n",
       "      <td>743.219135</td>\n",
       "      <td>2913.835552</td>\n",
       "      <td>0.432334</td>\n",
       "      <td>6.321973</td>\n",
       "      <td>91.976476</td>\n",
       "    </tr>\n",
       "    <tr>\n",
       "      <th>min</th>\n",
       "      <td>12.000000</td>\n",
       "      <td>56.100000</td>\n",
       "      <td>22.500000</td>\n",
       "      <td>-2.500000</td>\n",
       "      <td>80.105800</td>\n",
       "      <td>18.234043</td>\n",
       "      <td>-12.000000</td>\n",
       "      <td>1.000000</td>\n",
       "      <td>0.000000</td>\n",
       "      <td>7.600000</td>\n",
       "      <td>1.530000</td>\n",
       "    </tr>\n",
       "    <tr>\n",
       "      <th>25%</th>\n",
       "      <td>45.000000</td>\n",
       "      <td>581.000000</td>\n",
       "      <td>761.685000</td>\n",
       "      <td>13.750000</td>\n",
       "      <td>111.060575</td>\n",
       "      <td>27.664188</td>\n",
       "      <td>18.000000</td>\n",
       "      <td>714.000000</td>\n",
       "      <td>0.000000</td>\n",
       "      <td>36.000000</td>\n",
       "      <td>18.875000</td>\n",
       "    </tr>\n",
       "    <tr>\n",
       "      <th>50%</th>\n",
       "      <td>69.000000</td>\n",
       "      <td>910.000000</td>\n",
       "      <td>1328.520000</td>\n",
       "      <td>16.515068</td>\n",
       "      <td>115.500183</td>\n",
       "      <td>31.340637</td>\n",
       "      <td>62.000000</td>\n",
       "      <td>1787.000000</td>\n",
       "      <td>0.000000</td>\n",
       "      <td>38.690000</td>\n",
       "      <td>24.000000</td>\n",
       "    </tr>\n",
       "    <tr>\n",
       "      <th>75%</th>\n",
       "      <td>102.000000</td>\n",
       "      <td>1651.250000</td>\n",
       "      <td>2722.180000</td>\n",
       "      <td>18.928767</td>\n",
       "      <td>119.867274</td>\n",
       "      <td>36.419417</td>\n",
       "      <td>354.500000</td>\n",
       "      <td>3509.000000</td>\n",
       "      <td>0.000000</td>\n",
       "      <td>42.675000</td>\n",
       "      <td>37.630000</td>\n",
       "    </tr>\n",
       "    <tr>\n",
       "      <th>max</th>\n",
       "      <td>296.000000</td>\n",
       "      <td>2478.100000</td>\n",
       "      <td>24964.990000</td>\n",
       "      <td>27.447945</td>\n",
       "      <td>129.598496</td>\n",
       "      <td>49.220000</td>\n",
       "      <td>4505.000000</td>\n",
       "      <td>25900.000000</td>\n",
       "      <td>1.000000</td>\n",
       "      <td>76.490000</td>\n",
       "      <td>686.670000</td>\n",
       "    </tr>\n",
       "  </tbody>\n",
       "</table>\n",
       "</div>"
      ],
      "text/plain": [
       "              AQI  Precipitation           GDP  Temperature  Longititute  \\\n",
       "count  323.000000     323.000000    323.000000   323.000000   323.000000   \n",
       "mean    75.334365    1081.208978   2394.094241    15.989429   113.985779   \n",
       "std     42.995735     584.634075   3263.974279     5.029369     7.711894   \n",
       "min     12.000000      56.100000     22.500000    -2.500000    80.105800   \n",
       "25%     45.000000     581.000000    761.685000    13.750000   111.060575   \n",
       "50%     69.000000     910.000000   1328.520000    16.515068   115.500183   \n",
       "75%    102.000000    1651.250000   2722.180000    18.928767   119.867274   \n",
       "max    296.000000    2478.100000  24964.990000    27.447945   129.598496   \n",
       "\n",
       "         Latitude     Altitude  PopulationDensity     Coastal  \\\n",
       "count  323.000000   323.000000         323.000000  323.000000   \n",
       "mean    31.843767   382.250464        2596.560372    0.247678   \n",
       "std      6.099390   743.219135        2913.835552    0.432334   \n",
       "min     18.234043   -12.000000           1.000000    0.000000   \n",
       "25%     27.664188    18.000000         714.000000    0.000000   \n",
       "50%     31.340637    62.000000        1787.000000    0.000000   \n",
       "75%     36.419417   354.500000        3509.000000    0.000000   \n",
       "max     49.220000  4505.000000       25900.000000    1.000000   \n",
       "\n",
       "       GreenCoverageRate  Incineration  \n",
       "count         323.000000    323.000000  \n",
       "mean           38.383096     52.418390  \n",
       "std             6.321973     91.976476  \n",
       "min             7.600000      1.530000  \n",
       "25%            36.000000     18.875000  \n",
       "50%            38.690000     24.000000  \n",
       "75%            42.675000     37.630000  \n",
       "max            76.490000    686.670000  "
      ]
     },
     "execution_count": 36,
     "metadata": {},
     "output_type": "execute_result"
    }
   ],
   "source": [
    "df.describe()\n"
   ]
  },
  {
   "cell_type": "code",
   "execution_count": null,
   "metadata": {},
   "outputs": [],
   "source": []
  },
  {
   "cell_type": "code",
   "execution_count": 47,
   "metadata": {},
   "outputs": [],
   "source": [
    "def get_Correlation(data):\n",
    "    \n",
    "    corr_data = data.corr()\n",
    "    fig = plt.figure()\n",
    "    ax = fig.add_subplot(111)\n",
    "    cax = ax.matshow(corr_data,cmap='coolwarm', vmin=-1, vmax=1)\n",
    "    fig.colorbar(cax)\n",
    "    ticks = np.arange(0,len(data.columns),1)\n",
    "    ax.set_xticks(ticks)\n",
    "    plt.xticks(rotation=90)\n",
    "    ax.set_yticks(ticks)\n",
    "    ax.set_xticklabels(data.columns)\n",
    "    ax.set_yticklabels(data.columns)\n",
    "    plt.show()\n",
    "    print(corr_data)\n",
    "    "
   ]
  },
  {
   "cell_type": "code",
   "execution_count": null,
   "metadata": {},
   "outputs": [],
   "source": []
  },
  {
   "cell_type": "code",
   "execution_count": 48,
   "metadata": {},
   "outputs": [
    {
     "data": {
      "image/png": "[encoded data removed]",
      "text/plain": [
       "<Figure size 432x288 with 2 Axes>"
      ]
     },
     "metadata": {
      "needs_background": "light"
     },
     "output_type": "display_data"
    },
    {
     "name": "stdout",
     "output_type": "stream",
     "text": [
      "                        AQI  Precipitation       GDP  Temperature  \\\n",
      "AQI                1.000000      -0.401560  0.160341    -0.283956   \n",
      "Precipitation     -0.401560       1.000000  0.176784     0.685561   \n",
      "GDP                0.160341       0.176784  1.000000     0.145780   \n",
      "Temperature       -0.283956       0.685561  0.145780     1.000000   \n",
      "Longititute        0.093900       0.222742  0.173041     0.141277   \n",
      "Latitude           0.552652      -0.656475 -0.010124    -0.807119   \n",
      "Altitude          -0.204753      -0.323643 -0.208952    -0.459426   \n",
      "PopulationDensity -0.026496       0.066066  0.229402     0.144923   \n",
      "Coastal           -0.150656       0.259684  0.174241     0.305894   \n",
      "GreenCoverageRate -0.097734       0.153176 -0.039220     0.216575   \n",
      "Incineration       0.106898       0.201322  0.899550     0.173590   \n",
      "\n",
      "                   Longititute  Latitude  Altitude  PopulationDensity  \\\n",
      "AQI                   0.093900  0.552652 -0.204753          -0.026496   \n",
      "Precipitation         0.222742 -0.656475 -0.323643           0.066066   \n",
      "GDP                   0.173041 -0.010124 -0.208952           0.229402   \n",
      "Temperature           0.141277 -0.807119 -0.459426           0.144923   \n",
      "Longititute           1.000000  0.173585 -0.737548          -0.121986   \n",
      "Latitude              0.173585  1.000000  0.002571          -0.167384   \n",
      "Altitude             -0.737548  0.002571  1.000000          -0.031408   \n",
      "PopulationDensity    -0.121986 -0.167384 -0.031408           1.000000   \n",
      "Coastal               0.374889 -0.204199 -0.271570          -0.034158   \n",
      "GreenCoverageRate     0.156439 -0.142776 -0.182449           0.021197   \n",
      "Incineration          0.072068 -0.081412 -0.122192           0.283563   \n",
      "\n",
      "                    Coastal  GreenCoverageRate  Incineration  \n",
      "AQI               -0.150656          -0.097734      0.106898  \n",
      "Precipitation      0.259684           0.153176      0.201322  \n",
      "GDP                0.174241          -0.039220      0.899550  \n",
      "Temperature        0.305894           0.216575      0.173590  \n",
      "Longititute        0.374889           0.156439      0.072068  \n",
      "Latitude          -0.204199          -0.142776     -0.081412  \n",
      "Altitude          -0.271570          -0.182449     -0.122192  \n",
      "PopulationDensity -0.034158           0.021197      0.283563  \n",
      "Coastal            1.000000           0.264419      0.158850  \n",
      "GreenCoverageRate  0.264419           1.000000     -0.029088  \n",
      "Incineration       0.158850          -0.029088      1.000000  \n"
     ]
    }
   ],
   "source": [
    "get_Correlation(df)"
   ]
  },
  {
   "cell_type": "code",
   "execution_count": null,
   "metadata": {},
   "outputs": [],
   "source": []
  },
  {
   "cell_type": "code",
   "execution_count": 11,
   "metadata": {},
   "outputs": [],
   "source": [
    "df.rename(columns={'Incineration(10,000ton)': 'Incineration'}, inplace=True)"
   ]
  },
  {
   "cell_type": "code",
   "execution_count": 15,
   "metadata": {},
   "outputs": [
    {
     "data": {
      "text/plain": [
       "Index(['AQI', 'Precipitation', 'GDP', 'Temperature', 'Longititute', 'Latitude',\n",
       "       'Altitude', 'PopulationDensity', 'Coastal', 'GreenCoverageRate',\n",
       "       'Incineration'],\n",
       "      dtype='object')"
      ]
     },
     "execution_count": 15,
     "metadata": {},
     "output_type": "execute_result"
    }
   ],
   "source": [
    "df.columns"
   ]
  },
  {
   "cell_type": "code",
   "execution_count": 55,
   "metadata": {},
   "outputs": [],
   "source": [
    "\n",
    "def scatter_show(X,Y,DATA):\n",
    "    \n",
    "    sns.jointplot(x=X, y=Y, data=DATA)\n",
    "    "
   ]
  },
  {
   "cell_type": "code",
   "execution_count": 57,
   "metadata": {},
   "outputs": [
    {
     "data": {
      "image/png": "[encoded data removed]",
      "text/plain": [
       "<Figure size 432x432 with 3 Axes>"
      ]
     },
     "metadata": {
      "needs_background": "light"
     },
     "output_type": "display_data"
    }
   ],
   "source": [
    "#GDP and Incineration : 0.899550\n",
    "scatter_show('GDP', 'Incineration', df)\n",
    "\n"
   ]
  },
  {
   "cell_type": "code",
   "execution_count": null,
   "metadata": {},
   "outputs": [],
   "source": []
  },
  {
   "cell_type": "code",
   "execution_count": 58,
   "metadata": {},
   "outputs": [
    {
     "data": {
      "image/png": "[encoded data removed]",
      "text/plain": [
       "<Figure size 432x432 with 3 Axes>"
      ]
     },
     "metadata": {
      "needs_background": "light"
     },
     "output_type": "display_data"
    }
   ],
   "source": [
    "#Temperature and Latitude : -0.807119\n",
    "scatter_show('Temperature', 'Latitude', df)"
   ]
  },
  {
   "cell_type": "code",
   "execution_count": null,
   "metadata": {},
   "outputs": [],
   "source": []
  },
  {
   "cell_type": "code",
   "execution_count": 59,
   "metadata": {},
   "outputs": [
    {
     "data": {
      "image/png": "[encoded data removed]",
      "text/plain": [
       "<Figure size 432x432 with 3 Axes>"
      ]
     },
     "metadata": {
      "needs_background": "light"
     },
     "output_type": "display_data"
    }
   ],
   "source": [
    "#PopulationDensity and Precipitation : 0.066066\n",
    "\n",
    "scatter_show('PopulationDensity', 'Precipitation', df)"
   ]
  },
  {
   "cell_type": "code",
   "execution_count": null,
   "metadata": {},
   "outputs": [],
   "source": []
  }
 ],
 "metadata": {
  "kernelspec": {
   "display_name": "Python 3",
   "language": "python",
   "name": "python3"
  },
  "language_info": {
   "codemirror_mode": {
    "name": "ipython",
    "version": 3
   },
   "file_extension": ".py",
   "mimetype": "text/x-python",
   "name": "python",
   "nbconvert_exporter": "python",
   "pygments_lexer": "ipython3",
   "version": "3.7.3"
  }
 },
 "nbformat": 4,
 "nbformat_minor": 2
}
