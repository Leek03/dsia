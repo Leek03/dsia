{
 "cells": [
  {
   "cell_type": "code",
   "execution_count": 1,
   "metadata": {},
   "outputs": [],
   "source": [
    "import sqlite3"
   ]
  },
  {
   "cell_type": "code",
   "execution_count": 9,
   "metadata": {},
   "outputs": [
    {
     "name": "stdout",
     "output_type": "stream",
     "text": [
      "Opened database successfully\n",
      "Table created successfully\n"
     ]
    }
   ],
   "source": [
    "import sqlite3\n",
    "conn = sqlite3.connect('test.db')\n",
    "print(\"Opened database successfully\")\n",
    "#Create table\n",
    "conn.execute('''CREATE TABLE COMPANY_1\n",
    "(ID INT PRIMARY KEY NOT NULL,\n",
    "NAME,\n",
    "AGE,\n",
    "ADDRESS,\n",
    "SALARY REAL);''')\n",
    "\n",
    "print(\"Table created successfully\")\n",
    "conn.close()"
   ]
  },
  {
   "cell_type": "code",
   "execution_count": 10,
   "metadata": {},
   "outputs": [
    {
     "name": "stdout",
     "output_type": "stream",
     "text": [
      "Opened database successfully\n",
      "Records created successfully\n"
     ]
    }
   ],
   "source": [
    "import sqlite3\n",
    "conn = sqlite3.connect('test.db')\n",
    "print (\"Opened database successfully\")\n",
    "conn.execute(\"INSERT INTO COMPANY_1 (ID,NAME,AGE,ADDRESS,SALARY) \\\n",
    "VALUES (1, 'Paul', 32, 'California', 20000.00 )\");\n",
    "conn.execute(\"INSERT INTO COMPANY_1(ID,NAME,AGE,ADDRESS,SALARY) \\\n",
    "VALUES (2, 'Allen', 25, 'Texas', 15000.00 )\");\n",
    "conn.execute(\"INSERT INTO COMPANY_1 (ID,NAME,AGE,ADDRESS,SALARY) \\\n",
    "VALUES (3, 'Teddy', 23, 'Norway', 20000.00 )\");\n",
    "conn.execute(\"INSERT INTO COMPANY_1 (ID,NAME,AGE,ADDRESS,SALARY) \\\n",
    "VALUES (4, 'Mark', 25, 'Rich-Mond ', 65000.00 )\"); conn.commit()\n",
    "print (\"Records created successfully\")\n",
    "conn.close()"
   ]
  },
  {
   "cell_type": "code",
   "execution_count": 15,
   "metadata": {},
   "outputs": [
    {
     "name": "stdout",
     "output_type": "stream",
     "text": [
      "Opened database successfully\n",
      "<class 'sqlite3.Cursor'>\n",
      "(1, 'Paul', 'California', 20000.0)\n",
      "ID =  1\n",
      "NAME =  Paul\n",
      "ADDRESS =  California\n",
      "SALARY =  20000.0 \n",
      "\n",
      "Operation done successfully\n",
      "(2, 'Allen', 'Texas', 15000.0)\n",
      "ID =  2\n",
      "NAME =  Allen\n",
      "ADDRESS =  Texas\n",
      "SALARY =  15000.0 \n",
      "\n",
      "Operation done successfully\n",
      "(3, 'Teddy', 'Norway', 20000.0)\n",
      "ID =  3\n",
      "NAME =  Teddy\n",
      "ADDRESS =  Norway\n",
      "SALARY =  20000.0 \n",
      "\n",
      "Operation done successfully\n",
      "(4, 'Mark', 'Rich-Mond ', 65000.0)\n",
      "ID =  4\n",
      "NAME =  Mark\n",
      "ADDRESS =  Rich-Mond \n",
      "SALARY =  65000.0 \n",
      "\n",
      "Operation done successfully\n"
     ]
    }
   ],
   "source": [
    "import sqlite3\n",
    "conn = sqlite3.connect('test.db')\n",
    "print (\"Opened database successfully\")\n",
    "cursor = conn.execute(\"SELECT id, name, address, salary from COMPANY_1\")\n",
    "print(type(cursor))\n",
    "for row in cursor:\n",
    "    \n",
    "    print(row)\n",
    "    print (\"ID = \", row[0])\n",
    "    print (\"NAME = \", row[1])\n",
    "    print (\"ADDRESS = \", row[2]) \n",
    "    print (\"SALARY = \", row[3], \"\\n\")\n",
    "    print (\"Operation done successfully\")\n",
    "conn.close()"
   ]
  },
  {
   "cell_type": "code",
   "execution_count": null,
   "metadata": {},
   "outputs": [],
   "source": []
  },
  {
   "cell_type": "code",
   "execution_count": null,
   "metadata": {},
   "outputs": [],
   "source": []
  },
  {
   "cell_type": "code",
   "execution_count": null,
   "metadata": {},
   "outputs": [],
   "source": []
  },
  {
   "cell_type": "code",
   "execution_count": null,
   "metadata": {},
   "outputs": [],
   "source": []
  }
 ],
 "metadata": {
  "kernelspec": {
   "display_name": "Python 3",
   "language": "python",
   "name": "python3"
  },
  "language_info": {
   "codemirror_mode": {
    "name": "ipython",
    "version": 3
   },
   "file_extension": ".py",
   "mimetype": "text/x-python",
   "name": "python",
   "nbconvert_exporter": "python",
   "pygments_lexer": "ipython3",
   "version": "3.7.3"
  }
 },
 "nbformat": 4,
 "nbformat_minor": 2
}
