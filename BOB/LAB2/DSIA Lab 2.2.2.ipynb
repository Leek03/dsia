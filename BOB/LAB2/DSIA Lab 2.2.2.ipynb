{
 "cells": [
  {
   "cell_type": "markdown",
   "metadata": {
    "colab_type": "text",
    "id": "XfnQYVMtJhQD"
   },
   "source": [
    "![alt text](https://i.imgur.com/1WaY7aA.png)\n",
    "\n",
    "\n",
    "---\n",
    "\n",
    "\n",
    "\n",
    "---\n",
    "\n"
   ]
  },
  {
   "cell_type": "markdown",
   "metadata": {
    "colab_type": "text",
    "id": "5dCt8XbjJhQG"
   },
   "source": [
    "# Lab 2.2.2 \n",
    "# *Mining Social Media with Twitter*"
   ]
  },
  {
   "cell_type": "markdown",
   "metadata": {
    "colab_type": "text",
    "id": "b5VfS9hhJhQI"
   },
   "source": [
    "## The Twitter API and Tweepy Package"
   ]
  },
  {
   "cell_type": "markdown",
   "metadata": {
    "colab_type": "text",
    "id": "lF2z-w5uJhQK"
   },
   "source": [
    "The Twitter API provides access to tweets and comments, and allows an application to post tweets to the user's timeline. \n",
    "\n",
    "Twitter requires developers to create and authenticate an app before they can use the API. As of recent policy changes, however, new developers must be approved before they can create an app. There is no indication of the waiting period for approval."
   ]
  },
  {
   "cell_type": "markdown",
   "metadata": {
    "colab_type": "text",
    "id": "M0wxJ8HNJhQM"
   },
   "source": [
    "### 1. Apply for Developer Access\n",
    "\n",
    "Go to https://blog.twitter.com/developer/en_us/topics/tools/2018/new-developer-requirements-to-protect-our-platform.html\n",
    "and read the advice.\n",
    "![image.png](attachment:image.png)"
   ]
  },
  {
   "cell_type": "markdown",
   "metadata": {
    "colab_type": "text",
    "id": "tICSKwL1JhQN"
   },
   "source": [
    "Apply at https://developer.twitter.com/en/apply-for-access.html\n",
    "![image.png](attachment:image.png)"
   ]
  },
  {
   "cell_type": "markdown",
   "metadata": {
    "colab_type": "text",
    "id": "M4-znQaaJhQP"
   },
   "source": [
    "Then go to https://developer.twitter.com/en/review every day until you see whatever comes after this: \n",
    "![image.png](attachment:image.png)"
   ]
  },
  {
   "cell_type": "markdown",
   "metadata": {
    "colab_type": "text",
    "id": "NMeZ70IZJhQR"
   },
   "source": [
    "### 2. Create Your Twitter App\n",
    "![image.png](attachment:image.png)"
   ]
  },
  {
   "cell_type": "markdown",
   "metadata": {
    "colab_type": "text",
    "id": "HpWMHz9NJhQS"
   },
   "source": [
    "### 3. Load Python Libraries"
   ]
  },
  {
   "cell_type": "code",
   "execution_count": 5,
   "metadata": {
    "colab": {},
    "colab_type": "code",
    "id": "16hb8EpNJhQU"
   },
   "outputs": [],
   "source": [
    "import tweepy\n",
    "import json\n",
    "import pprint"
   ]
  },
  {
   "cell_type": "markdown",
   "metadata": {
    "colab_type": "text",
    "id": "p7W0se6_JhQX"
   },
   "source": [
    "### 4. Authenticate from your Python script"
   ]
  },
  {
   "cell_type": "markdown",
   "metadata": {
    "colab_type": "text",
    "id": "mJfe55dVJhQY"
   },
   "source": [
    "You could assign your authentication details explicitly, as follows:"
   ]
  },
  {
   "cell_type": "code",
   "execution_count": 2,
   "metadata": {
    "colab": {},
    "colab_type": "code",
    "id": "aygW7a3eJhQZ"
   },
   "outputs": [],
   "source": [
    "my_consumer_key = 'RKRhFnpgdz8MmqmcyzqsU7NxN'      # your consumer key (string) goes in here\n",
    "my_consumer_secret = '4V0gKxJSc2sE2uLpWlLUF4PeeLnrwsbhsDJlzmXKgI1kgO6bdQ'   # your consumer secret key (string) goes in here\n",
    "my_access_token = '4673077273-IC4RW3eJqyJJhsrVnbuCFAURkk3BmsGak33ZUG6'    \n",
    "# your access token (string goes in here\n",
    "access_token_secret = '4R5nvxQYS8Jng85isDqLLXrno3LtGR6uOvAjiwvZSOey6'  \n",
    "# your access token secret (string) goes in here"
   ]
  },
  {
   "cell_type": "markdown",
   "metadata": {
    "colab_type": "text",
    "id": "7LXwmSzOJhQe"
   },
   "source": [
    "A better way would be to store these details externally, so they are not displayed in the notebook:\n",
    "\n",
    "- create a file called \"auth_twitter.json\" in your \"notebooks\" directory, and save your credentials there in JSON format:\n",
    "\n",
    "`{   \"my_consumer_key\": \"your consumer key (string) goes in here\",` <br>\n",
    "&nbsp;&nbsp;&nbsp;&nbsp;&nbsp;&nbsp;&nbsp;&nbsp;` \"my_consumer_secret\": \"your consumer secret key (string) goes in here\",` <br>\n",
    "&nbsp;&nbsp;&nbsp;&nbsp;&nbsp;&nbsp;&nbsp;&nbsp;`\"your access token (string goes in here\",` <br>\n",
    "&nbsp;&nbsp;&nbsp;&nbsp;&nbsp;&nbsp;&nbsp;&nbsp;`\"my_access_token_secret\": \"your access token secret (string) goes in here\"` <br>\n",
    "`}`\n",
    "\n",
    "(Nb. Parsers are very fussy. Make sure each key:value pair has a comma after it except the last one!)  \n",
    "\n",
    "Use the following code to load the credentials:  "
   ]
  },
  {
   "cell_type": "code",
   "execution_count": 3,
   "metadata": {
    "colab": {},
    "colab_type": "code",
    "id": "kh2srKpzJhQh"
   },
   "outputs": [
    {
     "data": {
      "text/plain": [
       "'/Users/bob/Desktop/Datascience/DSIA-SYD-FT-201907/DSIA-SYD-FT-201907/Module 2/LABS 2'"
      ]
     },
     "execution_count": 3,
     "metadata": {},
     "output_type": "execute_result"
    }
   ],
   "source": [
    "pwd()  # make sure your working directory is where the file is"
   ]
  },
  {
   "cell_type": "code",
   "execution_count": 7,
   "metadata": {},
   "outputs": [],
   "source": [
    "import json\n",
    "\n",
    "auth_twitter_json = {\n",
    "    'consumer_key': 'RKRhFnpgdz8MmqmcyzqsU7NxN'      # your consumer key (string) goes in here\n",
    "    , 'consumer_secret': '4V0gKxJSc2sE2uLpWlLUF4PeeLnrwsbhsDJlzmXKgI1kgO6bdQ'   # your consumer secret key (string) goes in here\n",
    "    , 'access_token': '4673077273-IC4RW3eJqyJJhsrVnbuCFAURkk3BmsGak33ZUG6'      # your access token (string goes in here\n",
    "    , 'access_token_secret': '4R5nvxQYS8Jng85isDqLLXrno3LtGR6uOvAjiwvZSOey6'  # your access token secret (string) goes in here\n",
    "}\n",
    "\n",
    "\n",
    "with open('auth_twitter.json', 'w') as outfile:  \n",
    "    json.dump(auth_twitter_json, outfile)"
   ]
  },
  {
   "cell_type": "code",
   "execution_count": null,
   "metadata": {},
   "outputs": [],
   "source": []
  },
  {
   "cell_type": "code",
   "execution_count": 8,
   "metadata": {
    "colab": {},
    "colab_type": "code",
    "id": "uR8Vchz7JhQm"
   },
   "outputs": [],
   "source": [
    "path_auth = 'auth_twitter.json'\n",
    "\n",
    "\n",
    "\n",
    "\n",
    "auth = json.loads(open(path_auth).read())\n",
    "pp = pprint.PrettyPrinter(indent=4)\n",
    "# For debugging only:\n",
    "#pp.pprint(auth)\n",
    "\n",
    "my_consumer_key = auth['consumer_key']\n",
    "my_consumer_secret = auth['consumer_secret']\n",
    "my_access_token = auth['access_token']\n",
    "my_access_token_secret = auth['access_token_secret']"
   ]
  },
  {
   "cell_type": "markdown",
   "metadata": {
    "colab_type": "text",
    "id": "GPRmYZigJhQp"
   },
   "source": [
    "Security considerations: \n",
    "- this method only keeps your credentials invisible as long as nobody accesses this notebook while it's running on your computer \n",
    "- if you wanted another user to have access to the executable notebook without divulging your credentials you should set up an OAuth 2.0 workflow to let them obtain and apply their own API tokens when using your app\n",
    "- if you just want to share your analyses, you could use a separate script (which you don't share) to fetch the data and save it locally, then use a second notebook (with no API access) to load and analyse the locally stored data"
   ]
  },
  {
   "cell_type": "markdown",
   "metadata": {
    "colab_type": "text",
    "id": "Ln30k0pZJhQp"
   },
   "source": [
    "### 5. Exploring the API"
   ]
  },
  {
   "cell_type": "markdown",
   "metadata": {
    "colab_type": "text",
    "id": "6fsc0U1nJhQq"
   },
   "source": [
    "Here is how to connect to Twitter using the Tweepy library:"
   ]
  },
  {
   "cell_type": "code",
   "execution_count": 9,
   "metadata": {
    "colab": {},
    "colab_type": "code",
    "id": "-y_4GBx1JhQr"
   },
   "outputs": [],
   "source": [
    "auth = tweepy.OAuthHandler(my_consumer_key, my_consumer_secret)\n",
    "auth.set_access_token(my_access_token, my_access_token_secret)\n",
    "api = tweepy.API(auth)"
   ]
  },
  {
   "cell_type": "markdown",
   "metadata": {
    "colab_type": "text",
    "id": "wSKzR9LdJhQu"
   },
   "source": [
    "In the next cell, put the cursor after the '.' and hit the [tab] key to see the available members and methods in the response object:"
   ]
  },
  {
   "cell_type": "code",
   "execution_count": 13,
   "metadata": {
    "colab": {},
    "colab_type": "code",
    "id": "BfnAOR2bJhQv"
   },
   "outputs": [
    {
     "data": {
      "text/plain": [
       "{'id': 403063766,\n",
       " 'id_str': '403063766',\n",
       " 'name': 'Azariah Levy',\n",
       " 'screen_name': 'peeon12',\n",
       " 'location': '',\n",
       " 'description': 'Find me here https://t.co/KORhlOBpwM',\n",
       " 'url': None,\n",
       " 'entities': {'description': {'urls': [{'url': 'https://t.co/KORhlOBpwM',\n",
       "     'expanded_url': 'http://tinyurl.com/j7f8ts9',\n",
       "     'display_url': 'tinyurl.com/j7f8ts9',\n",
       "     'indices': [13, 36]}]}},\n",
       " 'protected': False,\n",
       " 'followers_count': 18,\n",
       " 'friends_count': 1641,\n",
       " 'listed_count': 0,\n",
       " 'created_at': 'Tue Nov 01 23:47:16 +0000 2011',\n",
       " 'favourites_count': 0,\n",
       " 'utc_offset': None,\n",
       " 'time_zone': None,\n",
       " 'geo_enabled': False,\n",
       " 'verified': False,\n",
       " 'statuses_count': 2,\n",
       " 'lang': None,\n",
       " 'status': {'created_at': 'Tue Jul 05 09:46:41 +0000 2016',\n",
       "  'id': 750264628882632704,\n",
       "  'id_str': '750264628882632704',\n",
       "  'text': 'Hey! suger, do yo want to f!ck me everywhere? go to  https://t.co/Wkzv3mjZm6 https://t.co/3sYZYNMehm',\n",
       "  'truncated': False,\n",
       "  'entities': {'hashtags': [],\n",
       "   'symbols': [],\n",
       "   'user_mentions': [],\n",
       "   'urls': [{'url': 'https://t.co/Wkzv3mjZm6',\n",
       "     'expanded_url': 'http://tinyurl.com/gwrh9ex',\n",
       "     'display_url': 'tinyurl.com/gwrh9ex',\n",
       "     'indices': [53, 76]}],\n",
       "   'media': [{'id': 750264622121381888,\n",
       "     'id_str': '750264622121381888',\n",
       "     'indices': [77, 100],\n",
       "     'media_url': 'http://pbs.twimg.com/media/Cml5suEWcAASmRp.jpg',\n",
       "     'media_url_https': 'https://pbs.twimg.com/media/Cml5suEWcAASmRp.jpg',\n",
       "     'url': 'https://t.co/3sYZYNMehm',\n",
       "     'display_url': 'pic.twitter.com/3sYZYNMehm',\n",
       "     'expanded_url': 'https://twitter.com/peeon12/status/750264628882632704/photo/1',\n",
       "     'type': 'photo',\n",
       "     'sizes': {'thumb': {'w': 150, 'h': 150, 'resize': 'crop'},\n",
       "      'medium': {'w': 480, 'h': 480, 'resize': 'fit'},\n",
       "      'small': {'w': 480, 'h': 480, 'resize': 'fit'},\n",
       "      'large': {'w': 480, 'h': 480, 'resize': 'fit'}}}]},\n",
       "  'extended_entities': {'media': [{'id': 750264622121381888,\n",
       "     'id_str': '750264622121381888',\n",
       "     'indices': [77, 100],\n",
       "     'media_url': 'http://pbs.twimg.com/media/Cml5suEWcAASmRp.jpg',\n",
       "     'media_url_https': 'https://pbs.twimg.com/media/Cml5suEWcAASmRp.jpg',\n",
       "     'url': 'https://t.co/3sYZYNMehm',\n",
       "     'display_url': 'pic.twitter.com/3sYZYNMehm',\n",
       "     'expanded_url': 'https://twitter.com/peeon12/status/750264628882632704/photo/1',\n",
       "     'type': 'photo',\n",
       "     'sizes': {'thumb': {'w': 150, 'h': 150, 'resize': 'crop'},\n",
       "      'medium': {'w': 480, 'h': 480, 'resize': 'fit'},\n",
       "      'small': {'w': 480, 'h': 480, 'resize': 'fit'},\n",
       "      'large': {'w': 480, 'h': 480, 'resize': 'fit'}}}]},\n",
       "  'source': '<a href=\"http://twitter.com\" rel=\"nofollow\">Twitter Web Client</a>',\n",
       "  'in_reply_to_status_id': None,\n",
       "  'in_reply_to_status_id_str': None,\n",
       "  'in_reply_to_user_id': None,\n",
       "  'in_reply_to_user_id_str': None,\n",
       "  'in_reply_to_screen_name': None,\n",
       "  'geo': None,\n",
       "  'coordinates': None,\n",
       "  'place': None,\n",
       "  'contributors': None,\n",
       "  'is_quote_status': False,\n",
       "  'retweet_count': 0,\n",
       "  'favorite_count': 1,\n",
       "  'favorited': False,\n",
       "  'retweeted': False,\n",
       "  'possibly_sensitive': False,\n",
       "  'lang': 'en'},\n",
       " 'contributors_enabled': False,\n",
       " 'is_translator': False,\n",
       " 'is_translation_enabled': False,\n",
       " 'profile_background_color': 'C0DEED',\n",
       " 'profile_background_image_url': 'http://abs.twimg.com/images/themes/theme1/bg.png',\n",
       " 'profile_background_image_url_https': 'https://abs.twimg.com/images/themes/theme1/bg.png',\n",
       " 'profile_background_tile': False,\n",
       " 'profile_image_url': 'http://pbs.twimg.com/profile_images/750264638751772672/G6fCRJ-N_normal.jpg',\n",
       " 'profile_image_url_https': 'https://pbs.twimg.com/profile_images/750264638751772672/G6fCRJ-N_normal.jpg',\n",
       " 'profile_link_color': '1DA1F2',\n",
       " 'profile_sidebar_border_color': 'C0DEED',\n",
       " 'profile_sidebar_fill_color': 'DDEEF6',\n",
       " 'profile_text_color': '333333',\n",
       " 'profile_use_background_image': True,\n",
       " 'has_extended_profile': False,\n",
       " 'default_profile': True,\n",
       " 'default_profile_image': False,\n",
       " 'following': False,\n",
       " 'live_following': False,\n",
       " 'follow_request_sent': False,\n",
       " 'notifications': False,\n",
       " 'muting': False,\n",
       " 'blocking': False,\n",
       " 'blocked_by': False,\n",
       " 'translator_type': 'none'}"
      ]
     },
     "execution_count": 13,
     "metadata": {},
     "output_type": "execute_result"
    }
   ],
   "source": [
    "api.followers()[0]._json"
   ]
  },
  {
   "cell_type": "code",
   "execution_count": null,
   "metadata": {},
   "outputs": [],
   "source": []
  },
  {
   "cell_type": "code",
   "execution_count": null,
   "metadata": {},
   "outputs": [],
   "source": []
  },
  {
   "cell_type": "code",
   "execution_count": null,
   "metadata": {},
   "outputs": [],
   "source": []
  },
  {
   "cell_type": "markdown",
   "metadata": {
    "colab_type": "text",
    "id": "DcJ-cc6zJhQz"
   },
   "source": [
    "Consult the Tweept and Twitter API documentation. Print a few of the response members below:"
   ]
  },
  {
   "cell_type": "code",
   "execution_count": null,
   "metadata": {
    "colab": {},
    "colab_type": "code",
    "id": "W_IKqMAQJhQ1"
   },
   "outputs": [],
   "source": []
  },
  {
   "cell_type": "markdown",
   "metadata": {
    "colab_type": "text",
    "id": "dLkdLKjLJhQ3"
   },
   "source": [
    "This will fetch recent tweets from accounts you follow:"
   ]
  },
  {
   "cell_type": "code",
   "execution_count": 14,
   "metadata": {
    "colab": {},
    "colab_type": "code",
    "id": "l9y8t3X7JhQ4"
   },
   "outputs": [
    {
     "name": "stdout",
     "output_type": "stream",
     "text": [
      "One of two Sydney brothers accused of attacking a retiree who was dragged from his car before being bashed and fata… https://t.co/8CydDKaoHt\n",
      ".@HawthornFC is one of a number of clubs closely watching the Crows' negotiations with Hugh Greenwood, reports @AFLcomau.\n",
      "The ultimate #Pride party in the sky https://t.co/8wfDapUiUS @VirginAtlantic @VirginHolidays #VirginFamily https://t.co/wroogOg742\n",
      "Chloe Wiegand loved looking out windows. https://t.co/DBaVkTO9J2\n",
      "Sandy Martin AKA Grandma Dynamite is celebrating 15 years since the cult classic ‘Napoleon Dynamite’! #9Today \n",
      "https://t.co/zXHiNWKz3b\n",
      "Kazakhstan arrested a former Russian KGB agent accused of passing classified documents to Chinese agents. News of h… https://t.co/xFpeViIsEY\n",
      "ROUND 17 #NRL FIXTURES\n",
      "\n",
      "🎟 - https://t.co/uRzhCA7vTC https://t.co/MPnu7kUilP\n",
      "Hawaii's governor announced that construction will begin next week on the largest telescope in the Northern Hemisph… https://t.co/BNnz6J8x25\n",
      "Amal Clooney criticizes world leaders for \"collective shrug\" over killing of journalist Jamal Khashoggi https://t.co/Y4LKHjzDkM\n",
      "The first tax refunds are being released tomorrow, and there are ways to make quick cash, pay bills and save more t… https://t.co/JVi9zileIe\n",
      "🚧 Pakenham/Cranbourne lines: Buses replace trains Caulfield - Flinders St until last train, Sun 14 Jul due to major… https://t.co/Fc8bffHt8M\n",
      "Masses of tangled plastic litter and packets of snacks were retrieved from their stomachs, with the heaviest amount… https://t.co/lcZYd6f2qb\n",
      "🚧 Stony Point line: Buses replace trains Frankston - Stony Point until last train, Sun 14 Jul due to major project… https://t.co/mjHAAHD1mM\n",
      "Rebekha Sharkie's Centre Alliance colleagues have become \"two of Australia’s most powerful politicians\" as power br… https://t.co/N55SVVU3Ug\n",
      "Australian shares closed higher on Thursday as comments from the US Fed chairman renewed hopes of policy stimulus.… https://t.co/vO2r6gj8ka\n",
      "🚧 Frankston line: Buses replace trains Caulfield - Flinders St until last train, Sun 14 Jul due to major project wo… https://t.co/uKBrJDv8kC\n",
      "#BREAKING: Anthony Albanese and the ALP National Executive have shelved their plans to expel union leader John Setk… https://t.co/SV83uHBEL9\n",
      "Andrew Richards: Ten years ago there's was enough 'fat in the system' to ensure that even if you lost a couple of u… https://t.co/n07NMsCMEt\n",
      "Thelma Plum transforms trauma into triumph on this week's feature album, Better In Blak (wth a lil' help from Dave… https://t.co/pXfV4QMVGf\n",
      "Regulator set to ban breast implants more than 100,000 Australian women already have https://t.co/vCK9Duo5IB\n"
     ]
    }
   ],
   "source": [
    "# Recent tweets from accounts you follow:\n",
    "tweets = api.home_timeline()\n",
    "for tweet in tweets:\n",
    "    print(tweet.text)"
   ]
  },
  {
   "cell_type": "markdown",
   "metadata": {
    "colab_type": "text",
    "id": "k2NpPlOIJhQ6"
   },
   "source": [
    "The request to see your own recent tweets is similar, but uses the `user_timeline` endpoint. Try this below:"
   ]
  },
  {
   "cell_type": "code",
   "execution_count": 15,
   "metadata": {
    "colab": {},
    "colab_type": "code",
    "id": "QMlhdx5NJhQ6"
   },
   "outputs": [
    {
     "name": "stdout",
     "output_type": "stream",
     "text": [
      "#NewProfilePic https://t.co/z1uyMcGa11\n",
      "What you can control is just yourself. https://t.co/pGhVYAYkJB\n"
     ]
    }
   ],
   "source": [
    "tweets = api.user_timeline()\n",
    "for tweet in tweets:\n",
    "    print(tweet.text)"
   ]
  },
  {
   "cell_type": "code",
   "execution_count": null,
   "metadata": {},
   "outputs": [],
   "source": []
  },
  {
   "cell_type": "markdown",
   "metadata": {
    "colab_type": "text",
    "id": "qY7oM-lJJhQ8"
   },
   "source": [
    "Now, instead of printing the text of each tweet, print the `created_at` and `id_str` methods:"
   ]
  },
  {
   "cell_type": "code",
   "execution_count": 16,
   "metadata": {
    "colab": {},
    "colab_type": "code",
    "id": "aUOlNdG8JhQ9"
   },
   "outputs": [
    {
     "name": "stdout",
     "output_type": "stream",
     "text": [
      "2019-01-13 23:52:25\n",
      "#NewProfilePic https://t.co/z1uyMcGa11\n",
      "2019-01-13 23:49:11\n",
      "What you can control is just yourself. https://t.co/pGhVYAYkJB\n"
     ]
    }
   ],
   "source": [
    "tweets = api.user_timeline()\n",
    "for tweet in tweets:\n",
    "    print(tweet.created_at)\n",
    "#     print(tweet.id_str)\n",
    "    print(tweet.text)"
   ]
  },
  {
   "cell_type": "code",
   "execution_count": 21,
   "metadata": {},
   "outputs": [],
   "source": [
    "tweet_list = []\n",
    "\n",
    "for tweet in tweets:\n",
    "    tweet_list.append(tweet._json)"
   ]
  },
  {
   "cell_type": "code",
   "execution_count": 22,
   "metadata": {},
   "outputs": [],
   "source": [
    "import pandas as pd\n",
    "import matplotlib.pyplot as plt\n"
   ]
  },
  {
   "cell_type": "code",
   "execution_count": 23,
   "metadata": {},
   "outputs": [],
   "source": [
    "df = pd.DataFrame(tweet_list)"
   ]
  },
  {
   "cell_type": "code",
   "execution_count": 25,
   "metadata": {},
   "outputs": [],
   "source": [
    "df['created_at'] = pd.to_datetime(df['created_at'])\n",
    "df.set_index('created_at', inplace=True)\n"
   ]
  },
  {
   "cell_type": "code",
   "execution_count": 26,
   "metadata": {},
   "outputs": [
    {
     "data": {
      "text/plain": [
       "contributors                 object\n",
       "coordinates                  object\n",
       "entities                     object\n",
       "extended_entities            object\n",
       "favorite_count                int64\n",
       "favorited                      bool\n",
       "geo                          object\n",
       "id                            int64\n",
       "id_str                       object\n",
       "in_reply_to_screen_name      object\n",
       "in_reply_to_status_id        object\n",
       "in_reply_to_status_id_str    object\n",
       "in_reply_to_user_id          object\n",
       "in_reply_to_user_id_str      object\n",
       "is_quote_status                bool\n",
       "lang                         object\n",
       "place                        object\n",
       "possibly_sensitive             bool\n",
       "retweet_count                 int64\n",
       "retweeted                      bool\n",
       "source                       object\n",
       "text                         object\n",
       "truncated                      bool\n",
       "user                         object\n",
       "dtype: object"
      ]
     },
     "execution_count": 26,
     "metadata": {},
     "output_type": "execute_result"
    }
   ],
   "source": [
    "df.dtypes\n"
   ]
  },
  {
   "cell_type": "code",
   "execution_count": 28,
   "metadata": {},
   "outputs": [
    {
     "data": {
      "image/png": "[encoded data removed]",
      "text/plain": [
       "<Figure size 1080x432 with 1 Axes>"
      ]
     },
     "metadata": {
      "needs_background": "light"
     },
     "output_type": "display_data"
    }
   ],
   "source": [
    "y = df['id'].resample('D').sum()\n",
    "y.plot(figsize=(15, 6));"
   ]
  },
  {
   "cell_type": "code",
   "execution_count": 30,
   "metadata": {},
   "outputs": [],
   "source": [
    "from wordcloud import WordCloud, STOPWORDS"
   ]
  },
  {
   "cell_type": "code",
   "execution_count": 31,
   "metadata": {},
   "outputs": [],
   "source": [
    "def check_tweets(twitter_handle):\n",
    "    json_str = []\n",
    "    for status in tweepy.Cursor(api.user_timeline,id=twitter_handle).items(200):\n",
    "        json_str.append(status._json)\n",
    "    \n",
    "    df = pd.DataFrame(json_str)\n",
    "    df['created_at'] = pd.to_datetime(df['created_at'])\n",
    "    df.set_index('created_at', inplace=True)\n",
    "    \n",
    "    y = df['id'].resample('D').count()\n",
    "    y.plot(figsize=(15, 6))\n",
    "    plt.show();"
   ]
  },
  {
   "cell_type": "code",
   "execution_count": 32,
   "metadata": {},
   "outputs": [],
   "source": [
    "def check_tweets_wordcloud(twitter_handle, withall=True):\n",
    "    json_str = []\n",
    "    for status in tweepy.Cursor(api.user_timeline,id=twitter_handle).items(200):\n",
    "        json_str.append(status._json)\n",
    "    \n",
    "    df = pd.DataFrame(json_str)\n",
    "    \n",
    "    if withall: \n",
    "        text = df.text.values\n",
    "    else:\n",
    "        text = ','.join([x for x in df.text.values])\n",
    "        blob = TextBlob(text)\n",
    "        text = blob.noun_phrases\n",
    "    \n",
    "    wordcloud = WordCloud(\n",
    "        width = 3000\n",
    "        , height = 2000\n",
    "        , background_color = 'black'\n",
    "        , stopwords = STOPWORDS\n",
    "    ).generate(str(text))\n",
    "    \n",
    "    fig = plt.figure(figsize = (40, 30), facecolor = 'k', edgecolor = 'k')\n",
    "    plt.imshow(wordcloud, interpolation = 'bilinear')\n",
    "    plt.axis('off')\n",
    "    plt.show()"
   ]
  },
  {
   "cell_type": "code",
   "execution_count": 34,
   "metadata": {},
   "outputs": [
    {
     "data": {
      "image/png": "[encoded data removed]",
      "text/plain": [
       "<Figure size 1080x432 with 1 Axes>"
      ]
     },
     "metadata": {
      "needs_background": "light"
     },
     "output_type": "display_data"
    }
   ],
   "source": [
    "check_tweets('realDonaldTrump')"
   ]
  },
  {
   "cell_type": "code",
   "execution_count": null,
   "metadata": {},
   "outputs": [],
   "source": []
  },
  {
   "cell_type": "code",
   "execution_count": 36,
   "metadata": {},
   "outputs": [
    {
     "ename": "NameError",
     "evalue": "name 'TextBlob' is not defined",
     "output_type": "error",
     "traceback": [
      "\u001b[0;31m---------------------------------------------------------------------------\u001b[0m",
      "\u001b[0;31mNameError\u001b[0m                                 Traceback (most recent call last)",
      "\u001b[0;32m<ipython-input-36-74ef9b1c9041>\u001b[0m in \u001b[0;36m<module>\u001b[0;34m\u001b[0m\n\u001b[0;32m----> 1\u001b[0;31m \u001b[0mcheck_tweets_wordcloud\u001b[0m\u001b[0;34m(\u001b[0m\u001b[0;34m'realDonaldTrump'\u001b[0m\u001b[0;34m,\u001b[0m \u001b[0mwithall\u001b[0m\u001b[0;34m=\u001b[0m\u001b[0;32mFalse\u001b[0m\u001b[0;34m)\u001b[0m\u001b[0;34m\u001b[0m\u001b[0;34m\u001b[0m\u001b[0m\n\u001b[0m",
      "\u001b[0;32m<ipython-input-32-4cdfd83163fc>\u001b[0m in \u001b[0;36mcheck_tweets_wordcloud\u001b[0;34m(twitter_handle, withall)\u001b[0m\n\u001b[1;32m     10\u001b[0m     \u001b[0;32melse\u001b[0m\u001b[0;34m:\u001b[0m\u001b[0;34m\u001b[0m\u001b[0;34m\u001b[0m\u001b[0m\n\u001b[1;32m     11\u001b[0m         \u001b[0mtext\u001b[0m \u001b[0;34m=\u001b[0m \u001b[0;34m','\u001b[0m\u001b[0;34m.\u001b[0m\u001b[0mjoin\u001b[0m\u001b[0;34m(\u001b[0m\u001b[0;34m[\u001b[0m\u001b[0mx\u001b[0m \u001b[0;32mfor\u001b[0m \u001b[0mx\u001b[0m \u001b[0;32min\u001b[0m \u001b[0mdf\u001b[0m\u001b[0;34m.\u001b[0m\u001b[0mtext\u001b[0m\u001b[0;34m.\u001b[0m\u001b[0mvalues\u001b[0m\u001b[0;34m]\u001b[0m\u001b[0;34m)\u001b[0m\u001b[0;34m\u001b[0m\u001b[0;34m\u001b[0m\u001b[0m\n\u001b[0;32m---> 12\u001b[0;31m         \u001b[0mblob\u001b[0m \u001b[0;34m=\u001b[0m \u001b[0mTextBlob\u001b[0m\u001b[0;34m(\u001b[0m\u001b[0mtext\u001b[0m\u001b[0;34m)\u001b[0m\u001b[0;34m\u001b[0m\u001b[0;34m\u001b[0m\u001b[0m\n\u001b[0m\u001b[1;32m     13\u001b[0m         \u001b[0mtext\u001b[0m \u001b[0;34m=\u001b[0m \u001b[0mblob\u001b[0m\u001b[0;34m.\u001b[0m\u001b[0mnoun_phrases\u001b[0m\u001b[0;34m\u001b[0m\u001b[0;34m\u001b[0m\u001b[0m\n\u001b[1;32m     14\u001b[0m \u001b[0;34m\u001b[0m\u001b[0m\n",
      "\u001b[0;31mNameError\u001b[0m: name 'TextBlob' is not defined"
     ]
    }
   ],
   "source": [
    "check_tweets_wordcloud('realDonaldTrump', withall=False)"
   ]
  },
  {
   "cell_type": "code",
   "execution_count": null,
   "metadata": {},
   "outputs": [],
   "source": []
  },
  {
   "cell_type": "code",
   "execution_count": null,
   "metadata": {},
   "outputs": [],
   "source": []
  },
  {
   "cell_type": "code",
   "execution_count": null,
   "metadata": {},
   "outputs": [],
   "source": []
  },
  {
   "cell_type": "code",
   "execution_count": null,
   "metadata": {},
   "outputs": [],
   "source": []
  },
  {
   "cell_type": "markdown",
   "metadata": {
    "colab_type": "text",
    "id": "3PibchrmJhQ-"
   },
   "source": [
    "You can create a tweet as follows:"
   ]
  },
  {
   "cell_type": "code",
   "execution_count": 17,
   "metadata": {
    "colab": {},
    "colab_type": "code",
    "id": "IwzTjf1gJhQ_"
   },
   "outputs": [],
   "source": [
    "# create a tweet:\n",
    "tweet = api.update_status('Test: Made with Tweepy')"
   ]
  },
  {
   "cell_type": "markdown",
   "metadata": {
    "colab_type": "text",
    "id": "TtlXvbjoJhRB"
   },
   "source": [
    "(Nb. Don't abuse this feature! If you try to generate a zillion tweets in a loop, Twitter will ban youur account.)"
   ]
  },
  {
   "cell_type": "markdown",
   "metadata": {
    "colab_type": "text",
    "id": "awUIiruTJhRB"
   },
   "source": [
    "Tweets can be deleted by reference to their `id_str` attribute:"
   ]
  },
  {
   "cell_type": "code",
   "execution_count": 18,
   "metadata": {
    "colab": {},
    "colab_type": "code",
    "id": "tKPSCOEBJhRC"
   },
   "outputs": [],
   "source": [
    "# delete a tweet:\n",
    "status = api.destroy_status(tweet.id_str)"
   ]
  },
  {
   "cell_type": "markdown",
   "metadata": {
    "colab_type": "text",
    "id": "hEt9NWJBJhRE"
   },
   "source": [
    "You can follow a Tweeter:"
   ]
  },
  {
   "cell_type": "code",
   "execution_count": 19,
   "metadata": {
    "colab": {},
    "colab_type": "code",
    "id": "CDWxR8wOJhRF"
   },
   "outputs": [
    {
     "data": {
      "text/plain": [
       "User(_api=<tweepy.api.API object at 0x1137237f0>, _json={'id': 10228272, 'id_str': '10228272', 'name': 'YouTube', 'screen_name': 'YouTube', 'location': 'San Bruno, CA', 'description': 'Pivoting to video.', 'url': 'https://t.co/F3fLcfn45H', 'entities': {'url': {'urls': [{'url': 'https://t.co/F3fLcfn45H', 'expanded_url': 'http://youtube.com', 'display_url': 'youtube.com', 'indices': [0, 23]}]}, 'description': {'urls': []}}, 'protected': False, 'followers_count': 71642605, 'friends_count': 1037, 'listed_count': 81978, 'created_at': 'Tue Nov 13 21:43:46 +0000 2007', 'favourites_count': 2494, 'utc_offset': None, 'time_zone': None, 'geo_enabled': False, 'verified': True, 'statuses_count': 23510, 'lang': None, 'status': {'created_at': 'Wed Jul 10 15:42:06 +0000 2019', 'id': 1148980725900808193, 'id_str': '1148980725900808193', 'text': 'Meet #CreatorOnTheRise, Stephanie Moratto, who vlogs about her daily life with her 59 animals! 🐴 →… https://t.co/qS7tQTMuDK', 'truncated': True, 'entities': {'hashtags': [{'text': 'CreatorOnTheRise', 'indices': [5, 22]}], 'symbols': [], 'user_mentions': [], 'urls': [{'url': 'https://t.co/qS7tQTMuDK', 'expanded_url': 'https://twitter.com/i/web/status/1148980725900808193', 'display_url': 'twitter.com/i/web/status/1…', 'indices': [100, 123]}]}, 'source': '<a href=\"http://twitter.com\" rel=\"nofollow\">Twitter Web Client</a>', 'in_reply_to_status_id': None, 'in_reply_to_status_id_str': None, 'in_reply_to_user_id': None, 'in_reply_to_user_id_str': None, 'in_reply_to_screen_name': None, 'geo': None, 'coordinates': None, 'place': None, 'contributors': None, 'is_quote_status': False, 'retweet_count': 68, 'favorite_count': 777, 'favorited': False, 'retweeted': False, 'possibly_sensitive': False, 'lang': 'en'}, 'contributors_enabled': False, 'is_translator': False, 'is_translation_enabled': True, 'profile_background_color': 'AF0000', 'profile_background_image_url': 'http://abs.twimg.com/images/themes/theme14/bg.gif', 'profile_background_image_url_https': 'https://abs.twimg.com/images/themes/theme14/bg.gif', 'profile_background_tile': True, 'profile_image_url': 'http://pbs.twimg.com/profile_images/1148327441527689217/1QpS06D6_normal.png', 'profile_image_url_https': 'https://pbs.twimg.com/profile_images/1148327441527689217/1QpS06D6_normal.png', 'profile_banner_url': 'https://pbs.twimg.com/profile_banners/10228272/1562625852', 'profile_link_color': 'C9191D', 'profile_sidebar_border_color': '000000', 'profile_sidebar_fill_color': 'EFEFEF', 'profile_text_color': '333333', 'profile_use_background_image': True, 'has_extended_profile': False, 'default_profile': False, 'default_profile_image': False, 'following': True, 'follow_request_sent': False, 'notifications': False, 'muting': False, 'translator_type': 'regular'}, id=10228272, id_str='10228272', name='YouTube', screen_name='YouTube', location='San Bruno, CA', description='Pivoting to video.', url='https://t.co/F3fLcfn45H', entities={'url': {'urls': [{'url': 'https://t.co/F3fLcfn45H', 'expanded_url': 'http://youtube.com', 'display_url': 'youtube.com', 'indices': [0, 23]}]}, 'description': {'urls': []}}, protected=False, followers_count=71642605, friends_count=1037, listed_count=81978, created_at=datetime.datetime(2007, 11, 13, 21, 43, 46), favourites_count=2494, utc_offset=None, time_zone=None, geo_enabled=False, verified=True, statuses_count=23510, lang=None, status=Status(_api=<tweepy.api.API object at 0x1137237f0>, _json={'created_at': 'Wed Jul 10 15:42:06 +0000 2019', 'id': 1148980725900808193, 'id_str': '1148980725900808193', 'text': 'Meet #CreatorOnTheRise, Stephanie Moratto, who vlogs about her daily life with her 59 animals! 🐴 →… https://t.co/qS7tQTMuDK', 'truncated': True, 'entities': {'hashtags': [{'text': 'CreatorOnTheRise', 'indices': [5, 22]}], 'symbols': [], 'user_mentions': [], 'urls': [{'url': 'https://t.co/qS7tQTMuDK', 'expanded_url': 'https://twitter.com/i/web/status/1148980725900808193', 'display_url': 'twitter.com/i/web/status/1…', 'indices': [100, 123]}]}, 'source': '<a href=\"http://twitter.com\" rel=\"nofollow\">Twitter Web Client</a>', 'in_reply_to_status_id': None, 'in_reply_to_status_id_str': None, 'in_reply_to_user_id': None, 'in_reply_to_user_id_str': None, 'in_reply_to_screen_name': None, 'geo': None, 'coordinates': None, 'place': None, 'contributors': None, 'is_quote_status': False, 'retweet_count': 68, 'favorite_count': 777, 'favorited': False, 'retweeted': False, 'possibly_sensitive': False, 'lang': 'en'}, created_at=datetime.datetime(2019, 7, 10, 15, 42, 6), id=1148980725900808193, id_str='1148980725900808193', text='Meet #CreatorOnTheRise, Stephanie Moratto, who vlogs about her daily life with her 59 animals! 🐴 →… https://t.co/qS7tQTMuDK', truncated=True, entities={'hashtags': [{'text': 'CreatorOnTheRise', 'indices': [5, 22]}], 'symbols': [], 'user_mentions': [], 'urls': [{'url': 'https://t.co/qS7tQTMuDK', 'expanded_url': 'https://twitter.com/i/web/status/1148980725900808193', 'display_url': 'twitter.com/i/web/status/1…', 'indices': [100, 123]}]}, source='Twitter Web Client', source_url='http://twitter.com', in_reply_to_status_id=None, in_reply_to_status_id_str=None, in_reply_to_user_id=None, in_reply_to_user_id_str=None, in_reply_to_screen_name=None, geo=None, coordinates=None, place=None, contributors=None, is_quote_status=False, retweet_count=68, favorite_count=777, favorited=False, retweeted=False, possibly_sensitive=False, lang='en'), contributors_enabled=False, is_translator=False, is_translation_enabled=True, profile_background_color='AF0000', profile_background_image_url='http://abs.twimg.com/images/themes/theme14/bg.gif', profile_background_image_url_https='https://abs.twimg.com/images/themes/theme14/bg.gif', profile_background_tile=True, profile_image_url='http://pbs.twimg.com/profile_images/1148327441527689217/1QpS06D6_normal.png', profile_image_url_https='https://pbs.twimg.com/profile_images/1148327441527689217/1QpS06D6_normal.png', profile_banner_url='https://pbs.twimg.com/profile_banners/10228272/1562625852', profile_link_color='C9191D', profile_sidebar_border_color='000000', profile_sidebar_fill_color='EFEFEF', profile_text_color='333333', profile_use_background_image=True, has_extended_profile=False, default_profile=False, default_profile_image=False, following=True, follow_request_sent=False, notifications=False, muting=False, translator_type='regular')"
      ]
     },
     "execution_count": 19,
     "metadata": {},
     "output_type": "execute_result"
    }
   ],
   "source": [
    "# follow:\n",
    "api.create_friendship('@YouTube')"
   ]
  },
  {
   "cell_type": "markdown",
   "metadata": {
    "colab_type": "text",
    "id": "Nbp2vRONJhRH"
   },
   "source": [
    "or unfollow:"
   ]
  },
  {
   "cell_type": "code",
   "execution_count": 20,
   "metadata": {
    "colab": {},
    "colab_type": "code",
    "id": "wCsNNVT9JhRH"
   },
   "outputs": [
    {
     "data": {
      "text/plain": [
       "User(_api=<tweepy.api.API object at 0x1137237f0>, _json={'id': 10228272, 'id_str': '10228272', 'name': 'YouTube', 'screen_name': 'YouTube', 'location': 'San Bruno, CA', 'description': 'Pivoting to video.', 'url': 'https://t.co/F3fLcfn45H', 'entities': {'url': {'urls': [{'url': 'https://t.co/F3fLcfn45H', 'expanded_url': 'http://youtube.com', 'display_url': 'youtube.com', 'indices': [0, 23]}]}, 'description': {'urls': []}}, 'protected': False, 'followers_count': 71642609, 'friends_count': 1037, 'listed_count': 81978, 'created_at': 'Tue Nov 13 21:43:46 +0000 2007', 'favourites_count': 2494, 'utc_offset': None, 'time_zone': None, 'geo_enabled': False, 'verified': True, 'statuses_count': 23510, 'lang': None, 'status': {'created_at': 'Wed Jul 10 15:42:06 +0000 2019', 'id': 1148980725900808193, 'id_str': '1148980725900808193', 'text': 'Meet #CreatorOnTheRise, Stephanie Moratto, who vlogs about her daily life with her 59 animals! 🐴 →… https://t.co/qS7tQTMuDK', 'truncated': True, 'entities': {'hashtags': [{'text': 'CreatorOnTheRise', 'indices': [5, 22]}], 'symbols': [], 'user_mentions': [], 'urls': [{'url': 'https://t.co/qS7tQTMuDK', 'expanded_url': 'https://twitter.com/i/web/status/1148980725900808193', 'display_url': 'twitter.com/i/web/status/1…', 'indices': [100, 123]}]}, 'source': '<a href=\"http://twitter.com\" rel=\"nofollow\">Twitter Web Client</a>', 'in_reply_to_status_id': None, 'in_reply_to_status_id_str': None, 'in_reply_to_user_id': None, 'in_reply_to_user_id_str': None, 'in_reply_to_screen_name': None, 'geo': None, 'coordinates': None, 'place': None, 'contributors': None, 'is_quote_status': False, 'retweet_count': 68, 'favorite_count': 777, 'favorited': False, 'retweeted': False, 'possibly_sensitive': False, 'lang': 'en'}, 'contributors_enabled': False, 'is_translator': False, 'is_translation_enabled': True, 'profile_background_color': 'AF0000', 'profile_background_image_url': 'http://abs.twimg.com/images/themes/theme14/bg.gif', 'profile_background_image_url_https': 'https://abs.twimg.com/images/themes/theme14/bg.gif', 'profile_background_tile': True, 'profile_image_url': 'http://pbs.twimg.com/profile_images/1148327441527689217/1QpS06D6_normal.png', 'profile_image_url_https': 'https://pbs.twimg.com/profile_images/1148327441527689217/1QpS06D6_normal.png', 'profile_banner_url': 'https://pbs.twimg.com/profile_banners/10228272/1562625852', 'profile_link_color': 'C9191D', 'profile_sidebar_border_color': '000000', 'profile_sidebar_fill_color': 'EFEFEF', 'profile_text_color': '333333', 'profile_use_background_image': True, 'has_extended_profile': False, 'default_profile': False, 'default_profile_image': False, 'following': True, 'follow_request_sent': False, 'notifications': False, 'muting': False, 'translator_type': 'regular'}, id=10228272, id_str='10228272', name='YouTube', screen_name='YouTube', location='San Bruno, CA', description='Pivoting to video.', url='https://t.co/F3fLcfn45H', entities={'url': {'urls': [{'url': 'https://t.co/F3fLcfn45H', 'expanded_url': 'http://youtube.com', 'display_url': 'youtube.com', 'indices': [0, 23]}]}, 'description': {'urls': []}}, protected=False, followers_count=71642609, friends_count=1037, listed_count=81978, created_at=datetime.datetime(2007, 11, 13, 21, 43, 46), favourites_count=2494, utc_offset=None, time_zone=None, geo_enabled=False, verified=True, statuses_count=23510, lang=None, status=Status(_api=<tweepy.api.API object at 0x1137237f0>, _json={'created_at': 'Wed Jul 10 15:42:06 +0000 2019', 'id': 1148980725900808193, 'id_str': '1148980725900808193', 'text': 'Meet #CreatorOnTheRise, Stephanie Moratto, who vlogs about her daily life with her 59 animals! 🐴 →… https://t.co/qS7tQTMuDK', 'truncated': True, 'entities': {'hashtags': [{'text': 'CreatorOnTheRise', 'indices': [5, 22]}], 'symbols': [], 'user_mentions': [], 'urls': [{'url': 'https://t.co/qS7tQTMuDK', 'expanded_url': 'https://twitter.com/i/web/status/1148980725900808193', 'display_url': 'twitter.com/i/web/status/1…', 'indices': [100, 123]}]}, 'source': '<a href=\"http://twitter.com\" rel=\"nofollow\">Twitter Web Client</a>', 'in_reply_to_status_id': None, 'in_reply_to_status_id_str': None, 'in_reply_to_user_id': None, 'in_reply_to_user_id_str': None, 'in_reply_to_screen_name': None, 'geo': None, 'coordinates': None, 'place': None, 'contributors': None, 'is_quote_status': False, 'retweet_count': 68, 'favorite_count': 777, 'favorited': False, 'retweeted': False, 'possibly_sensitive': False, 'lang': 'en'}, created_at=datetime.datetime(2019, 7, 10, 15, 42, 6), id=1148980725900808193, id_str='1148980725900808193', text='Meet #CreatorOnTheRise, Stephanie Moratto, who vlogs about her daily life with her 59 animals! 🐴 →… https://t.co/qS7tQTMuDK', truncated=True, entities={'hashtags': [{'text': 'CreatorOnTheRise', 'indices': [5, 22]}], 'symbols': [], 'user_mentions': [], 'urls': [{'url': 'https://t.co/qS7tQTMuDK', 'expanded_url': 'https://twitter.com/i/web/status/1148980725900808193', 'display_url': 'twitter.com/i/web/status/1…', 'indices': [100, 123]}]}, source='Twitter Web Client', source_url='http://twitter.com', in_reply_to_status_id=None, in_reply_to_status_id_str=None, in_reply_to_user_id=None, in_reply_to_user_id_str=None, in_reply_to_screen_name=None, geo=None, coordinates=None, place=None, contributors=None, is_quote_status=False, retweet_count=68, favorite_count=777, favorited=False, retweeted=False, possibly_sensitive=False, lang='en'), contributors_enabled=False, is_translator=False, is_translation_enabled=True, profile_background_color='AF0000', profile_background_image_url='http://abs.twimg.com/images/themes/theme14/bg.gif', profile_background_image_url_https='https://abs.twimg.com/images/themes/theme14/bg.gif', profile_background_tile=True, profile_image_url='http://pbs.twimg.com/profile_images/1148327441527689217/1QpS06D6_normal.png', profile_image_url_https='https://pbs.twimg.com/profile_images/1148327441527689217/1QpS06D6_normal.png', profile_banner_url='https://pbs.twimg.com/profile_banners/10228272/1562625852', profile_link_color='C9191D', profile_sidebar_border_color='000000', profile_sidebar_fill_color='EFEFEF', profile_text_color='333333', profile_use_background_image=True, has_extended_profile=False, default_profile=False, default_profile_image=False, following=True, follow_request_sent=False, notifications=False, muting=False, translator_type='regular')"
      ]
     },
     "execution_count": 20,
     "metadata": {},
     "output_type": "execute_result"
    }
   ],
   "source": [
    "# unfollow:\n",
    "api.destroy_friendship('@YouTube')"
   ]
  },
  {
   "cell_type": "code",
   "execution_count": null,
   "metadata": {
    "colab": {},
    "colab_type": "code",
    "id": "ND4BmdkvJhRJ"
   },
   "outputs": [],
   "source": []
  },
  {
   "cell_type": "markdown",
   "metadata": {
    "colab_type": "text",
    "id": "YGIWBU4FJn0V"
   },
   "source": [
    ">\n",
    ">"
   ]
  },
  {
   "cell_type": "markdown",
   "metadata": {
    "colab_type": "text",
    "id": "l_IsftzjJp6w"
   },
   "source": [
    ">\n",
    ">"
   ]
  },
  {
   "cell_type": "markdown",
   "metadata": {
    "colab_type": "text",
    "id": "59l7EOATJrJO"
   },
   "source": [
    "\n",
    "\n",
    "---\n",
    "\n",
    "\n",
    "\n",
    "---\n",
    "\n",
    ">  > > > > > > > > © 2019 Data Science Institute of Australia\n",
    "\n",
    "\n",
    "\n",
    "---\n",
    "\n",
    "\n",
    "\n",
    "---\n",
    "\n"
   ]
  }
 ],
 "metadata": {
  "colab": {
   "collapsed_sections": [],
   "name": "DSIA Lab 2.2.2.ipynb",
   "provenance": [],
   "version": "0.3.2"
  },
  "kernelspec": {
   "display_name": "Python 3",
   "language": "python",
   "name": "python3"
  },
  "language_info": {
   "codemirror_mode": {
    "name": "ipython",
    "version": 3
   },
   "file_extension": ".py",
   "mimetype": "text/x-python",
   "name": "python",
   "nbconvert_exporter": "python",
   "pygments_lexer": "ipython3",
   "version": "3.7.3"
  }
 },
 "nbformat": 4,
 "nbformat_minor": 2
}
