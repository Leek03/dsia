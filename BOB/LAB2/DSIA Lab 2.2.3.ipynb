{
 "cells": [
  {
   "cell_type": "markdown",
   "metadata": {
    "colab_type": "text",
    "id": "nOGGU7gNKck0"
   },
   "source": [
    " ![alt text](https://i.imgur.com/1WaY7aA.png)\n",
    "\n",
    "---\n",
    "\n",
    "\n",
    "\n",
    "---\n",
    "\n"
   ]
  },
  {
   "cell_type": "markdown",
   "metadata": {
    "colab_type": "text",
    "id": "_D_idRWZKck4"
   },
   "source": [
    "# Lab 2.2.3 \n",
    "# *Mining Social Media on Reddit*"
   ]
  },
  {
   "cell_type": "markdown",
   "metadata": {
    "colab_type": "text",
    "id": "atJ1XMr3Kck7"
   },
   "source": [
    "## The Reddit API and the PRAW Package"
   ]
  },
  {
   "cell_type": "markdown",
   "metadata": {
    "colab_type": "text",
    "id": "aJ9o1EfAKck-"
   },
   "source": [
    "The Reddit API is rich and complex, with many endpoints (https://www.reddit.com/dev/api/). It includes methods for navigating its collections, which include various kinds of media as well as comments. Fortunately, the Python library PRAW reduces much of this complexity.\n",
    "\n",
    "Reddit requires developers to create and authenticate an app before they can use the API, but the process is much less onerus than some, and does not have waiting period for approval of new developers (as of 18 August 2018)."
   ]
  },
  {
   "cell_type": "markdown",
   "metadata": {
    "colab_type": "text",
    "id": "egz9IUhlKclB"
   },
   "source": [
    "### 1. Create a Reddit App\n",
    "\n",
    "Go to https://www.reddit.com/prefs/apps and click \"create an app\".\n",
    "\n",
    "Enter the following in the form:\n",
    "\n",
    "- a name for your app\n",
    "- select \"script\" radio button\n",
    "- a description\n",
    "- a redirect URI\n",
    "\n",
    "(Nb. For pulling data into a data science experiment, a local port can be used for the Redirect URI; try http://127.0.0.1:1410)\n",
    "\n",
    "![image.png](attachment:image.png)\n",
    "\n",
    "- click \"create app\"\n",
    "- from the form that displays, copy the following to a local text file (or to this notebook):\n",
    "\n",
    "  - name (the name you gave to your app)\n",
    "  - redirect URI\n",
    "  - personal use script (this is your OAuth 2 Client ID)\n",
    "  - secret (this is your OAuth 2 Secret)"
   ]
  },
  {
   "cell_type": "markdown",
   "metadata": {
    "colab_type": "text",
    "id": "LF9V-LJ2KclE"
   },
   "source": [
    "### 2. Register for API Access\n",
    "\n",
    "- follow the link at https://www.reddit.com/wiki/api and read the terms of use for Reddit API access \n",
    "- fill in the form fields at the bottom \n",
    "  - make sure to enter your new OAuth Client ID where indicated\n",
    "  - your use case could be something like \"Training in API usage for data science projects\"\n",
    "  - your platform could be something like \"Jupyter Notebooks / Python\"\n",
    "  \n",
    "- click \"SUBMIT\"\n",
    " \n",
    "- when asked for User-Agent, enter something that fits this pattern:\n",
    "  `your_os-python:your_reddit_appname:v1.0 (by /u/your_reddit_username)`"
   ]
  },
  {
   "cell_type": "markdown",
   "metadata": {
    "colab_type": "text",
    "id": "JIsv8YAMKclG"
   },
   "source": [
    "### 3. Load Python Libraries"
   ]
  },
  {
   "cell_type": "code",
   "execution_count": 1,
   "metadata": {
    "colab": {},
    "colab_type": "code",
    "id": "xqi2BT66KclI"
   },
   "outputs": [],
   "source": [
    "import praw\n",
    "import requests\n",
    "import json\n",
    "import pprint\n",
    "from datetime import datetime, date, time"
   ]
  },
  {
   "cell_type": "markdown",
   "metadata": {
    "colab_type": "text",
    "id": "wwXaO9GPKclP"
   },
   "source": [
    "### 4. Authenticate from your Python script"
   ]
  },
  {
   "cell_type": "markdown",
   "metadata": {
    "colab_type": "text",
    "id": "ZF5oh54RKclR"
   },
   "source": [
    "You could assign your authentication details explicitly, as follows:"
   ]
  },
  {
   "cell_type": "code",
   "execution_count": 2,
   "metadata": {
    "colab": {},
    "colab_type": "code",
    "id": "qH2-X9juKclS"
   },
   "outputs": [],
   "source": [
    "my_user_agent = 'BOBBBB'   # your user Agent string goes in here\n",
    "my_client_id = 'ze9HIBPNs8AtSg'   # your Client ID string goes in here\n",
    "my_client_secret = 'P1LuJX-1lIyPhZbp2iY3QpwF-8c'   # your Secret string goes in here"
   ]
  },
  {
   "cell_type": "markdown",
   "metadata": {
    "colab_type": "text",
    "id": "1TmzPxHIKclX"
   },
   "source": [
    "A better way would be to store these details externally, so they are not displayed in the notebook:\n",
    "\n",
    "- create a file called \"auth_reddit.json\" in your \"notebooks\" directory, and save your credentials there in JSON format:\n",
    "\n",
    "`{   \"my_client_id\": \"your Client ID string goes in here\",` <br>\n",
    "&nbsp;&nbsp;&nbsp;&nbsp;&nbsp;&nbsp;&nbsp;&nbsp;` \"my_client_secret\": \"your Secret string goes in here\",` <br>\n",
    "&nbsp;&nbsp;&nbsp;&nbsp;&nbsp;&nbsp;&nbsp;&nbsp;`\"my_user_agent\": \"your user Agent string goes in here\"` <br>\n",
    "`}`\n",
    "\n",
    "Use the following code to load the credentials:  "
   ]
  },
  {
   "cell_type": "code",
   "execution_count": 9,
   "metadata": {},
   "outputs": [],
   "source": [
    "def writeTOjsonfile(path, filename, data):\n",
    "    filrPathNameWExt = './' + path +'./' + filename + '.json'\n",
    "    with open(filrPathNameWExt, 'w') as fp:\n",
    "        json.dump(data, fp)\n",
    "        \n",
    "        \n",
    "path = './'\n",
    "filename = 'auth_reddit'\n",
    "\n",
    "data = {}\n",
    "\n",
    "data['my_user_agent']= 'BOBBBB'\n",
    "data[\"my_client_id\"] = 'ze9HIBPNs8AtSg'\n",
    "data[\"my_client_secret\"] = 'P1LuJX-1lIyPhZbp2iY3QpwF-8c'\n",
    "\n",
    "writeTOjsonfile(path, filename, data)"
   ]
  },
  {
   "cell_type": "code",
   "execution_count": null,
   "metadata": {},
   "outputs": [],
   "source": []
  },
  {
   "cell_type": "code",
   "execution_count": null,
   "metadata": {},
   "outputs": [],
   "source": []
  },
  {
   "cell_type": "code",
   "execution_count": null,
   "metadata": {},
   "outputs": [],
   "source": []
  },
  {
   "cell_type": "code",
   "execution_count": null,
   "metadata": {},
   "outputs": [],
   "source": []
  },
  {
   "cell_type": "code",
   "execution_count": 3,
   "metadata": {
    "colab": {},
    "colab_type": "code",
    "id": "mFbFWGnVKclY"
   },
   "outputs": [
    {
     "data": {
      "text/plain": [
       "'/Users/bob/Desktop/Datascience/DSIA-SYD-FT-201907/DSIA-SYD-FT-201907/Module 2/LABS 2'"
      ]
     },
     "execution_count": 3,
     "metadata": {},
     "output_type": "execute_result"
    }
   ],
   "source": [
    "pwd()  # make sure your working directory is where the file is"
   ]
  },
  {
   "cell_type": "code",
   "execution_count": 10,
   "metadata": {
    "colab": {},
    "colab_type": "code",
    "id": "Jc5_dh-jKclc"
   },
   "outputs": [],
   "source": [
    "path_auth = 'auth_reddit.json'\n",
    "auth = json.loads(open(path_auth).read())\n",
    "pp = pprint.PrettyPrinter(indent=4)\n",
    "# For debugging only:\n",
    "#pp.pprint(auth)\n",
    "\n",
    "my_user_agent = auth['my_user_agent']\n",
    "my_client_id = auth['my_client_id']\n",
    "my_client_secret = auth['my_client_secret']"
   ]
  },
  {
   "cell_type": "markdown",
   "metadata": {
    "colab_type": "text",
    "id": "lVKFy9rZKclf"
   },
   "source": [
    "Security considerations: \n",
    "- this method only keeps your credentials invisible as long as nobody else gets access to this notebook file \n",
    "- if you wanted another user to have access to the executable notebook without divulging your credentials you should set up an OAuth 2.0 workflow to let them obtain and apply their own API tokens when using your app\n",
    "- if you just want to share your analyses, you could use a separate script (which you don't share) to fetch the data and save it locally, then use a second notebook (with no API access) to load and analyse the locally stored data"
   ]
  },
  {
   "cell_type": "markdown",
   "metadata": {
    "colab_type": "text",
    "id": "fgHqt72rKclg"
   },
   "source": [
    "### 5. Exploring the API"
   ]
  },
  {
   "cell_type": "markdown",
   "metadata": {
    "colab_type": "text",
    "id": "ByEQS6QsKclh"
   },
   "source": [
    "Here is how to connect to Reddit with read-only access:"
   ]
  },
  {
   "cell_type": "code",
   "execution_count": 11,
   "metadata": {
    "colab": {},
    "colab_type": "code",
    "id": "8hkZJlcJKcli"
   },
   "outputs": [
    {
     "name": "stdout",
     "output_type": "stream",
     "text": [
      "Read-only = True\n"
     ]
    }
   ],
   "source": [
    "reddit = praw.Reddit(client_id = my_client_id, \n",
    "                     client_secret = my_client_secret, \n",
    "                     user_agent = my_user_agent)\n",
    "\n",
    "print('Read-only = ' + str(reddit.read_only))  # Output: True"
   ]
  },
  {
   "cell_type": "markdown",
   "metadata": {
    "colab_type": "text",
    "id": "slGz0lS5Kclk"
   },
   "source": [
    "In the next cell, put the cursor after the '.' and hit the [tab] key to see the available members and methods in the response object:"
   ]
  },
  {
   "cell_type": "code",
   "execution_count": null,
   "metadata": {
    "colab": {},
    "colab_type": "code",
    "id": "6MvyYewEKcll"
   },
   "outputs": [],
   "source": [
    "reddit.subreddit()"
   ]
  },
  {
   "cell_type": "markdown",
   "metadata": {
    "colab_type": "text",
    "id": "AKfXBu7yKcln"
   },
   "source": [
    "Consult the PRAW and Reddit API documentation. Print a few of the response members below:"
   ]
  },
  {
   "cell_type": "code",
   "execution_count": null,
   "metadata": {
    "colab": {},
    "colab_type": "code",
    "id": "31Njl99lKcln"
   },
   "outputs": [],
   "source": []
  },
  {
   "cell_type": "markdown",
   "metadata": {
    "colab_type": "text",
    "id": "5L10cuKfKclp"
   },
   "source": [
    "Content in Reddit is grouped by topics called \"subreddits\". Content, called \"submissions\", is fetched by calling the `subreddit` method of the connection object (which is our `reddit` variable) with an argument that matches an actual topic. \n",
    "\n",
    "We also need to append a further method call to a \"subinstance\", such as one of the following:\n",
    "\n",
    "- controversial\n",
    "- gilded\n",
    "- hot\n",
    "- new\n",
    "- rising\n",
    "- top\n",
    "\n",
    "One of the submission objects members is `title`. Fetch and print 10 submission titles from the 'learnpython' subreddit using one of the subinstances above:"
   ]
  },
  {
   "cell_type": "code",
   "execution_count": 12,
   "metadata": {
    "colab": {},
    "colab_type": "code",
    "id": "2W1iCDE9Kclp"
   },
   "outputs": [
    {
     "name": "stdout",
     "output_type": "stream",
     "text": [
      "Ask Anything Monday - Weekly Thread\n",
      "I wrote a script that downloads all your reddit saved items, and can be viewed based on subreddit. I would love feedback.\n",
      "Completely stumped by interview question\n",
      "Do you want to learn python? Do a side project! Here's how to find the idea\n",
      "Want to make a gui application in tkinter, but don't know what to use. pack, grid, or place\n",
      "How i can change the format of a video/audio file?\n",
      "What exactly goes in a python portfolio?\n",
      "Pandas matplotlib and seaborn instead of excel.\n",
      "Predictible List Shuffling\n",
      "Can somebody help me with this python program?\n"
     ]
    }
   ],
   "source": [
    "for submission in reddit.subreddit('learnpython').hot(limit=10):\n",
    "    print(submission.title)"
   ]
  },
  {
   "cell_type": "markdown",
   "metadata": {
    "colab_type": "text",
    "id": "00coF0YJKclr"
   },
   "source": [
    "Now retrieve 10 authors:"
   ]
  },
  {
   "cell_type": "code",
   "execution_count": 13,
   "metadata": {
    "colab": {},
    "colab_type": "code",
    "id": "U1vTByCGKclr"
   },
   "outputs": [
    {
     "name": "stdout",
     "output_type": "stream",
     "text": [
      "AutoModerator\n",
      "freeezer98\n",
      "eawfji018\n",
      "emandero\n",
      "a2a2a2a2a2a2a2a2a2a2\n",
      "kokosxD\n",
      "jcovo15\n",
      "flashliquid\n",
      "apv507\n",
      "Hench-Mark\n"
     ]
    }
   ],
   "source": [
    "for submission in reddit.subreddit('learnpython').hot(limit=10):\n",
    "    print(submission.author)"
   ]
  },
  {
   "cell_type": "markdown",
   "metadata": {
    "colab_type": "text",
    "id": "dOFMMl6AKclt"
   },
   "source": [
    "Note that we obtained the titles and authors from separate API calls. Can we expect these to correspond to the same submissions? If not, how could we gurantee that they do?"
   ]
  },
  {
   "cell_type": "code",
   "execution_count": null,
   "metadata": {
    "colab": {},
    "colab_type": "code",
    "id": "eIPVr-WaKclu"
   },
   "outputs": [],
   "source": []
  },
  {
   "cell_type": "markdown",
   "metadata": {
    "colab_type": "text",
    "id": "IjIJ6ojAKclv"
   },
   "source": [
    "Why doesn't the next cell produce output?"
   ]
  },
  {
   "cell_type": "code",
   "execution_count": 14,
   "metadata": {
    "colab": {},
    "colab_type": "code",
    "id": "ifxjcJ2aKclw"
   },
   "outputs": [
    {
     "name": "stdout",
     "output_type": "stream",
     "text": [
      "<praw.models.comment_forest.CommentForest object at 0x1206f9dd8>\n",
      "<praw.models.comment_forest.CommentForest object at 0x12088a208>\n",
      "<praw.models.comment_forest.CommentForest object at 0x120857080>\n",
      "<praw.models.comment_forest.CommentForest object at 0x120698940>\n",
      "<praw.models.comment_forest.CommentForest object at 0x1206f6a20>\n",
      "<praw.models.comment_forest.CommentForest object at 0x12088ae10>\n",
      "<praw.models.comment_forest.CommentForest object at 0x12088e470>\n",
      "<praw.models.comment_forest.CommentForest object at 0x120862c88>\n",
      "<praw.models.comment_forest.CommentForest object at 0x120706e80>\n",
      "<praw.models.comment_forest.CommentForest object at 0x1206efb00>\n"
     ]
    }
   ],
   "source": [
    "submissions = reddit.subreddit('learnpython').hot(limit=10)\n",
    "\n",
    "for submission in submissions:\n",
    "    print(submission.comments)"
   ]
  },
  {
   "cell_type": "code",
   "execution_count": null,
   "metadata": {
    "colab": {},
    "colab_type": "code",
    "id": "kPNVNapBKcly"
   },
   "outputs": [],
   "source": []
  },
  {
   "cell_type": "markdown",
   "metadata": {
    "colab_type": "text",
    "id": "4aZ2OSd_Kclz"
   },
   "source": [
    "Print two comments associated with each of these submissions:"
   ]
  },
  {
   "cell_type": "code",
   "execution_count": 15,
   "metadata": {
    "colab": {},
    "colab_type": "code",
    "id": "RO4ppDPJKcl0"
   },
   "outputs": [
    {
     "name": "stdout",
     "output_type": "stream",
     "text": [
      "I took the “Python for Everybody” course on Coursera and I am wondering what to do next to get a more solid understanding of the language. Any online classes you would recommend that build on P4E but are not too advanced?\n",
      "Hi guys I'm new here, so please bear with me if I'm not exactly fallen in place with the rules and regulations. I was trying out web scraping using python selenium and chrome driver and i got stuck at this one point where I'm supposed to click this element on the screen and it keeps giving me unable to locate the element. I've tried clicking this element by xpath,classname, link text and css selector but for all it comes up as unable to locate element. Also the automated chrome tab appears to go into a limbo and goes into a complete blank screen on opening the link. Could someone please help me out, any help is deeply appreciated. Thanks in advance!!!\n",
      "I'm going to save this for later.\n",
      "Was curious and looked through your code and had a good little laugh when I saw one of your variables was “Sauce”. Nice touch haha!\n",
      "Here's one approach, in pseudocode:\n",
      "\n",
      "    for each possible (kid, camp) pair:\n",
      "        assuming that kid is assigned to that camp:\n",
      "            optimally assign the other kids to the remaining camp slots, recursively\n",
      "            keep track of the best assignment of all kids\n",
      "    print out the best assignment of all kids to camps\n",
      "\n",
      "This is a brute-force recursive backtracking algorithm. (You can do asymptotically better with some kind of DP thing, or DFS of the assignment-state graph, but this should give a correct answer -- and in interviews it's usually best to get something naive working before trying to get a more optimal solution.)\n",
      "\n",
      "(It could also be trivially turned into an [integer programming](https://en.wikipedia.org/wiki/Integer_programming) problem, but that's a whole other can of worms.)\n",
      "I think this is a variant of maximum bipartite matching, I’ve got an idea but I don’t know if it’s correct. You could find the solution for the normal maximal bipartite matching, where each kid node is attached to one camp node and vice versa. Then remove the matched kids and redo the maximal bipartite matching - do this for each possible initial solution. Repeat until you hit the occupancy limit of the camp - so 3 iterations if there are 3 spots. Of the resulting solutions, choose the one with the least left out kids and the most even distribution of kids per camp. If this approach works, you could do the follow-up by also removing camp nodes which have reached their individual occupancy limits.\n",
      "Are you sure you want to do this in tkinter and not in for example [pysimplegui](https://opensource.com/article/18/8/pysimplegui)?\n",
      "if you dont have a reason to do it with python, have you looked into commandline tools like ffmpeg?\n",
      "Imageio is really good.  It certainly works for video.\n",
      "Your portfolio should reflect things you've done, period.\n",
      "Your GitHub can essentially be your portfolio. Build awesome projects that you find useful and post the code there. Don't forget great documentation!\n",
      "\n",
      "The more projects you do the more you realize that you really want to actively showcase only a few great projects. A potential employer can look at only one project and already have an idea what you can do, instead of looking at 10 tiny scripts. Building bigger projects also shows that you can handle larger code structures. \n",
      "\n",
      "Don't forget to contribute to other projects either! Coding is not only about writing programs yourself but it's about being able to work as a team, read code by others and improve the code.\n",
      "\n",
      "PS. If you're only few weeks into Python, I wouldn't even think about a portfolio. Focus on learning as much as you can. You're only beginning. But becoming active on GitHub is definitely recommended.\n",
      "matplotlib is definitely ... weird. It was originally built as a copy of Matlab's (already extremely weird) plotting interfaces, and then an object oriented interface was bolted on top (or rather, on the side really). Using the latter saves you some headaches, but it's still surprisingly inconsistent. Have you looked into [Bokeh](https://bokeh.pydata.org/en/latest/)? If you need pretty things for your boss, it might be a better option.\n",
      "You'll always have t re-google and checkout stackoverflow don't worry to much about it. It's hard to keep all of the syntax in your head. Just remember what is possible and then work with that. \n",
      "\n",
      "It definitely gets easier, but explore some more modern data viz libraries and see what you think.\n",
      "You could seed randomization with a specific value.\n",
      "\n",
      "    >>> random.seed(1)\n",
      "    >>> [random.randint(1,5) for _ in range(5)]\n",
      "    [1, 5, 4, 2, 3]\n",
      "    >>> [random.randint(1,5) for _ in range(5)]\n",
      "    [3, 4, 4, 1, 1]\n",
      "    >>> quit()\n",
      "    $ python\n",
      "    >>> import random\n",
      "    >>> random.seed(1)\n",
      "    >>> [random.randint(1,5) for _ in range(5)]\n",
      "    [1, 5, 4, 2, 3]\n",
      "    >>> [random.randint(1,5) for _ in range(5)]\n",
      "    [3, 4, 4, 1, 1]\n",
      "[https://docs.python.org/3.7/library/random.html#random.seed](https://docs.python.org/3.7/library/random.html#random.seed)\n",
      "\n",
      "    In [12]: import random\n",
      "    \n",
      "    In [13]: my_list = [1, 2, 3, 4, 5, 6, 7, 8, 9, 10]\n",
      "    \n",
      "    In [14]: random.Random(42).shuffle(my_list)\n",
      "    \n",
      "    In [15]: my_list\n",
      "    Out[15]: [10, 8, 9, 6, 4, 5, 2, 3, 1, 7]\n",
      "    \n",
      "    In [16]: my_list = [1, 2, 3, 4, 5, 6, 7, 8, 9, 10]\n",
      "    \n",
      "    In [17]: random.Random(42).shuffle(my_list)\n",
      "    \n",
      "    In [18]: my_list\n",
      "    Out[18]: [10, 8, 9, 6, 4, 5, 2, 3, 1, 7]\n",
      "    \n",
      "    In [19]: my_list = [1, 2, 3, 4, 5, 6, 7, 8, 9, 10]\n",
      "    \n",
      "    In [20]: random.Random(9000).shuffle(my_list)\n",
      "    \n",
      "    In [21]: my_list\n",
      "    Out[21]: [9, 5, 7, 8, 10, 3, 2, 1, 6, 4]\n",
      "Please share your code too.\n"
     ]
    }
   ],
   "source": [
    "submissions = reddit.subreddit('learnpython').hot(limit=10)\n",
    "for submission in submissions:\n",
    "    top_level_comments = list(submission.comments)\n",
    "    all_comments = submission.comments.list()[:2]\n",
    "    for comment in all_comments:\n",
    "        print(comment.body)"
   ]
  },
  {
   "cell_type": "markdown",
   "metadata": {
    "colab_type": "text",
    "id": "JvYEOesKKcl2"
   },
   "source": [
    "Referring to the API documentation, explore the submissions object and print some interesting data:"
   ]
  },
  {
   "cell_type": "code",
   "execution_count": 17,
   "metadata": {
    "colab": {},
    "colab_type": "code",
    "id": "glEShYZbKcl3"
   },
   "outputs": [
    {
     "name": "stdout",
     "output_type": "stream",
     "text": [
      "Sydney Daily Random Discussion - July 12, 2019\n",
      "Malcolm on the Metro\n",
      "Do you have any first or second hand experience with homelessness in Sydney?\n",
      "Saw this guy today near Waterloo just not giving a F\n",
      "Coles and Woolies must be making a fortune from people who always forget to bring their bags when they go shopping\n"
     ]
    }
   ],
   "source": [
    "submissions = reddit.subreddit('sydney').hot(limit = 5)\n",
    "\n",
    "\n",
    "for submision in submissions:\n",
    "    print(submision.title)"
   ]
  },
  {
   "cell_type": "code",
   "execution_count": null,
   "metadata": {},
   "outputs": [],
   "source": []
  },
  {
   "cell_type": "markdown",
   "metadata": {
    "colab_type": "text",
    "id": "Khno5kpWKcl5"
   },
   "source": [
    "#### Posting to Reddit"
   ]
  },
  {
   "cell_type": "markdown",
   "metadata": {
    "colab_type": "text",
    "id": "zjnyN1OfKcl6"
   },
   "source": [
    "To be able to post to your Reddit account (i.e. contribute submissions), you need to connect to the API with read/write privilege. This requires an *authorised instance*, which is obtained by including your Reddit user name and password in the connection request: "
   ]
  },
  {
   "cell_type": "code",
   "execution_count": null,
   "metadata": {
    "colab": {},
    "colab_type": "code",
    "id": "ZXG7kouZKcl7"
   },
   "outputs": [],
   "source": [
    "reddit = praw.Reddit(client_id='my client id',\n",
    "                     client_secret='my client secret',\n",
    "                     user_agent='my user agent',\n",
    "                     username='my username',\n",
    "                     password='my password')\n",
    "print(reddit.read_only)  # Output: False"
   ]
  },
  {
   "cell_type": "markdown",
   "metadata": {
    "colab_type": "text",
    "id": "nEjrsF9vKcl-"
   },
   "source": [
    "You could hide these last two credentials by adding them to your JSON file and then reading all five values at once."
   ]
  },
  {
   "cell_type": "code",
   "execution_count": null,
   "metadata": {
    "colab": {},
    "colab_type": "code",
    "id": "BVcbR0K1Kcl_"
   },
   "outputs": [],
   "source": []
  },
  {
   "cell_type": "markdown",
   "metadata": {
    "colab_type": "text",
    "id": "WqBG4xS5Kk3X"
   },
   "source": [
    ">\n",
    ">\n"
   ]
  },
  {
   "cell_type": "markdown",
   "metadata": {
    "colab_type": "text",
    "id": "EfPDz2gEKnRn"
   },
   "source": [
    ">\n",
    ">\n"
   ]
  },
  {
   "cell_type": "markdown",
   "metadata": {
    "colab_type": "text",
    "id": "5Uo-KnYhKoRA"
   },
   "source": [
    "\n",
    "\n",
    "---\n",
    "\n",
    "\n",
    "\n",
    "---\n",
    "\n",
    "> > > > > > > > > © 2019 Data Science Institute of Australia\n",
    "\n",
    "\n",
    "---\n",
    "\n",
    "\n",
    "\n",
    "---\n",
    "\n"
   ]
  }
 ],
 "metadata": {
  "colab": {
   "collapsed_sections": [],
   "name": "DSIA Lab 2.2.3.ipynb",
   "provenance": [],
   "version": "0.3.2"
  },
  "kernelspec": {
   "display_name": "Python 3",
   "language": "python",
   "name": "python3"
  },
  "language_info": {
   "codemirror_mode": {
    "name": "ipython",
    "version": 3
   },
   "file_extension": ".py",
   "mimetype": "text/x-python",
   "name": "python",
   "nbconvert_exporter": "python",
   "pygments_lexer": "ipython3",
   "version": "3.7.3"
  }
 },
 "nbformat": 4,
 "nbformat_minor": 2
}
