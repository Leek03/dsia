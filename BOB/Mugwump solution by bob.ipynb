{
 "cells": [
  {
   "cell_type": "markdown",
   "metadata": {},
   "source": [
    "# Mugwump\n",
    "\n",
    "The user enters a pair of single-digit co-ordinates in the range from 0 to 5 which are the x,y coordinates to scan. If the mugwump is at that location then the user is alerted. Otherwise the user is told the distance from the scanned coordinates to the mugwump. The game ends after five turns or when the mugwump has been found.\n"
   ]
  },
  {
   "cell_type": "markdown",
   "metadata": {
    "ExecuteTime": {
     "end_time": "2019-07-02T01:09:28.433794Z",
     "start_time": "2019-07-02T01:09:28.427811Z"
    }
   },
   "source": [
    "## 1. Define a 5 X 5 list. Assign `O` to all rows and columns."
   ]
  },
  {
   "cell_type": "markdown",
   "metadata": {},
   "source": [
    "## 2. Print the list\n",
    "\n",
    "| O | 1 | 2 | 3 | 4 |\n",
    "|---|--:|---|---|---|\n",
    "| O | O | O | O | O |\n",
    "| O | O | O | O | O |\n",
    "| O | O | O | O | O |\n",
    "| O | O | O | O | O |\n",
    "| O | O | O | O | O |"
   ]
  },
  {
   "cell_type": "markdown",
   "metadata": {},
   "source": [
    "## 3. Generate a  random number between 0 to number of rows."
   ]
  },
  {
   "cell_type": "markdown",
   "metadata": {},
   "source": [
    "## 4. Generate a random number between 0 to number of columns."
   ]
  },
  {
   "cell_type": "markdown",
   "metadata": {},
   "source": [
    "## 5. Mugwump!\n",
    "\n",
    "Write a for loop which will ask user to input row and colulmn 5 times.\n",
    "\n",
    "- If user input for row and column same as random row and column we get from #3 and #4 print a successfull message. And break the loop.\n",
    "- If user input for row and column is out of index print an error message\n",
    "- Replace O with X in board and show display it to user\n",
    "- If user input the same number twice, give them a warning message\n",
    "\n",
    "If user unable to guess after five turns show them where the mugwump is."
   ]
  },
  {
   "cell_type": "code",
   "execution_count": null,
   "metadata": {},
   "outputs": [],
   "source": []
  },
  {
   "cell_type": "code",
   "execution_count": 3,
   "metadata": {},
   "outputs": [
    {
     "name": "stdout",
     "output_type": "stream",
     "text": [
      "['O', 'O', 'O', 'O', 'O']\n",
      "['O', 'O', 'O', 'O', 'O']\n",
      "['O', 'O', 'O', 'O', 'O']\n",
      "['O', 'O', 'O', 'O', 'O']\n",
      "['O', 'O', 'O', 'O', 'O']\n",
      "\n",
      "\n",
      "Please input int (x,y) from 0 to 4: \n",
      "4,0\n",
      "['O', 'O', 'O', 'O', 'O']\n",
      "['O', 'O', 'O', 'O', 'O']\n",
      "['O', 'O', 'O', 'O', 'O']\n",
      "['O', 'O', 'O', 'O', 'O']\n",
      "['X', 'O', 'O', 'O', 'O']\n",
      "\n",
      "\n",
      "Distance to the right position is: \n",
      " 4.123105625617661\n",
      "Better luck next time \n",
      "\n",
      "Please input int (x,y) from 0 to 4: \n",
      "2,2\n",
      "['O', 'O', 'O', 'O', 'O']\n",
      "['O', 'O', 'O', 'O', 'O']\n",
      "['O', 'O', 'X', 'O', 'O']\n",
      "['O', 'O', 'O', 'O', 'O']\n",
      "['X', 'O', 'O', 'O', 'O']\n",
      "\n",
      "\n",
      "Distance to the right position is: \n",
      " 3.605551275463989\n",
      "Better luck next time \n",
      "\n",
      "Please input int (x,y) from 0 to 4: \n",
      "1,4\n",
      "['O', 'O', 'O', 'O', 'O']\n",
      "['O', 'O', 'O', 'O', 'X']\n",
      "['O', 'O', 'X', 'O', 'O']\n",
      "['O', 'O', 'O', 'O', 'O']\n",
      "['X', 'O', 'O', 'O', 'O']\n",
      "\n",
      "\n",
      "Distance to the right position is: \n",
      " 4.0\n",
      "Better luck next time \n",
      "\n",
      "Please input int (x,y) from 0 to 4: \n",
      "3,4\n",
      "['O', 'O', 'O', 'O', 'O']\n",
      "['O', 'O', 'O', 'O', 'X']\n",
      "['O', 'O', 'X', 'O', 'O']\n",
      "['O', 'O', 'O', 'O', 'X']\n",
      "['X', 'O', 'O', 'O', 'O']\n",
      "\n",
      "\n",
      "Distance to the right position is: \n",
      " 2.0\n",
      "Better luck next time \n",
      "\n",
      "Please input int (x,y) from 0 to 4: \n",
      "3,2\n",
      "['O', 'O', 'O', 'O', 'O']\n",
      "['O', 'O', 'O', 'O', 'X']\n",
      "['O', 'O', 'X', 'O', 'O']\n",
      "['O', 'O', 'X', 'O', 'X']\n",
      "['X', 'O', 'O', 'O', 'O']\n",
      "\n",
      "\n",
      "Distance to the right position is: \n",
      " 2.8284271247461903\n",
      "Better luck next time \n",
      "\n"
     ]
    }
   ],
   "source": [
    "import random\n",
    "import math\n",
    "\n",
    "# To setup the initial 5*5 matrix with letter O and print it\n",
    "test_initial = [['O','O','O','O','O'],['O','O','O','O','O'],['O','O','O','O','O'],\n",
    "                ['O','O','O','O','O'],['O','O','O','O','O']]\n",
    "for i in test_initial:\n",
    "    print(i)\n",
    "print('\\n')   \n",
    "    \n",
    "# Generate two random values from 0 to 4 and stored in x and y\n",
    "x = random.randint(0,5)\n",
    "y = random.randint(0,5)\n",
    "\n",
    "\n",
    "\n",
    "# for loop to give five times try in total\n",
    "for num in range(5):\n",
    "    x_1,y_1 = eval(input('Please input int (x,y) from 0 to 4: \\n'))\n",
    "    \n",
    "# Check if input number is run out of boundary   \n",
    "    if x_1 >4 or x_1 <0:\n",
    "         if y_1 >4 or y_1<0:\n",
    "            print('Please enter correct number \\n')\n",
    "            break\n",
    "\n",
    "# Check if the input number equals to the random x,y\n",
    "    elif x_1 == x and y_1 == y: \n",
    "        print('Congrats \\n')\n",
    "        test_initial[x_1][y_1] = 'A'\n",
    "        for num in test_initial:\n",
    "            print(num)\n",
    "        print('\\n')\n",
    "        break\n",
    "\n",
    "# Check if the input is equal to the previous value\n",
    "    elif test_initial[x_1][y_1] == 'X':\n",
    "        print('Please try different num \\n')\n",
    "        continue\n",
    "        \n",
    "# Change the value to 'X' and calculate the distance to the result\n",
    "    else: \n",
    "        test_initial[x_1][y_1] = 'X'\n",
    "        for j in test_initial:\n",
    "             print(j)\n",
    "        print('\\n')\n",
    "        dis = math.sqrt((x_1-x)**2 + (y_1-y)**2)\n",
    "        print('Distance to the right position is: \\n',dis)\n",
    "        print('Better luck next time \\n')\n",
    "   \n",
    "        "
   ]
  },
  {
   "cell_type": "code",
   "execution_count": null,
   "metadata": {},
   "outputs": [],
   "source": []
  },
  {
   "cell_type": "code",
   "execution_count": null,
   "metadata": {},
   "outputs": [],
   "source": []
  },
  {
   "cell_type": "code",
   "execution_count": null,
   "metadata": {},
   "outputs": [],
   "source": []
  },
  {
   "cell_type": "code",
   "execution_count": null,
   "metadata": {},
   "outputs": [],
   "source": []
  },
  {
   "cell_type": "code",
   "execution_count": null,
   "metadata": {},
   "outputs": [],
   "source": []
  },
  {
   "cell_type": "code",
   "execution_count": null,
   "metadata": {},
   "outputs": [],
   "source": []
  },
  {
   "cell_type": "code",
   "execution_count": null,
   "metadata": {},
   "outputs": [],
   "source": []
  },
  {
   "cell_type": "code",
   "execution_count": null,
   "metadata": {},
   "outputs": [],
   "source": []
  },
  {
   "cell_type": "code",
   "execution_count": null,
   "metadata": {},
   "outputs": [],
   "source": []
  },
  {
   "cell_type": "code",
   "execution_count": null,
   "metadata": {},
   "outputs": [],
   "source": []
  },
  {
   "cell_type": "code",
   "execution_count": null,
   "metadata": {},
   "outputs": [],
   "source": []
  },
  {
   "cell_type": "code",
   "execution_count": null,
   "metadata": {},
   "outputs": [],
   "source": []
  },
  {
   "cell_type": "code",
   "execution_count": null,
   "metadata": {},
   "outputs": [],
   "source": []
  },
  {
   "cell_type": "code",
   "execution_count": null,
   "metadata": {},
   "outputs": [],
   "source": []
  },
  {
   "cell_type": "code",
   "execution_count": null,
   "metadata": {},
   "outputs": [],
   "source": []
  },
  {
   "cell_type": "code",
   "execution_count": null,
   "metadata": {},
   "outputs": [],
   "source": []
  },
  {
   "cell_type": "code",
   "execution_count": null,
   "metadata": {},
   "outputs": [],
   "source": []
  },
  {
   "cell_type": "code",
   "execution_count": null,
   "metadata": {},
   "outputs": [],
   "source": []
  }
 ],
 "metadata": {
  "kernelspec": {
   "display_name": "Python 3",
   "language": "python",
   "name": "python3"
  },
  "language_info": {
   "codemirror_mode": {
    "name": "ipython",
    "version": 3
   },
   "file_extension": ".py",
   "mimetype": "text/x-python",
   "name": "python",
   "nbconvert_exporter": "python",
   "pygments_lexer": "ipython3",
   "version": "3.7.3"
  },
  "varInspector": {
   "cols": {
    "lenName": 16,
    "lenType": 16,
    "lenVar": 40
   },
   "kernels_config": {
    "python": {
     "delete_cmd_postfix": "",
     "delete_cmd_prefix": "del ",
     "library": "var_list.py",
     "varRefreshCmd": "print(var_dic_list())"
    },
    "r": {
     "delete_cmd_postfix": ") ",
     "delete_cmd_prefix": "rm(",
     "library": "var_list.r",
     "varRefreshCmd": "cat(var_dic_list()) "
    }
   },
   "types_to_exclude": [
    "module",
    "function",
    "builtin_function_or_method",
    "instance",
    "_Feature"
   ],
   "window_display": false
  }
 },
 "nbformat": 4,
 "nbformat_minor": 2
}
