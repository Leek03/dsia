{
 "cells": [
  {
   "cell_type": "markdown",
   "metadata": {},
   "source": [
    "![alt text](https://i.imgur.com/1WaY7aA.png)"
   ]
  },
  {
   "cell_type": "markdown",
   "metadata": {},
   "source": [
    "# Lab 4.1.1 Linear Regression"
   ]
  },
  {
   "cell_type": "markdown",
   "metadata": {},
   "source": [
    "## Prediction of House Price Using Linear Regression"
   ]
  },
  {
   "cell_type": "markdown",
   "metadata": {},
   "source": [
    "### Data\n",
    "\n",
    "The Sacramento real estate transactions file is a list of 985 real estate transactions in the Sacramento area reported over a five-day period, as reported by the Sacramento Bee."
   ]
  },
  {
   "cell_type": "code",
   "execution_count": 2,
   "metadata": {},
   "outputs": [],
   "source": [
    "import pandas as pd\n",
    "import numpy as np\n",
    "import math\n",
    "import seaborn as sns\n",
    "import pandas as pd\n",
    "\n",
    "from scipy import stats\n",
    "from matplotlib import pyplot as plt\n",
    "\n",
    "sns.set_context(\"poster\")\n",
    "sns.set(rc={'figure.figsize': (10, 6)})\n",
    "sns.set_style(\"whitegrid\")\n",
    "\n",
    "%matplotlib inline"
   ]
  },
  {
   "cell_type": "markdown",
   "metadata": {},
   "source": [
    "### 1. Explore Data"
   ]
  },
  {
   "cell_type": "markdown",
   "metadata": {},
   "source": [
    "Perform EDA on this dataset. Use what you have learned so far."
   ]
  },
  {
   "cell_type": "code",
   "execution_count": 4,
   "metadata": {},
   "outputs": [],
   "source": [
    "# Read CSV\n",
    "data = pd.read_csv(\"Sacramentorealestatetransactions.csv\")"
   ]
  },
  {
   "cell_type": "code",
   "execution_count": 5,
   "metadata": {},
   "outputs": [
    {
     "data": {
      "text/plain": [
       "(985, 12)"
      ]
     },
     "execution_count": 5,
     "metadata": {},
     "output_type": "execute_result"
    }
   ],
   "source": [
    "data.shape"
   ]
  },
  {
   "cell_type": "code",
   "execution_count": 6,
   "metadata": {},
   "outputs": [
    {
     "data": {
      "text/html": [
       "<div>\n",
       "<style scoped>\n",
       "    .dataframe tbody tr th:only-of-type {\n",
       "        vertical-align: middle;\n",
       "    }\n",
       "\n",
       "    .dataframe tbody tr th {\n",
       "        vertical-align: top;\n",
       "    }\n",
       "\n",
       "    .dataframe thead th {\n",
       "        text-align: right;\n",
       "    }\n",
       "</style>\n",
       "<table border=\"1\" class=\"dataframe\">\n",
       "  <thead>\n",
       "    <tr style=\"text-align: right;\">\n",
       "      <th></th>\n",
       "      <th>street</th>\n",
       "      <th>city</th>\n",
       "      <th>zip</th>\n",
       "      <th>state</th>\n",
       "      <th>beds</th>\n",
       "      <th>baths</th>\n",
       "      <th>sq__ft</th>\n",
       "      <th>type</th>\n",
       "      <th>sale_date</th>\n",
       "      <th>price</th>\n",
       "      <th>latitude</th>\n",
       "      <th>longitude</th>\n",
       "    </tr>\n",
       "  </thead>\n",
       "  <tbody>\n",
       "    <tr>\n",
       "      <th>0</th>\n",
       "      <td>3526 HIGH ST</td>\n",
       "      <td>SACRAMENTO</td>\n",
       "      <td>95838</td>\n",
       "      <td>CA</td>\n",
       "      <td>2</td>\n",
       "      <td>1</td>\n",
       "      <td>836</td>\n",
       "      <td>Residential</td>\n",
       "      <td>Wed May 21 00:00:00 EDT 2008</td>\n",
       "      <td>59222</td>\n",
       "      <td>38.631913</td>\n",
       "      <td>-121.434879</td>\n",
       "    </tr>\n",
       "    <tr>\n",
       "      <th>1</th>\n",
       "      <td>51 OMAHA CT</td>\n",
       "      <td>SACRAMENTO</td>\n",
       "      <td>95823</td>\n",
       "      <td>CA</td>\n",
       "      <td>3</td>\n",
       "      <td>1</td>\n",
       "      <td>1167</td>\n",
       "      <td>Residential</td>\n",
       "      <td>Wed May 21 00:00:00 EDT 2008</td>\n",
       "      <td>68212</td>\n",
       "      <td>38.478902</td>\n",
       "      <td>-121.431028</td>\n",
       "    </tr>\n",
       "    <tr>\n",
       "      <th>2</th>\n",
       "      <td>2796 BRANCH ST</td>\n",
       "      <td>SACRAMENTO</td>\n",
       "      <td>95815</td>\n",
       "      <td>CA</td>\n",
       "      <td>2</td>\n",
       "      <td>1</td>\n",
       "      <td>796</td>\n",
       "      <td>Residential</td>\n",
       "      <td>Wed May 21 00:00:00 EDT 2008</td>\n",
       "      <td>68880</td>\n",
       "      <td>38.618305</td>\n",
       "      <td>-121.443839</td>\n",
       "    </tr>\n",
       "    <tr>\n",
       "      <th>3</th>\n",
       "      <td>2805 JANETTE WAY</td>\n",
       "      <td>SACRAMENTO</td>\n",
       "      <td>95815</td>\n",
       "      <td>CA</td>\n",
       "      <td>2</td>\n",
       "      <td>1</td>\n",
       "      <td>852</td>\n",
       "      <td>Residential</td>\n",
       "      <td>Wed May 21 00:00:00 EDT 2008</td>\n",
       "      <td>69307</td>\n",
       "      <td>38.616835</td>\n",
       "      <td>-121.439146</td>\n",
       "    </tr>\n",
       "    <tr>\n",
       "      <th>4</th>\n",
       "      <td>6001 MCMAHON DR</td>\n",
       "      <td>SACRAMENTO</td>\n",
       "      <td>95824</td>\n",
       "      <td>CA</td>\n",
       "      <td>2</td>\n",
       "      <td>1</td>\n",
       "      <td>797</td>\n",
       "      <td>Residential</td>\n",
       "      <td>Wed May 21 00:00:00 EDT 2008</td>\n",
       "      <td>81900</td>\n",
       "      <td>38.519470</td>\n",
       "      <td>-121.435768</td>\n",
       "    </tr>\n",
       "  </tbody>\n",
       "</table>\n",
       "</div>"
      ],
      "text/plain": [
       "             street        city    zip state  beds  baths  sq__ft  \\\n",
       "0      3526 HIGH ST  SACRAMENTO  95838    CA     2      1     836   \n",
       "1       51 OMAHA CT  SACRAMENTO  95823    CA     3      1    1167   \n",
       "2    2796 BRANCH ST  SACRAMENTO  95815    CA     2      1     796   \n",
       "3  2805 JANETTE WAY  SACRAMENTO  95815    CA     2      1     852   \n",
       "4   6001 MCMAHON DR  SACRAMENTO  95824    CA     2      1     797   \n",
       "\n",
       "          type                     sale_date  price   latitude   longitude  \n",
       "0  Residential  Wed May 21 00:00:00 EDT 2008  59222  38.631913 -121.434879  \n",
       "1  Residential  Wed May 21 00:00:00 EDT 2008  68212  38.478902 -121.431028  \n",
       "2  Residential  Wed May 21 00:00:00 EDT 2008  68880  38.618305 -121.443839  \n",
       "3  Residential  Wed May 21 00:00:00 EDT 2008  69307  38.616835 -121.439146  \n",
       "4  Residential  Wed May 21 00:00:00 EDT 2008  81900  38.519470 -121.435768  "
      ]
     },
     "execution_count": 6,
     "metadata": {},
     "output_type": "execute_result"
    }
   ],
   "source": [
    "# Head\n",
    "data.head()"
   ]
  },
  {
   "cell_type": "code",
   "execution_count": 7,
   "metadata": {},
   "outputs": [
    {
     "data": {
      "text/html": [
       "<div>\n",
       "<style scoped>\n",
       "    .dataframe tbody tr th:only-of-type {\n",
       "        vertical-align: middle;\n",
       "    }\n",
       "\n",
       "    .dataframe tbody tr th {\n",
       "        vertical-align: top;\n",
       "    }\n",
       "\n",
       "    .dataframe thead th {\n",
       "        text-align: right;\n",
       "    }\n",
       "</style>\n",
       "<table border=\"1\" class=\"dataframe\">\n",
       "  <thead>\n",
       "    <tr style=\"text-align: right;\">\n",
       "      <th></th>\n",
       "      <th>street</th>\n",
       "      <th>city</th>\n",
       "      <th>zip</th>\n",
       "      <th>state</th>\n",
       "      <th>beds</th>\n",
       "      <th>baths</th>\n",
       "      <th>sq__ft</th>\n",
       "      <th>type</th>\n",
       "      <th>sale_date</th>\n",
       "      <th>price</th>\n",
       "      <th>latitude</th>\n",
       "      <th>longitude</th>\n",
       "    </tr>\n",
       "  </thead>\n",
       "  <tbody>\n",
       "    <tr>\n",
       "      <th>980</th>\n",
       "      <td>9169 GARLINGTON CT</td>\n",
       "      <td>SACRAMENTO</td>\n",
       "      <td>95829</td>\n",
       "      <td>CA</td>\n",
       "      <td>4</td>\n",
       "      <td>3</td>\n",
       "      <td>2280</td>\n",
       "      <td>Residential</td>\n",
       "      <td>Thu May 15 00:00:00 EDT 2008</td>\n",
       "      <td>232425</td>\n",
       "      <td>38.457679</td>\n",
       "      <td>-121.359620</td>\n",
       "    </tr>\n",
       "    <tr>\n",
       "      <th>981</th>\n",
       "      <td>6932 RUSKUT WAY</td>\n",
       "      <td>SACRAMENTO</td>\n",
       "      <td>95823</td>\n",
       "      <td>CA</td>\n",
       "      <td>3</td>\n",
       "      <td>2</td>\n",
       "      <td>1477</td>\n",
       "      <td>Residential</td>\n",
       "      <td>Thu May 15 00:00:00 EDT 2008</td>\n",
       "      <td>234000</td>\n",
       "      <td>38.499893</td>\n",
       "      <td>-121.458890</td>\n",
       "    </tr>\n",
       "    <tr>\n",
       "      <th>982</th>\n",
       "      <td>7933 DAFFODIL WAY</td>\n",
       "      <td>CITRUS HEIGHTS</td>\n",
       "      <td>95610</td>\n",
       "      <td>CA</td>\n",
       "      <td>3</td>\n",
       "      <td>2</td>\n",
       "      <td>1216</td>\n",
       "      <td>Residential</td>\n",
       "      <td>Thu May 15 00:00:00 EDT 2008</td>\n",
       "      <td>235000</td>\n",
       "      <td>38.708824</td>\n",
       "      <td>-121.256803</td>\n",
       "    </tr>\n",
       "    <tr>\n",
       "      <th>983</th>\n",
       "      <td>8304 RED FOX WAY</td>\n",
       "      <td>ELK GROVE</td>\n",
       "      <td>95758</td>\n",
       "      <td>CA</td>\n",
       "      <td>4</td>\n",
       "      <td>2</td>\n",
       "      <td>1685</td>\n",
       "      <td>Residential</td>\n",
       "      <td>Thu May 15 00:00:00 EDT 2008</td>\n",
       "      <td>235301</td>\n",
       "      <td>38.417000</td>\n",
       "      <td>-121.397424</td>\n",
       "    </tr>\n",
       "    <tr>\n",
       "      <th>984</th>\n",
       "      <td>3882 YELLOWSTONE LN</td>\n",
       "      <td>EL DORADO HILLS</td>\n",
       "      <td>95762</td>\n",
       "      <td>CA</td>\n",
       "      <td>3</td>\n",
       "      <td>2</td>\n",
       "      <td>1362</td>\n",
       "      <td>Residential</td>\n",
       "      <td>Thu May 15 00:00:00 EDT 2008</td>\n",
       "      <td>235738</td>\n",
       "      <td>38.655245</td>\n",
       "      <td>-121.075915</td>\n",
       "    </tr>\n",
       "  </tbody>\n",
       "</table>\n",
       "</div>"
      ],
      "text/plain": [
       "                  street             city    zip state  beds  baths  sq__ft  \\\n",
       "980   9169 GARLINGTON CT       SACRAMENTO  95829    CA     4      3    2280   \n",
       "981      6932 RUSKUT WAY       SACRAMENTO  95823    CA     3      2    1477   \n",
       "982    7933 DAFFODIL WAY   CITRUS HEIGHTS  95610    CA     3      2    1216   \n",
       "983     8304 RED FOX WAY        ELK GROVE  95758    CA     4      2    1685   \n",
       "984  3882 YELLOWSTONE LN  EL DORADO HILLS  95762    CA     3      2    1362   \n",
       "\n",
       "            type                     sale_date   price   latitude   longitude  \n",
       "980  Residential  Thu May 15 00:00:00 EDT 2008  232425  38.457679 -121.359620  \n",
       "981  Residential  Thu May 15 00:00:00 EDT 2008  234000  38.499893 -121.458890  \n",
       "982  Residential  Thu May 15 00:00:00 EDT 2008  235000  38.708824 -121.256803  \n",
       "983  Residential  Thu May 15 00:00:00 EDT 2008  235301  38.417000 -121.397424  \n",
       "984  Residential  Thu May 15 00:00:00 EDT 2008  235738  38.655245 -121.075915  "
      ]
     },
     "execution_count": 7,
     "metadata": {},
     "output_type": "execute_result"
    }
   ],
   "source": [
    "# Tail\n",
    "data.tail()"
   ]
  },
  {
   "cell_type": "code",
   "execution_count": 8,
   "metadata": {},
   "outputs": [
    {
     "data": {
      "text/plain": [
       "street       0\n",
       "city         0\n",
       "zip          0\n",
       "state        0\n",
       "beds         0\n",
       "baths        0\n",
       "sq__ft       0\n",
       "type         0\n",
       "sale_date    0\n",
       "price        0\n",
       "latitude     0\n",
       "longitude    0\n",
       "dtype: int64"
      ]
     },
     "execution_count": 8,
     "metadata": {},
     "output_type": "execute_result"
    }
   ],
   "source": [
    "# Check Null Values\n",
    "data.isnull().sum()"
   ]
  },
  {
   "cell_type": "code",
   "execution_count": 9,
   "metadata": {},
   "outputs": [
    {
     "name": "stdout",
     "output_type": "stream",
     "text": [
      "<class 'pandas.core.frame.DataFrame'>\n",
      "RangeIndex: 985 entries, 0 to 984\n",
      "Data columns (total 12 columns):\n",
      "street       985 non-null object\n",
      "city         985 non-null object\n",
      "zip          985 non-null int64\n",
      "state        985 non-null object\n",
      "beds         985 non-null int64\n",
      "baths        985 non-null int64\n",
      "sq__ft       985 non-null int64\n",
      "type         985 non-null object\n",
      "sale_date    985 non-null object\n",
      "price        985 non-null int64\n",
      "latitude     985 non-null float64\n",
      "longitude    985 non-null float64\n",
      "dtypes: float64(2), int64(5), object(5)\n",
      "memory usage: 92.4+ KB\n"
     ]
    }
   ],
   "source": [
    "# Data Types\n",
    "data.info()"
   ]
  },
  {
   "cell_type": "code",
   "execution_count": 10,
   "metadata": {},
   "outputs": [],
   "source": [
    "# Zip is categorical value, should be string\n",
    "data['zip'] = data['zip'].astype(str)"
   ]
  },
  {
   "cell_type": "code",
   "execution_count": 11,
   "metadata": {},
   "outputs": [
    {
     "data": {
      "text/html": [
       "<div>\n",
       "<style scoped>\n",
       "    .dataframe tbody tr th:only-of-type {\n",
       "        vertical-align: middle;\n",
       "    }\n",
       "\n",
       "    .dataframe tbody tr th {\n",
       "        vertical-align: top;\n",
       "    }\n",
       "\n",
       "    .dataframe thead th {\n",
       "        text-align: right;\n",
       "    }\n",
       "</style>\n",
       "<table border=\"1\" class=\"dataframe\">\n",
       "  <thead>\n",
       "    <tr style=\"text-align: right;\">\n",
       "      <th></th>\n",
       "      <th>count</th>\n",
       "      <th>mean</th>\n",
       "      <th>std</th>\n",
       "      <th>min</th>\n",
       "      <th>25%</th>\n",
       "      <th>50%</th>\n",
       "      <th>75%</th>\n",
       "      <th>max</th>\n",
       "    </tr>\n",
       "  </thead>\n",
       "  <tbody>\n",
       "    <tr>\n",
       "      <th>beds</th>\n",
       "      <td>985.0</td>\n",
       "      <td>2.911675</td>\n",
       "      <td>1.307932</td>\n",
       "      <td>0.000000</td>\n",
       "      <td>2.000000</td>\n",
       "      <td>3.000000</td>\n",
       "      <td>4.000000</td>\n",
       "      <td>8.000000</td>\n",
       "    </tr>\n",
       "    <tr>\n",
       "      <th>baths</th>\n",
       "      <td>985.0</td>\n",
       "      <td>1.776650</td>\n",
       "      <td>0.895371</td>\n",
       "      <td>0.000000</td>\n",
       "      <td>1.000000</td>\n",
       "      <td>2.000000</td>\n",
       "      <td>2.000000</td>\n",
       "      <td>5.000000</td>\n",
       "    </tr>\n",
       "    <tr>\n",
       "      <th>sq__ft</th>\n",
       "      <td>985.0</td>\n",
       "      <td>1314.916751</td>\n",
       "      <td>853.048243</td>\n",
       "      <td>0.000000</td>\n",
       "      <td>952.000000</td>\n",
       "      <td>1304.000000</td>\n",
       "      <td>1718.000000</td>\n",
       "      <td>5822.000000</td>\n",
       "    </tr>\n",
       "    <tr>\n",
       "      <th>price</th>\n",
       "      <td>985.0</td>\n",
       "      <td>234144.263959</td>\n",
       "      <td>138365.839085</td>\n",
       "      <td>1551.000000</td>\n",
       "      <td>145000.000000</td>\n",
       "      <td>213750.000000</td>\n",
       "      <td>300000.000000</td>\n",
       "      <td>884790.000000</td>\n",
       "    </tr>\n",
       "    <tr>\n",
       "      <th>latitude</th>\n",
       "      <td>985.0</td>\n",
       "      <td>38.607732</td>\n",
       "      <td>0.145433</td>\n",
       "      <td>38.241514</td>\n",
       "      <td>38.482717</td>\n",
       "      <td>38.626582</td>\n",
       "      <td>38.695589</td>\n",
       "      <td>39.020808</td>\n",
       "    </tr>\n",
       "    <tr>\n",
       "      <th>longitude</th>\n",
       "      <td>985.0</td>\n",
       "      <td>-121.355982</td>\n",
       "      <td>0.138278</td>\n",
       "      <td>-121.551704</td>\n",
       "      <td>-121.446127</td>\n",
       "      <td>-121.376220</td>\n",
       "      <td>-121.295778</td>\n",
       "      <td>-120.597599</td>\n",
       "    </tr>\n",
       "  </tbody>\n",
       "</table>\n",
       "</div>"
      ],
      "text/plain": [
       "           count           mean            std          min            25%  \\\n",
       "beds       985.0       2.911675       1.307932     0.000000       2.000000   \n",
       "baths      985.0       1.776650       0.895371     0.000000       1.000000   \n",
       "sq__ft     985.0    1314.916751     853.048243     0.000000     952.000000   \n",
       "price      985.0  234144.263959  138365.839085  1551.000000  145000.000000   \n",
       "latitude   985.0      38.607732       0.145433    38.241514      38.482717   \n",
       "longitude  985.0    -121.355982       0.138278  -121.551704    -121.446127   \n",
       "\n",
       "                     50%            75%            max  \n",
       "beds            3.000000       4.000000       8.000000  \n",
       "baths           2.000000       2.000000       5.000000  \n",
       "sq__ft       1304.000000    1718.000000    5822.000000  \n",
       "price      213750.000000  300000.000000  884790.000000  \n",
       "latitude       38.626582      38.695589      39.020808  \n",
       "longitude    -121.376220    -121.295778    -120.597599  "
      ]
     },
     "execution_count": 11,
     "metadata": {},
     "output_type": "execute_result"
    }
   ],
   "source": [
    "# Describe Data\n",
    "data.describe().T"
   ]
  },
  {
   "cell_type": "code",
   "execution_count": 12,
   "metadata": {},
   "outputs": [],
   "source": [
    "# Got min value 0 for beds, baths, sqft which does not seem correct."
   ]
  },
  {
   "cell_type": "code",
   "execution_count": 13,
   "metadata": {},
   "outputs": [
    {
     "data": {
      "text/html": [
       "<div>\n",
       "<style scoped>\n",
       "    .dataframe tbody tr th:only-of-type {\n",
       "        vertical-align: middle;\n",
       "    }\n",
       "\n",
       "    .dataframe tbody tr th {\n",
       "        vertical-align: top;\n",
       "    }\n",
       "\n",
       "    .dataframe thead th {\n",
       "        text-align: right;\n",
       "    }\n",
       "</style>\n",
       "<table border=\"1\" class=\"dataframe\">\n",
       "  <thead>\n",
       "    <tr style=\"text-align: right;\">\n",
       "      <th></th>\n",
       "      <th>street</th>\n",
       "      <th>city</th>\n",
       "      <th>zip</th>\n",
       "      <th>state</th>\n",
       "      <th>beds</th>\n",
       "      <th>baths</th>\n",
       "      <th>sq__ft</th>\n",
       "      <th>type</th>\n",
       "      <th>sale_date</th>\n",
       "      <th>price</th>\n",
       "      <th>latitude</th>\n",
       "      <th>longitude</th>\n",
       "    </tr>\n",
       "  </thead>\n",
       "  <tbody>\n",
       "    <tr>\n",
       "      <th>73</th>\n",
       "      <td>17 SERASPI CT</td>\n",
       "      <td>SACRAMENTO</td>\n",
       "      <td>95834</td>\n",
       "      <td>CA</td>\n",
       "      <td>0</td>\n",
       "      <td>0</td>\n",
       "      <td>0</td>\n",
       "      <td>Residential</td>\n",
       "      <td>Wed May 21 00:00:00 EDT 2008</td>\n",
       "      <td>206000</td>\n",
       "      <td>38.631481</td>\n",
       "      <td>-121.501880</td>\n",
       "    </tr>\n",
       "    <tr>\n",
       "      <th>89</th>\n",
       "      <td>2866 KARITSA AVE</td>\n",
       "      <td>SACRAMENTO</td>\n",
       "      <td>95833</td>\n",
       "      <td>CA</td>\n",
       "      <td>0</td>\n",
       "      <td>0</td>\n",
       "      <td>0</td>\n",
       "      <td>Residential</td>\n",
       "      <td>Wed May 21 00:00:00 EDT 2008</td>\n",
       "      <td>244500</td>\n",
       "      <td>38.626671</td>\n",
       "      <td>-121.525970</td>\n",
       "    </tr>\n",
       "    <tr>\n",
       "      <th>100</th>\n",
       "      <td>12209 CONSERVANCY WAY</td>\n",
       "      <td>RANCHO CORDOVA</td>\n",
       "      <td>95742</td>\n",
       "      <td>CA</td>\n",
       "      <td>0</td>\n",
       "      <td>0</td>\n",
       "      <td>0</td>\n",
       "      <td>Residential</td>\n",
       "      <td>Wed May 21 00:00:00 EDT 2008</td>\n",
       "      <td>263500</td>\n",
       "      <td>38.553867</td>\n",
       "      <td>-121.219141</td>\n",
       "    </tr>\n",
       "    <tr>\n",
       "      <th>121</th>\n",
       "      <td>5337 DUSTY ROSE WAY</td>\n",
       "      <td>RANCHO CORDOVA</td>\n",
       "      <td>95742</td>\n",
       "      <td>CA</td>\n",
       "      <td>0</td>\n",
       "      <td>0</td>\n",
       "      <td>0</td>\n",
       "      <td>Residential</td>\n",
       "      <td>Wed May 21 00:00:00 EDT 2008</td>\n",
       "      <td>320000</td>\n",
       "      <td>38.528575</td>\n",
       "      <td>-121.228600</td>\n",
       "    </tr>\n",
       "    <tr>\n",
       "      <th>126</th>\n",
       "      <td>2115 SMOKESTACK WAY</td>\n",
       "      <td>SACRAMENTO</td>\n",
       "      <td>95833</td>\n",
       "      <td>CA</td>\n",
       "      <td>0</td>\n",
       "      <td>0</td>\n",
       "      <td>0</td>\n",
       "      <td>Residential</td>\n",
       "      <td>Wed May 21 00:00:00 EDT 2008</td>\n",
       "      <td>339500</td>\n",
       "      <td>38.602416</td>\n",
       "      <td>-121.542965</td>\n",
       "    </tr>\n",
       "    <tr>\n",
       "      <th>133</th>\n",
       "      <td>8082 LINDA ISLE LN</td>\n",
       "      <td>SACRAMENTO</td>\n",
       "      <td>95831</td>\n",
       "      <td>CA</td>\n",
       "      <td>0</td>\n",
       "      <td>0</td>\n",
       "      <td>0</td>\n",
       "      <td>Residential</td>\n",
       "      <td>Wed May 21 00:00:00 EDT 2008</td>\n",
       "      <td>370000</td>\n",
       "      <td>38.477200</td>\n",
       "      <td>-121.521500</td>\n",
       "    </tr>\n",
       "    <tr>\n",
       "      <th>147</th>\n",
       "      <td>9278 DAIRY CT</td>\n",
       "      <td>ELK GROVE</td>\n",
       "      <td>95624</td>\n",
       "      <td>CA</td>\n",
       "      <td>0</td>\n",
       "      <td>0</td>\n",
       "      <td>0</td>\n",
       "      <td>Residential</td>\n",
       "      <td>Wed May 21 00:00:00 EDT 2008</td>\n",
       "      <td>445000</td>\n",
       "      <td>38.420338</td>\n",
       "      <td>-121.363757</td>\n",
       "    </tr>\n",
       "    <tr>\n",
       "      <th>153</th>\n",
       "      <td>868 HILDEBRAND CIR</td>\n",
       "      <td>FOLSOM</td>\n",
       "      <td>95630</td>\n",
       "      <td>CA</td>\n",
       "      <td>0</td>\n",
       "      <td>0</td>\n",
       "      <td>0</td>\n",
       "      <td>Residential</td>\n",
       "      <td>Wed May 21 00:00:00 EDT 2008</td>\n",
       "      <td>585000</td>\n",
       "      <td>38.670947</td>\n",
       "      <td>-121.097727</td>\n",
       "    </tr>\n",
       "    <tr>\n",
       "      <th>169</th>\n",
       "      <td>14788 NATCHEZ CT</td>\n",
       "      <td>RANCHO MURIETA</td>\n",
       "      <td>95683</td>\n",
       "      <td>CA</td>\n",
       "      <td>0</td>\n",
       "      <td>0</td>\n",
       "      <td>0</td>\n",
       "      <td>Residential</td>\n",
       "      <td>Tue May 20 00:00:00 EDT 2008</td>\n",
       "      <td>97750</td>\n",
       "      <td>38.492287</td>\n",
       "      <td>-121.100032</td>\n",
       "    </tr>\n",
       "    <tr>\n",
       "      <th>192</th>\n",
       "      <td>5201 LAGUNA OAKS DR Unit 126</td>\n",
       "      <td>ELK GROVE</td>\n",
       "      <td>95758</td>\n",
       "      <td>CA</td>\n",
       "      <td>0</td>\n",
       "      <td>0</td>\n",
       "      <td>0</td>\n",
       "      <td>Condo</td>\n",
       "      <td>Tue May 20 00:00:00 EDT 2008</td>\n",
       "      <td>145000</td>\n",
       "      <td>38.423251</td>\n",
       "      <td>-121.444489</td>\n",
       "    </tr>\n",
       "    <tr>\n",
       "      <th>234</th>\n",
       "      <td>3139 SPOONWOOD WAY Unit 1</td>\n",
       "      <td>SACRAMENTO</td>\n",
       "      <td>95833</td>\n",
       "      <td>CA</td>\n",
       "      <td>0</td>\n",
       "      <td>0</td>\n",
       "      <td>0</td>\n",
       "      <td>Residential</td>\n",
       "      <td>Tue May 20 00:00:00 EDT 2008</td>\n",
       "      <td>215500</td>\n",
       "      <td>38.626582</td>\n",
       "      <td>-121.521510</td>\n",
       "    </tr>\n",
       "    <tr>\n",
       "      <th>236</th>\n",
       "      <td>2340 HURLEY WAY</td>\n",
       "      <td>SACRAMENTO</td>\n",
       "      <td>95825</td>\n",
       "      <td>CA</td>\n",
       "      <td>0</td>\n",
       "      <td>0</td>\n",
       "      <td>0</td>\n",
       "      <td>Condo</td>\n",
       "      <td>Tue May 20 00:00:00 EDT 2008</td>\n",
       "      <td>225000</td>\n",
       "      <td>38.588816</td>\n",
       "      <td>-121.408549</td>\n",
       "    </tr>\n",
       "    <tr>\n",
       "      <th>248</th>\n",
       "      <td>611 BLOSSOM ROCK LN</td>\n",
       "      <td>FOLSOM</td>\n",
       "      <td>95630</td>\n",
       "      <td>CA</td>\n",
       "      <td>0</td>\n",
       "      <td>0</td>\n",
       "      <td>0</td>\n",
       "      <td>Condo</td>\n",
       "      <td>Tue May 20 00:00:00 EDT 2008</td>\n",
       "      <td>240000</td>\n",
       "      <td>38.645700</td>\n",
       "      <td>-121.119700</td>\n",
       "    </tr>\n",
       "    <tr>\n",
       "      <th>249</th>\n",
       "      <td>8830 ADUR RD</td>\n",
       "      <td>ELK GROVE</td>\n",
       "      <td>95624</td>\n",
       "      <td>CA</td>\n",
       "      <td>0</td>\n",
       "      <td>0</td>\n",
       "      <td>0</td>\n",
       "      <td>Residential</td>\n",
       "      <td>Tue May 20 00:00:00 EDT 2008</td>\n",
       "      <td>242000</td>\n",
       "      <td>38.437420</td>\n",
       "      <td>-121.372876</td>\n",
       "    </tr>\n",
       "    <tr>\n",
       "      <th>253</th>\n",
       "      <td>221 PICASSO CIR</td>\n",
       "      <td>SACRAMENTO</td>\n",
       "      <td>95835</td>\n",
       "      <td>CA</td>\n",
       "      <td>0</td>\n",
       "      <td>0</td>\n",
       "      <td>0</td>\n",
       "      <td>Residential</td>\n",
       "      <td>Tue May 20 00:00:00 EDT 2008</td>\n",
       "      <td>250000</td>\n",
       "      <td>38.676658</td>\n",
       "      <td>-121.528128</td>\n",
       "    </tr>\n",
       "    <tr>\n",
       "      <th>265</th>\n",
       "      <td>230 BANKSIDE WAY</td>\n",
       "      <td>SACRAMENTO</td>\n",
       "      <td>95835</td>\n",
       "      <td>CA</td>\n",
       "      <td>0</td>\n",
       "      <td>0</td>\n",
       "      <td>0</td>\n",
       "      <td>Residential</td>\n",
       "      <td>Tue May 20 00:00:00 EDT 2008</td>\n",
       "      <td>270000</td>\n",
       "      <td>38.676937</td>\n",
       "      <td>-121.529244</td>\n",
       "    </tr>\n",
       "    <tr>\n",
       "      <th>268</th>\n",
       "      <td>4236 ADRIATIC SEA WAY</td>\n",
       "      <td>SACRAMENTO</td>\n",
       "      <td>95834</td>\n",
       "      <td>CA</td>\n",
       "      <td>0</td>\n",
       "      <td>0</td>\n",
       "      <td>0</td>\n",
       "      <td>Residential</td>\n",
       "      <td>Tue May 20 00:00:00 EDT 2008</td>\n",
       "      <td>270000</td>\n",
       "      <td>38.647961</td>\n",
       "      <td>-121.543162</td>\n",
       "    </tr>\n",
       "    <tr>\n",
       "      <th>279</th>\n",
       "      <td>11281 STANFORD COURT LN Unit 604</td>\n",
       "      <td>GOLD RIVER</td>\n",
       "      <td>95670</td>\n",
       "      <td>CA</td>\n",
       "      <td>0</td>\n",
       "      <td>0</td>\n",
       "      <td>0</td>\n",
       "      <td>Condo</td>\n",
       "      <td>Tue May 20 00:00:00 EDT 2008</td>\n",
       "      <td>300000</td>\n",
       "      <td>38.625289</td>\n",
       "      <td>-121.260286</td>\n",
       "    </tr>\n",
       "    <tr>\n",
       "      <th>285</th>\n",
       "      <td>3224 PARKHAM DR</td>\n",
       "      <td>ROSEVILLE</td>\n",
       "      <td>95747</td>\n",
       "      <td>CA</td>\n",
       "      <td>0</td>\n",
       "      <td>0</td>\n",
       "      <td>0</td>\n",
       "      <td>Residential</td>\n",
       "      <td>Tue May 20 00:00:00 EDT 2008</td>\n",
       "      <td>306500</td>\n",
       "      <td>38.772771</td>\n",
       "      <td>-121.364877</td>\n",
       "    </tr>\n",
       "    <tr>\n",
       "      <th>286</th>\n",
       "      <td>15 VANESSA PL</td>\n",
       "      <td>SACRAMENTO</td>\n",
       "      <td>95835</td>\n",
       "      <td>CA</td>\n",
       "      <td>0</td>\n",
       "      <td>0</td>\n",
       "      <td>0</td>\n",
       "      <td>Residential</td>\n",
       "      <td>Tue May 20 00:00:00 EDT 2008</td>\n",
       "      <td>312500</td>\n",
       "      <td>38.668692</td>\n",
       "      <td>-121.545490</td>\n",
       "    </tr>\n",
       "    <tr>\n",
       "      <th>308</th>\n",
       "      <td>5404 ALMOND FALLS WAY</td>\n",
       "      <td>RANCHO CORDOVA</td>\n",
       "      <td>95742</td>\n",
       "      <td>CA</td>\n",
       "      <td>0</td>\n",
       "      <td>0</td>\n",
       "      <td>0</td>\n",
       "      <td>Residential</td>\n",
       "      <td>Tue May 20 00:00:00 EDT 2008</td>\n",
       "      <td>425000</td>\n",
       "      <td>38.527502</td>\n",
       "      <td>-121.233492</td>\n",
       "    </tr>\n",
       "    <tr>\n",
       "      <th>310</th>\n",
       "      <td>14 CASA VATONI PL</td>\n",
       "      <td>SACRAMENTO</td>\n",
       "      <td>95834</td>\n",
       "      <td>CA</td>\n",
       "      <td>0</td>\n",
       "      <td>0</td>\n",
       "      <td>0</td>\n",
       "      <td>Residential</td>\n",
       "      <td>Tue May 20 00:00:00 EDT 2008</td>\n",
       "      <td>433500</td>\n",
       "      <td>38.650221</td>\n",
       "      <td>-121.551704</td>\n",
       "    </tr>\n",
       "    <tr>\n",
       "      <th>324</th>\n",
       "      <td>201 FIRESTONE DR</td>\n",
       "      <td>ROSEVILLE</td>\n",
       "      <td>95678</td>\n",
       "      <td>CA</td>\n",
       "      <td>0</td>\n",
       "      <td>0</td>\n",
       "      <td>0</td>\n",
       "      <td>Residential</td>\n",
       "      <td>Tue May 20 00:00:00 EDT 2008</td>\n",
       "      <td>500500</td>\n",
       "      <td>38.770153</td>\n",
       "      <td>-121.300039</td>\n",
       "    </tr>\n",
       "    <tr>\n",
       "      <th>326</th>\n",
       "      <td>2733 DANA LOOP</td>\n",
       "      <td>EL DORADO HILLS</td>\n",
       "      <td>95762</td>\n",
       "      <td>CA</td>\n",
       "      <td>0</td>\n",
       "      <td>0</td>\n",
       "      <td>0</td>\n",
       "      <td>Residential</td>\n",
       "      <td>Tue May 20 00:00:00 EDT 2008</td>\n",
       "      <td>541000</td>\n",
       "      <td>38.628459</td>\n",
       "      <td>-121.055078</td>\n",
       "    </tr>\n",
       "    <tr>\n",
       "      <th>327</th>\n",
       "      <td>9741 SADDLEBRED CT</td>\n",
       "      <td>WILTON</td>\n",
       "      <td>95693</td>\n",
       "      <td>CA</td>\n",
       "      <td>0</td>\n",
       "      <td>0</td>\n",
       "      <td>0</td>\n",
       "      <td>Residential</td>\n",
       "      <td>Tue May 20 00:00:00 EDT 2008</td>\n",
       "      <td>560000</td>\n",
       "      <td>38.408841</td>\n",
       "      <td>-121.198039</td>\n",
       "    </tr>\n",
       "    <tr>\n",
       "      <th>469</th>\n",
       "      <td>8491 CRYSTAL WALK CIR</td>\n",
       "      <td>ELK GROVE</td>\n",
       "      <td>95758</td>\n",
       "      <td>CA</td>\n",
       "      <td>0</td>\n",
       "      <td>0</td>\n",
       "      <td>0</td>\n",
       "      <td>Residential</td>\n",
       "      <td>Mon May 19 00:00:00 EDT 2008</td>\n",
       "      <td>261000</td>\n",
       "      <td>38.416916</td>\n",
       "      <td>-121.407554</td>\n",
       "    </tr>\n",
       "    <tr>\n",
       "      <th>477</th>\n",
       "      <td>6286 LONETREE BLVD</td>\n",
       "      <td>ROCKLIN</td>\n",
       "      <td>95765</td>\n",
       "      <td>CA</td>\n",
       "      <td>0</td>\n",
       "      <td>0</td>\n",
       "      <td>0</td>\n",
       "      <td>Residential</td>\n",
       "      <td>Mon May 19 00:00:00 EDT 2008</td>\n",
       "      <td>274500</td>\n",
       "      <td>38.805036</td>\n",
       "      <td>-121.293608</td>\n",
       "    </tr>\n",
       "    <tr>\n",
       "      <th>494</th>\n",
       "      <td>3072 VILLAGE PLAZA DR</td>\n",
       "      <td>ROSEVILLE</td>\n",
       "      <td>95747</td>\n",
       "      <td>CA</td>\n",
       "      <td>0</td>\n",
       "      <td>0</td>\n",
       "      <td>0</td>\n",
       "      <td>Residential</td>\n",
       "      <td>Mon May 19 00:00:00 EDT 2008</td>\n",
       "      <td>307000</td>\n",
       "      <td>38.773094</td>\n",
       "      <td>-121.365905</td>\n",
       "    </tr>\n",
       "    <tr>\n",
       "      <th>503</th>\n",
       "      <td>12241 CANYONLANDS DR</td>\n",
       "      <td>RANCHO CORDOVA</td>\n",
       "      <td>95742</td>\n",
       "      <td>CA</td>\n",
       "      <td>0</td>\n",
       "      <td>0</td>\n",
       "      <td>0</td>\n",
       "      <td>Residential</td>\n",
       "      <td>Mon May 19 00:00:00 EDT 2008</td>\n",
       "      <td>331500</td>\n",
       "      <td>38.557293</td>\n",
       "      <td>-121.217611</td>\n",
       "    </tr>\n",
       "    <tr>\n",
       "      <th>505</th>\n",
       "      <td>907 RIO ROBLES AVE</td>\n",
       "      <td>SACRAMENTO</td>\n",
       "      <td>95838</td>\n",
       "      <td>CA</td>\n",
       "      <td>0</td>\n",
       "      <td>0</td>\n",
       "      <td>0</td>\n",
       "      <td>Residential</td>\n",
       "      <td>Mon May 19 00:00:00 EDT 2008</td>\n",
       "      <td>344755</td>\n",
       "      <td>38.664765</td>\n",
       "      <td>-121.445006</td>\n",
       "    </tr>\n",
       "    <tr>\n",
       "      <th>...</th>\n",
       "      <td>...</td>\n",
       "      <td>...</td>\n",
       "      <td>...</td>\n",
       "      <td>...</td>\n",
       "      <td>...</td>\n",
       "      <td>...</td>\n",
       "      <td>...</td>\n",
       "      <td>...</td>\n",
       "      <td>...</td>\n",
       "      <td>...</td>\n",
       "      <td>...</td>\n",
       "      <td>...</td>\n",
       "    </tr>\n",
       "    <tr>\n",
       "      <th>600</th>\n",
       "      <td>7 CRYSTALWOOD CIR</td>\n",
       "      <td>LINCOLN</td>\n",
       "      <td>95648</td>\n",
       "      <td>CA</td>\n",
       "      <td>0</td>\n",
       "      <td>0</td>\n",
       "      <td>0</td>\n",
       "      <td>Residential</td>\n",
       "      <td>Mon May 19 00:00:00 EDT 2008</td>\n",
       "      <td>4897</td>\n",
       "      <td>38.885962</td>\n",
       "      <td>-121.289436</td>\n",
       "    </tr>\n",
       "    <tr>\n",
       "      <th>601</th>\n",
       "      <td>7 CRYSTALWOOD CIR</td>\n",
       "      <td>LINCOLN</td>\n",
       "      <td>95648</td>\n",
       "      <td>CA</td>\n",
       "      <td>0</td>\n",
       "      <td>0</td>\n",
       "      <td>0</td>\n",
       "      <td>Residential</td>\n",
       "      <td>Mon May 19 00:00:00 EDT 2008</td>\n",
       "      <td>4897</td>\n",
       "      <td>38.885962</td>\n",
       "      <td>-121.289436</td>\n",
       "    </tr>\n",
       "    <tr>\n",
       "      <th>602</th>\n",
       "      <td>3 CRYSTALWOOD CIR</td>\n",
       "      <td>LINCOLN</td>\n",
       "      <td>95648</td>\n",
       "      <td>CA</td>\n",
       "      <td>0</td>\n",
       "      <td>0</td>\n",
       "      <td>0</td>\n",
       "      <td>Residential</td>\n",
       "      <td>Mon May 19 00:00:00 EDT 2008</td>\n",
       "      <td>4897</td>\n",
       "      <td>38.886093</td>\n",
       "      <td>-121.289584</td>\n",
       "    </tr>\n",
       "    <tr>\n",
       "      <th>604</th>\n",
       "      <td>113 RINETTI WAY</td>\n",
       "      <td>RIO LINDA</td>\n",
       "      <td>95673</td>\n",
       "      <td>CA</td>\n",
       "      <td>0</td>\n",
       "      <td>0</td>\n",
       "      <td>0</td>\n",
       "      <td>Residential</td>\n",
       "      <td>Fri May 16 00:00:00 EDT 2008</td>\n",
       "      <td>30000</td>\n",
       "      <td>38.687172</td>\n",
       "      <td>-121.463933</td>\n",
       "    </tr>\n",
       "    <tr>\n",
       "      <th>686</th>\n",
       "      <td>5890 TT TRAK</td>\n",
       "      <td>FORESTHILL</td>\n",
       "      <td>95631</td>\n",
       "      <td>CA</td>\n",
       "      <td>0</td>\n",
       "      <td>0</td>\n",
       "      <td>0</td>\n",
       "      <td>Residential</td>\n",
       "      <td>Fri May 16 00:00:00 EDT 2008</td>\n",
       "      <td>194818</td>\n",
       "      <td>39.020808</td>\n",
       "      <td>-120.821518</td>\n",
       "    </tr>\n",
       "    <tr>\n",
       "      <th>718</th>\n",
       "      <td>9967 HATHERTON WAY</td>\n",
       "      <td>ELK GROVE</td>\n",
       "      <td>95757</td>\n",
       "      <td>CA</td>\n",
       "      <td>0</td>\n",
       "      <td>0</td>\n",
       "      <td>0</td>\n",
       "      <td>Residential</td>\n",
       "      <td>Fri May 16 00:00:00 EDT 2008</td>\n",
       "      <td>222500</td>\n",
       "      <td>38.305200</td>\n",
       "      <td>-121.403300</td>\n",
       "    </tr>\n",
       "    <tr>\n",
       "      <th>737</th>\n",
       "      <td>3569 SODA WAY</td>\n",
       "      <td>SACRAMENTO</td>\n",
       "      <td>95834</td>\n",
       "      <td>CA</td>\n",
       "      <td>0</td>\n",
       "      <td>0</td>\n",
       "      <td>0</td>\n",
       "      <td>Residential</td>\n",
       "      <td>Fri May 16 00:00:00 EDT 2008</td>\n",
       "      <td>247000</td>\n",
       "      <td>38.631139</td>\n",
       "      <td>-121.501879</td>\n",
       "    </tr>\n",
       "    <tr>\n",
       "      <th>743</th>\n",
       "      <td>6288 LONETREE BLVD</td>\n",
       "      <td>ROCKLIN</td>\n",
       "      <td>95765</td>\n",
       "      <td>CA</td>\n",
       "      <td>0</td>\n",
       "      <td>0</td>\n",
       "      <td>0</td>\n",
       "      <td>Residential</td>\n",
       "      <td>Fri May 16 00:00:00 EDT 2008</td>\n",
       "      <td>250000</td>\n",
       "      <td>38.804993</td>\n",
       "      <td>-121.293609</td>\n",
       "    </tr>\n",
       "    <tr>\n",
       "      <th>754</th>\n",
       "      <td>6001 SHOO FLY RD</td>\n",
       "      <td>PLACERVILLE</td>\n",
       "      <td>95667</td>\n",
       "      <td>CA</td>\n",
       "      <td>0</td>\n",
       "      <td>0</td>\n",
       "      <td>0</td>\n",
       "      <td>Residential</td>\n",
       "      <td>Fri May 16 00:00:00 EDT 2008</td>\n",
       "      <td>270000</td>\n",
       "      <td>38.813546</td>\n",
       "      <td>-120.809254</td>\n",
       "    </tr>\n",
       "    <tr>\n",
       "      <th>755</th>\n",
       "      <td>3040 PARKHAM DR</td>\n",
       "      <td>ROSEVILLE</td>\n",
       "      <td>95747</td>\n",
       "      <td>CA</td>\n",
       "      <td>0</td>\n",
       "      <td>0</td>\n",
       "      <td>0</td>\n",
       "      <td>Residential</td>\n",
       "      <td>Fri May 16 00:00:00 EDT 2008</td>\n",
       "      <td>271000</td>\n",
       "      <td>38.770835</td>\n",
       "      <td>-121.366996</td>\n",
       "    </tr>\n",
       "    <tr>\n",
       "      <th>757</th>\n",
       "      <td>6007 MARYBELLE LN</td>\n",
       "      <td>SHINGLE SPRINGS</td>\n",
       "      <td>95682</td>\n",
       "      <td>CA</td>\n",
       "      <td>0</td>\n",
       "      <td>0</td>\n",
       "      <td>0</td>\n",
       "      <td>Unkown</td>\n",
       "      <td>Fri May 16 00:00:00 EDT 2008</td>\n",
       "      <td>275000</td>\n",
       "      <td>38.643470</td>\n",
       "      <td>-120.888183</td>\n",
       "    </tr>\n",
       "    <tr>\n",
       "      <th>774</th>\n",
       "      <td>8253 KEEGAN WAY</td>\n",
       "      <td>ELK GROVE</td>\n",
       "      <td>95624</td>\n",
       "      <td>CA</td>\n",
       "      <td>0</td>\n",
       "      <td>0</td>\n",
       "      <td>0</td>\n",
       "      <td>Residential</td>\n",
       "      <td>Fri May 16 00:00:00 EDT 2008</td>\n",
       "      <td>298000</td>\n",
       "      <td>38.446286</td>\n",
       "      <td>-121.400817</td>\n",
       "    </tr>\n",
       "    <tr>\n",
       "      <th>789</th>\n",
       "      <td>5222 COPPER SUNSET WAY</td>\n",
       "      <td>RANCHO CORDOVA</td>\n",
       "      <td>95742</td>\n",
       "      <td>CA</td>\n",
       "      <td>0</td>\n",
       "      <td>0</td>\n",
       "      <td>0</td>\n",
       "      <td>Residential</td>\n",
       "      <td>Fri May 16 00:00:00 EDT 2008</td>\n",
       "      <td>313000</td>\n",
       "      <td>38.529181</td>\n",
       "      <td>-121.224755</td>\n",
       "    </tr>\n",
       "    <tr>\n",
       "      <th>798</th>\n",
       "      <td>3232 PARKHAM DR</td>\n",
       "      <td>ROSEVILLE</td>\n",
       "      <td>95747</td>\n",
       "      <td>CA</td>\n",
       "      <td>0</td>\n",
       "      <td>0</td>\n",
       "      <td>0</td>\n",
       "      <td>Residential</td>\n",
       "      <td>Fri May 16 00:00:00 EDT 2008</td>\n",
       "      <td>325500</td>\n",
       "      <td>38.772821</td>\n",
       "      <td>-121.364821</td>\n",
       "    </tr>\n",
       "    <tr>\n",
       "      <th>819</th>\n",
       "      <td>2274 IVY BRIDGE DR</td>\n",
       "      <td>ROSEVILLE</td>\n",
       "      <td>95747</td>\n",
       "      <td>CA</td>\n",
       "      <td>0</td>\n",
       "      <td>0</td>\n",
       "      <td>0</td>\n",
       "      <td>Residential</td>\n",
       "      <td>Fri May 16 00:00:00 EDT 2008</td>\n",
       "      <td>375000</td>\n",
       "      <td>38.778561</td>\n",
       "      <td>-121.362008</td>\n",
       "    </tr>\n",
       "    <tr>\n",
       "      <th>823</th>\n",
       "      <td>201 KIRKLAND CT</td>\n",
       "      <td>LINCOLN</td>\n",
       "      <td>95648</td>\n",
       "      <td>CA</td>\n",
       "      <td>0</td>\n",
       "      <td>0</td>\n",
       "      <td>0</td>\n",
       "      <td>Residential</td>\n",
       "      <td>Fri May 16 00:00:00 EDT 2008</td>\n",
       "      <td>389000</td>\n",
       "      <td>38.867125</td>\n",
       "      <td>-121.319085</td>\n",
       "    </tr>\n",
       "    <tr>\n",
       "      <th>824</th>\n",
       "      <td>12075 APPLESBURY CT</td>\n",
       "      <td>RANCHO CORDOVA</td>\n",
       "      <td>95742</td>\n",
       "      <td>CA</td>\n",
       "      <td>0</td>\n",
       "      <td>0</td>\n",
       "      <td>0</td>\n",
       "      <td>Residential</td>\n",
       "      <td>Fri May 16 00:00:00 EDT 2008</td>\n",
       "      <td>390000</td>\n",
       "      <td>38.535700</td>\n",
       "      <td>-121.224900</td>\n",
       "    </tr>\n",
       "    <tr>\n",
       "      <th>826</th>\n",
       "      <td>5420 ALMOND FALLS WAY</td>\n",
       "      <td>RANCHO CORDOVA</td>\n",
       "      <td>95742</td>\n",
       "      <td>CA</td>\n",
       "      <td>0</td>\n",
       "      <td>0</td>\n",
       "      <td>0</td>\n",
       "      <td>Residential</td>\n",
       "      <td>Fri May 16 00:00:00 EDT 2008</td>\n",
       "      <td>396000</td>\n",
       "      <td>38.527384</td>\n",
       "      <td>-121.233531</td>\n",
       "    </tr>\n",
       "    <tr>\n",
       "      <th>828</th>\n",
       "      <td>1515 EL CAMINO VERDE DR</td>\n",
       "      <td>LINCOLN</td>\n",
       "      <td>95648</td>\n",
       "      <td>CA</td>\n",
       "      <td>0</td>\n",
       "      <td>0</td>\n",
       "      <td>0</td>\n",
       "      <td>Residential</td>\n",
       "      <td>Fri May 16 00:00:00 EDT 2008</td>\n",
       "      <td>400000</td>\n",
       "      <td>38.904869</td>\n",
       "      <td>-121.320750</td>\n",
       "    </tr>\n",
       "    <tr>\n",
       "      <th>836</th>\n",
       "      <td>1536 STONEY CROSS LN</td>\n",
       "      <td>LINCOLN</td>\n",
       "      <td>95648</td>\n",
       "      <td>CA</td>\n",
       "      <td>0</td>\n",
       "      <td>0</td>\n",
       "      <td>0</td>\n",
       "      <td>Residential</td>\n",
       "      <td>Fri May 16 00:00:00 EDT 2008</td>\n",
       "      <td>433500</td>\n",
       "      <td>38.860007</td>\n",
       "      <td>-121.310946</td>\n",
       "    </tr>\n",
       "    <tr>\n",
       "      <th>848</th>\n",
       "      <td>200 HILLSFORD CT</td>\n",
       "      <td>ROSEVILLE</td>\n",
       "      <td>95747</td>\n",
       "      <td>CA</td>\n",
       "      <td>0</td>\n",
       "      <td>0</td>\n",
       "      <td>0</td>\n",
       "      <td>Residential</td>\n",
       "      <td>Fri May 16 00:00:00 EDT 2008</td>\n",
       "      <td>511000</td>\n",
       "      <td>38.780051</td>\n",
       "      <td>-121.378718</td>\n",
       "    </tr>\n",
       "    <tr>\n",
       "      <th>859</th>\n",
       "      <td>4478 GREENBRAE RD</td>\n",
       "      <td>ROCKLIN</td>\n",
       "      <td>95677</td>\n",
       "      <td>CA</td>\n",
       "      <td>0</td>\n",
       "      <td>0</td>\n",
       "      <td>0</td>\n",
       "      <td>Residential</td>\n",
       "      <td>Fri May 16 00:00:00 EDT 2008</td>\n",
       "      <td>600000</td>\n",
       "      <td>38.781134</td>\n",
       "      <td>-121.222801</td>\n",
       "    </tr>\n",
       "    <tr>\n",
       "      <th>861</th>\n",
       "      <td>200 CRADLE MOUNTAIN CT</td>\n",
       "      <td>EL DORADO HILLS</td>\n",
       "      <td>95762</td>\n",
       "      <td>CA</td>\n",
       "      <td>0</td>\n",
       "      <td>0</td>\n",
       "      <td>0</td>\n",
       "      <td>Residential</td>\n",
       "      <td>Fri May 16 00:00:00 EDT 2008</td>\n",
       "      <td>622500</td>\n",
       "      <td>38.647800</td>\n",
       "      <td>-121.030900</td>\n",
       "    </tr>\n",
       "    <tr>\n",
       "      <th>862</th>\n",
       "      <td>2065 IMPRESSIONIST WAY</td>\n",
       "      <td>EL DORADO HILLS</td>\n",
       "      <td>95762</td>\n",
       "      <td>CA</td>\n",
       "      <td>0</td>\n",
       "      <td>0</td>\n",
       "      <td>0</td>\n",
       "      <td>Residential</td>\n",
       "      <td>Fri May 16 00:00:00 EDT 2008</td>\n",
       "      <td>680000</td>\n",
       "      <td>38.682961</td>\n",
       "      <td>-121.033253</td>\n",
       "    </tr>\n",
       "    <tr>\n",
       "      <th>888</th>\n",
       "      <td>3035 ESTEPA DR Unit 5C</td>\n",
       "      <td>CAMERON PARK</td>\n",
       "      <td>95682</td>\n",
       "      <td>CA</td>\n",
       "      <td>0</td>\n",
       "      <td>0</td>\n",
       "      <td>0</td>\n",
       "      <td>Condo</td>\n",
       "      <td>Thu May 15 00:00:00 EDT 2008</td>\n",
       "      <td>119000</td>\n",
       "      <td>38.681393</td>\n",
       "      <td>-120.996713</td>\n",
       "    </tr>\n",
       "    <tr>\n",
       "      <th>901</th>\n",
       "      <td>1530 TOPANGA LN Unit 204</td>\n",
       "      <td>LINCOLN</td>\n",
       "      <td>95648</td>\n",
       "      <td>CA</td>\n",
       "      <td>0</td>\n",
       "      <td>0</td>\n",
       "      <td>0</td>\n",
       "      <td>Condo</td>\n",
       "      <td>Thu May 15 00:00:00 EDT 2008</td>\n",
       "      <td>138000</td>\n",
       "      <td>38.884150</td>\n",
       "      <td>-121.270277</td>\n",
       "    </tr>\n",
       "    <tr>\n",
       "      <th>917</th>\n",
       "      <td>501 POPLAR AVE</td>\n",
       "      <td>WEST SACRAMENTO</td>\n",
       "      <td>95691</td>\n",
       "      <td>CA</td>\n",
       "      <td>0</td>\n",
       "      <td>0</td>\n",
       "      <td>0</td>\n",
       "      <td>Residential</td>\n",
       "      <td>Thu May 15 00:00:00 EDT 2008</td>\n",
       "      <td>165000</td>\n",
       "      <td>38.584526</td>\n",
       "      <td>-121.534609</td>\n",
       "    </tr>\n",
       "    <tr>\n",
       "      <th>934</th>\n",
       "      <td>1550 TOPANGA LN Unit 207</td>\n",
       "      <td>LINCOLN</td>\n",
       "      <td>95648</td>\n",
       "      <td>CA</td>\n",
       "      <td>0</td>\n",
       "      <td>0</td>\n",
       "      <td>0</td>\n",
       "      <td>Condo</td>\n",
       "      <td>Thu May 15 00:00:00 EDT 2008</td>\n",
       "      <td>188000</td>\n",
       "      <td>38.884170</td>\n",
       "      <td>-121.270222</td>\n",
       "    </tr>\n",
       "    <tr>\n",
       "      <th>947</th>\n",
       "      <td>1525 PENNSYLVANIA AVE</td>\n",
       "      <td>WEST SACRAMENTO</td>\n",
       "      <td>95691</td>\n",
       "      <td>CA</td>\n",
       "      <td>0</td>\n",
       "      <td>0</td>\n",
       "      <td>0</td>\n",
       "      <td>Residential</td>\n",
       "      <td>Thu May 15 00:00:00 EDT 2008</td>\n",
       "      <td>200100</td>\n",
       "      <td>38.569943</td>\n",
       "      <td>-121.527539</td>\n",
       "    </tr>\n",
       "    <tr>\n",
       "      <th>970</th>\n",
       "      <td>3557 SODA WAY</td>\n",
       "      <td>SACRAMENTO</td>\n",
       "      <td>95834</td>\n",
       "      <td>CA</td>\n",
       "      <td>0</td>\n",
       "      <td>0</td>\n",
       "      <td>0</td>\n",
       "      <td>Residential</td>\n",
       "      <td>Thu May 15 00:00:00 EDT 2008</td>\n",
       "      <td>224000</td>\n",
       "      <td>38.631026</td>\n",
       "      <td>-121.501879</td>\n",
       "    </tr>\n",
       "  </tbody>\n",
       "</table>\n",
       "<p>108 rows × 12 columns</p>\n",
       "</div>"
      ],
      "text/plain": [
       "                               street             city    zip state  beds  \\\n",
       "73                      17 SERASPI CT       SACRAMENTO  95834    CA     0   \n",
       "89                   2866 KARITSA AVE       SACRAMENTO  95833    CA     0   \n",
       "100             12209 CONSERVANCY WAY   RANCHO CORDOVA  95742    CA     0   \n",
       "121               5337 DUSTY ROSE WAY   RANCHO CORDOVA  95742    CA     0   \n",
       "126               2115 SMOKESTACK WAY       SACRAMENTO  95833    CA     0   \n",
       "133                8082 LINDA ISLE LN       SACRAMENTO  95831    CA     0   \n",
       "147                     9278 DAIRY CT        ELK GROVE  95624    CA     0   \n",
       "153                868 HILDEBRAND CIR           FOLSOM  95630    CA     0   \n",
       "169                  14788 NATCHEZ CT   RANCHO MURIETA  95683    CA     0   \n",
       "192      5201 LAGUNA OAKS DR Unit 126        ELK GROVE  95758    CA     0   \n",
       "234         3139 SPOONWOOD WAY Unit 1       SACRAMENTO  95833    CA     0   \n",
       "236                   2340 HURLEY WAY       SACRAMENTO  95825    CA     0   \n",
       "248               611 BLOSSOM ROCK LN           FOLSOM  95630    CA     0   \n",
       "249                      8830 ADUR RD        ELK GROVE  95624    CA     0   \n",
       "253                   221 PICASSO CIR       SACRAMENTO  95835    CA     0   \n",
       "265                  230 BANKSIDE WAY       SACRAMENTO  95835    CA     0   \n",
       "268             4236 ADRIATIC SEA WAY       SACRAMENTO  95834    CA     0   \n",
       "279  11281 STANFORD COURT LN Unit 604       GOLD RIVER  95670    CA     0   \n",
       "285                   3224 PARKHAM DR        ROSEVILLE  95747    CA     0   \n",
       "286                     15 VANESSA PL       SACRAMENTO  95835    CA     0   \n",
       "308             5404 ALMOND FALLS WAY   RANCHO CORDOVA  95742    CA     0   \n",
       "310                 14 CASA VATONI PL       SACRAMENTO  95834    CA     0   \n",
       "324                  201 FIRESTONE DR        ROSEVILLE  95678    CA     0   \n",
       "326                    2733 DANA LOOP  EL DORADO HILLS  95762    CA     0   \n",
       "327                9741 SADDLEBRED CT           WILTON  95693    CA     0   \n",
       "469             8491 CRYSTAL WALK CIR        ELK GROVE  95758    CA     0   \n",
       "477                6286 LONETREE BLVD          ROCKLIN  95765    CA     0   \n",
       "494             3072 VILLAGE PLAZA DR        ROSEVILLE  95747    CA     0   \n",
       "503              12241 CANYONLANDS DR   RANCHO CORDOVA  95742    CA     0   \n",
       "505                907 RIO ROBLES AVE       SACRAMENTO  95838    CA     0   \n",
       "..                                ...              ...    ...   ...   ...   \n",
       "600                 7 CRYSTALWOOD CIR          LINCOLN  95648    CA     0   \n",
       "601                 7 CRYSTALWOOD CIR          LINCOLN  95648    CA     0   \n",
       "602                 3 CRYSTALWOOD CIR          LINCOLN  95648    CA     0   \n",
       "604                   113 RINETTI WAY        RIO LINDA  95673    CA     0   \n",
       "686                      5890 TT TRAK       FORESTHILL  95631    CA     0   \n",
       "718                9967 HATHERTON WAY        ELK GROVE  95757    CA     0   \n",
       "737                     3569 SODA WAY       SACRAMENTO  95834    CA     0   \n",
       "743                6288 LONETREE BLVD          ROCKLIN  95765    CA     0   \n",
       "754                  6001 SHOO FLY RD      PLACERVILLE  95667    CA     0   \n",
       "755                   3040 PARKHAM DR        ROSEVILLE  95747    CA     0   \n",
       "757                 6007 MARYBELLE LN  SHINGLE SPRINGS  95682    CA     0   \n",
       "774                   8253 KEEGAN WAY        ELK GROVE  95624    CA     0   \n",
       "789            5222 COPPER SUNSET WAY   RANCHO CORDOVA  95742    CA     0   \n",
       "798                   3232 PARKHAM DR        ROSEVILLE  95747    CA     0   \n",
       "819                2274 IVY BRIDGE DR        ROSEVILLE  95747    CA     0   \n",
       "823                   201 KIRKLAND CT          LINCOLN  95648    CA     0   \n",
       "824               12075 APPLESBURY CT   RANCHO CORDOVA  95742    CA     0   \n",
       "826             5420 ALMOND FALLS WAY   RANCHO CORDOVA  95742    CA     0   \n",
       "828           1515 EL CAMINO VERDE DR          LINCOLN  95648    CA     0   \n",
       "836              1536 STONEY CROSS LN          LINCOLN  95648    CA     0   \n",
       "848                  200 HILLSFORD CT        ROSEVILLE  95747    CA     0   \n",
       "859                 4478 GREENBRAE RD          ROCKLIN  95677    CA     0   \n",
       "861            200 CRADLE MOUNTAIN CT  EL DORADO HILLS  95762    CA     0   \n",
       "862            2065 IMPRESSIONIST WAY  EL DORADO HILLS  95762    CA     0   \n",
       "888            3035 ESTEPA DR Unit 5C     CAMERON PARK  95682    CA     0   \n",
       "901          1530 TOPANGA LN Unit 204          LINCOLN  95648    CA     0   \n",
       "917                    501 POPLAR AVE  WEST SACRAMENTO  95691    CA     0   \n",
       "934          1550 TOPANGA LN Unit 207          LINCOLN  95648    CA     0   \n",
       "947             1525 PENNSYLVANIA AVE  WEST SACRAMENTO  95691    CA     0   \n",
       "970                     3557 SODA WAY       SACRAMENTO  95834    CA     0   \n",
       "\n",
       "     baths  sq__ft         type                     sale_date   price  \\\n",
       "73       0       0  Residential  Wed May 21 00:00:00 EDT 2008  206000   \n",
       "89       0       0  Residential  Wed May 21 00:00:00 EDT 2008  244500   \n",
       "100      0       0  Residential  Wed May 21 00:00:00 EDT 2008  263500   \n",
       "121      0       0  Residential  Wed May 21 00:00:00 EDT 2008  320000   \n",
       "126      0       0  Residential  Wed May 21 00:00:00 EDT 2008  339500   \n",
       "133      0       0  Residential  Wed May 21 00:00:00 EDT 2008  370000   \n",
       "147      0       0  Residential  Wed May 21 00:00:00 EDT 2008  445000   \n",
       "153      0       0  Residential  Wed May 21 00:00:00 EDT 2008  585000   \n",
       "169      0       0  Residential  Tue May 20 00:00:00 EDT 2008   97750   \n",
       "192      0       0        Condo  Tue May 20 00:00:00 EDT 2008  145000   \n",
       "234      0       0  Residential  Tue May 20 00:00:00 EDT 2008  215500   \n",
       "236      0       0        Condo  Tue May 20 00:00:00 EDT 2008  225000   \n",
       "248      0       0        Condo  Tue May 20 00:00:00 EDT 2008  240000   \n",
       "249      0       0  Residential  Tue May 20 00:00:00 EDT 2008  242000   \n",
       "253      0       0  Residential  Tue May 20 00:00:00 EDT 2008  250000   \n",
       "265      0       0  Residential  Tue May 20 00:00:00 EDT 2008  270000   \n",
       "268      0       0  Residential  Tue May 20 00:00:00 EDT 2008  270000   \n",
       "279      0       0        Condo  Tue May 20 00:00:00 EDT 2008  300000   \n",
       "285      0       0  Residential  Tue May 20 00:00:00 EDT 2008  306500   \n",
       "286      0       0  Residential  Tue May 20 00:00:00 EDT 2008  312500   \n",
       "308      0       0  Residential  Tue May 20 00:00:00 EDT 2008  425000   \n",
       "310      0       0  Residential  Tue May 20 00:00:00 EDT 2008  433500   \n",
       "324      0       0  Residential  Tue May 20 00:00:00 EDT 2008  500500   \n",
       "326      0       0  Residential  Tue May 20 00:00:00 EDT 2008  541000   \n",
       "327      0       0  Residential  Tue May 20 00:00:00 EDT 2008  560000   \n",
       "469      0       0  Residential  Mon May 19 00:00:00 EDT 2008  261000   \n",
       "477      0       0  Residential  Mon May 19 00:00:00 EDT 2008  274500   \n",
       "494      0       0  Residential  Mon May 19 00:00:00 EDT 2008  307000   \n",
       "503      0       0  Residential  Mon May 19 00:00:00 EDT 2008  331500   \n",
       "505      0       0  Residential  Mon May 19 00:00:00 EDT 2008  344755   \n",
       "..     ...     ...          ...                           ...     ...   \n",
       "600      0       0  Residential  Mon May 19 00:00:00 EDT 2008    4897   \n",
       "601      0       0  Residential  Mon May 19 00:00:00 EDT 2008    4897   \n",
       "602      0       0  Residential  Mon May 19 00:00:00 EDT 2008    4897   \n",
       "604      0       0  Residential  Fri May 16 00:00:00 EDT 2008   30000   \n",
       "686      0       0  Residential  Fri May 16 00:00:00 EDT 2008  194818   \n",
       "718      0       0  Residential  Fri May 16 00:00:00 EDT 2008  222500   \n",
       "737      0       0  Residential  Fri May 16 00:00:00 EDT 2008  247000   \n",
       "743      0       0  Residential  Fri May 16 00:00:00 EDT 2008  250000   \n",
       "754      0       0  Residential  Fri May 16 00:00:00 EDT 2008  270000   \n",
       "755      0       0  Residential  Fri May 16 00:00:00 EDT 2008  271000   \n",
       "757      0       0       Unkown  Fri May 16 00:00:00 EDT 2008  275000   \n",
       "774      0       0  Residential  Fri May 16 00:00:00 EDT 2008  298000   \n",
       "789      0       0  Residential  Fri May 16 00:00:00 EDT 2008  313000   \n",
       "798      0       0  Residential  Fri May 16 00:00:00 EDT 2008  325500   \n",
       "819      0       0  Residential  Fri May 16 00:00:00 EDT 2008  375000   \n",
       "823      0       0  Residential  Fri May 16 00:00:00 EDT 2008  389000   \n",
       "824      0       0  Residential  Fri May 16 00:00:00 EDT 2008  390000   \n",
       "826      0       0  Residential  Fri May 16 00:00:00 EDT 2008  396000   \n",
       "828      0       0  Residential  Fri May 16 00:00:00 EDT 2008  400000   \n",
       "836      0       0  Residential  Fri May 16 00:00:00 EDT 2008  433500   \n",
       "848      0       0  Residential  Fri May 16 00:00:00 EDT 2008  511000   \n",
       "859      0       0  Residential  Fri May 16 00:00:00 EDT 2008  600000   \n",
       "861      0       0  Residential  Fri May 16 00:00:00 EDT 2008  622500   \n",
       "862      0       0  Residential  Fri May 16 00:00:00 EDT 2008  680000   \n",
       "888      0       0        Condo  Thu May 15 00:00:00 EDT 2008  119000   \n",
       "901      0       0        Condo  Thu May 15 00:00:00 EDT 2008  138000   \n",
       "917      0       0  Residential  Thu May 15 00:00:00 EDT 2008  165000   \n",
       "934      0       0        Condo  Thu May 15 00:00:00 EDT 2008  188000   \n",
       "947      0       0  Residential  Thu May 15 00:00:00 EDT 2008  200100   \n",
       "970      0       0  Residential  Thu May 15 00:00:00 EDT 2008  224000   \n",
       "\n",
       "      latitude   longitude  \n",
       "73   38.631481 -121.501880  \n",
       "89   38.626671 -121.525970  \n",
       "100  38.553867 -121.219141  \n",
       "121  38.528575 -121.228600  \n",
       "126  38.602416 -121.542965  \n",
       "133  38.477200 -121.521500  \n",
       "147  38.420338 -121.363757  \n",
       "153  38.670947 -121.097727  \n",
       "169  38.492287 -121.100032  \n",
       "192  38.423251 -121.444489  \n",
       "234  38.626582 -121.521510  \n",
       "236  38.588816 -121.408549  \n",
       "248  38.645700 -121.119700  \n",
       "249  38.437420 -121.372876  \n",
       "253  38.676658 -121.528128  \n",
       "265  38.676937 -121.529244  \n",
       "268  38.647961 -121.543162  \n",
       "279  38.625289 -121.260286  \n",
       "285  38.772771 -121.364877  \n",
       "286  38.668692 -121.545490  \n",
       "308  38.527502 -121.233492  \n",
       "310  38.650221 -121.551704  \n",
       "324  38.770153 -121.300039  \n",
       "326  38.628459 -121.055078  \n",
       "327  38.408841 -121.198039  \n",
       "469  38.416916 -121.407554  \n",
       "477  38.805036 -121.293608  \n",
       "494  38.773094 -121.365905  \n",
       "503  38.557293 -121.217611  \n",
       "505  38.664765 -121.445006  \n",
       "..         ...         ...  \n",
       "600  38.885962 -121.289436  \n",
       "601  38.885962 -121.289436  \n",
       "602  38.886093 -121.289584  \n",
       "604  38.687172 -121.463933  \n",
       "686  39.020808 -120.821518  \n",
       "718  38.305200 -121.403300  \n",
       "737  38.631139 -121.501879  \n",
       "743  38.804993 -121.293609  \n",
       "754  38.813546 -120.809254  \n",
       "755  38.770835 -121.366996  \n",
       "757  38.643470 -120.888183  \n",
       "774  38.446286 -121.400817  \n",
       "789  38.529181 -121.224755  \n",
       "798  38.772821 -121.364821  \n",
       "819  38.778561 -121.362008  \n",
       "823  38.867125 -121.319085  \n",
       "824  38.535700 -121.224900  \n",
       "826  38.527384 -121.233531  \n",
       "828  38.904869 -121.320750  \n",
       "836  38.860007 -121.310946  \n",
       "848  38.780051 -121.378718  \n",
       "859  38.781134 -121.222801  \n",
       "861  38.647800 -121.030900  \n",
       "862  38.682961 -121.033253  \n",
       "888  38.681393 -120.996713  \n",
       "901  38.884150 -121.270277  \n",
       "917  38.584526 -121.534609  \n",
       "934  38.884170 -121.270222  \n",
       "947  38.569943 -121.527539  \n",
       "970  38.631026 -121.501879  \n",
       "\n",
       "[108 rows x 12 columns]"
      ]
     },
     "execution_count": 13,
     "metadata": {},
     "output_type": "execute_result"
    }
   ],
   "source": [
    "data[data['beds'] == 0]"
   ]
  },
  {
   "cell_type": "code",
   "execution_count": 14,
   "metadata": {},
   "outputs": [
    {
     "data": {
      "text/plain": [
       "<matplotlib.axes._subplots.AxesSubplot at 0x1a22644a90>"
      ]
     },
     "execution_count": 14,
     "metadata": {},
     "output_type": "execute_result"
    },
    {
     "data": {
      "image/png": "[encoded data removed]",
      "text/plain": [
       "<Figure size 432x288 with 1 Axes>"
      ]
     },
     "metadata": {
      "needs_background": "light"
     },
     "output_type": "display_data"
    }
   ],
   "source": [
    "# Types of Data\n",
    "data['type'].value_counts().plot(kind='bar')"
   ]
  },
  {
   "cell_type": "code",
   "execution_count": 15,
   "metadata": {},
   "outputs": [
    {
     "data": {
      "image/png": "[encoded data removed]",
      "text/plain": [
       "<Figure size 1080x720 with 1 Axes>"
      ]
     },
     "metadata": {
      "needs_background": "light"
     },
     "output_type": "display_data"
    }
   ],
   "source": [
    "# City\n",
    "data['city'].value_counts().sort_values().plot(kind='barh', figsize=(15,10));"
   ]
  },
  {
   "cell_type": "code",
   "execution_count": 16,
   "metadata": {},
   "outputs": [],
   "source": [
    "# Create another type which have 0 beds, baths, sqft"
   ]
  },
  {
   "cell_type": "code",
   "execution_count": 17,
   "metadata": {},
   "outputs": [],
   "source": [
    "data.loc[data['beds'] == 0, 'type'] = 'Plot'"
   ]
  },
  {
   "cell_type": "code",
   "execution_count": 18,
   "metadata": {},
   "outputs": [
    {
     "data": {
      "image/png": "[encoded data removed]",
      "text/plain": [
       "<Figure size 432x288 with 1 Axes>"
      ]
     },
     "metadata": {
      "needs_background": "light"
     },
     "output_type": "display_data"
    }
   ],
   "source": [
    "data['state'].value_counts().plot(kind='bar');"
   ]
  },
  {
   "cell_type": "code",
   "execution_count": 19,
   "metadata": {},
   "outputs": [
    {
     "data": {
      "text/html": [
       "<div style=\"width:100%;\"><div style=\"position:relative;width:100%;height:0;padding-bottom:60%;\"><iframe src=\"data:text/html;charset=utf-8;base64,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\" style=\"position:absolute;width:100%;height:100%;left:0;top:0;border:none !important;\" allowfullscreen webkitallowfullscreen mozallowfullscreen></iframe></div></div>"
      ],
      "text/plain": [
       "<folium.folium.Map at 0x10e50cda0>"
      ]
     },
     "metadata": {},
     "output_type": "display_data"
    }
   ],
   "source": [
    "# import the library\n",
    "import folium\n",
    "import pandas as pd\n",
    "\n",
    "# Make an empty map\n",
    "# 37.76, -122.45 is the initital location of SF, USA\n",
    "m = folium.Map(location=[38.575764, -121.478851], tiles=\"Mapbox Bright\", zoom_start=10)\n",
    "\n",
    "# I can add circle/marker one by one on the map\n",
    "for i in range(0, len(data.head(1000))):\n",
    "    folium.Marker(\n",
    "        location=[data.iloc[i]['latitude'], data.iloc[i]['longitude']]\n",
    "    ).add_to(m)\n",
    "    \n",
    "display(m)"
   ]
  },
  {
   "cell_type": "markdown",
   "metadata": {},
   "source": [
    "### 2. Predict Price"
   ]
  },
  {
   "cell_type": "markdown",
   "metadata": {},
   "source": [
    "We are going to predict `price` from available information."
   ]
  },
  {
   "cell_type": "markdown",
   "metadata": {},
   "source": [
    "#### 2.1 What is the Target Variable? Why?"
   ]
  },
  {
   "cell_type": "code",
   "execution_count": 20,
   "metadata": {},
   "outputs": [],
   "source": [
    "# ANSWER\n",
    "\n",
    "## Price is target varaible. Based on other predictor variables we'll predict price."
   ]
  },
  {
   "cell_type": "markdown",
   "metadata": {},
   "source": [
    "#### 2.2 List all possible variables which might be Predictor variable."
   ]
  },
  {
   "cell_type": "code",
   "execution_count": 21,
   "metadata": {},
   "outputs": [],
   "source": [
    "# ANSWER\n",
    "\n",
    "## beds\n",
    "## baths\n",
    "## sqft\n",
    "## Type"
   ]
  },
  {
   "cell_type": "code",
   "execution_count": 22,
   "metadata": {},
   "outputs": [],
   "source": [
    "# Target Variable\n",
    "Y = data['price']"
   ]
  },
  {
   "cell_type": "code",
   "execution_count": 23,
   "metadata": {},
   "outputs": [],
   "source": [
    "# Predictor Variable\n",
    "X = data['beds']"
   ]
  },
  {
   "cell_type": "code",
   "execution_count": 24,
   "metadata": {},
   "outputs": [],
   "source": [
    "def draw_scatter_plot(X, Y):\n",
    "    ### Plot the data\n",
    "    # create a figure\n",
    "    fig = plt.figure(figsize=(15,7))\n",
    "    # get the axis of that figure\n",
    "    ax = plt.gca()\n",
    "\n",
    "    # plot a scatter plot on it with our data\n",
    "    ax.scatter(X, Y, c='b')\n",
    "\n",
    "    plt.show();"
   ]
  },
  {
   "cell_type": "code",
   "execution_count": 25,
   "metadata": {},
   "outputs": [
    {
     "data": {
      "image/png": "[encoded data removed]",
      "text/plain": [
       "<Figure size 1080x504 with 1 Axes>"
      ]
     },
     "metadata": {
      "needs_background": "light"
     },
     "output_type": "display_data"
    }
   ],
   "source": [
    "# beds\n",
    "draw_scatter_plot(data['beds'], data['price'])"
   ]
  },
  {
   "cell_type": "code",
   "execution_count": 26,
   "metadata": {},
   "outputs": [
    {
     "data": {
      "image/png": "[encoded data removed]",
      "text/plain": [
       "<Figure size 1080x504 with 1 Axes>"
      ]
     },
     "metadata": {
      "needs_background": "light"
     },
     "output_type": "display_data"
    }
   ],
   "source": [
    "# beds\n",
    "draw_scatter_plot(data['baths'], data['price'])"
   ]
  },
  {
   "cell_type": "code",
   "execution_count": 27,
   "metadata": {},
   "outputs": [
    {
     "data": {
      "image/png": "[encoded data removed]",
      "text/plain": [
       "<Figure size 1080x504 with 1 Axes>"
      ]
     },
     "metadata": {
      "needs_background": "light"
     },
     "output_type": "display_data"
    }
   ],
   "source": [
    "# beds\n",
    "draw_scatter_plot(data['sq__ft'], data['price'])"
   ]
  },
  {
   "cell_type": "markdown",
   "metadata": {},
   "source": [
    "#### 2.2 Find correlation between variables\n",
    "\n",
    "Find correlation between variables. Which is the best predictor? Why? State your reason."
   ]
  },
  {
   "cell_type": "code",
   "execution_count": 28,
   "metadata": {},
   "outputs": [
    {
     "data": {
      "text/html": [
       "<div>\n",
       "<style scoped>\n",
       "    .dataframe tbody tr th:only-of-type {\n",
       "        vertical-align: middle;\n",
       "    }\n",
       "\n",
       "    .dataframe tbody tr th {\n",
       "        vertical-align: top;\n",
       "    }\n",
       "\n",
       "    .dataframe thead th {\n",
       "        text-align: right;\n",
       "    }\n",
       "</style>\n",
       "<table border=\"1\" class=\"dataframe\">\n",
       "  <thead>\n",
       "    <tr style=\"text-align: right;\">\n",
       "      <th></th>\n",
       "      <th>beds</th>\n",
       "      <th>baths</th>\n",
       "      <th>sq__ft</th>\n",
       "      <th>price</th>\n",
       "      <th>latitude</th>\n",
       "      <th>longitude</th>\n",
       "    </tr>\n",
       "  </thead>\n",
       "  <tbody>\n",
       "    <tr>\n",
       "      <th>beds</th>\n",
       "      <td>1.000000</td>\n",
       "      <td>0.839650</td>\n",
       "      <td>0.684041</td>\n",
       "      <td>0.342024</td>\n",
       "      <td>-0.291307</td>\n",
       "      <td>-0.053993</td>\n",
       "    </tr>\n",
       "    <tr>\n",
       "      <th>baths</th>\n",
       "      <td>0.839650</td>\n",
       "      <td>1.000000</td>\n",
       "      <td>0.665690</td>\n",
       "      <td>0.416208</td>\n",
       "      <td>-0.235792</td>\n",
       "      <td>0.016582</td>\n",
       "    </tr>\n",
       "    <tr>\n",
       "      <th>sq__ft</th>\n",
       "      <td>0.684041</td>\n",
       "      <td>0.665690</td>\n",
       "      <td>1.000000</td>\n",
       "      <td>0.333897</td>\n",
       "      <td>-0.383274</td>\n",
       "      <td>-0.177742</td>\n",
       "    </tr>\n",
       "    <tr>\n",
       "      <th>price</th>\n",
       "      <td>0.342024</td>\n",
       "      <td>0.416208</td>\n",
       "      <td>0.333897</td>\n",
       "      <td>1.000000</td>\n",
       "      <td>-0.039573</td>\n",
       "      <td>0.284485</td>\n",
       "    </tr>\n",
       "    <tr>\n",
       "      <th>latitude</th>\n",
       "      <td>-0.291307</td>\n",
       "      <td>-0.235792</td>\n",
       "      <td>-0.383274</td>\n",
       "      <td>-0.039573</td>\n",
       "      <td>1.000000</td>\n",
       "      <td>0.387925</td>\n",
       "    </tr>\n",
       "    <tr>\n",
       "      <th>longitude</th>\n",
       "      <td>-0.053993</td>\n",
       "      <td>0.016582</td>\n",
       "      <td>-0.177742</td>\n",
       "      <td>0.284485</td>\n",
       "      <td>0.387925</td>\n",
       "      <td>1.000000</td>\n",
       "    </tr>\n",
       "  </tbody>\n",
       "</table>\n",
       "</div>"
      ],
      "text/plain": [
       "               beds     baths    sq__ft     price  latitude  longitude\n",
       "beds       1.000000  0.839650  0.684041  0.342024 -0.291307  -0.053993\n",
       "baths      0.839650  1.000000  0.665690  0.416208 -0.235792   0.016582\n",
       "sq__ft     0.684041  0.665690  1.000000  0.333897 -0.383274  -0.177742\n",
       "price      0.342024  0.416208  0.333897  1.000000 -0.039573   0.284485\n",
       "latitude  -0.291307 -0.235792 -0.383274 -0.039573  1.000000   0.387925\n",
       "longitude -0.053993  0.016582 -0.177742  0.284485  0.387925   1.000000"
      ]
     },
     "execution_count": 28,
     "metadata": {},
     "output_type": "execute_result"
    }
   ],
   "source": [
    "# ANSWER\n",
    "data.corr()"
   ]
  },
  {
   "cell_type": "code",
   "execution_count": 29,
   "metadata": {},
   "outputs": [],
   "source": [
    "### sq_ft is the best predictor.\n",
    "### sqft got stong relationship with beds, baths"
   ]
  },
  {
   "cell_type": "markdown",
   "metadata": {},
   "source": [
    "#### 2.3 What is the simplest way to predict price\n",
    "\n",
    "So we have information for 985 houses. What is the easiest way to predict price of a house?"
   ]
  },
  {
   "cell_type": "code",
   "execution_count": 30,
   "metadata": {},
   "outputs": [],
   "source": [
    "# ANSWER\n",
    "## Mean of Price\n",
    "data['y_hat'] = data['price'].mean()"
   ]
  },
  {
   "cell_type": "code",
   "execution_count": 31,
   "metadata": {},
   "outputs": [
    {
     "data": {
      "text/html": [
       "<div>\n",
       "<style scoped>\n",
       "    .dataframe tbody tr th:only-of-type {\n",
       "        vertical-align: middle;\n",
       "    }\n",
       "\n",
       "    .dataframe tbody tr th {\n",
       "        vertical-align: top;\n",
       "    }\n",
       "\n",
       "    .dataframe thead th {\n",
       "        text-align: right;\n",
       "    }\n",
       "</style>\n",
       "<table border=\"1\" class=\"dataframe\">\n",
       "  <thead>\n",
       "    <tr style=\"text-align: right;\">\n",
       "      <th></th>\n",
       "      <th>street</th>\n",
       "      <th>city</th>\n",
       "      <th>zip</th>\n",
       "      <th>state</th>\n",
       "      <th>beds</th>\n",
       "      <th>baths</th>\n",
       "      <th>sq__ft</th>\n",
       "      <th>type</th>\n",
       "      <th>sale_date</th>\n",
       "      <th>price</th>\n",
       "      <th>latitude</th>\n",
       "      <th>longitude</th>\n",
       "      <th>y_hat</th>\n",
       "    </tr>\n",
       "  </thead>\n",
       "  <tbody>\n",
       "    <tr>\n",
       "      <th>0</th>\n",
       "      <td>3526 HIGH ST</td>\n",
       "      <td>SACRAMENTO</td>\n",
       "      <td>95838</td>\n",
       "      <td>CA</td>\n",
       "      <td>2</td>\n",
       "      <td>1</td>\n",
       "      <td>836</td>\n",
       "      <td>Residential</td>\n",
       "      <td>Wed May 21 00:00:00 EDT 2008</td>\n",
       "      <td>59222</td>\n",
       "      <td>38.631913</td>\n",
       "      <td>-121.434879</td>\n",
       "      <td>234144.263959</td>\n",
       "    </tr>\n",
       "    <tr>\n",
       "      <th>1</th>\n",
       "      <td>51 OMAHA CT</td>\n",
       "      <td>SACRAMENTO</td>\n",
       "      <td>95823</td>\n",
       "      <td>CA</td>\n",
       "      <td>3</td>\n",
       "      <td>1</td>\n",
       "      <td>1167</td>\n",
       "      <td>Residential</td>\n",
       "      <td>Wed May 21 00:00:00 EDT 2008</td>\n",
       "      <td>68212</td>\n",
       "      <td>38.478902</td>\n",
       "      <td>-121.431028</td>\n",
       "      <td>234144.263959</td>\n",
       "    </tr>\n",
       "    <tr>\n",
       "      <th>2</th>\n",
       "      <td>2796 BRANCH ST</td>\n",
       "      <td>SACRAMENTO</td>\n",
       "      <td>95815</td>\n",
       "      <td>CA</td>\n",
       "      <td>2</td>\n",
       "      <td>1</td>\n",
       "      <td>796</td>\n",
       "      <td>Residential</td>\n",
       "      <td>Wed May 21 00:00:00 EDT 2008</td>\n",
       "      <td>68880</td>\n",
       "      <td>38.618305</td>\n",
       "      <td>-121.443839</td>\n",
       "      <td>234144.263959</td>\n",
       "    </tr>\n",
       "    <tr>\n",
       "      <th>3</th>\n",
       "      <td>2805 JANETTE WAY</td>\n",
       "      <td>SACRAMENTO</td>\n",
       "      <td>95815</td>\n",
       "      <td>CA</td>\n",
       "      <td>2</td>\n",
       "      <td>1</td>\n",
       "      <td>852</td>\n",
       "      <td>Residential</td>\n",
       "      <td>Wed May 21 00:00:00 EDT 2008</td>\n",
       "      <td>69307</td>\n",
       "      <td>38.616835</td>\n",
       "      <td>-121.439146</td>\n",
       "      <td>234144.263959</td>\n",
       "    </tr>\n",
       "    <tr>\n",
       "      <th>4</th>\n",
       "      <td>6001 MCMAHON DR</td>\n",
       "      <td>SACRAMENTO</td>\n",
       "      <td>95824</td>\n",
       "      <td>CA</td>\n",
       "      <td>2</td>\n",
       "      <td>1</td>\n",
       "      <td>797</td>\n",
       "      <td>Residential</td>\n",
       "      <td>Wed May 21 00:00:00 EDT 2008</td>\n",
       "      <td>81900</td>\n",
       "      <td>38.519470</td>\n",
       "      <td>-121.435768</td>\n",
       "      <td>234144.263959</td>\n",
       "    </tr>\n",
       "  </tbody>\n",
       "</table>\n",
       "</div>"
      ],
      "text/plain": [
       "             street        city    zip state  beds  baths  sq__ft  \\\n",
       "0      3526 HIGH ST  SACRAMENTO  95838    CA     2      1     836   \n",
       "1       51 OMAHA CT  SACRAMENTO  95823    CA     3      1    1167   \n",
       "2    2796 BRANCH ST  SACRAMENTO  95815    CA     2      1     796   \n",
       "3  2805 JANETTE WAY  SACRAMENTO  95815    CA     2      1     852   \n",
       "4   6001 MCMAHON DR  SACRAMENTO  95824    CA     2      1     797   \n",
       "\n",
       "          type                     sale_date  price   latitude   longitude  \\\n",
       "0  Residential  Wed May 21 00:00:00 EDT 2008  59222  38.631913 -121.434879   \n",
       "1  Residential  Wed May 21 00:00:00 EDT 2008  68212  38.478902 -121.431028   \n",
       "2  Residential  Wed May 21 00:00:00 EDT 2008  68880  38.618305 -121.443839   \n",
       "3  Residential  Wed May 21 00:00:00 EDT 2008  69307  38.616835 -121.439146   \n",
       "4  Residential  Wed May 21 00:00:00 EDT 2008  81900  38.519470 -121.435768   \n",
       "\n",
       "           y_hat  \n",
       "0  234144.263959  \n",
       "1  234144.263959  \n",
       "2  234144.263959  \n",
       "3  234144.263959  \n",
       "4  234144.263959  "
      ]
     },
     "execution_count": 31,
     "metadata": {},
     "output_type": "execute_result"
    }
   ],
   "source": [
    "data.head()"
   ]
  },
  {
   "cell_type": "code",
   "execution_count": null,
   "metadata": {},
   "outputs": [],
   "source": []
  },
  {
   "cell_type": "code",
   "execution_count": 53,
   "metadata": {},
   "outputs": [
    {
     "data": {
      "text/plain": [
       "0      234144.263959\n",
       "1      234144.263959\n",
       "2      234144.263959\n",
       "3      234144.263959\n",
       "4      234144.263959\n",
       "5      234144.263959\n",
       "6      234144.263959\n",
       "7      234144.263959\n",
       "8      234144.263959\n",
       "9      234144.263959\n",
       "10     234144.263959\n",
       "11     234144.263959\n",
       "12     234144.263959\n",
       "13     234144.263959\n",
       "14     234144.263959\n",
       "15     234144.263959\n",
       "16     234144.263959\n",
       "17     234144.263959\n",
       "18     234144.263959\n",
       "19     234144.263959\n",
       "20     234144.263959\n",
       "21     234144.263959\n",
       "22     234144.263959\n",
       "23     234144.263959\n",
       "24     234144.263959\n",
       "25     234144.263959\n",
       "26     234144.263959\n",
       "27     234144.263959\n",
       "28     234144.263959\n",
       "29     234144.263959\n",
       "           ...      \n",
       "955    234144.263959\n",
       "956    234144.263959\n",
       "957    234144.263959\n",
       "958    234144.263959\n",
       "959    234144.263959\n",
       "960    234144.263959\n",
       "961    234144.263959\n",
       "962    234144.263959\n",
       "963    234144.263959\n",
       "964    234144.263959\n",
       "965    234144.263959\n",
       "966    234144.263959\n",
       "967    234144.263959\n",
       "968    234144.263959\n",
       "969    234144.263959\n",
       "970    234144.263959\n",
       "971    234144.263959\n",
       "972    234144.263959\n",
       "973    234144.263959\n",
       "974    234144.263959\n",
       "975    234144.263959\n",
       "976    234144.263959\n",
       "977    234144.263959\n",
       "978    234144.263959\n",
       "979    234144.263959\n",
       "980    234144.263959\n",
       "981    234144.263959\n",
       "982    234144.263959\n",
       "983    234144.263959\n",
       "984    234144.263959\n",
       "Name: y_hat, Length: 985, dtype: float64"
      ]
     },
     "execution_count": 53,
     "metadata": {},
     "output_type": "execute_result"
    }
   ],
   "source": [
    "X = data['sq__ft']\n",
    "Y = data['price']\n",
    "Yhat = data['y_hat']\n",
    "\n",
    "Yhat"
   ]
  },
  {
   "cell_type": "code",
   "execution_count": 33,
   "metadata": {},
   "outputs": [],
   "source": [
    "def draw_plot(X, Y, Yhat):\n",
    "    ### Plot the data\n",
    "    # create a figure\n",
    "    fig = plt.figure(figsize=(15,7))\n",
    "    # get the axis of that figure\n",
    "    ax = plt.gca()\n",
    "\n",
    "    # plot a scatter plot on it with our data\n",
    "    ax.scatter(X, Y, c='b')\n",
    "    ax.plot(X, Yhat, color='r');\n",
    "\n",
    "    plt.show();"
   ]
  },
  {
   "cell_type": "code",
   "execution_count": 34,
   "metadata": {},
   "outputs": [
    {
     "data": {
      "image/png": "[encoded data removed]",
      "text/plain": [
       "<Figure size 1080x504 with 1 Axes>"
      ]
     },
     "metadata": {
      "needs_background": "light"
     },
     "output_type": "display_data"
    }
   ],
   "source": [
    "draw_plot(X, Y, Yhat)"
   ]
  },
  {
   "cell_type": "markdown",
   "metadata": {},
   "source": [
    "#### 2. 4 Find Resudals\n",
    "\n",
    "Find difference between actual value and predicted value. Use absolute value."
   ]
  },
  {
   "cell_type": "code",
   "execution_count": 35,
   "metadata": {},
   "outputs": [
    {
     "data": {
      "text/plain": [
       "103452.16956891476"
      ]
     },
     "execution_count": 35,
     "metadata": {},
     "output_type": "execute_result"
    }
   ],
   "source": [
    "# ANSWER\n",
    "res = abs(data['price'] - data['y_hat']).mean()\n",
    "res"
   ]
  },
  {
   "cell_type": "markdown",
   "metadata": {},
   "source": [
    "#### 2.5  Predict Using Linear Regression\n",
    "\n",
    "[Simple Linear Regression](https://en.wikipedia.org/wiki/Simple_linear_regression#Fitting_the_regression_line)\n",
    "\n",
    "### $$\\hat{y} = \\beta_0 + \\beta_1 x$$\n",
    "\n",
    "> ### $$ \\beta_1 = \\frac{\\sum_{i=1}^n (y_i - \\bar{y} ) (x_i - \\bar{x} )}{\\sum_{i=1}^n (x_i - \\bar{x})^2} $$\n",
    "\n",
    "and\n",
    "\n",
    "> ### $$ \\beta_0 = \\bar{y} - \\beta_1\\bar{x} $$\n",
    "\n",
    "Given variables:\n",
    "- $\\bar{y}$ : the sample mean of observed values $Y$\n",
    "- $\\bar{x}$ : the sample mean of observed values $X$\n",
    "- $s_Y$ : the sample standard deviation of observed values $Y$\n",
    "- $s_X$ : the sample standard deviation of observed values $X$\n",
    "- $r_{XY}$ : the sample Pearson correlation coefficient between observed $X$ and $Y$"
   ]
  },
  {
   "cell_type": "markdown",
   "metadata": {},
   "source": [
    "##### 2.5 Define X, Y\n",
    "\n",
    "- X = Predictor Variable \n",
    "- Y = Target Variable"
   ]
  },
  {
   "cell_type": "code",
   "execution_count": 36,
   "metadata": {},
   "outputs": [],
   "source": [
    "X = data['sq__ft']\n",
    "Y = data['price']"
   ]
  },
  {
   "cell_type": "markdown",
   "metadata": {},
   "source": [
    "##### 2.5.A Calculate beta_1\n",
    "\n",
    " ### $$ \\beta_1 = \\frac{\\sum_{i=1}^n (y_i - \\bar{y} ) (x_i - \\bar{x} )}{\\sum_{i=1}^n (x_i - \\bar{x})^2} $$"
   ]
  },
  {
   "cell_type": "code",
   "execution_count": 37,
   "metadata": {},
   "outputs": [],
   "source": [
    "# ANSWER\n",
    "def calculate_beta_1(X, Y):\n",
    "    Xbar = X.mean()\n",
    "    Ybar = Y.mean()\n",
    "    \n",
    "    n = np.sum((Y - Ybar) * (X - Xbar)) \n",
    "    d = np.sum(np.square(X - Xbar)) \n",
    "    \n",
    "    beta_1 = n/d\n",
    "    \n",
    "    return beta_1"
   ]
  },
  {
   "cell_type": "code",
   "execution_count": 38,
   "metadata": {},
   "outputs": [
    {
     "data": {
      "text/plain": [
       "54.158639688530755"
      ]
     },
     "execution_count": 38,
     "metadata": {},
     "output_type": "execute_result"
    }
   ],
   "source": [
    "beta_1 = calculate_beta_1(X, Y)\n",
    "beta_1"
   ]
  },
  {
   "cell_type": "markdown",
   "metadata": {},
   "source": [
    "##### 2.5.B Calculate beta_0"
   ]
  },
  {
   "cell_type": "markdown",
   "metadata": {},
   "source": [
    "### $$ \\beta_0 = \\bar{y} - \\beta_1\\bar{x} $$"
   ]
  },
  {
   "cell_type": "code",
   "execution_count": 39,
   "metadata": {},
   "outputs": [],
   "source": [
    "# ANSWER\n",
    "def calculate_beta_0(X, Y):\n",
    "    \n",
    "    Xbar = X.mean()\n",
    "    Ybar = Y.mean()\n",
    "    \n",
    "    beta_0 = Ybar - calculate_beta_1(X, Y) * Xbar\n",
    "    \n",
    "    return beta_0"
   ]
  },
  {
   "cell_type": "code",
   "execution_count": 40,
   "metadata": {},
   "outputs": [
    {
     "data": {
      "text/plain": [
       "162930.16140699777"
      ]
     },
     "execution_count": 40,
     "metadata": {},
     "output_type": "execute_result"
    }
   ],
   "source": [
    "beta_0 = calculate_beta_0(X, Y)\n",
    "beta_0"
   ]
  },
  {
   "cell_type": "markdown",
   "metadata": {},
   "source": [
    "##### 2.4.C Find Yhat (Predicted Value Using Beta 0 and Beta 1)"
   ]
  },
  {
   "cell_type": "markdown",
   "metadata": {},
   "source": [
    "### $$\\hat{y} = \\beta_0 + \\beta_1 x$$"
   ]
  },
  {
   "cell_type": "code",
   "execution_count": 41,
   "metadata": {},
   "outputs": [],
   "source": [
    "# ANSWER\n",
    "def calculate_yhat(x, b0, b1):\n",
    "    return b0 + b1 * x"
   ]
  },
  {
   "cell_type": "code",
   "execution_count": 42,
   "metadata": {},
   "outputs": [
    {
     "data": {
      "text/plain": [
       "0      208206.784187\n",
       "1      226133.293924\n",
       "2      206040.438599\n",
       "3      209073.322422\n",
       "4      206094.597239\n",
       "5      223696.155138\n",
       "6      222721.299623\n",
       "7      226674.880320\n",
       "8      213893.441354\n",
       "9      224995.962490\n",
       "10     212160.364884\n",
       "11     232740.647966\n",
       "12     210102.336576\n",
       "13     218171.973889\n",
       "14     218280.291169\n",
       "15     224346.058814\n",
       "16     208640.053304\n",
       "17     205986.279959\n",
       "18     194775.441544\n",
       "19     236369.276825\n",
       "20     223479.520579\n",
       "21     234906.993553\n",
       "22     230086.874621\n",
       "23     249638.143548\n",
       "24     211727.095766\n",
       "25     221854.761388\n",
       "26     215084.931427\n",
       "27     223533.679218\n",
       "28     237669.084177\n",
       "29     230520.143738\n",
       "           ...      \n",
       "955    237181.656420\n",
       "956    233877.979399\n",
       "957    231278.364694\n",
       "958    257166.194465\n",
       "959    245088.817814\n",
       "960    241460.188955\n",
       "961    239618.795206\n",
       "962    211023.033450\n",
       "963    264856.721301\n",
       "964    233444.710281\n",
       "965    239727.112485\n",
       "966    162930.161407\n",
       "967    234365.407156\n",
       "968    258790.953656\n",
       "969    251046.268180\n",
       "970    162930.161407\n",
       "971    219255.146683\n",
       "972    214922.455508\n",
       "973    162930.161407\n",
       "974    241785.140793\n",
       "975    241460.188955\n",
       "976    236477.594104\n",
       "977    234906.993553\n",
       "978    255812.228473\n",
       "979    231278.364694\n",
       "980    286411.859897\n",
       "981    242922.472227\n",
       "982    228787.067268\n",
       "983    254187.469282\n",
       "984    236694.228663\n",
       "Name: sq__ft, Length: 985, dtype: float64"
      ]
     },
     "execution_count": 42,
     "metadata": {},
     "output_type": "execute_result"
    }
   ],
   "source": [
    "Yhat = calculate_yhat(X, beta_0, beta_1)\n",
    "Yhat"
   ]
  },
  {
   "cell_type": "markdown",
   "metadata": {},
   "source": [
    "##### 2.5.D Find Resudals"
   ]
  },
  {
   "cell_type": "markdown",
   "metadata": {},
   "source": [
    "### $$ \\text{residual}_i = y_i - \\hat{y}_i$$"
   ]
  },
  {
   "cell_type": "code",
   "execution_count": 43,
   "metadata": {},
   "outputs": [],
   "source": [
    "def calculate_residual(Y, Yhat):\n",
    "    res = Y - Yhat\n",
    "    return res"
   ]
  },
  {
   "cell_type": "code",
   "execution_count": 44,
   "metadata": {},
   "outputs": [
    {
     "data": {
      "text/plain": [
       "0      148984.784187\n",
       "1      157921.293924\n",
       "2      137160.438599\n",
       "3      139766.322422\n",
       "4      124194.597239\n",
       "5      133775.155138\n",
       "6      131826.299623\n",
       "7      135672.880320\n",
       "8      118988.441354\n",
       "9      126058.962490\n",
       "10     111851.364884\n",
       "11     126490.647966\n",
       "12     103250.336576\n",
       "13     110669.973889\n",
       "14     109530.291169\n",
       "15     113646.058814\n",
       "16      95377.053304\n",
       "17      89736.279959\n",
       "18      74775.441544\n",
       "19     114739.276825\n",
       "20     101479.520579\n",
       "21     112224.993553\n",
       "22     107086.874621\n",
       "23     125538.143548\n",
       "24      86727.095766\n",
       "25      95214.761388\n",
       "26      87803.931427\n",
       "27      94533.679218\n",
       "28     106469.084177\n",
       "29      98520.143738\n",
       "           ...      \n",
       "955     28931.656420\n",
       "956     25559.979399\n",
       "957     21931.364694\n",
       "958     45666.194465\n",
       "959     33088.817814\n",
       "960     28460.188955\n",
       "961     23618.795206\n",
       "962      4997.966550\n",
       "963     45856.721301\n",
       "964     13650.710281\n",
       "965     19727.112485\n",
       "966     57069.838593\n",
       "967     14365.407156\n",
       "968     38790.953656\n",
       "969     28046.268180\n",
       "970     61069.838593\n",
       "971      4744.853317\n",
       "972      9329.544492\n",
       "973     61569.838593\n",
       "974     16785.140793\n",
       "975     13460.188955\n",
       "976      7450.594104\n",
       "977      5406.993553\n",
       "978     25812.228473\n",
       "979      1278.364694\n",
       "980     53986.859897\n",
       "981      8922.472227\n",
       "982      6212.932732\n",
       "983     18886.469282\n",
       "984       956.228663\n",
       "Length: 985, dtype: float64"
      ]
     },
     "execution_count": 44,
     "metadata": {},
     "output_type": "execute_result"
    }
   ],
   "source": [
    "resi = calculate_residual(Y, Yhat)\n",
    "abs(resi)"
   ]
  },
  {
   "cell_type": "markdown",
   "metadata": {},
   "source": [
    "##### 2.5.D Find R-Square\n",
    "\n",
    "Write a function to calculate R- Square value."
   ]
  },
  {
   "cell_type": "markdown",
   "metadata": {},
   "source": [
    "The total sum of squares:\n",
    "\n",
    "### $$ SS_{tot} = \\sum_{i=1}^n \\left(y_i - \\bar{y}\\right)^2 $$\n",
    "\n",
    "The residual sum of squares:\n",
    "\n",
    "### $$ SS_{res} = \\sum_{i=1}^n \\left(y_i - \\hat{y}_i\\right)^2 $$\n",
    "\n",
    "$R^2$:\n",
    "\n",
    "### $$ R^2 = 1 - \\frac{SS_{res}}{SS_{tot}} $$"
   ]
  },
  {
   "cell_type": "code",
   "execution_count": 45,
   "metadata": {},
   "outputs": [],
   "source": [
    "def calculate_total_sum_of_square(Y):\n",
    "    Ybar = np.mean(Y)\n",
    "    SStot = np.square(Y - Ybar)\n",
    "    SStot = np.sum(SStot)\n",
    "    return SStot"
   ]
  },
  {
   "cell_type": "code",
   "execution_count": 46,
   "metadata": {},
   "outputs": [],
   "source": [
    "def calculate_residula_sum_of_square(Y, Yhat):\n",
    "    SSres = np.square(Y - Yhat)\n",
    "    SSres = np.sum(SSres)\n",
    "    return SSres"
   ]
  },
  {
   "cell_type": "code",
   "execution_count": 47,
   "metadata": {},
   "outputs": [],
   "source": [
    "def calculate_r_square(Y, Yhat):\n",
    "    SStot = calculate_total_sum_of_square(Y)\n",
    "    SSres = calculate_residula_sum_of_square(Y, Yhat)\n",
    "    Rsquare = 1 - (SSres/SStot)\n",
    "    return Rsquare"
   ]
  },
  {
   "cell_type": "code",
   "execution_count": 48,
   "metadata": {},
   "outputs": [
    {
     "data": {
      "text/plain": [
       "0.0"
      ]
     },
     "execution_count": 48,
     "metadata": {},
     "output_type": "execute_result"
    }
   ],
   "source": [
    "calculate_r_square(Y, np.mean(Y))"
   ]
  },
  {
   "cell_type": "code",
   "execution_count": 49,
   "metadata": {},
   "outputs": [
    {
     "data": {
      "text/plain": [
       "0.11148717682951459"
      ]
     },
     "execution_count": 49,
     "metadata": {},
     "output_type": "execute_result"
    }
   ],
   "source": [
    "calculate_r_square(Y, calculate_yhat(X, beta_0, beta_1))"
   ]
  },
  {
   "cell_type": "markdown",
   "metadata": {},
   "source": [
    "##### 2.5.G [BONUS] Draw Plot of Predicted Line"
   ]
  },
  {
   "cell_type": "code",
   "execution_count": 50,
   "metadata": {},
   "outputs": [
    {
     "data": {
      "image/png": "[encoded data removed]",
      "text/plain": [
       "<Figure size 1080x504 with 1 Axes>"
      ]
     },
     "metadata": {
      "needs_background": "light"
     },
     "output_type": "display_data"
    }
   ],
   "source": [
    "draw_plot(X, Y, Yhat)"
   ]
  },
  {
   "cell_type": "markdown",
   "metadata": {},
   "source": [
    "##### 2.5.G [BONUS] Draw Plot of Predicted Line With Resudals"
   ]
  },
  {
   "cell_type": "code",
   "execution_count": 51,
   "metadata": {},
   "outputs": [],
   "source": [
    "data['Yhat'] = Yhat"
   ]
  },
  {
   "cell_type": "code",
   "execution_count": 52,
   "metadata": {},
   "outputs": [
    {
     "data": {
      "text/html": [
       "<div>\n",
       "<style scoped>\n",
       "    .dataframe tbody tr th:only-of-type {\n",
       "        vertical-align: middle;\n",
       "    }\n",
       "\n",
       "    .dataframe tbody tr th {\n",
       "        vertical-align: top;\n",
       "    }\n",
       "\n",
       "    .dataframe thead th {\n",
       "        text-align: right;\n",
       "    }\n",
       "</style>\n",
       "<table border=\"1\" class=\"dataframe\">\n",
       "  <thead>\n",
       "    <tr style=\"text-align: right;\">\n",
       "      <th></th>\n",
       "      <th>street</th>\n",
       "      <th>city</th>\n",
       "      <th>zip</th>\n",
       "      <th>state</th>\n",
       "      <th>beds</th>\n",
       "      <th>baths</th>\n",
       "      <th>sq__ft</th>\n",
       "      <th>type</th>\n",
       "      <th>sale_date</th>\n",
       "      <th>price</th>\n",
       "      <th>latitude</th>\n",
       "      <th>longitude</th>\n",
       "      <th>y_hat</th>\n",
       "      <th>Yhat</th>\n",
       "    </tr>\n",
       "  </thead>\n",
       "  <tbody>\n",
       "    <tr>\n",
       "      <th>0</th>\n",
       "      <td>3526 HIGH ST</td>\n",
       "      <td>SACRAMENTO</td>\n",
       "      <td>95838</td>\n",
       "      <td>CA</td>\n",
       "      <td>2</td>\n",
       "      <td>1</td>\n",
       "      <td>836</td>\n",
       "      <td>Residential</td>\n",
       "      <td>Wed May 21 00:00:00 EDT 2008</td>\n",
       "      <td>59222</td>\n",
       "      <td>38.631913</td>\n",
       "      <td>-121.434879</td>\n",
       "      <td>234144.263959</td>\n",
       "      <td>208206.784187</td>\n",
       "    </tr>\n",
       "    <tr>\n",
       "      <th>1</th>\n",
       "      <td>51 OMAHA CT</td>\n",
       "      <td>SACRAMENTO</td>\n",
       "      <td>95823</td>\n",
       "      <td>CA</td>\n",
       "      <td>3</td>\n",
       "      <td>1</td>\n",
       "      <td>1167</td>\n",
       "      <td>Residential</td>\n",
       "      <td>Wed May 21 00:00:00 EDT 2008</td>\n",
       "      <td>68212</td>\n",
       "      <td>38.478902</td>\n",
       "      <td>-121.431028</td>\n",
       "      <td>234144.263959</td>\n",
       "      <td>226133.293924</td>\n",
       "    </tr>\n",
       "    <tr>\n",
       "      <th>2</th>\n",
       "      <td>2796 BRANCH ST</td>\n",
       "      <td>SACRAMENTO</td>\n",
       "      <td>95815</td>\n",
       "      <td>CA</td>\n",
       "      <td>2</td>\n",
       "      <td>1</td>\n",
       "      <td>796</td>\n",
       "      <td>Residential</td>\n",
       "      <td>Wed May 21 00:00:00 EDT 2008</td>\n",
       "      <td>68880</td>\n",
       "      <td>38.618305</td>\n",
       "      <td>-121.443839</td>\n",
       "      <td>234144.263959</td>\n",
       "      <td>206040.438599</td>\n",
       "    </tr>\n",
       "    <tr>\n",
       "      <th>3</th>\n",
       "      <td>2805 JANETTE WAY</td>\n",
       "      <td>SACRAMENTO</td>\n",
       "      <td>95815</td>\n",
       "      <td>CA</td>\n",
       "      <td>2</td>\n",
       "      <td>1</td>\n",
       "      <td>852</td>\n",
       "      <td>Residential</td>\n",
       "      <td>Wed May 21 00:00:00 EDT 2008</td>\n",
       "      <td>69307</td>\n",
       "      <td>38.616835</td>\n",
       "      <td>-121.439146</td>\n",
       "      <td>234144.263959</td>\n",
       "      <td>209073.322422</td>\n",
       "    </tr>\n",
       "    <tr>\n",
       "      <th>4</th>\n",
       "      <td>6001 MCMAHON DR</td>\n",
       "      <td>SACRAMENTO</td>\n",
       "      <td>95824</td>\n",
       "      <td>CA</td>\n",
       "      <td>2</td>\n",
       "      <td>1</td>\n",
       "      <td>797</td>\n",
       "      <td>Residential</td>\n",
       "      <td>Wed May 21 00:00:00 EDT 2008</td>\n",
       "      <td>81900</td>\n",
       "      <td>38.519470</td>\n",
       "      <td>-121.435768</td>\n",
       "      <td>234144.263959</td>\n",
       "      <td>206094.597239</td>\n",
       "    </tr>\n",
       "  </tbody>\n",
       "</table>\n",
       "</div>"
      ],
      "text/plain": [
       "             street        city    zip state  beds  baths  sq__ft  \\\n",
       "0      3526 HIGH ST  SACRAMENTO  95838    CA     2      1     836   \n",
       "1       51 OMAHA CT  SACRAMENTO  95823    CA     3      1    1167   \n",
       "2    2796 BRANCH ST  SACRAMENTO  95815    CA     2      1     796   \n",
       "3  2805 JANETTE WAY  SACRAMENTO  95815    CA     2      1     852   \n",
       "4   6001 MCMAHON DR  SACRAMENTO  95824    CA     2      1     797   \n",
       "\n",
       "          type                     sale_date  price   latitude   longitude  \\\n",
       "0  Residential  Wed May 21 00:00:00 EDT 2008  59222  38.631913 -121.434879   \n",
       "1  Residential  Wed May 21 00:00:00 EDT 2008  68212  38.478902 -121.431028   \n",
       "2  Residential  Wed May 21 00:00:00 EDT 2008  68880  38.618305 -121.443839   \n",
       "3  Residential  Wed May 21 00:00:00 EDT 2008  69307  38.616835 -121.439146   \n",
       "4  Residential  Wed May 21 00:00:00 EDT 2008  81900  38.519470 -121.435768   \n",
       "\n",
       "           y_hat           Yhat  \n",
       "0  234144.263959  208206.784187  \n",
       "1  234144.263959  226133.293924  \n",
       "2  234144.263959  206040.438599  \n",
       "3  234144.263959  209073.322422  \n",
       "4  234144.263959  206094.597239  "
      ]
     },
     "execution_count": 52,
     "metadata": {},
     "output_type": "execute_result"
    }
   ],
   "source": [
    "data.head()"
   ]
  },
  {
   "cell_type": "code",
   "execution_count": null,
   "metadata": {},
   "outputs": [],
   "source": []
  },
  {
   "cell_type": "code",
   "execution_count": 49,
   "metadata": {},
   "outputs": [
    {
     "data": {
      "image/png": "[encoded data removed]",
      "text/plain": [
       "<matplotlib.figure.Figure at 0x21570270da0>"
      ]
     },
     "metadata": {
      "needs_background": "light"
     },
     "output_type": "display_data"
    }
   ],
   "source": [
    "# create a figure\n",
    "fig = plt.figure(figsize=(15,7))\n",
    "fig.set_figheight(8)\n",
    "fig.set_figwidth(15)\n",
    "\n",
    "# get the axis\n",
    "ax = fig.gca()\n",
    "\n",
    "# plot it\n",
    "ax.scatter(x=X, y=Y, c='b')\n",
    "ax.plot(X, Yhat, color='r');\n",
    "\n",
    "# iterate over predictions\n",
    "for _, row in data.iterrows():\n",
    "    plt.plot((row['sq__ft'], row['sq__ft']), (row['price'], row['Yhat']), 'g-')"
   ]
  },
  {
   "cell_type": "markdown",
   "metadata": {},
   "source": [
    "### 3. Predict House Price\n",
    "\n",
    "Let's assume we have information of following house:\n",
    "\n",
    "- street:\t1140 EDMONTON DR\n",
    "- city:\tSACRAMENTO\n",
    "- zip:\t95833\n",
    "- state:\tCA\n",
    "- beds:\t3\n",
    "- baths:\t2\n",
    "- sq__ft:\t1204\n",
    "- type:\tResidential\n",
    "\n",
    "**Predict the price of this house.**"
   ]
  },
  {
   "cell_type": "code",
   "execution_count": 50,
   "metadata": {},
   "outputs": [
    {
     "data": {
      "text/plain": [
       "1204"
      ]
     },
     "execution_count": 50,
     "metadata": {},
     "output_type": "execute_result"
    }
   ],
   "source": [
    "# ANSWER\n",
    "xpred = 1204\n",
    "xpred"
   ]
  },
  {
   "cell_type": "code",
   "execution_count": 51,
   "metadata": {},
   "outputs": [
    {
     "data": {
      "text/plain": [
       "162930.16140699777"
      ]
     },
     "execution_count": 51,
     "metadata": {},
     "output_type": "execute_result"
    }
   ],
   "source": [
    "beta_0"
   ]
  },
  {
   "cell_type": "code",
   "execution_count": 52,
   "metadata": {},
   "outputs": [
    {
     "data": {
      "text/plain": [
       "54.158639688530755"
      ]
     },
     "execution_count": 52,
     "metadata": {},
     "output_type": "execute_result"
    }
   ],
   "source": [
    "beta_1"
   ]
  },
  {
   "cell_type": "code",
   "execution_count": 53,
   "metadata": {},
   "outputs": [
    {
     "data": {
      "text/plain": [
       "228137.1635919888"
      ]
     },
     "execution_count": 53,
     "metadata": {},
     "output_type": "execute_result"
    }
   ],
   "source": [
    "Ypred = beta_1 * xpred + beta_0\n",
    "Ypred"
   ]
  },
  {
   "cell_type": "markdown",
   "metadata": {},
   "source": [
    "#### 2.6 Find Coefficient and Intercept using Linear Regression\n",
    "\n",
    "Using LinearRegression of sklearn.linear_model package find Coefficient and Intercept."
   ]
  },
  {
   "cell_type": "code",
   "execution_count": 54,
   "metadata": {},
   "outputs": [],
   "source": [
    "from sklearn.linear_model import LinearRegression"
   ]
  },
  {
   "cell_type": "code",
   "execution_count": 66,
   "metadata": {},
   "outputs": [
    {
     "name": "stdout",
     "output_type": "stream",
     "text": [
      "[54.15863969] 162930.16140699777\n"
     ]
    }
   ],
   "source": [
    "# ANSWER\n",
    "\n",
    "X = data[['sq__ft']]\n",
    "Y = data['price']\n",
    "\n",
    "linreg = LinearRegression()\n",
    "linreg.fit(X, Y)\n",
    "\n",
    "print(linreg.coef_, linreg.intercept_)"
   ]
  },
  {
   "cell_type": "markdown",
   "metadata": {},
   "source": [
    "##### 2.6.2 Find R Score"
   ]
  },
  {
   "cell_type": "markdown",
   "metadata": {},
   "source": [
    "The coefficient R^2 is defined as (1 - u/v), where u is the residual sum of squares ((y_true - y_pred) ** 2).sum() and v is the total sum of squares ((y_true - y_true.mean()) ** 2).sum(). \n",
    "\n",
    "The best possible score is 1.0 and it can be negative (because the\n",
    "model can be arbitrarily worse)."
   ]
  },
  {
   "cell_type": "code",
   "execution_count": 67,
   "metadata": {},
   "outputs": [
    {
     "data": {
      "text/plain": [
       "0.11148717682951437"
      ]
     },
     "execution_count": 67,
     "metadata": {},
     "output_type": "execute_result"
    }
   ],
   "source": [
    "linreg.score(X, Y)"
   ]
  },
  {
   "cell_type": "markdown",
   "metadata": {},
   "source": [
    "### 3. Splitting Data"
   ]
  },
  {
   "cell_type": "code",
   "execution_count": 68,
   "metadata": {},
   "outputs": [],
   "source": [
    "from sklearn.model_selection import train_test_split"
   ]
  },
  {
   "cell_type": "markdown",
   "metadata": {},
   "source": [
    "#### 3.1 Create training and testing subsets\n",
    "\n",
    "Hint: Using `train_test_split` Library"
   ]
  },
  {
   "cell_type": "code",
   "execution_count": 69,
   "metadata": {},
   "outputs": [],
   "source": [
    "## Create training and testing subsets\n",
    "\n",
    "X_train, X_test, y_train, y_test = train_test_split(X, Y, test_size = 0.2)"
   ]
  },
  {
   "cell_type": "markdown",
   "metadata": {},
   "source": [
    "#### 3.2 Check Shape, Sample of Test Train Data"
   ]
  },
  {
   "cell_type": "code",
   "execution_count": 70,
   "metadata": {},
   "outputs": [
    {
     "name": "stdout",
     "output_type": "stream",
     "text": [
      "X_train is a <class 'pandas.core.frame.DataFrame'>\n",
      "X_train has %d rows (788, 1)\n",
      "\n",
      "Sample of X_train__________________________________________________\n",
      "     sq__ft\n",
      "27     1119\n",
      "358    1014\n",
      "22     1240\n",
      "245    1776\n",
      "631    1272\n",
      "849    3173\n",
      "190     994\n",
      "635    1890\n",
      "648    2475\n",
      "430    1856\n",
      "\n",
      "y_train is a <class 'pandas.core.series.Series'>\n",
      "y_train has %d rows (788,)\n",
      "\n",
      "Sample of y_train__________________________________________________\n",
      "27     129000\n",
      "358    113000\n",
      "22     123000\n",
      "245    234000\n",
      "631    124413\n",
      "849    525000\n",
      "190    142500\n",
      "635    137721\n",
      "648    159900\n",
      "430    215000\n",
      "Name: price, dtype: int64\n"
     ]
    }
   ],
   "source": [
    "## Check training/test data\n",
    "\n",
    "# About training\n",
    "print('X_train is a %s' % type(X_train))\n",
    "print('X_train has %d rows', X_train.shape)\n",
    "print('')\n",
    "print('Sample of X_train%s' % ('_'*50))\n",
    "print(X_train[:10])\n",
    "\n",
    "print('')\n",
    "print('y_train is a %s' % type(y_train))\n",
    "print('y_train has %d rows', y_train.shape)\n",
    "print('')\n",
    "print('Sample of y_train%s' % ('_'*50))\n",
    "print(y_train[:10])"
   ]
  },
  {
   "cell_type": "code",
   "execution_count": 60,
   "metadata": {},
   "outputs": [
    {
     "name": "stdout",
     "output_type": "stream",
     "text": [
      "X_train is a <class 'numpy.ndarray'>\n",
      "X_train has %d rows (197, 1)\n",
      "\n",
      "Sample of X_train__________________________________________________\n",
      "[[1216]\n",
      " [   0]\n",
      " [1676]\n",
      " [2309]\n",
      " [ 958]\n",
      " [1522]\n",
      " [2054]\n",
      " [   0]\n",
      " [2258]\n",
      " [1386]]\n",
      "\n",
      "y_train is a <class 'pandas.core.series.Series'>\n",
      "y_train has %d rows (197,)\n",
      "\n",
      "Sample of y_train__________________________________________________\n",
      "242    230000\n",
      "754    270000\n",
      "392    155000\n",
      "118    311000\n",
      "368    120000\n",
      "237    225000\n",
      "138    381942\n",
      "865      1551\n",
      "725    232500\n",
      "683    191250\n",
      "Name: price, dtype: int64\n"
     ]
    }
   ],
   "source": [
    "## Check training/test data\n",
    "\n",
    "# About test\n",
    "print('X_train is a %s' % type(X_test))\n",
    "print('X_train has %d rows', X_test.shape)\n",
    "print('')\n",
    "print('Sample of X_train%s' % ('_'*50))\n",
    "print(X_test[:10])\n",
    "\n",
    "print('')\n",
    "print('y_train is a %s' % type(y_test))\n",
    "print('y_train has %d rows', y_test.shape)\n",
    "print('')\n",
    "print('Sample of y_train%s' % ('_'*50))\n",
    "print(y_test[:10])"
   ]
  },
  {
   "cell_type": "markdown",
   "metadata": {},
   "source": [
    "#### 3.3 Using Linear Regression Find The Score\n",
    "\n",
    "1. Fit model using X_train, y_train\n",
    "2. Find score using x_test, y_test"
   ]
  },
  {
   "cell_type": "code",
   "execution_count": 61,
   "metadata": {},
   "outputs": [
    {
     "name": "stdout",
     "output_type": "stream",
     "text": [
      "[53.41878847] 164608.33622269018\n"
     ]
    }
   ],
   "source": [
    "# ANSWER\n",
    "\n",
    "linreg = LinearRegression()\n",
    "linreg.fit(X_train, y_train)\n",
    "\n",
    "print(linreg.coef_, linreg.intercept_)"
   ]
  },
  {
   "cell_type": "code",
   "execution_count": 62,
   "metadata": {},
   "outputs": [
    {
     "data": {
      "text/plain": [
       "0.13401580989683193"
      ]
     },
     "execution_count": 62,
     "metadata": {},
     "output_type": "execute_result"
    }
   ],
   "source": [
    "linreg.score(X_test, y_test)"
   ]
  },
  {
   "cell_type": "markdown",
   "metadata": {},
   "source": [
    "#### 3.4 Using your model predict price of a house\n",
    "\n",
    "Let's assume we have house which have 1000 square feet. What is the predicted value of that house? Use your model."
   ]
  },
  {
   "cell_type": "code",
   "execution_count": 71,
   "metadata": {},
   "outputs": [
    {
     "name": "stdout",
     "output_type": "stream",
     "text": [
      "Predicted house price:  217088.8010955285\n"
     ]
    }
   ],
   "source": [
    "# ANSWER\n",
    "beta0 = linreg.intercept_\n",
    "beta1 = linreg.coef_\n",
    "x = 1000\n",
    "\n",
    "Ypred = beta1 * x + beta0\n",
    "print('Predicted house price: ', Ypred[0])"
   ]
  },
  {
   "cell_type": "code",
   "execution_count": 72,
   "metadata": {},
   "outputs": [
    {
     "name": "stdout",
     "output_type": "stream",
     "text": [
      "Predicted house price:  217088.8010955285\n"
     ]
    }
   ],
   "source": [
    "# ANSWER\n",
    "x = [[1000]]\n",
    "Ypred = linreg.predict(x)\n",
    "print('Predicted house price: ', Ypred[0])"
   ]
  }
 ],
 "metadata": {
  "kernelspec": {
   "display_name": "Python 3",
   "language": "python",
   "name": "python3"
  },
  "language_info": {
   "codemirror_mode": {
    "name": "ipython",
    "version": 3
   },
   "file_extension": ".py",
   "mimetype": "text/x-python",
   "name": "python",
   "nbconvert_exporter": "python",
   "pygments_lexer": "ipython3",
   "version": "3.7.3"
  }
 },
 "nbformat": 4,
 "nbformat_minor": 2
}
