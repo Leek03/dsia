{
 "cells": [
  {
   "cell_type": "markdown",
   "metadata": {},
   "source": [
    "# Mugwump\n",
    "\n",
    "The user enters a pair of single-digit co-ordinates in the range from 0 to 5 which are the x,y coordinates to scan. If the mugwump is at that location then the user is alerted. Otherwise the user is told the distance from the scanned coordinates to the mugwump. The game ends after five turns or when the mugwump has been found.\n"
   ]
  },
  {
   "cell_type": "markdown",
   "metadata": {
    "ExecuteTime": {
     "end_time": "2019-07-02T01:09:28.433794Z",
     "start_time": "2019-07-02T01:09:28.427811Z"
    }
   },
   "source": [
    "## 1. Define a 5 X 5 list. Assign `O` to all rows and columns."
   ]
  },
  {
   "cell_type": "markdown",
   "metadata": {},
   "source": [
    "## 2. Print the list\n",
    "\n",
    "| O | 1 | 2 | 3 | 4 |\n",
    "|---|--:|---|---|---|\n",
    "| O | O | O | O | O |\n",
    "| O | O | O | O | O |\n",
    "| O | O | O | O | O |\n",
    "| O | O | O | O | O |\n",
    "| O | O | O | O | O |"
   ]
  },
  {
   "cell_type": "markdown",
   "metadata": {},
   "source": [
    "## 3. Generate a  random number between 0 to number of rows."
   ]
  },
  {
   "cell_type": "markdown",
   "metadata": {},
   "source": [
    "## 4. Generate a random number between 0 to number of columns."
   ]
  },
  {
   "cell_type": "markdown",
   "metadata": {},
   "source": [
    "## 5. Mugwump!\n",
    "\n",
    "Write a for loop which will ask user to input row and colulmn 5 times.\n",
    "\n",
    "- If user input for row and column same as random row and column we get from #3 and #4 print a successfull message. And break the loop.\n",
    "- If user input for row and column is out of index print an error message\n",
    "- Replace O with X in board and show display it to user\n",
    "- If user input the same number twice, give them a warning message\n",
    "\n",
    "If user unable to guess after five turns show them where the mugwump is."
   ]
  },
  {
   "cell_type": "code",
   "execution_count": 34,
   "metadata": {},
   "outputs": [
    {
     "name": "stdout",
     "output_type": "stream",
     "text": [
      "Enter your x-coordinate: (1-5) - [3 tries remaining]: 1\n",
      "Enter your y-coordinate: (1-5)                      : 2\n",
      "\u001b[91mOops! Incorrect guess\u001b[0m\n",
      "\u001b[37mClosest distance to mugwump is 2\u001b[0m\n",
      "['O' 'X' 'O' 'O' 'O']\n",
      "['O' 'O' 'O' 'O' 'O']\n",
      "['O' 'O' 'O' 'O' 'O']\n",
      "['O' 'O' 'O' 'O' 'O']\n",
      "['O' 'O' 'O' 'O' 'O']\n",
      "\n",
      "\n",
      "Enter your x-coordinate: (1-5) - [2 tries remaining]: 1\n",
      "Enter your y-coordinate: (1-5)                      : 3\n",
      "\u001b[91mOops! Incorrect guess\u001b[0m\n",
      "\u001b[37mClosest distance to mugwump is 1\u001b[0m\n",
      "['O' 'X' 'X' 'O' 'O']\n",
      "['O' 'O' 'O' 'O' 'O']\n",
      "['O' 'O' 'O' 'O' 'O']\n",
      "['O' 'O' 'O' 'O' 'O']\n",
      "['O' 'O' 'O' 'O' 'O']\n",
      "\n",
      "\n",
      "Enter your x-coordinate: (1-5) - [1 tries remaining]: 1\n",
      "Enter your y-coordinate: (1-5)                      : 2\n",
      "\u001b[91m\u001b[1mWarning!\u001b[0m You've repeated the same coordinates once again!\n",
      "\u001b[91mOops! Incorrect guess\u001b[0m\n",
      "\u001b[37mClosest distance to mugwump is 2\u001b[0m\n",
      "['O' 'X' 'X' 'O' 'O']\n",
      "['O' 'O' 'O' 'O' 'O']\n",
      "['O' 'O' 'O' 'O' 'O']\n",
      "['O' 'O' 'O' 'O' 'O']\n",
      "['O' 'O' 'O' 'O' 'O']\n",
      "\n",
      "\n",
      "\u001b[43mFinal status of guess!\u001b[0m You missed locating the mugwump that was located at (2,4)\n",
      "['O' 'X' 'X' 'O' 'O']\n",
      "['O' 'O' 'O' 'A' 'O']\n",
      "['O' 'O' 'O' 'O' 'O']\n",
      "['O' 'O' 'O' 'O' 'O']\n",
      "['O' 'O' 'O' 'O' 'O']\n",
      "\n",
      "\n"
     ]
    }
   ],
   "source": [
    "import numpy as np\n",
    "\n",
    "matrix = np.empty([5, 5], dtype = str) \n",
    "tries = 3\n",
    "success = False\n",
    "\n",
    "for i in range(len(matrix)):\n",
    "    matrix[i] = 'O'\n",
    "\n",
    "# Random numbers for the position of Mugwump    \n",
    "random_x = np.random.randint(1,6)\n",
    "random_y = np.random.randint(1,6)\n",
    "\n",
    "# Initialise colors to use in the print messages\n",
    "cred = '\\033[91m'\n",
    "cend = '\\033[0m'\n",
    "cgreen = '\\33[32m'\n",
    "cbold  = '\\33[1m'\n",
    "citalic = '\\33[3m'\n",
    "cwhite = '\\33[37m'\n",
    "cyellowbg = '\\33[43m'\n",
    "cyellow = '\\33[33m'\n",
    "\n",
    "# Function to display the final status of the matrix at the ned of the program execution\n",
    "def disp_result():\n",
    "    for row in matrix:\n",
    "        print(row)\n",
    "    print('\\n')\n",
    "\n",
    "# Main body loop\n",
    "for ctr in range(tries):\n",
    "    \n",
    "    user_x = int(input('Enter your x-coordinate: (1-5) - [{}{}{} tries remaining]: '.format(cyellow,tries - ctr,cend))) \n",
    "    user_y = int(input('Enter your y-coordinate: (1-5)                      : '))\n",
    "  \n",
    "    if not( (user_x > 0 and user_x < 6) and (user_y > 0 and user_y < 6) ):\n",
    "        print('{}{}Incorrect co-ordinates entered. Have to exit ...{}'.format(cbold,cred,cend))\n",
    "        break\n",
    "        \n",
    "    if user_x == random_x and user_y == random_y:\n",
    "        print(\"{}{}Bingo!{} You're so good!!\".format(cgreen,cbold,cend))\n",
    "        matrix[user_x - 1,user_y - 1] = ':-)'\n",
    "        disp_result()\n",
    "        success = True\n",
    "        break\n",
    "    else:\n",
    "        \n",
    "        if matrix[user_x - 1,user_y - 1] == 'X':\n",
    "                print(\"{}{}Warning!{} You've repeated the same coordinates once again!\".format(cred,cbold,cend) )\n",
    "\n",
    "        \n",
    "        distance = round(np.sqrt( (user_x - random_x)**2 + (user_y - random_y)**2 )) \n",
    "        matrix[user_x - 1,user_y - 1] = 'X'\n",
    "         \n",
    "        print(\"{}Oops! Incorrect guess{}\".format(cred,cend))\n",
    "        print('{}Closest distance to mugwump is {}{}'.format(cwhite,int(distance),cend))\n",
    "\n",
    "        if ctr < 4:\n",
    "            disp_result()\n",
    "\n",
    "if success == False:\n",
    "    matrix[random_x - 1,random_y - 1] = 'A'\n",
    "    print('{}Final status of guess!{} You missed locating the mugwump that was located at ({},{})' \\\n",
    "          .format(cyellowbg,cend,random_x,random_y))\n",
    "    disp_result()"
   ]
  },
  {
   "cell_type": "code",
   "execution_count": null,
   "metadata": {},
   "outputs": [],
   "source": []
  }
 ],
 "metadata": {
  "kernelspec": {
   "display_name": "Python 3",
   "language": "python",
   "name": "python3"
  },
  "language_info": {
   "codemirror_mode": {
    "name": "ipython",
    "version": 3
   },
   "file_extension": ".py",
   "mimetype": "text/x-python",
   "name": "python",
   "nbconvert_exporter": "python",
   "pygments_lexer": "ipython3",
   "version": "3.7.1"
  },
  "varInspector": {
   "cols": {
    "lenName": 16,
    "lenType": 16,
    "lenVar": 40
   },
   "kernels_config": {
    "python": {
     "delete_cmd_postfix": "",
     "delete_cmd_prefix": "del ",
     "library": "var_list.py",
     "varRefreshCmd": "print(var_dic_list())"
    },
    "r": {
     "delete_cmd_postfix": ") ",
     "delete_cmd_prefix": "rm(",
     "library": "var_list.r",
     "varRefreshCmd": "cat(var_dic_list()) "
    }
   },
   "types_to_exclude": [
    "module",
    "function",
    "builtin_function_or_method",
    "instance",
    "_Feature"
   ],
   "window_display": false
  }
 },
 "nbformat": 4,
 "nbformat_minor": 2
}
