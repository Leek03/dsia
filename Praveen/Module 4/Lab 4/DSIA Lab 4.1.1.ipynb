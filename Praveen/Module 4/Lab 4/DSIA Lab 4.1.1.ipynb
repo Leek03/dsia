{
 "cells": [
  {
   "cell_type": "markdown",
   "metadata": {},
   "source": [
    "![alt text](https://i.imgur.com/1WaY7aA.png)"
   ]
  },
  {
   "cell_type": "markdown",
   "metadata": {},
   "source": [
    "# Lab 4.1.1 Linear Regression"
   ]
  },
  {
   "cell_type": "markdown",
   "metadata": {},
   "source": [
    "## Prediction of House Price Using Linear Regression"
   ]
  },
  {
   "cell_type": "markdown",
   "metadata": {},
   "source": [
    "### Data\n",
    "\n",
    "The Sacramento real estate transactions file is a list of 985 real estate transactions in the Sacramento area reported over a five-day period, as reported by the Sacramento Bee."
   ]
  },
  {
   "cell_type": "code",
   "execution_count": 10,
   "metadata": {},
   "outputs": [],
   "source": [
    "import pandas as pd\n",
    "import numpy as np\n",
    "import math\n",
    "import seaborn as sns\n",
    "import pandas as pd\n",
    "\n",
    "from scipy import stats\n",
    "from matplotlib import pyplot as plt\n",
    "\n",
    "sns.set_context(\"poster\")\n",
    "sns.set(rc={'figure.figsize': (10, 6)})\n",
    "sns.set_style(\"whitegrid\")\n",
    "\n",
    "%matplotlib inline"
   ]
  },
  {
   "cell_type": "markdown",
   "metadata": {},
   "source": [
    "### 1. Explore Data"
   ]
  },
  {
   "cell_type": "markdown",
   "metadata": {},
   "source": [
    "Perform EDA on this dataset. Use what you have learned so far."
   ]
  },
  {
   "cell_type": "code",
   "execution_count": 11,
   "metadata": {},
   "outputs": [],
   "source": [
    "# Read CSV\n",
    "data = pd.read_csv(\"../DATA 4/Sacramentorealestatetransactions.csv\")"
   ]
  },
  {
   "cell_type": "code",
   "execution_count": 12,
   "metadata": {},
   "outputs": [
    {
     "data": {
      "text/plain": [
       "(985, 12)"
      ]
     },
     "execution_count": 12,
     "metadata": {},
     "output_type": "execute_result"
    }
   ],
   "source": [
    "data.shape"
   ]
  },
  {
   "cell_type": "code",
   "execution_count": 13,
   "metadata": {},
   "outputs": [
    {
     "data": {
      "text/html": [
       "<div>\n",
       "<style scoped>\n",
       "    .dataframe tbody tr th:only-of-type {\n",
       "        vertical-align: middle;\n",
       "    }\n",
       "\n",
       "    .dataframe tbody tr th {\n",
       "        vertical-align: top;\n",
       "    }\n",
       "\n",
       "    .dataframe thead th {\n",
       "        text-align: right;\n",
       "    }\n",
       "</style>\n",
       "<table border=\"1\" class=\"dataframe\">\n",
       "  <thead>\n",
       "    <tr style=\"text-align: right;\">\n",
       "      <th></th>\n",
       "      <th>street</th>\n",
       "      <th>city</th>\n",
       "      <th>zip</th>\n",
       "      <th>state</th>\n",
       "      <th>beds</th>\n",
       "      <th>baths</th>\n",
       "      <th>sq__ft</th>\n",
       "      <th>type</th>\n",
       "      <th>sale_date</th>\n",
       "      <th>price</th>\n",
       "      <th>latitude</th>\n",
       "      <th>longitude</th>\n",
       "    </tr>\n",
       "  </thead>\n",
       "  <tbody>\n",
       "    <tr>\n",
       "      <th>0</th>\n",
       "      <td>3526 HIGH ST</td>\n",
       "      <td>SACRAMENTO</td>\n",
       "      <td>95838</td>\n",
       "      <td>CA</td>\n",
       "      <td>2</td>\n",
       "      <td>1</td>\n",
       "      <td>836</td>\n",
       "      <td>Residential</td>\n",
       "      <td>Wed May 21 00:00:00 EDT 2008</td>\n",
       "      <td>59222</td>\n",
       "      <td>38.631913</td>\n",
       "      <td>-121.434879</td>\n",
       "    </tr>\n",
       "    <tr>\n",
       "      <th>1</th>\n",
       "      <td>51 OMAHA CT</td>\n",
       "      <td>SACRAMENTO</td>\n",
       "      <td>95823</td>\n",
       "      <td>CA</td>\n",
       "      <td>3</td>\n",
       "      <td>1</td>\n",
       "      <td>1167</td>\n",
       "      <td>Residential</td>\n",
       "      <td>Wed May 21 00:00:00 EDT 2008</td>\n",
       "      <td>68212</td>\n",
       "      <td>38.478902</td>\n",
       "      <td>-121.431028</td>\n",
       "    </tr>\n",
       "    <tr>\n",
       "      <th>2</th>\n",
       "      <td>2796 BRANCH ST</td>\n",
       "      <td>SACRAMENTO</td>\n",
       "      <td>95815</td>\n",
       "      <td>CA</td>\n",
       "      <td>2</td>\n",
       "      <td>1</td>\n",
       "      <td>796</td>\n",
       "      <td>Residential</td>\n",
       "      <td>Wed May 21 00:00:00 EDT 2008</td>\n",
       "      <td>68880</td>\n",
       "      <td>38.618305</td>\n",
       "      <td>-121.443839</td>\n",
       "    </tr>\n",
       "    <tr>\n",
       "      <th>3</th>\n",
       "      <td>2805 JANETTE WAY</td>\n",
       "      <td>SACRAMENTO</td>\n",
       "      <td>95815</td>\n",
       "      <td>CA</td>\n",
       "      <td>2</td>\n",
       "      <td>1</td>\n",
       "      <td>852</td>\n",
       "      <td>Residential</td>\n",
       "      <td>Wed May 21 00:00:00 EDT 2008</td>\n",
       "      <td>69307</td>\n",
       "      <td>38.616835</td>\n",
       "      <td>-121.439146</td>\n",
       "    </tr>\n",
       "    <tr>\n",
       "      <th>4</th>\n",
       "      <td>6001 MCMAHON DR</td>\n",
       "      <td>SACRAMENTO</td>\n",
       "      <td>95824</td>\n",
       "      <td>CA</td>\n",
       "      <td>2</td>\n",
       "      <td>1</td>\n",
       "      <td>797</td>\n",
       "      <td>Residential</td>\n",
       "      <td>Wed May 21 00:00:00 EDT 2008</td>\n",
       "      <td>81900</td>\n",
       "      <td>38.519470</td>\n",
       "      <td>-121.435768</td>\n",
       "    </tr>\n",
       "  </tbody>\n",
       "</table>\n",
       "</div>"
      ],
      "text/plain": [
       "             street        city    zip state  beds  baths  sq__ft  \\\n",
       "0      3526 HIGH ST  SACRAMENTO  95838    CA     2      1     836   \n",
       "1       51 OMAHA CT  SACRAMENTO  95823    CA     3      1    1167   \n",
       "2    2796 BRANCH ST  SACRAMENTO  95815    CA     2      1     796   \n",
       "3  2805 JANETTE WAY  SACRAMENTO  95815    CA     2      1     852   \n",
       "4   6001 MCMAHON DR  SACRAMENTO  95824    CA     2      1     797   \n",
       "\n",
       "          type                     sale_date  price   latitude   longitude  \n",
       "0  Residential  Wed May 21 00:00:00 EDT 2008  59222  38.631913 -121.434879  \n",
       "1  Residential  Wed May 21 00:00:00 EDT 2008  68212  38.478902 -121.431028  \n",
       "2  Residential  Wed May 21 00:00:00 EDT 2008  68880  38.618305 -121.443839  \n",
       "3  Residential  Wed May 21 00:00:00 EDT 2008  69307  38.616835 -121.439146  \n",
       "4  Residential  Wed May 21 00:00:00 EDT 2008  81900  38.519470 -121.435768  "
      ]
     },
     "execution_count": 13,
     "metadata": {},
     "output_type": "execute_result"
    }
   ],
   "source": [
    "# Head\n",
    "data.head()"
   ]
  },
  {
   "cell_type": "code",
   "execution_count": 14,
   "metadata": {},
   "outputs": [
    {
     "data": {
      "text/html": [
       "<div>\n",
       "<style scoped>\n",
       "    .dataframe tbody tr th:only-of-type {\n",
       "        vertical-align: middle;\n",
       "    }\n",
       "\n",
       "    .dataframe tbody tr th {\n",
       "        vertical-align: top;\n",
       "    }\n",
       "\n",
       "    .dataframe thead th {\n",
       "        text-align: right;\n",
       "    }\n",
       "</style>\n",
       "<table border=\"1\" class=\"dataframe\">\n",
       "  <thead>\n",
       "    <tr style=\"text-align: right;\">\n",
       "      <th></th>\n",
       "      <th>street</th>\n",
       "      <th>city</th>\n",
       "      <th>zip</th>\n",
       "      <th>state</th>\n",
       "      <th>beds</th>\n",
       "      <th>baths</th>\n",
       "      <th>sq__ft</th>\n",
       "      <th>type</th>\n",
       "      <th>sale_date</th>\n",
       "      <th>price</th>\n",
       "      <th>latitude</th>\n",
       "      <th>longitude</th>\n",
       "    </tr>\n",
       "  </thead>\n",
       "  <tbody>\n",
       "    <tr>\n",
       "      <th>980</th>\n",
       "      <td>9169 GARLINGTON CT</td>\n",
       "      <td>SACRAMENTO</td>\n",
       "      <td>95829</td>\n",
       "      <td>CA</td>\n",
       "      <td>4</td>\n",
       "      <td>3</td>\n",
       "      <td>2280</td>\n",
       "      <td>Residential</td>\n",
       "      <td>Thu May 15 00:00:00 EDT 2008</td>\n",
       "      <td>232425</td>\n",
       "      <td>38.457679</td>\n",
       "      <td>-121.359620</td>\n",
       "    </tr>\n",
       "    <tr>\n",
       "      <th>981</th>\n",
       "      <td>6932 RUSKUT WAY</td>\n",
       "      <td>SACRAMENTO</td>\n",
       "      <td>95823</td>\n",
       "      <td>CA</td>\n",
       "      <td>3</td>\n",
       "      <td>2</td>\n",
       "      <td>1477</td>\n",
       "      <td>Residential</td>\n",
       "      <td>Thu May 15 00:00:00 EDT 2008</td>\n",
       "      <td>234000</td>\n",
       "      <td>38.499893</td>\n",
       "      <td>-121.458890</td>\n",
       "    </tr>\n",
       "    <tr>\n",
       "      <th>982</th>\n",
       "      <td>7933 DAFFODIL WAY</td>\n",
       "      <td>CITRUS HEIGHTS</td>\n",
       "      <td>95610</td>\n",
       "      <td>CA</td>\n",
       "      <td>3</td>\n",
       "      <td>2</td>\n",
       "      <td>1216</td>\n",
       "      <td>Residential</td>\n",
       "      <td>Thu May 15 00:00:00 EDT 2008</td>\n",
       "      <td>235000</td>\n",
       "      <td>38.708824</td>\n",
       "      <td>-121.256803</td>\n",
       "    </tr>\n",
       "    <tr>\n",
       "      <th>983</th>\n",
       "      <td>8304 RED FOX WAY</td>\n",
       "      <td>ELK GROVE</td>\n",
       "      <td>95758</td>\n",
       "      <td>CA</td>\n",
       "      <td>4</td>\n",
       "      <td>2</td>\n",
       "      <td>1685</td>\n",
       "      <td>Residential</td>\n",
       "      <td>Thu May 15 00:00:00 EDT 2008</td>\n",
       "      <td>235301</td>\n",
       "      <td>38.417000</td>\n",
       "      <td>-121.397424</td>\n",
       "    </tr>\n",
       "    <tr>\n",
       "      <th>984</th>\n",
       "      <td>3882 YELLOWSTONE LN</td>\n",
       "      <td>EL DORADO HILLS</td>\n",
       "      <td>95762</td>\n",
       "      <td>CA</td>\n",
       "      <td>3</td>\n",
       "      <td>2</td>\n",
       "      <td>1362</td>\n",
       "      <td>Residential</td>\n",
       "      <td>Thu May 15 00:00:00 EDT 2008</td>\n",
       "      <td>235738</td>\n",
       "      <td>38.655245</td>\n",
       "      <td>-121.075915</td>\n",
       "    </tr>\n",
       "  </tbody>\n",
       "</table>\n",
       "</div>"
      ],
      "text/plain": [
       "                  street             city    zip state  beds  baths  sq__ft  \\\n",
       "980   9169 GARLINGTON CT       SACRAMENTO  95829    CA     4      3    2280   \n",
       "981      6932 RUSKUT WAY       SACRAMENTO  95823    CA     3      2    1477   \n",
       "982    7933 DAFFODIL WAY   CITRUS HEIGHTS  95610    CA     3      2    1216   \n",
       "983     8304 RED FOX WAY        ELK GROVE  95758    CA     4      2    1685   \n",
       "984  3882 YELLOWSTONE LN  EL DORADO HILLS  95762    CA     3      2    1362   \n",
       "\n",
       "            type                     sale_date   price   latitude   longitude  \n",
       "980  Residential  Thu May 15 00:00:00 EDT 2008  232425  38.457679 -121.359620  \n",
       "981  Residential  Thu May 15 00:00:00 EDT 2008  234000  38.499893 -121.458890  \n",
       "982  Residential  Thu May 15 00:00:00 EDT 2008  235000  38.708824 -121.256803  \n",
       "983  Residential  Thu May 15 00:00:00 EDT 2008  235301  38.417000 -121.397424  \n",
       "984  Residential  Thu May 15 00:00:00 EDT 2008  235738  38.655245 -121.075915  "
      ]
     },
     "execution_count": 14,
     "metadata": {},
     "output_type": "execute_result"
    }
   ],
   "source": [
    "# Tail\n",
    "data.tail()"
   ]
  },
  {
   "cell_type": "code",
   "execution_count": 17,
   "metadata": {},
   "outputs": [
    {
     "data": {
      "text/plain": [
       "street       0\n",
       "city         0\n",
       "zip          0\n",
       "state        0\n",
       "beds         0\n",
       "baths        0\n",
       "sq__ft       0\n",
       "type         0\n",
       "sale_date    0\n",
       "price        0\n",
       "latitude     0\n",
       "longitude    0\n",
       "dtype: int64"
      ]
     },
     "execution_count": 17,
     "metadata": {},
     "output_type": "execute_result"
    }
   ],
   "source": [
    "# Check Null Values\n",
    "data.isnull().sum()"
   ]
  },
  {
   "cell_type": "code",
   "execution_count": 18,
   "metadata": {},
   "outputs": [
    {
     "name": "stdout",
     "output_type": "stream",
     "text": [
      "<class 'pandas.core.frame.DataFrame'>\n",
      "RangeIndex: 985 entries, 0 to 984\n",
      "Data columns (total 12 columns):\n",
      "street       985 non-null object\n",
      "city         985 non-null object\n",
      "zip          985 non-null int64\n",
      "state        985 non-null object\n",
      "beds         985 non-null int64\n",
      "baths        985 non-null int64\n",
      "sq__ft       985 non-null int64\n",
      "type         985 non-null object\n",
      "sale_date    985 non-null object\n",
      "price        985 non-null int64\n",
      "latitude     985 non-null float64\n",
      "longitude    985 non-null float64\n",
      "dtypes: float64(2), int64(5), object(5)\n",
      "memory usage: 92.4+ KB\n"
     ]
    }
   ],
   "source": [
    "# Data Types\n",
    "data.info()"
   ]
  },
  {
   "cell_type": "code",
   "execution_count": 19,
   "metadata": {},
   "outputs": [],
   "source": [
    "# Zip is categorical value, should be string\n",
    "data['zip'] = data['zip'].astype(str)"
   ]
  },
  {
   "cell_type": "code",
   "execution_count": 20,
   "metadata": {},
   "outputs": [
    {
     "data": {
      "text/html": [
       "<div>\n",
       "<style scoped>\n",
       "    .dataframe tbody tr th:only-of-type {\n",
       "        vertical-align: middle;\n",
       "    }\n",
       "\n",
       "    .dataframe tbody tr th {\n",
       "        vertical-align: top;\n",
       "    }\n",
       "\n",
       "    .dataframe thead th {\n",
       "        text-align: right;\n",
       "    }\n",
       "</style>\n",
       "<table border=\"1\" class=\"dataframe\">\n",
       "  <thead>\n",
       "    <tr style=\"text-align: right;\">\n",
       "      <th></th>\n",
       "      <th>count</th>\n",
       "      <th>mean</th>\n",
       "      <th>std</th>\n",
       "      <th>min</th>\n",
       "      <th>25%</th>\n",
       "      <th>50%</th>\n",
       "      <th>75%</th>\n",
       "      <th>max</th>\n",
       "    </tr>\n",
       "  </thead>\n",
       "  <tbody>\n",
       "    <tr>\n",
       "      <th>beds</th>\n",
       "      <td>985.0</td>\n",
       "      <td>2.911675</td>\n",
       "      <td>1.307932</td>\n",
       "      <td>0.000000</td>\n",
       "      <td>2.000000</td>\n",
       "      <td>3.000000</td>\n",
       "      <td>4.000000</td>\n",
       "      <td>8.000000</td>\n",
       "    </tr>\n",
       "    <tr>\n",
       "      <th>baths</th>\n",
       "      <td>985.0</td>\n",
       "      <td>1.776650</td>\n",
       "      <td>0.895371</td>\n",
       "      <td>0.000000</td>\n",
       "      <td>1.000000</td>\n",
       "      <td>2.000000</td>\n",
       "      <td>2.000000</td>\n",
       "      <td>5.000000</td>\n",
       "    </tr>\n",
       "    <tr>\n",
       "      <th>sq__ft</th>\n",
       "      <td>985.0</td>\n",
       "      <td>1314.916751</td>\n",
       "      <td>853.048243</td>\n",
       "      <td>0.000000</td>\n",
       "      <td>952.000000</td>\n",
       "      <td>1304.000000</td>\n",
       "      <td>1718.000000</td>\n",
       "      <td>5822.000000</td>\n",
       "    </tr>\n",
       "    <tr>\n",
       "      <th>price</th>\n",
       "      <td>985.0</td>\n",
       "      <td>234144.263959</td>\n",
       "      <td>138365.839085</td>\n",
       "      <td>1551.000000</td>\n",
       "      <td>145000.000000</td>\n",
       "      <td>213750.000000</td>\n",
       "      <td>300000.000000</td>\n",
       "      <td>884790.000000</td>\n",
       "    </tr>\n",
       "    <tr>\n",
       "      <th>latitude</th>\n",
       "      <td>985.0</td>\n",
       "      <td>38.607732</td>\n",
       "      <td>0.145433</td>\n",
       "      <td>38.241514</td>\n",
       "      <td>38.482717</td>\n",
       "      <td>38.626582</td>\n",
       "      <td>38.695589</td>\n",
       "      <td>39.020808</td>\n",
       "    </tr>\n",
       "    <tr>\n",
       "      <th>longitude</th>\n",
       "      <td>985.0</td>\n",
       "      <td>-121.355982</td>\n",
       "      <td>0.138278</td>\n",
       "      <td>-121.551704</td>\n",
       "      <td>-121.446127</td>\n",
       "      <td>-121.376220</td>\n",
       "      <td>-121.295778</td>\n",
       "      <td>-120.597599</td>\n",
       "    </tr>\n",
       "  </tbody>\n",
       "</table>\n",
       "</div>"
      ],
      "text/plain": [
       "           count           mean            std          min            25%  \\\n",
       "beds       985.0       2.911675       1.307932     0.000000       2.000000   \n",
       "baths      985.0       1.776650       0.895371     0.000000       1.000000   \n",
       "sq__ft     985.0    1314.916751     853.048243     0.000000     952.000000   \n",
       "price      985.0  234144.263959  138365.839085  1551.000000  145000.000000   \n",
       "latitude   985.0      38.607732       0.145433    38.241514      38.482717   \n",
       "longitude  985.0    -121.355982       0.138278  -121.551704    -121.446127   \n",
       "\n",
       "                     50%            75%            max  \n",
       "beds            3.000000       4.000000       8.000000  \n",
       "baths           2.000000       2.000000       5.000000  \n",
       "sq__ft       1304.000000    1718.000000    5822.000000  \n",
       "price      213750.000000  300000.000000  884790.000000  \n",
       "latitude       38.626582      38.695589      39.020808  \n",
       "longitude    -121.376220    -121.295778    -120.597599  "
      ]
     },
     "execution_count": 20,
     "metadata": {},
     "output_type": "execute_result"
    }
   ],
   "source": [
    "# Describe Data\n",
    "data.describe().T"
   ]
  },
  {
   "cell_type": "code",
   "execution_count": 10,
   "metadata": {},
   "outputs": [],
   "source": [
    "# Got min value 0 for beds, baths, sqft which does not seem correct."
   ]
  },
  {
   "cell_type": "code",
   "execution_count": 21,
   "metadata": {},
   "outputs": [
    {
     "data": {
      "text/html": [
       "<div>\n",
       "<style scoped>\n",
       "    .dataframe tbody tr th:only-of-type {\n",
       "        vertical-align: middle;\n",
       "    }\n",
       "\n",
       "    .dataframe tbody tr th {\n",
       "        vertical-align: top;\n",
       "    }\n",
       "\n",
       "    .dataframe thead th {\n",
       "        text-align: right;\n",
       "    }\n",
       "</style>\n",
       "<table border=\"1\" class=\"dataframe\">\n",
       "  <thead>\n",
       "    <tr style=\"text-align: right;\">\n",
       "      <th></th>\n",
       "      <th>street</th>\n",
       "      <th>city</th>\n",
       "      <th>zip</th>\n",
       "      <th>state</th>\n",
       "      <th>beds</th>\n",
       "      <th>baths</th>\n",
       "      <th>sq__ft</th>\n",
       "      <th>type</th>\n",
       "      <th>sale_date</th>\n",
       "      <th>price</th>\n",
       "      <th>latitude</th>\n",
       "      <th>longitude</th>\n",
       "    </tr>\n",
       "  </thead>\n",
       "  <tbody>\n",
       "    <tr>\n",
       "      <th>73</th>\n",
       "      <td>17 SERASPI CT</td>\n",
       "      <td>SACRAMENTO</td>\n",
       "      <td>95834</td>\n",
       "      <td>CA</td>\n",
       "      <td>0</td>\n",
       "      <td>0</td>\n",
       "      <td>0</td>\n",
       "      <td>Residential</td>\n",
       "      <td>Wed May 21 00:00:00 EDT 2008</td>\n",
       "      <td>206000</td>\n",
       "      <td>38.631481</td>\n",
       "      <td>-121.501880</td>\n",
       "    </tr>\n",
       "    <tr>\n",
       "      <th>89</th>\n",
       "      <td>2866 KARITSA AVE</td>\n",
       "      <td>SACRAMENTO</td>\n",
       "      <td>95833</td>\n",
       "      <td>CA</td>\n",
       "      <td>0</td>\n",
       "      <td>0</td>\n",
       "      <td>0</td>\n",
       "      <td>Residential</td>\n",
       "      <td>Wed May 21 00:00:00 EDT 2008</td>\n",
       "      <td>244500</td>\n",
       "      <td>38.626671</td>\n",
       "      <td>-121.525970</td>\n",
       "    </tr>\n",
       "    <tr>\n",
       "      <th>100</th>\n",
       "      <td>12209 CONSERVANCY WAY</td>\n",
       "      <td>RANCHO CORDOVA</td>\n",
       "      <td>95742</td>\n",
       "      <td>CA</td>\n",
       "      <td>0</td>\n",
       "      <td>0</td>\n",
       "      <td>0</td>\n",
       "      <td>Residential</td>\n",
       "      <td>Wed May 21 00:00:00 EDT 2008</td>\n",
       "      <td>263500</td>\n",
       "      <td>38.553867</td>\n",
       "      <td>-121.219141</td>\n",
       "    </tr>\n",
       "    <tr>\n",
       "      <th>121</th>\n",
       "      <td>5337 DUSTY ROSE WAY</td>\n",
       "      <td>RANCHO CORDOVA</td>\n",
       "      <td>95742</td>\n",
       "      <td>CA</td>\n",
       "      <td>0</td>\n",
       "      <td>0</td>\n",
       "      <td>0</td>\n",
       "      <td>Residential</td>\n",
       "      <td>Wed May 21 00:00:00 EDT 2008</td>\n",
       "      <td>320000</td>\n",
       "      <td>38.528575</td>\n",
       "      <td>-121.228600</td>\n",
       "    </tr>\n",
       "    <tr>\n",
       "      <th>126</th>\n",
       "      <td>2115 SMOKESTACK WAY</td>\n",
       "      <td>SACRAMENTO</td>\n",
       "      <td>95833</td>\n",
       "      <td>CA</td>\n",
       "      <td>0</td>\n",
       "      <td>0</td>\n",
       "      <td>0</td>\n",
       "      <td>Residential</td>\n",
       "      <td>Wed May 21 00:00:00 EDT 2008</td>\n",
       "      <td>339500</td>\n",
       "      <td>38.602416</td>\n",
       "      <td>-121.542965</td>\n",
       "    </tr>\n",
       "    <tr>\n",
       "      <th>133</th>\n",
       "      <td>8082 LINDA ISLE LN</td>\n",
       "      <td>SACRAMENTO</td>\n",
       "      <td>95831</td>\n",
       "      <td>CA</td>\n",
       "      <td>0</td>\n",
       "      <td>0</td>\n",
       "      <td>0</td>\n",
       "      <td>Residential</td>\n",
       "      <td>Wed May 21 00:00:00 EDT 2008</td>\n",
       "      <td>370000</td>\n",
       "      <td>38.477200</td>\n",
       "      <td>-121.521500</td>\n",
       "    </tr>\n",
       "    <tr>\n",
       "      <th>147</th>\n",
       "      <td>9278 DAIRY CT</td>\n",
       "      <td>ELK GROVE</td>\n",
       "      <td>95624</td>\n",
       "      <td>CA</td>\n",
       "      <td>0</td>\n",
       "      <td>0</td>\n",
       "      <td>0</td>\n",
       "      <td>Residential</td>\n",
       "      <td>Wed May 21 00:00:00 EDT 2008</td>\n",
       "      <td>445000</td>\n",
       "      <td>38.420338</td>\n",
       "      <td>-121.363757</td>\n",
       "    </tr>\n",
       "    <tr>\n",
       "      <th>153</th>\n",
       "      <td>868 HILDEBRAND CIR</td>\n",
       "      <td>FOLSOM</td>\n",
       "      <td>95630</td>\n",
       "      <td>CA</td>\n",
       "      <td>0</td>\n",
       "      <td>0</td>\n",
       "      <td>0</td>\n",
       "      <td>Residential</td>\n",
       "      <td>Wed May 21 00:00:00 EDT 2008</td>\n",
       "      <td>585000</td>\n",
       "      <td>38.670947</td>\n",
       "      <td>-121.097727</td>\n",
       "    </tr>\n",
       "    <tr>\n",
       "      <th>169</th>\n",
       "      <td>14788 NATCHEZ CT</td>\n",
       "      <td>RANCHO MURIETA</td>\n",
       "      <td>95683</td>\n",
       "      <td>CA</td>\n",
       "      <td>0</td>\n",
       "      <td>0</td>\n",
       "      <td>0</td>\n",
       "      <td>Residential</td>\n",
       "      <td>Tue May 20 00:00:00 EDT 2008</td>\n",
       "      <td>97750</td>\n",
       "      <td>38.492287</td>\n",
       "      <td>-121.100032</td>\n",
       "    </tr>\n",
       "    <tr>\n",
       "      <th>192</th>\n",
       "      <td>5201 LAGUNA OAKS DR Unit 126</td>\n",
       "      <td>ELK GROVE</td>\n",
       "      <td>95758</td>\n",
       "      <td>CA</td>\n",
       "      <td>0</td>\n",
       "      <td>0</td>\n",
       "      <td>0</td>\n",
       "      <td>Condo</td>\n",
       "      <td>Tue May 20 00:00:00 EDT 2008</td>\n",
       "      <td>145000</td>\n",
       "      <td>38.423251</td>\n",
       "      <td>-121.444489</td>\n",
       "    </tr>\n",
       "    <tr>\n",
       "      <th>234</th>\n",
       "      <td>3139 SPOONWOOD WAY Unit 1</td>\n",
       "      <td>SACRAMENTO</td>\n",
       "      <td>95833</td>\n",
       "      <td>CA</td>\n",
       "      <td>0</td>\n",
       "      <td>0</td>\n",
       "      <td>0</td>\n",
       "      <td>Residential</td>\n",
       "      <td>Tue May 20 00:00:00 EDT 2008</td>\n",
       "      <td>215500</td>\n",
       "      <td>38.626582</td>\n",
       "      <td>-121.521510</td>\n",
       "    </tr>\n",
       "    <tr>\n",
       "      <th>236</th>\n",
       "      <td>2340 HURLEY WAY</td>\n",
       "      <td>SACRAMENTO</td>\n",
       "      <td>95825</td>\n",
       "      <td>CA</td>\n",
       "      <td>0</td>\n",
       "      <td>0</td>\n",
       "      <td>0</td>\n",
       "      <td>Condo</td>\n",
       "      <td>Tue May 20 00:00:00 EDT 2008</td>\n",
       "      <td>225000</td>\n",
       "      <td>38.588816</td>\n",
       "      <td>-121.408549</td>\n",
       "    </tr>\n",
       "    <tr>\n",
       "      <th>248</th>\n",
       "      <td>611 BLOSSOM ROCK LN</td>\n",
       "      <td>FOLSOM</td>\n",
       "      <td>95630</td>\n",
       "      <td>CA</td>\n",
       "      <td>0</td>\n",
       "      <td>0</td>\n",
       "      <td>0</td>\n",
       "      <td>Condo</td>\n",
       "      <td>Tue May 20 00:00:00 EDT 2008</td>\n",
       "      <td>240000</td>\n",
       "      <td>38.645700</td>\n",
       "      <td>-121.119700</td>\n",
       "    </tr>\n",
       "    <tr>\n",
       "      <th>249</th>\n",
       "      <td>8830 ADUR RD</td>\n",
       "      <td>ELK GROVE</td>\n",
       "      <td>95624</td>\n",
       "      <td>CA</td>\n",
       "      <td>0</td>\n",
       "      <td>0</td>\n",
       "      <td>0</td>\n",
       "      <td>Residential</td>\n",
       "      <td>Tue May 20 00:00:00 EDT 2008</td>\n",
       "      <td>242000</td>\n",
       "      <td>38.437420</td>\n",
       "      <td>-121.372876</td>\n",
       "    </tr>\n",
       "    <tr>\n",
       "      <th>253</th>\n",
       "      <td>221 PICASSO CIR</td>\n",
       "      <td>SACRAMENTO</td>\n",
       "      <td>95835</td>\n",
       "      <td>CA</td>\n",
       "      <td>0</td>\n",
       "      <td>0</td>\n",
       "      <td>0</td>\n",
       "      <td>Residential</td>\n",
       "      <td>Tue May 20 00:00:00 EDT 2008</td>\n",
       "      <td>250000</td>\n",
       "      <td>38.676658</td>\n",
       "      <td>-121.528128</td>\n",
       "    </tr>\n",
       "    <tr>\n",
       "      <th>265</th>\n",
       "      <td>230 BANKSIDE WAY</td>\n",
       "      <td>SACRAMENTO</td>\n",
       "      <td>95835</td>\n",
       "      <td>CA</td>\n",
       "      <td>0</td>\n",
       "      <td>0</td>\n",
       "      <td>0</td>\n",
       "      <td>Residential</td>\n",
       "      <td>Tue May 20 00:00:00 EDT 2008</td>\n",
       "      <td>270000</td>\n",
       "      <td>38.676937</td>\n",
       "      <td>-121.529244</td>\n",
       "    </tr>\n",
       "    <tr>\n",
       "      <th>268</th>\n",
       "      <td>4236 ADRIATIC SEA WAY</td>\n",
       "      <td>SACRAMENTO</td>\n",
       "      <td>95834</td>\n",
       "      <td>CA</td>\n",
       "      <td>0</td>\n",
       "      <td>0</td>\n",
       "      <td>0</td>\n",
       "      <td>Residential</td>\n",
       "      <td>Tue May 20 00:00:00 EDT 2008</td>\n",
       "      <td>270000</td>\n",
       "      <td>38.647961</td>\n",
       "      <td>-121.543162</td>\n",
       "    </tr>\n",
       "    <tr>\n",
       "      <th>279</th>\n",
       "      <td>11281 STANFORD COURT LN Unit 604</td>\n",
       "      <td>GOLD RIVER</td>\n",
       "      <td>95670</td>\n",
       "      <td>CA</td>\n",
       "      <td>0</td>\n",
       "      <td>0</td>\n",
       "      <td>0</td>\n",
       "      <td>Condo</td>\n",
       "      <td>Tue May 20 00:00:00 EDT 2008</td>\n",
       "      <td>300000</td>\n",
       "      <td>38.625289</td>\n",
       "      <td>-121.260286</td>\n",
       "    </tr>\n",
       "    <tr>\n",
       "      <th>285</th>\n",
       "      <td>3224 PARKHAM DR</td>\n",
       "      <td>ROSEVILLE</td>\n",
       "      <td>95747</td>\n",
       "      <td>CA</td>\n",
       "      <td>0</td>\n",
       "      <td>0</td>\n",
       "      <td>0</td>\n",
       "      <td>Residential</td>\n",
       "      <td>Tue May 20 00:00:00 EDT 2008</td>\n",
       "      <td>306500</td>\n",
       "      <td>38.772771</td>\n",
       "      <td>-121.364877</td>\n",
       "    </tr>\n",
       "    <tr>\n",
       "      <th>286</th>\n",
       "      <td>15 VANESSA PL</td>\n",
       "      <td>SACRAMENTO</td>\n",
       "      <td>95835</td>\n",
       "      <td>CA</td>\n",
       "      <td>0</td>\n",
       "      <td>0</td>\n",
       "      <td>0</td>\n",
       "      <td>Residential</td>\n",
       "      <td>Tue May 20 00:00:00 EDT 2008</td>\n",
       "      <td>312500</td>\n",
       "      <td>38.668692</td>\n",
       "      <td>-121.545490</td>\n",
       "    </tr>\n",
       "    <tr>\n",
       "      <th>308</th>\n",
       "      <td>5404 ALMOND FALLS WAY</td>\n",
       "      <td>RANCHO CORDOVA</td>\n",
       "      <td>95742</td>\n",
       "      <td>CA</td>\n",
       "      <td>0</td>\n",
       "      <td>0</td>\n",
       "      <td>0</td>\n",
       "      <td>Residential</td>\n",
       "      <td>Tue May 20 00:00:00 EDT 2008</td>\n",
       "      <td>425000</td>\n",
       "      <td>38.527502</td>\n",
       "      <td>-121.233492</td>\n",
       "    </tr>\n",
       "    <tr>\n",
       "      <th>310</th>\n",
       "      <td>14 CASA VATONI PL</td>\n",
       "      <td>SACRAMENTO</td>\n",
       "      <td>95834</td>\n",
       "      <td>CA</td>\n",
       "      <td>0</td>\n",
       "      <td>0</td>\n",
       "      <td>0</td>\n",
       "      <td>Residential</td>\n",
       "      <td>Tue May 20 00:00:00 EDT 2008</td>\n",
       "      <td>433500</td>\n",
       "      <td>38.650221</td>\n",
       "      <td>-121.551704</td>\n",
       "    </tr>\n",
       "    <tr>\n",
       "      <th>324</th>\n",
       "      <td>201 FIRESTONE DR</td>\n",
       "      <td>ROSEVILLE</td>\n",
       "      <td>95678</td>\n",
       "      <td>CA</td>\n",
       "      <td>0</td>\n",
       "      <td>0</td>\n",
       "      <td>0</td>\n",
       "      <td>Residential</td>\n",
       "      <td>Tue May 20 00:00:00 EDT 2008</td>\n",
       "      <td>500500</td>\n",
       "      <td>38.770153</td>\n",
       "      <td>-121.300039</td>\n",
       "    </tr>\n",
       "    <tr>\n",
       "      <th>326</th>\n",
       "      <td>2733 DANA LOOP</td>\n",
       "      <td>EL DORADO HILLS</td>\n",
       "      <td>95762</td>\n",
       "      <td>CA</td>\n",
       "      <td>0</td>\n",
       "      <td>0</td>\n",
       "      <td>0</td>\n",
       "      <td>Residential</td>\n",
       "      <td>Tue May 20 00:00:00 EDT 2008</td>\n",
       "      <td>541000</td>\n",
       "      <td>38.628459</td>\n",
       "      <td>-121.055078</td>\n",
       "    </tr>\n",
       "    <tr>\n",
       "      <th>327</th>\n",
       "      <td>9741 SADDLEBRED CT</td>\n",
       "      <td>WILTON</td>\n",
       "      <td>95693</td>\n",
       "      <td>CA</td>\n",
       "      <td>0</td>\n",
       "      <td>0</td>\n",
       "      <td>0</td>\n",
       "      <td>Residential</td>\n",
       "      <td>Tue May 20 00:00:00 EDT 2008</td>\n",
       "      <td>560000</td>\n",
       "      <td>38.408841</td>\n",
       "      <td>-121.198039</td>\n",
       "    </tr>\n",
       "    <tr>\n",
       "      <th>469</th>\n",
       "      <td>8491 CRYSTAL WALK CIR</td>\n",
       "      <td>ELK GROVE</td>\n",
       "      <td>95758</td>\n",
       "      <td>CA</td>\n",
       "      <td>0</td>\n",
       "      <td>0</td>\n",
       "      <td>0</td>\n",
       "      <td>Residential</td>\n",
       "      <td>Mon May 19 00:00:00 EDT 2008</td>\n",
       "      <td>261000</td>\n",
       "      <td>38.416916</td>\n",
       "      <td>-121.407554</td>\n",
       "    </tr>\n",
       "    <tr>\n",
       "      <th>477</th>\n",
       "      <td>6286 LONETREE BLVD</td>\n",
       "      <td>ROCKLIN</td>\n",
       "      <td>95765</td>\n",
       "      <td>CA</td>\n",
       "      <td>0</td>\n",
       "      <td>0</td>\n",
       "      <td>0</td>\n",
       "      <td>Residential</td>\n",
       "      <td>Mon May 19 00:00:00 EDT 2008</td>\n",
       "      <td>274500</td>\n",
       "      <td>38.805036</td>\n",
       "      <td>-121.293608</td>\n",
       "    </tr>\n",
       "    <tr>\n",
       "      <th>494</th>\n",
       "      <td>3072 VILLAGE PLAZA DR</td>\n",
       "      <td>ROSEVILLE</td>\n",
       "      <td>95747</td>\n",
       "      <td>CA</td>\n",
       "      <td>0</td>\n",
       "      <td>0</td>\n",
       "      <td>0</td>\n",
       "      <td>Residential</td>\n",
       "      <td>Mon May 19 00:00:00 EDT 2008</td>\n",
       "      <td>307000</td>\n",
       "      <td>38.773094</td>\n",
       "      <td>-121.365905</td>\n",
       "    </tr>\n",
       "    <tr>\n",
       "      <th>503</th>\n",
       "      <td>12241 CANYONLANDS DR</td>\n",
       "      <td>RANCHO CORDOVA</td>\n",
       "      <td>95742</td>\n",
       "      <td>CA</td>\n",
       "      <td>0</td>\n",
       "      <td>0</td>\n",
       "      <td>0</td>\n",
       "      <td>Residential</td>\n",
       "      <td>Mon May 19 00:00:00 EDT 2008</td>\n",
       "      <td>331500</td>\n",
       "      <td>38.557293</td>\n",
       "      <td>-121.217611</td>\n",
       "    </tr>\n",
       "    <tr>\n",
       "      <th>505</th>\n",
       "      <td>907 RIO ROBLES AVE</td>\n",
       "      <td>SACRAMENTO</td>\n",
       "      <td>95838</td>\n",
       "      <td>CA</td>\n",
       "      <td>0</td>\n",
       "      <td>0</td>\n",
       "      <td>0</td>\n",
       "      <td>Residential</td>\n",
       "      <td>Mon May 19 00:00:00 EDT 2008</td>\n",
       "      <td>344755</td>\n",
       "      <td>38.664765</td>\n",
       "      <td>-121.445006</td>\n",
       "    </tr>\n",
       "    <tr>\n",
       "      <th>...</th>\n",
       "      <td>...</td>\n",
       "      <td>...</td>\n",
       "      <td>...</td>\n",
       "      <td>...</td>\n",
       "      <td>...</td>\n",
       "      <td>...</td>\n",
       "      <td>...</td>\n",
       "      <td>...</td>\n",
       "      <td>...</td>\n",
       "      <td>...</td>\n",
       "      <td>...</td>\n",
       "      <td>...</td>\n",
       "    </tr>\n",
       "    <tr>\n",
       "      <th>600</th>\n",
       "      <td>7 CRYSTALWOOD CIR</td>\n",
       "      <td>LINCOLN</td>\n",
       "      <td>95648</td>\n",
       "      <td>CA</td>\n",
       "      <td>0</td>\n",
       "      <td>0</td>\n",
       "      <td>0</td>\n",
       "      <td>Residential</td>\n",
       "      <td>Mon May 19 00:00:00 EDT 2008</td>\n",
       "      <td>4897</td>\n",
       "      <td>38.885962</td>\n",
       "      <td>-121.289436</td>\n",
       "    </tr>\n",
       "    <tr>\n",
       "      <th>601</th>\n",
       "      <td>7 CRYSTALWOOD CIR</td>\n",
       "      <td>LINCOLN</td>\n",
       "      <td>95648</td>\n",
       "      <td>CA</td>\n",
       "      <td>0</td>\n",
       "      <td>0</td>\n",
       "      <td>0</td>\n",
       "      <td>Residential</td>\n",
       "      <td>Mon May 19 00:00:00 EDT 2008</td>\n",
       "      <td>4897</td>\n",
       "      <td>38.885962</td>\n",
       "      <td>-121.289436</td>\n",
       "    </tr>\n",
       "    <tr>\n",
       "      <th>602</th>\n",
       "      <td>3 CRYSTALWOOD CIR</td>\n",
       "      <td>LINCOLN</td>\n",
       "      <td>95648</td>\n",
       "      <td>CA</td>\n",
       "      <td>0</td>\n",
       "      <td>0</td>\n",
       "      <td>0</td>\n",
       "      <td>Residential</td>\n",
       "      <td>Mon May 19 00:00:00 EDT 2008</td>\n",
       "      <td>4897</td>\n",
       "      <td>38.886093</td>\n",
       "      <td>-121.289584</td>\n",
       "    </tr>\n",
       "    <tr>\n",
       "      <th>604</th>\n",
       "      <td>113 RINETTI WAY</td>\n",
       "      <td>RIO LINDA</td>\n",
       "      <td>95673</td>\n",
       "      <td>CA</td>\n",
       "      <td>0</td>\n",
       "      <td>0</td>\n",
       "      <td>0</td>\n",
       "      <td>Residential</td>\n",
       "      <td>Fri May 16 00:00:00 EDT 2008</td>\n",
       "      <td>30000</td>\n",
       "      <td>38.687172</td>\n",
       "      <td>-121.463933</td>\n",
       "    </tr>\n",
       "    <tr>\n",
       "      <th>686</th>\n",
       "      <td>5890 TT TRAK</td>\n",
       "      <td>FORESTHILL</td>\n",
       "      <td>95631</td>\n",
       "      <td>CA</td>\n",
       "      <td>0</td>\n",
       "      <td>0</td>\n",
       "      <td>0</td>\n",
       "      <td>Residential</td>\n",
       "      <td>Fri May 16 00:00:00 EDT 2008</td>\n",
       "      <td>194818</td>\n",
       "      <td>39.020808</td>\n",
       "      <td>-120.821518</td>\n",
       "    </tr>\n",
       "    <tr>\n",
       "      <th>718</th>\n",
       "      <td>9967 HATHERTON WAY</td>\n",
       "      <td>ELK GROVE</td>\n",
       "      <td>95757</td>\n",
       "      <td>CA</td>\n",
       "      <td>0</td>\n",
       "      <td>0</td>\n",
       "      <td>0</td>\n",
       "      <td>Residential</td>\n",
       "      <td>Fri May 16 00:00:00 EDT 2008</td>\n",
       "      <td>222500</td>\n",
       "      <td>38.305200</td>\n",
       "      <td>-121.403300</td>\n",
       "    </tr>\n",
       "    <tr>\n",
       "      <th>737</th>\n",
       "      <td>3569 SODA WAY</td>\n",
       "      <td>SACRAMENTO</td>\n",
       "      <td>95834</td>\n",
       "      <td>CA</td>\n",
       "      <td>0</td>\n",
       "      <td>0</td>\n",
       "      <td>0</td>\n",
       "      <td>Residential</td>\n",
       "      <td>Fri May 16 00:00:00 EDT 2008</td>\n",
       "      <td>247000</td>\n",
       "      <td>38.631139</td>\n",
       "      <td>-121.501879</td>\n",
       "    </tr>\n",
       "    <tr>\n",
       "      <th>743</th>\n",
       "      <td>6288 LONETREE BLVD</td>\n",
       "      <td>ROCKLIN</td>\n",
       "      <td>95765</td>\n",
       "      <td>CA</td>\n",
       "      <td>0</td>\n",
       "      <td>0</td>\n",
       "      <td>0</td>\n",
       "      <td>Residential</td>\n",
       "      <td>Fri May 16 00:00:00 EDT 2008</td>\n",
       "      <td>250000</td>\n",
       "      <td>38.804993</td>\n",
       "      <td>-121.293609</td>\n",
       "    </tr>\n",
       "    <tr>\n",
       "      <th>754</th>\n",
       "      <td>6001 SHOO FLY RD</td>\n",
       "      <td>PLACERVILLE</td>\n",
       "      <td>95667</td>\n",
       "      <td>CA</td>\n",
       "      <td>0</td>\n",
       "      <td>0</td>\n",
       "      <td>0</td>\n",
       "      <td>Residential</td>\n",
       "      <td>Fri May 16 00:00:00 EDT 2008</td>\n",
       "      <td>270000</td>\n",
       "      <td>38.813546</td>\n",
       "      <td>-120.809254</td>\n",
       "    </tr>\n",
       "    <tr>\n",
       "      <th>755</th>\n",
       "      <td>3040 PARKHAM DR</td>\n",
       "      <td>ROSEVILLE</td>\n",
       "      <td>95747</td>\n",
       "      <td>CA</td>\n",
       "      <td>0</td>\n",
       "      <td>0</td>\n",
       "      <td>0</td>\n",
       "      <td>Residential</td>\n",
       "      <td>Fri May 16 00:00:00 EDT 2008</td>\n",
       "      <td>271000</td>\n",
       "      <td>38.770835</td>\n",
       "      <td>-121.366996</td>\n",
       "    </tr>\n",
       "    <tr>\n",
       "      <th>757</th>\n",
       "      <td>6007 MARYBELLE LN</td>\n",
       "      <td>SHINGLE SPRINGS</td>\n",
       "      <td>95682</td>\n",
       "      <td>CA</td>\n",
       "      <td>0</td>\n",
       "      <td>0</td>\n",
       "      <td>0</td>\n",
       "      <td>Unkown</td>\n",
       "      <td>Fri May 16 00:00:00 EDT 2008</td>\n",
       "      <td>275000</td>\n",
       "      <td>38.643470</td>\n",
       "      <td>-120.888183</td>\n",
       "    </tr>\n",
       "    <tr>\n",
       "      <th>774</th>\n",
       "      <td>8253 KEEGAN WAY</td>\n",
       "      <td>ELK GROVE</td>\n",
       "      <td>95624</td>\n",
       "      <td>CA</td>\n",
       "      <td>0</td>\n",
       "      <td>0</td>\n",
       "      <td>0</td>\n",
       "      <td>Residential</td>\n",
       "      <td>Fri May 16 00:00:00 EDT 2008</td>\n",
       "      <td>298000</td>\n",
       "      <td>38.446286</td>\n",
       "      <td>-121.400817</td>\n",
       "    </tr>\n",
       "    <tr>\n",
       "      <th>789</th>\n",
       "      <td>5222 COPPER SUNSET WAY</td>\n",
       "      <td>RANCHO CORDOVA</td>\n",
       "      <td>95742</td>\n",
       "      <td>CA</td>\n",
       "      <td>0</td>\n",
       "      <td>0</td>\n",
       "      <td>0</td>\n",
       "      <td>Residential</td>\n",
       "      <td>Fri May 16 00:00:00 EDT 2008</td>\n",
       "      <td>313000</td>\n",
       "      <td>38.529181</td>\n",
       "      <td>-121.224755</td>\n",
       "    </tr>\n",
       "    <tr>\n",
       "      <th>798</th>\n",
       "      <td>3232 PARKHAM DR</td>\n",
       "      <td>ROSEVILLE</td>\n",
       "      <td>95747</td>\n",
       "      <td>CA</td>\n",
       "      <td>0</td>\n",
       "      <td>0</td>\n",
       "      <td>0</td>\n",
       "      <td>Residential</td>\n",
       "      <td>Fri May 16 00:00:00 EDT 2008</td>\n",
       "      <td>325500</td>\n",
       "      <td>38.772821</td>\n",
       "      <td>-121.364821</td>\n",
       "    </tr>\n",
       "    <tr>\n",
       "      <th>819</th>\n",
       "      <td>2274 IVY BRIDGE DR</td>\n",
       "      <td>ROSEVILLE</td>\n",
       "      <td>95747</td>\n",
       "      <td>CA</td>\n",
       "      <td>0</td>\n",
       "      <td>0</td>\n",
       "      <td>0</td>\n",
       "      <td>Residential</td>\n",
       "      <td>Fri May 16 00:00:00 EDT 2008</td>\n",
       "      <td>375000</td>\n",
       "      <td>38.778561</td>\n",
       "      <td>-121.362008</td>\n",
       "    </tr>\n",
       "    <tr>\n",
       "      <th>823</th>\n",
       "      <td>201 KIRKLAND CT</td>\n",
       "      <td>LINCOLN</td>\n",
       "      <td>95648</td>\n",
       "      <td>CA</td>\n",
       "      <td>0</td>\n",
       "      <td>0</td>\n",
       "      <td>0</td>\n",
       "      <td>Residential</td>\n",
       "      <td>Fri May 16 00:00:00 EDT 2008</td>\n",
       "      <td>389000</td>\n",
       "      <td>38.867125</td>\n",
       "      <td>-121.319085</td>\n",
       "    </tr>\n",
       "    <tr>\n",
       "      <th>824</th>\n",
       "      <td>12075 APPLESBURY CT</td>\n",
       "      <td>RANCHO CORDOVA</td>\n",
       "      <td>95742</td>\n",
       "      <td>CA</td>\n",
       "      <td>0</td>\n",
       "      <td>0</td>\n",
       "      <td>0</td>\n",
       "      <td>Residential</td>\n",
       "      <td>Fri May 16 00:00:00 EDT 2008</td>\n",
       "      <td>390000</td>\n",
       "      <td>38.535700</td>\n",
       "      <td>-121.224900</td>\n",
       "    </tr>\n",
       "    <tr>\n",
       "      <th>826</th>\n",
       "      <td>5420 ALMOND FALLS WAY</td>\n",
       "      <td>RANCHO CORDOVA</td>\n",
       "      <td>95742</td>\n",
       "      <td>CA</td>\n",
       "      <td>0</td>\n",
       "      <td>0</td>\n",
       "      <td>0</td>\n",
       "      <td>Residential</td>\n",
       "      <td>Fri May 16 00:00:00 EDT 2008</td>\n",
       "      <td>396000</td>\n",
       "      <td>38.527384</td>\n",
       "      <td>-121.233531</td>\n",
       "    </tr>\n",
       "    <tr>\n",
       "      <th>828</th>\n",
       "      <td>1515 EL CAMINO VERDE DR</td>\n",
       "      <td>LINCOLN</td>\n",
       "      <td>95648</td>\n",
       "      <td>CA</td>\n",
       "      <td>0</td>\n",
       "      <td>0</td>\n",
       "      <td>0</td>\n",
       "      <td>Residential</td>\n",
       "      <td>Fri May 16 00:00:00 EDT 2008</td>\n",
       "      <td>400000</td>\n",
       "      <td>38.904869</td>\n",
       "      <td>-121.320750</td>\n",
       "    </tr>\n",
       "    <tr>\n",
       "      <th>836</th>\n",
       "      <td>1536 STONEY CROSS LN</td>\n",
       "      <td>LINCOLN</td>\n",
       "      <td>95648</td>\n",
       "      <td>CA</td>\n",
       "      <td>0</td>\n",
       "      <td>0</td>\n",
       "      <td>0</td>\n",
       "      <td>Residential</td>\n",
       "      <td>Fri May 16 00:00:00 EDT 2008</td>\n",
       "      <td>433500</td>\n",
       "      <td>38.860007</td>\n",
       "      <td>-121.310946</td>\n",
       "    </tr>\n",
       "    <tr>\n",
       "      <th>848</th>\n",
       "      <td>200 HILLSFORD CT</td>\n",
       "      <td>ROSEVILLE</td>\n",
       "      <td>95747</td>\n",
       "      <td>CA</td>\n",
       "      <td>0</td>\n",
       "      <td>0</td>\n",
       "      <td>0</td>\n",
       "      <td>Residential</td>\n",
       "      <td>Fri May 16 00:00:00 EDT 2008</td>\n",
       "      <td>511000</td>\n",
       "      <td>38.780051</td>\n",
       "      <td>-121.378718</td>\n",
       "    </tr>\n",
       "    <tr>\n",
       "      <th>859</th>\n",
       "      <td>4478 GREENBRAE RD</td>\n",
       "      <td>ROCKLIN</td>\n",
       "      <td>95677</td>\n",
       "      <td>CA</td>\n",
       "      <td>0</td>\n",
       "      <td>0</td>\n",
       "      <td>0</td>\n",
       "      <td>Residential</td>\n",
       "      <td>Fri May 16 00:00:00 EDT 2008</td>\n",
       "      <td>600000</td>\n",
       "      <td>38.781134</td>\n",
       "      <td>-121.222801</td>\n",
       "    </tr>\n",
       "    <tr>\n",
       "      <th>861</th>\n",
       "      <td>200 CRADLE MOUNTAIN CT</td>\n",
       "      <td>EL DORADO HILLS</td>\n",
       "      <td>95762</td>\n",
       "      <td>CA</td>\n",
       "      <td>0</td>\n",
       "      <td>0</td>\n",
       "      <td>0</td>\n",
       "      <td>Residential</td>\n",
       "      <td>Fri May 16 00:00:00 EDT 2008</td>\n",
       "      <td>622500</td>\n",
       "      <td>38.647800</td>\n",
       "      <td>-121.030900</td>\n",
       "    </tr>\n",
       "    <tr>\n",
       "      <th>862</th>\n",
       "      <td>2065 IMPRESSIONIST WAY</td>\n",
       "      <td>EL DORADO HILLS</td>\n",
       "      <td>95762</td>\n",
       "      <td>CA</td>\n",
       "      <td>0</td>\n",
       "      <td>0</td>\n",
       "      <td>0</td>\n",
       "      <td>Residential</td>\n",
       "      <td>Fri May 16 00:00:00 EDT 2008</td>\n",
       "      <td>680000</td>\n",
       "      <td>38.682961</td>\n",
       "      <td>-121.033253</td>\n",
       "    </tr>\n",
       "    <tr>\n",
       "      <th>888</th>\n",
       "      <td>3035 ESTEPA DR Unit 5C</td>\n",
       "      <td>CAMERON PARK</td>\n",
       "      <td>95682</td>\n",
       "      <td>CA</td>\n",
       "      <td>0</td>\n",
       "      <td>0</td>\n",
       "      <td>0</td>\n",
       "      <td>Condo</td>\n",
       "      <td>Thu May 15 00:00:00 EDT 2008</td>\n",
       "      <td>119000</td>\n",
       "      <td>38.681393</td>\n",
       "      <td>-120.996713</td>\n",
       "    </tr>\n",
       "    <tr>\n",
       "      <th>901</th>\n",
       "      <td>1530 TOPANGA LN Unit 204</td>\n",
       "      <td>LINCOLN</td>\n",
       "      <td>95648</td>\n",
       "      <td>CA</td>\n",
       "      <td>0</td>\n",
       "      <td>0</td>\n",
       "      <td>0</td>\n",
       "      <td>Condo</td>\n",
       "      <td>Thu May 15 00:00:00 EDT 2008</td>\n",
       "      <td>138000</td>\n",
       "      <td>38.884150</td>\n",
       "      <td>-121.270277</td>\n",
       "    </tr>\n",
       "    <tr>\n",
       "      <th>917</th>\n",
       "      <td>501 POPLAR AVE</td>\n",
       "      <td>WEST SACRAMENTO</td>\n",
       "      <td>95691</td>\n",
       "      <td>CA</td>\n",
       "      <td>0</td>\n",
       "      <td>0</td>\n",
       "      <td>0</td>\n",
       "      <td>Residential</td>\n",
       "      <td>Thu May 15 00:00:00 EDT 2008</td>\n",
       "      <td>165000</td>\n",
       "      <td>38.584526</td>\n",
       "      <td>-121.534609</td>\n",
       "    </tr>\n",
       "    <tr>\n",
       "      <th>934</th>\n",
       "      <td>1550 TOPANGA LN Unit 207</td>\n",
       "      <td>LINCOLN</td>\n",
       "      <td>95648</td>\n",
       "      <td>CA</td>\n",
       "      <td>0</td>\n",
       "      <td>0</td>\n",
       "      <td>0</td>\n",
       "      <td>Condo</td>\n",
       "      <td>Thu May 15 00:00:00 EDT 2008</td>\n",
       "      <td>188000</td>\n",
       "      <td>38.884170</td>\n",
       "      <td>-121.270222</td>\n",
       "    </tr>\n",
       "    <tr>\n",
       "      <th>947</th>\n",
       "      <td>1525 PENNSYLVANIA AVE</td>\n",
       "      <td>WEST SACRAMENTO</td>\n",
       "      <td>95691</td>\n",
       "      <td>CA</td>\n",
       "      <td>0</td>\n",
       "      <td>0</td>\n",
       "      <td>0</td>\n",
       "      <td>Residential</td>\n",
       "      <td>Thu May 15 00:00:00 EDT 2008</td>\n",
       "      <td>200100</td>\n",
       "      <td>38.569943</td>\n",
       "      <td>-121.527539</td>\n",
       "    </tr>\n",
       "    <tr>\n",
       "      <th>970</th>\n",
       "      <td>3557 SODA WAY</td>\n",
       "      <td>SACRAMENTO</td>\n",
       "      <td>95834</td>\n",
       "      <td>CA</td>\n",
       "      <td>0</td>\n",
       "      <td>0</td>\n",
       "      <td>0</td>\n",
       "      <td>Residential</td>\n",
       "      <td>Thu May 15 00:00:00 EDT 2008</td>\n",
       "      <td>224000</td>\n",
       "      <td>38.631026</td>\n",
       "      <td>-121.501879</td>\n",
       "    </tr>\n",
       "  </tbody>\n",
       "</table>\n",
       "<p>108 rows × 12 columns</p>\n",
       "</div>"
      ],
      "text/plain": [
       "                               street             city    zip state  beds  \\\n",
       "73                      17 SERASPI CT       SACRAMENTO  95834    CA     0   \n",
       "89                   2866 KARITSA AVE       SACRAMENTO  95833    CA     0   \n",
       "100             12209 CONSERVANCY WAY   RANCHO CORDOVA  95742    CA     0   \n",
       "121               5337 DUSTY ROSE WAY   RANCHO CORDOVA  95742    CA     0   \n",
       "126               2115 SMOKESTACK WAY       SACRAMENTO  95833    CA     0   \n",
       "133                8082 LINDA ISLE LN       SACRAMENTO  95831    CA     0   \n",
       "147                     9278 DAIRY CT        ELK GROVE  95624    CA     0   \n",
       "153                868 HILDEBRAND CIR           FOLSOM  95630    CA     0   \n",
       "169                  14788 NATCHEZ CT   RANCHO MURIETA  95683    CA     0   \n",
       "192      5201 LAGUNA OAKS DR Unit 126        ELK GROVE  95758    CA     0   \n",
       "234         3139 SPOONWOOD WAY Unit 1       SACRAMENTO  95833    CA     0   \n",
       "236                   2340 HURLEY WAY       SACRAMENTO  95825    CA     0   \n",
       "248               611 BLOSSOM ROCK LN           FOLSOM  95630    CA     0   \n",
       "249                      8830 ADUR RD        ELK GROVE  95624    CA     0   \n",
       "253                   221 PICASSO CIR       SACRAMENTO  95835    CA     0   \n",
       "265                  230 BANKSIDE WAY       SACRAMENTO  95835    CA     0   \n",
       "268             4236 ADRIATIC SEA WAY       SACRAMENTO  95834    CA     0   \n",
       "279  11281 STANFORD COURT LN Unit 604       GOLD RIVER  95670    CA     0   \n",
       "285                   3224 PARKHAM DR        ROSEVILLE  95747    CA     0   \n",
       "286                     15 VANESSA PL       SACRAMENTO  95835    CA     0   \n",
       "308             5404 ALMOND FALLS WAY   RANCHO CORDOVA  95742    CA     0   \n",
       "310                 14 CASA VATONI PL       SACRAMENTO  95834    CA     0   \n",
       "324                  201 FIRESTONE DR        ROSEVILLE  95678    CA     0   \n",
       "326                    2733 DANA LOOP  EL DORADO HILLS  95762    CA     0   \n",
       "327                9741 SADDLEBRED CT           WILTON  95693    CA     0   \n",
       "469             8491 CRYSTAL WALK CIR        ELK GROVE  95758    CA     0   \n",
       "477                6286 LONETREE BLVD          ROCKLIN  95765    CA     0   \n",
       "494             3072 VILLAGE PLAZA DR        ROSEVILLE  95747    CA     0   \n",
       "503              12241 CANYONLANDS DR   RANCHO CORDOVA  95742    CA     0   \n",
       "505                907 RIO ROBLES AVE       SACRAMENTO  95838    CA     0   \n",
       "..                                ...              ...    ...   ...   ...   \n",
       "600                 7 CRYSTALWOOD CIR          LINCOLN  95648    CA     0   \n",
       "601                 7 CRYSTALWOOD CIR          LINCOLN  95648    CA     0   \n",
       "602                 3 CRYSTALWOOD CIR          LINCOLN  95648    CA     0   \n",
       "604                   113 RINETTI WAY        RIO LINDA  95673    CA     0   \n",
       "686                      5890 TT TRAK       FORESTHILL  95631    CA     0   \n",
       "718                9967 HATHERTON WAY        ELK GROVE  95757    CA     0   \n",
       "737                     3569 SODA WAY       SACRAMENTO  95834    CA     0   \n",
       "743                6288 LONETREE BLVD          ROCKLIN  95765    CA     0   \n",
       "754                  6001 SHOO FLY RD      PLACERVILLE  95667    CA     0   \n",
       "755                   3040 PARKHAM DR        ROSEVILLE  95747    CA     0   \n",
       "757                 6007 MARYBELLE LN  SHINGLE SPRINGS  95682    CA     0   \n",
       "774                   8253 KEEGAN WAY        ELK GROVE  95624    CA     0   \n",
       "789            5222 COPPER SUNSET WAY   RANCHO CORDOVA  95742    CA     0   \n",
       "798                   3232 PARKHAM DR        ROSEVILLE  95747    CA     0   \n",
       "819                2274 IVY BRIDGE DR        ROSEVILLE  95747    CA     0   \n",
       "823                   201 KIRKLAND CT          LINCOLN  95648    CA     0   \n",
       "824               12075 APPLESBURY CT   RANCHO CORDOVA  95742    CA     0   \n",
       "826             5420 ALMOND FALLS WAY   RANCHO CORDOVA  95742    CA     0   \n",
       "828           1515 EL CAMINO VERDE DR          LINCOLN  95648    CA     0   \n",
       "836              1536 STONEY CROSS LN          LINCOLN  95648    CA     0   \n",
       "848                  200 HILLSFORD CT        ROSEVILLE  95747    CA     0   \n",
       "859                 4478 GREENBRAE RD          ROCKLIN  95677    CA     0   \n",
       "861            200 CRADLE MOUNTAIN CT  EL DORADO HILLS  95762    CA     0   \n",
       "862            2065 IMPRESSIONIST WAY  EL DORADO HILLS  95762    CA     0   \n",
       "888            3035 ESTEPA DR Unit 5C     CAMERON PARK  95682    CA     0   \n",
       "901          1530 TOPANGA LN Unit 204          LINCOLN  95648    CA     0   \n",
       "917                    501 POPLAR AVE  WEST SACRAMENTO  95691    CA     0   \n",
       "934          1550 TOPANGA LN Unit 207          LINCOLN  95648    CA     0   \n",
       "947             1525 PENNSYLVANIA AVE  WEST SACRAMENTO  95691    CA     0   \n",
       "970                     3557 SODA WAY       SACRAMENTO  95834    CA     0   \n",
       "\n",
       "     baths  sq__ft         type                     sale_date   price  \\\n",
       "73       0       0  Residential  Wed May 21 00:00:00 EDT 2008  206000   \n",
       "89       0       0  Residential  Wed May 21 00:00:00 EDT 2008  244500   \n",
       "100      0       0  Residential  Wed May 21 00:00:00 EDT 2008  263500   \n",
       "121      0       0  Residential  Wed May 21 00:00:00 EDT 2008  320000   \n",
       "126      0       0  Residential  Wed May 21 00:00:00 EDT 2008  339500   \n",
       "133      0       0  Residential  Wed May 21 00:00:00 EDT 2008  370000   \n",
       "147      0       0  Residential  Wed May 21 00:00:00 EDT 2008  445000   \n",
       "153      0       0  Residential  Wed May 21 00:00:00 EDT 2008  585000   \n",
       "169      0       0  Residential  Tue May 20 00:00:00 EDT 2008   97750   \n",
       "192      0       0        Condo  Tue May 20 00:00:00 EDT 2008  145000   \n",
       "234      0       0  Residential  Tue May 20 00:00:00 EDT 2008  215500   \n",
       "236      0       0        Condo  Tue May 20 00:00:00 EDT 2008  225000   \n",
       "248      0       0        Condo  Tue May 20 00:00:00 EDT 2008  240000   \n",
       "249      0       0  Residential  Tue May 20 00:00:00 EDT 2008  242000   \n",
       "253      0       0  Residential  Tue May 20 00:00:00 EDT 2008  250000   \n",
       "265      0       0  Residential  Tue May 20 00:00:00 EDT 2008  270000   \n",
       "268      0       0  Residential  Tue May 20 00:00:00 EDT 2008  270000   \n",
       "279      0       0        Condo  Tue May 20 00:00:00 EDT 2008  300000   \n",
       "285      0       0  Residential  Tue May 20 00:00:00 EDT 2008  306500   \n",
       "286      0       0  Residential  Tue May 20 00:00:00 EDT 2008  312500   \n",
       "308      0       0  Residential  Tue May 20 00:00:00 EDT 2008  425000   \n",
       "310      0       0  Residential  Tue May 20 00:00:00 EDT 2008  433500   \n",
       "324      0       0  Residential  Tue May 20 00:00:00 EDT 2008  500500   \n",
       "326      0       0  Residential  Tue May 20 00:00:00 EDT 2008  541000   \n",
       "327      0       0  Residential  Tue May 20 00:00:00 EDT 2008  560000   \n",
       "469      0       0  Residential  Mon May 19 00:00:00 EDT 2008  261000   \n",
       "477      0       0  Residential  Mon May 19 00:00:00 EDT 2008  274500   \n",
       "494      0       0  Residential  Mon May 19 00:00:00 EDT 2008  307000   \n",
       "503      0       0  Residential  Mon May 19 00:00:00 EDT 2008  331500   \n",
       "505      0       0  Residential  Mon May 19 00:00:00 EDT 2008  344755   \n",
       "..     ...     ...          ...                           ...     ...   \n",
       "600      0       0  Residential  Mon May 19 00:00:00 EDT 2008    4897   \n",
       "601      0       0  Residential  Mon May 19 00:00:00 EDT 2008    4897   \n",
       "602      0       0  Residential  Mon May 19 00:00:00 EDT 2008    4897   \n",
       "604      0       0  Residential  Fri May 16 00:00:00 EDT 2008   30000   \n",
       "686      0       0  Residential  Fri May 16 00:00:00 EDT 2008  194818   \n",
       "718      0       0  Residential  Fri May 16 00:00:00 EDT 2008  222500   \n",
       "737      0       0  Residential  Fri May 16 00:00:00 EDT 2008  247000   \n",
       "743      0       0  Residential  Fri May 16 00:00:00 EDT 2008  250000   \n",
       "754      0       0  Residential  Fri May 16 00:00:00 EDT 2008  270000   \n",
       "755      0       0  Residential  Fri May 16 00:00:00 EDT 2008  271000   \n",
       "757      0       0       Unkown  Fri May 16 00:00:00 EDT 2008  275000   \n",
       "774      0       0  Residential  Fri May 16 00:00:00 EDT 2008  298000   \n",
       "789      0       0  Residential  Fri May 16 00:00:00 EDT 2008  313000   \n",
       "798      0       0  Residential  Fri May 16 00:00:00 EDT 2008  325500   \n",
       "819      0       0  Residential  Fri May 16 00:00:00 EDT 2008  375000   \n",
       "823      0       0  Residential  Fri May 16 00:00:00 EDT 2008  389000   \n",
       "824      0       0  Residential  Fri May 16 00:00:00 EDT 2008  390000   \n",
       "826      0       0  Residential  Fri May 16 00:00:00 EDT 2008  396000   \n",
       "828      0       0  Residential  Fri May 16 00:00:00 EDT 2008  400000   \n",
       "836      0       0  Residential  Fri May 16 00:00:00 EDT 2008  433500   \n",
       "848      0       0  Residential  Fri May 16 00:00:00 EDT 2008  511000   \n",
       "859      0       0  Residential  Fri May 16 00:00:00 EDT 2008  600000   \n",
       "861      0       0  Residential  Fri May 16 00:00:00 EDT 2008  622500   \n",
       "862      0       0  Residential  Fri May 16 00:00:00 EDT 2008  680000   \n",
       "888      0       0        Condo  Thu May 15 00:00:00 EDT 2008  119000   \n",
       "901      0       0        Condo  Thu May 15 00:00:00 EDT 2008  138000   \n",
       "917      0       0  Residential  Thu May 15 00:00:00 EDT 2008  165000   \n",
       "934      0       0        Condo  Thu May 15 00:00:00 EDT 2008  188000   \n",
       "947      0       0  Residential  Thu May 15 00:00:00 EDT 2008  200100   \n",
       "970      0       0  Residential  Thu May 15 00:00:00 EDT 2008  224000   \n",
       "\n",
       "      latitude   longitude  \n",
       "73   38.631481 -121.501880  \n",
       "89   38.626671 -121.525970  \n",
       "100  38.553867 -121.219141  \n",
       "121  38.528575 -121.228600  \n",
       "126  38.602416 -121.542965  \n",
       "133  38.477200 -121.521500  \n",
       "147  38.420338 -121.363757  \n",
       "153  38.670947 -121.097727  \n",
       "169  38.492287 -121.100032  \n",
       "192  38.423251 -121.444489  \n",
       "234  38.626582 -121.521510  \n",
       "236  38.588816 -121.408549  \n",
       "248  38.645700 -121.119700  \n",
       "249  38.437420 -121.372876  \n",
       "253  38.676658 -121.528128  \n",
       "265  38.676937 -121.529244  \n",
       "268  38.647961 -121.543162  \n",
       "279  38.625289 -121.260286  \n",
       "285  38.772771 -121.364877  \n",
       "286  38.668692 -121.545490  \n",
       "308  38.527502 -121.233492  \n",
       "310  38.650221 -121.551704  \n",
       "324  38.770153 -121.300039  \n",
       "326  38.628459 -121.055078  \n",
       "327  38.408841 -121.198039  \n",
       "469  38.416916 -121.407554  \n",
       "477  38.805036 -121.293608  \n",
       "494  38.773094 -121.365905  \n",
       "503  38.557293 -121.217611  \n",
       "505  38.664765 -121.445006  \n",
       "..         ...         ...  \n",
       "600  38.885962 -121.289436  \n",
       "601  38.885962 -121.289436  \n",
       "602  38.886093 -121.289584  \n",
       "604  38.687172 -121.463933  \n",
       "686  39.020808 -120.821518  \n",
       "718  38.305200 -121.403300  \n",
       "737  38.631139 -121.501879  \n",
       "743  38.804993 -121.293609  \n",
       "754  38.813546 -120.809254  \n",
       "755  38.770835 -121.366996  \n",
       "757  38.643470 -120.888183  \n",
       "774  38.446286 -121.400817  \n",
       "789  38.529181 -121.224755  \n",
       "798  38.772821 -121.364821  \n",
       "819  38.778561 -121.362008  \n",
       "823  38.867125 -121.319085  \n",
       "824  38.535700 -121.224900  \n",
       "826  38.527384 -121.233531  \n",
       "828  38.904869 -121.320750  \n",
       "836  38.860007 -121.310946  \n",
       "848  38.780051 -121.378718  \n",
       "859  38.781134 -121.222801  \n",
       "861  38.647800 -121.030900  \n",
       "862  38.682961 -121.033253  \n",
       "888  38.681393 -120.996713  \n",
       "901  38.884150 -121.270277  \n",
       "917  38.584526 -121.534609  \n",
       "934  38.884170 -121.270222  \n",
       "947  38.569943 -121.527539  \n",
       "970  38.631026 -121.501879  \n",
       "\n",
       "[108 rows x 12 columns]"
      ]
     },
     "execution_count": 21,
     "metadata": {},
     "output_type": "execute_result"
    }
   ],
   "source": [
    "data[data['beds'] == 0]"
   ]
  },
  {
   "cell_type": "code",
   "execution_count": 22,
   "metadata": {},
   "outputs": [
    {
     "data": {
      "text/plain": [
       "<matplotlib.axes._subplots.AxesSubplot at 0x1f18c6bada0>"
      ]
     },
     "execution_count": 22,
     "metadata": {},
     "output_type": "execute_result"
    },
    {
     "data": {
      "image/png": "[encoded data removed]",
      "text/plain": [
       "<Figure size 432x288 with 1 Axes>"
      ]
     },
     "metadata": {},
     "output_type": "display_data"
    }
   ],
   "source": [
    "# Types of Data\n",
    "data['type'].value_counts().plot(kind='bar')"
   ]
  },
  {
   "cell_type": "code",
   "execution_count": 23,
   "metadata": {},
   "outputs": [
    {
     "data": {
      "image/png": "[encoded data removed]",
      "text/plain": [
       "<Figure size 1080x720 with 1 Axes>"
      ]
     },
     "metadata": {},
     "output_type": "display_data"
    }
   ],
   "source": [
    "# City\n",
    "data['city'].value_counts().sort_values().plot(kind='barh', figsize=(15,10));"
   ]
  },
  {
   "cell_type": "code",
   "execution_count": 24,
   "metadata": {},
   "outputs": [],
   "source": [
    "# Create another type which have 0 beds, baths, sqft"
   ]
  },
  {
   "cell_type": "code",
   "execution_count": 25,
   "metadata": {},
   "outputs": [],
   "source": [
    "data.loc[data['beds'] == 0, 'type'] = 'Plot'"
   ]
  },
  {
   "cell_type": "code",
   "execution_count": 26,
   "metadata": {},
   "outputs": [
    {
     "data": {
      "image/png": "[encoded data removed]",
      "text/plain": [
       "<Figure size 432x288 with 1 Axes>"
      ]
     },
     "metadata": {},
     "output_type": "display_data"
    }
   ],
   "source": [
    "data['state'].value_counts().plot(kind='bar');"
   ]
  },
  {
   "cell_type": "code",
   "execution_count": 27,
   "metadata": {},
   "outputs": [
    {
     "data": {
      "text/html": [
       "<div style=\"width:100%;\"><div style=\"position:relative;width:100%;height:0;padding-bottom:60%;\"><iframe src=\"data:text/html;charset=utf-8;base64,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\" style=\"position:absolute;width:100%;height:100%;left:0;top:0;border:none !important;\" allowfullscreen webkitallowfullscreen mozallowfullscreen></iframe></div></div>"
      ],
      "text/plain": [
       "<folium.folium.Map at 0x1f18ce69d68>"
      ]
     },
     "metadata": {},
     "output_type": "display_data"
    }
   ],
   "source": [
    "# import the library\n",
    "import folium\n",
    "import pandas as pd\n",
    "\n",
    "# Make an empty map\n",
    "# 37.76, -122.45 is the initital location of SF, USA\n",
    "m = folium.Map(location=[38.575764, -121.478851], tiles=\"Mapbox Bright\", zoom_start=10)\n",
    "\n",
    "# I can add circle/marker one by one on the map\n",
    "for i in range(0, len(data.head(1000))):\n",
    "    folium.Marker(\n",
    "        location=[data.iloc[i]['latitude'], data.iloc[i]['longitude']]\n",
    "    ).add_to(m)\n",
    "    \n",
    "display(m)"
   ]
  },
  {
   "cell_type": "markdown",
   "metadata": {},
   "source": [
    "### 2. Predict Price"
   ]
  },
  {
   "cell_type": "markdown",
   "metadata": {},
   "source": [
    "We are going to predict `price` from available information."
   ]
  },
  {
   "cell_type": "markdown",
   "metadata": {},
   "source": [
    "#### 2.1 What is the Target Variable? Why?"
   ]
  },
  {
   "cell_type": "code",
   "execution_count": 18,
   "metadata": {},
   "outputs": [],
   "source": [
    " Price is target varaible. Based on other predictor variables we'll predict price."
   ]
  },
  {
   "cell_type": "markdown",
   "metadata": {},
   "source": [
    "#### 2.2 List all possible variables which might be Predictor variable."
   ]
  },
  {
   "cell_type": "code",
   "execution_count": 29,
   "metadata": {},
   "outputs": [],
   "source": [
    "# Target Variable\n",
    "Y = data['price']"
   ]
  },
  {
   "cell_type": "code",
   "execution_count": 30,
   "metadata": {},
   "outputs": [],
   "source": [
    "# Predictor Variable\n",
    "X = data['beds']"
   ]
  },
  {
   "cell_type": "code",
   "execution_count": 31,
   "metadata": {},
   "outputs": [],
   "source": [
    "def draw_scatter_plot(X, Y):\n",
    "    ### Plot the data\n",
    "    # create a figure\n",
    "    fig = plt.figure(figsize=(15,7))\n",
    "    # get the axis of that figure\n",
    "    ax = plt.gca()\n",
    "\n",
    "    # plot a scatter plot on it with our data\n",
    "    ax.scatter(X, Y, c='b')\n",
    "\n",
    "    plt.show();"
   ]
  },
  {
   "cell_type": "code",
   "execution_count": 23,
   "metadata": {},
   "outputs": [
    {
     "data": {
      "image/png": "[encoded data removed]",
      "text/plain": [
       "<matplotlib.figure.Figure at 0x2156f95b6d8>"
      ]
     },
     "metadata": {
      "needs_background": "light"
     },
     "output_type": "display_data"
    }
   ],
   "source": [
    "# beds\n",
    "draw_scatter_plot(data['beds'], data['price'])"
   ]
  },
  {
   "cell_type": "code",
   "execution_count": 32,
   "metadata": {},
   "outputs": [
    {
     "data": {
      "image/png": "[encoded data removed]",
      "text/plain": [
       "<Figure size 1080x504 with 1 Axes>"
      ]
     },
     "metadata": {},
     "output_type": "display_data"
    }
   ],
   "source": [
    "# beds\n",
    "draw_scatter_plot(data['baths'], data['price'])"
   ]
  },
  {
   "cell_type": "code",
   "execution_count": 33,
   "metadata": {},
   "outputs": [
    {
     "data": {
      "image/png": "[encoded data removed]",
      "text/plain": [
       "<Figure size 1080x504 with 1 Axes>"
      ]
     },
     "metadata": {},
     "output_type": "display_data"
    }
   ],
   "source": [
    "# beds\n",
    "draw_scatter_plot(data['sq__ft'], data['price'])"
   ]
  },
  {
   "cell_type": "markdown",
   "metadata": {},
   "source": [
    "#### 2.2 Find correlation between variables\n",
    "\n",
    "Find correlation between variables. Which is the best predictor? Why? State your reason."
   ]
  },
  {
   "cell_type": "code",
   "execution_count": 34,
   "metadata": {},
   "outputs": [
    {
     "data": {
      "text/html": [
       "<div>\n",
       "<style scoped>\n",
       "    .dataframe tbody tr th:only-of-type {\n",
       "        vertical-align: middle;\n",
       "    }\n",
       "\n",
       "    .dataframe tbody tr th {\n",
       "        vertical-align: top;\n",
       "    }\n",
       "\n",
       "    .dataframe thead th {\n",
       "        text-align: right;\n",
       "    }\n",
       "</style>\n",
       "<table border=\"1\" class=\"dataframe\">\n",
       "  <thead>\n",
       "    <tr style=\"text-align: right;\">\n",
       "      <th></th>\n",
       "      <th>beds</th>\n",
       "      <th>baths</th>\n",
       "      <th>sq__ft</th>\n",
       "      <th>price</th>\n",
       "      <th>latitude</th>\n",
       "      <th>longitude</th>\n",
       "    </tr>\n",
       "  </thead>\n",
       "  <tbody>\n",
       "    <tr>\n",
       "      <th>beds</th>\n",
       "      <td>1.000000</td>\n",
       "      <td>0.839650</td>\n",
       "      <td>0.684041</td>\n",
       "      <td>0.342024</td>\n",
       "      <td>-0.291307</td>\n",
       "      <td>-0.053993</td>\n",
       "    </tr>\n",
       "    <tr>\n",
       "      <th>baths</th>\n",
       "      <td>0.839650</td>\n",
       "      <td>1.000000</td>\n",
       "      <td>0.665690</td>\n",
       "      <td>0.416208</td>\n",
       "      <td>-0.235792</td>\n",
       "      <td>0.016582</td>\n",
       "    </tr>\n",
       "    <tr>\n",
       "      <th>sq__ft</th>\n",
       "      <td>0.684041</td>\n",
       "      <td>0.665690</td>\n",
       "      <td>1.000000</td>\n",
       "      <td>0.333897</td>\n",
       "      <td>-0.383274</td>\n",
       "      <td>-0.177742</td>\n",
       "    </tr>\n",
       "    <tr>\n",
       "      <th>price</th>\n",
       "      <td>0.342024</td>\n",
       "      <td>0.416208</td>\n",
       "      <td>0.333897</td>\n",
       "      <td>1.000000</td>\n",
       "      <td>-0.039573</td>\n",
       "      <td>0.284485</td>\n",
       "    </tr>\n",
       "    <tr>\n",
       "      <th>latitude</th>\n",
       "      <td>-0.291307</td>\n",
       "      <td>-0.235792</td>\n",
       "      <td>-0.383274</td>\n",
       "      <td>-0.039573</td>\n",
       "      <td>1.000000</td>\n",
       "      <td>0.387925</td>\n",
       "    </tr>\n",
       "    <tr>\n",
       "      <th>longitude</th>\n",
       "      <td>-0.053993</td>\n",
       "      <td>0.016582</td>\n",
       "      <td>-0.177742</td>\n",
       "      <td>0.284485</td>\n",
       "      <td>0.387925</td>\n",
       "      <td>1.000000</td>\n",
       "    </tr>\n",
       "  </tbody>\n",
       "</table>\n",
       "</div>"
      ],
      "text/plain": [
       "               beds     baths    sq__ft     price  latitude  longitude\n",
       "beds       1.000000  0.839650  0.684041  0.342024 -0.291307  -0.053993\n",
       "baths      0.839650  1.000000  0.665690  0.416208 -0.235792   0.016582\n",
       "sq__ft     0.684041  0.665690  1.000000  0.333897 -0.383274  -0.177742\n",
       "price      0.342024  0.416208  0.333897  1.000000 -0.039573   0.284485\n",
       "latitude  -0.291307 -0.235792 -0.383274 -0.039573  1.000000   0.387925\n",
       "longitude -0.053993  0.016582 -0.177742  0.284485  0.387925   1.000000"
      ]
     },
     "execution_count": 34,
     "metadata": {},
     "output_type": "execute_result"
    }
   ],
   "source": [
    "# ANSWER\n",
    "data.corr()"
   ]
  },
  {
   "cell_type": "code",
   "execution_count": 35,
   "metadata": {},
   "outputs": [],
   "source": [
    "#sq_ft is the best predictor. sqft got stong relationship with beds, baths"
   ]
  },
  {
   "cell_type": "markdown",
   "metadata": {},
   "source": [
    "#### 2.3 What is the simplest way to predict price\n",
    "\n",
    "So we have information for 985 houses. What is the easiest way to predict price of a house?"
   ]
  },
  {
   "cell_type": "code",
   "execution_count": 36,
   "metadata": {},
   "outputs": [],
   "source": [
    "# ANSWER\n",
    "## Mean of Price\n",
    "data['y_hat'] = data['price'].mean()"
   ]
  },
  {
   "cell_type": "code",
   "execution_count": 37,
   "metadata": {},
   "outputs": [],
   "source": [
    "X = data['sq__ft']\n",
    "Y = data['price']\n",
    "Yhat = data['y_hat']"
   ]
  },
  {
   "cell_type": "code",
   "execution_count": 38,
   "metadata": {},
   "outputs": [],
   "source": [
    "def draw_plot(X, Y, Yhat):\n",
    "    ### Plot the data\n",
    "    # create a figure\n",
    "    fig = plt.figure(figsize=(15,7))\n",
    "    # get the axis of that figure\n",
    "    ax = plt.gca()\n",
    "\n",
    "    # plot a scatter plot on it with our data\n",
    "    ax.scatter(X, Y, c='b')\n",
    "    ax.plot(X, Yhat, color='r');\n",
    "\n",
    "    plt.show();"
   ]
  },
  {
   "cell_type": "code",
   "execution_count": 31,
   "metadata": {},
   "outputs": [
    {
     "data": {
      "image/png": "[encoded data removed]",
      "text/plain": [
       "<matplotlib.figure.Figure at 0x2156eec54e0>"
      ]
     },
     "metadata": {
      "needs_background": "light"
     },
     "output_type": "display_data"
    }
   ],
   "source": [
    "draw_plot(X, Y, Yhat)"
   ]
  },
  {
   "cell_type": "markdown",
   "metadata": {},
   "source": [
    "#### 2. 4 Find Resudals\n",
    "\n",
    "Find difference between actual value and predicted value. Use absolute value."
   ]
  },
  {
   "cell_type": "code",
   "execution_count": 32,
   "metadata": {},
   "outputs": [
    {
     "data": {
      "text/plain": [
       "103452.16956891476"
      ]
     },
     "execution_count": 32,
     "metadata": {},
     "output_type": "execute_result"
    }
   ],
   "source": [
    "# ANSWER\n",
    "res = abs(data['price'] - data['y_hat']).mean()\n",
    "res"
   ]
  },
  {
   "cell_type": "markdown",
   "metadata": {},
   "source": [
    "#### 2.5  Predict Using Linear Regression\n",
    "\n",
    "[Simple Linear Regression](https://en.wikipedia.org/wiki/Simple_linear_regression#Fitting_the_regression_line)\n",
    "\n",
    "### $$\\hat{y} = \\beta_0 + \\beta_1 x$$\n",
    "\n",
    "> ### $$ \\beta_1 = \\frac{\\sum_{i=1}^n (y_i - \\bar{y} ) (x_i - \\bar{x} )}{\\sum_{i=1}^n (x_i - \\bar{x})^2} $$\n",
    "\n",
    "and\n",
    "\n",
    "> ### $$ \\beta_0 = \\bar{y} - \\beta_1\\bar{x} $$\n",
    "\n",
    "Given variables:\n",
    "- $\\bar{y}$ : the sample mean of observed values $Y$\n",
    "- $\\bar{x}$ : the sample mean of observed values $X$\n",
    "- $s_Y$ : the sample standard deviation of observed values $Y$\n",
    "- $s_X$ : the sample standard deviation of observed values $X$\n",
    "- $r_{XY}$ : the sample Pearson correlation coefficient between observed $X$ and $Y$"
   ]
  },
  {
   "cell_type": "markdown",
   "metadata": {},
   "source": [
    "##### 2.5 Define X, Y\n",
    "\n",
    "- X = Predictor Variable \n",
    "- Y = Target Variable"
   ]
  },
  {
   "cell_type": "code",
   "execution_count": 39,
   "metadata": {},
   "outputs": [],
   "source": [
    "X = data['sq__ft']\n",
    "Y = data['price']"
   ]
  },
  {
   "cell_type": "markdown",
   "metadata": {},
   "source": [
    "##### 2.5.A Calculate beta_1\n",
    "\n",
    " ### $$ \\beta_1 = \\frac{\\sum_{i=1}^n (y_i - \\bar{y} ) (x_i - \\bar{x} )}{\\sum_{i=1}^n (x_i - \\bar{x})^2} $$"
   ]
  },
  {
   "cell_type": "code",
   "execution_count": 40,
   "metadata": {},
   "outputs": [],
   "source": [
    "# ANSWER\n",
    "def calculate_beta_1(X, Y):\n",
    "    Xbar = X.mean()\n",
    "    Ybar = Y.mean()\n",
    "    \n",
    "    n = np.sum((Y - Ybar) * (X - Xbar)) \n",
    "    d = np.sum(np.square(X - Xbar)) \n",
    "    \n",
    "    beta_1 = n/d\n",
    "    \n",
    "    return beta_1"
   ]
  },
  {
   "cell_type": "code",
   "execution_count": 41,
   "metadata": {},
   "outputs": [
    {
     "data": {
      "text/plain": [
       "54.158639688530755"
      ]
     },
     "execution_count": 41,
     "metadata": {},
     "output_type": "execute_result"
    }
   ],
   "source": [
    "beta_1 = calculate_beta_1(X, Y)\n",
    "beta_1"
   ]
  },
  {
   "cell_type": "markdown",
   "metadata": {},
   "source": [
    "##### 2.5.B Calculate beta_0"
   ]
  },
  {
   "cell_type": "markdown",
   "metadata": {},
   "source": [
    "### $$ \\beta_0 = \\bar{y} - \\beta_1\\bar{x} $$"
   ]
  },
  {
   "cell_type": "code",
   "execution_count": 42,
   "metadata": {},
   "outputs": [],
   "source": [
    "# ANSWER\n",
    "def calculate_beta_0(X, Y):\n",
    "    \n",
    "    Xbar = X.mean()\n",
    "    Ybar = Y.mean()\n",
    "    \n",
    "    beta_0 = Ybar - calculate_beta_1(X, Y) * Xbar\n",
    "    \n",
    "    return beta_0"
   ]
  },
  {
   "cell_type": "code",
   "execution_count": 43,
   "metadata": {},
   "outputs": [
    {
     "data": {
      "text/plain": [
       "162930.16140699777"
      ]
     },
     "execution_count": 43,
     "metadata": {},
     "output_type": "execute_result"
    }
   ],
   "source": [
    "beta_0 = calculate_beta_0(X, Y)\n",
    "beta_0"
   ]
  },
  {
   "cell_type": "markdown",
   "metadata": {},
   "source": [
    "##### 2.4.C Find Yhat (Predicted Value Using Beta 0 and Beta 1)"
   ]
  },
  {
   "cell_type": "markdown",
   "metadata": {},
   "source": [
    "### $$\\hat{y} = \\beta_0 + \\beta_1 x$$"
   ]
  },
  {
   "cell_type": "code",
   "execution_count": 44,
   "metadata": {},
   "outputs": [],
   "source": [
    "# ANSWER\n",
    "def calculate_yhat(x, b0, b1):\n",
    "    return b0 + b1 * x"
   ]
  },
  {
   "cell_type": "code",
   "execution_count": 39,
   "metadata": {},
   "outputs": [
    {
     "data": {
      "text/plain": [
       "0      208206.784187\n",
       "1      226133.293924\n",
       "2      206040.438599\n",
       "3      209073.322422\n",
       "4      206094.597239\n",
       "5      223696.155138\n",
       "6      222721.299623\n",
       "7      226674.880320\n",
       "8      213893.441354\n",
       "9      224995.962490\n",
       "10     212160.364884\n",
       "11     232740.647966\n",
       "12     210102.336576\n",
       "13     218171.973889\n",
       "14     218280.291169\n",
       "15     224346.058814\n",
       "16     208640.053304\n",
       "17     205986.279959\n",
       "18     194775.441544\n",
       "19     236369.276825\n",
       "20     223479.520579\n",
       "21     234906.993553\n",
       "22     230086.874621\n",
       "23     249638.143548\n",
       "24     211727.095766\n",
       "25     221854.761388\n",
       "26     215084.931427\n",
       "27     223533.679218\n",
       "28     237669.084177\n",
       "29     230520.143738\n",
       "           ...      \n",
       "955    237181.656420\n",
       "956    233877.979399\n",
       "957    231278.364694\n",
       "958    257166.194465\n",
       "959    245088.817814\n",
       "960    241460.188955\n",
       "961    239618.795206\n",
       "962    211023.033450\n",
       "963    264856.721301\n",
       "964    233444.710281\n",
       "965    239727.112485\n",
       "966    162930.161407\n",
       "967    234365.407156\n",
       "968    258790.953656\n",
       "969    251046.268180\n",
       "970    162930.161407\n",
       "971    219255.146683\n",
       "972    214922.455508\n",
       "973    162930.161407\n",
       "974    241785.140793\n",
       "975    241460.188955\n",
       "976    236477.594104\n",
       "977    234906.993553\n",
       "978    255812.228473\n",
       "979    231278.364694\n",
       "980    286411.859897\n",
       "981    242922.472227\n",
       "982    228787.067268\n",
       "983    254187.469282\n",
       "984    236694.228663\n",
       "Name: sq__ft, Length: 985, dtype: float64"
      ]
     },
     "execution_count": 39,
     "metadata": {},
     "output_type": "execute_result"
    }
   ],
   "source": [
    "Yhat = calculate_yhat(X, beta_0, beta_1)\n",
    "Yhat"
   ]
  },
  {
   "cell_type": "markdown",
   "metadata": {},
   "source": [
    "##### 2.5.D Find Resudals"
   ]
  },
  {
   "cell_type": "markdown",
   "metadata": {},
   "source": [
    "### $$ \\text{residual}_i = y_i - \\hat{y}_i$$"
   ]
  },
  {
   "cell_type": "code",
   "execution_count": 45,
   "metadata": {},
   "outputs": [],
   "source": [
    "def calculate_residual(Y, Yhat):\n",
    "    res = Y - Yhat\n",
    "    return res"
   ]
  },
  {
   "cell_type": "code",
   "execution_count": 46,
   "metadata": {},
   "outputs": [
    {
     "data": {
      "text/plain": [
       "0      174922.263959\n",
       "1      165932.263959\n",
       "2      165264.263959\n",
       "3      164837.263959\n",
       "4      152244.263959\n",
       "5      144223.263959\n",
       "6      143249.263959\n",
       "7      143142.263959\n",
       "8      139239.263959\n",
       "9      135207.263959\n",
       "10     133835.263959\n",
       "11     127894.263959\n",
       "12     127292.263959\n",
       "13     126642.263959\n",
       "14     125394.263959\n",
       "15     123444.263959\n",
       "16     120881.263959\n",
       "17     117894.263959\n",
       "18     114144.263959\n",
       "19     112514.263959\n",
       "20     112144.263959\n",
       "21     111462.263959\n",
       "22     111144.263959\n",
       "23     110044.263959\n",
       "24     109144.263959\n",
       "25     107504.263959\n",
       "26     106863.263959\n",
       "27     105144.263959\n",
       "28     102944.263959\n",
       "29     102144.263959\n",
       "           ...      \n",
       "955     25894.263959\n",
       "956     25826.263959\n",
       "957     24797.263959\n",
       "958     22644.263959\n",
       "959     22144.263959\n",
       "960     21144.263959\n",
       "961     18144.263959\n",
       "962     18123.263959\n",
       "963     15144.263959\n",
       "964     14350.263959\n",
       "965     14144.263959\n",
       "966     14144.263959\n",
       "967     14144.263959\n",
       "968     14144.263959\n",
       "969     11144.263959\n",
       "970     10144.263959\n",
       "971     10144.263959\n",
       "972      9892.263959\n",
       "973      9644.263959\n",
       "974      9144.263959\n",
       "975      6144.263959\n",
       "976      5117.263959\n",
       "977      4644.263959\n",
       "978      4144.263959\n",
       "979      4144.263959\n",
       "980      1719.263959\n",
       "981       144.263959\n",
       "982       855.736041\n",
       "983      1156.736041\n",
       "984      1593.736041\n",
       "Length: 985, dtype: float64"
      ]
     },
     "execution_count": 46,
     "metadata": {},
     "output_type": "execute_result"
    }
   ],
   "source": [
    "resi = calculate_residual(Y, Yhat)\n",
    "abs(resi)"
   ]
  },
  {
   "cell_type": "markdown",
   "metadata": {},
   "source": [
    "##### 2.5.D Find R-Square\n",
    "\n",
    "Write a function to calculate R- Square value."
   ]
  },
  {
   "cell_type": "markdown",
   "metadata": {},
   "source": [
    "The total sum of squares:\n",
    "\n",
    "### $$ SS_{tot} = \\sum_{i=1}^n \\left(y_i - \\bar{y}\\right)^2 $$\n",
    "\n",
    "The residual sum of squares:\n",
    "\n",
    "### $$ SS_{res} = \\sum_{i=1}^n \\left(y_i - \\hat{y}_i\\right)^2 $$\n",
    "\n",
    "$R^2$:\n",
    "\n",
    "### $$ R^2 = 1 - \\frac{SS_{res}}{SS_{tot}} $$"
   ]
  },
  {
   "cell_type": "code",
   "execution_count": 47,
   "metadata": {},
   "outputs": [],
   "source": [
    "def calculate_total_sum_of_square(Y):\n",
    "    Ybar = np.mean(Y)\n",
    "    SStot = np.square(Y - Ybar)\n",
    "    SStot = np.sum(SStot)\n",
    "    return SStot"
   ]
  },
  {
   "cell_type": "code",
   "execution_count": 48,
   "metadata": {},
   "outputs": [],
   "source": [
    "def calculate_residula_sum_of_square(Y, Yhat):\n",
    "    SSres = np.square(Y - Yhat)\n",
    "    SSres = np.sum(SSres)\n",
    "    return SSres"
   ]
  },
  {
   "cell_type": "code",
   "execution_count": 49,
   "metadata": {},
   "outputs": [],
   "source": [
    "def calculate_r_square(Y, Yhat):\n",
    "    SStot = calculate_total_sum_of_square(Y)\n",
    "    SSres = calculate_residula_sum_of_square(Y, Yhat)\n",
    "    Rsquare = 1 - (SSres/SStot)\n",
    "    return Rsquare"
   ]
  },
  {
   "cell_type": "code",
   "execution_count": 50,
   "metadata": {},
   "outputs": [
    {
     "data": {
      "text/plain": [
       "0.0"
      ]
     },
     "execution_count": 50,
     "metadata": {},
     "output_type": "execute_result"
    }
   ],
   "source": [
    "calculate_r_square(Y, np.mean(Y))"
   ]
  },
  {
   "cell_type": "code",
   "execution_count": 51,
   "metadata": {},
   "outputs": [
    {
     "data": {
      "text/plain": [
       "0.11148717682951459"
      ]
     },
     "execution_count": 51,
     "metadata": {},
     "output_type": "execute_result"
    }
   ],
   "source": [
    "calculate_r_square(Y, calculate_yhat(X, beta_0, beta_1))"
   ]
  },
  {
   "cell_type": "markdown",
   "metadata": {},
   "source": [
    "##### 2.5.G [BONUS] Draw Plot of Predicted Line"
   ]
  },
  {
   "cell_type": "code",
   "execution_count": 52,
   "metadata": {},
   "outputs": [
    {
     "data": {
      "image/png": "[encoded data removed]",
      "text/plain": [
       "<Figure size 1080x504 with 1 Axes>"
      ]
     },
     "metadata": {},
     "output_type": "display_data"
    }
   ],
   "source": [
    "draw_plot(X, Y, Yhat)"
   ]
  },
  {
   "cell_type": "markdown",
   "metadata": {},
   "source": [
    "##### 2.5.G [BONUS] Draw Plot of Predicted Line With Resudals"
   ]
  },
  {
   "cell_type": "code",
   "execution_count": 53,
   "metadata": {},
   "outputs": [],
   "source": [
    "data['Yhat'] = Yhat"
   ]
  },
  {
   "cell_type": "code",
   "execution_count": 54,
   "metadata": {},
   "outputs": [
    {
     "data": {
      "image/png": "[encoded data removed]",
      "text/plain": [
       "<Figure size 1080x576 with 1 Axes>"
      ]
     },
     "metadata": {},
     "output_type": "display_data"
    }
   ],
   "source": [
    "# create a figure\n",
    "fig = plt.figure(figsize=(15,7))\n",
    "fig.set_figheight(8)\n",
    "fig.set_figwidth(15)\n",
    "\n",
    "# get the axis\n",
    "ax = fig.gca()\n",
    "\n",
    "# plot it\n",
    "ax.scatter(x=X, y=Y, c='b')\n",
    "ax.plot(X, Yhat, color='r');\n",
    "\n",
    "# iterate over predictions\n",
    "for _, row in data.iterrows():\n",
    "    plt.plot((row['sq__ft'], row['sq__ft']), (row['price'], row['Yhat']), 'g-')"
   ]
  },
  {
   "cell_type": "markdown",
   "metadata": {},
   "source": [
    "### 3. Predict House Price\n",
    "\n",
    "Let's assume we have information of following house:\n",
    "\n",
    "- street:\t1140 EDMONTON DR\n",
    "- city:\tSACRAMENTO\n",
    "- zip:\t95833\n",
    "- state:\tCA\n",
    "- beds:\t3\n",
    "- baths:\t2\n",
    "- sq__ft:\t1204\n",
    "- type:\tResidential\n",
    "\n",
    "**Predict the price of this house.**"
   ]
  },
  {
   "cell_type": "code",
   "execution_count": 55,
   "metadata": {},
   "outputs": [
    {
     "data": {
      "text/plain": [
       "1204"
      ]
     },
     "execution_count": 55,
     "metadata": {},
     "output_type": "execute_result"
    }
   ],
   "source": [
    "# ANSWER\n",
    "xpred = 1204\n",
    "xpred"
   ]
  },
  {
   "cell_type": "code",
   "execution_count": 56,
   "metadata": {},
   "outputs": [
    {
     "data": {
      "text/plain": [
       "162930.16140699777"
      ]
     },
     "execution_count": 56,
     "metadata": {},
     "output_type": "execute_result"
    }
   ],
   "source": [
    "beta_0"
   ]
  },
  {
   "cell_type": "code",
   "execution_count": 57,
   "metadata": {},
   "outputs": [
    {
     "data": {
      "text/plain": [
       "54.158639688530755"
      ]
     },
     "execution_count": 57,
     "metadata": {},
     "output_type": "execute_result"
    }
   ],
   "source": [
    "beta_1"
   ]
  },
  {
   "cell_type": "code",
   "execution_count": 58,
   "metadata": {},
   "outputs": [
    {
     "data": {
      "text/plain": [
       "228137.1635919888"
      ]
     },
     "execution_count": 58,
     "metadata": {},
     "output_type": "execute_result"
    }
   ],
   "source": [
    "Ypred = beta_1 * xpred + beta_0\n",
    "Ypred"
   ]
  },
  {
   "cell_type": "markdown",
   "metadata": {},
   "source": [
    "#### 2.6 Find Coefficient and Intercept using Linear Regression\n",
    "\n",
    "Using LinearRegression of sklearn.linear_model package find Coefficient and Intercept."
   ]
  },
  {
   "cell_type": "code",
   "execution_count": 59,
   "metadata": {},
   "outputs": [],
   "source": [
    "from sklearn.linear_model import LinearRegression"
   ]
  },
  {
   "cell_type": "code",
   "execution_count": 60,
   "metadata": {},
   "outputs": [
    {
     "name": "stdout",
     "output_type": "stream",
     "text": [
      "[54.15863969] 162930.16140699777\n"
     ]
    }
   ],
   "source": [
    "# ANSWER\n",
    "\n",
    "X = data[['sq__ft']]\n",
    "Y = data['price']\n",
    "\n",
    "linreg = LinearRegression()\n",
    "linreg.fit(X, Y)\n",
    "\n",
    "print(linreg.coef_, linreg.intercept_)"
   ]
  },
  {
   "cell_type": "markdown",
   "metadata": {},
   "source": [
    "##### 2.6.2 Find R Score"
   ]
  },
  {
   "cell_type": "markdown",
   "metadata": {},
   "source": [
    "The coefficient R^2 is defined as (1 - u/v), where u is the residual sum of squares ((y_true - y_pred) ** 2).sum() and v is the total sum of squares ((y_true - y_true.mean()) ** 2).sum(). \n",
    "\n",
    "The best possible score is 1.0 and it can be negative (because the\n",
    "model can be arbitrarily worse)."
   ]
  },
  {
   "cell_type": "code",
   "execution_count": 61,
   "metadata": {},
   "outputs": [
    {
     "data": {
      "text/plain": [
       "0.11148717682951437"
      ]
     },
     "execution_count": 61,
     "metadata": {},
     "output_type": "execute_result"
    }
   ],
   "source": [
    "linreg.score(X, Y)"
   ]
  },
  {
   "cell_type": "markdown",
   "metadata": {},
   "source": [
    "### 3. Splitting Data"
   ]
  },
  {
   "cell_type": "code",
   "execution_count": 62,
   "metadata": {},
   "outputs": [],
   "source": [
    "from sklearn.model_selection import train_test_split"
   ]
  },
  {
   "cell_type": "markdown",
   "metadata": {},
   "source": [
    "#### 3.1 Create training and testing subsets\n",
    "\n",
    "Hint: Using `train_test_split` Library"
   ]
  },
  {
   "cell_type": "code",
   "execution_count": 63,
   "metadata": {},
   "outputs": [],
   "source": [
    "## Create training and testing subsets\n",
    "\n",
    "X_train, X_test, y_train, y_test = train_test_split(X, Y, test_size = 0.2)"
   ]
  },
  {
   "cell_type": "markdown",
   "metadata": {},
   "source": [
    "#### 3.2 Check Shape, Sample of Test Train Data"
   ]
  },
  {
   "cell_type": "code",
   "execution_count": 64,
   "metadata": {},
   "outputs": [
    {
     "name": "stdout",
     "output_type": "stream",
     "text": [
      "X_train is a <class 'pandas.core.frame.DataFrame'>\n",
      "X_train has %d rows (788, 1)\n",
      "\n",
      "Sample of X_train__________________________________________________\n",
      "     sq__ft\n",
      "226    1799\n",
      "554       0\n",
      "324       0\n",
      "818    2577\n",
      "316       0\n",
      "771       0\n",
      "749    1196\n",
      "722    2126\n",
      "443     756\n",
      "589       0\n",
      "\n",
      "y_train is a <class 'pandas.core.series.Series'>\n",
      "y_train has %d rows (788,)\n",
      "\n",
      "Sample of y_train__________________________________________________\n",
      "226    205000\n",
      "554      4897\n",
      "324    500500\n",
      "818    367463\n",
      "316    460000\n",
      "771    294000\n",
      "749    260000\n",
      "722    228750\n",
      "443    230522\n",
      "589      4897\n",
      "Name: price, dtype: int64\n"
     ]
    }
   ],
   "source": [
    "## Check training/test data\n",
    "\n",
    "# About training\n",
    "print('X_train is a %s' % type(X_train))\n",
    "print('X_train has %d rows', X_train.shape)\n",
    "print('')\n",
    "print('Sample of X_train%s' % ('_'*50))\n",
    "print(X_train[:10])\n",
    "\n",
    "print('')\n",
    "print('y_train is a %s' % type(y_train))\n",
    "print('y_train has %d rows', y_train.shape)\n",
    "print('')\n",
    "print('Sample of y_train%s' % ('_'*50))\n",
    "print(y_train[:10])"
   ]
  },
  {
   "cell_type": "code",
   "execution_count": 65,
   "metadata": {},
   "outputs": [
    {
     "name": "stdout",
     "output_type": "stream",
     "text": [
      "X_train is a <class 'pandas.core.frame.DataFrame'>\n",
      "X_train has %d rows (197, 1)\n",
      "\n",
      "Sample of X_train__________________________________________________\n",
      "     sq__ft\n",
      "523    1697\n",
      "806    1616\n",
      "739    1367\n",
      "780    1577\n",
      "468    1255\n",
      "649    1410\n",
      "67     1362\n",
      "747    1506\n",
      "354     625\n",
      "148    2687\n",
      "\n",
      "y_train is a <class 'pandas.core.series.Series'>\n",
      "y_train has %d rows (197,)\n",
      "\n",
      "Sample of y_train__________________________________________________\n",
      "523    400000\n",
      "806    335000\n",
      "739    249000\n",
      "780    300567\n",
      "468    260000\n",
      "649    160000\n",
      "67     194818\n",
      "747    255000\n",
      "354    100000\n",
      "148    460000\n",
      "Name: price, dtype: int64\n"
     ]
    }
   ],
   "source": [
    "## Check training/test data\n",
    "\n",
    "# About test\n",
    "print('X_train is a %s' % type(X_test))\n",
    "print('X_train has %d rows', X_test.shape)\n",
    "print('')\n",
    "print('Sample of X_train%s' % ('_'*50))\n",
    "print(X_test[:10])\n",
    "\n",
    "print('')\n",
    "print('y_train is a %s' % type(y_test))\n",
    "print('y_train has %d rows', y_test.shape)\n",
    "print('')\n",
    "print('Sample of y_train%s' % ('_'*50))\n",
    "print(y_test[:10])"
   ]
  },
  {
   "cell_type": "markdown",
   "metadata": {},
   "source": [
    "#### 3.3 Using Linear Regression Find The Score\n",
    "\n",
    "1. Fit model using X_train, y_train\n",
    "2. Find score using x_test, y_test"
   ]
  },
  {
   "cell_type": "code",
   "execution_count": 66,
   "metadata": {},
   "outputs": [
    {
     "name": "stdout",
     "output_type": "stream",
     "text": [
      "[49.19445421] 172832.96961684636\n"
     ]
    }
   ],
   "source": [
    "# ANSWER\n",
    "\n",
    "linreg = LinearRegression()\n",
    "linreg.fit(X_train, y_train)\n",
    "\n",
    "print(linreg.coef_, linreg.intercept_)"
   ]
  },
  {
   "cell_type": "code",
   "execution_count": 67,
   "metadata": {},
   "outputs": [
    {
     "data": {
      "text/plain": [
       "0.15964525177418454"
      ]
     },
     "execution_count": 67,
     "metadata": {},
     "output_type": "execute_result"
    }
   ],
   "source": [
    "linreg.score(X_test, y_test)"
   ]
  },
  {
   "cell_type": "markdown",
   "metadata": {},
   "source": [
    "#### 3.4 Using your model predict price of a house\n",
    "\n",
    "Let's assume we have house which have 1000 square feet. What is the predicted value of that house? Use your model."
   ]
  },
  {
   "cell_type": "code",
   "execution_count": 68,
   "metadata": {},
   "outputs": [
    {
     "name": "stdout",
     "output_type": "stream",
     "text": [
      "Predicted house price:  222027.42382392363\n"
     ]
    }
   ],
   "source": [
    "# ANSWER\n",
    "beta0 = linreg.intercept_\n",
    "beta1 = linreg.coef_\n",
    "x = 1000\n",
    "\n",
    "Ypred = beta1 * x + beta0\n",
    "print('Predicted house price: ', Ypred[0])"
   ]
  },
  {
   "cell_type": "code",
   "execution_count": 69,
   "metadata": {},
   "outputs": [
    {
     "name": "stdout",
     "output_type": "stream",
     "text": [
      "Predicted house price:  222027.42382392363\n"
     ]
    }
   ],
   "source": [
    "# ANSWER\n",
    "x = [[1000]]\n",
    "Ypred = linreg.predict(x)\n",
    "print('Predicted house price: ', Ypred[0])"
   ]
  },
  {
   "cell_type": "code",
   "execution_count": null,
   "metadata": {},
   "outputs": [],
   "source": []
  }
 ],
 "metadata": {
  "kernelspec": {
   "display_name": "Python 3",
   "language": "python",
   "name": "python3"
  },
  "language_info": {
   "codemirror_mode": {
    "name": "ipython",
    "version": 3
   },
   "file_extension": ".py",
   "mimetype": "text/x-python",
   "name": "python",
   "nbconvert_exporter": "python",
   "pygments_lexer": "ipython3",
   "version": "3.6.5"
  }
 },
 "nbformat": 4,
 "nbformat_minor": 2
}
